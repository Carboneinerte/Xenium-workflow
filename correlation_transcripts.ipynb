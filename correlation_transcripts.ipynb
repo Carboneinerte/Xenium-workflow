{
 "cells": [
  {
   "cell_type": "code",
   "execution_count": 7,
   "metadata": {},
   "outputs": [],
   "source": [
    "import pandas as pd"
   ]
  },
  {
   "cell_type": "code",
   "execution_count": null,
   "metadata": {},
   "outputs": [],
   "source": [
    "dir_notebook = '/media/volume/volume_spatial/hugo/notebook'\n",
    "\n",
    "# # ### circa2_\n",
    "samples = ['circa2-ZT01','circa2-ZT05','circa2-ZT09','circa2-ZT13','circa2-ZT17','circa2-ZT21']\n",
    "samples_ids = ['circa2_ZT01','circa2_ZT05','circa2_ZT09','circa2_ZT13','circa2_ZT17','circa2_ZT21',]\n",
    "name_dir = 'circa2'\n",
    "\n",
    "# samples = [\"S1_Region1\", \"S1_Region2\", \"S2_Region1\",\"S2_Region2\"]\n",
    "# samples_ids = [\"S1-Region1\", \"S1-Region2\", \"S2-Region1\",\"S2-Region2\"]\n",
    "# name_dir = \"last_test\"\n",
    "\n",
    "# dir_ = {'circa2-ZT01' : \"/media/volume/volume_spatial/hugo/data\",\n",
    "#         'circa2-ZT05' : \"/media/volume/volume_spatial/hugo/data\",\n",
    "#         'circa2-ZT09' : \"/media/volume/volume_spatial/hugo/data\",\n",
    "#         'circa2-ZT13' : \"/media/volume/volume_spatial/hugo/data\",\n",
    "#         'circa2-ZT17' : \"/media/volume/volume_spatial/hugo/data\",\n",
    "#         'circa2-ZT21' : \"/media/volume/volume_spatial/hugo/data\",\n",
    "#         \"S1_Region1\" : '/media/volume/volume_spatial/hugo/data',\n",
    "#         \"S1_Region2\" : '/media/volume/volume_spatial/hugo/data',\n",
    "#         \"S2_Region1\" : '/media/volume/volume_spatial/hugo/data',\n",
    "#         \"S2_Region2\" : '/media/volume/volume_spatial/hugo/data',\n",
    "#         \"3159-1\" : '/media/volume/volume_spatial/hugo/data',\n",
    "#         \"3160-1\" : '/media/volume/volume_spatial/hugo/data'\n",
    "#        }\n",
    "\n",
    "dir_ = \"/media/volume/volume_spatial/hugo/data\""
   ]
  },
  {
   "cell_type": "code",
   "execution_count": 1,
   "metadata": {},
   "outputs": [],
   "source": [
    "import pandas as pd\n",
    "# samples = ['circa2-ZT01','circa2-ZT05','circa2-ZT09','circa2-ZT13','circa2-ZT17','circa2-ZT21']\n",
    "# samples_ids = ['circa2_ZT01','circa2_ZT05','circa2_ZT09','circa2_ZT13','circa2_ZT17','circa2_ZT21',]\n",
    "\n",
    "# samples = ['3159-2', \"3160-1\", \"3159-1\", \"3161-1\",]\n",
    "# samples_ids = ['3159-2', \"3160-1\", \"3159-1\", \"3161-1\",]\n",
    "\n",
    "samples_ids = ['circa4-Salk-ZT01','circa4-Salk-ZT05','circa4-Salk-ZT09',\n",
    "               'circa4-Salk-ZT13','circa4-Salk-ZT17','circa4-Salk-ZT21',\n",
    "               'circa4-IGM-ZT01','circa4-IGM-ZT05','circa4-IGM-ZT09',\n",
    "               'circa4-IGM-ZT13','circa4-IGM-ZT17','circa4-IGM-ZT21',]\n",
    "\n",
    "samples = ['circa4-Salk-ZT01','circa4-Salk-ZT05','circa4-Salk-ZT09',\n",
    "               'circa4-Salk-ZT13','circa4-Salk-ZT17','circa4-Salk-ZT21',\n",
    "               'circa4-IGM-ZT01','circa4-IGM-ZT05','circa4-IGM-ZT09',\n",
    "               'circa4-IGM-ZT13','circa4-IGM-ZT17','circa4-IGM-ZT21',]\n",
    "\n",
    "### create a scanpy objects for each sample and create a unique cell name for each cell\n",
    "def top_genes_():\n",
    "    list_ = []\n",
    "    for sample, sample_id in zip(samples, samples_ids):\n",
    "        transcript_count = pd.read_parquet(f'{dir_}/{sample}/transcripts.parquet')\n",
    "\n",
    "        transcript_count = transcript_count[(~transcript_count['feature_name'].str.contains('_')) & (transcript_count['qv']>=20)]\n",
    "        transcript_count = transcript_count['feature_name'].value_counts()\n",
    "        transcript_count = transcript_count.sort_index()\n",
    "        list_.append(transcript_count)\n",
    "\n",
    "    return list_\n",
    "        "
   ]
  },
  {
   "cell_type": "code",
   "execution_count": null,
   "metadata": {},
   "outputs": [],
   "source": [
    "test = top_genes_()"
   ]
  },
  {
   "cell_type": "code",
   "execution_count": null,
   "metadata": {},
   "outputs": [],
   "source": [
    "from scipy import stats\n",
    "\n",
    "ref = 9\n",
    "\n",
    "def spearcor_(test_list):\n",
    "    nb_sample = len(test_list)\n",
    "    dict_list = {}\n",
    "    for n in range(0,nb_sample):\n",
    "        stat_ = stats.pearsonr(x=test_list[ref].sort_index(), y = test_list[n].sort_index())\n",
    "        dict_temp = {samples[n]:round(stat_[0],3)}\n",
    "        dict_list.update(dict_temp)\n",
    "\n",
    "    return dict_list"
   ]
  },
  {
   "cell_type": "code",
   "execution_count": null,
   "metadata": {},
   "outputs": [],
   "source": [
    "dict_list = spearcor_(test)"
   ]
  },
  {
   "cell_type": "code",
   "execution_count": null,
   "metadata": {},
   "outputs": [],
   "source": [
    "dict_list"
   ]
  },
  {
   "cell_type": "code",
   "execution_count": null,
   "metadata": {},
   "outputs": [],
   "source": [
    "import matplotlib.pyplot as plt\n",
    "def plot_coor(dict_list):\n",
    "    x = list(dict_list.keys())\n",
    "    y = list(dict_list.values())\n",
    "    low = min(y) - 0.05\n",
    "    high = max(y) + 0.05\n",
    "    plt.bar(x,y, color = \"lightblue\", edgecolor = 'black')\n",
    "    plt.ylim(low,high)\n",
    "    plt.hlines(y=1, xmin=-0.5,xmax=12.5, linestyles='dashed', colors = 'black')\n",
    "    plt.title(f'Spearman correlation of genes order compared to {samples_ids[ref]}')\n",
    "    plt.tick_params(axis = \"x\", rotation=90, pad = -90, direction = \"in\")\n",
    "    plt.savefig(f'plot/spearman_correlation_ref_{samples_ids[ref]}.svg')"
   ]
  },
  {
   "cell_type": "code",
   "execution_count": null,
   "metadata": {},
   "outputs": [],
   "source": [
    "plot_coor(dict_list)"
   ]
  },
  {
   "cell_type": "code",
   "execution_count": null,
   "metadata": {},
   "outputs": [],
   "source": [
    "transcript_count.shape"
   ]
  },
  {
   "cell_type": "code",
   "execution_count": null,
   "metadata": {},
   "outputs": [],
   "source": [
    "transcript_count = transcript_count[(~transcript_count['feature_name'].str.contains('_')) & (transcript_count['qv']>=20)]"
   ]
  },
  {
   "cell_type": "code",
   "execution_count": null,
   "metadata": {},
   "outputs": [],
   "source": [
    "transcript_count.shape"
   ]
  },
  {
   "cell_type": "code",
   "execution_count": null,
   "metadata": {},
   "outputs": [],
   "source": [
    "transcript_count_values = transcript_count['feature_name'].value_counts()"
   ]
  },
  {
   "cell_type": "code",
   "execution_count": null,
   "metadata": {},
   "outputs": [],
   "source": [
    "transcript_count_values_top300 = transcript_count_values[0:300].index"
   ]
  },
  {
   "cell_type": "code",
   "execution_count": null,
   "metadata": {},
   "outputs": [],
   "source": [
    "globals()[\"transcript_\"+str(sample_ids)] = transcript_count_values_top300"
   ]
  },
  {
   "cell_type": "code",
   "execution_count": null,
   "metadata": {},
   "outputs": [],
   "source": [
    "transcript_circa2_ZT01"
   ]
  },
  {
   "cell_type": "markdown",
   "metadata": {},
   "source": [
    "### Matrix"
   ]
  },
  {
   "cell_type": "code",
   "execution_count": 54,
   "metadata": {},
   "outputs": [],
   "source": [
    "samples = samples_ids = ['circa2-ZT01','circa2-ZT05','circa2-ZT09',\n",
    "                         'circa2-ZT13','circa2-ZT17','circa2-ZT21',\n",
    "                         'circa4-Salk-ZT01','circa4-Salk-ZT05','circa4-Salk-ZT09',\n",
    "                         'circa4-Salk-ZT13','circa4-Salk-ZT17','circa4-Salk-ZT21',\n",
    "                         'circa4-IGM-ZT01','circa4-IGM-ZT05','circa4-IGM-ZT09',\n",
    "                         'circa4-IGM-ZT13','circa4-IGM-ZT17','circa4-IGM-ZT21',]\n",
    "\n",
    "\n",
    "name_dir = 'circa2'\n",
    "dir_ = \"/media/volume/volume_spatial/hugo/data\""
   ]
  },
  {
   "cell_type": "code",
   "execution_count": 55,
   "metadata": {},
   "outputs": [],
   "source": [
    "import numpy as np\n",
    "import pandas as pd\n",
    "\n",
    "d = {}\n",
    "\n",
    "for sample in samples:\n",
    "    d_temp = {sample : np.zeros(len(samples))}\n",
    "    d.update(d_temp)\n",
    "\n",
    "df = pd.DataFrame(d, index = samples)"
   ]
  },
  {
   "cell_type": "code",
   "execution_count": 56,
   "metadata": {},
   "outputs": [],
   "source": [
    "def top_genes_():\n",
    "    list_ = []\n",
    "    for sample, sample_id in zip(samples, samples_ids):\n",
    "        transcript_count = pd.read_parquet(f'{dir_}/{sample}/transcripts.parquet')\n",
    "\n",
    "        transcript_count = transcript_count[(~transcript_count['feature_name'].str.contains('_')) & (transcript_count['qv']>=20)]\n",
    "        transcript_count = transcript_count['feature_name'].value_counts()\n",
    "        transcript_count = transcript_count.sort_index()\n",
    "        list_.append(transcript_count)\n",
    "\n",
    "    return list_\n",
    "\n",
    "\n",
    "def spearcor_(test_list):\n",
    "    nb_sample = len(test_list)\n",
    "    dict_list = {}\n",
    "    for n in range(0,nb_sample):\n",
    "        stat_ = stats.pearsonr(x=test_list[ref].sort_index(), y = test_list[n].sort_index())\n",
    "        dict_temp = {samples[n]:round(stat_[0],3)}\n",
    "        dict_list.update(dict_temp)\n",
    "    return dict_list"
   ]
  },
  {
   "cell_type": "code",
   "execution_count": 57,
   "metadata": {},
   "outputs": [
    {
     "ename": "",
     "evalue": "",
     "output_type": "error",
     "traceback": [
      "\u001b[1;31mThe Kernel crashed while executing code in the current cell or a previous cell. \n",
      "\u001b[1;31mPlease review the code in the cell(s) to identify a possible cause of the failure. \n",
      "\u001b[1;31mClick <a href='https://aka.ms/vscodeJupyterKernelCrash'>here</a> for more info. \n",
      "\u001b[1;31mView Jupyter <a href='command:jupyter.viewOutput'>log</a> for further details."
     ]
    }
   ],
   "source": [
    "test_list = top_genes_()"
   ]
  },
  {
   "cell_type": "code",
   "execution_count": null,
   "metadata": {},
   "outputs": [],
   "source": [
    "test_list[0]"
   ]
  },
  {
   "cell_type": "code",
   "execution_count": null,
   "metadata": {},
   "outputs": [],
   "source": [
    "a=0\n",
    "for sample_ref in samples:\n",
    "   b=0\n",
    "   for sample_test in samples:\n",
    "     if len(test_list[a]) == len(test_list[b]):\n",
    "      stat_ = stats.pearsonr(x=test_list[a].sort_index(), y = test_list[b].sort_index())\n",
    "     else:\n",
    "      CTRL_genes = set(test_list[a].index)\n",
    "      TEST_genes = set(test_list[b].index)\n",
    "      common_genes_list = list(CTRL_genes.intersection(TEST_genes))\n",
    "      temp_CTRL = []\n",
    "      temp_TEST = []\n",
    "      for gene in common_genes_list:\n",
    "          temp_CTRL.append(test_list[a][gene])\n",
    "          temp_TEST.append(test_list[b][gene])\n",
    "      stat_ = stats.pearsonr(x=temp_CTRL, y = temp_TEST)\n",
    "    \n",
    "     df[sample_ref][sample_test] = round(stat_[0],3)\n",
    "     b+=1\n",
    "     \n",
    "   a+=1\n",
    "\n",
    "        "
   ]
  },
  {
   "cell_type": "code",
   "execution_count": null,
   "metadata": {},
   "outputs": [
    {
     "data": {
      "text/html": [
       "<div>\n",
       "<style scoped>\n",
       "    .dataframe tbody tr th:only-of-type {\n",
       "        vertical-align: middle;\n",
       "    }\n",
       "\n",
       "    .dataframe tbody tr th {\n",
       "        vertical-align: top;\n",
       "    }\n",
       "\n",
       "    .dataframe thead th {\n",
       "        text-align: right;\n",
       "    }\n",
       "</style>\n",
       "<table border=\"1\" class=\"dataframe\">\n",
       "  <thead>\n",
       "    <tr style=\"text-align: right;\">\n",
       "      <th></th>\n",
       "      <th>circa2-ZT01</th>\n",
       "      <th>circa2-ZT05</th>\n",
       "      <th>circa2-ZT09</th>\n",
       "      <th>circa2-ZT13</th>\n",
       "      <th>circa2-ZT17</th>\n",
       "      <th>circa2-ZT21</th>\n",
       "      <th>circa4-Salk-ZT01</th>\n",
       "      <th>circa4-Salk-ZT05</th>\n",
       "      <th>circa4-Salk-ZT09</th>\n",
       "      <th>circa4-Salk-ZT13</th>\n",
       "      <th>circa4-Salk-ZT17</th>\n",
       "      <th>circa4-Salk-ZT21</th>\n",
       "      <th>circa4-IGM-ZT01</th>\n",
       "      <th>circa4-IGM-ZT05</th>\n",
       "      <th>circa4-IGM-ZT09</th>\n",
       "      <th>circa4-IGM-ZT13</th>\n",
       "      <th>circa4-IGM-ZT17</th>\n",
       "      <th>circa4-IGM-ZT21</th>\n",
       "    </tr>\n",
       "  </thead>\n",
       "  <tbody>\n",
       "    <tr>\n",
       "      <th>circa2-ZT01</th>\n",
       "      <td>0.0</td>\n",
       "      <td>0.0</td>\n",
       "      <td>0.0</td>\n",
       "      <td>0.0</td>\n",
       "      <td>0.0</td>\n",
       "      <td>0.0</td>\n",
       "      <td>0.0</td>\n",
       "      <td>0.0</td>\n",
       "      <td>0.0</td>\n",
       "      <td>0.0</td>\n",
       "      <td>0.0</td>\n",
       "      <td>0.0</td>\n",
       "      <td>0.0</td>\n",
       "      <td>0.0</td>\n",
       "      <td>0.0</td>\n",
       "      <td>0.0</td>\n",
       "      <td>0.0</td>\n",
       "      <td>0.0</td>\n",
       "    </tr>\n",
       "    <tr>\n",
       "      <th>circa2-ZT05</th>\n",
       "      <td>0.0</td>\n",
       "      <td>0.0</td>\n",
       "      <td>0.0</td>\n",
       "      <td>0.0</td>\n",
       "      <td>0.0</td>\n",
       "      <td>0.0</td>\n",
       "      <td>0.0</td>\n",
       "      <td>0.0</td>\n",
       "      <td>0.0</td>\n",
       "      <td>0.0</td>\n",
       "      <td>0.0</td>\n",
       "      <td>0.0</td>\n",
       "      <td>0.0</td>\n",
       "      <td>0.0</td>\n",
       "      <td>0.0</td>\n",
       "      <td>0.0</td>\n",
       "      <td>0.0</td>\n",
       "      <td>0.0</td>\n",
       "    </tr>\n",
       "    <tr>\n",
       "      <th>circa2-ZT09</th>\n",
       "      <td>0.0</td>\n",
       "      <td>0.0</td>\n",
       "      <td>0.0</td>\n",
       "      <td>0.0</td>\n",
       "      <td>0.0</td>\n",
       "      <td>0.0</td>\n",
       "      <td>0.0</td>\n",
       "      <td>0.0</td>\n",
       "      <td>0.0</td>\n",
       "      <td>0.0</td>\n",
       "      <td>0.0</td>\n",
       "      <td>0.0</td>\n",
       "      <td>0.0</td>\n",
       "      <td>0.0</td>\n",
       "      <td>0.0</td>\n",
       "      <td>0.0</td>\n",
       "      <td>0.0</td>\n",
       "      <td>0.0</td>\n",
       "    </tr>\n",
       "    <tr>\n",
       "      <th>circa2-ZT13</th>\n",
       "      <td>0.0</td>\n",
       "      <td>0.0</td>\n",
       "      <td>0.0</td>\n",
       "      <td>0.0</td>\n",
       "      <td>0.0</td>\n",
       "      <td>0.0</td>\n",
       "      <td>0.0</td>\n",
       "      <td>0.0</td>\n",
       "      <td>0.0</td>\n",
       "      <td>0.0</td>\n",
       "      <td>0.0</td>\n",
       "      <td>0.0</td>\n",
       "      <td>0.0</td>\n",
       "      <td>0.0</td>\n",
       "      <td>0.0</td>\n",
       "      <td>0.0</td>\n",
       "      <td>0.0</td>\n",
       "      <td>0.0</td>\n",
       "    </tr>\n",
       "    <tr>\n",
       "      <th>circa2-ZT17</th>\n",
       "      <td>0.0</td>\n",
       "      <td>0.0</td>\n",
       "      <td>0.0</td>\n",
       "      <td>0.0</td>\n",
       "      <td>0.0</td>\n",
       "      <td>0.0</td>\n",
       "      <td>0.0</td>\n",
       "      <td>0.0</td>\n",
       "      <td>0.0</td>\n",
       "      <td>0.0</td>\n",
       "      <td>0.0</td>\n",
       "      <td>0.0</td>\n",
       "      <td>0.0</td>\n",
       "      <td>0.0</td>\n",
       "      <td>0.0</td>\n",
       "      <td>0.0</td>\n",
       "      <td>0.0</td>\n",
       "      <td>0.0</td>\n",
       "    </tr>\n",
       "    <tr>\n",
       "      <th>circa2-ZT21</th>\n",
       "      <td>0.0</td>\n",
       "      <td>0.0</td>\n",
       "      <td>0.0</td>\n",
       "      <td>0.0</td>\n",
       "      <td>0.0</td>\n",
       "      <td>0.0</td>\n",
       "      <td>0.0</td>\n",
       "      <td>0.0</td>\n",
       "      <td>0.0</td>\n",
       "      <td>0.0</td>\n",
       "      <td>0.0</td>\n",
       "      <td>0.0</td>\n",
       "      <td>0.0</td>\n",
       "      <td>0.0</td>\n",
       "      <td>0.0</td>\n",
       "      <td>0.0</td>\n",
       "      <td>0.0</td>\n",
       "      <td>0.0</td>\n",
       "    </tr>\n",
       "    <tr>\n",
       "      <th>circa4-Salk-ZT01</th>\n",
       "      <td>0.0</td>\n",
       "      <td>0.0</td>\n",
       "      <td>0.0</td>\n",
       "      <td>0.0</td>\n",
       "      <td>0.0</td>\n",
       "      <td>0.0</td>\n",
       "      <td>0.0</td>\n",
       "      <td>0.0</td>\n",
       "      <td>0.0</td>\n",
       "      <td>0.0</td>\n",
       "      <td>0.0</td>\n",
       "      <td>0.0</td>\n",
       "      <td>0.0</td>\n",
       "      <td>0.0</td>\n",
       "      <td>0.0</td>\n",
       "      <td>0.0</td>\n",
       "      <td>0.0</td>\n",
       "      <td>0.0</td>\n",
       "    </tr>\n",
       "    <tr>\n",
       "      <th>circa4-Salk-ZT05</th>\n",
       "      <td>0.0</td>\n",
       "      <td>0.0</td>\n",
       "      <td>0.0</td>\n",
       "      <td>0.0</td>\n",
       "      <td>0.0</td>\n",
       "      <td>0.0</td>\n",
       "      <td>0.0</td>\n",
       "      <td>0.0</td>\n",
       "      <td>0.0</td>\n",
       "      <td>0.0</td>\n",
       "      <td>0.0</td>\n",
       "      <td>0.0</td>\n",
       "      <td>0.0</td>\n",
       "      <td>0.0</td>\n",
       "      <td>0.0</td>\n",
       "      <td>0.0</td>\n",
       "      <td>0.0</td>\n",
       "      <td>0.0</td>\n",
       "    </tr>\n",
       "    <tr>\n",
       "      <th>circa4-Salk-ZT09</th>\n",
       "      <td>0.0</td>\n",
       "      <td>0.0</td>\n",
       "      <td>0.0</td>\n",
       "      <td>0.0</td>\n",
       "      <td>0.0</td>\n",
       "      <td>0.0</td>\n",
       "      <td>0.0</td>\n",
       "      <td>0.0</td>\n",
       "      <td>0.0</td>\n",
       "      <td>0.0</td>\n",
       "      <td>0.0</td>\n",
       "      <td>0.0</td>\n",
       "      <td>0.0</td>\n",
       "      <td>0.0</td>\n",
       "      <td>0.0</td>\n",
       "      <td>0.0</td>\n",
       "      <td>0.0</td>\n",
       "      <td>0.0</td>\n",
       "    </tr>\n",
       "    <tr>\n",
       "      <th>circa4-Salk-ZT13</th>\n",
       "      <td>0.0</td>\n",
       "      <td>0.0</td>\n",
       "      <td>0.0</td>\n",
       "      <td>0.0</td>\n",
       "      <td>0.0</td>\n",
       "      <td>0.0</td>\n",
       "      <td>0.0</td>\n",
       "      <td>0.0</td>\n",
       "      <td>0.0</td>\n",
       "      <td>0.0</td>\n",
       "      <td>0.0</td>\n",
       "      <td>0.0</td>\n",
       "      <td>0.0</td>\n",
       "      <td>0.0</td>\n",
       "      <td>0.0</td>\n",
       "      <td>0.0</td>\n",
       "      <td>0.0</td>\n",
       "      <td>0.0</td>\n",
       "    </tr>\n",
       "    <tr>\n",
       "      <th>circa4-Salk-ZT17</th>\n",
       "      <td>0.0</td>\n",
       "      <td>0.0</td>\n",
       "      <td>0.0</td>\n",
       "      <td>0.0</td>\n",
       "      <td>0.0</td>\n",
       "      <td>0.0</td>\n",
       "      <td>0.0</td>\n",
       "      <td>0.0</td>\n",
       "      <td>0.0</td>\n",
       "      <td>0.0</td>\n",
       "      <td>0.0</td>\n",
       "      <td>0.0</td>\n",
       "      <td>0.0</td>\n",
       "      <td>0.0</td>\n",
       "      <td>0.0</td>\n",
       "      <td>0.0</td>\n",
       "      <td>0.0</td>\n",
       "      <td>0.0</td>\n",
       "    </tr>\n",
       "    <tr>\n",
       "      <th>circa4-Salk-ZT21</th>\n",
       "      <td>0.0</td>\n",
       "      <td>0.0</td>\n",
       "      <td>0.0</td>\n",
       "      <td>0.0</td>\n",
       "      <td>0.0</td>\n",
       "      <td>0.0</td>\n",
       "      <td>0.0</td>\n",
       "      <td>0.0</td>\n",
       "      <td>0.0</td>\n",
       "      <td>0.0</td>\n",
       "      <td>0.0</td>\n",
       "      <td>0.0</td>\n",
       "      <td>0.0</td>\n",
       "      <td>0.0</td>\n",
       "      <td>0.0</td>\n",
       "      <td>0.0</td>\n",
       "      <td>0.0</td>\n",
       "      <td>0.0</td>\n",
       "    </tr>\n",
       "    <tr>\n",
       "      <th>circa4-IGM-ZT01</th>\n",
       "      <td>0.0</td>\n",
       "      <td>0.0</td>\n",
       "      <td>0.0</td>\n",
       "      <td>0.0</td>\n",
       "      <td>0.0</td>\n",
       "      <td>0.0</td>\n",
       "      <td>0.0</td>\n",
       "      <td>0.0</td>\n",
       "      <td>0.0</td>\n",
       "      <td>0.0</td>\n",
       "      <td>0.0</td>\n",
       "      <td>0.0</td>\n",
       "      <td>0.0</td>\n",
       "      <td>0.0</td>\n",
       "      <td>0.0</td>\n",
       "      <td>0.0</td>\n",
       "      <td>0.0</td>\n",
       "      <td>0.0</td>\n",
       "    </tr>\n",
       "    <tr>\n",
       "      <th>circa4-IGM-ZT05</th>\n",
       "      <td>0.0</td>\n",
       "      <td>0.0</td>\n",
       "      <td>0.0</td>\n",
       "      <td>0.0</td>\n",
       "      <td>0.0</td>\n",
       "      <td>0.0</td>\n",
       "      <td>0.0</td>\n",
       "      <td>0.0</td>\n",
       "      <td>0.0</td>\n",
       "      <td>0.0</td>\n",
       "      <td>0.0</td>\n",
       "      <td>0.0</td>\n",
       "      <td>0.0</td>\n",
       "      <td>0.0</td>\n",
       "      <td>0.0</td>\n",
       "      <td>0.0</td>\n",
       "      <td>0.0</td>\n",
       "      <td>0.0</td>\n",
       "    </tr>\n",
       "    <tr>\n",
       "      <th>circa4-IGM-ZT09</th>\n",
       "      <td>0.0</td>\n",
       "      <td>0.0</td>\n",
       "      <td>0.0</td>\n",
       "      <td>0.0</td>\n",
       "      <td>0.0</td>\n",
       "      <td>0.0</td>\n",
       "      <td>0.0</td>\n",
       "      <td>0.0</td>\n",
       "      <td>0.0</td>\n",
       "      <td>0.0</td>\n",
       "      <td>0.0</td>\n",
       "      <td>0.0</td>\n",
       "      <td>0.0</td>\n",
       "      <td>0.0</td>\n",
       "      <td>0.0</td>\n",
       "      <td>0.0</td>\n",
       "      <td>0.0</td>\n",
       "      <td>0.0</td>\n",
       "    </tr>\n",
       "    <tr>\n",
       "      <th>circa4-IGM-ZT13</th>\n",
       "      <td>0.0</td>\n",
       "      <td>0.0</td>\n",
       "      <td>0.0</td>\n",
       "      <td>0.0</td>\n",
       "      <td>0.0</td>\n",
       "      <td>0.0</td>\n",
       "      <td>0.0</td>\n",
       "      <td>0.0</td>\n",
       "      <td>0.0</td>\n",
       "      <td>0.0</td>\n",
       "      <td>0.0</td>\n",
       "      <td>0.0</td>\n",
       "      <td>0.0</td>\n",
       "      <td>0.0</td>\n",
       "      <td>0.0</td>\n",
       "      <td>0.0</td>\n",
       "      <td>0.0</td>\n",
       "      <td>0.0</td>\n",
       "    </tr>\n",
       "    <tr>\n",
       "      <th>circa4-IGM-ZT17</th>\n",
       "      <td>0.0</td>\n",
       "      <td>0.0</td>\n",
       "      <td>0.0</td>\n",
       "      <td>0.0</td>\n",
       "      <td>0.0</td>\n",
       "      <td>0.0</td>\n",
       "      <td>0.0</td>\n",
       "      <td>0.0</td>\n",
       "      <td>0.0</td>\n",
       "      <td>0.0</td>\n",
       "      <td>0.0</td>\n",
       "      <td>0.0</td>\n",
       "      <td>0.0</td>\n",
       "      <td>0.0</td>\n",
       "      <td>0.0</td>\n",
       "      <td>0.0</td>\n",
       "      <td>0.0</td>\n",
       "      <td>0.0</td>\n",
       "    </tr>\n",
       "    <tr>\n",
       "      <th>circa4-IGM-ZT21</th>\n",
       "      <td>0.0</td>\n",
       "      <td>0.0</td>\n",
       "      <td>0.0</td>\n",
       "      <td>0.0</td>\n",
       "      <td>0.0</td>\n",
       "      <td>0.0</td>\n",
       "      <td>0.0</td>\n",
       "      <td>0.0</td>\n",
       "      <td>0.0</td>\n",
       "      <td>0.0</td>\n",
       "      <td>0.0</td>\n",
       "      <td>0.0</td>\n",
       "      <td>0.0</td>\n",
       "      <td>0.0</td>\n",
       "      <td>0.0</td>\n",
       "      <td>0.0</td>\n",
       "      <td>0.0</td>\n",
       "      <td>0.0</td>\n",
       "    </tr>\n",
       "  </tbody>\n",
       "</table>\n",
       "</div>"
      ],
      "text/plain": [
       "                  circa2-ZT01  circa2-ZT05  circa2-ZT09  circa2-ZT13  \\\n",
       "circa2-ZT01               0.0          0.0          0.0          0.0   \n",
       "circa2-ZT05               0.0          0.0          0.0          0.0   \n",
       "circa2-ZT09               0.0          0.0          0.0          0.0   \n",
       "circa2-ZT13               0.0          0.0          0.0          0.0   \n",
       "circa2-ZT17               0.0          0.0          0.0          0.0   \n",
       "circa2-ZT21               0.0          0.0          0.0          0.0   \n",
       "circa4-Salk-ZT01          0.0          0.0          0.0          0.0   \n",
       "circa4-Salk-ZT05          0.0          0.0          0.0          0.0   \n",
       "circa4-Salk-ZT09          0.0          0.0          0.0          0.0   \n",
       "circa4-Salk-ZT13          0.0          0.0          0.0          0.0   \n",
       "circa4-Salk-ZT17          0.0          0.0          0.0          0.0   \n",
       "circa4-Salk-ZT21          0.0          0.0          0.0          0.0   \n",
       "circa4-IGM-ZT01           0.0          0.0          0.0          0.0   \n",
       "circa4-IGM-ZT05           0.0          0.0          0.0          0.0   \n",
       "circa4-IGM-ZT09           0.0          0.0          0.0          0.0   \n",
       "circa4-IGM-ZT13           0.0          0.0          0.0          0.0   \n",
       "circa4-IGM-ZT17           0.0          0.0          0.0          0.0   \n",
       "circa4-IGM-ZT21           0.0          0.0          0.0          0.0   \n",
       "\n",
       "                  circa2-ZT17  circa2-ZT21  circa4-Salk-ZT01  \\\n",
       "circa2-ZT01               0.0          0.0               0.0   \n",
       "circa2-ZT05               0.0          0.0               0.0   \n",
       "circa2-ZT09               0.0          0.0               0.0   \n",
       "circa2-ZT13               0.0          0.0               0.0   \n",
       "circa2-ZT17               0.0          0.0               0.0   \n",
       "circa2-ZT21               0.0          0.0               0.0   \n",
       "circa4-Salk-ZT01          0.0          0.0               0.0   \n",
       "circa4-Salk-ZT05          0.0          0.0               0.0   \n",
       "circa4-Salk-ZT09          0.0          0.0               0.0   \n",
       "circa4-Salk-ZT13          0.0          0.0               0.0   \n",
       "circa4-Salk-ZT17          0.0          0.0               0.0   \n",
       "circa4-Salk-ZT21          0.0          0.0               0.0   \n",
       "circa4-IGM-ZT01           0.0          0.0               0.0   \n",
       "circa4-IGM-ZT05           0.0          0.0               0.0   \n",
       "circa4-IGM-ZT09           0.0          0.0               0.0   \n",
       "circa4-IGM-ZT13           0.0          0.0               0.0   \n",
       "circa4-IGM-ZT17           0.0          0.0               0.0   \n",
       "circa4-IGM-ZT21           0.0          0.0               0.0   \n",
       "\n",
       "                  circa4-Salk-ZT05  circa4-Salk-ZT09  circa4-Salk-ZT13  \\\n",
       "circa2-ZT01                    0.0               0.0               0.0   \n",
       "circa2-ZT05                    0.0               0.0               0.0   \n",
       "circa2-ZT09                    0.0               0.0               0.0   \n",
       "circa2-ZT13                    0.0               0.0               0.0   \n",
       "circa2-ZT17                    0.0               0.0               0.0   \n",
       "circa2-ZT21                    0.0               0.0               0.0   \n",
       "circa4-Salk-ZT01               0.0               0.0               0.0   \n",
       "circa4-Salk-ZT05               0.0               0.0               0.0   \n",
       "circa4-Salk-ZT09               0.0               0.0               0.0   \n",
       "circa4-Salk-ZT13               0.0               0.0               0.0   \n",
       "circa4-Salk-ZT17               0.0               0.0               0.0   \n",
       "circa4-Salk-ZT21               0.0               0.0               0.0   \n",
       "circa4-IGM-ZT01                0.0               0.0               0.0   \n",
       "circa4-IGM-ZT05                0.0               0.0               0.0   \n",
       "circa4-IGM-ZT09                0.0               0.0               0.0   \n",
       "circa4-IGM-ZT13                0.0               0.0               0.0   \n",
       "circa4-IGM-ZT17                0.0               0.0               0.0   \n",
       "circa4-IGM-ZT21                0.0               0.0               0.0   \n",
       "\n",
       "                  circa4-Salk-ZT17  circa4-Salk-ZT21  circa4-IGM-ZT01  \\\n",
       "circa2-ZT01                    0.0               0.0              0.0   \n",
       "circa2-ZT05                    0.0               0.0              0.0   \n",
       "circa2-ZT09                    0.0               0.0              0.0   \n",
       "circa2-ZT13                    0.0               0.0              0.0   \n",
       "circa2-ZT17                    0.0               0.0              0.0   \n",
       "circa2-ZT21                    0.0               0.0              0.0   \n",
       "circa4-Salk-ZT01               0.0               0.0              0.0   \n",
       "circa4-Salk-ZT05               0.0               0.0              0.0   \n",
       "circa4-Salk-ZT09               0.0               0.0              0.0   \n",
       "circa4-Salk-ZT13               0.0               0.0              0.0   \n",
       "circa4-Salk-ZT17               0.0               0.0              0.0   \n",
       "circa4-Salk-ZT21               0.0               0.0              0.0   \n",
       "circa4-IGM-ZT01                0.0               0.0              0.0   \n",
       "circa4-IGM-ZT05                0.0               0.0              0.0   \n",
       "circa4-IGM-ZT09                0.0               0.0              0.0   \n",
       "circa4-IGM-ZT13                0.0               0.0              0.0   \n",
       "circa4-IGM-ZT17                0.0               0.0              0.0   \n",
       "circa4-IGM-ZT21                0.0               0.0              0.0   \n",
       "\n",
       "                  circa4-IGM-ZT05  circa4-IGM-ZT09  circa4-IGM-ZT13  \\\n",
       "circa2-ZT01                   0.0              0.0              0.0   \n",
       "circa2-ZT05                   0.0              0.0              0.0   \n",
       "circa2-ZT09                   0.0              0.0              0.0   \n",
       "circa2-ZT13                   0.0              0.0              0.0   \n",
       "circa2-ZT17                   0.0              0.0              0.0   \n",
       "circa2-ZT21                   0.0              0.0              0.0   \n",
       "circa4-Salk-ZT01              0.0              0.0              0.0   \n",
       "circa4-Salk-ZT05              0.0              0.0              0.0   \n",
       "circa4-Salk-ZT09              0.0              0.0              0.0   \n",
       "circa4-Salk-ZT13              0.0              0.0              0.0   \n",
       "circa4-Salk-ZT17              0.0              0.0              0.0   \n",
       "circa4-Salk-ZT21              0.0              0.0              0.0   \n",
       "circa4-IGM-ZT01               0.0              0.0              0.0   \n",
       "circa4-IGM-ZT05               0.0              0.0              0.0   \n",
       "circa4-IGM-ZT09               0.0              0.0              0.0   \n",
       "circa4-IGM-ZT13               0.0              0.0              0.0   \n",
       "circa4-IGM-ZT17               0.0              0.0              0.0   \n",
       "circa4-IGM-ZT21               0.0              0.0              0.0   \n",
       "\n",
       "                  circa4-IGM-ZT17  circa4-IGM-ZT21  \n",
       "circa2-ZT01                   0.0              0.0  \n",
       "circa2-ZT05                   0.0              0.0  \n",
       "circa2-ZT09                   0.0              0.0  \n",
       "circa2-ZT13                   0.0              0.0  \n",
       "circa2-ZT17                   0.0              0.0  \n",
       "circa2-ZT21                   0.0              0.0  \n",
       "circa4-Salk-ZT01              0.0              0.0  \n",
       "circa4-Salk-ZT05              0.0              0.0  \n",
       "circa4-Salk-ZT09              0.0              0.0  \n",
       "circa4-Salk-ZT13              0.0              0.0  \n",
       "circa4-Salk-ZT17              0.0              0.0  \n",
       "circa4-Salk-ZT21              0.0              0.0  \n",
       "circa4-IGM-ZT01               0.0              0.0  \n",
       "circa4-IGM-ZT05               0.0              0.0  \n",
       "circa4-IGM-ZT09               0.0              0.0  \n",
       "circa4-IGM-ZT13               0.0              0.0  \n",
       "circa4-IGM-ZT17               0.0              0.0  \n",
       "circa4-IGM-ZT21               0.0              0.0  "
      ]
     },
     "execution_count": 4,
     "metadata": {},
     "output_type": "execute_result"
    }
   ],
   "source": [
    "df"
   ]
  },
  {
   "cell_type": "code",
   "execution_count": null,
   "metadata": {},
   "outputs": [
    {
     "data": {
      "text/plain": [
       "<Axes: >"
      ]
     },
     "execution_count": 6,
     "metadata": {},
     "output_type": "execute_result"
    },
    {
     "data": {
      "image/png": "[encoded data removed]",
      "text/plain": [
       "<Figure size 640x480 with 1 Axes>"
      ]
     },
     "metadata": {},
     "output_type": "display_data"
    }
   ],
   "source": [
    "import seaborn as sns\n",
    "matrix = np.triu(df)\n",
    "np.fill_diagonal(matrix, False)\n",
    "sns.heatmap(df, annot=True, cmap=\"YlGnBu\", fmt=\".2f\", cbar = False, mask = matrix)\n"
   ]
  },
  {
   "cell_type": "markdown",
   "metadata": {},
   "source": [
    "### Scatter plot and correlation"
   ]
  },
  {
   "cell_type": "code",
   "execution_count": 17,
   "metadata": {},
   "outputs": [],
   "source": [
    "import pandas as pd\n",
    "import matplotlib.pyplot as plt\n",
    "dir_ = '../data'\n",
    "# dir_ = 'D:\\\\Xenium'"
   ]
  },
  {
   "cell_type": "code",
   "execution_count": 20,
   "metadata": {},
   "outputs": [],
   "source": [
    "sample_CTRL = \"circa4-IGM-ZT17\"\n",
    "transcript_count_CTRL = pd.read_parquet(f'{dir_}/{sample_CTRL}/transcripts.parquet')\n",
    "transcript_count_CTRL = transcript_count_CTRL[(~transcript_count_CTRL['feature_name'].str.contains('_')) & (transcript_count_CTRL['qv']>=20)]"
   ]
  },
  {
   "cell_type": "code",
   "execution_count": 21,
   "metadata": {},
   "outputs": [],
   "source": [
    "sample_TEST = \"circa4-Salk-ZT17\"\n",
    "transcript_count_TEST = pd.read_parquet(f'{dir_}/{sample_TEST}/transcripts.parquet')\n",
    "transcript_count_TEST = transcript_count_TEST[(~transcript_count_TEST['feature_name'].str.contains('_')) & (transcript_count_TEST['qv']>=20)]"
   ]
  },
  {
   "cell_type": "code",
   "execution_count": 22,
   "metadata": {},
   "outputs": [],
   "source": [
    "transcript_count_CTRL_all = transcript_count_CTRL['feature_name'].value_counts()\n",
    "transcript_count_CTRL_all = transcript_count_CTRL_all.sort_index()\n",
    "transcript_count_TEST_all = transcript_count_TEST['feature_name'].value_counts()\n",
    "transcript_count_TEST_all = transcript_count_TEST_all.sort_index()"
   ]
  },
  {
   "cell_type": "code",
   "execution_count": 23,
   "metadata": {},
   "outputs": [],
   "source": [
    "d = {'CTRL' : transcript_count_CTRL_all.values, 'TEST' : transcript_count_TEST_all.values}"
   ]
  },
  {
   "cell_type": "code",
   "execution_count": 24,
   "metadata": {},
   "outputs": [
    {
     "data": {
      "text/plain": [
       "pandas.core.series.Series"
      ]
     },
     "execution_count": 24,
     "metadata": {},
     "output_type": "execute_result"
    }
   ],
   "source": [
    "type(transcript_count_CTRL_all)"
   ]
  },
  {
   "cell_type": "code",
   "execution_count": 25,
   "metadata": {},
   "outputs": [],
   "source": [
    "df = pd.DataFrame(data = d, index = transcript_count_TEST_all.index)\n",
    "df['Percent'] = df['CTRL'] / df['TEST']"
   ]
  },
  {
   "cell_type": "code",
   "execution_count": 26,
   "metadata": {},
   "outputs": [
    {
     "data": {
      "text/plain": [
       "(                 CTRL     TEST   Percent\n",
       " feature_name                            \n",
       " Gnao1          886565  1060322  0.836128\n",
       " Snap25         978625  1174494  0.833231\n",
       " Kif5c         1180277  1206775  0.978042\n",
       " Aldoa         1052768  1423641  0.739490\n",
       " Ndrg2         1378871  1424785  0.967775\n",
       " Aldoc         1283794  1491139  0.860949\n",
       " Ckb           1203646  1496821  0.804135\n",
       " Map2          1795145  1873337  0.958261\n",
       " Camk2a        2430443  2629369  0.924345\n",
       " Kif5a         3212736  3178859  1.010657,\n",
       "               CTRL  TEST   Percent\n",
       " feature_name                      \n",
       " Cyp2c29         32    12  2.666667\n",
       " Cxcl2           23    23  1.000000\n",
       " Pth             37    23  1.608696\n",
       " Hoxc5           35    25  1.400000\n",
       " Il9             26    26  1.000000\n",
       " Fga             56    28  2.000000\n",
       " Krt82           34    31  1.096774\n",
       " Hoxc8           35    31  1.129032\n",
       " Hoxb9           37    31  1.193548\n",
       " Lep             35    32  1.093750)"
      ]
     },
     "execution_count": 26,
     "metadata": {},
     "output_type": "execute_result"
    }
   ],
   "source": [
    "df.sort_values(by='TEST').tail(10),df.sort_values(by='TEST').head(10)"
   ]
  },
  {
   "cell_type": "code",
   "execution_count": 27,
   "metadata": {},
   "outputs": [
    {
     "ename": "ValueError",
     "evalue": "x and y must be the same size",
     "output_type": "error",
     "traceback": [
      "\u001b[0;31m---------------------------------------------------------------------------\u001b[0m",
      "\u001b[0;31mValueError\u001b[0m                                Traceback (most recent call last)",
      "Cell \u001b[0;32mIn[27], line 1\u001b[0m\n\u001b[0;32m----> 1\u001b[0m \u001b[43mplt\u001b[49m\u001b[38;5;241;43m.\u001b[39;49m\u001b[43mscatter\u001b[49m\u001b[43m(\u001b[49m\u001b[43mx\u001b[49m\u001b[38;5;241;43m=\u001b[39;49m\u001b[38;5;28;43mrange\u001b[39;49m\u001b[43m(\u001b[49m\u001b[38;5;241;43m4000\u001b[39;49m\u001b[43m)\u001b[49m\u001b[43m,\u001b[49m\u001b[43m \u001b[49m\u001b[43my\u001b[49m\u001b[43m \u001b[49m\u001b[38;5;241;43m=\u001b[39;49m\u001b[43m \u001b[49m\u001b[43mdf\u001b[49m\u001b[43m[\u001b[49m\u001b[38;5;124;43m'\u001b[39;49m\u001b[38;5;124;43mPercent\u001b[39;49m\u001b[38;5;124;43m'\u001b[39;49m\u001b[43m]\u001b[49m\u001b[38;5;241;43m.\u001b[39;49m\u001b[43msort_values\u001b[49m\u001b[43m(\u001b[49m\u001b[43m)\u001b[49m\u001b[43m)\u001b[49m\n\u001b[1;32m      2\u001b[0m plt\u001b[38;5;241m.\u001b[39myscale(\u001b[38;5;124m'\u001b[39m\u001b[38;5;124mlog\u001b[39m\u001b[38;5;124m'\u001b[39m)\n\u001b[1;32m      3\u001b[0m \u001b[38;5;66;03m# plt.xscale('log')\u001b[39;00m\n",
      "File \u001b[0;32m~/anaconda3/envs/jupnot/lib/python3.10/site-packages/matplotlib/pyplot.py:3687\u001b[0m, in \u001b[0;36mscatter\u001b[0;34m(x, y, s, c, marker, cmap, norm, vmin, vmax, alpha, linewidths, edgecolors, plotnonfinite, data, **kwargs)\u001b[0m\n\u001b[1;32m   3668\u001b[0m \u001b[38;5;129m@_copy_docstring_and_deprecators\u001b[39m(Axes\u001b[38;5;241m.\u001b[39mscatter)\n\u001b[1;32m   3669\u001b[0m \u001b[38;5;28;01mdef\u001b[39;00m \u001b[38;5;21mscatter\u001b[39m(\n\u001b[1;32m   3670\u001b[0m     x: \u001b[38;5;28mfloat\u001b[39m \u001b[38;5;241m|\u001b[39m ArrayLike,\n\u001b[0;32m   (...)\u001b[0m\n\u001b[1;32m   3685\u001b[0m     \u001b[38;5;241m*\u001b[39m\u001b[38;5;241m*\u001b[39mkwargs,\n\u001b[1;32m   3686\u001b[0m ) \u001b[38;5;241m-\u001b[39m\u001b[38;5;241m>\u001b[39m PathCollection:\n\u001b[0;32m-> 3687\u001b[0m     __ret \u001b[38;5;241m=\u001b[39m \u001b[43mgca\u001b[49m\u001b[43m(\u001b[49m\u001b[43m)\u001b[49m\u001b[38;5;241;43m.\u001b[39;49m\u001b[43mscatter\u001b[49m\u001b[43m(\u001b[49m\n\u001b[1;32m   3688\u001b[0m \u001b[43m        \u001b[49m\u001b[43mx\u001b[49m\u001b[43m,\u001b[49m\n\u001b[1;32m   3689\u001b[0m \u001b[43m        \u001b[49m\u001b[43my\u001b[49m\u001b[43m,\u001b[49m\n\u001b[1;32m   3690\u001b[0m \u001b[43m        \u001b[49m\u001b[43ms\u001b[49m\u001b[38;5;241;43m=\u001b[39;49m\u001b[43ms\u001b[49m\u001b[43m,\u001b[49m\n\u001b[1;32m   3691\u001b[0m \u001b[43m        \u001b[49m\u001b[43mc\u001b[49m\u001b[38;5;241;43m=\u001b[39;49m\u001b[43mc\u001b[49m\u001b[43m,\u001b[49m\n\u001b[1;32m   3692\u001b[0m \u001b[43m        \u001b[49m\u001b[43mmarker\u001b[49m\u001b[38;5;241;43m=\u001b[39;49m\u001b[43mmarker\u001b[49m\u001b[43m,\u001b[49m\n\u001b[1;32m   3693\u001b[0m \u001b[43m        \u001b[49m\u001b[43mcmap\u001b[49m\u001b[38;5;241;43m=\u001b[39;49m\u001b[43mcmap\u001b[49m\u001b[43m,\u001b[49m\n\u001b[1;32m   3694\u001b[0m \u001b[43m        \u001b[49m\u001b[43mnorm\u001b[49m\u001b[38;5;241;43m=\u001b[39;49m\u001b[43mnorm\u001b[49m\u001b[43m,\u001b[49m\n\u001b[1;32m   3695\u001b[0m \u001b[43m        \u001b[49m\u001b[43mvmin\u001b[49m\u001b[38;5;241;43m=\u001b[39;49m\u001b[43mvmin\u001b[49m\u001b[43m,\u001b[49m\n\u001b[1;32m   3696\u001b[0m \u001b[43m        \u001b[49m\u001b[43mvmax\u001b[49m\u001b[38;5;241;43m=\u001b[39;49m\u001b[43mvmax\u001b[49m\u001b[43m,\u001b[49m\n\u001b[1;32m   3697\u001b[0m \u001b[43m        \u001b[49m\u001b[43malpha\u001b[49m\u001b[38;5;241;43m=\u001b[39;49m\u001b[43malpha\u001b[49m\u001b[43m,\u001b[49m\n\u001b[1;32m   3698\u001b[0m \u001b[43m        \u001b[49m\u001b[43mlinewidths\u001b[49m\u001b[38;5;241;43m=\u001b[39;49m\u001b[43mlinewidths\u001b[49m\u001b[43m,\u001b[49m\n\u001b[1;32m   3699\u001b[0m \u001b[43m        \u001b[49m\u001b[43medgecolors\u001b[49m\u001b[38;5;241;43m=\u001b[39;49m\u001b[43medgecolors\u001b[49m\u001b[43m,\u001b[49m\n\u001b[1;32m   3700\u001b[0m \u001b[43m        \u001b[49m\u001b[43mplotnonfinite\u001b[49m\u001b[38;5;241;43m=\u001b[39;49m\u001b[43mplotnonfinite\u001b[49m\u001b[43m,\u001b[49m\n\u001b[1;32m   3701\u001b[0m \u001b[43m        \u001b[49m\u001b[38;5;241;43m*\u001b[39;49m\u001b[38;5;241;43m*\u001b[39;49m\u001b[43m(\u001b[49m\u001b[43m{\u001b[49m\u001b[38;5;124;43m\"\u001b[39;49m\u001b[38;5;124;43mdata\u001b[39;49m\u001b[38;5;124;43m\"\u001b[39;49m\u001b[43m:\u001b[49m\u001b[43m \u001b[49m\u001b[43mdata\u001b[49m\u001b[43m}\u001b[49m\u001b[43m \u001b[49m\u001b[38;5;28;43;01mif\u001b[39;49;00m\u001b[43m \u001b[49m\u001b[43mdata\u001b[49m\u001b[43m \u001b[49m\u001b[38;5;129;43;01mis\u001b[39;49;00m\u001b[43m \u001b[49m\u001b[38;5;129;43;01mnot\u001b[39;49;00m\u001b[43m \u001b[49m\u001b[38;5;28;43;01mNone\u001b[39;49;00m\u001b[43m \u001b[49m\u001b[38;5;28;43;01melse\u001b[39;49;00m\u001b[43m \u001b[49m\u001b[43m{\u001b[49m\u001b[43m}\u001b[49m\u001b[43m)\u001b[49m\u001b[43m,\u001b[49m\n\u001b[1;32m   3702\u001b[0m \u001b[43m        \u001b[49m\u001b[38;5;241;43m*\u001b[39;49m\u001b[38;5;241;43m*\u001b[39;49m\u001b[43mkwargs\u001b[49m\u001b[43m,\u001b[49m\n\u001b[1;32m   3703\u001b[0m \u001b[43m    \u001b[49m\u001b[43m)\u001b[49m\n\u001b[1;32m   3704\u001b[0m     sci(__ret)\n\u001b[1;32m   3705\u001b[0m     \u001b[38;5;28;01mreturn\u001b[39;00m __ret\n",
      "File \u001b[0;32m~/anaconda3/envs/jupnot/lib/python3.10/site-packages/matplotlib/__init__.py:1465\u001b[0m, in \u001b[0;36m_preprocess_data.<locals>.inner\u001b[0;34m(ax, data, *args, **kwargs)\u001b[0m\n\u001b[1;32m   1462\u001b[0m \u001b[38;5;129m@functools\u001b[39m\u001b[38;5;241m.\u001b[39mwraps(func)\n\u001b[1;32m   1463\u001b[0m \u001b[38;5;28;01mdef\u001b[39;00m \u001b[38;5;21minner\u001b[39m(ax, \u001b[38;5;241m*\u001b[39margs, data\u001b[38;5;241m=\u001b[39m\u001b[38;5;28;01mNone\u001b[39;00m, \u001b[38;5;241m*\u001b[39m\u001b[38;5;241m*\u001b[39mkwargs):\n\u001b[1;32m   1464\u001b[0m     \u001b[38;5;28;01mif\u001b[39;00m data \u001b[38;5;129;01mis\u001b[39;00m \u001b[38;5;28;01mNone\u001b[39;00m:\n\u001b[0;32m-> 1465\u001b[0m         \u001b[38;5;28;01mreturn\u001b[39;00m \u001b[43mfunc\u001b[49m\u001b[43m(\u001b[49m\u001b[43max\u001b[49m\u001b[43m,\u001b[49m\u001b[43m \u001b[49m\u001b[38;5;241;43m*\u001b[39;49m\u001b[38;5;28;43mmap\u001b[39;49m\u001b[43m(\u001b[49m\u001b[43msanitize_sequence\u001b[49m\u001b[43m,\u001b[49m\u001b[43m \u001b[49m\u001b[43margs\u001b[49m\u001b[43m)\u001b[49m\u001b[43m,\u001b[49m\u001b[43m \u001b[49m\u001b[38;5;241;43m*\u001b[39;49m\u001b[38;5;241;43m*\u001b[39;49m\u001b[43mkwargs\u001b[49m\u001b[43m)\u001b[49m\n\u001b[1;32m   1467\u001b[0m     bound \u001b[38;5;241m=\u001b[39m new_sig\u001b[38;5;241m.\u001b[39mbind(ax, \u001b[38;5;241m*\u001b[39margs, \u001b[38;5;241m*\u001b[39m\u001b[38;5;241m*\u001b[39mkwargs)\n\u001b[1;32m   1468\u001b[0m     auto_label \u001b[38;5;241m=\u001b[39m (bound\u001b[38;5;241m.\u001b[39marguments\u001b[38;5;241m.\u001b[39mget(label_namer)\n\u001b[1;32m   1469\u001b[0m                   \u001b[38;5;129;01mor\u001b[39;00m bound\u001b[38;5;241m.\u001b[39mkwargs\u001b[38;5;241m.\u001b[39mget(label_namer))\n",
      "File \u001b[0;32m~/anaconda3/envs/jupnot/lib/python3.10/site-packages/matplotlib/axes/_axes.py:4652\u001b[0m, in \u001b[0;36mAxes.scatter\u001b[0;34m(self, x, y, s, c, marker, cmap, norm, vmin, vmax, alpha, linewidths, edgecolors, plotnonfinite, **kwargs)\u001b[0m\n\u001b[1;32m   4650\u001b[0m y \u001b[38;5;241m=\u001b[39m np\u001b[38;5;241m.\u001b[39mma\u001b[38;5;241m.\u001b[39mravel(y)\n\u001b[1;32m   4651\u001b[0m \u001b[38;5;28;01mif\u001b[39;00m x\u001b[38;5;241m.\u001b[39msize \u001b[38;5;241m!=\u001b[39m y\u001b[38;5;241m.\u001b[39msize:\n\u001b[0;32m-> 4652\u001b[0m     \u001b[38;5;28;01mraise\u001b[39;00m \u001b[38;5;167;01mValueError\u001b[39;00m(\u001b[38;5;124m\"\u001b[39m\u001b[38;5;124mx and y must be the same size\u001b[39m\u001b[38;5;124m\"\u001b[39m)\n\u001b[1;32m   4654\u001b[0m \u001b[38;5;28;01mif\u001b[39;00m s \u001b[38;5;129;01mis\u001b[39;00m \u001b[38;5;28;01mNone\u001b[39;00m:\n\u001b[1;32m   4655\u001b[0m     s \u001b[38;5;241m=\u001b[39m (\u001b[38;5;241m20\u001b[39m \u001b[38;5;28;01mif\u001b[39;00m mpl\u001b[38;5;241m.\u001b[39mrcParams[\u001b[38;5;124m'\u001b[39m\u001b[38;5;124m_internal.classic_mode\u001b[39m\u001b[38;5;124m'\u001b[39m] \u001b[38;5;28;01melse\u001b[39;00m\n\u001b[1;32m   4656\u001b[0m          mpl\u001b[38;5;241m.\u001b[39mrcParams[\u001b[38;5;124m'\u001b[39m\u001b[38;5;124mlines.markersize\u001b[39m\u001b[38;5;124m'\u001b[39m] \u001b[38;5;241m*\u001b[39m\u001b[38;5;241m*\u001b[39m \u001b[38;5;241m2.0\u001b[39m)\n",
      "\u001b[0;31mValueError\u001b[0m: x and y must be the same size"
     ]
    },
    {
     "data": {
      "image/png": "[encoded data removed]",
      "text/plain": [
       "<Figure size 640x480 with 1 Axes>"
      ]
     },
     "metadata": {},
     "output_type": "display_data"
    }
   ],
   "source": [
    "plt.scatter(x=range(4000), y = df['Percent'].sort_values())\n",
    "plt.yscale('log')\n",
    "# plt.xscale('log')\n",
    "plt.hlines(y=1, xmin=0, xmax=5006)\n"
   ]
  },
  {
   "cell_type": "code",
   "execution_count": 53,
   "metadata": {},
   "outputs": [
    {
     "data": {
      "text/plain": [
       "Text(0.5, 1.0, 'Spearson correlation : 0.995')"
      ]
     },
     "execution_count": 53,
     "metadata": {},
     "output_type": "execute_result"
    },
    {
     "data": {
      "image/png": "[encoded data removed]",
      "text/plain": [
       "<Figure size 640x480 with 1 Axes>"
      ]
     },
     "metadata": {},
     "output_type": "display_data"
    }
   ],
   "source": [
    "from scipy import stats\n",
    "\n",
    "stat_ = stats.pearsonr(x=transcript_count_CTRL_all, y = transcript_count_TEST_all)\n",
    "\n",
    "import matplotlib.pyplot as plt\n",
    "\n",
    "max_x = max(transcript_count_CTRL_all)\n",
    "max_y = max(transcript_count_TEST_all)\n",
    "\n",
    "plt.scatter(x=transcript_count_CTRL_all, y = transcript_count_TEST_all, s=50, alpha = 0.50, color = 'grey', edgecolors='black')\n",
    "plt.xlabel(sample_CTRL)\n",
    "plt.ylabel(sample_TEST)\n",
    "plt.plot([0, max_x], [0, max_y], linestyle = 'dashed', color = 'black', alpha = 0.24)\n",
    "plt.title(f'Spearson correlation : {round(stat_[0],3)}')\n",
    "# plt.savefig(f'/media/volume/volume_spatial/hugo/notebook/plot/correlation_scatter/{sample_CTRL}_v_{sample_TEST}_scatter_correlation.svg')"
   ]
  },
  {
   "cell_type": "markdown",
   "metadata": {},
   "source": [
    "### Non-gene codewords"
   ]
  },
  {
   "cell_type": "code",
   "execution_count": null,
   "metadata": {},
   "outputs": [],
   "source": [
    "import pandas as pd\n",
    "samples = ['circa2-ZT01', 'circa2-ZT09','circa4-Salk-ZT01','circa4-IGM-ZT01', 'circa4-Salk-ZT05','circa4-IGM-ZT05', 'circa4-Salk-ZT09','circa4-IGM-ZT09',\n",
    "           'circa4-Salk-ZT13','circa4-IGM-ZT13', 'circa4-Salk-ZT17','circa4-IGM-ZT17', 'circa4-Salk-ZT21','circa4-IGM-ZT21']\n",
    "\n",
    "dir_ = '/media/volume/volume_spatial/hugo/data'\n",
    "trans_stat = pd.DataFrame()\n",
    "print('Sample name : total transcripts, gene transcripts, non-gene transcripts, percent of n-gene transcripts')\n",
    "for sample in samples:\n",
    "    transcript_count_TEST = pd.read_parquet(f'{dir_}/{sample}/transcripts.parquet')\n",
    "    transcript_count_TEST_gene = transcript_count_TEST[(~transcript_count_TEST['feature_name'].str.contains('_'))]\n",
    "    \n",
    "    all_trans = len(transcript_count_TEST)\n",
    "    all_genes = len(transcript_count_TEST_gene)\n",
    "    all_ngenes = all_trans - all_genes\n",
    "    percent_ngenes = float(all_ngenes / all_trans *100)\n",
    "    print(sample, ':', all_trans,all_genes,all_ngenes,percent_ngenes)\n",
    "    # temp_ = pd.DataFrame(all_trans,all_genes, all_ngenes,percent_ngenes)\n",
    "    # trans_stat.append(temp_)\n",
    "\n"
   ]
  },
  {
   "cell_type": "code",
   "execution_count": null,
   "metadata": {},
   "outputs": [],
   "source": []
  },
  {
   "cell_type": "markdown",
   "metadata": {},
   "source": [
    "### Transcript correlation (arteries)"
   ]
  },
  {
   "cell_type": "code",
   "execution_count": null,
   "metadata": {},
   "outputs": [],
   "source": [
    "import pandas as pd\n",
    "from scipy import stats\n",
    "import matplotlib.pyplot as plt\n",
    "\n",
    "dir_ = 'H:\\\\arteries'\n",
    "\n",
    "sample_CTRL = \"CTRL_2_LJI\"\n",
    "transcript_count_CTRL = pd.read_parquet(f'{dir_}/{sample_CTRL}/transcripts.parquet')\n",
    "transcript_count_CTRL = transcript_count_CTRL[(~transcript_count_CTRL['feature_name'].str.contains('_')) & (transcript_count_CTRL['qv']>=20)]\n",
    "\n",
    "sample_TEST = \"GCA_2_LJI\"\n",
    "transcript_count_TEST = pd.read_parquet(f'{dir_}/{sample_TEST}/transcripts.parquet')\n",
    "transcript_count_TEST = transcript_count_TEST[(~transcript_count_TEST['feature_name'].str.contains('_')) & (transcript_count_TEST['qv']>=20)]"
   ]
  },
  {
   "cell_type": "code",
   "execution_count": null,
   "metadata": {},
   "outputs": [],
   "source": [
    "transcript_count_CTRL_all = transcript_count_CTRL['feature_name'].value_counts()\n",
    "transcript_count_CTRL_all = transcript_count_CTRL_all.sort_index()\n",
    "transcript_count_TEST_all = transcript_count_TEST['feature_name'].value_counts()\n",
    "transcript_count_TEST_all = transcript_count_TEST_all.sort_index()"
   ]
  },
  {
   "cell_type": "code",
   "execution_count": null,
   "metadata": {},
   "outputs": [],
   "source": [
    "CTRL_genes = set(transcript_count_CTRL_all.index)\n",
    "TEST_genes = set(transcript_count_TEST_all.index)\n",
    "common_genes_list = list(CTRL_genes.intersection(TEST_genes))"
   ]
  },
  {
   "cell_type": "code",
   "execution_count": null,
   "metadata": {},
   "outputs": [],
   "source": [
    "temp_CTRL = []\n",
    "temp_TEST = []\n",
    "for gene in common_genes_list:\n",
    "    temp_CTRL.append(transcript_count_CTRL_all[gene])\n",
    "    temp_TEST.append(transcript_count_TEST_all[gene])"
   ]
  },
  {
   "cell_type": "code",
   "execution_count": null,
   "metadata": {},
   "outputs": [],
   "source": [
    "d = {'CTRL' : temp_CTRL, 'TEST' : temp_TEST}\n",
    "df = pd.DataFrame(data = d, index = common_genes_list)\n",
    "df.sort_values(by='CTRL').tail(10),df.sort_values(by='CTRL').head(10)"
   ]
  },
  {
   "cell_type": "code",
   "execution_count": null,
   "metadata": {},
   "outputs": [],
   "source": [
    "\n",
    "stat_ = stats.pearsonr(x=df['CTRL'], y = df['TEST'])\n",
    "\n",
    "\n",
    "max_x = max(df['CTRL'])\n",
    "max_y = max(df['TEST'])\n",
    "\n",
    "plt.scatter(x=df['CTRL'], y = df['TEST'])\n",
    "plt.xlabel(sample_CTRL)\n",
    "plt.ylabel(sample_TEST)\n",
    "plt.plot([0, max_x], [0, max_y], linestyle = 'dashed', color = 'black', alpha = 0.24)\n",
    "plt.title(f'Spearson correlation : {round(stat_[0],3)}')\n",
    "# plt.savefig(f'plot/correlation_scatter/{sample_CTRL}_v_{sample_TEST}_scatter_correlation.svg')"
   ]
  }
 ],
 "metadata": {
  "kernelspec": {
   "display_name": "jupnot",
   "language": "python",
   "name": "python3"
  },
  "language_info": {
   "codemirror_mode": {
    "name": "ipython",
    "version": 3
   },
   "file_extension": ".py",
   "mimetype": "text/x-python",
   "name": "python",
   "nbconvert_exporter": "python",
   "pygments_lexer": "ipython3",
   "version": "3.10.12"
  }
 },
 "nbformat": 4,
 "nbformat_minor": 2
}
