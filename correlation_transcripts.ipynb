{
 "cells": [
  {
   "cell_type": "code",
   "execution_count": null,
   "metadata": {},
   "outputs": [],
   "source": [
    "import pandas as pd"
   ]
  },
  {
   "cell_type": "code",
   "execution_count": null,
   "metadata": {},
   "outputs": [],
   "source": [
    "dir_notebook = '/media/volume/volume_spatial/hugo/notebook'\n",
    "\n",
    "# # ### circa2_\n",
    "samples = ['circa2-ZT01','circa2-ZT05','circa2-ZT09','circa2-ZT13','circa2-ZT17','circa2-ZT21']\n",
    "samples_ids = ['circa2_ZT01','circa2_ZT05','circa2_ZT09','circa2_ZT13','circa2_ZT17','circa2_ZT21',]\n",
    "name_dir = 'circa2'\n",
    "\n",
    "# samples = [\"S1_Region1\", \"S1_Region2\", \"S2_Region1\",\"S2_Region2\"]\n",
    "# samples_ids = [\"S1-Region1\", \"S1-Region2\", \"S2-Region1\",\"S2-Region2\"]\n",
    "# name_dir = \"last_test\"\n",
    "\n",
    "# dir_ = {'circa2-ZT01' : \"/media/volume/volume_spatial/hugo/data\",\n",
    "#         'circa2-ZT05' : \"/media/volume/volume_spatial/hugo/data\",\n",
    "#         'circa2-ZT09' : \"/media/volume/volume_spatial/hugo/data\",\n",
    "#         'circa2-ZT13' : \"/media/volume/volume_spatial/hugo/data\",\n",
    "#         'circa2-ZT17' : \"/media/volume/volume_spatial/hugo/data\",\n",
    "#         'circa2-ZT21' : \"/media/volume/volume_spatial/hugo/data\",\n",
    "#         \"S1_Region1\" : '/media/volume/volume_spatial/hugo/data',\n",
    "#         \"S1_Region2\" : '/media/volume/volume_spatial/hugo/data',\n",
    "#         \"S2_Region1\" : '/media/volume/volume_spatial/hugo/data',\n",
    "#         \"S2_Region2\" : '/media/volume/volume_spatial/hugo/data',\n",
    "#         \"3159-1\" : '/media/volume/volume_spatial/hugo/data',\n",
    "#         \"3160-1\" : '/media/volume/volume_spatial/hugo/data'\n",
    "#        }\n",
    "\n",
    "dir_ = \"/media/volume/volume_spatial/hugo/data\""
   ]
  },
  {
   "cell_type": "code",
   "execution_count": null,
   "metadata": {},
   "outputs": [],
   "source": [
    "import pandas as pd\n",
    "# samples = ['circa2-ZT01','circa2-ZT05','circa2-ZT09','circa2-ZT13','circa2-ZT17','circa2-ZT21']\n",
    "# samples_ids = ['circa2_ZT01','circa2_ZT05','circa2_ZT09','circa2_ZT13','circa2_ZT17','circa2_ZT21',]\n",
    "\n",
    "# samples = ['3159-2', \"3160-1\", \"3159-1\", \"3161-1\",]\n",
    "# samples_ids = ['3159-2', \"3160-1\", \"3159-1\", \"3161-1\",]\n",
    "\n",
    "samples_ids = ['circa4-Salk-ZT01','circa4-Salk-ZT05','circa4-Salk-ZT09',\n",
    "               'circa4-Salk-ZT13','circa4-Salk-ZT17','circa4-Salk-ZT21',\n",
    "               'circa4-IGM-ZT01','circa4-IGM-ZT05','circa4-IGM-ZT09',\n",
    "               'circa4-IGM-ZT13','circa4-IGM-ZT17','circa4-IGM-ZT21',]\n",
    "\n",
    "samples = ['circa4-Salk-ZT01','circa4-Salk-ZT05','circa4-Salk-ZT09',\n",
    "               'circa4-Salk-ZT13','circa4-Salk-ZT17','circa4-Salk-ZT21',\n",
    "               'circa4-IGM-ZT01','circa4-IGM-ZT05','circa4-IGM-ZT09',\n",
    "               'circa4-IGM-ZT13','circa4-IGM-ZT17','circa4-IGM-ZT21',]\n",
    "\n",
    "### create a scanpy objects for each sample and create a unique cell name for each cell\n",
    "def top_genes_():\n",
    "    list_ = []\n",
    "    for sample, sample_id in zip(samples, samples_ids):\n",
    "        transcript_count = pd.read_parquet(f'{dir_}/{sample}/transcripts.parquet')\n",
    "\n",
    "        transcript_count = transcript_count[(~transcript_count['feature_name'].str.contains('_')) & (transcript_count['qv']>=20)]\n",
    "        transcript_count = transcript_count['feature_name'].value_counts()\n",
    "        transcript_count = transcript_count.sort_index()\n",
    "        list_.append(transcript_count)\n",
    "\n",
    "    return list_\n",
    "        "
   ]
  },
  {
   "cell_type": "code",
   "execution_count": null,
   "metadata": {},
   "outputs": [],
   "source": [
    "test = top_genes_()"
   ]
  },
  {
   "cell_type": "code",
   "execution_count": null,
   "metadata": {},
   "outputs": [],
   "source": [
    "from scipy import stats\n",
    "\n",
    "ref = 9\n",
    "\n",
    "def spearcor_(test_list):\n",
    "    nb_sample = len(test_list)\n",
    "    dict_list = {}\n",
    "    for n in range(0,nb_sample):\n",
    "        stat_ = stats.pearsonr(x=test_list[ref].sort_index(), y = test_list[n].sort_index())\n",
    "        dict_temp = {samples[n]:round(stat_[0],3)}\n",
    "        dict_list.update(dict_temp)\n",
    "\n",
    "    return dict_list"
   ]
  },
  {
   "cell_type": "code",
   "execution_count": null,
   "metadata": {},
   "outputs": [],
   "source": [
    "dict_list = spearcor_(test)"
   ]
  },
  {
   "cell_type": "code",
   "execution_count": null,
   "metadata": {},
   "outputs": [],
   "source": [
    "dict_list"
   ]
  },
  {
   "cell_type": "code",
   "execution_count": null,
   "metadata": {},
   "outputs": [],
   "source": [
    "import matplotlib.pyplot as plt\n",
    "def plot_coor(dict_list):\n",
    "    x = list(dict_list.keys())\n",
    "    y = list(dict_list.values())\n",
    "    low = min(y) - 0.05\n",
    "    high = max(y) + 0.05\n",
    "    plt.bar(x,y, color = \"lightblue\", edgecolor = 'black')\n",
    "    plt.ylim(low,high)\n",
    "    plt.hlines(y=1, xmin=-0.5,xmax=12.5, linestyles='dashed', colors = 'black')\n",
    "    plt.title(f'Spearman correlation of genes order compared to {samples_ids[ref]}')\n",
    "    plt.tick_params(axis = \"x\", rotation=90, pad = -90, direction = \"in\")\n",
    "    plt.savefig(f'plot/spearman_correlation_ref_{samples_ids[ref]}.svg')"
   ]
  },
  {
   "cell_type": "code",
   "execution_count": null,
   "metadata": {},
   "outputs": [],
   "source": [
    "plot_coor(dict_list)"
   ]
  },
  {
   "cell_type": "code",
   "execution_count": null,
   "metadata": {},
   "outputs": [],
   "source": [
    "transcript_count.shape"
   ]
  },
  {
   "cell_type": "code",
   "execution_count": null,
   "metadata": {},
   "outputs": [],
   "source": [
    "transcript_count = transcript_count[(~transcript_count['feature_name'].str.contains('_')) & (transcript_count['qv']>=20)]"
   ]
  },
  {
   "cell_type": "code",
   "execution_count": null,
   "metadata": {},
   "outputs": [],
   "source": [
    "transcript_count.shape"
   ]
  },
  {
   "cell_type": "code",
   "execution_count": null,
   "metadata": {},
   "outputs": [],
   "source": [
    "transcript_count_values = transcript_count['feature_name'].value_counts()"
   ]
  },
  {
   "cell_type": "code",
   "execution_count": null,
   "metadata": {},
   "outputs": [],
   "source": [
    "transcript_count_values_top300 = transcript_count_values[0:300].index"
   ]
  },
  {
   "cell_type": "code",
   "execution_count": null,
   "metadata": {},
   "outputs": [],
   "source": [
    "globals()[\"transcript_\"+str(sample_ids)] = transcript_count_values_top300"
   ]
  },
  {
   "cell_type": "code",
   "execution_count": null,
   "metadata": {},
   "outputs": [],
   "source": [
    "transcript_circa2_ZT01"
   ]
  },
  {
   "cell_type": "markdown",
   "metadata": {},
   "source": [
    "### Scatter plot and correlation"
   ]
  },
  {
   "cell_type": "code",
   "execution_count": null,
   "metadata": {},
   "outputs": [],
   "source": [
    "import pandas as pd\n",
    "# dir_ = '../data'\n",
    "dir_ = 'D:\\\\Xenium'"
   ]
  },
  {
   "cell_type": "code",
   "execution_count": null,
   "metadata": {},
   "outputs": [],
   "source": [
    "sample_CTRL = \"3159-1\"\n",
    "transcript_count_CTRL = pd.read_parquet(f'{dir_}/{sample_CTRL}/transcripts.parquet')\n",
    "transcript_count_CTRL = transcript_count_CTRL[(~transcript_count_CTRL['feature_name'].str.contains('_')) & (transcript_count_CTRL['qv']>=20)]"
   ]
  },
  {
   "cell_type": "code",
   "execution_count": null,
   "metadata": {},
   "outputs": [],
   "source": [
    "sample_TEST = \"2670-1\"\n",
    "transcript_count_TEST = pd.read_parquet(f'{dir_}/{sample_TEST}/transcripts.parquet')\n",
    "transcript_count_TEST = transcript_count_TEST[(~transcript_count_TEST['feature_name'].str.contains('_')) & (transcript_count_TEST['qv']>=20)]"
   ]
  },
  {
   "cell_type": "code",
   "execution_count": null,
   "metadata": {},
   "outputs": [],
   "source": [
    "transcript_count_CTRL_all = transcript_count_CTRL['feature_name'].value_counts()\n",
    "transcript_count_CTRL_all = transcript_count_CTRL_all.sort_index()\n",
    "transcript_count_TEST_all = transcript_count_TEST['feature_name'].value_counts()\n",
    "transcript_count_TEST_all = transcript_count_TEST_all.sort_index()"
   ]
  },
  {
   "cell_type": "code",
   "execution_count": null,
   "metadata": {},
   "outputs": [],
   "source": [
    "d = {'CTRL' : transcript_count_CTRL_all.values, 'TEST' : transcript_count_TEST_all.values}"
   ]
  },
  {
   "cell_type": "code",
   "execution_count": null,
   "metadata": {},
   "outputs": [],
   "source": [
    "type(transcript_count_CTRL_all)"
   ]
  },
  {
   "cell_type": "code",
   "execution_count": null,
   "metadata": {},
   "outputs": [],
   "source": [
    "df = pd.DataFrame(data = d, index = transcript_count_TEST_all.index)\n",
    "df['Percent'] = df['CTRL'] / df['TEST']"
   ]
  },
  {
   "cell_type": "code",
   "execution_count": null,
   "metadata": {},
   "outputs": [],
   "source": [
    "df.sort_values(by='TEST').tail(10),df.sort_values(by='TEST').head(10)"
   ]
  },
  {
   "cell_type": "code",
   "execution_count": null,
   "metadata": {},
   "outputs": [],
   "source": [
    "plt.scatter(x=range(4000), y = df['Percent'].sort_values())\n",
    "plt.yscale('log')\n",
    "# plt.xscale('log')\n",
    "plt.hlines(y=1, xmin=0, xmax=5006)\n"
   ]
  },
  {
   "cell_type": "code",
   "execution_count": null,
   "metadata": {},
   "outputs": [],
   "source": [
    "from scipy import stats\n",
    "\n",
    "stat_ = stats.pearsonr(x=transcript_count_CTRL_all, y = transcript_count_TEST_all)\n",
    "\n",
    "import matplotlib.pyplot as plt\n",
    "\n",
    "max_x = max(transcript_count_CTRL_all)\n",
    "max_y = max(transcript_count_TEST_all)\n",
    "\n",
    "plt.scatter(x=transcript_count_CTRL_all, y = transcript_count_TEST_all)\n",
    "plt.xlabel(sample_CTRL)\n",
    "plt.ylabel(sample_TEST)\n",
    "plt.plot([0, max_x], [0, max_y], linestyle = 'dashed', color = 'black', alpha = 0.24)\n",
    "plt.title(f'Spearson correlation : {round(stat_[0],3)}')\n",
    "# plt.savefig(f'plot/correlation_scatter/{sample_CTRL}_v_{sample_TEST}_scatter_correlation.svg')"
   ]
  },
  {
   "cell_type": "markdown",
   "metadata": {},
   "source": [
    "### Non-gene codewords"
   ]
  },
  {
   "cell_type": "code",
   "execution_count": null,
   "metadata": {},
   "outputs": [],
   "source": [
    "import pandas as pd\n",
    "samples = ['circa2-ZT01', 'circa2-ZT09','circa4-Salk-ZT01','circa4-IGM-ZT01', 'circa4-Salk-ZT05','circa4-IGM-ZT05', 'circa4-Salk-ZT09','circa4-IGM-ZT09',\n",
    "           'circa4-Salk-ZT13','circa4-IGM-ZT13', 'circa4-Salk-ZT17','circa4-IGM-ZT17', 'circa4-Salk-ZT21','circa4-IGM-ZT21']\n",
    "\n",
    "dir_ = '/media/volume/volume_spatial/hugo/data'\n",
    "trans_stat = pd.DataFrame()\n",
    "print('Sample name : total transcripts, gene transcripts, non-gene transcripts, percent of n-gene transcripts')\n",
    "for sample in samples:\n",
    "    transcript_count_TEST = pd.read_parquet(f'{dir_}/{sample}/transcripts.parquet')\n",
    "    transcript_count_TEST_gene = transcript_count_TEST[(~transcript_count_TEST['feature_name'].str.contains('_'))]\n",
    "    \n",
    "    all_trans = len(transcript_count_TEST)\n",
    "    all_genes = len(transcript_count_TEST_gene)\n",
    "    all_ngenes = all_trans - all_genes\n",
    "    percent_ngenes = float(all_ngenes / all_trans *100)\n",
    "    print(sample, ':', all_trans,all_genes,all_ngenes,percent_ngenes)\n",
    "    # temp_ = pd.DataFrame(all_trans,all_genes, all_ngenes,percent_ngenes)\n",
    "    # trans_stat.append(temp_)\n",
    "\n"
   ]
  },
  {
   "cell_type": "code",
   "execution_count": null,
   "metadata": {},
   "outputs": [],
   "source": []
  },
  {
   "cell_type": "markdown",
   "metadata": {},
   "source": [
    "### Transcript correlation (arteries)"
   ]
  },
  {
   "cell_type": "code",
   "execution_count": null,
   "metadata": {},
   "outputs": [],
   "source": [
    "import pandas as pd\n",
    "dir_ = 'H:\\\\arteries'\n",
    "\n",
    "sample_CTRL = \"CONTROLS_2_LJI\"\n",
    "transcript_count_CTRL = pd.read_parquet(f'{dir_}/{sample_CTRL}/transcripts.parquet')\n",
    "transcript_count_CTRL = transcript_count_CTRL[(~transcript_count_CTRL['feature_name'].str.contains('_')) & (transcript_count_CTRL['qv']>=20)]\n",
    "sample_TEST = \"GCA_2_LJI\"\n",
    "transcript_count_TEST = pd.read_parquet(f'{dir_}/{sample_TEST}/transcripts.parquet')\n",
    "transcript_count_TEST = transcript_count_TEST[(~transcript_count_TEST['feature_name'].str.contains('_')) & (transcript_count_TEST['qv']>=20)]\n",
    "\n",
    "transcript_count_CTRL_all = transcript_count_CTRL['feature_name'].value_counts()\n",
    "transcript_count_CTRL_all = transcript_count_CTRL_all.sort_index()\n",
    "transcript_count_TEST_all = transcript_count_TEST['feature_name'].value_counts()\n",
    "transcript_count_TEST_all = transcript_count_TEST_all.sort_index()"
   ]
  },
  {
   "cell_type": "code",
   "execution_count": null,
   "metadata": {},
   "outputs": [],
   "source": [
    "CTRL_genes = set(transcript_count_CTRL_all.index)\n",
    "TEST_genes = set(transcript_count_TEST_all.index)\n",
    "common_genes_list = list(CTRL_genes.intersection(TEST_genes))"
   ]
  },
  {
   "cell_type": "code",
   "execution_count": null,
   "metadata": {},
   "outputs": [],
   "source": [
    "temp_CTRL = []\n",
    "temp_TEST = []\n",
    "for gene in common_genes_list:\n",
    "    temp_CTRL.append(transcript_count_CTRL_all[gene])\n",
    "    temp_TEST.append(transcript_count_TEST_all[gene])"
   ]
  },
  {
   "cell_type": "code",
   "execution_count": null,
   "metadata": {},
   "outputs": [],
   "source": [
    "d = {'CTRL' : temp_CTRL, 'TEST' : temp_TEST}\n",
    "df = pd.DataFrame(data = d, index = common_genes_list)\n",
    "df['Percent'] = (df['TEST']/2) /df['CTRL'] * 100 \n",
    "df.sort_values(by='TEST').tail(10),df.sort_values(by='TEST').head(10)"
   ]
  },
  {
   "cell_type": "code",
   "execution_count": null,
   "metadata": {},
   "outputs": [],
   "source": [
    "plt.scatter(x=range(len(df)), y = df['Percent'].sort_values())\n",
    "plt.yscale('log')\n",
    "# plt.xscale('log')\n",
    "plt.hlines(y=1, xmin=0, xmax=5006)"
   ]
  },
  {
   "cell_type": "code",
   "execution_count": null,
   "metadata": {},
   "outputs": [],
   "source": [
    "from scipy import stats\n",
    "stat_ = stats.pearsonr(x=df['CTRL'], y = df['TEST'])\n",
    "import matplotlib.pyplot as plt\n",
    "\n",
    "max_x = max(df['CTRL'])\n",
    "max_y = max(df['TEST'])\n",
    "\n",
    "plt.scatter(x=df['CTRL'], y = df['TEST'])\n",
    "plt.xlabel(sample_CTRL)\n",
    "plt.ylabel(sample_TEST)\n",
    "plt.plot([0, max_x], [0, max_y], linestyle = 'dashed', color = 'black', alpha = 0.24)\n",
    "plt.title(f'Spearson correlation : {round(stat_[0],3)}')\n",
    "# plt.savefig(f'plot/correlation_scatter/{sample_CTRL}_v_{sample_TEST}_scatter_correlation.svg')"
   ]
  },
  {
   "cell_type": "code",
   "execution_count": null,
   "metadata": {},
   "outputs": [],
   "source": []
  }
 ],
 "metadata": {
  "kernelspec": {
   "display_name": "Python 3",
   "language": "python",
   "name": "python3"
  },
  "language_info": {
   "codemirror_mode": {
    "name": "ipython",
    "version": 3
   },
   "file_extension": ".py",
   "mimetype": "text/x-python",
   "name": "python",
   "nbconvert_exporter": "python",
   "pygments_lexer": "ipython3",
   "version": "3.11.3"
  }
 },
 "nbformat": 4,
 "nbformat_minor": 2
}
