{
 "cells": [
  {
   "cell_type": "markdown",
   "metadata": {},
   "source": [
    "# Transcript correlation"
   ]
  },
  {
   "cell_type": "code",
   "execution_count": null,
   "metadata": {},
   "outputs": [],
   "source": [
    "import pandas as pd"
   ]
  },
  {
   "cell_type": "code",
   "execution_count": null,
   "metadata": {},
   "outputs": [],
   "source": [
    "dir_notebook = '/media/volume/volume_spatial/hugo/notebook'\n",
    "\n",
    "# # ### circa2_\n",
    "samples = ['circa2-ZT01','circa2-ZT05','circa2-ZT09','circa2-ZT13','circa2-ZT17','circa2-ZT21']\n",
    "samples_ids = ['circa2_ZT01','circa2_ZT05','circa2_ZT09','circa2_ZT13','circa2_ZT17','circa2_ZT21',]\n",
    "name_dir = 'circa2'\n",
    "\n",
    "# samples = [\"S1_Region1\", \"S1_Region2\", \"S2_Region1\",\"S2_Region2\"]\n",
    "# samples_ids = [\"S1-Region1\", \"S1-Region2\", \"S2-Region1\",\"S2-Region2\"]\n",
    "# name_dir = \"last_test\"\n",
    "\n",
    "# dir_ = {'circa2-ZT01' : \"/media/volume/volume_spatial/hugo/data\",\n",
    "#         'circa2-ZT05' : \"/media/volume/volume_spatial/hugo/data\",\n",
    "#         'circa2-ZT09' : \"/media/volume/volume_spatial/hugo/data\",\n",
    "#         'circa2-ZT13' : \"/media/volume/volume_spatial/hugo/data\",\n",
    "#         'circa2-ZT17' : \"/media/volume/volume_spatial/hugo/data\",\n",
    "#         'circa2-ZT21' : \"/media/volume/volume_spatial/hugo/data\",\n",
    "#         \"S1_Region1\" : '/media/volume/volume_spatial/hugo/data',\n",
    "#         \"S1_Region2\" : '/media/volume/volume_spatial/hugo/data',\n",
    "#         \"S2_Region1\" : '/media/volume/volume_spatial/hugo/data',\n",
    "#         \"S2_Region2\" : '/media/volume/volume_spatial/hugo/data',\n",
    "#         \"3159-1\" : '/media/volume/volume_spatial/hugo/data',\n",
    "#         \"3160-1\" : '/media/volume/volume_spatial/hugo/data'\n",
    "#        }\n",
    "\n",
    "dir_ = \"/media/volume/volume_spatial/hugo/data\""
   ]
  },
  {
   "cell_type": "code",
   "execution_count": null,
   "metadata": {},
   "outputs": [],
   "source": [
    "import pandas as pd\n",
    "# samples = ['circa2-ZT01','circa2-ZT05','circa2-ZT09','circa2-ZT13','circa2-ZT17','circa2-ZT21']\n",
    "# samples_ids = ['circa2_ZT01','circa2_ZT05','circa2_ZT09','circa2_ZT13','circa2_ZT17','circa2_ZT21',]\n",
    "\n",
    "samples = ['3159-2', \"3160-1\", \"3159-1\", \"3161-1\",]\n",
    "samples_ids = ['3159-2', \"3160-1\", \"3159-1\", \"3161-1\",]\n",
    "dir_ = 'D:\\\\Xenium'\n",
    "\n",
    "# samples_ids = ['circa4-Salk-ZT01','circa4-Salk-ZT05','circa4-Salk-ZT09',\n",
    "#                'circa4-Salk-ZT13','circa4-Salk-ZT17','circa4-Salk-ZT21',\n",
    "#                'circa4-IGM-ZT01','circa4-IGM-ZT05','circa4-IGM-ZT09',\n",
    "#                'circa4-IGM-ZT13','circa4-IGM-ZT17','circa4-IGM-ZT21',]\n",
    "\n",
    "# samples = ['circa4-Salk-ZT01','circa4-Salk-ZT05','circa4-Salk-ZT09',\n",
    "#                'circa4-Salk-ZT13','circa4-Salk-ZT17','circa4-Salk-ZT21',\n",
    "#                'circa4-IGM-ZT01','circa4-IGM-ZT05','circa4-IGM-ZT09',\n",
    "#                'circa4-IGM-ZT13','circa4-IGM-ZT17','circa4-IGM-ZT21',]\n",
    "\n",
    "### create a scanpy objects for each sample and create a unique cell name for each cell\n",
    "def top_genes_():\n",
    "    list_ = []\n",
    "    for sample, sample_id in zip(samples, samples_ids):\n",
    "        transcript_count = pd.read_parquet(f'{dir_}/{sample}/transcripts.parquet')\n",
    "\n",
    "        transcript_count = transcript_count[(~transcript_count['feature_name'].str.contains('_')) & (transcript_count['qv']>=20)]\n",
    "        transcript_count = transcript_count['feature_name'].value_counts()\n",
    "        transcript_count = transcript_count.sort_index()\n",
    "        list_.append(transcript_count)\n",
    "\n",
    "    return list_\n",
    "\n",
    "def top_genes_assigned():\n",
    "    list_ = []\n",
    "    for sample, sample_id in zip(samples, samples_ids):\n",
    "        transcript_count = pd.read_parquet(f'{dir_}/{sample}/transcripts.parquet')\n",
    "\n",
    "        transcript_count = transcript_count[(~transcript_count['feature_name'].str.contains('_')) & (transcript_count['qv']>=20) & (transcript_count[''])]\n",
    "        transcript_count = transcript_count['feature_name'].value_counts()\n",
    "        transcript_count = transcript_count.sort_index()\n",
    "        list_.append(transcript_count)\n",
    "\n",
    "    return list_\n",
    "        "
   ]
  },
  {
   "cell_type": "code",
   "execution_count": null,
   "metadata": {},
   "outputs": [],
   "source": [
    "test = top_genes_()"
   ]
  },
  {
   "cell_type": "code",
   "execution_count": null,
   "metadata": {},
   "outputs": [],
   "source": [
    "from scipy import stats\n",
    "\n",
    "ref = 0\n",
    "\n",
    "def spearcor_(test_list):\n",
    "    nb_sample = len(test_list)\n",
    "    dict_list = {}\n",
    "    for n in range(0,nb_sample):\n",
    "        stat_ = stats.pearsonr(x=test_list[ref].sort_index(), y = test_list[n].sort_index())\n",
    "        dict_temp = {samples[n]:round(stat_[0],3)}\n",
    "        dict_list.update(dict_temp)\n",
    "\n",
    "    return dict_list"
   ]
  },
  {
   "cell_type": "code",
   "execution_count": null,
   "metadata": {},
   "outputs": [],
   "source": [
    "dict_list = spearcor_(test)"
   ]
  },
  {
   "cell_type": "code",
   "execution_count": null,
   "metadata": {},
   "outputs": [],
   "source": [
    "dict_list = {'circa4-Salk-ZT01': 1.0, 'circa4-Salk-ZT05': 0.993}"
   ]
  },
  {
   "cell_type": "code",
   "execution_count": null,
   "metadata": {},
   "outputs": [],
   "source": [
    "import matplotlib.pyplot as plt\n",
    "def plot_coor(dict_list, save_fig = False):\n",
    "    x = list(dict_list.keys())\n",
    "    y = list(dict_list.values())\n",
    "    low = min(y) - 0.05\n",
    "    high = max(y) + 0.05\n",
    "    plt.bar(x,y, color = \"lightblue\", edgecolor = 'black')\n",
    "    plt.ylim(low,high)\n",
    "    plt.hlines(y=1, xmin=-0.5,xmax=12.5, linestyles='dashed', colors = 'black')\n",
    "    plt.title(f'Spearman correlation of genes order compared to {samples_ids[ref]}')\n",
    "    plt.tick_params(axis = \"x\", rotation=90, pad = -90, direction = \"in\")\n",
    "    if save_fig:\n",
    "        plt.savefig(f'plot/spearman_correlation_ref_{samples_ids[ref]}.svg')"
   ]
  },
  {
   "cell_type": "code",
   "execution_count": null,
   "metadata": {},
   "outputs": [],
   "source": [
    "plot_coor(dict_list)"
   ]
  },
  {
   "cell_type": "markdown",
   "metadata": {},
   "source": [
    "### Matrix"
   ]
  },
  {
   "cell_type": "code",
   "execution_count": null,
   "metadata": {},
   "outputs": [],
   "source": [
    "samples = samples_ids = ['circa2-ZT01','circa2-ZT05','circa2-ZT09',\n",
    "                         #'circa2-ZT13','circa2-ZT17','circa2-ZT21',\n",
    "                         'circa4-Salk-ZT01','circa4-Salk-ZT05','circa4-Salk-ZT09',\n",
    "                         #'circa4-Salk-ZT13','circa4-Salk-ZT17','circa4-Salk-ZT21',\n",
    "                         'circa4-IGM-ZT01','circa4-IGM-ZT05','circa4-IGM-ZT09',\n",
    "                         #'circa4-IGM-ZT13','circa4-IGM-ZT17','circa4-IGM-ZT21',\n",
    "                         ]\n",
    "\n",
    "\n",
    "name_dir = 'circa2'\n",
    "dir_ = \"/media/volume/volume_spatial/hugo/data\""
   ]
  },
  {
   "cell_type": "code",
   "execution_count": null,
   "metadata": {},
   "outputs": [],
   "source": [
    "import numpy as np\n",
    "import pandas as pd\n",
    "from scipy import stats\n",
    "\n",
    "d = {}\n",
    "\n",
    "for sample in samples:\n",
    "    d_temp = {sample : np.zeros(len(samples))}\n",
    "    d.update(d_temp)\n",
    "\n",
    "df = pd.DataFrame(d, index = samples)"
   ]
  },
  {
   "cell_type": "code",
   "execution_count": null,
   "metadata": {},
   "outputs": [],
   "source": [
    "def top_genes_():\n",
    "    list_ = []\n",
    "    for sample, sample_id in zip(samples, samples_ids):\n",
    "        transcript_count = pd.read_parquet(f'{dir_}/{sample}/transcripts.parquet')\n",
    "        transcript_count = transcript_count[(~transcript_count['feature_name'].str.contains('_')) & (transcript_count['qv']>=20) & (transcript_count['cell_id']!= \"UNASSIGNED\")]\n",
    "        transcript_count = transcript_count['feature_name'].value_counts()\n",
    "        transcript_count = transcript_count.sort_index()\n",
    "        list_.append(transcript_count)\n",
    "\n",
    "    return list_\n",
    "\n",
    "\n",
    "def spearcor_(test_list):\n",
    "    nb_sample = len(test_list)\n",
    "    dict_list = {}\n",
    "    for n in range(0,nb_sample):\n",
    "        stat_ = stats.pearsonr(x=test_list[ref].sort_index(), y = test_list[n].sort_index())\n",
    "        dict_temp = {samples[n]:round(stat_[0],3)}\n",
    "        dict_list.update(dict_temp)\n",
    "    return dict_list"
   ]
  },
  {
   "cell_type": "code",
   "execution_count": null,
   "metadata": {},
   "outputs": [],
   "source": [
    "test_list = top_genes_()"
   ]
  },
  {
   "cell_type": "code",
   "execution_count": null,
   "metadata": {},
   "outputs": [],
   "source": [
    "test_list[0]"
   ]
  },
  {
   "cell_type": "code",
   "execution_count": null,
   "metadata": {},
   "outputs": [],
   "source": [
    "a=0\n",
    "for sample_ref in samples:\n",
    "   b=0\n",
    "   for sample_test in samples:\n",
    "     if len(test_list[a]) == len(test_list[b]):\n",
    "      stat_ = stats.pearsonr(x=test_list[a].sort_index(), y = test_list[b].sort_index())\n",
    "     else:\n",
    "      CTRL_genes = set(test_list[a].index)\n",
    "      TEST_genes = set(test_list[b].index)\n",
    "      common_genes_list = list(CTRL_genes.intersection(TEST_genes))\n",
    "      temp_CTRL = []\n",
    "      temp_TEST = []\n",
    "      for gene in common_genes_list:\n",
    "          temp_CTRL.append(test_list[a][gene])\n",
    "          temp_TEST.append(test_list[b][gene])\n",
    "      stat_ = stats.pearsonr(x=temp_CTRL, y = temp_TEST)\n",
    "    \n",
    "     df[sample_ref][sample_test] = round(stat_[0],3)\n",
    "     b+=1\n",
    "     \n",
    "   a+=1\n",
    "\n",
    "        "
   ]
  },
  {
   "cell_type": "code",
   "execution_count": null,
   "metadata": {},
   "outputs": [],
   "source": [
    "df.min().min()"
   ]
  },
  {
   "cell_type": "code",
   "execution_count": null,
   "metadata": {},
   "outputs": [],
   "source": [
    "import seaborn as sns\n",
    "import matplotlib.pyplot as plt\n",
    "\n",
    "\n",
    "matrix = np.triu(df)\n",
    "np.fill_diagonal(matrix, False)\n",
    "\n",
    "plt.figure(figsize=(8,8))\n",
    "sns.heatmap(df, annot=True, cmap=\"YlGnBu\", fmt=\".2f\", cbar = False, mask = matrix)\n",
    "plt.savefig('Gallery/pearson_correlation_matrix_circa.svg')\n"
   ]
  },
  {
   "cell_type": "markdown",
   "metadata": {},
   "source": [
    "### Scatter plot and correlation"
   ]
  },
  {
   "cell_type": "code",
   "execution_count": null,
   "metadata": {},
   "outputs": [],
   "source": [
    "import pandas as pd\n",
    "import matplotlib.pyplot as plt\n",
    "dir_ = '../data'\n",
    "# dir_ = 'D:\\\\Xenium'"
   ]
  },
  {
   "cell_type": "code",
   "execution_count": null,
   "metadata": {},
   "outputs": [],
   "source": [
    "sample_CTRL = \"circa4-IGM-ZT17\"\n",
    "transcript_count_CTRL = pd.read_parquet(f'{dir_}/{sample_CTRL}/transcripts.parquet')\n",
    "transcript_count_CTRL = transcript_count_CTRL[(~transcript_count_CTRL['feature_name'].str.contains('_')) & (transcript_count_CTRL['qv']>=20)]"
   ]
  },
  {
   "cell_type": "code",
   "execution_count": null,
   "metadata": {},
   "outputs": [],
   "source": [
    "sample_TEST = \"circa4-Salk-ZT17\"\n",
    "transcript_count_TEST = pd.read_parquet(f'{dir_}/{sample_TEST}/transcripts.parquet')\n",
    "transcript_count_TEST = transcript_count_TEST[(~transcript_count_TEST['feature_name'].str.contains('_')) & (transcript_count_TEST['qv']>=20)]"
   ]
  },
  {
   "cell_type": "code",
   "execution_count": null,
   "metadata": {},
   "outputs": [],
   "source": [
    "transcript_count_CTRL_all = transcript_count_CTRL['feature_name'].value_counts()\n",
    "transcript_count_CTRL_all = transcript_count_CTRL_all.sort_index()\n",
    "transcript_count_TEST_all = transcript_count_TEST['feature_name'].value_counts()\n",
    "transcript_count_TEST_all = transcript_count_TEST_all.sort_index()"
   ]
  },
  {
   "cell_type": "code",
   "execution_count": null,
   "metadata": {},
   "outputs": [],
   "source": [
    "d = {'CTRL' : transcript_count_CTRL_all.values, 'TEST' : transcript_count_TEST_all.values}"
   ]
  },
  {
   "cell_type": "code",
   "execution_count": null,
   "metadata": {},
   "outputs": [],
   "source": [
    "type(transcript_count_CTRL_all)"
   ]
  },
  {
   "cell_type": "code",
   "execution_count": null,
   "metadata": {},
   "outputs": [],
   "source": [
    "df = pd.DataFrame(data = d, index = transcript_count_TEST_all.index)\n",
    "df['Percent'] = df['CTRL'] / df['TEST']"
   ]
  },
  {
   "cell_type": "code",
   "execution_count": null,
   "metadata": {},
   "outputs": [],
   "source": [
    "df.sort_values(by='TEST').tail(10),df.sort_values(by='TEST').head(10)"
   ]
  },
  {
   "cell_type": "code",
   "execution_count": null,
   "metadata": {},
   "outputs": [],
   "source": [
    "plt.scatter(x=range(4000), y = df['Percent'].sort_values())\n",
    "plt.yscale('log')\n",
    "# plt.xscale('log')\n",
    "plt.hlines(y=1, xmin=0, xmax=5006)\n"
   ]
  },
  {
   "cell_type": "code",
   "execution_count": null,
   "metadata": {},
   "outputs": [],
   "source": [
    "from scipy import stats\n",
    "\n",
    "stat_ = stats.pearsonr(x=transcript_count_CTRL_all, y = transcript_count_TEST_all)\n",
    "\n",
    "import matplotlib.pyplot as plt\n",
    "\n",
    "max_x = max(transcript_count_CTRL_all)\n",
    "max_y = max(transcript_count_TEST_all)\n",
    "\n",
    "plt.scatter(x=transcript_count_CTRL_all, y = transcript_count_TEST_all, s=50, alpha = 0.50, color = 'grey', edgecolors='black')\n",
    "plt.xlabel(sample_CTRL)\n",
    "plt.ylabel(sample_TEST)\n",
    "plt.plot([0, max_x], [0, max_y], linestyle = 'dashed', color = 'black', alpha = 0.24)\n",
    "plt.title(f'Spearson correlation : {round(stat_[0],3)}')\n",
    "# plt.savefig(f'/media/volume/volume_spatial/hugo/notebook/plot/correlation_scatter/{sample_CTRL}_v_{sample_TEST}_scatter_correlation.svg')"
   ]
  },
  {
   "cell_type": "markdown",
   "metadata": {},
   "source": [
    "### Non-gene codewords"
   ]
  },
  {
   "cell_type": "code",
   "execution_count": null,
   "metadata": {},
   "outputs": [],
   "source": [
    "import pandas as pd\n",
    "samples = ['circa2-ZT01', 'circa2-ZT09','circa4-Salk-ZT01','circa4-IGM-ZT01', 'circa4-Salk-ZT05','circa4-IGM-ZT05', 'circa4-Salk-ZT09','circa4-IGM-ZT09',\n",
    "           'circa4-Salk-ZT13','circa4-IGM-ZT13', 'circa4-Salk-ZT17','circa4-IGM-ZT17', 'circa4-Salk-ZT21','circa4-IGM-ZT21']\n",
    "\n",
    "dir_ = '/media/volume/volume_spatial/hugo/data'\n",
    "trans_stat = pd.DataFrame()\n",
    "print('Sample name : total transcripts, gene transcripts, non-gene transcripts, percent of n-gene transcripts')\n",
    "for sample in samples:\n",
    "    transcript_count_TEST = pd.read_parquet(f'{dir_}/{sample}/transcripts.parquet')\n",
    "    transcript_count_TEST_gene = transcript_count_TEST[(~transcript_count_TEST['feature_name'].str.contains('_'))]\n",
    "    \n",
    "    all_trans = len(transcript_count_TEST)\n",
    "    all_genes = len(transcript_count_TEST_gene)\n",
    "    all_ngenes = all_trans - all_genes\n",
    "    percent_ngenes = float(all_ngenes / all_trans *100)\n",
    "    print(sample, ':', all_trans,all_genes,all_ngenes,percent_ngenes)\n",
    "    # temp_ = pd.DataFrame(all_trans,all_genes, all_ngenes,percent_ngenes)\n",
    "    # trans_stat.append(temp_)\n",
    "\n"
   ]
  },
  {
   "cell_type": "code",
   "execution_count": null,
   "metadata": {},
   "outputs": [],
   "source": []
  },
  {
   "cell_type": "markdown",
   "metadata": {},
   "source": [
    "### Transcript correlation (arteries)"
   ]
  },
  {
   "cell_type": "code",
   "execution_count": null,
   "metadata": {},
   "outputs": [],
   "source": [
    "import pandas as pd\n",
    "from scipy import stats\n",
    "import matplotlib.pyplot as plt\n",
    "\n",
    "dir_ = 'H:\\\\arteries'\n",
    "\n",
    "sample_CTRL = \"GCA_1_LJI\"\n",
    "transcript_count_CTRL = pd.read_parquet(f'{dir_}/{sample_CTRL}/transcripts.parquet')\n",
    "transcript_count_CTRL = transcript_count_CTRL[(~transcript_count_CTRL['feature_name'].str.contains('_')) \n",
    "                                              & (transcript_count_CTRL['qv']>=20) \n",
    "                                             # & (transcript_count_CTRL['cell_id'] != \"UNASSIGNED\")\n",
    "                                              ]\n",
    "\n",
    "sample_TEST = \"CTRL_1_LJI\"\n",
    "transcript_count_TEST = pd.read_parquet(f'{dir_}/{sample_TEST}/transcripts.parquet')\n",
    "transcript_count_TEST = transcript_count_TEST[(~transcript_count_TEST['feature_name'].str.contains('_')) & (transcript_count_TEST['qv']>=20) \n",
    "                                              #& (transcript_count_CTRL['cell_id']!= \"UNASSIGNED\")\n",
    "                                              ]\n",
    "\n"
   ]
  },
  {
   "cell_type": "code",
   "execution_count": null,
   "metadata": {},
   "outputs": [],
   "source": [
    "transcript_count_CTRL = transcript_count_CTRL['feature_name'].value_counts()\n",
    "transcript_count_CTRL_all = transcript_count_CTRL.sort_index()\n",
    "transcript_count_TEST = transcript_count_TEST['feature_name'].value_counts()\n",
    "transcript_count_TEST_all = transcript_count_TEST.sort_index()"
   ]
  },
  {
   "cell_type": "code",
   "execution_count": null,
   "metadata": {},
   "outputs": [],
   "source": [
    "CTRL_df = pd.DataFrame(transcript_count_CTRL)\n",
    "CTRL_df['rank'] = range(len(CTRL_df))\n",
    "CTRL_df['rank'] +=1\n",
    "ctrl_dict = dict(zip(CTRL_df.index, CTRL_df['rank']))\n",
    "\n",
    "\n",
    "TEST_df = pd.DataFrame(transcript_count_TEST)\n",
    "TEST_df['rank'] = range(len(TEST_df))\n",
    "TEST_df['rank'] +=1\n",
    "test_dict = dict(zip(TEST_df.index, TEST_df['rank']))"
   ]
  },
  {
   "cell_type": "code",
   "execution_count": null,
   "metadata": {},
   "outputs": [],
   "source": [
    "CTRL_genes = set(transcript_count_CTRL_all.index)\n",
    "TEST_genes = set(transcript_count_TEST_all.index)\n",
    "common_genes_list = list(CTRL_genes.intersection(TEST_genes))"
   ]
  },
  {
   "cell_type": "code",
   "execution_count": null,
   "metadata": {},
   "outputs": [],
   "source": [
    "temp_CTRL = []\n",
    "temp_TEST = []\n",
    "for gene in common_genes_list:\n",
    "    temp_CTRL.append(transcript_count_CTRL_all[gene])\n",
    "    temp_TEST.append(transcript_count_TEST_all[gene])"
   ]
  },
  {
   "cell_type": "code",
   "execution_count": null,
   "metadata": {},
   "outputs": [],
   "source": [
    "d = {'CTRL' : temp_CTRL, 'TEST' : temp_TEST}\n",
    "df = pd.DataFrame(data = d, index = common_genes_list)\n",
    "\n",
    "\n",
    "df['rank_CTRL'] = df.index.map(ctrl_dict)\n",
    "df['rank_TEST'] = df.index.map(test_dict)\n",
    "df['diff_rank'] = abs(df['rank_CTRL'] - df['rank_TEST'])\n",
    "\n",
    "df.sort_values(by='CTRL').tail(10),df.sort_values(by='CTRL').head(10)"
   ]
  },
  {
   "cell_type": "code",
   "execution_count": null,
   "metadata": {},
   "outputs": [],
   "source": [
    "plt.hist(df['diff_rank'], bins = 100)\n",
    "plt.vlines(x=100, ymin=0, ymax=300, color = \"black\", label='100')\n",
    "plt.legend()\n",
    "plt.title(f'Distribution of gene rank difference ({sample_CTRL} vs {sample_TEST})')\n",
    "# df.sort_values(by='diff_rank')['diff_rank'].value_counts()"
   ]
  },
  {
   "cell_type": "code",
   "execution_count": null,
   "metadata": {},
   "outputs": [],
   "source": [
    "# plt.scatter(x=range(len(df)), y = df['Percent'].sort_values())\n",
    "# plt.yscale('log')\n",
    "# # plt.xscale('log')\n",
    "# plt.hlines(y=1, xmin=0, xmax=5006)"
   ]
  },
  {
   "cell_type": "code",
   "execution_count": null,
   "metadata": {},
   "outputs": [],
   "source": [
    "from scipy import stats\n",
    "stat_ = stats.pearsonr(x=df['CTRL'], y = df['TEST'])\n",
    "\n",
    "\n",
    "max_x = max(df['CTRL'])\n",
    "max_y = max(df['TEST'])\n",
    "\n",
    "plt.scatter(x=df['CTRL'], y = df['TEST'])\n",
    "plt.xlabel(sample_CTRL)\n",
    "plt.ylabel(sample_TEST)\n",
    "plt.plot([0, max_x], [0, max_y], linestyle = 'dashed', color = 'black', alpha = 0.24)\n",
    "plt.title(f'Spearson correlation : {round(stat_[0],3)}')\n",
    "# plt.savefig(f'plot/correlation_scatter/{sample_CTRL}_v_{sample_TEST}_scatter_correlation.svg')"
   ]
  },
  {
   "cell_type": "code",
   "execution_count": null,
   "metadata": {},
   "outputs": [],
   "source": []
  },
  {
   "cell_type": "code",
   "execution_count": null,
   "metadata": {},
   "outputs": [],
   "source": []
  }
 ],
 "metadata": {
  "kernelspec": {
   "display_name": "Python 3",
   "language": "python",
   "name": "python3"
  },
  "language_info": {
   "codemirror_mode": {
    "name": "ipython",
    "version": 3
   },
   "file_extension": ".py",
   "mimetype": "text/x-python",
   "name": "python",
   "nbconvert_exporter": "python",
   "pygments_lexer": "ipython3",
   "version": "3.11.3"
  }
 },
 "nbformat": 4,
 "nbformat_minor": 2
}
