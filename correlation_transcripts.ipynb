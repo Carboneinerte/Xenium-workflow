{
 "cells": [
  {
   "cell_type": "code",
   "execution_count": null,
   "metadata": {},
   "outputs": [],
   "source": [
    "import pandas as pd"
   ]
  },
  {
   "cell_type": "code",
   "execution_count": null,
   "metadata": {},
   "outputs": [],
   "source": [
    "dir_notebook = '/media/volume/volume_spatial/hugo/notebook'\n",
    "\n",
    "# # ### circa2_\n",
    "samples = ['circa2-ZT01','circa2-ZT05','circa2-ZT09','circa2-ZT13','circa2-ZT17','circa2-ZT21']\n",
    "samples_ids = ['circa2_ZT01','circa2_ZT05','circa2_ZT09','circa2_ZT13','circa2_ZT17','circa2_ZT21',]\n",
    "name_dir = 'circa2'\n",
    "\n",
    "# samples = [\"S1_Region1\", \"S1_Region2\", \"S2_Region1\",\"S2_Region2\"]\n",
    "# samples_ids = [\"S1-Region1\", \"S1-Region2\", \"S2-Region1\",\"S2-Region2\"]\n",
    "# name_dir = \"last_test\"\n",
    "\n",
    "# dir_ = {'circa2-ZT01' : \"/media/volume/volume_spatial/hugo/data\",\n",
    "#         'circa2-ZT05' : \"/media/volume/volume_spatial/hugo/data\",\n",
    "#         'circa2-ZT09' : \"/media/volume/volume_spatial/hugo/data\",\n",
    "#         'circa2-ZT13' : \"/media/volume/volume_spatial/hugo/data\",\n",
    "#         'circa2-ZT17' : \"/media/volume/volume_spatial/hugo/data\",\n",
    "#         'circa2-ZT21' : \"/media/volume/volume_spatial/hugo/data\",\n",
    "#         \"S1_Region1\" : '/media/volume/volume_spatial/hugo/data',\n",
    "#         \"S1_Region2\" : '/media/volume/volume_spatial/hugo/data',\n",
    "#         \"S2_Region1\" : '/media/volume/volume_spatial/hugo/data',\n",
    "#         \"S2_Region2\" : '/media/volume/volume_spatial/hugo/data',\n",
    "#         \"3159-1\" : '/media/volume/volume_spatial/hugo/data',\n",
    "#         \"3160-1\" : '/media/volume/volume_spatial/hugo/data'\n",
    "#        }\n",
    "\n",
    "dir_ = \"/media/volume/volume_spatial/hugo/data\""
   ]
  },
  {
   "cell_type": "code",
   "execution_count": 23,
   "metadata": {},
   "outputs": [],
   "source": [
    "import pandas as pd\n",
    "# samples = ['circa2-ZT01','circa2-ZT05','circa2-ZT09','circa2-ZT13','circa2-ZT17','circa2-ZT21']\n",
    "# samples_ids = ['circa2_ZT01','circa2_ZT05','circa2_ZT09','circa2_ZT13','circa2_ZT17','circa2_ZT21',]\n",
    "\n",
    "samples = ['3159-2', \"3160-1\", \"3159-1\", \"3161-1\",]\n",
    "samples_ids = ['3159-2', \"3160-1\", \"3159-1\", \"3161-1\",]\n",
    "dir_ = 'D:\\\\Xenium'\n",
    "\n",
    "# samples_ids = ['circa4-Salk-ZT01','circa4-Salk-ZT05','circa4-Salk-ZT09',\n",
    "#                'circa4-Salk-ZT13','circa4-Salk-ZT17','circa4-Salk-ZT21',\n",
    "#                'circa4-IGM-ZT01','circa4-IGM-ZT05','circa4-IGM-ZT09',\n",
    "#                'circa4-IGM-ZT13','circa4-IGM-ZT17','circa4-IGM-ZT21',]\n",
    "\n",
    "# samples = ['circa4-Salk-ZT01','circa4-Salk-ZT05','circa4-Salk-ZT09',\n",
    "#                'circa4-Salk-ZT13','circa4-Salk-ZT17','circa4-Salk-ZT21',\n",
    "#                'circa4-IGM-ZT01','circa4-IGM-ZT05','circa4-IGM-ZT09',\n",
    "#                'circa4-IGM-ZT13','circa4-IGM-ZT17','circa4-IGM-ZT21',]\n",
    "\n",
    "### create a scanpy objects for each sample and create a unique cell name for each cell\n",
    "def top_genes_():\n",
    "    list_ = []\n",
    "    for sample, sample_id in zip(samples, samples_ids):\n",
    "        transcript_count = pd.read_parquet(f'{dir_}/{sample}/transcripts.parquet')\n",
    "\n",
    "        transcript_count = transcript_count[(~transcript_count['feature_name'].str.contains('_')) & (transcript_count['qv']>=20)]\n",
    "        transcript_count = transcript_count['feature_name'].value_counts()\n",
    "        transcript_count = transcript_count.sort_index()\n",
    "        list_.append(transcript_count)\n",
    "\n",
    "    return list_\n",
    "        "
   ]
  },
  {
   "cell_type": "code",
   "execution_count": 24,
   "metadata": {},
   "outputs": [],
   "source": [
    "test = top_genes_()"
   ]
  },
  {
   "cell_type": "code",
   "execution_count": 25,
   "metadata": {},
   "outputs": [],
   "source": [
    "from scipy import stats\n",
    "\n",
    "ref = 9\n",
    "\n",
    "def spearcor_(test_list):\n",
    "    nb_sample = len(test_list)\n",
    "    dict_list = {}\n",
    "    for n in range(0,nb_sample):\n",
    "        stat_ = stats.pearsonr(x=test_list[ref].sort_index(), y = test_list[n].sort_index())\n",
    "        dict_temp = {samples[n]:round(stat_[0],3)}\n",
    "        dict_list.update(dict_temp)\n",
    "\n",
    "    return dict_list"
   ]
  },
  {
   "cell_type": "code",
   "execution_count": null,
   "metadata": {},
   "outputs": [],
   "source": [
    "dict_list = spearcor_(test)"
   ]
  },
  {
   "cell_type": "code",
   "execution_count": null,
   "metadata": {},
   "outputs": [],
   "source": [
    "dict_list"
   ]
  },
  {
   "cell_type": "code",
   "execution_count": null,
   "metadata": {},
   "outputs": [],
   "source": [
    "import matplotlib.pyplot as plt\n",
    "def plot_coor(dict_list):\n",
    "    x = list(dict_list.keys())\n",
    "    y = list(dict_list.values())\n",
    "    low = min(y) - 0.05\n",
    "    high = max(y) + 0.05\n",
    "    plt.bar(x,y, color = \"lightblue\", edgecolor = 'black')\n",
    "    plt.ylim(low,high)\n",
    "    plt.hlines(y=1, xmin=-0.5,xmax=12.5, linestyles='dashed', colors = 'black')\n",
    "    plt.title(f'Spearman correlation of genes order compared to {samples_ids[ref]}')\n",
    "    plt.tick_params(axis = \"x\", rotation=90, pad = -90, direction = \"in\")\n",
    "    plt.savefig(f'plot/spearman_correlation_ref_{samples_ids[ref]}.svg')"
   ]
  },
  {
   "cell_type": "code",
   "execution_count": null,
   "metadata": {},
   "outputs": [],
   "source": [
    "plot_coor(dict_list)"
   ]
  },
  {
   "cell_type": "code",
   "execution_count": null,
   "metadata": {},
   "outputs": [],
   "source": [
    "transcript_count.shape"
   ]
  },
  {
   "cell_type": "code",
   "execution_count": null,
   "metadata": {},
   "outputs": [],
   "source": [
    "transcript_count = transcript_count[(~transcript_count['feature_name'].str.contains('_')) & (transcript_count['qv']>=20)]"
   ]
  },
  {
   "cell_type": "code",
   "execution_count": null,
   "metadata": {},
   "outputs": [],
   "source": [
    "transcript_count.shape"
   ]
  },
  {
   "cell_type": "code",
   "execution_count": null,
   "metadata": {},
   "outputs": [],
   "source": [
    "transcript_count_values = transcript_count['feature_name'].value_counts()"
   ]
  },
  {
   "cell_type": "code",
   "execution_count": null,
   "metadata": {},
   "outputs": [],
   "source": [
    "transcript_count_values_top300 = transcript_count_values[0:300].index"
   ]
  },
  {
   "cell_type": "code",
   "execution_count": null,
   "metadata": {},
   "outputs": [],
   "source": [
    "globals()[\"transcript_\"+str(sample_ids)] = transcript_count_values_top300"
   ]
  },
  {
   "cell_type": "code",
   "execution_count": null,
   "metadata": {},
   "outputs": [],
   "source": [
    "transcript_circa2_ZT01"
   ]
  },
  {
   "cell_type": "markdown",
   "metadata": {},
   "source": [
    "## Matrix"
   ]
  },
  {
   "cell_type": "code",
   "execution_count": null,
   "metadata": {},
   "outputs": [],
   "source": [
    "samples = samples_ids = ['circa2-ZT01','circa2-ZT05','circa2-ZT09',\n",
    "                         'circa2-ZT13','circa2-ZT17','circa2-ZT21',\n",
    "                         'circa4-Salk-ZT01','circa4-Salk-ZT05','circa4-Salk-ZT09',\n",
    "                         'circa4-Salk-ZT13','circa4-Salk-ZT17','circa4-Salk-ZT21',\n",
    "                         'circa4-IGM-ZT01','circa4-IGM-ZT05','circa4-IGM-ZT09',\n",
    "                         'circa4-IGM-ZT13','circa4-IGM-ZT17','circa4-IGM-ZT21',]\n",
    "\n",
    "\n",
    "name_dir = 'circa2'\n",
    "dir_ = \"/media/volume/volume_spatial/hugo/data\""
   ]
  },
  {
   "cell_type": "code",
   "execution_count": 26,
   "metadata": {},
   "outputs": [],
   "source": [
    "import numpy as np\n",
    "import pandas as pd\n",
    "\n",
    "d = {}\n",
    "\n",
    "for sample in samples:\n",
    "    d_temp = {sample : np.zeros(len(samples))}\n",
    "    d.update(d_temp)\n",
    "\n",
    "df = pd.DataFrame(d, index = samples)"
   ]
  },
  {
   "cell_type": "code",
   "execution_count": 27,
   "metadata": {},
   "outputs": [],
   "source": [
    "def top_genes_():\n",
    "    list_ = []\n",
    "    for sample, sample_id in zip(samples, samples_ids):\n",
    "        transcript_count = pd.read_parquet(f'{dir_}/{sample}/transcripts.parquet')\n",
    "\n",
    "        transcript_count = transcript_count[(~transcript_count['feature_name'].str.contains('_')) & (transcript_count['qv']>=20)]\n",
    "        transcript_count = transcript_count['feature_name'].value_counts()\n",
    "        transcript_count = transcript_count.sort_index()\n",
    "        list_.append(transcript_count)\n",
    "\n",
    "    return list_\n",
    "\n",
    "\n",
    "def spearcor_(test_list):\n",
    "    nb_sample = len(test_list)\n",
    "    dict_list = {}\n",
    "    for n in range(0,nb_sample):\n",
    "        stat_ = stats.pearsonr(x=test_list[ref].sort_index(), y = test_list[n].sort_index())\n",
    "        dict_temp = {samples[n]:round(stat_[0],3)}\n",
    "        dict_list.update(dict_temp)\n",
    "    return dict_list"
   ]
  },
  {
   "cell_type": "code",
   "execution_count": 28,
   "metadata": {},
   "outputs": [],
   "source": [
    "test_list = top_genes_()"
   ]
  },
  {
   "cell_type": "code",
   "execution_count": 29,
   "metadata": {},
   "outputs": [
    {
     "data": {
      "text/plain": [
       "feature_name\n",
       "2010300C02Rik    739048\n",
       "Acsbg1           848283\n",
       "Acta2             94679\n",
       "Acvrl1            78567\n",
       "Adamts2           58140\n",
       "                  ...  \n",
       "Vwc2l            146023\n",
       "Wfs1             365824\n",
       "Zfp366            34232\n",
       "Zfp536           262891\n",
       "Zfpm2             74977\n",
       "Name: count, Length: 247, dtype: int64"
      ]
     },
     "execution_count": 29,
     "metadata": {},
     "output_type": "execute_result"
    }
   ],
   "source": [
    "test_list[0]"
   ]
  },
  {
   "cell_type": "code",
   "execution_count": 30,
   "metadata": {},
   "outputs": [],
   "source": [
    "a=0\n",
    "for sample_ref in samples:\n",
    "   b=0\n",
    "   for sample_test in samples:\n",
    "     if len(test_list[a]) == len(test_list[b]):\n",
    "      stat_ = stats.pearsonr(x=test_list[a].sort_index(), y = test_list[b].sort_index())\n",
    "     else:\n",
    "      CTRL_genes = set(test_list[a].index)\n",
    "      TEST_genes = set(test_list[b].index)\n",
    "      common_genes_list = list(CTRL_genes.intersection(TEST_genes))\n",
    "      temp_CTRL = []\n",
    "      temp_TEST = []\n",
    "      for gene in common_genes_list:\n",
    "          temp_CTRL.append(test_list[a][gene])\n",
    "          temp_TEST.append(test_list[b][gene])\n",
    "      stat_ = stats.pearsonr(x=temp_CTRL, y = temp_TEST)\n",
    "    \n",
    "     df[sample_ref][sample_test] = round(stat_[0],3)\n",
    "     b+=1\n",
    "     \n",
    "   a+=1\n",
    "\n",
    "        "
   ]
  },
  {
   "cell_type": "code",
   "execution_count": 31,
   "metadata": {},
   "outputs": [
    {
     "data": {
      "text/html": [
       "<div>\n",
       "<style scoped>\n",
       "    .dataframe tbody tr th:only-of-type {\n",
       "        vertical-align: middle;\n",
       "    }\n",
       "\n",
       "    .dataframe tbody tr th {\n",
       "        vertical-align: top;\n",
       "    }\n",
       "\n",
       "    .dataframe thead th {\n",
       "        text-align: right;\n",
       "    }\n",
       "</style>\n",
       "<table border=\"1\" class=\"dataframe\">\n",
       "  <thead>\n",
       "    <tr style=\"text-align: right;\">\n",
       "      <th></th>\n",
       "      <th>3159-2</th>\n",
       "      <th>3160-1</th>\n",
       "      <th>3159-1</th>\n",
       "      <th>3161-1</th>\n",
       "    </tr>\n",
       "  </thead>\n",
       "  <tbody>\n",
       "    <tr>\n",
       "      <th>3159-2</th>\n",
       "      <td>1.000</td>\n",
       "      <td>0.854</td>\n",
       "      <td>0.875</td>\n",
       "      <td>0.977</td>\n",
       "    </tr>\n",
       "    <tr>\n",
       "      <th>3160-1</th>\n",
       "      <td>0.854</td>\n",
       "      <td>1.000</td>\n",
       "      <td>0.953</td>\n",
       "      <td>0.879</td>\n",
       "    </tr>\n",
       "    <tr>\n",
       "      <th>3159-1</th>\n",
       "      <td>0.875</td>\n",
       "      <td>0.953</td>\n",
       "      <td>1.000</td>\n",
       "      <td>0.853</td>\n",
       "    </tr>\n",
       "    <tr>\n",
       "      <th>3161-1</th>\n",
       "      <td>0.977</td>\n",
       "      <td>0.879</td>\n",
       "      <td>0.853</td>\n",
       "      <td>1.000</td>\n",
       "    </tr>\n",
       "  </tbody>\n",
       "</table>\n",
       "</div>"
      ],
      "text/plain": [
       "        3159-2  3160-1  3159-1  3161-1\n",
       "3159-2   1.000   0.854   0.875   0.977\n",
       "3160-1   0.854   1.000   0.953   0.879\n",
       "3159-1   0.875   0.953   1.000   0.853\n",
       "3161-1   0.977   0.879   0.853   1.000"
      ]
     },
     "execution_count": 31,
     "metadata": {},
     "output_type": "execute_result"
    }
   ],
   "source": [
    "df"
   ]
  },
  {
   "cell_type": "code",
   "execution_count": 32,
   "metadata": {},
   "outputs": [
    {
     "data": {
      "text/plain": [
       "<Axes: >"
      ]
     },
     "execution_count": 32,
     "metadata": {},
     "output_type": "execute_result"
    },
    {
     "data": {
      "image/png": "[encoded data removed]",
      "text/plain": [
       "<Figure size 640x480 with 1 Axes>"
      ]
     },
     "metadata": {},
     "output_type": "display_data"
    }
   ],
   "source": [
    "import seaborn as sns\n",
    "matrix = np.triu(df)\n",
    "np.fill_diagonal(matrix, False)\n",
    "sns.heatmap(df, annot=True, cmap=\"YlGnBu\", fmt=\".2f\", cbar = False, mask = matrix)\n"
   ]
  },
  {
   "cell_type": "markdown",
   "metadata": {},
   "source": [
    "### Scatter plot and correlation"
   ]
  },
  {
   "cell_type": "code",
   "execution_count": null,
   "metadata": {},
   "outputs": [],
   "source": [
    "import pandas as pd\n",
    "# dir_ = '../data'\n",
    "dir_ = 'D:\\\\Xenium'"
   ]
  },
  {
   "cell_type": "code",
   "execution_count": null,
   "metadata": {},
   "outputs": [],
   "source": [
    "sample_CTRL = \"3159-1\"\n",
    "transcript_count_CTRL = pd.read_parquet(f'{dir_}/{sample_CTRL}/transcripts.parquet')\n",
    "transcript_count_CTRL = transcript_count_CTRL[(~transcript_count_CTRL['feature_name'].str.contains('_')) & (transcript_count_CTRL['qv']>=20)]"
   ]
  },
  {
   "cell_type": "code",
   "execution_count": null,
   "metadata": {},
   "outputs": [],
   "source": [
    "sample_TEST = \"2670-1\"\n",
    "transcript_count_TEST = pd.read_parquet(f'{dir_}/{sample_TEST}/transcripts.parquet')\n",
    "transcript_count_TEST = transcript_count_TEST[(~transcript_count_TEST['feature_name'].str.contains('_')) & (transcript_count_TEST['qv']>=20)]"
   ]
  },
  {
   "cell_type": "code",
   "execution_count": null,
   "metadata": {},
   "outputs": [],
   "source": [
    "transcript_count_CTRL_all = transcript_count_CTRL['feature_name'].value_counts()\n",
    "transcript_count_CTRL_all = transcript_count_CTRL_all.sort_index()\n",
    "transcript_count_TEST_all = transcript_count_TEST['feature_name'].value_counts()\n",
    "transcript_count_TEST_all = transcript_count_TEST_all.sort_index()"
   ]
  },
  {
   "cell_type": "code",
   "execution_count": null,
   "metadata": {},
   "outputs": [],
   "source": [
    "d = {'CTRL' : transcript_count_CTRL_all.values, 'TEST' : transcript_count_TEST_all.values}"
   ]
  },
  {
   "cell_type": "code",
   "execution_count": null,
   "metadata": {},
   "outputs": [],
   "source": [
    "type(transcript_count_CTRL_all)"
   ]
  },
  {
   "cell_type": "code",
   "execution_count": null,
   "metadata": {},
   "outputs": [],
   "source": [
    "df = pd.DataFrame(data = d, index = transcript_count_TEST_all.index)\n",
    "df['Percent'] = df['CTRL'] / df['TEST']"
   ]
  },
  {
   "cell_type": "code",
   "execution_count": null,
   "metadata": {},
   "outputs": [],
   "source": [
    "df.sort_values(by='TEST').tail(10),df.sort_values(by='TEST').head(10)"
   ]
  },
  {
   "cell_type": "code",
   "execution_count": null,
   "metadata": {},
   "outputs": [],
   "source": [
    "plt.scatter(x=range(4000), y = df['Percent'].sort_values())\n",
    "plt.yscale('log')\n",
    "# plt.xscale('log')\n",
    "plt.hlines(y=1, xmin=0, xmax=5006)\n"
   ]
  },
  {
   "cell_type": "code",
   "execution_count": null,
   "metadata": {},
   "outputs": [],
   "source": [
    "from scipy import stats\n",
    "\n",
    "stat_ = stats.pearsonr(x=transcript_count_CTRL_all, y = transcript_count_TEST_all)\n",
    "\n",
    "import matplotlib.pyplot as plt\n",
    "\n",
    "max_x = max(transcript_count_CTRL_all)\n",
    "max_y = max(transcript_count_TEST_all)\n",
    "\n",
    "plt.scatter(x=transcript_count_CTRL_all, y = transcript_count_TEST_all)\n",
    "plt.xlabel(sample_CTRL)\n",
    "plt.ylabel(sample_TEST)\n",
    "plt.plot([0, max_x], [0, max_y], linestyle = 'dashed', color = 'black', alpha = 0.24)\n",
    "plt.title(f'Spearson correlation : {round(stat_[0],3)}')\n",
    "# plt.savefig(f'plot/correlation_scatter/{sample_CTRL}_v_{sample_TEST}_scatter_correlation.svg')"
   ]
  },
  {
   "cell_type": "markdown",
   "metadata": {},
   "source": [
    "### Non-gene codewords"
   ]
  },
  {
   "cell_type": "code",
   "execution_count": null,
   "metadata": {},
   "outputs": [],
   "source": [
    "import pandas as pd\n",
    "samples = ['circa2-ZT01', 'circa2-ZT09','circa4-Salk-ZT01','circa4-IGM-ZT01', 'circa4-Salk-ZT05','circa4-IGM-ZT05', 'circa4-Salk-ZT09','circa4-IGM-ZT09',\n",
    "           'circa4-Salk-ZT13','circa4-IGM-ZT13', 'circa4-Salk-ZT17','circa4-IGM-ZT17', 'circa4-Salk-ZT21','circa4-IGM-ZT21']\n",
    "\n",
    "dir_ = '/media/volume/volume_spatial/hugo/data'\n",
    "trans_stat = pd.DataFrame()\n",
    "print('Sample name : total transcripts, gene transcripts, non-gene transcripts, percent of n-gene transcripts')\n",
    "for sample in samples:\n",
    "    transcript_count_TEST = pd.read_parquet(f'{dir_}/{sample}/transcripts.parquet')\n",
    "    transcript_count_TEST_gene = transcript_count_TEST[(~transcript_count_TEST['feature_name'].str.contains('_'))]\n",
    "    \n",
    "    all_trans = len(transcript_count_TEST)\n",
    "    all_genes = len(transcript_count_TEST_gene)\n",
    "    all_ngenes = all_trans - all_genes\n",
    "    percent_ngenes = float(all_ngenes / all_trans *100)\n",
    "    print(sample, ':', all_trans,all_genes,all_ngenes,percent_ngenes)\n",
    "    # temp_ = pd.DataFrame(all_trans,all_genes, all_ngenes,percent_ngenes)\n",
    "    # trans_stat.append(temp_)\n",
    "\n"
   ]
  },
  {
   "cell_type": "code",
   "execution_count": null,
   "metadata": {},
   "outputs": [],
   "source": []
  },
  {
   "cell_type": "markdown",
   "metadata": {},
   "source": [
    "### Transcript correlation (arteries)"
   ]
  },
  {
   "cell_type": "code",
   "execution_count": null,
   "metadata": {},
   "outputs": [
    {
     "name": "stderr",
     "output_type": "stream",
     "text": [
      "C:\\Users\\hcall\\AppData\\Local\\Temp\\ipykernel_11452\\2474299680.py:11: UserWarning: Boolean Series key will be reindexed to match DataFrame index.\n",
      "  transcript_count_TEST = transcript_count_TEST[(~transcript_count_TEST['feature_name'].str.contains('_')) & (transcript_count_TEST['qv']>=20) & (transcript_count_CTRL['cell_id']!= \"UNASSIGNED\")]\n"
     ]
    }
   ],
   "source": [
    "import pandas as pd\n",
    "import matplotlib.pyplot as plt\n",
    "dir_ = 'H:\\\\arteries'\n",
    "\n",
    "sample_CTRL = \"GCA_1_LJI\"\n",
    "transcript_count_CTRL = pd.read_parquet(f'{dir_}/{sample_CTRL}/transcripts.parquet')\n",
    "transcript_count_CTRL = transcript_count_CTRL[(~transcript_count_CTRL['feature_name'].str.contains('_')) \n",
    "                                              & (transcript_count_CTRL['qv']>=20) \n",
    "                                              & (transcript_count_CTRL['cell_id'] != \"UNASSIGNED\")\n",
    "                                              ]\n",
    "\n",
    "sample_TEST = \"GCA_2_LJI\"\n",
    "transcript_count_TEST = pd.read_parquet(f'{dir_}/{sample_TEST}/transcripts.parquet')\n",
    "transcript_count_TEST = transcript_count_TEST[(~transcript_count_TEST['feature_name'].str.contains('_')) & (transcript_count_TEST['qv']>=20) & (transcript_count_CTRL['cell_id']!= \"UNASSIGNED\")]\n",
    "\n"
   ]
  },
  {
   "cell_type": "code",
   "execution_count": 12,
   "metadata": {},
   "outputs": [
    {
     "data": {
      "text/html": [
       "<div>\n",
       "<style scoped>\n",
       "    .dataframe tbody tr th:only-of-type {\n",
       "        vertical-align: middle;\n",
       "    }\n",
       "\n",
       "    .dataframe tbody tr th {\n",
       "        vertical-align: top;\n",
       "    }\n",
       "\n",
       "    .dataframe thead th {\n",
       "        text-align: right;\n",
       "    }\n",
       "</style>\n",
       "<table border=\"1\" class=\"dataframe\">\n",
       "  <thead>\n",
       "    <tr style=\"text-align: right;\">\n",
       "      <th></th>\n",
       "      <th>transcript_id</th>\n",
       "      <th>cell_id</th>\n",
       "      <th>overlaps_nucleus</th>\n",
       "      <th>feature_name</th>\n",
       "      <th>x_location</th>\n",
       "      <th>y_location</th>\n",
       "      <th>z_location</th>\n",
       "      <th>qv</th>\n",
       "      <th>fov_name</th>\n",
       "      <th>nucleus_distance</th>\n",
       "      <th>codeword_index</th>\n",
       "      <th>codeword_category</th>\n",
       "      <th>is_gene</th>\n",
       "    </tr>\n",
       "  </thead>\n",
       "  <tbody>\n",
       "    <tr>\n",
       "      <th>21</th>\n",
       "      <td>281659660304581</td>\n",
       "      <td>nciokhad-1</td>\n",
       "      <td>1</td>\n",
       "      <td>ZNF683</td>\n",
       "      <td>199.921875</td>\n",
       "      <td>5637.250000</td>\n",
       "      <td>13.984375</td>\n",
       "      <td>40.00</td>\n",
       "      <td>S4</td>\n",
       "      <td>0.0</td>\n",
       "      <td>16219</td>\n",
       "      <td>predesigned_gene</td>\n",
       "      <td>True</td>\n",
       "    </tr>\n",
       "    <tr>\n",
       "      <th>25</th>\n",
       "      <td>281659660304799</td>\n",
       "      <td>nciokhad-1</td>\n",
       "      <td>1</td>\n",
       "      <td>ZNF683</td>\n",
       "      <td>200.468750</td>\n",
       "      <td>5636.859375</td>\n",
       "      <td>14.000000</td>\n",
       "      <td>40.00</td>\n",
       "      <td>S4</td>\n",
       "      <td>0.0</td>\n",
       "      <td>16219</td>\n",
       "      <td>predesigned_gene</td>\n",
       "      <td>True</td>\n",
       "    </tr>\n",
       "    <tr>\n",
       "      <th>42</th>\n",
       "      <td>281711199924280</td>\n",
       "      <td>ndleaepk-1</td>\n",
       "      <td>1</td>\n",
       "      <td>ZNF683</td>\n",
       "      <td>81.640625</td>\n",
       "      <td>5899.000000</td>\n",
       "      <td>12.750000</td>\n",
       "      <td>40.00</td>\n",
       "      <td>T4</td>\n",
       "      <td>0.0</td>\n",
       "      <td>16219</td>\n",
       "      <td>predesigned_gene</td>\n",
       "      <td>True</td>\n",
       "    </tr>\n",
       "    <tr>\n",
       "      <th>44</th>\n",
       "      <td>281711199913747</td>\n",
       "      <td>celffmdf-1</td>\n",
       "      <td>1</td>\n",
       "      <td>ABCA1</td>\n",
       "      <td>150.406250</td>\n",
       "      <td>6209.890625</td>\n",
       "      <td>14.984375</td>\n",
       "      <td>40.00</td>\n",
       "      <td>T4</td>\n",
       "      <td>0.0</td>\n",
       "      <td>9629</td>\n",
       "      <td>predesigned_gene</td>\n",
       "      <td>True</td>\n",
       "    </tr>\n",
       "    <tr>\n",
       "      <th>45</th>\n",
       "      <td>281711199914565</td>\n",
       "      <td>celffmdf-1</td>\n",
       "      <td>1</td>\n",
       "      <td>ABCA1</td>\n",
       "      <td>149.390625</td>\n",
       "      <td>6210.156250</td>\n",
       "      <td>14.687500</td>\n",
       "      <td>40.00</td>\n",
       "      <td>T4</td>\n",
       "      <td>0.0</td>\n",
       "      <td>9629</td>\n",
       "      <td>predesigned_gene</td>\n",
       "      <td>True</td>\n",
       "    </tr>\n",
       "    <tr>\n",
       "      <th>...</th>\n",
       "      <td>...</td>\n",
       "      <td>...</td>\n",
       "      <td>...</td>\n",
       "      <td>...</td>\n",
       "      <td>...</td>\n",
       "      <td>...</td>\n",
       "      <td>...</td>\n",
       "      <td>...</td>\n",
       "      <td>...</td>\n",
       "      <td>...</td>\n",
       "      <td>...</td>\n",
       "      <td>...</td>\n",
       "      <td>...</td>\n",
       "    </tr>\n",
       "    <tr>\n",
       "      <th>14377485</th>\n",
       "      <td>281706904948452</td>\n",
       "      <td>ohmjemki-1</td>\n",
       "      <td>1</td>\n",
       "      <td>TNC</td>\n",
       "      <td>7028.234375</td>\n",
       "      <td>6312.937500</td>\n",
       "      <td>19.656250</td>\n",
       "      <td>40.00</td>\n",
       "      <td>T15</td>\n",
       "      <td>0.0</td>\n",
       "      <td>11775</td>\n",
       "      <td>predesigned_gene</td>\n",
       "      <td>True</td>\n",
       "    </tr>\n",
       "    <tr>\n",
       "      <th>14377493</th>\n",
       "      <td>281758444637865</td>\n",
       "      <td>ohodbgjn-1</td>\n",
       "      <td>1</td>\n",
       "      <td>NAA16</td>\n",
       "      <td>7094.421875</td>\n",
       "      <td>6588.406250</td>\n",
       "      <td>18.921875</td>\n",
       "      <td>40.00</td>\n",
       "      <td>U15</td>\n",
       "      <td>0.0</td>\n",
       "      <td>12425</td>\n",
       "      <td>predesigned_gene</td>\n",
       "      <td>True</td>\n",
       "    </tr>\n",
       "    <tr>\n",
       "      <th>14377534</th>\n",
       "      <td>281758444574685</td>\n",
       "      <td>mmkcdlom-1</td>\n",
       "      <td>1</td>\n",
       "      <td>TMEM45A</td>\n",
       "      <td>7025.109375</td>\n",
       "      <td>7076.437500</td>\n",
       "      <td>20.140625</td>\n",
       "      <td>39.75</td>\n",
       "      <td>U15</td>\n",
       "      <td>0.0</td>\n",
       "      <td>7344</td>\n",
       "      <td>predesigned_gene</td>\n",
       "      <td>True</td>\n",
       "    </tr>\n",
       "    <tr>\n",
       "      <th>14377556</th>\n",
       "      <td>281809984254973</td>\n",
       "      <td>ohnmbbfb-1</td>\n",
       "      <td>1</td>\n",
       "      <td>MTAP</td>\n",
       "      <td>7205.906250</td>\n",
       "      <td>7501.687500</td>\n",
       "      <td>18.500000</td>\n",
       "      <td>40.00</td>\n",
       "      <td>V15</td>\n",
       "      <td>0.0</td>\n",
       "      <td>12096</td>\n",
       "      <td>predesigned_gene</td>\n",
       "      <td>True</td>\n",
       "    </tr>\n",
       "    <tr>\n",
       "      <th>14377572</th>\n",
       "      <td>281517926384016</td>\n",
       "      <td>oiacocmj-1</td>\n",
       "      <td>1</td>\n",
       "      <td>CLSTN3</td>\n",
       "      <td>7251.750000</td>\n",
       "      <td>1245.015625</td>\n",
       "      <td>19.593750</td>\n",
       "      <td>40.00</td>\n",
       "      <td>M15</td>\n",
       "      <td>0.0</td>\n",
       "      <td>17786</td>\n",
       "      <td>predesigned_gene</td>\n",
       "      <td>True</td>\n",
       "    </tr>\n",
       "  </tbody>\n",
       "</table>\n",
       "<p>9739028 rows × 13 columns</p>\n",
       "</div>"
      ],
      "text/plain": [
       "            transcript_id     cell_id  overlaps_nucleus feature_name   \n",
       "21        281659660304581  nciokhad-1                 1       ZNF683  \\\n",
       "25        281659660304799  nciokhad-1                 1       ZNF683   \n",
       "42        281711199924280  ndleaepk-1                 1       ZNF683   \n",
       "44        281711199913747  celffmdf-1                 1        ABCA1   \n",
       "45        281711199914565  celffmdf-1                 1        ABCA1   \n",
       "...                   ...         ...               ...          ...   \n",
       "14377485  281706904948452  ohmjemki-1                 1          TNC   \n",
       "14377493  281758444637865  ohodbgjn-1                 1        NAA16   \n",
       "14377534  281758444574685  mmkcdlom-1                 1      TMEM45A   \n",
       "14377556  281809984254973  ohnmbbfb-1                 1         MTAP   \n",
       "14377572  281517926384016  oiacocmj-1                 1       CLSTN3   \n",
       "\n",
       "           x_location   y_location  z_location     qv fov_name   \n",
       "21         199.921875  5637.250000   13.984375  40.00       S4  \\\n",
       "25         200.468750  5636.859375   14.000000  40.00       S4   \n",
       "42          81.640625  5899.000000   12.750000  40.00       T4   \n",
       "44         150.406250  6209.890625   14.984375  40.00       T4   \n",
       "45         149.390625  6210.156250   14.687500  40.00       T4   \n",
       "...               ...          ...         ...    ...      ...   \n",
       "14377485  7028.234375  6312.937500   19.656250  40.00      T15   \n",
       "14377493  7094.421875  6588.406250   18.921875  40.00      U15   \n",
       "14377534  7025.109375  7076.437500   20.140625  39.75      U15   \n",
       "14377556  7205.906250  7501.687500   18.500000  40.00      V15   \n",
       "14377572  7251.750000  1245.015625   19.593750  40.00      M15   \n",
       "\n",
       "          nucleus_distance  codeword_index codeword_category  is_gene  \n",
       "21                     0.0           16219  predesigned_gene     True  \n",
       "25                     0.0           16219  predesigned_gene     True  \n",
       "42                     0.0           16219  predesigned_gene     True  \n",
       "44                     0.0            9629  predesigned_gene     True  \n",
       "45                     0.0            9629  predesigned_gene     True  \n",
       "...                    ...             ...               ...      ...  \n",
       "14377485               0.0           11775  predesigned_gene     True  \n",
       "14377493               0.0           12425  predesigned_gene     True  \n",
       "14377534               0.0            7344  predesigned_gene     True  \n",
       "14377556               0.0           12096  predesigned_gene     True  \n",
       "14377572               0.0           17786  predesigned_gene     True  \n",
       "\n",
       "[9739028 rows x 13 columns]"
      ]
     },
     "execution_count": 12,
     "metadata": {},
     "output_type": "execute_result"
    }
   ],
   "source": [
    "transcript_count_CTRL"
   ]
  },
  {
   "cell_type": "code",
   "execution_count": 13,
   "metadata": {},
   "outputs": [],
   "source": [
    "transcript_count_CTRL_all = transcript_count_CTRL['feature_name'].value_counts()\n",
    "transcript_count_CTRL_all = transcript_count_CTRL_all.sort_index()\n",
    "transcript_count_TEST_all = transcript_count_TEST['feature_name'].value_counts()\n",
    "transcript_count_TEST_all = transcript_count_TEST_all.sort_index()"
   ]
  },
  {
   "cell_type": "code",
   "execution_count": 14,
   "metadata": {},
   "outputs": [],
   "source": [
    "CTRL_genes = set(transcript_count_CTRL_all.index)\n",
    "TEST_genes = set(transcript_count_TEST_all.index)\n",
    "common_genes_list = list(CTRL_genes.intersection(TEST_genes))"
   ]
  },
  {
   "cell_type": "code",
   "execution_count": 15,
   "metadata": {},
   "outputs": [],
   "source": [
    "temp_CTRL = []\n",
    "temp_TEST = []\n",
    "for gene in common_genes_list:\n",
    "    temp_CTRL.append(transcript_count_CTRL_all[gene])\n",
    "    temp_TEST.append(transcript_count_TEST_all[gene])"
   ]
  },
  {
   "cell_type": "code",
   "execution_count": 16,
   "metadata": {},
   "outputs": [
    {
     "data": {
      "text/plain": [
       "(          CTRL   TEST   Percent\n",
       " TUBB     28443   4147  7.290019\n",
       " ITGB2    28629   3467  6.055049\n",
       " ANXA2    31648   5036  7.956269\n",
       " PKM      33099   3966  5.991118\n",
       " COL4A1   33235   1827  2.748608\n",
       " CD44     33455   3044  4.549395\n",
       " MYH9     34097   4028  5.906678\n",
       " TNC      35834   3391  4.731540\n",
       " POSTN    41133   6169  7.498845\n",
       " EEF1G   104494  10050  4.808889,\n",
       "           CTRL  TEST    Percent\n",
       " CST5         2     1  25.000000\n",
       " NLRP5        3     1  16.666667\n",
       " KLK4         3     3  50.000000\n",
       " CHAD         3     1  16.666667\n",
       " SERPINC1     3     1  16.666667\n",
       " HTR1A        3     1  16.666667\n",
       " ADGRD2       3     1  16.666667\n",
       " AHSG         3     1  16.666667\n",
       " CHRNB3       3     2  33.333333\n",
       " NGB          3     1  16.666667)"
      ]
     },
     "execution_count": 16,
     "metadata": {},
     "output_type": "execute_result"
    }
   ],
   "source": [
    "d = {'CTRL' : temp_CTRL, 'TEST' : temp_TEST}\n",
    "df = pd.DataFrame(data = d, index = common_genes_list)\n",
    "df['Percent'] = (df['TEST']/2) /df['CTRL'] * 100 \n",
    "df.sort_values(by='CTRL').tail(10),df.sort_values(by='CTRL').head(10)"
   ]
  },
  {
   "cell_type": "code",
   "execution_count": 17,
   "metadata": {},
   "outputs": [
    {
     "data": {
      "text/plain": [
       "<matplotlib.collections.LineCollection at 0x226e9a7fc90>"
      ]
     },
     "execution_count": 17,
     "metadata": {},
     "output_type": "execute_result"
    },
    {
     "data": {
      "image/png": "[encoded data removed]",
      "text/plain": [
       "<Figure size 640x480 with 1 Axes>"
      ]
     },
     "metadata": {},
     "output_type": "display_data"
    }
   ],
   "source": [
    "plt.scatter(x=range(len(df)), y = df['Percent'].sort_values())\n",
    "plt.yscale('log')\n",
    "# plt.xscale('log')\n",
    "plt.hlines(y=1, xmin=0, xmax=5006)"
   ]
  },
  {
   "cell_type": "code",
   "execution_count": 18,
   "metadata": {},
   "outputs": [
    {
     "data": {
      "text/plain": [
       "Text(0.5, 1.0, 'Spearson correlation : 0.88')"
      ]
     },
     "execution_count": 18,
     "metadata": {},
     "output_type": "execute_result"
    },
    {
     "data": {
      "image/png": "[encoded data removed]",
      "text/plain": [
       "<Figure size 640x480 with 1 Axes>"
      ]
     },
     "metadata": {},
     "output_type": "display_data"
    }
   ],
   "source": [
    "from scipy import stats\n",
    "stat_ = stats.pearsonr(x=df['CTRL'], y = df['TEST'])\n",
    "import matplotlib.pyplot as plt\n",
    "\n",
    "max_x = max(df['CTRL'])\n",
    "max_y = max(df['TEST'])\n",
    "\n",
    "plt.scatter(x=df['CTRL'], y = df['TEST'])\n",
    "plt.xlabel(sample_CTRL)\n",
    "plt.ylabel(sample_TEST)\n",
    "plt.plot([0, max_x], [0, max_y], linestyle = 'dashed', color = 'black', alpha = 0.24)\n",
    "plt.title(f'Spearson correlation : {round(stat_[0],3)}')\n",
    "# plt.savefig(f'plot/correlation_scatter/{sample_CTRL}_v_{sample_TEST}_scatter_correlation.svg')"
   ]
  },
  {
   "cell_type": "code",
   "execution_count": null,
   "metadata": {},
   "outputs": [],
   "source": [
    "crop = transcript_count_CTRL[(transcript_count_CTRL['x_location'].between(1000,2800, inclusive = \"both\")) & \n",
    "                             (transcript_count_CTRL['y_location'].between(4800,6400, inclusive = \"both\"))]"
   ]
  },
  {
   "cell_type": "code",
   "execution_count": null,
   "metadata": {},
   "outputs": [],
   "source": [
    "crop.groupby('fov_name')['qv'].mean()"
   ]
  },
  {
   "cell_type": "code",
   "execution_count": null,
   "metadata": {},
   "outputs": [],
   "source": [
    "dict_color = dict(zip(crop['feature_name'].unique(), range(crop['feature_name'].nunique())))\n",
    "crop['color'] = crop['feature_name'].map(dict_color)"
   ]
  },
  {
   "cell_type": "code",
   "execution_count": null,
   "metadata": {},
   "outputs": [],
   "source": [
    "plt.figure(figsize = (20,20))\n",
    "plt.scatter(x=crop['x_location'],y=crop['y_location'], s = crop['qv']/500, c = crop['color'])"
   ]
  }
 ],
 "metadata": {
  "kernelspec": {
   "display_name": "Python 3",
   "language": "python",
   "name": "python3"
  },
  "language_info": {
   "codemirror_mode": {
    "name": "ipython",
    "version": 3
   },
   "file_extension": ".py",
   "mimetype": "text/x-python",
   "name": "python",
   "nbconvert_exporter": "python",
   "pygments_lexer": "ipython3",
   "version": "3.11.3"
  }
 },
 "nbformat": 4,
 "nbformat_minor": 2
}
