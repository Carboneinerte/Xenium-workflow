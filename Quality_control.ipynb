{
 "cells": [
  {
   "cell_type": "code",
   "execution_count": null,
   "metadata": {},
   "outputs": [],
   "source": [
    "# samples_ids = ['circa2-ZT01','circa2-ZT05','circa2-ZT09','circa2-ZT13','circa2-ZT17','circa2-ZT21',]\n",
    "# samples_ids = ['circa1-ZT01','circa1-ZT05','circa1-ZT09','circa1-ZT13','circa1-ZT17','circa1-ZT21',]\n",
    "# run_name = 'circa1'\n",
    "# path_to_data = 'F:\\Xenium\\Hugo'\n",
    "\n",
    "# samples_ids = ['circa2-ZT01','circa2-ZT05','circa2-ZT09','circa2-ZT13','circa2-ZT17','circa2-ZT21',]\n",
    "# # samples_ids = ['circa1-ZT01','circa1-ZT05','circa1-ZT09','circa1-ZT13','circa1-ZT17','circa1-ZT21',]\n",
    "# run_name = 'circa2'\n",
    "# path_to_data = 'D:\\Xenium'\n",
    "\n",
    "# samples_ids = ['circa3-ZT01','circa3-ZT05','circa3-ZT09','circa3-ZT13','circa3-ZT17','circa3-ZT21',]\n",
    "# path_to_data = 'F:\\Xenium\\Hugo\\circa3'\n",
    "# run_name = 'circa3'\n",
    "\n",
    "samples_ids_Salk = ['circa4-Salk-ZT01','circa4-Salk-ZT05','circa4-Salk-ZT09','circa4-Salk-ZT13','circa4-Salk-ZT17','circa4-Salk-ZT21',]\n",
    "run_name = 'circa4-Salk'\n",
    "path_to_data = 'D:\\Xenium'\n",
    "\n",
    "samples_ids_IGM = ['circa4-IGM-ZT01','circa4-IGM-ZT05','circa4-IGM-ZT09'\n",
    "                   ,'circa4-IGM-ZT13','circa4-IGM-ZT17','circa4-IGM-ZT21',\n",
    "                   ]\n",
    "path_to_data_IGM = 'D:\\Xenium'\n",
    "run_name = 'circa4-IGM'\n",
    "\n",
    "# samples_ids_coro = ['LvR_78_ML17__20240321__212855',\"LvR_82_MH17-B__20240321__21285\", \"LvR_88_FH17__20240404__003359\",\"LvR_95_FH17__20240404__003359\",\"LvR_106_MH17__20240321__212855\",\"LvR_107_FL17__20240404__003359\" ]\n",
    "# path_to_data_coro = 'I:\\Xenium\\Laura\\coronal'\n",
    "\n",
    "# samples_ids_saggi = ['CTRL-68-1__20240517__205823', 'CTRL-94-1__20240517__205823', 'WFF-64-1__20240517__205823',\n",
    "#                      'WFF-64-2__20240517__205823', 'WFF-66-1__20240517__205823', 'WFF-66-2__20240517__205823']\n",
    "# path_to_data_saggi = 'I:\\Xenium\\Laura\\saggital'\n",
    "# run_name = 'Laura'\n",
    "\n",
    "# samples_ids = ['circa4-Salk-ZT01','circa4-IGM-ZT01',\n",
    "#                     'circa4-Salk-ZT05','circa4-IGM-ZT05',\n",
    "#                     'circa4-Salk-ZT09','circa4-IGM-ZT09',\n",
    "#                     'circa4-Salk-ZT13','circa4-IGM-ZT13',\n",
    "#                     'circa4-Salk-ZT17','circa4-IGM-ZT17',\n",
    "#                     'circa4-Salk-ZT21','circa4-IGM-ZT21',\n",
    "#                     ]\n",
    "# path_to_data_IGM = 'D:\\Xenium'\n",
    "# run_name = 'circa4'\n",
    "\n",
    "# samples_ids = [\"2505-1\", \"2505-2\", \"2670-1\",\n",
    "#                \"3159-1\",\"3160-1\", \"3160-2\",\n",
    "#                \"3159-2\",\"3159-3\",\"3159-4\",\n",
    "#                \"3161-1\",\"3161-2\", \"3161-3\"\n",
    "#               ]\n",
    "# run_name = 'brain-panel'\n",
    "# path_to_data = 'I:\\Xenium\\Hugo'"
   ]
  },
  {
   "cell_type": "markdown",
   "metadata": {},
   "source": [
    "# Descriptive statistics"
   ]
  },
  {
   "cell_type": "code",
   "execution_count": null,
   "metadata": {},
   "outputs": [],
   "source": [
    "from quality_control import desc_metrics\n",
    "\n",
    "desc_metrics(samples_ids = samples_ids_Salk,\n",
    "             path_to_data = path_to_data,\n",
    "             save_plot=False)"
   ]
  },
  {
   "cell_type": "code",
   "execution_count": null,
   "metadata": {},
   "outputs": [],
   "source": [
    "from quality_control import desc_metrics_double\n",
    "\n",
    "desc_metrics_double(samples_ids_1 = samples_ids_Salk,\n",
    "                    samples_ids_2= samples_ids_IGM,\n",
    "             path_to_data = path_to_data,\n",
    "             save_plot=False)"
   ]
  },
  {
   "cell_type": "markdown",
   "metadata": {},
   "source": [
    "# MapMyCells Correlation coefficient"
   ]
  },
  {
   "cell_type": "code",
   "execution_count": null,
   "metadata": {},
   "outputs": [],
   "source": [
    "import pandas as pd\n",
    "import seaborn as sns\n",
    "import matplotlib.pyplot as plt"
   ]
  },
  {
   "cell_type": "code",
   "execution_count": null,
   "metadata": {},
   "outputs": [],
   "source": [
    "# sample_1 = ['circa2-ZT01','circa2-ZT21', 'march-test', 'MB_test', 'test-prime']\n",
    "# sample_1 = ['circa2-ZT01','february-test', 'march-test', 'circa4-Salk-ZT01']\n",
    "# sample_1 = ['circa2-ZT01','circa3-ZT01', 'march-test', 'circa1_ZT1', 'MB_test']\n",
    "# sample_1 = ['circa2-ZT01','circa2-ZT21','run1-resegment']\n",
    "# sample_1 = ['circa2-ZT01','february-test', 'march-test',\"run1-resegment\",\n",
    "#             'circa4-IGM-ZT01','circa4-IGM-ZT05','circa4-IGM-ZT09','circa4-IGM-ZT13','circa4-IGM-ZT17','circa4-IGM-ZT21',\n",
    "#             'circa4-Salk-ZT01','circa4-Salk-ZT05','circa4-Salk-ZT09','circa4-Salk-ZT13','circa4-Salk-ZT17','circa4-Salk-ZT21'\n",
    "            # ]\n",
    "# sample_1 = ['circa2-ZT01','run1-resegment', '3159-2','3159-3', '3159-4','3161-1','3161-2', '3161-3']\n",
    "# sample_1 = ['circa2-ZT01','circa4-IGM-ZT01','saggital']\n",
    "samples_ids = ['resegment', 'saggital']\n",
    "            "
   ]
  },
  {
   "cell_type": "code",
   "execution_count": null,
   "metadata": {},
   "outputs": [],
   "source": [
    "from quality_control import plot_mcc_density\n",
    "\n",
    "plot_mcc_density(sample_1 = samples_ids,\n",
    "                 save_plot = False,\n",
    "                 )"
   ]
  }
 ],
 "metadata": {
  "kernelspec": {
   "display_name": "Python 3",
   "language": "python",
   "name": "python3"
  },
  "language_info": {
   "codemirror_mode": {
    "name": "ipython",
    "version": 3
   },
   "file_extension": ".py",
   "mimetype": "text/x-python",
   "name": "python",
   "nbconvert_exporter": "python",
   "pygments_lexer": "ipython3",
   "version": "3.11.3"
  }
 },
 "nbformat": 4,
 "nbformat_minor": 2
}
