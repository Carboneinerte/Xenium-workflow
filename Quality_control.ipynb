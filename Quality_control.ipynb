{
 "cells": [
  {
   "cell_type": "code",
   "execution_count": null,
   "metadata": {},
   "outputs": [],
   "source": [
    "import pandas as pd\n",
    "import matplotlib.pyplot as plt\n",
    "import numpy as np"
   ]
  },
  {
   "cell_type": "code",
   "execution_count": null,
   "metadata": {},
   "outputs": [],
   "source": [
    "# samples_ids = ['circa2-ZT01','circa2-ZT05','circa2-ZT09','circa2-ZT13','circa2-ZT17','circa2-ZT21',]\n",
    "# samples_ids = ['circa1-ZT01','circa1-ZT05','circa1-ZT09','circa1-ZT13','circa1-ZT17','circa1-ZT21',]\n",
    "# run_name = 'circa1'\n",
    "# path_to_data = 'F:\\Xenium\\Hugo'\n",
    "\n",
    "# samples_ids = ['circa2-ZT01','circa2-ZT05','circa2-ZT09','circa2-ZT13','circa2-ZT17','circa2-ZT21',]\n",
    "# # samples_ids = ['circa1-ZT01','circa1-ZT05','circa1-ZT09','circa1-ZT13','circa1-ZT17','circa1-ZT21',]\n",
    "# run_name = 'circa2'\n",
    "# path_to_data = 'D:\\Xenium'\n",
    "\n",
    "# samples_ids = ['circa3-ZT01','circa3-ZT05','circa3-ZT09','circa3-ZT13','circa3-ZT17','circa3-ZT21',]\n",
    "# path_to_data = 'F:\\Xenium\\Hugo\\circa3'\n",
    "# run_name = 'circa3'\n",
    "\n",
    "# samples_ids_Salk = ['circa4-Salk-ZT01','circa4-Salk-ZT05','circa4-Salk-ZT09','circa4-Salk-ZT13','circa4-Salk-ZT17','circa4-Salk-ZT21',]\n",
    "# run_name = 'circa4-Salk'\n",
    "# path_to_data = 'D:\\Xenium'\n",
    "\n",
    "# samples_ids_IGM = ['circa4-IGM-ZT01','circa4-IGM-ZT05','circa4-IGM-ZT09'\n",
    "#                    ,'circa4-IGM-ZT13','circa4-IGM-ZT17','circa4-IGM-ZT21',\n",
    "#                    ]\n",
    "# path_to_data_IGM = 'D:\\Xenium'\n",
    "# run_name = 'circa4-IGM'\n",
    "\n",
    "# samples_ids_coro = ['LvR_78_ML17__20240321__212855',\"LvR_82_MH17-B__20240321__21285\", \"LvR_88_FH17__20240404__003359\",\"LvR_95_FH17__20240404__003359\",\"LvR_106_MH17__20240321__212855\",\"LvR_107_FL17__20240404__003359\" ]\n",
    "# path_to_data_coro = 'I:\\Xenium\\Laura\\coronal'\n",
    "\n",
    "# samples_ids_saggi = ['CTRL-68-1__20240517__205823', 'CTRL-94-1__20240517__205823', 'WFF-64-1__20240517__205823',\n",
    "#                      'WFF-64-2__20240517__205823', 'WFF-66-1__20240517__205823', 'WFF-66-2__20240517__205823']\n",
    "# path_to_data_saggi = 'I:\\Xenium\\Laura\\saggital'\n",
    "# run_name = 'Laura'\n",
    "\n",
    "# samples_ids = ['circa4-Salk-ZT01','circa4-IGM-ZT01',\n",
    "#                     'circa4-Salk-ZT05','circa4-IGM-ZT05',\n",
    "#                     'circa4-Salk-ZT09','circa4-IGM-ZT09',\n",
    "#                     'circa4-Salk-ZT13','circa4-IGM-ZT13',\n",
    "#                     'circa4-Salk-ZT17','circa4-IGM-ZT17',\n",
    "#                     'circa4-Salk-ZT21','circa4-IGM-ZT21',\n",
    "#                     ]\n",
    "# path_to_data_IGM = 'D:\\Xenium'\n",
    "# run_name = 'circa4'\n",
    "\n",
    "samples_ids = [\"2505-1\", \"2505-2\", \"2670-1\",\n",
    "               \"3159-1\",\"3160-1\", \"3160-2\",\n",
    "               \"3159-2\",\"3159-3\",\"3159-4\",\n",
    "               \"3161-1\",\"3161-2\", \"3161-3\"\n",
    "              ]\n",
    "run_name = 'brain-panel'\n",
    "path_to_data = 'I:\\Xenium\\Hugo'\n",
    "\n",
    "\n",
    "\n",
    "# if \"files_content\" in globals():\n",
    "#     del files_content\n",
    "# elif 'files_content_IGM' or 'files_content_Salk' in globals():\n",
    "#     del files_content_IGM\n",
    "#     del files_content_Salk\n"
   ]
  },
  {
   "cell_type": "markdown",
   "metadata": {},
   "source": [
    "# Descriptive statistics"
   ]
  },
  {
   "cell_type": "code",
   "execution_count": null,
   "metadata": {},
   "outputs": [],
   "source": [
    "reference_dataset = pd.read_csv('reference_dataset.csv')\n",
    "\n",
    "for sample in samples_ids:\n",
    "    with open(f\"{path_to_data}\\{sample}\\metrics_summary.csv\", 'r', encoding='utf-8') as file:\n",
    "        file_content = pd.read_csv(file)\n",
    "        \n",
    "        if 'files_content' in globals():\n",
    "            files_content = pd.concat([files_content,file_content])\n",
    "        else:\n",
    "            files_content = pd.DataFrame(file_content)\n",
    "\n",
    "\n",
    "# for sample in samples_ids_Salk:\n",
    "#     with open(f\"{path_to_data}\\{sample}\\metrics_summary.csv\", 'r', encoding='utf-8') as file:\n",
    "#         file_content = pd.read_csv(file)\n",
    "        \n",
    "#         if 'files_content_Salk' in globals():\n",
    "#             files_content_Salk = pd.concat([files_content_Salk,file_content])\n",
    "#         else:\n",
    "#             files_content_Salk = pd.DataFrame(file_content)\n",
    "\n",
    "# for sample in samples_ids_IGM:\n",
    "#     with open(f\"{path_to_data_IGM}\\{sample}\\metrics_summary.csv\", 'r', encoding='utf-8') as file:\n",
    "#         file_content = pd.read_csv(file)\n",
    "        \n",
    "#         if 'files_content_IGM' in globals():\n",
    "#             files_content_IGM = pd.concat([files_content_IGM,file_content])\n",
    "#         else:\n",
    "#             files_content_IGM = pd.DataFrame(file_content)\n",
    "            \n",
    "parameters_to_plot = ['region_area', 'total_high_quality_decoded_transcripts','fraction_transcripts_decoded_q20', 'decoded_transcripts_per_100um2','estimated_number_of_false_positive_transcripts_per_cell',\n",
    "                      'num_cells_detected', 'fraction_transcripts_assigned', 'median_genes_per_cell', 'median_transcripts_per_cell' ]"
   ]
  },
  {
   "cell_type": "code",
   "execution_count": null,
   "metadata": {},
   "outputs": [],
   "source": [
    "parameters_to_plot = ['region_area', 'total_high_quality_decoded_transcripts','fraction_transcripts_decoded_q20', 'decoded_transcripts_per_100um2','estimated_number_of_false_positive_transcripts_per_cell',\n",
    "                      'num_cells_detected', 'fraction_transcripts_assigned', 'median_genes_per_cell', 'median_transcripts_per_cell' ]"
   ]
  },
  {
   "cell_type": "code",
   "execution_count": null,
   "metadata": {},
   "outputs": [],
   "source": [
    "ticks_positions_array = np.array(range(0,13))"
   ]
  },
  {
   "cell_type": "code",
   "execution_count": null,
   "metadata": {},
   "outputs": [],
   "source": [
    "fig, axes = plt.subplots(3,3, figsize=(15,15))\n",
    "axes = axes.flatten()\n",
    "# ticks_positions_array = np.array([])\n",
    "\n",
    "for n, ax in enumerate(axes):\n",
    "    parameter = parameters_to_plot[n]\n",
    "    ax.bar(x = reference_dataset['region_name'], height = reference_dataset[parameters_to_plot[n]], color = \"grey\")\n",
    "    ax.bar(x = files_content_Salk['region_name'], height = files_content_Salk[parameters_to_plot[n]], color = (0.898,0.603,0.32))\n",
    "    ax.bar(x = files_content_IGM['region_name'], height = files_content_IGM[parameters_to_plot[n]], color = \"lightblue\")\n",
    "    ax.hlines(y = files_content_IGM[parameters_to_plot[n]].mean(), xmin = 7, xmax = 12, linestyles= 'dashed', colors = 'black')\n",
    "    ax.hlines(y = files_content_Salk[parameters_to_plot[n]].mean(), xmin = 1, xmax = 6, linestyles= 'dashed', colors = 'black')\n",
    "    ax.set_title(parameter)\n",
    "    ax.set_xticks(ticks = ticks_positions_array, labels = xticks_plot, rotation=90)\n",
    "    ax.tick_params(axis = 'x', direction = 'in', pad = -100)\n",
    "\n",
    "# fig.suptitle(f'Quality control: {run_name} vs reference dataset (circa2)', fontsize=20)\n",
    "fig.savefig(f'Gallery/{run_name}_QC_circa4.svg')"
   ]
  },
  {
   "cell_type": "code",
   "execution_count": null,
   "metadata": {},
   "outputs": [],
   "source": [
    "fig, axes = plt.subplots(3,3, figsize=(15,15))\n",
    "axes = axes.flatten()\n",
    "# for parameter_to_plot in parameters_to_plot: # = 'total_high_quality_decoded_transcripts'\n",
    "for n, ax in enumerate(axes):\n",
    "    parameter = parameters_to_plot[n]\n",
    "    # ax.bar(x = reference_dataset['region_name'], height = reference_dataset[parameters_to_plot[n]], color = (0.32,0.13,0.102))\n",
    "    ax.bar(x = files_content['region_name'], height = files_content[parameters_to_plot[n]], color = (0.898,0.603,0.32))\n",
    "    # ax.bar(x = files_content['region_name'], height = files_content[parameters_to_plot[n]], color = (0.053,0.270,0.407))\n",
    "    ax.set_title(parameter)\n",
    "    # ax.set_xticks(reference_dataset['region_name'])\n",
    "    ax.tick_params(axis = 'x', direction = 'in', rotation = 90, pad = -45)\n",
    "\n",
    "# fig.suptitle(f'Quality control: {run_name} vs reference dataset (circa2)', fontsize=20)\n",
    "fig.savefig(f'Gallery/{run_name}_QC.svg')"
   ]
  },
  {
   "cell_type": "code",
   "execution_count": null,
   "metadata": {},
   "outputs": [],
   "source": [
    "for sample in samples_ids_coro:\n",
    "    with open(f\"{path_to_data_coro}\\{sample}\\metrics_summary.csv\", 'r', encoding='utf-8') as file:\n",
    "        file_content = pd.read_csv(file)\n",
    "        \n",
    "        if 'files_content_coro' in globals():\n",
    "            files_content_coro = pd.concat([files_content_coro,file_content])\n",
    "        else:\n",
    "            files_content_coro = pd.DataFrame(file_content)\n",
    "\n",
    "for sample in samples_ids_saggi:\n",
    "    with open(f\"{path_to_data_saggi}\\{sample}\\metrics_summary.csv\", 'r', encoding='utf-8') as file:\n",
    "        file_content = pd.read_csv(file)\n",
    "        \n",
    "        if 'files_content_saggi' in globals():\n",
    "            files_content_saggi = pd.concat([files_content_saggi,file_content])\n",
    "        else:\n",
    "            files_content_saggi = pd.DataFrame(file_content)\n",
    "\n",
    "parameters_to_plot = ['region_area', 'total_high_quality_decoded_transcripts','fraction_transcripts_decoded_q20', 'decoded_transcripts_per_100um2','estimated_number_of_false_positive_transcripts_per_cell',\n",
    "                      'num_cells_detected', 'fraction_transcripts_assigned', 'median_genes_per_cell', 'median_transcripts_per_cell' ]"
   ]
  },
  {
   "cell_type": "code",
   "execution_count": null,
   "metadata": {},
   "outputs": [],
   "source": [
    "fig, axes = plt.subplots(3,3, figsize=(15,15))\n",
    "axes = axes.flatten()\n",
    "# ticks_positions_array = np.array([])\n",
    "\n",
    "for n, ax in enumerate(axes):\n",
    "    parameter = parameters_to_plot[n]\n",
    "    ax.bar(x = files_content_coro['region_name'], height = files_content_coro[parameters_to_plot[n]], color = (0.898,0.603,0.32))\n",
    "    ax.bar(x = files_content_saggi['region_name'], height = files_content_saggi[parameters_to_plot[n]], color = \"lightblue\")\n",
    "    ax.hlines(y = files_content_saggi[parameters_to_plot[n]].mean(), xmin = 6, xmax = 11, linestyles= 'dashed', colors = 'black')\n",
    "    ax.hlines(y = files_content_coro[parameters_to_plot[n]].mean(), xmin = 0, xmax = 5, linestyles= 'dashed', colors = 'black')\n",
    "    ax.set_title(parameter)\n",
    "    # ax.set_xticks(ticks = ticks_positions_array, labels = xticks_plot, rotation=90)\n",
    "    ax.tick_params(axis = 'x', rotation = 90, direction = 'in', pad = -65)\n",
    "\n",
    "# fig.suptitle(f'Quality control: {run_name} vs reference dataset (circa2)', fontsize=20)\n",
    "fig.savefig(f'Gallery/{run_name}_QC_circa4.svg')"
   ]
  },
  {
   "cell_type": "markdown",
   "metadata": {},
   "source": [
    "# MapMyCells Correlation coefficient"
   ]
  },
  {
   "cell_type": "code",
   "execution_count": null,
   "metadata": {},
   "outputs": [],
   "source": [
    "import pandas as pd\n",
    "import seaborn as sns\n",
    "import matplotlib.pyplot as plt"
   ]
  },
  {
   "cell_type": "code",
   "execution_count": null,
   "metadata": {},
   "outputs": [],
   "source": [
    "# sample_1 = ['circa2-ZT01','circa2-ZT21', 'march-test', 'MB_test', 'test-prime']\n",
    "# sample_1 = ['circa2-ZT01','february-test', 'march-test', 'circa4-Salk-ZT01']\n",
    "# sample_1 = ['circa2-ZT01','circa3-ZT01', 'march-test', 'circa1_ZT1', 'MB_test']\n",
    "# sample_1 = ['circa2-ZT01','circa2-ZT21','run1-resegment']\n",
    "# sample_1 = ['circa2-ZT01','february-test', 'march-test',\"run1-resegment\",\n",
    "#             'circa4-IGM-ZT01','circa4-IGM-ZT05','circa4-IGM-ZT09','circa4-IGM-ZT13','circa4-IGM-ZT17','circa4-IGM-ZT21',\n",
    "#             'circa4-Salk-ZT01','circa4-Salk-ZT05','circa4-Salk-ZT09','circa4-Salk-ZT13','circa4-Salk-ZT17','circa4-Salk-ZT21'\n",
    "            # ]\n",
    "# sample_1 = ['circa2-ZT01','run1-resegment', '3159-2','3159-3', '3159-4','3161-1','3161-2', '3161-3']\n",
    "# sample_1 = ['circa2-ZT01','circa4-IGM-ZT01','saggital']\n",
    "samples_ids = ['resegment', 'saggital']\n",
    "            "
   ]
  },
  {
   "cell_type": "code",
   "execution_count": null,
   "metadata": {},
   "outputs": [],
   "source": [
    "from quality_control import plot_mcc_density\n",
    "\n",
    "plot_mcc_density(sample_1 = samples_ids,\n",
    "                 save_plot = False,\n",
    "                 )"
   ]
  },
  {
   "cell_type": "code",
   "execution_count": null,
   "metadata": {},
   "outputs": [],
   "source": []
  }
 ],
 "metadata": {
  "kernelspec": {
   "display_name": "Python 3",
   "language": "python",
   "name": "python3"
  },
  "language_info": {
   "codemirror_mode": {
    "name": "ipython",
    "version": 3
   },
   "file_extension": ".py",
   "mimetype": "text/x-python",
   "name": "python",
   "nbconvert_exporter": "python",
   "pygments_lexer": "ipython3",
   "version": "3.11.3"
  }
 },
 "nbformat": 4,
 "nbformat_minor": 2
}
