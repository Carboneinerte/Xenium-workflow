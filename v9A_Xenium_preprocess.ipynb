{
 "cells": [
  {
   "cell_type": "markdown",
   "id": "24baff37-3f56-48f6-bf72-e6e2bbeb9d99",
   "metadata": {},
   "source": [
    "# Current version : 9.a (2025-04-22)"
   ]
  },
  {
   "cell_type": "markdown",
   "id": "79286a2e-6fc1-4948-a7c0-2e0c26d36216",
   "metadata": {},
   "source": [
    "# Libraries and directory (always run)"
   ]
  },
  {
   "cell_type": "code",
   "execution_count": null,
   "id": "8e770a84-80dc-4707-bfb5-41a990702672",
   "metadata": {},
   "outputs": [],
   "source": [
    "### import necessary libraries\n",
    "import anndata as ad\n",
    "from datetime import datetime\n",
    "import matplotlib.pyplot as plt\n",
    "from mpl_toolkits.axes_grid1 import make_axes_locatable\n",
    "import numpy as np\n",
    "import os\n",
    "import pandas as pd\n",
    "import random\n",
    "import seaborn as sns\n",
    "import scanpy as sc\n",
    "import warnings\n",
    "\n",
    "warnings.filterwarnings(\"ignore\") \n",
    "sc.logging.print_header()\n",
    "sc.set_figure_params(facecolor=\"white\", figsize=(8, 8))\n",
    "sc.settings.verbosity = 1 # errors (0), warnings (1), info (2), hints (3)\n",
    "plt.rcParams[\"font.family\"] = \"Arial\"\n",
    "sns.set_style(\"white\")\n",
    "\n",
    "# Note that BANKSY itself is deterministic, here the seeds affect the umap clusters and leiden partition\n",
    "seed = 1234\n",
    "np.random.seed(seed)\n",
    "random.seed(seed)\n",
    "\n",
    "start_time = datetime.now()\n",
    "\n",
    "def print_with_elapsed_time(message):\n",
    "    elapsed_time = datetime.now() - start_time\n",
    "    elapsed_seconds = elapsed_time.total_seconds()\n",
    "    print(f\"[{elapsed_seconds:.2f} seconds] {message}\")"
   ]
  },
  {
   "cell_type": "code",
   "execution_count": null,
   "id": "9d96ac02-b486-4bad-a849-e3eccd2d1517",
   "metadata": {},
   "outputs": [],
   "source": [
    "# print(f\"geopandas version: {gpd.__version__}\")\n",
    "print(f\"pandas version: {pd.__version__}\")\n",
    "print(f\"scanpy version: {sc.__version__}\")"
   ]
  },
  {
   "cell_type": "code",
   "execution_count": null,
   "id": "333b9efd-0b38-49f4-b65d-169891eb9c34",
   "metadata": {},
   "outputs": [],
   "source": [
    "### Directory where the data is stored\n",
    "\n",
    "# dir = \"/mnt/d/Xenium\" #Ubuntu\n",
    "dir = 'D:\\\\Xenium'\n",
    "# dir = \"/media/volume/data/spatial/hugo/data\" #Ubuntu\n",
    "# dir = \"/media/volume/data/spatial/hugo/data/k5\" #Ubuntu\n",
    "# dir = '/media/volume/volume_spatial/hugo/data/test'\n",
    "# dir = '/media/volume/volume_spatial/hugo/data'\n",
    "\n",
    "dir_notebook = 'D:\\\\Jupyter_notebook/Xenium_jupyter_notebook'\n",
    "# dir_notebook = '/mnt/d/Jupyter_notebook/Xenium_jupyter_notebook'\n",
    "# dir_notebook = '/media/volume/data/spatial/hugo/notebook'\n",
    "# dir_notebook = '/media/volume/volume_spatial/hugo/notebook'\n"
   ]
  },
  {
   "cell_type": "code",
   "execution_count": null,
   "id": "09a51ac7-3c97-4bdb-b6bb-3e579b0556b5",
   "metadata": {},
   "outputs": [],
   "source": [
    "# # # # ### HC ###\n",
    "\n",
    "# # # # ### make a list of samples and their ids to make the cell names unique\n",
    "# # # # #samples = [\"2505-1__20240404__003359\", \"2505-2__20240404__003359\", \"2670-1__20240404__003359\", \"3159-1__20240321__212855\", \"3160-1__20240321__212855\", \"3160-2__20240321__212855\"]\n",
    "# # # # #samples_ids = [\"2505-1\", \"2505-2\", \"2670-1\", \"3159-1\", \"3160-1\", \"3160-2\"]\n",
    "# # # # #name_dir = 'run1-2'\n",
    "\n",
    "# # # # # ### Run 1 resegmented\n",
    "# # # # samples = [\"2505-1_subsampled\", \"2505-2_subsampled\", \"2670-1_subsampled\", \n",
    "# # # #    \"3159-1_subsampled\"\n",
    "# # # #     , \"3160-1_subsampled\", \"3160-2_subsampled\"]\n",
    "# # # # samples_ids = [\"2505-1\", \"2505-2\", \"2670-1\", \n",
    "# # # #               \"3159-1\", \"3160-1\", \"3160-2\"       ]\n",
    "# # # # name_dir = 'run1-resegment'\n",
    "\n",
    "# # # # # # #Run 3\n",
    "# # # # # samples = [\"3159-2__20240530__205547\", \"3159-3__20240530__205547\", \"3159-4__20240530__205547\", \"3161-1__20240530__205547\", \"3161-2__20240530__205547\", \"3161-3__20240530__205547\"]\n",
    "# # # # # samples_ids = [\"3159-2\", \"3159-3\", \"3159-4\", \"3161-1\", \"3161-2\", \"3161-3\"]\n",
    "# # # # # name_dir = 'run3-all'\n",
    "\n",
    "# # # # # Run 3 Habenula\n",
    "# # # samples = [\"3159-2__20240530__205547\", \"3161-1__20240530__205547\"]\n",
    "# # # samples_ids = [\"3159-2\", \"3161-1\"]\n",
    "# # # name_dir = 'run3-Habenula'\n",
    "\n",
    "# # # # # # # Run 3 LGN\n",
    "# # # # samples = [\"3159-3__20240530__205547\", \"3161-2__20240530__205547\"]\n",
    "# # # # samples_ids = [\"3159-3\",\"3161-2\"]\n",
    "# # # # name_dir = 'run3-LGN'\n",
    "\n",
    "# # # # # #Run 3 SC\n",
    "samples = [\"3159-4\",\"3161-3\"]\n",
    "samples_ids = [\"3159-4\", \"3161-3\"]\n",
    "name_dir = 'run3-SC'\n",
    "\n",
    "# # # # # samples = [\"Xenium_Prime_Mouse_Brain_Coronal_FF_outs\"]\n",
    "# # # # # samples_ids = ['Xenium_Prime']\n",
    "# # # # # name_dir = 'test-prime'\n",
    "\n",
    "# # # # # # circa1\n",
    "# # samples = ['circa1_ZT1','circa1_ZT5','circa1_ZT9','circa1_ZT13','circa1_ZT17','circa1_ZT21']\n",
    "# # samples_ids = ['circa1-ZT1','circa1-ZT5','circa1-ZT9','circa1-ZT13','circa1-ZT17','circa1-ZT21',]\n",
    "# # name_dir = 'circa1'\n",
    "\n",
    "# # # ### circa2_\n",
    "# samples = ['circa2-ZT01','circa2-ZT05','circa2-ZT09','circa2-ZT13','circa2-ZT17','circa2-ZT21']\n",
    "# samples_ids = ['circa2-ZT01','circa2-ZT05','circa2-ZT09','circa2-ZT13','circa2-ZT17','circa2-ZT21',]\n",
    "# name_dir = 'circa2'\n",
    "\n",
    "# # ### circa3_\n",
    "# samples = ['circa3-ZT01','circa3-ZT05','circa3-ZT09','circa3-ZT13','circa3-ZT17','circa3-ZT21']\n",
    "# samples_ids = ['circa3-ZT01','circa3-ZT05','circa3-ZT09','circa3-ZT13','circa3-ZT17','circa3-ZT21',]\n",
    "# name_dir = 'circa3'\n",
    "\n",
    "# ### circa4-Salk\n",
    "# samples = ['circa4-Salk-ZT01',\n",
    "#            'circa4-Salk-ZT05','circa4-Salk-ZT09','circa4-Salk-ZT13','circa4-Salk-ZT17',\n",
    "#            'circa4-Salk-ZT21',]\n",
    "# samples_ids = ['circa4-Salk-ZT01',\n",
    "#                'circa4-Salk-ZT05','circa4-Salk-ZT09','circa4-Salk-ZT13','circa4-Salk-ZT17',\n",
    "#                'circa4-Salk-ZT21',]\n",
    "# name_dir = 'circa4-Salk'\n",
    "\n",
    "\n",
    "# circa4-IGM\n",
    "# samples_ids = ['circa4-IGM-ZT01','circa4-IGM-ZT05','circa4-IGM-ZT09'\n",
    "#                    ,'circa4-IGM-ZT13','circa4-IGM-ZT17','circa4-IGM-ZT21',\n",
    "#                    ]\n",
    "# samples = ['circa4-IGM-ZT01','circa4-IGM-ZT05','circa4-IGM-ZT09'\n",
    "#                    ,'circa4-IGM-ZT13','circa4-IGM-ZT17','circa4-IGM-ZT21',\n",
    "#                    ]\n",
    "# name_dir = 'circa4-IGM'\n",
    "\n",
    "\n",
    "# ### All 5k\n",
    "# samples_ids = ['circa2-ZT01','circa2-ZT05','circa2-ZT09','circa2-ZT13','circa2-ZT17','circa2-ZT21',\n",
    "#             'circa4-IGM-ZT01','circa4-IGM-ZT05','circa4-IGM-ZT09',\n",
    "#             'circa4-IGM-ZT13','circa4-IGM-ZT17','circa4-IGM-ZT21',\n",
    "#             'circa4-Salk-ZT01','circa4-Salk-ZT05','circa4-Salk-ZT09',\n",
    "#             'circa4-Salk-ZT13','circa4-Salk-ZT17','circa4-Salk-ZT21',\n",
    "#                 ]\n",
    "# samples = ['circa2-ZT01','circa2-ZT05','circa2-ZT09','circa2-ZT13','circa2-ZT17','circa2-ZT21',\n",
    "#             'circa4-IGM-ZT01','circa4-IGM-ZT05','circa4-IGM-ZT09',\n",
    "#             'circa4-IGM-ZT13','circa4-IGM-ZT17','circa4-IGM-ZT21',\n",
    "#             'circa4-Salk-ZT01','circa4-Salk-ZT05','circa4-Salk-ZT09',\n",
    "#             'circa4-Salk-ZT13','circa4-Salk-ZT17','circa4-Salk-ZT21',\n",
    "#                ]\n",
    "# name_dir = 'circa'\n",
    "\n",
    "\n",
    "# # # # # # ### ALL SAMPLES\n",
    "# samples = [\"2505-1__20240404__003359\", \"2505-2__20240404__003359\", \"2670-1__20240404__003359\", \"3159-1__20240321__212855\",\n",
    "#            \"3160-1__20240321__212855\", \"3160-2__20240321__212855\",\"3159-2__20240530__205547\", \"3161-1__20240530__205547\",\n",
    "#           \"3159-3__20240530__205547\", \"3161-2__20240530__205547\",\"3159-4__20240530__205547\",\"3161-3__20240530__205547\"]\n",
    "\n",
    "# samples_ids = [\"2505-1\", \"2505-2\", \"2670-1\", \"3159-1\",\n",
    "#                \"3160-1\", \"3160-2\",\"3159-2\", \"3161-1\",\n",
    "#               \"3159-3\",\"3161-2\",\"3159-4\", \"3161-3\"\n",
    "#               ]\n",
    "# name_dir = 'all-samples'\n",
    "\n",
    "# samples = [\"CONTROLS\",\"GCA\"]\n",
    "# samples_ids = [\"CONTROLS\",\"GCA\"]\n",
    "# name_dir = \"Human-arteries\"\n",
    "\n",
    "# samples = [\"Region1\"\n",
    "#         #    ,\"Region2\",\"Region3\"\n",
    "#            ]\n",
    "# samples_ids = [\"Region1\"\n",
    "#             #    ,\"Region2\",\"Region3\"\n",
    "#                ]\n",
    "# name_dir = \"MB_test\"\n",
    "\n",
    "\n",
    "# samples = ['S1_Region1']\n",
    "# samples_ids = [\"S1_Region1\"]\n",
    "# name_dir = 'march-test'"
   ]
  },
  {
   "cell_type": "markdown",
   "id": "4ce6ea78-93d2-48be-8b06-bab8f3dea046",
   "metadata": {},
   "source": [
    "# Data pre-processing"
   ]
  },
  {
   "cell_type": "markdown",
   "id": "6e1e18d6-8191-416f-b1b4-cfc829039268",
   "metadata": {},
   "source": [
    "## Import data from Xenium output"
   ]
  },
  {
   "cell_type": "code",
   "execution_count": null,
   "id": "6063461e",
   "metadata": {},
   "outputs": [],
   "source": [
    "from module.xenium_preprocessing import import_xenium\n",
    "\n",
    "adata = import_xenium(dir, dir_notebook, samples, samples_ids, name_dir)"
   ]
  },
  {
   "cell_type": "code",
   "execution_count": null,
   "id": "c7055e31",
   "metadata": {},
   "outputs": [],
   "source": [
    "# If you don't want to use MMC, skip to next section\n",
    "\n",
    "# Stop here and run MapMyCell with the individual h5ad generated.\n",
    "# Then put the .csv files obtained in the \"Correlation_Mapping\" folder, renamed as: {sample}_CorrelationMapping.csv\n"
   ]
  },
  {
   "cell_type": "code",
   "execution_count": null,
   "id": "b4510263",
   "metadata": {},
   "outputs": [],
   "source": [
    "from module.xenium_preprocessing import mmc_merge\n",
    "adata = mmc_merge(adata, dir_notebook, name_dir)"
   ]
  },
  {
   "cell_type": "code",
   "execution_count": null,
   "id": "afb92ddb",
   "metadata": {},
   "outputs": [],
   "source": [
    "adata.obs['mmc:subclass_name'].isna().sum()\n",
    "\n",
    "# Should be 0. If not zero, some cell are not annotated.\n",
    "# Check the name of the CorrelationMapping files; if there is any missing, etc.\n"
   ]
  },
  {
   "cell_type": "code",
   "execution_count": null,
   "id": "a282660a-1fb6-4726-a4d9-93df7a265a3c",
   "metadata": {
    "scrolled": true
   },
   "outputs": [],
   "source": [
    "if not os.path.exists(f\"h5ad/{name_dir}/\"):\n",
    "   os.makedirs(f\"h5ad/{name_dir}/\")\n",
    "adata.write(f\"h5ad/{name_dir}/{name_dir}_MMC.h5ad.gz\", compression='gzip')"
   ]
  },
  {
   "cell_type": "code",
   "execution_count": null,
   "id": "e7dab523",
   "metadata": {},
   "outputs": [],
   "source": [
    "adata = sc.read_h5ad(f\"h5ad/{name_dir}/{name_dir}_MMC.h5ad.gz\")"
   ]
  },
  {
   "cell_type": "markdown",
   "id": "70630955-c2c2-45f5-ac7e-5ee251757838",
   "metadata": {},
   "source": [
    "## Compute quality metrics"
   ]
  },
  {
   "cell_type": "code",
   "execution_count": null,
   "id": "c6c30815-18c5-430a-a9e8-6ecdf10f3b2c",
   "metadata": {},
   "outputs": [],
   "source": [
    "sc.pp.calculate_qc_metrics(adata,  percent_top=(10, 20, 50, 150), inplace=True)"
   ]
  },
  {
   "cell_type": "code",
   "execution_count": null,
   "id": "fb7d597c-5dc3-4ae1-9af0-bcc403a28949",
   "metadata": {
    "scrolled": true
   },
   "outputs": [],
   "source": [
    "cprobes = (adata.obs[\"control_probe_counts\"].sum() / adata.obs[\"total_counts\"].sum() * 100)\n",
    "cwords = (adata.obs[\"control_codeword_counts\"].sum() / adata.obs[\"total_counts\"].sum() * 100)\n",
    "print(f\"Negative DNA probe count % : {cprobes}\")\n",
    "print(f\"Negative decoding count % : {cwords}\")"
   ]
  },
  {
   "cell_type": "code",
   "execution_count": null,
   "id": "3697af8b-b24c-4cf1-8287-b09bd2161f93",
   "metadata": {
    "scrolled": true
   },
   "outputs": [],
   "source": [
    "fig, axs = plt.subplots(1, 4, figsize=(15, 3))\n",
    "\n",
    "axs[0].set_title(\"Total transcripts per cell\")\n",
    "sns.histplot(adata.obs[\"total_counts\"],kde=True,ax=axs[0])\n",
    "\n",
    "axs[1].set_title(\"Unique transcripts per cell\")\n",
    "sns.histplot(adata.obs[\"n_genes_by_counts\"],kde=True,ax=axs[1])\n",
    "\n",
    "axs[2].set_title(\"Area of segmented cells\")\n",
    "sns.histplot(adata.obs[\"cell_area\"], kde=True, ax=axs[2])\n",
    "\n",
    "axs[3].set_title(\"Nucleus ratio\")\n",
    "sns.histplot(adata.obs[\"nucleus_area\"] / adata.obs[\"cell_area\"], kde=True,ax=axs[3])\n",
    "\n",
    "if not os.path.exists(f\"{dir_notebook}/plot/{name_dir}/\"):\n",
    "   os.makedirs(f\"{dir_notebook}/plot/{name_dir}/\")\n",
    "plt.savefig(f\"{dir_notebook}/plot/{name_dir}/{name_dir}_quality-metrics.svg\")"
   ]
  },
  {
   "cell_type": "markdown",
   "id": "17b93527-326f-4392-9421-393fd773714e",
   "metadata": {},
   "source": [
    "## Normalize, PCA, UMAP"
   ]
  },
  {
   "cell_type": "code",
   "execution_count": null,
   "id": "8903607b-782b-41fc-8a7d-170745a0955a",
   "metadata": {},
   "outputs": [],
   "source": [
    "### Normalize, log1p, scale, PCA, and UMAP\n",
    "start_time = datetime.now()\n",
    "print_with_elapsed_time(f\"Start\")\n",
    "adata.layers[\"counts\"] = adata.X.copy()\n",
    "sc.pp.normalize_total(adata, inplace=True)\n",
    "print_with_elapsed_time(f\"Normalize done\")\n",
    "sc.pp.log1p(adata)\n",
    "print_with_elapsed_time(f\"log1p done\")"
   ]
  },
  {
   "cell_type": "code",
   "execution_count": null,
   "id": "44190d67-f02d-4b8b-9c11-6df5d298fa28",
   "metadata": {},
   "outputs": [],
   "source": [
    "if not os.path.exists(f\"h5ad/{name_dir}/\"):\n",
    "   os.makedirs(f\"h5ad/{name_dir}/\")\n",
    "adata.write(f\"h5ad/{name_dir}/{name_dir}_MMC_norm.h5ad.gz\", compression='gzip')"
   ]
  },
  {
   "cell_type": "code",
   "execution_count": null,
   "id": "c6d4574c",
   "metadata": {},
   "outputs": [],
   "source": [
    "import scanpy.external as sce\n",
    "\n",
    "start_time = datetime.now()\n",
    "sc.pp.pca(adata)\n",
    "print_with_elapsed_time(f\"pca done\")\n",
    "\n",
    "adata.obs['run'] = adata.obs_names.map(lambda name: name.split('-')[0]) ### If multiple runs combined in one dataset. Adapat separation sign to the actual name\n",
    "\n",
    "if adata.obs['run'].nunique() > 0:\n",
    "    sce.pp.harmony_integrate(adata, key = 'run', basis = f\"X_pca\",  adjusted_basis = f\"X_pca\") ### Will overwrite original pca. Change \"adjusted_basis\" name to save both.\n",
    "    print_with_elapsed_time(f\"Harmony done\")\n",
    "\n",
    "sc.pp.neighbors(adata)\n",
    "print_with_elapsed_time(f\"neighbors done\")\n",
    "sc.tl.umap(adata, min_dist = 1)\n",
    "print_with_elapsed_time(f\"umap done\")"
   ]
  },
  {
   "cell_type": "code",
   "execution_count": null,
   "id": "d66ba246",
   "metadata": {},
   "outputs": [],
   "source": [
    "sc.tl.leiden(adata, resolution = 0.7) ### Use a high resolution to obtain more clusters. They can be adjusted/merged/subclustered later"
   ]
  },
  {
   "cell_type": "code",
   "execution_count": null,
   "id": "ddd34e99",
   "metadata": {},
   "outputs": [],
   "source": [
    "if not os.path.exists(f\"h5ad/{name_dir}/\"):\n",
    "   os.makedirs(f\"h5ad/{name_dir}/\")\n",
    "adata.write(f\"{dir_notebook}/h5ad/{name_dir}/{name_dir}_clusters.h5ad.gz\", compression='gzip')"
   ]
  },
  {
   "cell_type": "code",
   "execution_count": null,
   "id": "2b3780dc-5ad8-46bc-b312-d6118cfbe03f",
   "metadata": {},
   "outputs": [],
   "source": [
    "adata = sc.read_h5ad(f\"{dir_notebook}/h5ad/{name_dir}/{name_dir}_clusters.h5ad.gz\")"
   ]
  },
  {
   "cell_type": "markdown",
   "id": "27a011b3",
   "metadata": {},
   "source": [
    "## Create a normalised datamatrix"
   ]
  },
  {
   "cell_type": "code",
   "execution_count": null,
   "id": "011cef20-5734-41f4-8ee5-ed1b208c770c",
   "metadata": {
    "scrolled": true
   },
   "outputs": [],
   "source": [
    "# Create a normalised datamatrix for saving to disk as a csv file - rows are cells, columns are genes\n",
    "df = pd.DataFrame(data=adata.X.toarray(), index=adata.obs_names, columns=adata.var_names)\n",
    "df.shape\n",
    "\n",
    "from module.xenium_preprocessing import add_annotations\n",
    "\n",
    "df = add_annotations(adata, df)\n",
    "\n",
    "### Extract normalized expression and clusters for individual cells\n",
    "if not os.path.exists(f\"{dir_notebook}/csv/{name_dir}/\"):\n",
    "   os.makedirs(f\"{dir_notebook}/csv/{name_dir}/\")\n",
    "# df.to_csv(f\"{dir_notebook}/csv/{name_dir}/{name_dir}_normalized_counts.csv.gz\",\n",
    "#          compression={'method': 'gzip'})\n",
    "df.to_parquet(f\"{dir_notebook}/csv/{name_dir}/{name_dir}_normalized_counts.parquet\")\n",
    "# adata.obs.to_csv(f\"{dir_notebook}/csv/{name_dir}/{name_dir}_MMC_norm.csv\")"
   ]
  },
  {
   "cell_type": "markdown",
   "id": "57169111",
   "metadata": {},
   "source": [
    "# End of this notebook"
   ]
  },
  {
   "cell_type": "markdown",
   "id": "7678ef3d",
   "metadata": {},
   "source": [
    "Next step : clusters annotation\n",
    "\n",
    "[v9B_Xenium_annotation_n_subsclustering](./v9B_Xenium_annotation_n_subsclustering.ipynb)"
   ]
  }
 ],
 "metadata": {
  "kernelspec": {
   "display_name": "Python 3",
   "language": "python",
   "name": "python3"
  },
  "language_info": {
   "codemirror_mode": {
    "name": "ipython",
    "version": 3
   },
   "file_extension": ".py",
   "mimetype": "text/x-python",
   "name": "python",
   "nbconvert_exporter": "python",
   "pygments_lexer": "ipython3",
   "version": "3.11.3"
  }
 },
 "nbformat": 4,
 "nbformat_minor": 5
}
