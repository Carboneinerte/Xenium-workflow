{
 "cells": [
  {
   "cell_type": "markdown",
   "id": "24baff37-3f56-48f6-bf72-e6e2bbeb9d99",
   "metadata": {},
   "source": [
    "# Current version : 6.10.a (2024-11-13)"
   ]
  },
  {
   "cell_type": "markdown",
   "id": "79286a2e-6fc1-4948-a7c0-2e0c26d36216",
   "metadata": {},
   "source": [
    "# Libraries and directory (always run)"
   ]
  },
  {
   "cell_type": "code",
   "execution_count": null,
   "id": "8e770a84-80dc-4707-bfb5-41a990702672",
   "metadata": {},
   "outputs": [],
   "source": [
    "### import necessary libraries\n",
    "import anndata as ad\n",
    "import anndata\n",
    "import csv\n",
    "from datetime import datetime\n",
    "\n",
    "import geopandas as gpd\n",
    "from IPython.display import display\n",
    "import matplotlib as mpl\n",
    "from matplotlib import animation\n",
    "import matplotlib.gridspec as gridspec\n",
    "from matplotlib.lines import Line2D\n",
    "from matplotlib.patches import Patch\n",
    "import matplotlib.pyplot as plt\n",
    "from mpl_toolkits.axes_grid1 import make_axes_locatable\n",
    "import math\n",
    "import networkx as nx\n",
    "import numpy as np\n",
    "import os\n",
    "import pandas as pd\n",
    "import pickle\n",
    "import random\n",
    "import re\n",
    "import seaborn as sns\n",
    "import scanpy as sc\n",
    "import scanpy.external as sce\n",
    "from scipy import stats\n",
    "from scipy.interpolate import CubicSpline\n",
    "from scipy.io import mmread\n",
    "from scipy.optimize import curve_fit\n",
    "import scipy.sparse as sparse\n",
    "from scipy.stats import pearsonr, pointbiserialr\n",
    "from shapely.geometry import Polygon, mapping, MultiPolygon\n",
    "from shapely.ops import unary_union\n",
    "from skimage import measure\n",
    "from sklearn.cluster import KMeans\n",
    "from sklearn.metrics import adjusted_rand_score\n",
    "from sklearn.neighbors import NearestNeighbors\n",
    "from sklearn.neighbors import KNeighborsClassifier\n",
    "import warnings\n",
    "\n",
    "warnings.filterwarnings(\"ignore\") \n",
    "sc.logging.print_header()\n",
    "sc.set_figure_params(facecolor=\"white\", figsize=(8, 8))\n",
    "sc.settings.verbosity = 1 # errors (0), warnings (1), info (2), hints (3)\n",
    "plt.rcParams[\"font.family\"] = \"Arial\"\n",
    "sns.set_style(\"white\")\n",
    "\n",
    "# Note that BANKSY itself is deterministic, here the seeds affect the umap clusters and leiden partition\n",
    "seed = 1234\n",
    "np.random.seed(seed)\n",
    "random.seed(seed)\n",
    "\n",
    "start_time = datetime.now()\n",
    "\n",
    "def print_with_elapsed_time(message):\n",
    "    elapsed_time = datetime.now() - start_time\n",
    "    elapsed_seconds = elapsed_time.total_seconds()\n",
    "    print(f\"[{elapsed_seconds:.2f} seconds] {message}\")"
   ]
  },
  {
   "cell_type": "code",
   "execution_count": null,
   "id": "9d96ac02-b486-4bad-a849-e3eccd2d1517",
   "metadata": {},
   "outputs": [],
   "source": [
    "# print(f\"geopandas version: {gpd.__version__}\")\n",
    "print(f\"pandas version: {pd.__version__}\")\n",
    "print(f\"scanpy version: {sc.__version__}\")"
   ]
  },
  {
   "cell_type": "code",
   "execution_count": null,
   "id": "333b9efd-0b38-49f4-b65d-169891eb9c34",
   "metadata": {},
   "outputs": [],
   "source": [
    "### Directory where the data is stored\n",
    "\n",
    "# dir = \"/mnt/d/Xenium\" #Ubuntu\n",
    "dir = 'D:\\\\Xenium'\n",
    "# dir = \"/media/volume/data/spatial/hugo/data\" #Ubuntu\n",
    "# dir = \"/media/volume/data/spatial/hugo/data/k5\" #Ubuntu\n",
    "# dir = '/media/volume/volume_spatial/hugo/data/test'\n",
    "# dir = '/media/volume/volume_spatial/hugo/data'\n",
    "\n",
    "dir_notebook = 'D:\\\\Jupyter_notebook/Xenium_jupyter_notebook'\n",
    "# dir_notebook = '/mnt/d/Jupyter_notebook/Xenium_jupyter_notebook'\n",
    "# dir_notebook = '/media/volume/data/spatial/hugo/notebook'\n",
    "# dir_notebook = '/media/volume/volume_spatial/hugo/notebook'\n"
   ]
  },
  {
   "cell_type": "code",
   "execution_count": null,
   "id": "09a51ac7-3c97-4bdb-b6bb-3e579b0556b5",
   "metadata": {},
   "outputs": [],
   "source": [
    "# # # # ### HC ###\n",
    "\n",
    "# # # # ### make a list of samples and their ids to make the cell names unique\n",
    "# # # # #samples = [\"2505-1__20240404__003359\", \"2505-2__20240404__003359\", \"2670-1__20240404__003359\", \"3159-1__20240321__212855\", \"3160-1__20240321__212855\", \"3160-2__20240321__212855\"]\n",
    "# # # # #samples_ids = [\"2505-1\", \"2505-2\", \"2670-1\", \"3159-1\", \"3160-1\", \"3160-2\"]\n",
    "# # # # #name_dir = 'run1-2'\n",
    "\n",
    "# # # # # ### Run 1 resegmented\n",
    "# # # # samples = [\"2505-1_subsampled\", \"2505-2_subsampled\", \"2670-1_subsampled\", \n",
    "# # # #    \"3159-1_subsampled\"\n",
    "# # # #     , \"3160-1_subsampled\", \"3160-2_subsampled\"]\n",
    "# # # # samples_ids = [\"2505-1\", \"2505-2\", \"2670-1\", \n",
    "# # # #               \"3159-1\", \"3160-1\", \"3160-2\"       ]\n",
    "# # # # name_dir = 'run1-resegment'\n",
    "\n",
    "# # # # # # #Run 3\n",
    "# # # # # samples = [\"3159-2__20240530__205547\", \"3159-3__20240530__205547\", \"3159-4__20240530__205547\", \"3161-1__20240530__205547\", \"3161-2__20240530__205547\", \"3161-3__20240530__205547\"]\n",
    "# # # # # samples_ids = [\"3159-2\", \"3159-3\", \"3159-4\", \"3161-1\", \"3161-2\", \"3161-3\"]\n",
    "# # # # # name_dir = 'run3-all'\n",
    "\n",
    "# # # # # Run 3 Habenula\n",
    "# # # samples = [\"3159-2__20240530__205547\", \"3161-1__20240530__205547\"]\n",
    "# # # samples_ids = [\"3159-2\", \"3161-1\"]\n",
    "# # # name_dir = 'run3-Habenula'\n",
    "\n",
    "# # # # # # # Run 3 LGN\n",
    "# # # # samples = [\"3159-3__20240530__205547\", \"3161-2__20240530__205547\"]\n",
    "# # # # samples_ids = [\"3159-3\",\"3161-2\"]\n",
    "# # # # name_dir = 'run3-LGN'\n",
    "\n",
    "# # # # # #Run 3 SC\n",
    "samples = [\"3159-4\",\"3161-3\"]\n",
    "samples_ids = [\"3159-4\", \"3161-3\"]\n",
    "name_dir = 'run3-SC'\n",
    "\n",
    "# # # # # samples = [\"Xenium_Prime_Mouse_Brain_Coronal_FF_outs\"]\n",
    "# # # # # samples_ids = ['Xenium_Prime']\n",
    "# # # # # name_dir = 'test-prime'\n",
    "\n",
    "# # # # # # circa1\n",
    "# # samples = ['circa1_ZT1','circa1_ZT5','circa1_ZT9','circa1_ZT13','circa1_ZT17','circa1_ZT21']\n",
    "# # samples_ids = ['circa1-ZT1','circa1-ZT5','circa1-ZT9','circa1-ZT13','circa1-ZT17','circa1-ZT21',]\n",
    "# # name_dir = 'circa1'\n",
    "\n",
    "# # # ### circa2_\n",
    "# samples = ['circa2-ZT01','circa2-ZT05','circa2-ZT09','circa2-ZT13','circa2-ZT17','circa2-ZT21']\n",
    "# samples_ids = ['circa2-ZT01','circa2-ZT05','circa2-ZT09','circa2-ZT13','circa2-ZT17','circa2-ZT21',]\n",
    "# name_dir = 'circa2'\n",
    "\n",
    "# # ### circa3_\n",
    "# samples = ['circa3-ZT01','circa3-ZT05','circa3-ZT09','circa3-ZT13','circa3-ZT17','circa3-ZT21']\n",
    "# samples_ids = ['circa3-ZT01','circa3-ZT05','circa3-ZT09','circa3-ZT13','circa3-ZT17','circa3-ZT21',]\n",
    "# name_dir = 'circa3'\n",
    "\n",
    "# ### circa4-Salk\n",
    "# samples = ['circa4-Salk-ZT01',\n",
    "#            'circa4-Salk-ZT05','circa4-Salk-ZT09','circa4-Salk-ZT13','circa4-Salk-ZT17',\n",
    "#            'circa4-Salk-ZT21',]\n",
    "# samples_ids = ['circa4-Salk-ZT01',\n",
    "#                'circa4-Salk-ZT05','circa4-Salk-ZT09','circa4-Salk-ZT13','circa4-Salk-ZT17',\n",
    "#                'circa4-Salk-ZT21',]\n",
    "# name_dir = 'circa4-Salk'\n",
    "\n",
    "\n",
    "# circa4-IGM\n",
    "# samples_ids = ['circa4-IGM-ZT01','circa4-IGM-ZT05','circa4-IGM-ZT09'\n",
    "#                    ,'circa4-IGM-ZT13','circa4-IGM-ZT17','circa4-IGM-ZT21',\n",
    "#                    ]\n",
    "# samples = ['circa4-IGM-ZT01','circa4-IGM-ZT05','circa4-IGM-ZT09'\n",
    "#                    ,'circa4-IGM-ZT13','circa4-IGM-ZT17','circa4-IGM-ZT21',\n",
    "#                    ]\n",
    "# name_dir = 'circa4-IGM'\n",
    "\n",
    "\n",
    "### All 5k\n",
    "# samples_ids = ['circa2-ZT01','circa2-ZT05','circa2-ZT09','circa2-ZT13','circa2-ZT17','circa2-ZT21',\n",
    "#             'circa4-IGM-ZT01','circa4-IGM-ZT05','circa4-IGM-ZT09',\n",
    "#             'circa4-IGM-ZT13','circa4-IGM-ZT17','circa4-IGM-ZT21',\n",
    "#             'circa4-Salk-ZT01','circa4-Salk-ZT05','circa4-Salk-ZT09',\n",
    "#             'circa4-Salk-ZT13','circa4-Salk-ZT17','circa4-Salk-ZT21',\n",
    "#                 ]\n",
    "# samples = ['circa2-ZT01','circa2-ZT05','circa2-ZT09','circa2-ZT13','circa2-ZT17','circa2-ZT21',\n",
    "#             'circa4-IGM-ZT01','circa4-IGM-ZT05','circa4-IGM-ZT09',\n",
    "#             'circa4-IGM-ZT13','circa4-IGM-ZT17','circa4-IGM-ZT21',\n",
    "#             'circa4-Salk-ZT01','circa4-Salk-ZT05','circa4-Salk-ZT09',\n",
    "#             'circa4-Salk-ZT13','circa4-Salk-ZT17','circa4-Salk-ZT21',\n",
    "#                ]\n",
    "# name_dir = 'circa'\n",
    "\n",
    "\n",
    "# # # # # # ### ALL SAMPLES\n",
    "# samples = [\"2505-1__20240404__003359\", \"2505-2__20240404__003359\", \"2670-1__20240404__003359\", \"3159-1__20240321__212855\",\n",
    "#            \"3160-1__20240321__212855\", \"3160-2__20240321__212855\",\"3159-2__20240530__205547\", \"3161-1__20240530__205547\",\n",
    "#           \"3159-3__20240530__205547\", \"3161-2__20240530__205547\",\"3159-4__20240530__205547\",\"3161-3__20240530__205547\"]\n",
    "\n",
    "# samples_ids = [\"2505-1\", \"2505-2\", \"2670-1\", \"3159-1\",\n",
    "#                \"3160-1\", \"3160-2\",\"3159-2\", \"3161-1\",\n",
    "#               \"3159-3\",\"3161-2\",\"3159-4\", \"3161-3\"\n",
    "#               ]\n",
    "# name_dir = 'all-samples'\n",
    "\n",
    "# samples = [\"CONTROLS\",\"GCA\"]\n",
    "# samples_ids = [\"CONTROLS\",\"GCA\"]\n",
    "# name_dir = \"Human-arteries\"\n",
    "\n",
    "# samples = [\"Region1\"\n",
    "#         #    ,\"Region2\",\"Region3\"\n",
    "#            ]\n",
    "# samples_ids = [\"Region1\"\n",
    "#             #    ,\"Region2\",\"Region3\"\n",
    "#                ]\n",
    "# name_dir = \"MB_test\"\n",
    "\n",
    "\n",
    "# samples = ['S1_Region1']\n",
    "# samples_ids = [\"S1_Region1\"]\n",
    "# name_dir = 'march-test'"
   ]
  },
  {
   "cell_type": "markdown",
   "id": "620bf77b",
   "metadata": {},
   "source": [
    "# Data importation"
   ]
  },
  {
   "cell_type": "code",
   "execution_count": null,
   "id": "2b3780dc-5ad8-46bc-b312-d6118cfbe03f",
   "metadata": {},
   "outputs": [],
   "source": [
    "import scanpy as sc\n",
    "\n",
    "adata = sc.read_h5ad(f\"{dir_notebook}/h5ad/{name_dir}/{name_dir}_clusters.h5ad.gz\")"
   ]
  },
  {
   "cell_type": "markdown",
   "id": "01309f4f-9c40-4b93-8b65-821899c361b8",
   "metadata": {},
   "source": [
    "# Annotations"
   ]
  },
  {
   "cell_type": "markdown",
   "id": "bd05e5df-bbd5-4e3d-a1fb-fee08a73a470",
   "metadata": {},
   "source": [
    "## Initial annotation"
   ]
  },
  {
   "cell_type": "markdown",
   "id": "5becf38a",
   "metadata": {},
   "source": [
    "### Automatic initial annotation"
   ]
  },
  {
   "cell_type": "code",
   "execution_count": null,
   "id": "221c0573",
   "metadata": {},
   "outputs": [],
   "source": [
    "from module.subclustering_Xe import automatic_initial_annotation\n",
    "\n",
    "adata = automatic_initial_annotation(adata, 'leiden')"
   ]
  },
  {
   "cell_type": "markdown",
   "id": "b9eec4ef",
   "metadata": {},
   "source": [
    "### File save"
   ]
  },
  {
   "cell_type": "code",
   "execution_count": null,
   "id": "6e958e7b-8436-4384-b5bb-d4f29fb176af",
   "metadata": {
    "scrolled": true
   },
   "outputs": [],
   "source": [
    "if 'leiden_colors' in adata_spatial.obs:\n",
    "    adata_spatial.obs = adata_spatial.obs.drop(columns=['leiden_colors'])\n",
    "\n",
    "adata_spatial.write(f\"{dir_notebook}/h5ad/{name_dir}/{name_dir}_clusters.h5ad.gz\", compression='gzip')"
   ]
  },
  {
   "cell_type": "code",
   "execution_count": null,
   "id": "0d5fde2d-3a3c-4f6d-999a-7b51611eb081",
   "metadata": {},
   "outputs": [],
   "source": [
    "adata = sc.read_h5ad(f\"{dir_notebook}/h5ad/{name_dir}/{name_dir}_clusters.h5ad.gz\")"
   ]
  },
  {
   "cell_type": "markdown",
   "id": "21e562fa-fd3e-4c18-b040-c4aea6542d6e",
   "metadata": {},
   "source": [
    "## Cluster check"
   ]
  },
  {
   "cell_type": "code",
   "execution_count": null,
   "id": "75e152d3",
   "metadata": {},
   "outputs": [],
   "source": [
    "adata"
   ]
  },
  {
   "cell_type": "code",
   "execution_count": null,
   "id": "105e7978-41f7-4a4a-97a9-900fbd1b081f",
   "metadata": {},
   "outputs": [],
   "source": [
    "# Generate new numbering base on unique 'cell type'\n",
    "# all_cell_type = adata.obs['cell type'].unique()\n",
    "# list_cell_nb = range(0, len(all_cell_type))\n",
    "# mapping_dict = dict(zip(all_cell_type,list_cell_nb))\n",
    "# adata.obs['cell_type_newnum'] = adata.obs['cell type'].map(mapping_dict)\n",
    "# mapping_dict\n",
    "\n",
    "# all_cell_type = adata.obs['cell_type_auto'].unique()\n",
    "# list_cell_nb = range(0, len(all_cell_type))\n",
    "# mapping_dict = dict(zip(all_cell_type,list_cell_nb))\n",
    "# adata.obs['cell_type_newnum_auto'] = adata.obs['cell_type_auto'].map(mapping_dict)\n",
    "# mapping_dict\n",
    "\n",
    "# all_cell_type = adata.obs['cell_type_final'].unique()\n",
    "# list_cell_nb = range(0, len(all_cell_type))\n",
    "# mapping_dict = dict(zip(all_cell_type,list_cell_nb))\n",
    "# adata.obs['cell_type_newnum_final'] = adata.obs['cell_type_final'].map(mapping_dict)\n",
    "# mapping_dict\n",
    "\n",
    "# all_cell_type = adata.obs['mmc:subclass_name'].unique()\n",
    "# list_cell_nb = range(0, len(all_cell_type))\n",
    "# mapping_dict = dict(zip(all_cell_type,list_cell_nb))\n",
    "# adata.obs['mmc:subclass_num'] = adata.obs['mmc:subclass_name'].map(mapping_dict)\n",
    "# mapping_dict\n",
    "\n",
    "# all_cell_type = adata.obs['mmc:class_name'].unique()\n",
    "# list_cell_nb = range(0, len(all_cell_type))\n",
    "# mapping_dict = dict(zip(all_cell_type,list_cell_nb))\n",
    "# adata.obs['mmc:class_num'] = adata.obs['mmc:class_name'].map(mapping_dict)\n",
    "# mapping_dict\n"
   ]
  },
  {
   "cell_type": "code",
   "execution_count": null,
   "id": "95600405-89fc-4572-9987-abaa5f51be2d",
   "metadata": {
    "scrolled": true
   },
   "outputs": [],
   "source": [
    "# adata.obs.groupby('cell type')['cell type'].count()\n",
    "adata.obs['cell_type_final'].value_counts().sort_index()"
   ]
  },
  {
   "cell_type": "code",
   "execution_count": null,
   "id": "16092dd5-0748-494c-8b89-8e5e5930922d",
   "metadata": {},
   "outputs": [],
   "source": [
    "### Check clusters one by one to see if they are present in all sample and which would need subclustering\n",
    "\n",
    "cluster_to_use = 'cell_type_newnum_auto'\n",
    "# cluster_to_use = 'cell_type_newnum_auto_sub'\n",
    "# cluster_to_use = 'cell_type_newnum_final'\n",
    "# cluster_to_use = 'mmc:subclass_num'\n",
    "# cluster_to_use = 'mmc:class_num'\n",
    "\n",
    "### Generate a color palette for the clusters - to make color stay consistent across samples\n",
    "adata.obs[cluster_to_use] = adata.obs[cluster_to_use].astype(str)\n",
    "\n",
    "# Create a palette with a unique color for each cluster\n",
    "num_clusters = len(adata.obs[cluster_to_use].astype(int).unique())\n",
    "palette = sns.color_palette(\"tab20b\", n_colors=num_clusters +1)\n",
    "\n",
    "# Map each 'leiden' value to a color\n",
    "adata.obs['leiden_colors'] = adata.obs[cluster_to_use].astype(int).apply(lambda x: palette[x])\n",
    "\n",
    "# Map all cells\n",
    "fig, axs = plt.subplots(6,3,figsize=(15, 20))\n",
    "axs = axs.flatten()\n",
    "clusters_plot = {\"14\":'black', ### For VLMC\n",
    "    '0': 'lightcoral', \"1\" : 'forestgreen', '2':'red', \"3\":'purple', \"4\":\"yellow\",\n",
    "    # '5': 'lightcoral', \"6\" : 'forestgreen', \"7\":'red', \"8\":'purple', \"9\":\"yellow\"\n",
    "    # '10': 'lightcoral',\"11\": 'forestgreen', '12':'red', \"13\":'purple', \"14\":\"yellow\", \"15\": \"blue\",\n",
    "    # '16': 'lightcoral',\"17\": 'forestgreen', '18':'red', \"19\":'purple', \"20\":\"yellow\"\n",
    "    # '21': 'lightcoral',\"22\": 'forestgreen', '23':'red', \"\":'purple', \"\":\"yellow\",\n",
    "    # '24': 'lightcoral',\"25\": 'forestgreen', '26':'red', \"27\":'purple', \"28\":\"yellow\",\n",
    "    # '29': 'lightcoral',\"30\": 'forestgreen', '31':'red', \"32\":'purple', \"33\":\"yellow\",\n",
    "    # '34': 'lightcoral',\"35\": 'forestgreen', '36':'red', \"37\":'purple', \"38\":\"yellow\", \"39\": \"blue\",\n",
    "    # '40': 'lightcoral',\"41\": 'forestgreen', '42':'red', \"43\":'purple', \"44\":\"yellow\", \"45\": \"blue\",\n",
    "    # '46': 'lightcoral',\"47\": 'forestgreen', '48':'red', \"49\":'purple', \"50\":\"orange\", \"51\": \"blue\",\n",
    "    # '52': 'lightcoral',\"53\": 'forestgreen', '54':'red', \"55\":'purple', \"56\":\"yellow\", \"57\": \"blue\",\n",
    "    # '58': 'lightcoral',\"59\": 'forestgreen', '60':'red', \"61\":'purple', \"62\":\"yellow\", \"63\": \"blue\",\n",
    "    # '64': 'lightcoral',\"65\": 'forestgreen', '66':'red', \"67\":'purple', \"68\":\"yellow\", \"69\": \"blue\",\n",
    "    # '70': 'lightcoral',\"71\": 'forestgreen', '72':'red', \"73\":'purple', \"74\":\"yellow\", \"75\": \"blue\",\n",
    "    # '76': 'lightcoral',\"77\": 'forestgreen', '78':'red', \"79\":'purple', \"80\":\"yellow\", \"81\": \"blue\",\n",
    "    # '82': 'lightcoral',\"83\": 'forestgreen', '84':'red', \"85\":'purple', \"86\":\"orange\", \"87\": \"blue\",\n",
    "    # '88': 'lightcoral',\"89\": 'forestgreen', '90':'red', \"91\":'purple', \"92\":\"yellow\", \"93\": \"blue\",\n",
    "    # '94': 'lightcoral',\"95\": 'forestgreen', '96':'red', \"97\":'purple', \"98\":\"yellow\", \"99\": \"blue\",\n",
    "    # '100':'lightcoral',\"101\": 'forestgreen', '102':'red', \"103\":'purple', \"104\":\"yellow\", \"105\": \"blue\",\n",
    "\n",
    "\n",
    "    '13': 'lightcoral',\"15\": 'forestgreen', '16':'red', \"\":'purple', \"32\":\"orange\",'':'blue',\n",
    "    # '59': 'lightcoral',\"60\": 'forestgreen', '64':'red', \"65\":'purple', \"61\":\"yellow\",\n",
    "}\n",
    "\n",
    "for idx, sample in enumerate(samples_ids):\n",
    "    adata_sel = adata[(adata.obs['sample'] == sample)]\n",
    "    for cluster_id in adata_sel.obs[cluster_to_use].unique():\n",
    "        cluster_data = adata_sel.obs[adata_sel.obs[cluster_to_use] == cluster_id]\n",
    "        colors = clusters_plot[cluster_id] if cluster_id in clusters_plot else \"none\" ### for selected clusters in cluster_plot\n",
    "        # colors = cluster_data['leiden_colors'].unique()[0] ### uncomment for all clusters\n",
    "        axs[idx].scatter(cluster_data['x_centroid'], cluster_data['y_centroid'], color=colors, s=0.01, label=cluster_id)\n",
    "        axs[idx].get_xaxis().set_visible(False)\n",
    "        axs[idx].get_yaxis().set_visible(False)\n",
    "        axs[idx].set_title(f\"Sample {sample}\")\n",
    "del adata_sel"
   ]
  },
  {
   "cell_type": "code",
   "execution_count": null,
   "id": "dfe7492b-b2ad-4e7b-b2de-6e1d2ad02d5e",
   "metadata": {},
   "outputs": [],
   "source": [
    "from matplotlib.pyplot import rc_context\n",
    "with rc_context({\"figure.figsize\": (10, 10)}):\n",
    "    sc.pl.umap(\n",
    "        adata,\n",
    "        color=\"cell_type_auto_sub\",\n",
    "        add_outline=True,\n",
    "        legend_loc=\"on data\",\n",
    "        legend_fontsize=12,\n",
    "        legend_fontoutline=2,\n",
    "        frameon=False,\n",
    "        title=\"clustering of cells\",\n",
    "        palette=\"tab20\",\n",
    "    )"
   ]
  },
  {
   "cell_type": "code",
   "execution_count": null,
   "id": "2ad5e3d8-b70c-4b85-b97d-7dd87cd29b72",
   "metadata": {},
   "outputs": [],
   "source": [
    "# To rename a cell type in case of typo or mistakes (easier than re-running)\n",
    "rename_subclass = {\n",
    "'AbC':'ABC',\n",
    "'L2/3 IT RSP Glut' : 'L2 3 IT RSP Glut' ,\n",
    "'L2 3 IT PIR-ENTl Glut':'L2 3 IT PIR ENTl Glut',\n",
    "}\n",
    "                  \n",
    "adata.obs['cell_type_final'] = adata.obs['cell_type_final'].apply(lambda x: rename_subclass[x] if x in rename_subclass else x)\n",
    "adata.obs['cell_type_final'].unique()"
   ]
  },
  {
   "cell_type": "code",
   "execution_count": null,
   "id": "1a79c369-8a8a-490b-b37a-59eaf91828bd",
   "metadata": {},
   "outputs": [],
   "source": [
    "# To rename a cell type in case of typo or mistakes (easier than re-running)\n",
    "rename_subclass = {'L4/5 IT CTX': 'L4 5 IT CTX',\n",
    "                   'L2/3 IT CTX': 'L2 3 IT CTX',\n",
    "                   'CA1-ProS':  'CA1 ProS',\n",
    "                   'STN-PSTN': 'STN PSTN',\n",
    "                   'SUB-ProS': 'SUB ProS',\n",
    "                   'L2/3 IT RSP': 'L2 3 IT RSP',\n",
    "                   'L2/3 UT RSP': 'L2 3 IT RSP',\n",
    "                   'L2/3 IT ENT': 'L2 3 IT ENT',\n",
    "                   'L5/6 IT TPE-ENT': 'L5 6 IT TPE ENT',\n",
    "                   'CLA-EPd-CTX': 'CLA EPd CTX',\n",
    "                   'STR D1/D2': 'STR D1D2 GABA',\n",
    "                   'STR D1/D2 GABA': 'STR D1D2 GABA',\n",
    "                   'L2/3 IT PIR-ENTI': 'L2 3 IT PIR ENTI',\n",
    "                   'L2/3 PIR-ENTI': 'L2 3 IT PIR ENTI',\n",
    "                   'L2 3 IT PIR-ENTI': 'L2 3 IT PIR ENTI',\n",
    "                   'Pvalb-Sst GABA': 'interneurons GABA',\n",
    "                   'L4/5 IT CTX': 'L4 5 IT CTX',\n",
    "                   'MEA-BST GABA': 'MEA BST GABA',\n",
    "                   'TRS-BAC Glut': 'TRS BAC Glut',\n",
    "                   'STR-PAL GABA': 'STR PAL GABA',\n",
    "                   'PAL-STR GABA-Chol': 'PAL STR GABA Chol',\n",
    "                   'RT-ZI Glut': 'RT ZI Glut',\n",
    "                   'CLA-EPd-CTX Glut':  'CLA EPd CTX Glut',\n",
    "                   'RT-ZI': 'RT ZI',\n",
    "                   'CA1-ProS': 'CA1 ProS',\n",
    "                   'Chor':'CHOR',\n",
    "                   'L2/3 IT':  'L2 3 IT',\n",
    "                   'L2/3 IT CTX': 'L2 3 IT CTX',\n",
    "                   'Pvalb-Sst': 'interneurons GABA',\n",
    "                   'IT EP-CLA': 'IT EP CLA',\n",
    "                   'L4 RSP-ACA': 'L4 RSP ACA',\n",
    "                   'Sub-ProS': 'SUB ProS',\n",
    "                   'Interneurons GABA':'interneurons GABA',\n",
    "\n",
    "                   \n",
    "                   \n",
    "                  }\n",
    "adata.obs['cell type'] = adata.obs['cell type'].apply(lambda x: rename_subclass[x] if x in rename_subclass else x)\n",
    "adata.obs['cell type'].unique()"
   ]
  },
  {
   "cell_type": "code",
   "execution_count": null,
   "id": "8a63a678-00ee-4467-b9f2-83194518d321",
   "metadata": {},
   "outputs": [],
   "source": [
    "adata.obsm['X_pca'] = adata.obsm['reduced_pc_20']\n",
    "adata.obsm['X_umap'] = adata.obsm['reduced_pc_20_umap']"
   ]
  },
  {
   "cell_type": "code",
   "execution_count": null,
   "id": "fc7e1af7-78af-4eb2-b29c-5f56a2c27d2f",
   "metadata": {
    "scrolled": true
   },
   "outputs": [],
   "source": [
    "if 'leiden_colors' in adata.obs:\n",
    "    adata.obs = adata.obs.drop(columns=['leiden_colors'])\n",
    "\n",
    "# adata.write(f\"{dir_notebook}/h5ad/{name_dir}/{name_dir}_MMC_Banksy_clusters.h5ad.gz\", compression='gzip')\n",
    "adata.write(f\"{dir_notebook}/h5ad/{name_dir}/{name_dir}_MMC_Banksy_clusters_combined.h5ad.gz\", compression='gzip')"
   ]
  },
  {
   "cell_type": "code",
   "execution_count": null,
   "id": "4e3f3e10-f1c4-4864-a41c-79737e8e9c9c",
   "metadata": {},
   "outputs": [],
   "source": [
    "adata = sc.read_h5ad(f\"{dir_notebook}/h5ad/{name_dir}/{name_dir}_MMC_Banksy_clusters_combined.h5ad.gz\")"
   ]
  },
  {
   "cell_type": "markdown",
   "id": "a46eeab9-f22c-418a-99ea-5c91751c88b2",
   "metadata": {},
   "source": [
    "## Subclustering"
   ]
  },
  {
   "cell_type": "code",
   "execution_count": null,
   "id": "da5d8f4d-0653-42d7-a39d-4de92c848366",
   "metadata": {},
   "outputs": [],
   "source": [
    "# adata.obs.groupby('cell type')['cell type'].count()\n",
    "adata.obs['cell_type_newnum_auto'].value_counts()"
   ]
  },
  {
   "cell_type": "markdown",
   "id": "966ec177",
   "metadata": {},
   "source": [
    "### Automatic subclustering"
   ]
  },
  {
   "cell_type": "code",
   "execution_count": null,
   "id": "da120e5d",
   "metadata": {},
   "outputs": [],
   "source": [
    "from module.subclustering_Xe import auto_subclustering2\n",
    "\n",
    "auto_subclustering2(adata_to_sub = adata, ###\n",
    "                    all_types =  'all', ### 'all' or ['0','1'] for selected number of clusters\n",
    "                    Clusters_to_use = 'cell_type_newnum_auto',\n",
    "                    resolution = 0.05)"
   ]
  },
  {
   "cell_type": "code",
   "execution_count": null,
   "id": "0fe2d157",
   "metadata": {},
   "outputs": [],
   "source": [
    "from subclustering_Xe import cluster_table\n",
    "\n",
    "cont_tab, cont_tab_sub, cluster_df = cluster_table(adata_to_use = adata,\n",
    "                                                   Clusters_to_use = 'cell_type_newnum_auto_sub',\n",
    "                                                   sort_order='Cell Count',\n",
    "                                                   sort_ascend = True\n",
    "                                                   )\n",
    "\n",
    "cluster_df"
   ]
  },
  {
   "cell_type": "code",
   "execution_count": null,
   "id": "cc3494d8",
   "metadata": {},
   "outputs": [],
   "source": [
    "tst_dict = cont_tab_sub.T.idxmax(axis=0).to_dict()\n",
    "tst_dict = dict(zip(cluster_df.index, cluster_df['Celltype']))\n",
    "tst_dict"
   ]
  },
  {
   "cell_type": "markdown",
   "id": "c1ed97b2",
   "metadata": {},
   "source": [
    "#### Final clusters"
   ]
  },
  {
   "cell_type": "code",
   "execution_count": null,
   "id": "54d1f391",
   "metadata": {},
   "outputs": [],
   "source": [
    "# Final clusters\n",
    "rename_subclass = {\"31\": 'CLA EPd CTX Glut',\n",
    " \"25\": 'L6 IT CTX Glut',\n",
    " \"34\": 'L4 5 IT CTX Glut',\n",
    " \"35\": 'L2 3 IT CTX Glut',\n",
    " \"9\": 'L2 3 IT PIR-ENTl Glut',\n",
    " \"39\": 'CA1 ProS Glut',\n",
    " \"27\": 'CA3 Glut',\n",
    " \"44\": 'L2/3 IT RSP Glut',\n",
    " \"45\": 'L4 RSP ACA Glut',\n",
    " \"36\": 'L5 ET CTX Glut',\n",
    " \"28\": 'CA2 FC IG Glut',\n",
    " \"53\": 'NLOT Glut',\n",
    " \"32\": 'L6b CTX Glut',\n",
    " \"33\": 'L6 CT CTX Glut',\n",
    " \"37\": 'L5 NP CTX Glut',\n",
    " \"47\": 'HPF CR Glut',\n",
    " \"43\": 'DG Glut',\n",
    " \"51\": 'OB STR CTX Inh IMN',\n",
    " \"26\": 'Vip Gaba',\n",
    " \"29\": 'Lamp5 Gaba',\n",
    " \"12\": 'Pvalb Gaba',\n",
    " \"11\": 'Sst Gaba',\n",
    " \"17\": 'STR D1D2 Gaba',\n",
    " \"24\": 'PAL STR Gaba Chol',\n",
    " \"14\": 'STR D1D2 Gaba',\n",
    " \"18\": 'STR D1D2 Gaba',\n",
    " \"48\": 'STR D1D2 Gaba',\n",
    " \"38\": 'STR PAL Gaba',\n",
    " \"52\": 'LSX Gaba',\n",
    " \"16\": 'CEA BST Gaba',\n",
    " \"15\": 'CEA BST Gaba',\n",
    " \"23\": 'RT ZI Gaba',\n",
    " \"55\": 'SCH Gaba',\n",
    " \"54\": 'BST po Glut',\n",
    " \"49\": 'TRS BAC Glut',\n",
    " \"10\": 'COAa PAA MEA Glut',\n",
    " \"1\": 'VMH Glut',\n",
    " \"21\": 'AHN RCH LHA Glut',\n",
    " \"5\": 'PVH SO PVa Glut',\n",
    " \"42\": 'MH Glut',\n",
    " \"41\": 'LH Glut',\n",
    " \"56\": 'AD Glut',\n",
    " \"4\": 'TH Glut',\n",
    " \"50\": 'MB Gaba',\n",
    " \"8\": 'Astro TE',\n",
    " \"0\": 'Tanycyte',\n",
    " \"2\": 'Ependymal',\n",
    " \"40\": 'Choroid',\n",
    " \"20\": 'OPC',\n",
    " \"3\": 'Oligodendrocyte',\n",
    " \"13\": 'ABC',\n",
    " \"19\": 'VLMC',\n",
    " \"30\": 'Pericyte',\n",
    " \"46\": 'Endothelial',\n",
    " \"6\": 'Endothelial',\n",
    " \"7\": 'Microglia',\n",
    " \"22\": 'Microglia'}\n",
    "\n",
    "adata.obs['cell_type_final'] = adata.obs['cell_type_newnum_auto_sub'].apply(lambda x: rename_subclass[x] if x in rename_subclass else x)\n",
    "adata.obs['cell_type_final'].unique()\n",
    "\n",
    "all_cell_type = adata.obs['cell_type_final'].unique()\n",
    "list_cell_nb = range(0, len(all_cell_type))\n",
    "mapping_dict = dict(zip(all_cell_type,list_cell_nb))\n",
    "adata.obs['cell_type_newnum_final'] = adata.obs['cell_type_final'].map(mapping_dict)\n",
    "mapping_dict"
   ]
  },
  {
   "cell_type": "code",
   "execution_count": null,
   "id": "25c5ba42",
   "metadata": {},
   "outputs": [],
   "source": [
    "### To rename only some cell types\n",
    "rename_subclass = dict(zip(adata.obs['cell_type_newnum_final'],adata.obs['cell_type_final']))\n",
    "rename_subclass_temp = {\n",
    "13:'STR PAL Gaba',\n",
    "14:'L2 3 IT PIR ENTl Glut',\n",
    "20 : 'L2 3 IT CTX',\n",
    "22:'STR D1D2 Gaba',\n",
    "31: 'OB STR CTX Inh IMN',\n",
    "32 : 'L4 5 IT CTX Glut',\n",
    "33 :'CLA EPd CTX Glut',\n",
    "35 : 'PAL STR Gaba Chol',\n",
    "36 :'BST po Glut',\n",
    "43  : 'RT ZI Gaba',\n",
    "44 :'TRS BAC Glut',\n",
    "45 :'L2 3 IT RSP Glut',\n",
    "46: 'CA2 FC IG Glut',\n",
    "54:'CA1 ProS Glut',\n",
    "}\n",
    "rename_subclass.update(rename_subclass_temp)\n",
    "adata.obs['cell_type_final'] = adata.obs['cell_type_newnum_final'].apply(lambda x: rename_subclass[x] if x in rename_subclass else x)\n",
    "adata.obs['cell_type_final'].unique()\n",
    "\n",
    "all_cell_type = adata.obs['cell_type_final'].unique()\n",
    "list_cell_nb = range(0, len(all_cell_type))\n",
    "mapping_dict = dict(zip(all_cell_type,list_cell_nb))\n",
    "adata.obs['cell_type_newnum_final'] = adata.obs['cell_type_final'].map(mapping_dict)\n",
    "mapping_dict"
   ]
  },
  {
   "cell_type": "code",
   "execution_count": null,
   "id": "6fd6bb87-a429-468e-9f52-4184009deda3",
   "metadata": {},
   "outputs": [],
   "source": [
    "### Correlation map\n",
    "# Clusters_to_use = 'cell_type_newnum_auto_sub'\n",
    "# cont_tab = pd.crosstab(adata_filter.obs[Clusters_to_use], adata_filter.obs['mmc:class_name'], normalize=\"index\")\n",
    "# cont_tab = cont_tab.loc[:, cont_tab.sum(axis=0) > 0.1] \n",
    "plt.figure(figsize=(40, 20))\n",
    "sns.heatmap(cont_tab.T, annot=True, cmap=\"YlGnBu\", fmt=\".1f\", cbar = False)"
   ]
  },
  {
   "cell_type": "code",
   "execution_count": null,
   "id": "6fb470eb-8a55-4526-b197-f7558f59268a",
   "metadata": {},
   "outputs": [],
   "source": [
    "### Correlation map\n",
    "# cont_tab_sub = pd.crosstab(adata_filter.obs[Clusters_to_use],adata_filter.obs['mmc:subclass_name'], normalize=\"index\")\n",
    "# cont_tab_sub = cont_tab_sub.loc[:, cont_tab_sub.sum(axis=0) > 0.05] \n",
    "plt.figure(figsize=(40, 50))\n",
    "sns.heatmap(cont_tab_sub.T, annot=True, cmap=\"YlGnBu\", fmt=\".1f\", cbar = False)"
   ]
  },
  {
   "cell_type": "code",
   "execution_count": null,
   "id": "e10c92e1",
   "metadata": {},
   "outputs": [],
   "source": [
    "cont_tab_sub.T[2].sort_values(ascending=False).head(15)"
   ]
  },
  {
   "cell_type": "markdown",
   "id": "dbbd3662",
   "metadata": {},
   "source": [
    "### Manual subclustering"
   ]
  },
  {
   "cell_type": "code",
   "execution_count": null,
   "id": "e5dc18a9",
   "metadata": {},
   "outputs": [],
   "source": [
    "# Clusters_to_use = 'cell_type_newnum_auto'\n",
    "# Clusters_to_use = 'cell_type_newnum_auto_sub'\n",
    "Clusters_to_use = 'cell_type_newnum_final'\n",
    "# Clusters_to_use = 'cell_type_newnum'\n",
    "# Clusters_to_use = 'leiden'\n",
    "adata_filter = adata"
   ]
  },
  {
   "cell_type": "code",
   "execution_count": null,
   "id": "ed293678",
   "metadata": {},
   "outputs": [],
   "source": [
    "### Correlation map\n",
    "cont_tab = pd.crosstab(adata_filter.obs[Clusters_to_use], adata_filter.obs['mmc:subclass_name'], normalize=\"index\")\n",
    "cont_tab = cont_tab.loc[:, cont_tab.sum(axis=0) > 0.1] \n",
    "plt.figure(figsize=(40, 40))\n",
    "sns.heatmap(cont_tab.T, annot=True, cmap=\"YlGnBu\", fmt=\".1f\", cbar = False)"
   ]
  },
  {
   "cell_type": "code",
   "execution_count": null,
   "id": "3a2c3608-8bc0-4148-8be7-a940dfbd296d",
   "metadata": {},
   "outputs": [],
   "source": [
    "### Select a cluster to subcluster\n",
    "cluster_to_sub = \"1\"\n",
    "\n",
    "adata_subcluster = adata_filter[adata_filter.obs[Clusters_to_use] == cluster_to_sub]\n",
    "adata_subcluster.obs[Clusters_to_use].sample() , adata_subcluster.shape"
   ]
  },
  {
   "cell_type": "code",
   "execution_count": null,
   "id": "d9666f0a-c95f-4772-8d33-5bcb3259aad5",
   "metadata": {},
   "outputs": [],
   "source": [
    "sc.pp.pca(adata_subcluster)\n",
    "sc.pp.neighbors(adata_subcluster)\n",
    "sc.tl.umap(adata_subcluster)"
   ]
  },
  {
   "cell_type": "code",
   "execution_count": null,
   "id": "0841bf08-59e9-4486-83fa-8508f76d3acf",
   "metadata": {},
   "outputs": [],
   "source": [
    "# extract pca coordinates\n",
    "X_pca = adata_subcluster.obsm['X_pca'] \n",
    "\n",
    "### Kmeans clustering\n",
    "### You can choose the number of clusters by uncommenting n_clusters option\n",
    "# kmeans = KMeans(#n_clusters=4,\n",
    "#                 random_state=0).fit(X_pca) \n",
    "# adata_subcluster.obs['kmeans'] = kmeans.labels_.astype(str)\n",
    "\n",
    "sc.tl.leiden(adata_subcluster, resolution = 0.2)"
   ]
  },
  {
   "cell_type": "code",
   "execution_count": null,
   "id": "62622541-9494-45aa-82be-6a7887346870",
   "metadata": {},
   "outputs": [],
   "source": [
    "clustering_method = 'leiden'"
   ]
  },
  {
   "cell_type": "code",
   "execution_count": null,
   "id": "45922a92-b755-4745-9aa6-1799f82b6424",
   "metadata": {},
   "outputs": [],
   "source": [
    "from matplotlib.pyplot import rc_context\n",
    "with rc_context({\"figure.figsize\": (5, 5)}):\n",
    "    sc.pl.umap(\n",
    "        adata_subcluster,\n",
    "        color=clustering_method,\n",
    "        add_outline=False,\n",
    "        legend_loc=\"on data\",\n",
    "        legend_fontsize=12,\n",
    "        legend_fontoutline=2,\n",
    "        frameon=False,\n",
    "        palette=\"tab20\",\n",
    "    )\n",
    "# sc.pl.pca(adata_subcluster,\n",
    "#          color=clustering_method,\n",
    "#          palette=\"tab20\",\n",
    "#          )"
   ]
  },
  {
   "cell_type": "code",
   "execution_count": null,
   "id": "86b03a3a-5346-4d85-b206-a0ed93309946",
   "metadata": {},
   "outputs": [],
   "source": [
    "### Number of cells per clusters\n",
    "max_clust = len(adata_subcluster.obs[clustering_method].unique())\n",
    "for i in range(0, max_clust):\n",
    "    count = adata_subcluster.obs[clustering_method].value_counts().iloc[i]\n",
    "    print(f\"Cluster {i} : {count} cells\")\n",
    "\n",
    "# adata_subcluster.obs['leiden'].sample(10)"
   ]
  },
  {
   "cell_type": "code",
   "execution_count": null,
   "id": "a3634b56-4cec-4398-8a94-6a8ddd06b148",
   "metadata": {},
   "outputs": [],
   "source": [
    "### Correlation map of subclusters\n",
    "cont_tab = pd.crosstab(adata_subcluster.obs[clustering_method], adata_subcluster.obs['mmc:class_name'], normalize=\"index\")\n",
    "plt.figure(figsize=(10, 8))\n",
    "sns.heatmap(cont_tab.T, annot=True, cmap=\"YlGnBu\", fmt=\".1f\", cbar=False)"
   ]
  },
  {
   "cell_type": "code",
   "execution_count": null,
   "id": "1a9e8949-1d5c-4ad3-a6b3-2993649e1919",
   "metadata": {},
   "outputs": [],
   "source": [
    "### Correlation map of subclusters\n",
    "cont_tab = pd.crosstab(adata_subcluster.obs[clustering_method], adata_subcluster.obs['mmc:subclass_name'], normalize=\"index\")\n",
    "cont_tab = cont_tab.loc[:, cont_tab.sum(axis=0) > 0.05]\n",
    "plt.figure(figsize=(15, 15))\n",
    "sns.heatmap(cont_tab.T, annot=True, cmap=\"YlGnBu\", fmt=\".1f\", cbar=False) "
   ]
  },
  {
   "cell_type": "code",
   "execution_count": null,
   "id": "27592ef7-9af6-4af6-80e6-253462435e85",
   "metadata": {},
   "outputs": [],
   "source": [
    "# adata_subcluster.obs[clustering_method] = adata_subcluster.obs[clustering_method].astype(str)\n",
    "# # sc.tl.dendrogram(adata_subcluster, groupby = cluster_to_use, n_pcs=None, use_rep=None, var_names=None, use_raw=None, cor_method='pearson', linkage_method='complete', optimal_ordering=False, key_added=None)\n",
    "# sc.tl.rank_genes_groups(adata_subcluster, groupby=clustering_method, method=\"wilcoxon\", tie_correct = True, dendrogram = False)\n",
    "# sc.pl.rank_genes_groups_dotplot(adata_subcluster, groupby=clustering_method, standard_scale=\"var\", n_genes=2, dendrogram = False)"
   ]
  },
  {
   "cell_type": "code",
   "execution_count": null,
   "id": "fc3505e2-67c7-4816-94a1-e3d73982d649",
   "metadata": {},
   "outputs": [],
   "source": [
    "### Generate a color palette for the clusters - to make color stay consistent across samples\n",
    "adata_subcluster.obs[clustering_method] = adata_subcluster.obs[clustering_method].astype(int)\n",
    "\n",
    "# Create a palette with a unique color for each cluster\n",
    "num_clusters = len(adata_subcluster.obs[clustering_method].unique())\n",
    "palette = sns.color_palette(\"tab20\", n_colors=num_clusters)\n",
    "\n",
    "# Map each 'leiden' value to a color\n",
    "adata_subcluster.obs['kmeans_colors'] = adata_subcluster.obs[clustering_method].apply(lambda x: palette[x])\n",
    "\n",
    "# Mapping of clusters\n",
    "fig, axs = plt.subplots(6,3,figsize=(15, 20))\n",
    "axs = axs.flatten()\n",
    "clusters_plot = {\n",
    "    0: 'orchid', 1: 'forestgreen', 2: 'black', 3:'red', \n",
    "    4:'cyan', 5:'blue', 6:'darkorange', 7:'coral',\n",
    "    8:'forestgreen', 9: 'coral',10:'red', 11:'cyan',\n",
    "    12:'blue',13:'darkorange',14:'black'\n",
    "}\n",
    "\n",
    "for idx, sample in enumerate(samples_ids):\n",
    "    adata_sel = adata_subcluster[(adata_subcluster.obs['sample'] == sample)]\n",
    "    for cluster_id in adata_sel.obs[clustering_method].unique():\n",
    "        cluster_data = adata_sel.obs[adata_sel.obs[clustering_method] == cluster_id]\n",
    "        colors = clusters_plot[cluster_id] if cluster_id in clusters_plot else \"none\"\n",
    "        # colors= cluster_data['kmeans_colors'].unique()[0]\n",
    "        axs[idx].scatter(cluster_data['x_centroid'], cluster_data['y_centroid'], color=colors, s=2, label=cluster_id)\n",
    "        axs[idx].set_title(f\"Sample {sample}\")"
   ]
  },
  {
   "cell_type": "code",
   "execution_count": null,
   "id": "da1be5c6-02eb-4045-8663-1dd448d007e2",
   "metadata": {},
   "outputs": [],
   "source": [
    "adata_subcluster.obs['new_cluster'] = clustering_method\n",
    "adata_subcluster.obs['new_cluster2'] = adata_subcluster.obs[Clusters_to_use].astype(\"str\") + '.' + adata_subcluster.obs[clustering_method].astype(\"str\")\n",
    "adata_subcluster.obs[['cell_id','new_cluster2']].sample(2)"
   ]
  },
  {
   "cell_type": "code",
   "execution_count": null,
   "id": "00c0cd6f-81ad-45fb-a585-2735057a9794",
   "metadata": {
    "scrolled": true
   },
   "outputs": [],
   "source": [
    "# Use this dictionnary to rename ['cell type'] with the new appropriate cell type for the subcluster. Follow the format. One subcluster at the time.\n",
    "rename_subclass = {\n",
    " f'{cluster_to_sub}.0':'VLMC',\n",
    "f'{cluster_to_sub}.1':'ABC',\n",
    "f'{cluster_to_sub}.2':'AbC',\n",
    "f'{cluster_to_sub}.3':'ABC',\n",
    "f'{cluster_to_sub}.4':'',\n",
    "f'{cluster_to_sub}.5':'',\n",
    "f'{cluster_to_sub}.6':'',\n",
    "f'{cluster_to_sub}.7':'',\n",
    "f'{cluster_to_sub}.8' :'',\n",
    "f'{cluster_to_sub}.9' :'',\n",
    "f'{cluster_to_sub}.10':'',\n",
    "f'{cluster_to_sub}.11':'',\n",
    "f'{cluster_to_sub}.12':'',\n",
    "f'{cluster_to_sub}.13':'',\n",
    "f'{cluster_to_sub}.14':'',\n",
    "f'{cluster_to_sub}.15':'',\n",
    "f'{cluster_to_sub}.16':'',\n",
    "f'{cluster_to_sub}.17':'',\n",
    "}\n",
    "\n",
    "adata_subcluster.obs['cell_type_final'] = adata_subcluster.obs['new_cluster2'].map(rename_subclass)\n",
    "\n",
    "# Create a dictionary to map old values to new values\n",
    "mapping_dict = dict(zip(adata_subcluster.obs['cell_id'], adata_subcluster.obs['cell_type_final']))\n",
    "\n",
    "# Use .map() function to rename cell contents in 'col1' based on mapping dictionary\n",
    "adata.obs['cell_type_final'] = adata.obs.apply(lambda x: mapping_dict[x['cell_id']] if x['cell_id'] in mapping_dict else x['cell_type_final'],axis = 1)"
   ]
  },
  {
   "cell_type": "code",
   "execution_count": null,
   "id": "1be6da98-679b-49f8-8fa1-52f3f161bac1",
   "metadata": {},
   "outputs": [],
   "source": [
    "adata.obs[\"cell_type_final\"].sample(5)\n"
   ]
  },
  {
   "cell_type": "code",
   "execution_count": null,
   "id": "80577fc8-aa2b-442a-b65d-37c5b32f7f98",
   "metadata": {},
   "outputs": [],
   "source": [
    "adata = adata[adata.obs['cell type'] != 'Undefined']"
   ]
  },
  {
   "cell_type": "markdown",
   "id": "7f35369f-de1e-4c08-999b-5b29be5a345f",
   "metadata": {},
   "source": [
    "<font size=\"6\"><span style=\"color:red\">From here, go back to process the other cluster if needed </span></font>"
   ]
  },
  {
   "cell_type": "markdown",
   "id": "16632460-f069-47a4-8c15-85868caf525a",
   "metadata": {},
   "source": [
    "## File Save (and load)"
   ]
  },
  {
   "cell_type": "code",
   "execution_count": null,
   "id": "00c94d4f-da74-4548-93d8-0b9261fb3967",
   "metadata": {
    "editable": true,
    "scrolled": true,
    "slideshow": {
     "slide_type": ""
    },
    "tags": []
   },
   "outputs": [],
   "source": [
    "all_cell_type = adata.obs['cell_type_final'].unique()\n",
    "list_cell_nb = range(0, len(all_cell_type))\n",
    "mapping_dict = dict(zip(all_cell_type,list_cell_nb))\n",
    "adata.obs['cell_type_newnum_final'] = adata.obs['cell_type_final'].map(mapping_dict)\n",
    "mapping_dict"
   ]
  },
  {
   "cell_type": "code",
   "execution_count": null,
   "id": "3758be3f",
   "metadata": {},
   "outputs": [],
   "source": [
    "# adata.obs.groupby('cell_type_final')['cell_type_final'].count().sort_values()\n",
    "adata.obs['cell_type_final'].value_counts()"
   ]
  },
  {
   "cell_type": "code",
   "execution_count": null,
   "id": "82f0c9d1-5cb3-4971-9aa0-4b8207e832aa",
   "metadata": {},
   "outputs": [],
   "source": [
    "if 'leiden_colors' in adata.obs:\n",
    "    adata.obs = adata.obs.drop(columns=['leiden_colors'])\n",
    "    # adata.obs = adata.obs.drop(columns=['cell_class_auto_sub'])\n",
    "\n",
    "\n",
    "adata.write(f\"{dir_notebook}/h5ad/{name_dir}/{name_dir}_MMC_Banksy_annotated_combined.h5ad.gz\", compression='gzip')\n",
    "adata.obs.to_csv(f\"{dir_notebook}/csv/{name_dir}/{name_dir}_MMC_Banksy_annotated_combined.csv.gz\", compression='gzip')"
   ]
  },
  {
   "cell_type": "code",
   "execution_count": null,
   "id": "b1f81ea5-34e2-4a3a-9029-53111ae6758b",
   "metadata": {},
   "outputs": [],
   "source": [
    "adata = sc.read_h5ad(f\"{dir_notebook}/h5ad/{name_dir}/{name_dir}_MMC_Banksy_annotated_combined.h5ad.gz\")"
   ]
  },
  {
   "cell_type": "markdown",
   "id": "f00220b6-c3ca-40a7-8eb3-caac5a591e4a",
   "metadata": {},
   "source": [
    "# Automap"
   ]
  },
  {
   "cell_type": "markdown",
   "id": "86be95b5-3bd1-4aed-a1cb-6a560ed53161",
   "metadata": {},
   "source": [
    "## Data pre-processing"
   ]
  },
  {
   "cell_type": "code",
   "execution_count": null,
   "id": "1c030709-cdd5-434c-856b-dc248b92007b",
   "metadata": {},
   "outputs": [],
   "source": [
    "# testdf = pd.read_csv('Xenium-data-coordinates-CTX.csv')\n",
    "testdf = pd.read_csv(f'{dir_notebook}/csv/{name_dir}/{name_dir}_MMC_Banksy_annotated_combined.csv.gz')\n",
    "testdf.shape\n",
    "\n",
    "testdf = testdf.filter(['cell_id','sample','x_centroid','y_centroid','cell_type_final','cell_type_newnum_final'], axis=1)\n",
    "### Only keep necessary columns"
   ]
  },
  {
   "cell_type": "code",
   "execution_count": null,
   "id": "ac85041d",
   "metadata": {},
   "outputs": [],
   "source": [
    "testdf.sample()"
   ]
  },
  {
   "cell_type": "code",
   "execution_count": null,
   "id": "909c46dd-296f-430d-ae64-852e1474dad9",
   "metadata": {},
   "outputs": [],
   "source": [
    "testdf['cell_type_final'].unique()"
   ]
  },
  {
   "cell_type": "code",
   "execution_count": null,
   "id": "f98a39f3-a0ba-4a1b-b853-0255285d71b5",
   "metadata": {},
   "outputs": [],
   "source": [
    "# Simplify names for mapping\n",
    "rename_subclass = {\n",
    "'Oligo':'Undefined',\n",
    "'Oligodendrocyte':'Undefined',\n",
    "'Astro':'Undefined',\n",
    "'Astro TE':'Undefined',\n",
    "'Astro NT':'Undefined',\n",
    "'ABC':'Undefined',\n",
    "'Endo':'Undefined',\n",
    "'Endothelial':'Undefined',\n",
    "'OPC':'Undefined',\n",
    "'Pericyte':'Undefined',\n",
    "'Tanycyte':'Ependymal',\n",
    "'Microglia':'Undefined', \n",
    "'Undefined':'Undefined',\n",
    "'CHOR':'Undefined',\n",
    "'HPF CR':'Undefined',\n",
    "\n",
    "'HY GABA':'HY',\n",
    "'HY Glut':'HY',\n",
    "'RT ZI GABA':'HY',\n",
    "'RT ZI':'HY',\n",
    "'SO Glut':'HY',\n",
    "'AHN Glut':'HY',\n",
    "'AHN':'HY',\n",
    "'LHA Glut':'HY',\n",
    "'PVH Glut':'HY',\n",
    "'HY GABA': 'HY',\n",
    "'HY Gaba': 'HY',\n",
    "'HY Glut':'HY',\n",
    "'Mix HY' : 'HY',\n",
    "'VMH Glut':'VMH',\n",
    "\n",
    "'AMY GABA':'AMY',\n",
    "'AMY Glut':'AMY',\n",
    "\n",
    "'TH Glut':'TH',\n",
    "'PVT Glut': 'TH',\n",
    "'PVT':'TH',\n",
    "'AD':'TH',\n",
    "\n",
    "'MB GABA':'MB',\n",
    "'MB DOPA':'MB',\n",
    "'MB Dopa':'MB',\n",
    "'MB Glut':'MB',\n",
    "\n",
    "'L4 5 IT CTX':'CTX',\n",
    "'L5 IT CTX':'CTX',\n",
    "'L2 3 IT PIR ENTI':'CTX',\n",
    "'L5 6 IT TPE ENT':'CTX',\n",
    "'L2 3 IT CTX':'CTX', \n",
    "'L5 ET CTX':'CTX',\n",
    "'L2 3 IT':'CTX',\n",
    "'L6 IT CTX':'CTX',\n",
    "'L6 CT CTX':'CTX',\n",
    "'L5 NP CTX':'CTX',\n",
    "'L4 RSP ACA':'CTX',\n",
    "'L4 5 IT Glut':'CTX',\n",
    "'L2 3 4 5 IT CTX':'CTX',\n",
    "'L2 3 IT RSP':'CTX',\n",
    "'L5 CTX' : 'CTX',\n",
    "'L6 CTX' : 'CTX',\n",
    "'L2 3 CTX': 'CTX',\n",
    "'L4 5 CTX': 'CTX',\n",
    "'L6b CTX':'CTX',\n",
    "'L6b CTX':'CTX',\n",
    "'L2 3 IT PIT ENTI':'CTX',\n",
    "'Mix Cortex':'CTX',\n",
    "'NP':'CTX',\n",
    "'CLA EPd CTX Glut':'CTX',\n",
    "'IT EP CLA':'CTX',\n",
    "'CLA':'CTX',\n",
    "'CLA EP':'CTX',\n",
    "'interneurons GABA':'Undefined',\n",
    "'interneurons':'Undefined',\n",
    "'Sncg Gaba': 'Undefined',\n",
    "'Pvalb Gaba':'Undefined',\n",
    "'Vip Gaba':'Undefined',\n",
    "'Sst Gaba':'Undefined',\n",
    "'Lamp5 Gaba':'Undefined',\n",
    "\n",
    "'SCG Gaba':'SCH',\n",
    "'NLOT Glut':'NLOT',\n",
    "\n",
    "'STR D1D2 GABA':'STR',\n",
    "'STR GABA':'STR',\n",
    "'STR D1D2':'STR',\n",
    "'STRv' : 'STR',\n",
    "'GPe GABA' : 'GPe',\n",
    "'STRv GABA':'STRv',\n",
    "'BST GABA':'BST',\n",
    "'GP GABA':'PAL',\n",
    "'STR PAL Gaba' : 'STR',\n",
    "    \n",
    "'TRS BAC Glut':'TRS',\n",
    "\n",
    "'LSX GABA':'LSX',\n",
    "\n",
    "'NP SUB':'HIPP',\n",
    "'CA1 ProS':'HIPP',\n",
    "'CA3':'HIPP',\n",
    "'DG':'HIPP',\n",
    "'DG Glut':'HIPP',\n",
    "'SUB ProS':'HIPP',\n",
    "'NP SUB Glut':'HIPP',\n",
    "'CA1 ProS Glut':'HIPP',\n",
    "'CA3 Glut':'HIPP',\n",
    "'DG Glut':'HIPP',\n",
    "'CA2 FC IG Glut':'HIPP',\n",
    "'SUB ProS Glut':'HIPP',\n",
    "\n",
    "'ARH GABA':'ARH',\n",
    "'PF Glut': 'MB',\n",
    "'LA Glut': 'AMY',\n",
    "'MEA Glut':'AMY', \n",
    "'ZI Gaba':'HY', \n",
    "'STRv PAL Gaba':'STRv', \n",
    "'L23 PIR ENTl Glut':'CTX',\n",
    "'L4 CTX Glut':'CTX',\n",
    "'L23 CTX Glut':'CTX',\n",
    "'L5 CTX Glut':'CTX',\n",
    "'STR D1D2 Gaba':'STR',\n",
    "'L6b CTX Glut':'CTX',\n",
    "'L6 CTX Glut':'CTX',\n",
    "'MEA Gaba':'AMY',\n",
    "'MH Glut':'MH', \n",
    "'LH Glut':'LH',\n",
    "'L23 RSP Glut':'CTX',\n",
    "'STR Gaba':'STR',\n",
    "'BST Gaba':'BST', \n",
    "'SC Glut':'SC',\n",
    "'MM Glut':'MM', \n",
    "'SCH Gaba':'SCH',\n",
    "'LSX Gaba':'LSX',\n",
    "'SC Gaba':'MB',\n",
    "'LGv Gaba':'MB',\n",
    "'APN Glut':'TH',\n",
    "'AV Glut':'HY',\n",
    "'PRT Gaba':'MB',\n",
    "'BST Glut':'BST',\n",
    "'AD Glut':'HY',\n",
    "'SN Gaba':'MB',\n",
    "'Pineal Glut':'MB',\n",
    "'SN Dopa':'MB',\n",
    "'PAG Glut':'MB',\n",
    "'STRv':'STR',\n",
    "'BST':'HY',\n",
    "\n",
    "'ARH Glut': 'ARH',\n",
    "'L2 3 IT PIR ENTl Glut':'CTX',\n",
    "'AMY Gaba':'AMY',\n",
    "'CLA EPd Glut':'CTX',\n",
    "'PAL STR Gaba':'STRv',\n",
    "'L6 IT CTX Glut':'CTX',\n",
    "'L2345 IT CTX Glut':'CTX',\n",
    "'L6 CT CTX Glut':'CTX',\n",
    "'L2 3 IT RSP Glut':'CTX',\n",
    "'L4 RSP ACA Glut':'CTX',\n",
    "'OB CR Glut':'HIPP',\n",
    "\n",
    "'PVH SO PVa Glut': \"HY\",\n",
    "'AHN RCH LHA Glut' : \"HY\",\n",
    "'RT ZI Gaba' : \"HY\",\n",
    "'PAL STR Gaba Chol': \"PAL\",\n",
    "'L4 5 IT CTX Glut' : \"CTX\",\n",
    "'L2 3 IT CTX Glut' : \"CTX\",\n",
    "'L5 ET CTX Glut' : \"CTX\",\n",
    "'L5 NP CTX Glut' : \"CTX\",\n",
    "'IT EP CLA Glut' : \"CTX\",\n",
    "'Choroid' : \"Undefined\",\n",
    "'LH' : 'TH',\n",
    "'MH' : \"TH\",\n",
    "'HPF CR Glut' : 'HIPP',\n",
    "'MB Gaba' : \"MB\",\n",
    "'OB STR CTX Inh IMN' : \"HIPP\",\n",
    "'BST po Glut' : \"BST\"\n",
    "\n",
    "}\n",
    "testdf['cell_type_final'] = testdf['cell_type_final'].apply(lambda x: rename_subclass[x] if x in rename_subclass else x)\n",
    "testdf = testdf[testdf['cell_type_final'] != 'Undefined']\n",
    "testdf = testdf[testdf['cell_type_final'] != 'undefined']\n",
    "testdf['cell_type_final'].unique()"
   ]
  },
  {
   "cell_type": "code",
   "execution_count": null,
   "id": "8ec906d0-8f8f-4d1e-9775-612016b6d668",
   "metadata": {
    "editable": true,
    "slideshow": {
     "slide_type": ""
    },
    "tags": []
   },
   "outputs": [],
   "source": [
    "sample_ids = testdf['sample'].unique()\n",
    "sample_ids"
   ]
  },
  {
   "cell_type": "code",
   "execution_count": null,
   "id": "1b087b84",
   "metadata": {},
   "outputs": [],
   "source": [
    "from automap import knn_mst_clustering\n",
    "from automap import assign_chunk_labels\n",
    "from automap import fill_any_chunks,fill_empty_chunks\n",
    "from automap import grid_to_geojson_with_scaling\n",
    "import json\n",
    "\n",
    "\n",
    "count = 0\n",
    "for sample_to_map in sample_ids:\n",
    "\n",
    "    count +=1\n",
    "    print(f'{datetime.now()}: automap of {sample_to_map} ({count}/{len(samples_ids)})')\n",
    "\n",
    "    df = testdf[testdf['sample']==sample_to_map]\n",
    "    all_cell_type = df['cell_type_final'].unique()\n",
    "    list_cell_nb = range(0, len(all_cell_type))\n",
    "    mapping_dict = dict(zip(all_cell_type,list_cell_nb))\n",
    "    df['cell_type_newnum_final'] = df['cell_type_final'].map(mapping_dict)\n",
    "\n",
    "    # Multiply centroid coordinates by 10 to convert to pixel coordinates\n",
    "    df['x_pixel'] = df['x_centroid'] * 10\n",
    "    df['y_pixel'] = df['y_centroid'] * 10\n",
    "\n",
    "    ### Generate a color palette for the clusters - to make color stay consistent across samples\n",
    "    df['cell_type_newnum_final'] = df['cell_type_newnum_final'].astype(str)\n",
    "\n",
    "    ### Establish neighbors classifiers\n",
    "\n",
    "    K = 10\n",
    "    X = df[['x_pixel', 'y_pixel']].values\n",
    "    y = df['cell_type_newnum_final'].astype(int).values\n",
    "    knn = KNeighborsClassifier(n_neighbors=K)\n",
    "    knn.fit(X, y)\n",
    "    df['knn_celltype'] = knn.predict(X)\n",
    "\n",
    "    data = df\n",
    "    valid_celltypes = data['knn_celltype'].value_counts()[data['knn_celltype'].value_counts() > 100].index\n",
    "    data = data[data['knn_celltype'].isin(valid_celltypes)]\n",
    "    unique_cell_types = sorted(data['knn_celltype'].unique())\n",
    "\n",
    "    for cell_type in unique_cell_types:\n",
    "        print(f\"Processing cell type {cell_type}...\")\n",
    "        knn_mst_clustering(data, cell_type=cell_type, k=10)\n",
    "\n",
    "    # Save the updated dataframe with cluster labels\n",
    "    # data.to_csv('Xenium-data-coordinates-CTX-labeled.csv', index=False)\n",
    "    print(\"Data with cluster labels saved.\")\n",
    "\n",
    "    data['knn_celltype'].value_counts()\n",
    "    data['cluster_label'].isna().sum()\n",
    "\n",
    "    # Get the value counts of each category\n",
    "    value_counts = data['cluster_label'].value_counts()\n",
    "\n",
    "    # Create a mapping based on the rank of value counts\n",
    "    mapping_drg = {label: idx for idx, label in enumerate(value_counts.index, 1)}\n",
    "\n",
    "    # Map the categorical strings to numbers based on the value counts\n",
    "    data['cluster_label_numeric'] = data['cluster_label'].map(mapping_drg)\n",
    "    data['cluster_label_numeric'].unique()\n",
    "    data = data.dropna(subset=['cluster_label_numeric'])\n",
    "    data['cluster_label_numeric'].isna().sum()\n",
    "\n",
    "    ### Pixelize section and assign label\n",
    "    chunk_size = 400  # Example chunk size\n",
    "    threshold = 0.5  # Example threshold\n",
    "    grid, x_bins, y_bins = assign_chunk_labels(data, chunk_size, threshold)\n",
    "\n",
    "\n",
    "    filled_grid, x_bins, y_bins = fill_empty_chunks(grid, x_bins, y_bins, 4)\n",
    "    filled_grid, x_bins, y_bins = fill_empty_chunks(filled_grid, x_bins, y_bins, 3)\n",
    "    filled_grid, x_bins, y_bins = fill_empty_chunks(filled_grid, x_bins, y_bins, 4)\n",
    "    filled_grid, x_bins, y_bins = fill_empty_chunks(filled_grid, x_bins, y_bins, 3)\n",
    "    filled_grid, x_bins, y_bins = fill_any_chunks(filled_grid, x_bins, y_bins,4)\n",
    "    filled_grid, x_bins, y_bins = fill_empty_chunks(filled_grid, x_bins, y_bins, 3)\n",
    "    filled_grid, x_bins, y_bins = fill_empty_chunks(filled_grid, x_bins, y_bins, 2)\n",
    "    filled_grid, x_bins, y_bins = fill_empty_chunks(filled_grid, x_bins, y_bins, 2)\n",
    "    filled_grid, x_bins, y_bins = fill_empty_chunks(filled_grid, x_bins, y_bins, 3)\n",
    "    filled_grid, x_bins, y_bins = fill_any_chunks(filled_grid, x_bins, y_bins,4)\n",
    "    filled_grid, x_bins, y_bins = fill_any_chunks(filled_grid, x_bins, y_bins,3)\n",
    "    filled_grid, x_bins, y_bins = fill_any_chunks(filled_grid, x_bins, y_bins,3)\n",
    "\n",
    "    # Create the mapping as before\n",
    "    mapping = data.groupby('knn_celltype')['cell_type_final'].agg(lambda x: x.value_counts().idxmax()).to_dict()\n",
    "\n",
    "    # Create a new column 'knn_celltype_label' using the mapping\n",
    "    data['knn_celltype_label'] = data['knn_celltype'].map(mapping)\n",
    "    data['cell_type_newnum_final'] = data['cell_type_newnum_final'].astype(int)\n",
    "\n",
    "    # Display the dataframe to verify\n",
    "    display(data[['knn_celltype', 'knn_celltype_label']].sample(3))\n",
    "\n",
    "    ### Export geojson\n",
    "    value_counts = data[['knn_celltype', 'cell_type_final']].value_counts()\n",
    "    value_counts_df = value_counts.reset_index(name='count')\n",
    "    most_common_pairs = value_counts_df.groupby('knn_celltype').apply(lambda x: x.nlargest(1, 'count'))\n",
    "    celltype_to_newnum = most_common_pairs.set_index('knn_celltype')['cell_type_final'].to_dict()\n",
    "    celltype_to_newnum = {key + 1: value for key, value in celltype_to_newnum.items()}\n",
    "\n",
    "    geojson_data = grid_to_geojson_with_scaling(filled_grid, x_bins, y_bins, celltype_to_newnum, scale_factor=10)\n",
    "\n",
    "    # Save the GeoJSON to a file\n",
    "    with open(f'{dir_notebook}/coordinates/Region_prediction/Xenium-data-coordinates-filtered_{sample_to_map}.geojson', 'w') as f:\n",
    "        json.dump(geojson_data, f, indent=2)\n",
    "\n",
    "\n",
    "print(f'{datetime.now()}: automap done')\n",
    "\n",
    "\n"
   ]
  },
  {
   "cell_type": "markdown",
   "id": "1f5c26e9-aee7-4667-9dc0-14474d9c0e6c",
   "metadata": {},
   "source": [
    "## Match cells with automatically generated regions"
   ]
  },
  {
   "cell_type": "markdown",
   "id": "455750c9-11ca-4731-926d-263ff9ddfed1",
   "metadata": {},
   "source": [
    "### Data pre-processing"
   ]
  },
  {
   "cell_type": "code",
   "execution_count": null,
   "id": "294472f6-78b9-480f-90ab-ab131d3abcef",
   "metadata": {},
   "outputs": [],
   "source": [
    "adata = sc.read_h5ad(f\"{dir_notebook}/h5ad/{name_dir}/{name_dir}_MMC_Banksy_annotated_combined.h5ad.gz\")"
   ]
  },
  {
   "cell_type": "code",
   "execution_count": null,
   "id": "a4a428bc-e9e3-4c28-9c93-e5927a1a1225",
   "metadata": {},
   "outputs": [],
   "source": [
    "samples_ids = adata.obs['sample'].unique()\n",
    "samples_ids"
   ]
  },
  {
   "cell_type": "code",
   "execution_count": null,
   "id": "95888228",
   "metadata": {},
   "outputs": [],
   "source": [
    "count = 0\n",
    "combine_dict = {}\n",
    "\n",
    "for sample_to_map in samples_ids:\n",
    "    count += 1\n",
    "    print(f'{datetime.now()}: mapping of {sample_to_map} ({count}/{len(samples_ids)})')\n",
    "    geojson  = gpd.read_file(f'{dir_notebook}/coordinates/Region_prediction/Xenium-data-coordinates-filtered_{sample_to_map}.geojson')\n",
    "    geojson['geometry'][1]\n",
    "    adata_sub = adata[adata.obs['sample'] == sample_to_map]\n",
    "\n",
    "    ### Cell mapping\n",
    "    centroid_gdp = gpd.GeoDataFrame(adata_sub.obs, geometry=gpd.points_from_xy(adata_sub.obs.x_centroid, adata_sub.obs.y_centroid))\n",
    "    centroid_gdp.index.name = None\n",
    "    centroid_gdp.crs = 'EPSG:4326'\n",
    "    matched_cells = gpd.sjoin(centroid_gdp, geojson, predicate='within', how='left')\n",
    "\n",
    "    mapping_dict_reg = dict(zip(matched_cells['cell_id'], matched_cells['cell_type_newnum_final_right']))\n",
    "    adata_sub.obs['region_automap'] = adata_sub.obs['cell_id'].map(mapping_dict_reg)\n",
    "\n",
    "    all_cell_type = adata_sub.obs['region_automap'].unique()\n",
    "    list_cell_nb = range(0, len(all_cell_type))\n",
    "    mapping_dict = dict(zip(all_cell_type,list_cell_nb))\n",
    "    adata_sub.obs['region_automap_newnum'] = adata_sub.obs['region_automap'].map(mapping_dict)\n",
    "\n",
    "    mapping_dict_reg = dict(zip(adata_sub.obs['cell_id'], adata_sub.obs['region_automap']))\n",
    "    combine_dict.update(mapping_dict_reg)\n",
    "    \n",
    "print(f'{datetime.now()}: dict done')\n",
    "adata.obs['region_automap_name'] = adata.obs['cell_id'].map(combine_dict)\n",
    "\n",
    "if 'leiden_colors' in adata.obs:\n",
    "    adata.obs = adata.obs.drop(columns=['leiden_colors'])\n",
    "\n",
    "adata.write(f\"{dir_notebook}/h5ad/{name_dir}/{name_dir}_MMC_Banksy_annotated_automap.h5ad.gz\", compression = 'gzip')\n",
    "\n",
    "adata.obs.to_csv(f\"{dir_notebook}/csv/{name_dir}/{name_dir}_MMC_Banksy_annotated_automap.csv.gz\",\n",
    "         compression={'method': 'gzip'})\n"
   ]
  },
  {
   "cell_type": "code",
   "execution_count": null,
   "id": "58936851",
   "metadata": {},
   "outputs": [],
   "source": [
    "all_cell_type = adata.obs['region_automap_name'].unique()\n",
    "list_cell_nb = range(0, len(all_cell_type))\n",
    "mapping_dict = dict(zip(all_cell_type,list_cell_nb))\n",
    "adata.obs['region_automap_num'] = adata.obs['region_automap_name'].map(mapping_dict)\n",
    "mapping_dict"
   ]
  },
  {
   "cell_type": "markdown",
   "id": "70d500e9-d5fb-42ce-a114-eb3261770af5",
   "metadata": {},
   "source": [
    "# Manual Map"
   ]
  },
  {
   "cell_type": "code",
   "execution_count": null,
   "id": "afc05ff4-49c1-419e-82ac-5fda866400c4",
   "metadata": {},
   "outputs": [],
   "source": [
    "adata = sc.read_h5ad(f\"{dir_notebook}/h5ad/{name_dir}/{name_dir}_MMC_Banksy_annotated_automap.h5ad.gz\") \n",
    "# adata = sc.read_h5ad(f\"{dir_notebook}/h5ad/{name_dir}/{name_dir}_final.h5ad.gz\") "
   ]
  },
  {
   "cell_type": "code",
   "execution_count": null,
   "id": "0621188c-c2c3-4cc2-bcd5-2f21d888e9c7",
   "metadata": {},
   "outputs": [],
   "source": [
    "sample_ids = adata.obs['sample'].unique()\n",
    "sample_ids"
   ]
  },
  {
   "cell_type": "code",
   "execution_count": null,
   "id": "930f0607-f35e-4bb7-9aee-66c70fbfcfb3",
   "metadata": {},
   "outputs": [],
   "source": [
    "### Choose sample to map here:\n",
    "sample_to_map = sample_ids[0]\n",
    "sample_to_map\n",
    "BR_df = pd.read_csv(f\"coordinates/XE_selection/{sample_to_map}-RL.csv\",comment = '#')"
   ]
  },
  {
   "cell_type": "code",
   "execution_count": null,
   "id": "66b319b7",
   "metadata": {},
   "outputs": [],
   "source": [
    "for sample_to_map in sample_ids:\n",
    "    BR_df = pd.read_csv(f\"coordinates/XE_selection/{sample_to_map}-RL.csv\",comment = '#')\n",
    "    # Group the dataframe by the \"Selection\" column\n",
    "    grouped = BR_df.groupby('Selection')\n",
    "\n",
    "    # List to hold GeoJSON features\n",
    "    features = []\n",
    "\n",
    "    for name, group in grouped:\n",
    "        # Create a list of coordinates for each region\n",
    "        coordinates = [(x, y) for x, y in zip(group['X'], group['Y'])]\n",
    "        if coordinates[0] != coordinates[-1]:\n",
    "            coordinates.append(coordinates[0])\n",
    "        \n",
    "        # Create a GeoJSON polygon for the region\n",
    "        polygon = geojson.Polygon([coordinates])\n",
    "        feature = geojson.Feature(geometry=polygon, properties={\"region\": name})\n",
    "        features.append(feature)\n",
    "\n",
    "    # Create a GeoJSON FeatureCollection\n",
    "    feature_collection = geojson.FeatureCollection(features)\n",
    "\n",
    "    # Save the GeoJSON FeatureCollection to a file\n",
    "    with open(f'coordinates/{sample_to_map}_regions_manual.geojson', 'w') as f:\n",
    "        geojson.dump(feature_collection, f)\n",
    "\n",
    "    print(f\"GeoJSON {sample_to_map} saved\")"
   ]
  },
  {
   "cell_type": "code",
   "execution_count": null,
   "id": "188b9212-98c2-44dc-9b4b-ed96bb78aaaf",
   "metadata": {},
   "outputs": [],
   "source": [
    "for sample_to_map in sample_ids:\n",
    "    regions_df = gpd.read_file(f'coordinates/{sample_to_map}_regions_manual.geojson')\n",
    "    #Region mapping\n",
    "    adata_region_sub = adata[adata.obs['sample']== sample_to_map]\n",
    "\n",
    "    centroid_gdp = gpd.GeoDataFrame(adata_region_sub.obs, geometry=gpd.points_from_xy(adata_region_sub.obs.x_centroid, adata_region_sub.obs.y_centroid))\n",
    "    centroid_gdp.index.name = None\n",
    "    centroid_gdp.crs = 'EPSG:4326'\n",
    "    matched_cells = gpd.sjoin(centroid_gdp, regions_df, predicate='within', how='left')\n",
    "    mapping_dict_reg = dict(zip(matched_cells['cell_id'], matched_cells['region']))\n",
    "    adata_region_sub.obs['region_manual'] = adata_region_sub.obs['cell_id'].map(mapping_dict_reg)\n",
    "\n",
    "    all_cell_type = adata_region_sub.obs['region_manual'].unique()\n",
    "    list_cell_nb = range(0, len(all_cell_type))\n",
    "    mapping_dict = dict(zip(all_cell_type,list_cell_nb))\n",
    "    adata_region_sub.obs['region_manual_newnum'] = adata_region_sub.obs['region_manual'].map(mapping_dict)\n",
    "    mapping_dict_reg = dict(zip(adata_region_sub.obs['cell_id'], adata_region_sub.obs['region_manual']))\n",
    "\n",
    "    if 'combine_dict_region' not in locals():\n",
    "        combine_dict_region = {}\n",
    "        combine_dict_region.update(mapping_dict_reg)   \n",
    "    else:\n",
    "        combine_dict_region.update(mapping_dict_reg)\n"
   ]
  },
  {
   "cell_type": "markdown",
   "id": "0d9d2afd-96ba-4b94-bc84-49dcb948ca06",
   "metadata": {},
   "source": [
    "<font size=\"6\"><span style=\"color:red\">From here, go back to process the other samples </span></font>"
   ]
  },
  {
   "cell_type": "markdown",
   "id": "e5f6cb47-6dc4-4616-b87e-cdc7a6c34bef",
   "metadata": {},
   "source": [
    "## Apply combined dictionnary"
   ]
  },
  {
   "cell_type": "code",
   "execution_count": null,
   "id": "43fdefbc-f0d8-4558-a315-95b8109cdb4a",
   "metadata": {},
   "outputs": [],
   "source": [
    "### Only run when you are done with all samples automap annotations\n",
    "adata.obs['region_manual_name'] = adata.obs['cell_id'].map(combine_dict_region)"
   ]
  },
  {
   "cell_type": "code",
   "execution_count": null,
   "id": "3a68c5d5-6f67-497e-b0b0-f9d03f726b68",
   "metadata": {},
   "outputs": [],
   "source": [
    "adata.obs['region_manual_name'].value_counts()"
   ]
  },
  {
   "cell_type": "markdown",
   "id": "518e15f0",
   "metadata": {},
   "source": [
    "# Optional annotations"
   ]
  },
  {
   "cell_type": "markdown",
   "id": "18735f54",
   "metadata": {},
   "source": [
    "## Type of cells (NGE)"
   ]
  },
  {
   "cell_type": "code",
   "execution_count": null,
   "id": "257b1f4e",
   "metadata": {},
   "outputs": [],
   "source": [
    "from module.subclustering_Xe import cell_class_annotation\n",
    "\n",
    "adata = cell_class_annotation(adata)\n",
    "adata.obs['cell_class'].value_counts()"
   ]
  },
  {
   "cell_type": "markdown",
   "id": "57aae07f",
   "metadata": {},
   "source": [
    "## Circascore"
   ]
  },
  {
   "cell_type": "code",
   "execution_count": null,
   "id": "812738fc",
   "metadata": {},
   "outputs": [],
   "source": [
    "from module.subclustering_Xe import circascore_annot\n",
    "\n",
    "df = pd.read_parquet(f\"{dir_notebook}/csv/{name_dir}/{name_dir}_normalized_counts.parquet\")\n",
    "\n",
    "adata = circascore_annot(adata,df)\n"
   ]
  },
  {
   "cell_type": "code",
   "execution_count": null,
   "id": "4c593c8e",
   "metadata": {},
   "outputs": [],
   "source": [
    "adata.obs['circascore'].value_counts()"
   ]
  },
  {
   "cell_type": "markdown",
   "id": "20598eae",
   "metadata": {},
   "source": [
    "## ZT"
   ]
  },
  {
   "cell_type": "code",
   "execution_count": null,
   "id": "11b15cb8",
   "metadata": {},
   "outputs": [],
   "source": [
    "adata.obs['ZT'] = adata.obs['sample'].map(lambda name: name.split('-')[-1])"
   ]
  },
  {
   "cell_type": "code",
   "execution_count": null,
   "id": "733dbc7c",
   "metadata": {},
   "outputs": [],
   "source": [
    "adata.obs['ZT'].value_counts()"
   ]
  },
  {
   "cell_type": "markdown",
   "id": "9795a12f",
   "metadata": {},
   "source": [
    "## Genotype"
   ]
  },
  {
   "cell_type": "code",
   "execution_count": null,
   "id": "0d3cf874",
   "metadata": {},
   "outputs": [],
   "source": [
    "#TODO"
   ]
  },
  {
   "cell_type": "markdown",
   "id": "859b07be-fa24-4f1b-a9a4-a4667ac19a82",
   "metadata": {},
   "source": [
    "# Final Output"
   ]
  },
  {
   "cell_type": "code",
   "execution_count": null,
   "id": "f4ce2d7b-7c8e-499e-b795-b69f82cab57f",
   "metadata": {
    "scrolled": true
   },
   "outputs": [],
   "source": [
    "if 'leiden_colors' in adata.obs:\n",
    "    adata.obs = adata.obs.drop(columns=['leiden_colors'])\n",
    "\n",
    "adata.write(f\"{dir_notebook}/h5ad/{name_dir}/{name_dir}_MMC_Banksy_annotated_automap.h5ad.gz\", compression = 'gzip')\n",
    "\n",
    "adata.obs.to_csv(f\"{dir_notebook}/csv/{name_dir}/{name_dir}_MMC_Banksy_annotated_automap.csv.gz\",\n",
    "         compression={'method': 'gzip'})"
   ]
  },
  {
   "cell_type": "code",
   "execution_count": null,
   "id": "960c5cf0-90d4-4aac-85bf-2340afd31ee3",
   "metadata": {},
   "outputs": [],
   "source": [
    "adata = sc.read_h5ad(f\"{dir_notebook}/h5ad/{name_dir}/{name_dir}_MMC_Banksy_annotated_automap.h5ad.gz\")"
   ]
  },
  {
   "cell_type": "code",
   "execution_count": null,
   "id": "d77e1875",
   "metadata": {},
   "outputs": [],
   "source": [
    "adata = sc.read_h5ad(f\"{dir_notebook}/h5ad/{name_dir}/{name_dir}_final.h5ad.gz\")"
   ]
  },
  {
   "cell_type": "markdown",
   "id": "f623fc50",
   "metadata": {},
   "source": [
    "# End of the notebook"
   ]
  },
  {
   "cell_type": "markdown",
   "id": "c40daa95",
   "metadata": {},
   "source": [
    "Next step : Data vizualization and analysis\n",
    "\n",
    "[v9C_DataViz_Analysis](./v9C_DataViz_Analysis.ipynb)"
   ]
  }
 ],
 "metadata": {
  "kernelspec": {
   "display_name": "Python 3",
   "language": "python",
   "name": "python3"
  },
  "language_info": {
   "codemirror_mode": {
    "name": "ipython",
    "version": 3
   },
   "file_extension": ".py",
   "mimetype": "text/x-python",
   "name": "python",
   "nbconvert_exporter": "python",
   "pygments_lexer": "ipython3",
   "version": "3.11.3"
  }
 },
 "nbformat": 4,
 "nbformat_minor": 5
}
