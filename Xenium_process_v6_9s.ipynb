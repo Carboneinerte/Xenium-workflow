{
 "cells": [
  {
   "cell_type": "markdown",
   "id": "24baff37-3f56-48f6-bf72-e6e2bbeb9d99",
   "metadata": {},
   "source": [
    "# Current version : 6.10.a (2024-11-13)"
   ]
  },
  {
   "cell_type": "markdown",
   "id": "79286a2e-6fc1-4948-a7c0-2e0c26d36216",
   "metadata": {},
   "source": [
    "# Libraries and directory (always run)"
   ]
  },
  {
   "cell_type": "code",
   "execution_count": 3,
   "id": "8e770a84-80dc-4707-bfb5-41a990702672",
   "metadata": {},
   "outputs": [],
   "source": [
    "### import necessary libraries\n",
    "from datetime import datetime\n",
    "import geopandas as gpd\n",
    "import matplotlib.pyplot as plt\n",
    "from mpl_toolkits.axes_grid1 import make_axes_locatable\n",
    "import numpy as np\n",
    "import os\n",
    "import pandas as pd\n",
    "import random\n",
    "import seaborn as sns\n",
    "import scanpy as sc\n",
    "from scipy.optimize import curve_fit\n",
    "import warnings\n",
    "\n",
    "warnings.filterwarnings(\"ignore\") \n",
    "sc.logging.print_header()\n",
    "sc.set_figure_params(facecolor=\"white\", figsize=(8, 8))\n",
    "sc.settings.verbosity = 1 # errors (0), warnings (1), info (2), hints (3)\n",
    "plt.rcParams[\"font.family\"] = \"Arial\"\n",
    "sns.set_style(\"white\")\n",
    "\n",
    "# Note that BANKSY itself is deterministic, here the seeds affect the umap clusters and leiden partition\n",
    "seed = 1234\n",
    "np.random.seed(seed)\n",
    "random.seed(seed)\n",
    "\n",
    "start_time = datetime.now()\n",
    "\n",
    "def print_with_elapsed_time(message):\n",
    "    elapsed_time = datetime.now() - start_time\n",
    "    elapsed_seconds = elapsed_time.total_seconds()\n",
    "    print(f\"[{elapsed_seconds:.2f} seconds] {message}\")"
   ]
  },
  {
   "cell_type": "code",
   "execution_count": 4,
   "id": "9d96ac02-b486-4bad-a849-e3eccd2d1517",
   "metadata": {},
   "outputs": [
    {
     "name": "stdout",
     "output_type": "stream",
     "text": [
      "geopandas version: 1.0.1\n",
      "pandas version: 2.0.1\n",
      "scanpy version: 1.11.1\n"
     ]
    }
   ],
   "source": [
    "print(f\"geopandas version: {gpd.__version__}\")\n",
    "print(f\"pandas version: {pd.__version__}\")\n",
    "print(f\"scanpy version: {sc.__version__}\")"
   ]
  },
  {
   "cell_type": "code",
   "execution_count": null,
   "id": "333b9efd-0b38-49f4-b65d-169891eb9c34",
   "metadata": {},
   "outputs": [],
   "source": [
    "### Directory where the data is stored\n",
    "\n",
    "# dir = \"/mnt/d/Xenium\" #Ubuntu\n",
    "# dir = \"/media/volume/data/spatial/hugo/data\" #Ubuntu\n",
    "dir = \"/media/volume/data/spatial/hugo/data/k5\" #Ubuntu\n",
    "dir = '/media/volume/volume_spatial/hugo/data/test'\n",
    "dir = '/media/volume/volume_spatial/hugo/data'\n",
    "\n",
    "# dir_notebook = '/mnt/d/Jupyter_notebook/Xenium_jupyter_notebook'\n",
    "# dir_notebook = '/media/volume/data/spatial/hugo/notebook'\n",
    "dir_notebook = '/media/volume/volume_spatial/hugo/notebook'\n"
   ]
  },
  {
   "cell_type": "code",
   "execution_count": null,
   "id": "09a51ac7-3c97-4bdb-b6bb-3e579b0556b5",
   "metadata": {},
   "outputs": [],
   "source": [
    "# # # # ### HC ###\n",
    "\n",
    "# # # # ### make a list of samples and their ids to make the cell names unique\n",
    "# # # # #samples = [\"2505-1__20240404__003359\", \"2505-2__20240404__003359\", \"2670-1__20240404__003359\", \"3159-1__20240321__212855\", \"3160-1__20240321__212855\", \"3160-2__20240321__212855\"]\n",
    "# # # # #samples_ids = [\"2505-1\", \"2505-2\", \"2670-1\", \"3159-1\", \"3160-1\", \"3160-2\"]\n",
    "# # # # #name_dir = 'run1-2'\n",
    "\n",
    "# # # # # ### Run 1 resegmented\n",
    "# # # # samples = [\"2505-1_subsampled\", \"2505-2_subsampled\", \"2670-1_subsampled\", \n",
    "# # # #    \"3159-1_subsampled\"\n",
    "# # # #     , \"3160-1_subsampled\", \"3160-2_subsampled\"]\n",
    "# # # # samples_ids = [\"2505-1\", \"2505-2\", \"2670-1\", \n",
    "# # # #               \"3159-1\", \"3160-1\", \"3160-2\"       ]\n",
    "# # # # name_dir = 'run1-resegment'\n",
    "\n",
    "# # # # # # #Run 3\n",
    "# # # # # samples = [\"3159-2__20240530__205547\", \"3159-3__20240530__205547\", \"3159-4__20240530__205547\", \"3161-1__20240530__205547\", \"3161-2__20240530__205547\", \"3161-3__20240530__205547\"]\n",
    "# # # # # samples_ids = [\"3159-2\", \"3159-3\", \"3159-4\", \"3161-1\", \"3161-2\", \"3161-3\"]\n",
    "# # # # # name_dir = 'run3-all'\n",
    "\n",
    "# # # # # Run 3 Habenula\n",
    "# # # samples = [\"3159-2__20240530__205547\", \"3161-1__20240530__205547\"]\n",
    "# # # samples_ids = [\"3159-2\", \"3161-1\"]\n",
    "# # # name_dir = 'run3-Habenula'\n",
    "\n",
    "# # # # # # # Run 3 LGN\n",
    "# # # # samples = [\"3159-3__20240530__205547\", \"3161-2__20240530__205547\"]\n",
    "# # # # samples_ids = [\"3159-3\",\"3161-2\"]\n",
    "# # # # name_dir = 'run3-LGN'\n",
    "\n",
    "# # # # # #Run 3 SC\n",
    "# # # samples = [\"3159-4__20240530__205547\",\"3161-3__20240530__205547\"]\n",
    "# # # samples_ids = [\"3159-4\", \"3161-3\"]\n",
    "# # # name_dir = 'run3-SC'\n",
    "\n",
    "# # # # # samples = [\"Xenium_Prime_Mouse_Brain_Coronal_FF_outs\"]\n",
    "# # # # # samples_ids = ['Xenium_Prime']\n",
    "# # # # # name_dir = 'test-prime'\n",
    "\n",
    "# # # # # # circa1\n",
    "# # samples = ['circa1_ZT1','circa1_ZT5','circa1_ZT9','circa1_ZT13','circa1_ZT17','circa1_ZT21']\n",
    "# # samples_ids = ['circa1-ZT1','circa1-ZT5','circa1-ZT9','circa1-ZT13','circa1-ZT17','circa1-ZT21',]\n",
    "# # name_dir = 'circa1'\n",
    "\n",
    "# # # ### circa2_\n",
    "# samples = ['circa2-ZT01','circa2-ZT05','circa2-ZT09','circa2-ZT13','circa2-ZT17','circa2-ZT21']\n",
    "# samples_ids = ['circa2-ZT01','circa2-ZT05','circa2-ZT09','circa2-ZT13','circa2-ZT17','circa2-ZT21',]\n",
    "# name_dir = 'circa2'\n",
    "\n",
    "# # ### circa3_\n",
    "# samples = ['circa3-ZT01','circa3-ZT05','circa3-ZT09','circa3-ZT13','circa3-ZT17','circa3-ZT21']\n",
    "# samples_ids = ['circa3-ZT01','circa3-ZT05','circa3-ZT09','circa3-ZT13','circa3-ZT17','circa3-ZT21',]\n",
    "# name_dir = 'circa3'\n",
    "\n",
    "# ### circa4-Salk\n",
    "# samples = ['circa4-Salk-ZT01',\n",
    "#            'circa4-Salk-ZT05','circa4-Salk-ZT09','circa4-Salk-ZT13','circa4-Salk-ZT17',\n",
    "#            'circa4-Salk-ZT21',]\n",
    "# samples_ids = ['circa4-Salk-ZT01',\n",
    "#                'circa4-Salk-ZT05','circa4-Salk-ZT09','circa4-Salk-ZT13','circa4-Salk-ZT17',\n",
    "#                'circa4-Salk-ZT21',]\n",
    "# name_dir = 'circa4-Salk'\n",
    "\n",
    "\n",
    "# circa4-IGM\n",
    "# samples_ids = ['circa4-IGM-ZT01','circa4-IGM-ZT05','circa4-IGM-ZT09'\n",
    "#                    ,'circa4-IGM-ZT13','circa4-IGM-ZT17','circa4-IGM-ZT21',\n",
    "#                    ]\n",
    "# samples = ['circa4-IGM-ZT01','circa4-IGM-ZT05','circa4-IGM-ZT09'\n",
    "#                    ,'circa4-IGM-ZT13','circa4-IGM-ZT17','circa4-IGM-ZT21',\n",
    "#                    ]\n",
    "# name_dir = 'circa4-IGM'\n",
    "\n",
    "\n",
    "### All 5k\n",
    "samples_ids = ['circa2-ZT01','circa2-ZT05','circa2-ZT09','circa2-ZT13','circa2-ZT17','circa2-ZT21',\n",
    "            'circa4-IGM-ZT01','circa4-IGM-ZT05','circa4-IGM-ZT09',\n",
    "            'circa4-IGM-ZT13','circa4-IGM-ZT17','circa4-IGM-ZT21',\n",
    "            'circa4-Salk-ZT01','circa4-Salk-ZT05','circa4-Salk-ZT09',\n",
    "            'circa4-Salk-ZT13','circa4-Salk-ZT17','circa4-Salk-ZT21',\n",
    "                ]\n",
    "samples = ['circa2-ZT01','circa2-ZT05','circa2-ZT09','circa2-ZT13','circa2-ZT17','circa2-ZT21',\n",
    "            'circa4-IGM-ZT01','circa4-IGM-ZT05','circa4-IGM-ZT09',\n",
    "            'circa4-IGM-ZT13','circa4-IGM-ZT17','circa4-IGM-ZT21',\n",
    "            'circa4-Salk-ZT01','circa4-Salk-ZT05','circa4-Salk-ZT09',\n",
    "            'circa4-Salk-ZT13','circa4-Salk-ZT17','circa4-Salk-ZT21',\n",
    "               ]\n",
    "name_dir = 'circa'\n",
    "\n",
    "\n",
    "# # # # # # ### ALL SAMPLES\n",
    "# samples = [\"2505-1__20240404__003359\", \"2505-2__20240404__003359\", \"2670-1__20240404__003359\", \"3159-1__20240321__212855\",\n",
    "#            \"3160-1__20240321__212855\", \"3160-2__20240321__212855\",\"3159-2__20240530__205547\", \"3161-1__20240530__205547\",\n",
    "#           \"3159-3__20240530__205547\", \"3161-2__20240530__205547\",\"3159-4__20240530__205547\",\"3161-3__20240530__205547\"]\n",
    "\n",
    "# samples_ids = [\"2505-1\", \"2505-2\", \"2670-1\", \"3159-1\",\n",
    "#                \"3160-1\", \"3160-2\",\"3159-2\", \"3161-1\",\n",
    "#               \"3159-3\",\"3161-2\",\"3159-4\", \"3161-3\"\n",
    "#               ]\n",
    "# name_dir = 'all-samples'\n",
    "\n",
    "# samples = [\"CONTROLS\",\"GCA\"]\n",
    "# samples_ids = [\"CONTROLS\",\"GCA\"]\n",
    "# name_dir = \"Human-arteries\"\n",
    "\n",
    "# samples = [\"Region1\"\n",
    "#         #    ,\"Region2\",\"Region3\"\n",
    "#            ]\n",
    "# samples_ids = [\"Region1\"\n",
    "#             #    ,\"Region2\",\"Region3\"\n",
    "#                ]\n",
    "# name_dir = \"MB_test\"\n",
    "\n",
    "\n",
    "# samples = ['S1_Region1']\n",
    "# samples_ids = [\"S1_Region1\"]\n",
    "# name_dir = 'march-test'"
   ]
  },
  {
   "cell_type": "markdown",
   "id": "36d2c3a8-23a4-4b60-8a9a-a05b14629c95",
   "metadata": {},
   "source": [
    "# Analysis"
   ]
  },
  {
   "cell_type": "markdown",
   "id": "b7b85cb0-2f9c-4f1f-8bdf-53915a509a9d",
   "metadata": {},
   "source": [
    "## Data Import (always run)"
   ]
  },
  {
   "cell_type": "markdown",
   "id": "9bd00d67-4bf3-41e9-844f-20a9fcc23f3c",
   "metadata": {},
   "source": [
    "## Find marker genes for each cluster"
   ]
  },
  {
   "cell_type": "code",
   "execution_count": null,
   "id": "76a4207e-d24c-4fdd-a389-8c6e3edde506",
   "metadata": {},
   "outputs": [],
   "source": [
    "# Obtain cluster-specific differentially expressed genes\n",
    "# cluster_to_use = 'cell_type_newnum'\n",
    "# cluster_to_use = 'cell type'\n",
    "# cluster_to_use = 'cell_type_auto'\n",
    "# cluster_to_use = 'cell_type_auto_sub'\n",
    "# cluster_to_use = 'sample'\n",
    "cluster_to_use = 'cell_type_final'\n",
    "# sc.pp.normalize_total(adata, inplace=True)\n",
    "# sc.pp.log1p(adata)\n",
    "adata.obs[cluster_to_use] = adata.obs[cluster_to_use].astype(str)\n",
    "sc.tl.rank_genes_groups(adata, groupby=cluster_to_use, method=\"wilcoxon\", tie_correct = True)\n"
   ]
  },
  {
   "cell_type": "code",
   "execution_count": null,
   "id": "52c9b347",
   "metadata": {},
   "outputs": [],
   "source": [
    "sc.pl.rank_genes_groups_dotplot(adata, groupby=cluster_to_use, standard_scale=\"var\", n_genes=1, dendrogram = True)"
   ]
  },
  {
   "cell_type": "code",
   "execution_count": null,
   "id": "f87b749e-4705-48cd-8f20-5bfeb1608cc3",
   "metadata": {},
   "outputs": [],
   "source": [
    "sc.pl.rank_genes_groups_dotplot(\n",
    "    adata,\n",
    "    n_genes=1,\n",
    "    values_to_plot=\"logfoldchanges\", cmap='bwr',\n",
    "    vmin=-4,\n",
    "    vmax=4,\n",
    ")"
   ]
  },
  {
   "cell_type": "code",
   "execution_count": null,
   "id": "0937a4c1-e430-4063-9866-58b5aea07156",
   "metadata": {
    "scrolled": true
   },
   "outputs": [],
   "source": [
    "dat = pd.DataFrame()\n",
    "for i in range(0, len(adata.obs[cluster_to_use].unique())):\n",
    "    print(f\"Cluster {i}\")\n",
    "    dat1 = sc.get.rank_genes_groups_df(adata, group=str(i))\n",
    "    dat1['group'] = i\n",
    "    dat = pd.concat([dat, dat1])\n",
    "\n",
    "dat.to_csv(\"marker_genes_0-4_run1.csv\")"
   ]
  },
  {
   "cell_type": "code",
   "execution_count": null,
   "id": "363d4ecf-770e-4404-a6e0-9f99b76592c5",
   "metadata": {},
   "outputs": [],
   "source": [
    "marker_genes = [\n",
    "# 10X annotations\n",
    "# \"Acsbg1\",\"Aqp4\",\"Cdh20\",\"Clmn\",\"Gfap\",\"Gli3\",\"Id2\",\"Mapk4\",\"Ntsr2\",\"Pde7b\",\"Rfx4\",\"Rorb\",\"Slc39a12\", #Astrocytes\n",
    "# \"Arhgap12\",\"Fibcd1\",\"Sipa1l3\",\"Wfs1\", #CA1-ProS\n",
    "# \"2010300C02Rik\",\"Arhgef28\",\"Bcl11b\",\"Bhlhe22\",\"Cabp7\",\"Cpne4\",\"Igfbp4\",\"Necab2\",\"Prdm8\",\"Strip2\",\"Syndig1\", #CA2\n",
    "# \"Cpne6\",\"Epha4\",\"Hat1\",\"Neurod6\",\"Npy2r\",\"Nrp2\",\"Shisa6\", #CA3\n",
    "# \"Cdh9\",\"Orai2\",\"Prox1\",\"Rasl10a\",\"Tanc1\", #DG\n",
    "# \"Acvrl1\",\"Adgrl4\",\"Car4\",\"Cd93\",\"Cldn5\",\"Cobll1\",\"Emcn\",\"Fgd5\",\"Fn1\",\"Kdr\",\"Ly6a\",\"Mecom\",\"Nostrin\",\"Paqr5\",\"Pecam1\",\"Pglyrp1\",\"Slfn5\",\"Sox17\",\"Zfp366\", #Endothelial\n",
    "#\"Arhgap25\",\"Cd300c2\",\"Cd53\",\"Cd68\",\"Ikzf1\",\"Laptm5\",\"Siglech\",\"Sla\",\"Spi1\",\"Trem2\",#Microglia\n",
    "# 'Gjc3','Gpr17','Opalin','Sema3d','Sema6a','Sox10','Zfp536', #Oligodendrocytes\n",
    "# 'Acta2','Ano1','Arhgap6','Carmn','Cspg4','Fos','Gucy1a1','Inpp4b','Nr2f2','Pip5k1b','Plekha2','Pln','Sncg','Sntb1', # Pericytes\n",
    "# 'Aldh1a2','Col1a1','Col6a1','Cyp1b1','Dcn','Fmod','Gjb2','Igf2','Pdgfra','Ror1',\"Slc13a4\",\"Spp1\", #VLMC\n",
    "# \"Chat\",\"Crh\",\"Igf1\",'Penk','Pthlh','Sorcs3','Thsd7a','Vip', #Vip interneurons\n",
    "\n",
    "'Arntl','Clock','Cry1','Cry2','Nr1d1',\"Per1\",'Per2','Per3','Rora','Rorb', ## Clock genes\n",
    "# 'Gfap','Trem2','Cd44','Spp1','Cd68','Igf1','Spi1','Cd300c2','Cd53','Laptm5','Ikzf1','Arhgap25','Opalin','Prox1','Cbln1','Sema3a','Paqr5','Spag16',\n",
    "# \"Vip\", \"Pkib\", \"Tmem255a\", \"Arhgap6\", \"Chodl\", #SCN rank genes analysis\n",
    "# 'Strip2',\"Shisa6\",\"Chodl\", 'Fos','Sdk2', 'Cdh6','Cobll1','Tanc1'\n",
    "# 'Dner','Gad1','Rasgrf2','Vat1l','Pde7b','Igfbp5','Rorb','Rims3','Tmem255a','Cdh13','Gad2','Rab3b','Parm1','Tle4','Fhod3','Rmst','Vip','Nr2f2','Arhgap6',\n",
    "# 'Laptm5','Kctd12','Siglech','Trem2','Cd53','Cd68','Cd300c2','Ikzf1','Spi1','Acsbg1','Gfap','Dpy19l1','Unc13c','Arhgap25','Meis2','Dner','Arhgap12','Igfbp5','Ntsr2',\n",
    "# \"Gfap\",\"Rbp4\",\"Trem2\",\"Th\",\"Laptm5\",\"Syt17\",\"Opn3\",\"Spp1\",\"Cd44\",\"Cd53\",\"Igf1\",\"Gjb2\",\n",
    "# \"Vip\",\"Prss35\",\"Cd68\",\"Cplx3\",\"Siglech\",\"Ikzf1\",\"Cd300c2\",\"Dcn\",\"Spi1\",\"Pkib\",\"Fos\",\"Angpt1\",\n",
    "# \"Igfbp5\",\"Chrm2\",\"Rspo2\",\"Arhgap25\",\"Sst\",\n",
    "# 'Ntsr2'    \n",
    "]\n"
   ]
  },
  {
   "cell_type": "code",
   "execution_count": null,
   "id": "995dd0c4-d85c-4265-88df-beed20d97c5b",
   "metadata": {},
   "outputs": [],
   "source": [
    "ax = sc.pl.stacked_violin(adata2,\n",
    "                         marker_genes,\n",
    "                         groupby='cell_type_final',\n",
    "                         dendrogram=False,\n",
    "                         log=False,\n",
    "                         )"
   ]
  },
  {
   "cell_type": "code",
   "execution_count": null,
   "id": "57628d6c-9ba1-4020-839c-5df8cb6f55d5",
   "metadata": {},
   "outputs": [],
   "source": [
    "sc.pl.violin(adata2, marker_genes, groupby='Genotype', order = ['WT','APP'],\n",
    "             jitter = 0.45,\n",
    "             # log = True,\n",
    "             # stripplot = False,\n",
    "            )"
   ]
  },
  {
   "cell_type": "markdown",
   "id": "ee0ba0ce-5450-486d-9ef2-3c0b6d8725ff",
   "metadata": {},
   "source": [
    "## Subset (a)dataset for one cell type"
   ]
  },
  {
   "cell_type": "code",
   "execution_count": null,
   "id": "81a7c742",
   "metadata": {},
   "outputs": [],
   "source": [
    "adata.obs.groupby('cell_type_final')['cell_id'].count()"
   ]
  },
  {
   "cell_type": "code",
   "execution_count": null,
   "id": "57d4f9c8-49f3-4417-b041-f82800b70015",
   "metadata": {
    "scrolled": true
   },
   "outputs": [],
   "source": [
    "celltype_to_subset = \"SCH Gaba\"\n",
    "adata_microglia = adata[adata.obs['cell_type_final'] == celltype_to_subset]"
   ]
  },
  {
   "cell_type": "code",
   "execution_count": null,
   "id": "f204fde1-56b9-4c24-ba30-f4b063aa5d66",
   "metadata": {},
   "outputs": [],
   "source": [
    "adata_microglia.obs['sample']#,adata_microglia.obs['Genotype']"
   ]
  },
  {
   "cell_type": "code",
   "execution_count": null,
   "id": "5a3e31ee-4302-4cc2-a81c-c208729619c7",
   "metadata": {},
   "outputs": [],
   "source": [
    "marker_genes = [\n",
    "# 10X annotations\n",
    "# \"Acsbg1\",\"Aqp4\",\"Cdh20\",\"Clmn\",\"Gfap\",\"Gli3\",\"Id2\",\"Mapk4\",\"Ntsr2\",\"Pde7b\",\"Rfx4\",\"Rorb\",\"Slc39a12\", #Astrocytes\n",
    "# \"Arhgap12\",\"Fibcd1\",\"Sipa1l3\",\"Wfs1\", #CA1-ProS\n",
    "# \"2010300C02Rik\",\"Arhgef28\",\"Bcl11b\",\"Bhlhe22\",\"Cabp7\",\"Cpne4\",\"Igfbp4\",\"Necab2\",\"Prdm8\",\"Strip2\",\"Syndig1\", #CA2\n",
    "# \"Cpne6\",\"Epha4\",\"Hat1\",\"Neurod6\",\"Npy2r\",\"Nrp2\",\"Shisa6\", #CA3\n",
    "# \"Cdh9\",\"Orai2\",\"Prox1\",\"Rasl10a\",\"Tanc1\", #DG\n",
    "# \"Acvrl1\",\"Adgrl4\",\"Car4\",\"Cd93\",\"Cldn5\",\"Cobll1\",\"Emcn\",\"Fgd5\",\"Fn1\",\"Kdr\",\"Ly6a\",\"Mecom\",\"Nostrin\",\"Paqr5\",\"Pecam1\",\"Pglyrp1\",\"Slfn5\",\"Sox17\",\"Zfp366\", #Endothelial\n",
    "# \"Arhgap25\",\"Cd300c2\",\"Cd53\",\"Cd68\",\"Ikzf1\",\"Laptm5\",\"Siglech\",\"Sla\",\"Spi1\",\"Trem2\",#Microglia\n",
    "# 'Gjc3','Gpr17','Opalin','Sema3d','Sema6a','Sox10','Zfp536', #Oligodendrocytes\n",
    "# 'Acta2','Ano1','Arhgap6','Carmn','Cspg4','Fos','Gucy1a1','Inpp4b','Nr2f2','Pip5k1b','Plekha2','Pln','Sncg','Sntb1', # Pericytes\n",
    "# 'Aldh1a2','Col1a1','Col6a1','Cyp1b1','Dcn','Fmod','Gjb2','Igf2','Pdgfra','Ror1',\"Slc13a4\",\"Spp1\", #VLMC\n",
    "# \"Chat\",\"Crh\",\"Igf1\",'Penk','Pthlh','Sorcs3','Thsd7a','Vip', #Vip interneurons\n",
    "\n",
    "'Arntl','Clock','Cry1','Cry2','Nr1d1',\"Per1\",'Per2','Per3','Rora','Rorb', ## Clock genes\n",
    "\n",
    "# \"Vip\", \"Pkib\", \"Tmem255a\", \"Arhgap6\", \"Chodl\", #SCN rank genes analysis\n",
    "# 'Strip2',\"Shisa6\",\"Chodl\", 'Fos','Sdk2', 'Cdh6','Cobll1','Tanc1'\n",
    "# 'Dner','Gad1','Rasgrf2','Vat1l','Pde7b','Igfbp5','Rorb','Rims3','Tmem255a','Cdh13','Gad2','Rab3b','Parm1','Tle4','Fhod3','Rmst','Vip','Nr2f2','Arhgap6',\n",
    "# 'Laptm5','Kctd12','Siglech','Trem2','Cd53','Cd68','Cd300c2','Ikzf1','Spi1','Acsbg1','Gfap','Dpy19l1','Unc13c','Arhgap25','Meis2','Dner','Arhgap12','Igfbp5','Ntsr2',\n",
    "# \"Gfap\",\"Rbp4\",\"Trem2\",\"Th\",\"Laptm5\",\"Syt17\",\"Opn3\",\"Spp1\",\"Cd44\",\"Cd53\",\"Igf1\",\"Gjb2\",\n",
    "# \"Vip\",\"Prss35\",\"Cd68\",\"Cplx3\",\"Siglech\",\"Ikzf1\",\"Cd300c2\",\"Dcn\",\"Spi1\",\"Pkib\",\"Fos\",\"Angpt1\",\n",
    "# \"Igfbp5\",\"Chrm2\",\"Rspo2\",\"Arhgap25\",\"Sst\",\n",
    "# 'Ntsr2'    \n",
    "]"
   ]
  },
  {
   "cell_type": "code",
   "execution_count": null,
   "id": "68008ef8-7904-48de-9235-15da00d057ed",
   "metadata": {},
   "outputs": [],
   "source": [
    "sc.pl.stacked_violin(adata_microglia, marker_genes, groupby='sample', dendrogram=False,)"
   ]
  },
  {
   "cell_type": "code",
   "execution_count": null,
   "id": "08ea7afe-9817-45bd-a72b-c0d25472b8ee",
   "metadata": {},
   "outputs": [],
   "source": [
    "sc.pl.violin(adata_microglia, marker_genes, groupby='ZT',\n",
    "             #order = ['WT','APP'],\n",
    "             #log = True,\n",
    "             # stripplot = False,\n",
    "            )"
   ]
  },
  {
   "cell_type": "code",
   "execution_count": null,
   "id": "d4743301",
   "metadata": {},
   "outputs": [],
   "source": [
    "    sc.tl.rank_genes_groups(adata_microglia, groupby=cluster_to_use, method=\"wilcoxon\", tie_correct = True, pts = True)\n",
    "    \n",
    "    # sc.pl.rank_genes_groups_dotplot(adata_microglia, groupby=cluster_to_use, standard_scale=\"var\", n_genes=5)\n",
    "    \n",
    "    for i in adata2.obs[cluster_to_use].unique():\n",
    "        # print(f\"Cluster {cell_type_to_extract}_{i}\")\n",
    "        dat1 = sc.get.rank_genes_groups_df(adata_microglia, group=i)\n",
    "        dat1['group'] = i\n",
    "        dat = pd.concat([dat, dat1])\n",
    "\n",
    "    dat = dat[ ### Choose filters here\n",
    "    (dat['pct_nz_group'] > 0.15) & #Percentage of cell expressing the gene\n",
    "    (dat['pvals_adj']<= 0.05) & # adjusted p-value\n",
    "    (abs(dat['logfoldchanges']) > 0.26) # logfoldchange\n",
    "    ]"
   ]
  },
  {
   "cell_type": "code",
   "execution_count": null,
   "id": "40faa92a-ce4d-4cbd-ae9a-0417adcdd2e4",
   "metadata": {},
   "outputs": [],
   "source": [
    "cluster_to_use = \"ZT\"\n",
    "\n",
    "sc.tl.rank_genes_groups(adata_microglia, groupby=cluster_to_use, method=\"wilcoxon\", tie_correct = True, pts = True)\n",
    "\n",
    "\n",
    "dat = pd.DataFrame()\n",
    "for i in adata_microglia.obs[cluster_to_use].unique():\n",
    "    print(f\"Cluster {i}\")\n",
    "    dat1 = sc.get.rank_genes_groups_df(adata_microglia, group=str(i))\n",
    "    dat1['group'] = i\n",
    "    dat = pd.concat([dat, dat1])\n",
    "\n",
    "dat = dat[ ### Choose filters here\n",
    "    (dat['pct_nz_group'] > 0.15)  #Percentage of cell expressing the gene\n",
    "    & (dat['pvals_adj']<= 0.05) # # adjusted p-value\n",
    "    # & (abs(dat['logfoldchanges']) > 0.26) # logfoldchange\n",
    "    ]\n",
    "\n",
    "dat.to_csv(\"data/SCH.csv\")"
   ]
  },
  {
   "cell_type": "code",
   "execution_count": null,
   "id": "940cd6b4-a206-421c-81fb-34beb733026e",
   "metadata": {},
   "outputs": [],
   "source": [
    "sc.pl.highest_expr_genes(adata_microglia, n_top=30, show=None, save=None, ax=None, gene_symbols=None, log=False)"
   ]
  },
  {
   "cell_type": "code",
   "execution_count": null,
   "id": "4c4d9c24-5757-4bb9-88a7-d65411202683",
   "metadata": {
    "scrolled": true
   },
   "outputs": [],
   "source": [
    "adata_microglia_WT=adata_microglia[adata_microglia.obs['Genotype']== 'WT']\n",
    "adata_microglia_APP=adata_microglia[adata_microglia.obs['Genotype']== 'APP']\n",
    "\n",
    "sc.pl.highest_expr_genes(adata_microglia_WT, n_top=30, show=None, save=None, ax=None, gene_symbols=None, log=False)\n",
    "sc.pl.highest_expr_genes(adata_microglia_APP, n_top=30, show=None, save=None, ax=None, gene_symbols=None, log=False)"
   ]
  },
  {
   "cell_type": "markdown",
   "id": "7fb78da9-702a-4ece-b4a8-f8510b0c0ec9",
   "metadata": {},
   "source": [
    "### Subcluster the subset"
   ]
  },
  {
   "cell_type": "code",
   "execution_count": null,
   "id": "86efaec3-34f7-4828-a67d-23e2b7c63cc7",
   "metadata": {},
   "outputs": [],
   "source": [
    "# extract pca coordinates\n",
    "# X_pca = adata_microglia.obsm['X_pca'] \n",
    "\n",
    "sc.pp.pca(adata_microglia)\n",
    "sc.pp.neighbors(adata_microglia)\n",
    "sc.tl.umap(adata_microglia)\n",
    "\n",
    "### Kmeans clustering\n",
    "# ### You can choose the number of clusters by uncommenting n_clusters option\n",
    "# kmeans = KMeans(#n_clusters=2,\n",
    "#                 random_state=0).fit(X_pca) \n",
    "# adata_microglia.obs['kmeans'] = kmeans.labels_.astype(str)\n",
    "\n",
    "sc.tl.leiden(adata_microglia, resolution = 0.2)"
   ]
  },
  {
   "cell_type": "code",
   "execution_count": null,
   "id": "22bdaa42-9d46-48b2-8067-2540715239b7",
   "metadata": {},
   "outputs": [],
   "source": [
    "# adata.obs.groupby('cell type')[['nucleus_area','cell_area','total_counts','n_genes_by_counts']].max().sort_values(by = 'cell_area')"
   ]
  },
  {
   "cell_type": "code",
   "execution_count": null,
   "id": "775aa571-4ae9-4d3b-89e8-fb2d6da943d7",
   "metadata": {},
   "outputs": [],
   "source": [
    "### Choose one cluster to work with\n",
    "#cluster_to_use = 'leiden0.4_classname'\n",
    "# cluster_to_use = 'kmeans'\n",
    "cluster_to_use = 'leiden'\n",
    "# cluster_to_use = 'L04_newnum'"
   ]
  },
  {
   "cell_type": "code",
   "execution_count": null,
   "id": "e5565fad-b45c-4634-bc2e-6fdd6d00e11b",
   "metadata": {},
   "outputs": [],
   "source": [
    "### Number of cells per clusters\n",
    "max_clust = len(adata_microglia.obs[cluster_to_use].unique())\n",
    "for i in range(0, max_clust):\n",
    "    count = adata_microglia.obs[cluster_to_use].value_counts().iloc[i]\n",
    "    print(f\"Cluster {i} : {count} cells\")"
   ]
  },
  {
   "cell_type": "code",
   "execution_count": null,
   "id": "38b28773-20d0-4042-9359-2cdc800bdc01",
   "metadata": {},
   "outputs": [],
   "source": [
    "### Generate a color palette for the clusters - to make color stay consistent across samples\n",
    "adata_microglia.obs[cluster_to_use] = adata_microglia.obs[cluster_to_use].astype(str)\n",
    "\n",
    "# Create a palette with a unique color for each cluster\n",
    "num_clusters = len(adata_microglia.obs[cluster_to_use].astype(int).unique())\n",
    "palette = sns.color_palette(\"tab20\", n_colors=num_clusters)\n",
    "\n",
    "# Map each 'leiden' value to a color\n",
    "adata_microglia.obs['leiden_colors'] = adata_microglia.obs[cluster_to_use].astype(int).apply(lambda x: palette[x])"
   ]
  },
  {
   "cell_type": "code",
   "execution_count": null,
   "id": "3f09fd10-2fd0-4490-8345-c3e091a40eb1",
   "metadata": {},
   "outputs": [],
   "source": [
    "### Let's make UMAP plot. We will also add the cluster centroids to the plot\n",
    "adata_microglia.obs['umap-1'] = adata_microglia.obsm['X_umap'][:, 0]\n",
    "adata_microglia.obs['umap-2'] = adata_microglia.obsm['X_umap'][:, 1]\n",
    "cluster_centroids = adata_microglia.obs.groupby(cluster_to_use)[['umap-1', 'umap-2']].median()"
   ]
  },
  {
   "cell_type": "code",
   "execution_count": null,
   "id": "c9413b6b-bda5-4a2f-82ec-5e458328dfe7",
   "metadata": {},
   "outputs": [],
   "source": [
    "## Draw UMAP\n",
    "fig, axs = plt.subplots(2,4,figsize=(30, 15))\n",
    "axs = axs.flatten()\n",
    "\n",
    "def plot_umap(adata_microglia, color_column, ax, title=None):\n",
    "    scatter = ax.scatter(adata_microglia.obsm['X_umap'][:, 0], adata_microglia.obsm['X_umap'][:, 1], c=adata_microglia.obs[color_column], s=2, alpha=0.8)\n",
    "    ax.set_title(title)\n",
    "    ax.axis('off')\n",
    "\n",
    "for i, sample in enumerate(samples_ids):\n",
    "    sample_data = adata_microglia[adata_microglia.obs['sample'] == sample]\n",
    "    plot_umap(sample_data, 'leiden_colors', axs[i], title=f\"UMAP for {sample}\")\n",
    "    \n",
    "    for cluster_id, centroid in cluster_centroids.iterrows():\n",
    "        axs[i].text(centroid['umap-1'], centroid['umap-2'], str(cluster_id), color='black', fontsize=9)\n",
    "\n",
    "# plt.savefig(f\"/mnt/d/Jupyter_notebook/Xenium_jupyter_notebook/plot/{name_dir}/{name_dir}_UMAP_{cluster_to_use}.svg\")"
   ]
  },
  {
   "cell_type": "code",
   "execution_count": null,
   "id": "249a6e9f-c810-4e6d-b331-e62b0ceaf167",
   "metadata": {},
   "outputs": [],
   "source": [
    "samples_ids = adata_microglia.obs['sample'].unique()"
   ]
  },
  {
   "cell_type": "code",
   "execution_count": null,
   "id": "f19c0ff8-83ac-4d38-9834-c115a9a08eac",
   "metadata": {},
   "outputs": [],
   "source": [
    "# Map all cells\n",
    "fig, axs = plt.subplots(2,4,figsize=(30, 15))\n",
    "axs = axs.flatten()\n",
    "clusters_plot = {\"1\": 'magenta',\"0\": 'cyan', \"2\": 'green', \"\":'red', \"\":'orange',\"7\":'black',\"\":\"purple\"\n",
    "                }\n",
    "\n",
    "for idx, sample in enumerate(samples_ids):\n",
    "    adata_sel = adata_microglia[(adata_microglia.obs['sample'] == sample)]\n",
    "    for cluster_id in adata_sel.obs[cluster_to_use].unique():\n",
    "        cluster_data = adata_sel.obs[adata_sel.obs[cluster_to_use] == cluster_id]\n",
    "        colors = clusters_plot[cluster_id] if cluster_id in clusters_plot else \"none\" ### for selected clusters in cluster_plot\n",
    "        # colors= cluster_data['leiden_colors'].unique()[0] ### for all clusters\n",
    "        axs[idx].scatter(cluster_data['x_centroid'].astype('float'), cluster_data['y_centroid'].astype('float'), color=colors, s=10, label=cluster_id)\n",
    "        axs[idx].set_title(f\"Sample {sample}\")\n",
    "        # axs[idx].set_ylim(400,1300)\n",
    "        # axs[idx].set_xlim(4100,5600)\n",
    "\n"
   ]
  },
  {
   "cell_type": "code",
   "execution_count": null,
   "id": "f3e9d025-34e9-4463-b0d6-39bada9c4873",
   "metadata": {
    "scrolled": true
   },
   "outputs": [],
   "source": [
    "### Correlation map of subclusters\n",
    "cont_tab = pd.crosstab(adata_microglia.obs[cluster_to_use], adata_microglia.obs['mmc:supertype_name'], normalize=\"index\")\n",
    "plt.figure(figsize=(20, 10))\n",
    "sns.heatmap(cont_tab, annot=True, cmap=\"YlGnBu\", fmt=\".1f\")"
   ]
  },
  {
   "cell_type": "code",
   "execution_count": null,
   "id": "23ec57e7-55c5-4580-bb9e-204c046ac979",
   "metadata": {
    "scrolled": true
   },
   "outputs": [],
   "source": [
    "# Obtain cluster-specific differentially expressed genes\n",
    "# cluster_to_use = 'leid'\n",
    "# cluster_to_use = 'Genotype'\n",
    "adata_microglia.obs[cluster_to_use] = adata_microglia.obs[cluster_to_use].astype(str)\n",
    "# sc.tl.dendrogram(adata_microglia, groupby = cluster_to_use, n_pcs=None, use_rep=None, var_names=None, use_raw=None, cor_method='pearson', linkage_method='complete', optimal_ordering=False, key_added=None)\n",
    "sc.tl.rank_genes_groups(adata_microglia, groupby=cluster_to_use, method=\"wilcoxon\")\n",
    "sc.pl.rank_genes_groups_dotplot(adata_microglia, groupby=cluster_to_use, standard_scale=\"var\", n_genes=5)\n",
    "\n",
    "sc.pl.rank_genes_groups_dotplot(\n",
    "    adata_microglia,\n",
    "    n_genes=5,\n",
    "    values_to_plot=\"logfoldchanges\", cmap='bwr',\n",
    "    vmin=-4,\n",
    "    vmax=4,\n",
    ")"
   ]
  },
  {
   "cell_type": "code",
   "execution_count": null,
   "id": "f62204d7-c319-4aaf-800e-bc792103e760",
   "metadata": {
    "scrolled": true
   },
   "outputs": [],
   "source": [
    "sc.pl.rank_genes_groups_violin(adata_microglia, groups=adata_microglia.obs[cluster_to_use], n_genes=1)"
   ]
  },
  {
   "cell_type": "code",
   "execution_count": null,
   "id": "a800354f-5fcd-41e9-93ee-4b718f0d7104",
   "metadata": {},
   "outputs": [],
   "source": [
    "marker_genes = ['Gfap', \"Igf1\", \"Gng12\", \"Cd68\", \"Igfbp5\", \"Siglech\", \"Ikzf1\", \"Kctd12\", \"Cd300c2\", \"Spi1\"]"
   ]
  },
  {
   "cell_type": "code",
   "execution_count": null,
   "id": "0b2153eb-8c78-4a55-85b5-07498d61f52b",
   "metadata": {},
   "outputs": [],
   "source": [
    "ax = sc.pl.stacked_violin(adata_microglia, var_names = marker_genes , groupby='kmeans', dendrogram=True)"
   ]
  },
  {
   "cell_type": "code",
   "execution_count": null,
   "id": "095b7d62-c957-4bf3-8f48-b15ed942a2e1",
   "metadata": {},
   "outputs": [],
   "source": [
    "# Obtain cluster-specific differentially expressed genes\n",
    "# cluster_to_use = 'kmeans'\n",
    "cluster_to_use = 'ZT'\n",
    "adata_microglia.obs[cluster_to_use] = adata_microglia.obs[cluster_to_use].astype(str)\n",
    "# sc.tl.dendrogram(adata_microglia, groupby = cluster_to_use, n_pcs=None, use_rep=None, var_names=None, use_raw=None, cor_method='pearson', linkage_method='complete', optimal_ordering=False, key_added=None)\n",
    "sc.tl.rank_genes_groups(adata_microglia, groupby=cluster_to_use, method=\"wilcoxon\", tie_correct = True)\n",
    "sc.pl.rank_genes_groups_dotplot(adata_microglia, groupby=cluster_to_use, standard_scale=\"var\", n_genes=5, dendrogram = False)\n",
    "\n",
    "sc.pl.rank_genes_groups_dotplot(\n",
    "    adata_microglia,\n",
    "    n_genes=5,\n",
    "    values_to_plot=\"logfoldchanges\", cmap='bwr',\n",
    "    dendrogram = False\n",
    "    # vmin=-4,\n",
    "    # vmax=4,\n",
    ")"
   ]
  },
  {
   "cell_type": "code",
   "execution_count": null,
   "id": "8f7fe532-aa8e-4c41-8434-cdac7a08aa44",
   "metadata": {},
   "outputs": [],
   "source": [
    "### Extract gene expression per cluster + log fold change + p-value\n",
    "cluster_to_use = 'Genotype'\n",
    "\n",
    "adata_microglia.obs[cluster_to_use] = adata_microglia.obs[cluster_to_use].astype(str)\n",
    "#sc.tl.dendrogram(adata, groupby = 'L04_newnum_subclassname')\n",
    "sc.tl.rank_genes_groups(adata_microglia, groupby=cluster_to_use, method=\"wilcoxon\", tie_correct = True, pts = True)\n",
    "\n",
    "sc.pl.rank_genes_groups_dotplot(adata_microglia, groupby=cluster_to_use, standard_scale=\"var\", n_genes=5)\n",
    "\n",
    "dat = pd.DataFrame()\n",
    "for i in adata2.obs[cluster_to_use].unique():\n",
    "    print(f\"Cluster {i}\")\n",
    "    dat1 = sc.get.rank_genes_groups_df(adata_microglia, group=i)\n",
    "    dat1['group'] = i\n",
    "    dat = pd.concat([dat, dat1])\n",
    "\n",
    "### Extract not-normalized expression and clusters for individual cells\n",
    "if not os.path.exists(f\"{dir_notebook}/csv/{name_dir}/\"):\n",
    "   os.makedirs(f\"{dir_notebook}/csv/{name_dir}/\")\n",
    "dat.to_csv(f\"{dir_notebook}/csv/{name_dir}/{name_dir}_clusters_foldchange_{celltype_to_subset}.csv\")"
   ]
  },
  {
   "cell_type": "code",
   "execution_count": null,
   "id": "e1029654-dd6a-4cfd-aba9-6cbbe3535e35",
   "metadata": {},
   "outputs": [],
   "source": [
    "dat"
   ]
  },
  {
   "cell_type": "code",
   "execution_count": null,
   "id": "dc9a378f-7009-43b8-9dee-ba287d062a38",
   "metadata": {},
   "outputs": [],
   "source": [
    "celltype_to_subset = \"SCH\"\n",
    "adata_region_cell = adata2[adata2.obs['cell type'] == celltype_to_subset]"
   ]
  },
  {
   "cell_type": "markdown",
   "id": "52b673d5-f2cd-47f2-8307-77cdae36d28c",
   "metadata": {},
   "source": [
    "## Subset one region"
   ]
  },
  {
   "cell_type": "code",
   "execution_count": null,
   "id": "c00abeb6-a8bc-4785-86b4-57197a96d144",
   "metadata": {},
   "outputs": [],
   "source": [
    "adata2.obs['region_automap'].unique()"
   ]
  },
  {
   "cell_type": "code",
   "execution_count": null,
   "id": "f449cf77-03bd-4b2c-a8d9-c97b7bac8317",
   "metadata": {},
   "outputs": [],
   "source": [
    "region_to_subset = \"SCH\"\n",
    "adata_region = adata2[adata2.obs['region_automap'] == region_to_subset]"
   ]
  },
  {
   "cell_type": "code",
   "execution_count": null,
   "id": "d2cd0619-d004-4935-91f4-711fb4c92c75",
   "metadata": {
    "scrolled": true
   },
   "outputs": [],
   "source": [
    "adata_region.obs[adata_region.obs['cell_type_final']== 'SCH Gaba'].groupby('mmc:subclass_name')['cell_id'].nunique()"
   ]
  },
  {
   "cell_type": "code",
   "execution_count": null,
   "id": "be2ea7e8-3add-4537-a4c7-c862809c8f27",
   "metadata": {},
   "outputs": [],
   "source": [
    "adata_region.obs[adata_region.obs['cell_type_final']=='SCH']['cell_type_newnum_final'].head()"
   ]
  },
  {
   "cell_type": "code",
   "execution_count": null,
   "id": "7b1c2d8d-e623-4954-a39b-e7787b50e0c0",
   "metadata": {},
   "outputs": [],
   "source": [
    "# Generate new numbering base on unique 'cell type'\n",
    "all_cell_type = adata_region.obs['cell type'].unique()\n",
    "list_cell_nb = range(0, len(all_cell_type))\n",
    "mapping_dict = dict(zip(all_cell_type,list_cell_nb))\n",
    "adata_region.obs['cell_type_newnum'] = adata_region.obs['cell type'].map(mapping_dict)\n",
    "# mapping_dict\n",
    "\n",
    "### Generate a color palette for the clusters - to make color stay consistent across samples\n",
    "adata_region.obs['cell_type_newnum'] = adata_region.obs['cell_type_newnum'].astype(int)\n",
    "\n",
    "# Create a palette with a unique color for each cluster\n",
    "num_clusters = len(adata_region.obs['cell_type_newnum'].unique())\n",
    "palette = sns.color_palette(\"bright\", n_colors=num_clusters)\n",
    "\n",
    "# Map each 'leiden' value to a color\n",
    "adata_region.obs['kmeans_colors'] = adata_region.obs['cell_type_newnum'].apply(lambda x: palette[x])\n",
    "\n",
    "# Mapping of clusters\n",
    "fig, axs = plt.subplots(3,2,figsize=(15, 18))\n",
    "axs = axs.flatten()\n",
    "clusters_plot = { 1: 'lightcoral', 11:'black',4:'red',\n",
    "    # 0: 'orchid', 1: 'forestgreen',2: 'coral', 4:'orange',\n",
    "    # 3:'red', 5:'blue',6:'cyan',7:'black'\n",
    "    # 4:'red',0:'black'\n",
    "}\n",
    "\n",
    "for idx, sample in enumerate(samples_ids):\n",
    "    adata_sel = adata_region[(adata_region.obs['sample'] == sample)]\n",
    "    for cluster_id in adata_sel.obs['cell_type_newnum'].unique():\n",
    "        cluster_data = adata_sel.obs[adata_sel.obs['cell_type_newnum'] == cluster_id]\n",
    "        if len(cluster_data) >= 0:\n",
    "            colors = clusters_plot[cluster_id] if cluster_id in clusters_plot else \"none\"\n",
    "            colors= cluster_data['kmeans_colors'].unique()[0]\n",
    "            axs[idx].scatter(cluster_data['x_centroid'], cluster_data['y_centroid'], color=colors, s=15, label=cluster_data['cell type'].unique()[0])\n",
    "            axs[idx].set_title(f\"Sample {sample}\")\n",
    "\n",
    "plt.legend(markerscale=1, scatterpoints=1000, bbox_to_anchor=(1.02, 1), loc='upper left', borderaxespad=0)\n"
   ]
  },
  {
   "cell_type": "code",
   "execution_count": null,
   "id": "3856762c-292d-4ed7-87fe-b8bc07fc3260",
   "metadata": {},
   "outputs": [],
   "source": [
    "# len(adata_region)/1000\n",
    "# adata_region_notunique.obs.groupby('cell type')['cell_id'].nunique()\n",
    "# list_to_exclude"
   ]
  },
  {
   "cell_type": "code",
   "execution_count": null,
   "id": "c0b93994-da19-4332-8872-84f61845dbac",
   "metadata": {},
   "outputs": [],
   "source": [
    "list_to_exclude  = adata_region.obs.groupby('cell type')['cell_id'].nunique() >= 10\n",
    "list_to_exclude.values\n",
    "dict_exclude = dict(zip(list_to_exclude.index, list_to_exclude.values))\n",
    "dict_exclude\n",
    "\n",
    "adata_region.obs['exclude'] = adata_region.obs['cell type'].map(dict_exclude)\n",
    "\n",
    "adata_region_notunique = adata_region[adata_region.obs['exclude'] != False]\n",
    "\n",
    "adata_region_notunique.obs.groupby('cell type')['cell_id'].nunique()\n",
    "\n",
    "sc.tl.dendrogram(adata_region_notunique, groupby = 'cell type', n_pcs=None, use_rep=None, var_names=None, use_raw=None, cor_method='pearson', linkage_method='complete', optimal_ordering=False, key_added=None)\n",
    "sc.tl.rank_genes_groups(adata_region_notunique, groupby='cell type', method=\"wilcoxon\", tie_correct = True)\n",
    "sc.pl.rank_genes_groups_dotplot(adata_region_notunique, groupby='cell type', standard_scale=\"var\", n_genes=5)"
   ]
  },
  {
   "cell_type": "code",
   "execution_count": null,
   "id": "62c448cf-5f8c-4a45-ae5d-4c1ff00ede96",
   "metadata": {},
   "outputs": [],
   "source": [
    "sc.pl.rank_genes_groups_dotplot(\n",
    "    adata_region_notunique,\n",
    "    n_genes=5,\n",
    "    values_to_plot=\"logfoldchanges\", cmap='bwr',\n",
    "    # vmin=-4,\n",
    "    # vmax=4,\n",
    ")"
   ]
  },
  {
   "cell_type": "code",
   "execution_count": null,
   "id": "b519a424-7678-4284-8450-43431b5e9334",
   "metadata": {},
   "outputs": [],
   "source": [
    "### Extract gene expression per cluster + log fold change + p-value\n",
    "cluster_to_use = 'Genotype'\n",
    "\n",
    "adata_region.obs[cluster_to_use] = adata_region.obs[cluster_to_use].astype(str)\n",
    "#sc.tl.dendrogram(adata, groupby = 'L04_newnum_subclassname')\n",
    "sc.tl.rank_genes_groups(adata_region, groupby=cluster_to_use, method=\"wilcoxon\", tie_correct = True, pts = True)\n",
    "\n",
    "sc.pl.rank_genes_groups_dotplot(adata_region, groupby=cluster_to_use, standard_scale=\"var\", n_genes=5)\n",
    "\n",
    "dat = pd.DataFrame()\n",
    "for i in adata_region.obs[cluster_to_use].unique():\n",
    "    print(f\"Cluster {i}\")\n",
    "    dat1 = sc.get.rank_genes_groups_df(adata_region, group=i)\n",
    "    dat1['group'] = i\n",
    "    dat = pd.concat([dat, dat1])\n",
    "\n",
    "### Extract not-normalized expression and clusters for individual cells\n",
    "if not os.path.exists(f\"{dir_notebook}/csv/{name_dir}/\"):\n",
    "   os.makedirs(f\"{dir_notebook}/csv/{name_dir}/\")\n",
    "dat.to_csv(f\"{dir_notebook}/csv/{name_dir}/{name_dir}_clusters_foldchange_{region_to_subset}-region.csv\")"
   ]
  },
  {
   "cell_type": "code",
   "execution_count": null,
   "id": "4110a66e-72b5-4cc6-9155-e1c4532cd487",
   "metadata": {},
   "outputs": [],
   "source": [
    "celltype_to_subset = \"Astro\"\n",
    "adata_region_cell = adata_region[adata_region.obs['cell type'] == celltype_to_subset]"
   ]
  },
  {
   "cell_type": "code",
   "execution_count": null,
   "id": "7141eaf0-b59e-43e5-89f1-964c662d36f4",
   "metadata": {},
   "outputs": [],
   "source": [
    "### Extract gene expression per cluster + log fold change + p-value\n",
    "cluster_to_use = 'Genotype'\n",
    "\n",
    "adata_region_cell.obs[cluster_to_use] = adata_region_cell.obs[cluster_to_use].astype(str)\n",
    "#sc.tl.dendrogram(adata, groupby = 'L04_newnum_subclassname')\n",
    "sc.tl.rank_genes_groups(adata_region_cell, groupby=cluster_to_use, method=\"wilcoxon\", tie_correct = True, pts = True)\n",
    "\n",
    "sc.pl.rank_genes_groups_dotplot(adata_region_cell, groupby=cluster_to_use, standard_scale=\"var\", n_genes=5)\n",
    "\n",
    "dat = pd.DataFrame()\n",
    "for i in adata_region_cell.obs[cluster_to_use].unique():\n",
    "    print(f\"Cluster {i}\")\n",
    "    dat1 = sc.get.rank_genes_groups_df(adata_region_cell, group=i)\n",
    "    dat1['group'] = i\n",
    "    dat = pd.concat([dat, dat1])\n",
    "\n",
    "### Extract not-normalized expression and clusters for individual cells\n",
    "if not os.path.exists(f\"{dir_notebook}/csv/{name_dir}/\"):\n",
    "   os.makedirs(f\"{dir_notebook}/csv/{name_dir}/\")\n",
    "dat.to_csv(f\"{dir_notebook}/csv/{name_dir}/{name_dir}_clusters_foldchange_{region_to_subset}-region-{celltype_to_subset}-cell.csv\")"
   ]
  },
  {
   "cell_type": "markdown",
   "id": "6e9bbd33-87de-45a5-9457-89fdcab80549",
   "metadata": {},
   "source": [
    "# Output files"
   ]
  },
  {
   "cell_type": "markdown",
   "id": "c3452ed1-7797-4bd7-86cd-d214d1bff363",
   "metadata": {},
   "source": [
    "## Extract foldchange, pvalue for celltypes"
   ]
  },
  {
   "cell_type": "code",
   "execution_count": null,
   "id": "c749084d-e231-401b-9f6e-386406098071",
   "metadata": {},
   "outputs": [],
   "source": [
    "# adata = sc.read_h5ad(f\"{dir_notebook}/h5ad/{name_dir}/{name_dir}_MMC_Banksy_annotated_automap.h5ad.gz\")"
   ]
  },
  {
   "cell_type": "code",
   "execution_count": null,
   "id": "aa69f144-dbc9-4f17-9bd6-666788438006",
   "metadata": {},
   "outputs": [],
   "source": [
    "adata2 = sc.read_h5ad(f\"{dir_notebook}/h5ad/{name_dir}/{name_dir}_MMC_norm.h5ad.gz\")"
   ]
  },
  {
   "cell_type": "code",
   "execution_count": null,
   "id": "036b59f1-83e3-4efe-9df3-4947056a6da6",
   "metadata": {},
   "outputs": [],
   "source": [
    "mapping_dict_region = dict(zip(adata.obs['cell_id'], adata.obs['region_automap_name']))\n",
    "mapping_dict_celltype = dict(zip(adata.obs['cell_id'], adata.obs['cell_type_final']))\n",
    "mapping_dict_celltype_num = dict(zip(adata.obs['cell_id'], adata.obs['cell_type_newnum_final']))\n",
    "# mapping_dict_manos = dict(zip(adata.obs['cell_id'], adata.obs['sample']))\n",
    "\n",
    "adata2.obs['cell_type_newnum_final'] = adata2.obs['cell_id'].map(mapping_dict_celltype_num)\n",
    "adata2.obs['cell_type_final'] = adata2.obs['cell_id'].map(mapping_dict_celltype)\n",
    "adata2.obs['region_automap'] = adata2.obs['cell_id'].map(mapping_dict_region)\n",
    "# adata2.obs['region_manual'] = adata.obs['region_manual_name']\n",
    "\n",
    "all_celltype = np.array(adata2.obs['cell_type_final'].unique())"
   ]
  },
  {
   "cell_type": "code",
   "execution_count": null,
   "id": "7064753e-a24d-4225-9e7f-dbba32aaaaaa",
   "metadata": {},
   "outputs": [],
   "source": [
    "# HC only\n",
    "adata2.obs['Genotype'] = 0\n",
    "adata2.obs['ZT'] = 0\n",
    "\n",
    "geno_dict = {'3159-1':'WT','2670-1':'WT','3159-2':'WT','3159-3':'WT','3159-4':'WT','2505-1':'APP','2505-2':'APP','3160-1':'APP',\n",
    "             '3160-2':'APP','3161-1':'APP','3161-2':'APP','3161-3':'APP',\n",
    "}\n",
    "ZT_dict = {\n",
    "    '3159-1':'ZT17','2670-1':'ZT5','3159-2':'ZT17','3159-3':'ZT17','3159-4':'ZT17','2505-1':'ZT5','2505-2':'ZT5',\n",
    "'3160-1':'ZT17','3160-2':'ZT17','3161-1':'ZT17','3161-2':'ZT17','3161-3':'ZT17',\n",
    "}\n",
    "\n",
    "adata2.obs['Genotype'] = adata2.obs['sample'].map(geno_dict)\n",
    "adata2.obs['ZT'] = adata2.obs['sample'].map(ZT_dict)"
   ]
  },
  {
   "cell_type": "code",
   "execution_count": null,
   "id": "2ac2a068",
   "metadata": {},
   "outputs": [],
   "source": [
    "all_celltype = np.array(adata2.obs['cell_type_final'].unique())"
   ]
  },
  {
   "cell_type": "code",
   "execution_count": null,
   "id": "75699778",
   "metadata": {},
   "outputs": [],
   "source": [
    "all_samples = adata2.obs['sample'].unique()"
   ]
  },
  {
   "cell_type": "code",
   "execution_count": null,
   "id": "b795ed41",
   "metadata": {},
   "outputs": [],
   "source": [
    "all_copy = all_celltype\n",
    "for item_ in all_celltype[:]:\n",
    "    adata_microglia = adata2[adata2.obs['cell_type_final'] == item_]\n",
    "    \n",
    "    a = len(adata_microglia.obs[adata_microglia.obs['sample'] == all_samples[0]]) > 2\n",
    "    b = len(adata_microglia.obs[adata_microglia.obs['sample'] == all_samples[1]]) > 2\n",
    "    c = len(adata_microglia.obs[adata_microglia.obs['sample'] == all_samples[2]]) > 2\n",
    "    d = len(adata_microglia.obs[adata_microglia.obs['sample'] == all_samples[3]]) > 2\n",
    "    e = len(adata_microglia.obs[adata_microglia.obs['sample'] == all_samples[4]]) > 2\n",
    "    f = len(adata_microglia.obs[adata_microglia.obs['sample'] == all_samples[5]]) > 2\n",
    "    g = len(adata_microglia.obs[adata_microglia.obs['sample'] == all_samples[6]]) > 2\n",
    "    h = len(adata_microglia.obs[adata_microglia.obs['sample'] == all_samples[7]]) > 2\n",
    "    i = len(adata_microglia.obs[adata_microglia.obs['sample'] == all_samples[8]]) > 2\n",
    "    j = len(adata_microglia.obs[adata_microglia.obs['sample'] == all_samples[9]]) > 2\n",
    "    k = len(adata_microglia.obs[adata_microglia.obs['sample'] == all_samples[10]]) > 2\n",
    "    l = len(adata_microglia.obs[adata_microglia.obs['sample'] == all_samples[11]]) > 2\n",
    "\n",
    "    if not(a & b & c & d & e & f & g & h & i & j & k ):\n",
    "        all_copy = np.delete(all_copy, np.where(all_copy == item_))        \n",
    "\n",
    "all_celltype = all_copy"
   ]
  },
  {
   "cell_type": "code",
   "execution_count": null,
   "id": "265c2f38",
   "metadata": {},
   "outputs": [],
   "source": [
    "sc.pp.normalize_total(adata2, inplace=True)\n",
    "sc.pp.log1p(adata2)"
   ]
  },
  {
   "cell_type": "code",
   "execution_count": null,
   "id": "77be27a3",
   "metadata": {},
   "outputs": [],
   "source": [
    "region_to_ext = 'MH Glut'\n",
    "\n",
    "adata_subset_region = adata_subset[adata_subset.obs['region']==region_to_ext]\n",
    "\n",
    "all_celltype = np.array(adata_subset_region.obs['cell_type_final'].unique())\n",
    "\n",
    "### Remove celltype not present in all group ---- to run until stops returning error\n",
    "for i in range(0, len(all_celltype)):\n",
    "    adata_microglia = adata2[adata2.obs['cell_type_final'] == all_celltype[i]]\n",
    "    if ((len(adata_microglia.obs[adata_microglia.obs['Genotype'] == 'WT']) > 1) & (len(adata_microglia.obs[adata_microglia.obs['Genotype'] == 'APP']) > 1)):\n",
    "        print('a')\n",
    "    else:\n",
    "        all_celltype = np.delete(all_celltype, [i])"
   ]
  },
  {
   "cell_type": "code",
   "execution_count": null,
   "id": "3b7db7b1",
   "metadata": {},
   "outputs": [],
   "source": [
    "all_celltype = np.delete(all_celltype, np.where(all_celltype == 'AD Glut'))\n",
    "all_celltype"
   ]
  },
  {
   "cell_type": "code",
   "execution_count": null,
   "id": "9da21212",
   "metadata": {},
   "outputs": [],
   "source": [
    "adata2.obs[adata2.obs['cell_type_final'] == \"AD Glut\"]['sample'].unique()\n"
   ]
  },
  {
   "cell_type": "code",
   "execution_count": null,
   "id": "69731820-3267-4ef5-aec4-15fb9a0acf6a",
   "metadata": {},
   "outputs": [],
   "source": [
    "dfs = []\n",
    "\n",
    "a_ = 0\n",
    "strerhyt = '-'\n",
    "strenbis = ' '\n",
    "\n",
    "for cell_type_to_extract in all_celltype:\n",
    "    adata_microglia = adata2[adata2.obs['cell_type_final'] == cell_type_to_extract]\n",
    "    \n",
    "    ### Extract gene expression per cluster + log fold change + p-value\n",
    "    cluster_to_use = 'Genotype'\n",
    "    clust_uniq = adata2.obs[cluster_to_use].unique()\n",
    "    dat = pd.DataFrame()\n",
    "\n",
    "    if (len(adata_microglia[adata_microglia.obs[cluster_to_use] == clust_uniq[0]]) < 2) or (len(adata_microglia[adata_microglia.obs[cluster_to_use] == clust_uniq[1]]) < 2):\n",
    "        dat['nothing'] = ['to see here']\n",
    "        dfs.append(dat)\n",
    "        a_ +=1\n",
    "        print(f'[{a_ * strerhyt}{(len(all_celltype) - a_)*strenbis}] Cluster {a_} / {len(all_celltype)}')\n",
    "        continue\n",
    "\n",
    "    adata_microglia.obs[cluster_to_use] = adata_microglia.obs[cluster_to_use].astype(str)\n",
    "    #sc.tl.dendrogram(adata, groupby = 'L04_newnum_subclassname')\n",
    "    sc.tl.rank_genes_groups(adata_microglia, groupby=cluster_to_use, method=\"wilcoxon\", tie_correct = True, pts = True)\n",
    "    \n",
    "    # sc.pl.rank_genes_groups_dotplot(adata_microglia, groupby=cluster_to_use, standard_scale=\"var\", n_genes=5)\n",
    "    \n",
    "    for i in adata2.obs[cluster_to_use].unique():\n",
    "        # print(f\"Cluster {cell_type_to_extract}_{i}\")\n",
    "        dat1 = sc.get.rank_genes_groups_df(adata_microglia, group=i)\n",
    "        dat1['group'] = i\n",
    "        dat = pd.concat([dat, dat1])\n",
    "\n",
    "    dat = dat[ ### Choose filters here\n",
    "    (dat['pct_nz_group'] > 0.15) & #Percentage of cell expressing the gene\n",
    "    (dat['pvals_adj']<= 0.05) & # adjusted p-value\n",
    "    (abs(dat['logfoldchanges']) > 0.26) # logfoldchange\n",
    "    ]\n",
    "    a_ +=1\n",
    "    print(f'[{a_ * strerhyt}{(len(all_celltype) - a_)*strenbis}] Cluster {a_} / {len(all_celltype)}')\n",
    "\n",
    "    dfs.append(dat)\n",
    "else:\n",
    "    print('Extraction done')\n",
    "\n",
    "\n",
    "### Extract normalized expression and clusters for individual cells\n",
    "# if not os.path.exists(f\"{dir_notebook}/csv/{name_dir}/foldchange\"):\n",
    "#    os.makedirs(f\"{dir_notebook}/csv/{name_dir}/foldchange\")\n",
    "# dat.to_csv(f\"{dir_notebook}/csv/{name_dir}/foldchange/{name_dir}_clusters_foldchange_{cell_type_to_extract}.csv\")"
   ]
  },
  {
   "cell_type": "code",
   "execution_count": null,
   "id": "52edbb05-2f75-4351-9424-c8c67066a9c2",
   "metadata": {},
   "outputs": [],
   "source": [
    "import xlsxwriter\n",
    "writer = pd.ExcelWriter(f'csv/{name_dir}/all_celltypes_df_comb_bis.xlsx', engine='xlsxwriter')\n",
    "for j in range(0,len(dfs)):\n",
    "    dfs[j].to_excel(writer, sheet_name=all_celltype[j], index=False)\n",
    "\n",
    "writer.close()"
   ]
  },
  {
   "cell_type": "markdown",
   "id": "96e3d049-37a3-4ac4-b30c-89af10023c2b",
   "metadata": {},
   "source": [
    "## Normalized gene counts with cell type and automap regions"
   ]
  },
  {
   "cell_type": "code",
   "execution_count": null,
   "id": "bea858eb-9f4d-42e8-899c-e9609e853808",
   "metadata": {},
   "outputs": [],
   "source": [
    "# adata = sc.read_h5ad(f\"{dir_notebook}/h5ad/{name_dir}/{name_dir}_MMC_Banksy_annotated_automap.h5ad.gz\")\n",
    "adata_norm = sc.read_h5ad(f\"{dir_notebook}/h5ad/{name_dir}/{name_dir}_MMC_norm.h5ad.gz\")\n"
   ]
  },
  {
   "cell_type": "code",
   "execution_count": null,
   "id": "cca91f42-70a3-4fd8-9f5b-a69ea84567a7",
   "metadata": {},
   "outputs": [],
   "source": [
    "len(adata_norm), len(adata)"
   ]
  },
  {
   "cell_type": "code",
   "execution_count": null,
   "id": "6f3f67b5",
   "metadata": {},
   "outputs": [],
   "source": [
    "adata.obs.sample(2)"
   ]
  },
  {
   "cell_type": "code",
   "execution_count": null,
   "id": "fdf07542",
   "metadata": {},
   "outputs": [],
   "source": [
    "df"
   ]
  },
  {
   "cell_type": "code",
   "execution_count": null,
   "id": "ffe7a035-59f1-42f1-a67e-9eaf88daf2c2",
   "metadata": {},
   "outputs": [],
   "source": [
    "# adata_norm = adata\n",
    "# df = pd.DataFrame(data=adata_norm.X.toarray(), index=adata_norm.obs_names, columns=adata_norm.var_names)\n",
    "df['cell_id'] = df.index\n",
    "\n",
    "# # # Create a dictionary to map old values to new values\n",
    "# mapping_dict_region = dict(zip(adata.obs['cell_id'], adata.obs['region_automap_name']))\n",
    "# # mapping_dict_region_manos = dict(zip(adata.obs['cell_id'], adata.obs['region_manual_name']))\n",
    "# mapping_dict_celltype = dict(zip(adata.obs['cell_id'], adata.obs['cell_type_final']))\n",
    "mapping_dict_manos = dict(zip(adata.obs['cell_id'], adata.obs['sample']))\n",
    "# mapping_dict_run = dict(zip(adata.obs['cell_id'], adata.obs['run']))\n",
    "# mapping_dict_geno = dict(zip(adata.obs['cell_id'], adata.obs['Genotype']))\n",
    "\n",
    "\n",
    "# # # Use .map() function to rename cell contents in 'col1' based on mapping dictionary\n",
    "# df['region_automap'] = df['cell_id'].map(mapping_dict_region)\n",
    "# # df['region_manual_map'] = df['cell_id'].map(mapping_dict_region_manos)\n",
    "# df['cell_type_final'] = df['cell_id'].map(mapping_dict_celltype)\n",
    "# df['run'] = df['cell_id'].map(mapping_dict_run)\n",
    "df['sample'] = df['cell_id'].map(mapping_dict_manos)\n",
    "# # df['Genotype'] = df['cell_id'].map(mapping_dict_geno)\n",
    "# df.dropna(subset=['cell_type_final'], inplace=True)"
   ]
  },
  {
   "cell_type": "code",
   "execution_count": null,
   "id": "14ba0f05",
   "metadata": {},
   "outputs": [],
   "source": [
    "mapping_dict_ZT = dict(zip(adata.obs['cell_id'], adata.obs['ZT']))\n",
    "df['ZT'] = df['cell_id'].map(mapping_dict_ZT)"
   ]
  },
  {
   "cell_type": "code",
   "execution_count": null,
   "id": "3169bab5",
   "metadata": {},
   "outputs": [],
   "source": [
    "df.sample(2)"
   ]
  },
  {
   "cell_type": "code",
   "execution_count": null,
   "id": "d34c1bf3-37dd-44f2-b9bb-c48a68a25cb9",
   "metadata": {},
   "outputs": [],
   "source": [
    "### Save all normalized count + metadata as a single file\n",
    "\n",
    "# df.to_csv(f\"{dir_notebook}/csv/{name_dir}/{name_dir}_norm_combined.csv.gz\",\n",
    "#             compression={'method': 'gzip'}\n",
    "#          )\n",
    "\n",
    "df.to_parquet(f\"{dir_notebook}/csv/{name_dir}/{name_dir}_norm_combined_regions.parquet\")"
   ]
  },
  {
   "cell_type": "code",
   "execution_count": null,
   "id": "8c8fe933",
   "metadata": {},
   "outputs": [],
   "source": [
    "### Extract normalized gene count for each samples separately (for a subset of markers genes, uncomment filter)\n",
    "from module.misc import \n",
    "\n",
    "markers_genes = ['cell_id','Arntl',\"Ciart\",\"Clock\",\"Cry1\",\"Cry2\",\"Dbp\",\"Hlf\",\n",
    "                \"Nfil3\",\"Npas2\",\"Nr1d1\",\"Per1\",\"Per2\",\"Per3\",\"Rora\",\n",
    "                \"Rorb\",\"Rorc\"]\n",
    "\n",
    "\n",
    "\n",
    "count = 0\n",
    "for sample_idd in samples_ids:\n",
    "    count += 1\n",
    "    print(f'{count}/{len(samples_ids)}')\n",
    "    df_temp = df[df['sample'] == sample_idd]\n",
    "    df_temp = df_temp.filter(markers_genes, axis=1)\n",
    "    # df['region_automap'] = df['cell_id'].map(mapping_dict_region)\n",
    "    df_temp['cell_type_final'] = df_temp['cell_id'].map(mapping_dict_celltype)\n",
    "    df_temp['sample'] = df_temp['cell_id'].map(mapping_dict_manos)\n",
    "    \n",
    "    df_temp.to_csv(f\"{dir_notebook}/csv/{name_dir}/{name_dir}_norm_combined_{sample_idd}_allgenes.csv.gz\",\n",
    "            compression={'method': 'gzip'})\n",
    "\n"
   ]
  },
  {
   "cell_type": "code",
   "execution_count": null,
   "id": "ea58de90",
   "metadata": {},
   "outputs": [],
   "source": [
    "### Extract percentage of cells expressing a set of genes in all celltypes\n",
    "\n",
    "markers_genes = ['Arntl',\"Ciart\",\"Clock\",\"Cry1\",\"Cry2\",\"Dbp\",\"Hlf\",\n",
    "                \"Nfil3\",\"Npas2\",\"Nr1d1\",\"Per1\",\"Per2\",\"Per3\",\"Rora\",\n",
    "                \"Rorb\",\"Rorc\"]\n",
    "\n",
    "all_celltype = df['cell_type_final'].unique()\n",
    "all_celltype = np.append(all_celltype, 'All')\n",
    "\n",
    "count = 0\n",
    "prct_all = pd.DataFrame([], index=markers_genes)\n",
    "\n",
    "for celltype_ in all_celltype:\n",
    "    count += 1\n",
    "    print(f'{count}/{len(all_celltype)}')\n",
    "\n",
    "    if celltype_ != 'All':\n",
    "        df_temp = df[df['cell_type_final'] == celltype_]\n",
    "        df_temp2 = df_temp.filter(markers_genes, axis=1)\n",
    "    else:\n",
    "        df_temp2 = df.filter(markers_genes, axis=1)\n",
    "\n",
    "    temp_pct = []\n",
    "    for gene_ in markers_genes:\n",
    "        abt = len(df_temp2[df_temp2[gene_] > 0]) / len(df_temp2)\n",
    "        temp_pct.append(abt)\n",
    "    \n",
    "    prct_all[celltype_]= pd.DataFrame(temp_pct, index=markers_genes)\n",
    "\n",
    "prct_all.to_csv(f'csv/{name_dir}/{name_dir}_CG_percentage.csv')"
   ]
  },
  {
   "cell_type": "code",
   "execution_count": null,
   "id": "b3623f4a",
   "metadata": {},
   "outputs": [],
   "source": [
    "all_region"
   ]
  },
  {
   "cell_type": "code",
   "execution_count": null,
   "id": "68763fcd",
   "metadata": {},
   "outputs": [],
   "source": [
    "### Extract percentage of cells expressing a set of genes in all regions\n",
    "\n",
    "markers_genes = ['Arntl',\"Ciart\",\"Clock\",\"Cry1\",\"Cry2\",\"Dbp\",\"Hlf\",\n",
    "                \"Nfil3\",\"Npas2\",\"Nr1d1\",\"Per1\",\"Per2\",\"Per3\",\"Rora\",\n",
    "                \"Rorb\",\"Rorc\"]\n",
    "\n",
    "all_region = df['region_automap'].unique()\n",
    "all_region = np.append(all_region, 'All')\n",
    "\n",
    "count = 0\n",
    "prct_all = pd.DataFrame([], index=markers_genes)\n",
    "\n",
    "for celltype_ in all_region:\n",
    "    count += 1\n",
    "    print(f'{count}/{len(all_region)}')\n",
    "\n",
    "    if celltype_ != 'All':\n",
    "        df_temp = df[df['region_automap'] == celltype_]\n",
    "        df_temp2 = df_temp.filter(markers_genes, axis=1)\n",
    "    else:\n",
    "        df_temp2 = df.filter(markers_genes, axis=1)\n",
    "\n",
    "    temp_pct = []\n",
    "    for gene_ in markers_genes:\n",
    "        if len(df_temp2) !=0:\n",
    "            abt = len(df_temp2[df_temp2[gene_] > 0]) / len(df_temp2)\n",
    "        else:\n",
    "            abt = 0\n",
    "        temp_pct.append(abt)\n",
    "    \n",
    "    prct_all[celltype_]= pd.DataFrame(temp_pct, index=markers_genes)\n",
    "\n",
    "prct_all.to_csv(f'csv/{name_dir}/{name_dir}_CG_regions_percentage.csv')"
   ]
  },
  {
   "cell_type": "code",
   "execution_count": null,
   "id": "8f346eb4",
   "metadata": {},
   "outputs": [],
   "source": [
    "celltype_ = adata.obs['cell_type_final'].unique()\n",
    "# celltype_ = adata.obs['cell_type_final'].unique()[0:1]\n",
    "gene_dfs = []\n",
    "# df2 = df\n",
    "# marker_genes = adata_norm.var.index\n",
    "marker_genes = ['Arntl',\"Ciart\",\"Clock\",\"Cry1\",\"Cry2\",\"Dbp\",\"Hlf\",\n",
    "                \"Nfil3\",\"Npas2\",\"Nr1d1\",\"Per1\",\"Per2\",\"Per3\",\"Rora\",\n",
    "                \"Rorb\",\"Rorc\"]\n",
    "genes_df = pd.DataFrame()\n",
    "sample_list = pd.DataFrame(adata.obs['ZT'].unique())\n",
    "\n",
    "for celltype in celltype_:\n",
    "    df2 = df[df['cell_type_final'] == celltype]\n",
    "    genes_df = pd.DataFrame()\n",
    "    for gene_ in marker_genes:\n",
    "        temp = df2.groupby('ZT')[gene_].mean()\n",
    "        temp_df = pd.DataFrame(temp)\n",
    "        genes_df = pd.concat([genes_df, temp_df], axis = 1)\n",
    "    gene_dfs.append(genes_df)\n",
    "\n",
    "\n",
    "import xlsxwriter\n",
    "writer = pd.ExcelWriter(f'{dir_notebook}/csv/{name_dir}/{name_dir}_gene_dfs.xlsx', engine='xlsxwriter')\n",
    "for j in range(0,len(gene_dfs)):\n",
    "    gene_dfs[j].to_excel(writer, sheet_name=celltype_[j], index=False)\n",
    "\n",
    "writer.close()"
   ]
  },
  {
   "cell_type": "code",
   "execution_count": null,
   "id": "3813788c",
   "metadata": {},
   "outputs": [],
   "source": [
    "import xlsxwriter\n",
    "\n",
    "runs_ = df['run'].unique()\n",
    "# celltype_ = adata.obs['cell_type_final'].unique()\n",
    "# celltype_ = adata.obs['cell_type_final'].unique()[0:1]\n",
    "gene_dfs = []\n",
    "# df2 = df\n",
    "# marker_genes = adata_norm.var.index\n",
    "marker_genes = ['Arntl',\"Ciart\",\"Clock\",\"Cry1\",\"Cry2\",\"Dbp\",\"Hlf\",\n",
    "                \"Nfil3\",\"Npas2\",\"Nr1d1\",\"Per1\",\"Per2\",\"Per3\",\"Rora\",\n",
    "                \"Rorb\",\"Rorc\"]\n",
    "genes_df = pd.DataFrame()\n",
    "sample_list = pd.DataFrame(adata.obs['ZT'].unique())\n",
    "\n",
    "for run in runs_:\n",
    "    genes_df = pd.DataFrame()\n",
    "    df3 = df[df['run'] == run]\n",
    "    celltype_ = df3['cell_type_final'].unique()\n",
    "    for celltype in celltype_:\n",
    "        df2 = df3[df3['cell_type_final'] == celltype]\n",
    "        genes_df = pd.DataFrame()\n",
    "        for gene_ in marker_genes:\n",
    "            temp = df2.groupby('ZT')[gene_].mean()\n",
    "            temp_df = pd.DataFrame(temp)\n",
    "            genes_df = pd.concat([genes_df, temp_df], axis = 1)\n",
    "        gene_dfs.append(genes_df)\n",
    "\n",
    "\n",
    "    writer = pd.ExcelWriter(f'data/{name_dir}_gene_dfs_{run}.xlsx', engine='xlsxwriter')\n",
    "    for j in range(0, len(celltype_)):\n",
    "        # print(j)\n",
    "        gene_dfs[j].to_excel(writer, sheet_name=celltype_[j], index=True)\n",
    "\n",
    "    writer.close()"
   ]
  },
  {
   "cell_type": "code",
   "execution_count": null,
   "id": "8a5a8b8d",
   "metadata": {},
   "outputs": [],
   "source": [
    "plt.plot(gene_dfs[9]['Per2'])"
   ]
  },
  {
   "cell_type": "code",
   "execution_count": null,
   "id": "0dd5b296",
   "metadata": {},
   "outputs": [],
   "source": [
    "import numpy as np\n",
    "\n",
    "from scipy.interpolate import make_interp_spline\n",
    "import matplotlib.pyplot as plt \n",
    "\n",
    "x = np.array([1, 5, 9, 13, 17, 21])\n",
    "y = np.array(gene_dfs[9]['Per2'])\n",
    "\n",
    "X_Y_Spline = make_interp_spline(x, y)\n",
    "\n",
    "# Returns evenly spaced numbers\n",
    "# over a specified interval.\n",
    "X_ = np.linspace(x.min(), x.max(), 50)\n",
    "Y_ = X_Y_Spline(X_)\n",
    "\n",
    "\n",
    "plt.plot(X_, Y_)\n",
    "plt.xlabel(\"ZT\")\n",
    "plt.ylabel('Average expression (log2)')\n",
    "# plt.ylim((0,Y_.max()+))\n",
    "plt.title(\"Per2 expression in SCN neurons\")\n",
    "plt.show()"
   ]
  },
  {
   "cell_type": "code",
   "execution_count": null,
   "id": "2851d7e7",
   "metadata": {},
   "outputs": [],
   "source": [
    "df.groupby('ZT')['Per1'].mean()"
   ]
  },
  {
   "cell_type": "code",
   "execution_count": null,
   "id": "6485d2f2-f3dc-416b-86d6-8dd98b566da1",
   "metadata": {},
   "outputs": [],
   "source": [
    "gene_ = 'Gfap'\n",
    "\n",
    "y1 = df[df['Genotype'] == 'WT'][gene_].sort_values()#.cumsum()\n",
    "y3 = y1[y1>0]\n",
    "x1 = range(0,len(y1))\n",
    "x3 = range(0,len(y3))\n",
    "y2 = df[df['Genotype'] == 'APP'][gene_].sort_values()#.cumsum()\n",
    "y4 = y2[y2>0]\n",
    "x2 = range(0,len(y2))\n",
    "x4 = range(0,len(y4))\n",
    "plt.scatter(x1, y1,c='blue')\n",
    "plt.scatter(x2,y2,c='red')\n",
    "plt.scatter(x4,y4,c='red')\n",
    "#plt.title(gene_)\n",
    "plt.ylabel('')\n",
    "plt.xlabel('# cells')\n",
    "# plt.xscale()\n",
    "# plt.yscale(\"log\")\n",
    "\n",
    "plt.show()"
   ]
  },
  {
   "cell_type": "code",
   "execution_count": null,
   "id": "90f6a129",
   "metadata": {},
   "outputs": [],
   "source": [
    "\n",
    "# sns.histplot(y1, stat = 'percent', label = 'WT', kde=True, color = 'blue')\n",
    "sns.histplot(y3, stat = 'percent',  kde=True, color = 'darkblue')\n",
    "sns.histplot(y4, stat = 'percent',  kde=True, color = 'darkred')\n",
    "# sns.histplot(y2, stat = 'percent', label = 'APP', kde=True, color = 'red')\n",
    "plt.xlim(0.05,)\n",
    "plt.ylim(0,5)\n",
    "plt.title = gene_"
   ]
  },
  {
   "cell_type": "code",
   "execution_count": null,
   "id": "7f7ab5f2",
   "metadata": {},
   "outputs": [],
   "source": [
    "import numpy as np\n",
    "import matplotlib.pyplot as plt\n",
    "\n",
    "# Example: Assume x and y are the data points\n",
    "x = x3\n",
    "y = y3\n",
    "\n",
    "# Fit a smooth polynomial (e.g., degree 5)\n",
    "coeffs = np.polyfit(x, y, deg=3)\n",
    "smooth_function = np.poly1d(coeffs)\n",
    "\n",
    "# Compute derivatives\n",
    "first_derivative = np.polyder(smooth_function)\n",
    "second_derivative = np.polyder(first_derivative)\n",
    "\n",
    "# Find stationary points (where first derivative is zero)\n",
    "x_vals = np.linspace(min(x), max(x), len(x3))\n",
    "first_derivative_values = first_derivative(x_vals)\n",
    "\n",
    "# x_vals_sec = np.linspace(min(x), max(x), len(x3))\n",
    "# sec_derivative_values = second_derivative(x_vals_sec)\n",
    "\n",
    "\n",
    "# # Identify points where first derivative is approximately zero\n",
    "# stationary_points = x_vals_sec[np.isclose(sec_derivative_values, 0, atol=1e-5)]\n",
    "\n",
    "# Identify points where first derivative is approximately zero\n",
    "stationary_points = x_vals_sec[np.isclose(first_derivative_values, 0, atol=1e-5)]\n",
    "\n",
    "# Classify stationary points using the second derivative\n",
    "stationary_types = []\n",
    "for point in stationary_points:\n",
    "    second_derivative_value = second_derivative(point)\n",
    "    if second_derivative_value > 0:\n",
    "        stationary_types.append(\"Minimum\")\n",
    "    elif second_derivative_value < 0:\n",
    "        stationary_types.append(\"Maximum\")\n",
    "    else:\n",
    "        stationary_types.append(\"Saddle Point\")\n",
    "\n",
    "# Plot the results\n",
    "plt.plot(x, y, label=\"Original Curve\")\n",
    "plt.scatter(stationary_points, smooth_function(stationary_points), color='red', label=\"Stationary Points\")\n",
    "plt.legend()\n",
    "plt.show()\n",
    "\n",
    "# Print the stationary points and their classification\n",
    "# for i, point in enumerate(stationary_points):\n",
    "#     print(f\"Stationary Point at x = {point:.2f}: {stationary_types[i]}\")"
   ]
  },
  {
   "cell_type": "code",
   "execution_count": null,
   "id": "5147b3d2",
   "metadata": {},
   "outputs": [],
   "source": [
    "# plt.scatter(x = range(len(first_derivative_values)), y=first_derivative_values)\n",
    "plt.scatter(x = range(len(sec_derivative_values)), y=sec_derivative_values)"
   ]
  },
  {
   "cell_type": "code",
   "execution_count": null,
   "id": "8d496e58",
   "metadata": {},
   "outputs": [],
   "source": [
    "plt.scatter(x=x3, y=y3)"
   ]
  },
  {
   "cell_type": "code",
   "execution_count": null,
   "id": "ca338072",
   "metadata": {},
   "outputs": [],
   "source": [
    "xdata=x3\n",
    "ydata=y3\n",
    "\n",
    "def func(x, a, b, c):\n",
    "\n",
    "    return a * np.exp(b * x) + c\n",
    "\n",
    "popt, pcov = curve_fit(func, xdata, ydata)\n",
    "\n",
    "plt.scatter(x=x3,y=y3)\n",
    "plt.plot(xdata, func(xdata, *popt), 'r-',)"
   ]
  },
  {
   "cell_type": "markdown",
   "id": "ae48a22d-45c1-4465-9ca0-9efb8d894d58",
   "metadata": {},
   "source": [
    "## Extract score, FC, p-value for each genes, compared to other clusters"
   ]
  },
  {
   "cell_type": "code",
   "execution_count": null,
   "id": "53459f90-6dd1-4ff1-8534-26e9cbf5e011",
   "metadata": {
    "scrolled": true
   },
   "outputs": [],
   "source": [
    "### Extract gene expression per cluster + log fold change + p-value\n",
    "\n",
    "cluster_to_use = 'sample'\n",
    "\n",
    "adata2.obs[cluster_to_use] = adata2.obs[cluster_to_use].astype(str)\n",
    "#sc.tl.dendrogram(adata, groupby = 'L04_newnum_subclassname')\n",
    "sc.tl.rank_genes_groups(adata2, groupby=cluster_to_use, method=\"wilcoxon\", tie_correct = True)\n",
    "\n",
    "# sc.pl.rank_genes_groups_dotplot(adata2, groupby=cluster_to_use, standard_scale=\"var\", n_genes=5)\n",
    "\n",
    "dat = pd.DataFrame()\n",
    "for i in adata2.obs[cluster_to_use].unique():\n",
    "    print(f\"Cluster {i}\")\n",
    "    dat1 = sc.get.rank_genes_groups_df(adata2, group=str(i))\n",
    "    dat1['group'] = i\n",
    "    dat = pd.concat([dat, dat1])\n",
    "\n",
    "### Extract not-normalized expression and clusters for individual cells\n",
    "if not os.path.exists(f\"{dir_notebook}/csv/{name_dir}/\"):\n",
    "   os.makedirs(f\"{dir_notebook}/csv/{name_dir}/\")\n",
    "dat.to_csv(f\"{dir_notebook}/csv/{name_dir}/{name_dir}_clusters_foldchange_allbrain.csv\")"
   ]
  },
  {
   "cell_type": "markdown",
   "id": "e71c96cd-212f-4bc6-9bb3-9a3e552f5c07",
   "metadata": {},
   "source": [
    "# Test zone"
   ]
  },
  {
   "cell_type": "markdown",
   "id": "14684818-818a-4334-ba5c-f58f06ec8fb2",
   "metadata": {},
   "source": [
    "## Outliers and highly variable genes detection"
   ]
  },
  {
   "cell_type": "markdown",
   "id": "3886a65f-61b3-4d2a-9ce3-ab375eb79771",
   "metadata": {
    "jp-MarkdownHeadingCollapsed": true
   },
   "source": [
    "### Outliers"
   ]
  },
  {
   "cell_type": "code",
   "execution_count": null,
   "id": "306bad63-56a1-46eb-9c05-abc3b45e5ce9",
   "metadata": {},
   "outputs": [],
   "source": [
    "# from scipy.stats import median_abs_deviation\n",
    "\n",
    "# def is_outlier(adata, metric: str, nmads: int):\n",
    "#     M = adata.obs[metric]\n",
    "#     outlier = (M < np.median(M) - nmads * median_abs_deviation(M)) | (\n",
    "#         M > np.median(M) + nmads * median_abs_deviation(M)\n",
    "#     )\n",
    "#     return outlier"
   ]
  },
  {
   "cell_type": "code",
   "execution_count": null,
   "id": "0407c74f-7a13-41fc-b7b0-89bf01f29c37",
   "metadata": {},
   "outputs": [],
   "source": [
    "# np.median(adata.obs[\"log1p_total_counts\"]) - 5 * median_abs_deviation(adata.obs[\"log1p_total_counts\"])"
   ]
  },
  {
   "cell_type": "code",
   "execution_count": null,
   "id": "852cdb47-df88-4834-8844-adf895a8dbb1",
   "metadata": {},
   "outputs": [],
   "source": [
    "# np.median(adata.obs[\"log1p_n_genes_by_counts\"]) - 5 * median_abs_deviation(adata.obs[\"log1p_n_genes_by_counts\"])"
   ]
  },
  {
   "cell_type": "code",
   "execution_count": null,
   "id": "50f66e35-7921-4e9d-8ec5-2bf1f49a035e",
   "metadata": {},
   "outputs": [],
   "source": [
    "# adata.obs[\"outlier\"] = (\n",
    "#     is_outlier(adata, \"log1p_total_counts\", 5)\n",
    "#     | is_outlier(adata, \"log1p_n_genes_by_counts\", 5)\n",
    "#     | is_outlier(adata, \"pct_counts_in_top_20_genes\", 5)\n",
    "# )"
   ]
  },
  {
   "cell_type": "code",
   "execution_count": null,
   "id": "664e3670-c45d-4652-b0c8-cb8923c3ec8a",
   "metadata": {},
   "outputs": [],
   "source": [
    "# adata.obs[adata.obs['outlier'] == True][['log1p_total_counts',\"log1p_n_genes_by_counts\",\"pct_counts_in_top_20_genes\",'outlier']].sample(12)"
   ]
  },
  {
   "cell_type": "code",
   "execution_count": null,
   "id": "a5648889-7f75-4bd0-9f5c-733d4def5c56",
   "metadata": {},
   "outputs": [],
   "source": [
    "# pd.set_option(\"display.max_row\", None)\n",
    "# adata.obs[adata.obs['outlier'] == True].groupby('mmc:subclass_name')['cell_id'].nunique()"
   ]
  },
  {
   "cell_type": "code",
   "execution_count": null,
   "id": "6dae1164-6af3-493c-b8dd-e1a44d23681f",
   "metadata": {},
   "outputs": [],
   "source": [
    "# adata.obs[adata.obs['outlier'] == True].shape"
   ]
  },
  {
   "cell_type": "code",
   "execution_count": null,
   "id": "f1d755f7-f72a-4343-99f3-3600c956fadc",
   "metadata": {},
   "outputs": [],
   "source": [
    "# adata.obs[adata.obs['mmc:subclass_name'] == \"334 Microglia NN\"]['cell_id'].nunique()"
   ]
  },
  {
   "cell_type": "markdown",
   "id": "a835fa72-aa40-467a-8d27-e8ca4d9b5442",
   "metadata": {},
   "source": [
    "### Highly variable genes"
   ]
  },
  {
   "cell_type": "code",
   "execution_count": null,
   "id": "df23727c-74e1-4b69-bd32-d2f0bc58d78e",
   "metadata": {},
   "outputs": [],
   "source": [
    "# sc.pp.highly_variable_genes(adata)"
   ]
  },
  {
   "cell_type": "code",
   "execution_count": null,
   "id": "2da6d0a3-47fc-4be6-88ce-0b038dc5c2c4",
   "metadata": {},
   "outputs": [],
   "source": [
    "# adata.var[adata.var['highly_variable']==True]."
   ]
  },
  {
   "cell_type": "markdown",
   "id": "5a246ef5-d4c0-4629-b2e4-e2162eafbd9d",
   "metadata": {},
   "source": [
    "## Match cells with manually drawn regions (cell id)"
   ]
  },
  {
   "cell_type": "code",
   "execution_count": null,
   "id": "b97fae91-221d-4fbb-bb64-1de36c6f8af8",
   "metadata": {},
   "outputs": [],
   "source": [
    "adata = sc.read_h5ad(f\"{dir_notebook}/h5ad/{name_dir}/{name_dir}_MMC_Banksy_annotated_automap.h5ad.gz\")"
   ]
  },
  {
   "cell_type": "code",
   "execution_count": null,
   "id": "58b7483c-9a5b-4628-b949-2b9b3f811f74",
   "metadata": {},
   "outputs": [],
   "source": [
    "hipp_df = pd.read_csv(f'{dir_notebook}/coordinates/Hipp_run3.csv')"
   ]
  },
  {
   "cell_type": "code",
   "execution_count": null,
   "id": "7dbc3b08-61dc-4555-bf75-a00ff6d8b17e",
   "metadata": {},
   "outputs": [],
   "source": [
    "hipp_df.head(2)"
   ]
  },
  {
   "cell_type": "code",
   "execution_count": null,
   "id": "17df8c8b-4794-4cd1-b8f6-23983ac0db50",
   "metadata": {},
   "outputs": [],
   "source": [
    "# Create a dictionary to map old values to new values\n",
    "mapping_dict = dict(zip(hipp_df['cell_id'], hipp_df['region']))\n",
    "\n",
    "# Use .map() function to rename cell contents in 'col1' based on mapping dictionary\n",
    "adata.obs['region_manos'] = adata.obs['cell_id'].apply(lambda x: mapping_dict[x] if x in mapping_dict else np.nan)"
   ]
  },
  {
   "cell_type": "code",
   "execution_count": null,
   "id": "11362be7-ea72-4b75-b309-7774b9910274",
   "metadata": {},
   "outputs": [],
   "source": [
    "adata.obs.loc[\n",
    "    (adata.obs['region_manos'] == 'Hipp_manos') &\n",
    "    (adata.obs['region_automap_name'] == 'HIPP'), 'test'] = \"_granular\"\n",
    "adata.obs.loc[\n",
    "    (adata.obs['region_manos'] == 'Hipp_manos') &\n",
    "    (adata.obs['region_automap_name'].isnull()), 'test'] = \"_molecular\"\n",
    "adata.obs.loc[\n",
    "    (adata.obs['region_manos'].isnull()) &\n",
    "    (adata.obs['region_automap_name'] == 'HIPP'), 'test'] = \"_granular\""
   ]
  },
  {
   "cell_type": "code",
   "execution_count": null,
   "id": "a79b8083-d7da-41ca-b12c-af99a6350834",
   "metadata": {
    "scrolled": true
   },
   "outputs": [],
   "source": [
    "adata.obs.sample(50)"
   ]
  },
  {
   "cell_type": "code",
   "execution_count": null,
   "id": "afce0309-e374-4708-a47b-1362822db172",
   "metadata": {},
   "outputs": [],
   "source": [
    "# Create a dictionary to map old values to new values\n",
    "mapping_dict = dict(zip(adata.obs[adata.obs['test'] != \"0\"]['cell_id'], adata.obs[adata.obs['test'] != \"0\"]['test']))\n",
    "\n",
    "# Use .map() function to rename cell contents in 'col1' based on mapping dictionary\n",
    "adata.obs[adata.obs['test'].notnull()]['region_automap_name'] = adata.obs['cell_id'].apply(lambda x: mapping_dict[x] if x in mapping_dict else x)"
   ]
  },
  {
   "cell_type": "code",
   "execution_count": null,
   "id": "c0a9ee02-2f48-4b5e-8d7f-c531791226a5",
   "metadata": {},
   "outputs": [],
   "source": [
    "all_region_type = adata.obs['region_automap_name'].unique()\n",
    "list_region_nb = range(0, len(all_region_type))\n",
    "mapping_dict = dict(zip(all_region_type,list_region_nb))\n",
    "adata.obs['region_newnum'] = adata.obs['region_automap_name'].map(mapping_dict)\n",
    "# mapping_dict"
   ]
  },
  {
   "cell_type": "code",
   "execution_count": null,
   "id": "88af7fcd-4994-441f-be24-1faae29f1d16",
   "metadata": {},
   "outputs": [],
   "source": [
    "adata.write(f\"{dir_notebook}/h5ad/{name_dir}/{name_dir}_MMC_Banksy_annotated_automap.h5ad.gz\", compression = 'gzip')"
   ]
  },
  {
   "cell_type": "markdown",
   "id": "c02a8d03-339f-4ace-82a8-6db93ee45580",
   "metadata": {},
   "source": [
    "## Plaques"
   ]
  },
  {
   "cell_type": "markdown",
   "id": "8ee2d1f7-c41f-4ae3-8b11-52f240575faf",
   "metadata": {},
   "source": [
    "See Untitled.ipynd (temporary name, hopefully)"
   ]
  },
  {
   "cell_type": "code",
   "execution_count": null,
   "id": "702815aa-92b9-4f8b-857e-3928f36640eb",
   "metadata": {},
   "outputs": [],
   "source": [
    "# adata = sc.read_h5ad(f\"{dir_notebook}/h5ad/run1-resegment/run1-resegment_MMC_Banksy_annotated_automap.h5ad.gz\")\n",
    "# adata2 = sc.read_h5ad(f\"{dir_notebook}/h5ad/run3-Habenula/run3-Habenula_MMC_Banksy_annotated_automap.h5ad.gz\")\n",
    "# adata3 = sc.read_h5ad(f\"{dir_notebook}/h5ad/run3-LGN/run3-LGN_MMC_Banksy_annotated_automap.h5ad.gz\")\n",
    "# adata4 = sc.read_h5ad(f\"{dir_notebook}/h5ad/run3-SC/run3-SC_MMC_Banksy_annotated_automap.h5ad.gz\")"
   ]
  },
  {
   "cell_type": "code",
   "execution_count": null,
   "id": "84db1b8f-0656-4ee8-b283-c8f23f62eff6",
   "metadata": {},
   "outputs": [],
   "source": [
    "adata"
   ]
  },
  {
   "cell_type": "code",
   "execution_count": null,
   "id": "a5773c40-5397-4088-9a41-af77398095b0",
   "metadata": {},
   "outputs": [],
   "source": [
    "adata.obs.rename({\"n_couts\":'total_counts',})"
   ]
  },
  {
   "cell_type": "code",
   "execution_count": null,
   "id": "aefb7a8a-4cea-4c07-ab4e-aeda57fb4dd7",
   "metadata": {},
   "outputs": [],
   "source": [
    "adata.obs = adata.obs.filter(['cell_id','total_counts','n_genes','cell_area', ], axis=1)\n",
    "adata2.obs = adata2.obs.filter(['cell_id','total_counts','n_genes','cell_area'], axis=1)\n",
    "adata3.obs = adata3.obs.filter(['cell_id','total_counts','n_genes','cell_area'], axis=1)\n",
    "adata4.obs = adata4.obs.filter(['cell_id','total_counts','n_genes','cell_area'], axis=1)"
   ]
  },
  {
   "cell_type": "code",
   "execution_count": null,
   "id": "3c949474-08da-49e6-bbb4-91156e1e5906",
   "metadata": {},
   "outputs": [],
   "source": [
    "adatas = adata.concatenate(adata2, adata3, adata4)"
   ]
  },
  {
   "cell_type": "code",
   "execution_count": null,
   "id": "8cd5398c-9cee-49c3-9a5d-73da06a12283",
   "metadata": {},
   "outputs": [],
   "source": [
    "adatas"
   ]
  },
  {
   "cell_type": "code",
   "execution_count": null,
   "id": "34418dcb-61fb-4671-b4be-26e3608d19e9",
   "metadata": {},
   "outputs": [],
   "source": [
    "fig, axs = plt.subplots(1, 3, figsize=(15, 3))\n",
    "plt.subplots_adjust(wspace=0.3)\n",
    "\n",
    "axs[0].set_title(\"Total transcripts per cell\")\n",
    "sns.histplot(adata.obs[\"total_counts\"],kde=False,ax=axs[0], stat = \"count\")\n",
    "\n",
    "axs[1].set_title(\"Unique transcripts per cell\")\n",
    "sns.histplot(adata.obs[\"n_genes\"],kde=False,ax=axs[1])\n",
    "\n",
    "axs[2].set_title(\"Area of segmented cells\")\n",
    "sns.histplot(adata.obs[\"cell_area\"], kde=False, ax=axs[2])\n",
    "\n",
    "# axs[3].set_title(\"Nucleus ratio\")\n",
    "# sns.histplot(adata.obs[\"nucleus_area\"] / adata.obs[\"cell_area\"], kde=False,ax=axs[3])\n",
    "\n",
    "# if not os.path.exists(f\"{dir_notebook}/plot/{name_dir}/\"):\n",
    "#    os.makedirs(f\"{dir_notebook}/plot/{name_dir}/\")\n",
    "plt.savefig(f\"alldata_quality-metrics.svg\")"
   ]
  },
  {
   "cell_type": "code",
   "execution_count": null,
   "id": "db2791a0-378c-47d0-90ae-bbb7c9ac3956",
   "metadata": {},
   "outputs": [],
   "source": [
    "adatas.obs['cell_area'].median(),adatas.obs['cell_area'].mean(),adatas.obs['cell_area'].min(),adatas.obs['cell_area'].max()"
   ]
  },
  {
   "cell_type": "code",
   "execution_count": null,
   "id": "7058637d-ee12-4ab4-b74a-08a2eebb2c70",
   "metadata": {},
   "outputs": [],
   "source": [
    "adatas.obs['total_counts'].sum()"
   ]
  },
  {
   "cell_type": "code",
   "execution_count": null,
   "id": "fb077578-9daa-4c2f-9a86-4d947dbf8b22",
   "metadata": {
    "scrolled": true
   },
   "outputs": [],
   "source": [
    "adata.var"
   ]
  },
  {
   "cell_type": "code",
   "execution_count": null,
   "id": "ae2fd287-318d-4724-bd8a-c0898af991aa",
   "metadata": {},
   "outputs": [],
   "source": [
    "def celltype_heatmap(adata, colors, figsize=(8, 8)):\n",
    "    # Rank gene group based on celltype\n",
    "    sc.tl.rank_genes_groups(\n",
    "        adata,\n",
    "        groupby=\"cell type\",\n",
    "        use_raw=False,\n",
    "        method=\"wilcoxon\",\n",
    "        corr_method=\"bonferroni\",\n",
    "    )\n",
    "    \n",
    "    # Create dendrorgam\n",
    "    sc.tl.dendrogram(\n",
    "        adata,\n",
    "        groupby=\"cell type\",\n",
    "        use_raw=False,\n",
    "        cor_method=\"pearson\"\n",
    "    )\n",
    "    \n",
    "    # Run sc.pl.rank_genes_groups_heatmap once to create adata.uns[\"celltype_colors\"] object\n",
    "    sc.pl.rank_genes_groups_heatmap(\n",
    "        adata,\n",
    "        show_gene_labels=False,\n",
    "        use_raw=False,\n",
    "        show=False\n",
    "    )\n",
    "    plt.close()\n",
    "\n",
    "    # Relabel celltype colors\n",
    "    adata.uns[\"celltype_colors\"] = colors\n",
    "    \n",
    "    # Plot heatmap with dendrogram\n",
    "    sc.pl.rank_genes_groups_heatmap(\n",
    "        adata,\n",
    "        show_gene_labels=True,\n",
    "        use_raw=False,\n",
    "        cmap=\"inferno\",\n",
    "        standard_scale=\"var\",\n",
    "        figsize=figsize\n",
    "    )"
   ]
  },
  {
   "cell_type": "code",
   "execution_count": null,
   "id": "20f0d3b6-5ce7-457a-993d-2a5ac625228c",
   "metadata": {},
   "outputs": [],
   "source": [
    "celltype_heatmap(adata,adata.obs['leiden_colors'])"
   ]
  },
  {
   "cell_type": "code",
   "execution_count": null,
   "id": "a469d760-0864-4d7d-a697-53464d4880aa",
   "metadata": {},
   "outputs": [],
   "source": [
    "palette"
   ]
  },
  {
   "cell_type": "code",
   "execution_count": null,
   "id": "e2b644de-a76c-4a29-9447-649e6f734135",
   "metadata": {},
   "outputs": [],
   "source": [
    "adata.obs[adata.obs['cell type']=='SO Glut']['mmc:subclass_name']"
   ]
  },
  {
   "cell_type": "markdown",
   "id": "df80f322-2061-4eb0-aebd-ea6b0027e659",
   "metadata": {},
   "source": [
    "## Concatenate MMC and h5ad"
   ]
  },
  {
   "cell_type": "code",
   "execution_count": null,
   "id": "8839075a-0e89-4658-a0ae-7d0367121549",
   "metadata": {
    "scrolled": true
   },
   "outputs": [],
   "source": [
    "csv1 = pd.read_csv('Correlation_Mapping/nuclei_3159-2_CorrelationMapping.csv', comment = '#')\n",
    "csv2 = pd.read_csv('Correlation_Mapping/nuclei_3161-1_CorrelationMapping.csv', comment =  '#')\n",
    "# csv3 = pd.read_csv('Correlation_Mapping/run3-LGN_CorrelationMapping.csv', comment =  '#')\n",
    "# csv4 = pd.read_csv('Correlation_Mapping/run3-SC_CorrelationMapping.csv', comment =  '#')\n",
    "corr = pd.concat([csv1, csv2,\n",
    "                  #csv3, csv4\n",
    "                 ], ignore_index=True)"
   ]
  },
  {
   "cell_type": "code",
   "execution_count": null,
   "id": "9bdadfaf-c9a4-41db-ade2-7b1cb22fefc4",
   "metadata": {},
   "outputs": [],
   "source": [
    "adata = sc.read_h5ad(f\"{dir_notebook}/h5ad/run3/nuclei_3161-1_forMMC.h5ad\")\n",
    "adata.obs = adata.obs.loc[:, adata.obs.columns.intersection(['cell_id','transcript_counts','x_centroid','y_centroid','sample'])]\n",
    "adata.obs_names = [f\"3161-1_{cell_id}\" for cell_id in adata.obs_names]\n",
    "adata.obs['cell_id'] = adata.obs_names\n",
    "\n",
    "adata2 = sc.read_h5ad(f\"{dir_notebook}/h5ad/run3/nuclei_3159-2_forMMC.h5ad\")\n",
    "adata2.obs = adata2.obs.loc[:, adata2.obs.columns.intersection(['cell_id','transcript_counts','x_centroid','y_centroid','sample'])]\n",
    "adata2.obs_names = [f\"3159-2_{cell_id}\" for cell_id in adata2.obs_names]\n",
    "adata2.obs['cell_id'] = adata2.obs_names\n",
    "\n",
    "# adata3 = sc.read_h5ad(f\"{dir_notebook}/h5ad/run3-LGN/run3-LGN_forMMC.h5ad\")\n",
    "# adata3.obs = adata3.obs.loc[:, adata3.obs.columns.intersection(['cell_id','transcript_counts','x_centroid','y_centroid','sample'])]\n",
    "\n",
    "# adata4 = sc.read_h5ad(f\"{dir_notebook}/h5ad/run1-resegment/run1-resegment_forMMC.h5ad\")\n",
    "# adata4.obs['transcript_counts'] = adata4.obs['total_transcript']\n",
    "# adata4.obs = adata4.obs.loc[:, adata4.obs.columns.intersection(['cell_id','transcript_counts','x_centroid','y_centroid','sample'])]\n",
    "\n",
    "adata_all = adata.concatenate([adata2,\n",
    "                              # adata3,adata4\n",
    "                              ], index_unique=None)\n",
    "adata_all.var = adata_all.var.loc[:, adata_all.var.columns.intersection(['gene_ids','feature_types','genome'])]\n",
    "adata_all.obs.index.name = None"
   ]
  },
  {
   "cell_type": "code",
   "execution_count": null,
   "id": "f2be527c-13e8-48b4-b207-b53227ff88df",
   "metadata": {},
   "outputs": [],
   "source": [
    "# HC3_MMC = corr\n",
    "HC3_MMC = pd.read_csv('Correlation_Mapping/nuclei_run3_CorrelationMapping.csv', comment = '#')\n",
    "HC3_MMC.index = HC3_MMC['cell_id']\n",
    "HC3_MMC.index.name = None\n",
    "HC3_MMC.columns = [f\"mmc:{i}\" for i in HC3_MMC.columns]\n",
    "mmc_dict_class = dict(zip(HC3_MMC['mmc:cell_id'], HC3_MMC['mmc:class_name']))\n",
    "mmc_dict_classcoef = dict(zip(HC3_MMC['mmc:cell_id'], HC3_MMC['mmc:class_correlation_coefficient']))\n",
    "mmc_dict_subclass = dict(zip(HC3_MMC['mmc:cell_id'], HC3_MMC['mmc:subclass_name']))\n",
    "mmc_dict_supertype = dict(zip(HC3_MMC['mmc:cell_id'], HC3_MMC['mmc:supertype_name']))\n",
    "\n",
    "adata_all.obs['mmc:class_name'] = adata_all.obs['cell_id'].map(mmc_dict_class)\n",
    "adata_all.obs['mmc:class_correlation_coefficient'] = adata_all.obs['cell_id'].map(mmc_dict_classcoef)\n",
    "adata_all.obs['mmc:subclass_name'] = adata_all.obs['cell_id'].map(mmc_dict_subclass)\n",
    "adata_all.obs['mmc:supertype_name'] = adata_all.obs['cell_id'].map(mmc_dict_supertype)"
   ]
  },
  {
   "cell_type": "code",
   "execution_count": null,
   "id": "5d02842d-a834-42c1-aaa5-eb5b69af4f78",
   "metadata": {},
   "outputs": [],
   "source": [
    "adata2.obs"
   ]
  },
  {
   "cell_type": "code",
   "execution_count": null,
   "id": "cc5a9772-9d43-4242-bb18-396e9712d57e",
   "metadata": {},
   "outputs": [],
   "source": [
    "adata_all.write_h5ad(f'h5ad/run1/nuclei.h5ad.gz', compression = 'gzip')"
   ]
  },
  {
   "cell_type": "code",
   "execution_count": null,
   "id": "089e4f61-3f2c-4d48-b65b-f8da945796bc",
   "metadata": {},
   "outputs": [],
   "source": [
    "adata = adata_all"
   ]
  },
  {
   "cell_type": "code",
   "execution_count": null,
   "id": "4f239c31-7efe-459e-8eff-e7c8370f3ba1",
   "metadata": {},
   "outputs": [],
   "source": [
    "adata2.obs['cell_id'] = adata2.obs_names"
   ]
  },
  {
   "cell_type": "code",
   "execution_count": null,
   "id": "06168398-09cc-4a93-a497-7574c30b9d4c",
   "metadata": {},
   "outputs": [],
   "source": [
    "adata_all.write_h5ad(f\"{dir_notebook}/h5ad/run3/nuclei_run3_forMMC.h5ad\")"
   ]
  },
  {
   "cell_type": "code",
   "execution_count": null,
   "id": "54de9060-1fed-446e-9cf3-46e9dbe9ac72",
   "metadata": {},
   "outputs": [],
   "source": [
    "plt.scatter(adata2.obs['x_centroid'],adata2.obs['y_centroid'], s= 0.05)"
   ]
  },
  {
   "cell_type": "code",
   "execution_count": null,
   "id": "451cc223-6596-4c4f-9595-dcdbcab4cbc0",
   "metadata": {},
   "outputs": [],
   "source": [
    "HC3_MMC"
   ]
  },
  {
   "cell_type": "code",
   "execution_count": null,
   "id": "0a48e85a-63c2-463a-8b67-e83f8a3fa34d",
   "metadata": {},
   "outputs": [],
   "source": []
  },
  {
   "cell_type": "markdown",
   "id": "111d2ed5-c6d5-406b-9e7b-69e1dc11ea9c",
   "metadata": {},
   "source": [
    "# Test graphs"
   ]
  },
  {
   "cell_type": "code",
   "execution_count": null,
   "id": "4ef6a2f4-b4f3-4f0c-b41c-b698eeda2395",
   "metadata": {},
   "outputs": [],
   "source": [
    "adata.uns"
   ]
  },
  {
   "cell_type": "code",
   "execution_count": null,
   "id": "bf1a420c-e146-4ba7-a1cf-97db2a345316",
   "metadata": {},
   "outputs": [],
   "source": [
    "import squidpy as sq\n",
    "adata_s1 = adata[adata.obs['sample']=='3159-2']\n",
    "sq.pl.spatial_scatter(adata_s1,\n",
    "                     spatial_key = \"coord_xy\",\n",
    "                     color = ['Gfap'],\n",
    "                     shape = \"circle\",\n",
    "                     size=2,\n",
    "                     img = False)"
   ]
  },
  {
   "cell_type": "code",
   "execution_count": null,
   "id": "83302ef5-979f-4388-a7a8-0e6151494bf8",
   "metadata": {},
   "outputs": [],
   "source": [
    "import spatialdata as sd"
   ]
  },
  {
   "cell_type": "code",
   "execution_count": null,
   "id": "2c9a63d5-f704-4d5c-9896-b3ae9e2c7f2c",
   "metadata": {},
   "outputs": [],
   "source": [
    "adata_s1.pl.render_shapes(\"cell_circles\",color ='Gfap',)"
   ]
  },
  {
   "cell_type": "code",
   "execution_count": null,
   "id": "4ccfe97c-1fb3-4cd0-af80-ac6ef28be3a5",
   "metadata": {},
   "outputs": [],
   "source": []
  },
  {
   "cell_type": "code",
   "execution_count": null,
   "id": "0f374355-564b-45b4-9609-bf3d03d11cff",
   "metadata": {},
   "outputs": [],
   "source": []
  },
  {
   "cell_type": "code",
   "execution_count": null,
   "id": "45e180ed-1d48-4359-8a8c-ac005f371533",
   "metadata": {},
   "outputs": [],
   "source": [
    "adata.obs['nuc_mmc:subclass_name'].unique()"
   ]
  },
  {
   "cell_type": "code",
   "execution_count": null,
   "id": "bb384f5c-1c93-4fbe-931d-3d513e9731b2",
   "metadata": {},
   "outputs": [],
   "source": [
    "### Correlation map\n",
    "cont_tab = pd.crosstab(adata.obs['nuc_mmc:class_name'], adata.obs['mmc:class_name'], normalize=\"index\")\n",
    "plt.figure(figsize=(300, 15))\n",
    "sns.heatmap(cont_tab, annot=True, cmap=\"YlGnBu\", fmt=\".1f\")"
   ]
  },
  {
   "cell_type": "code",
   "execution_count": null,
   "id": "2f8e77a6-1722-4f82-8128-f6c0f3dc1fd4",
   "metadata": {},
   "outputs": [],
   "source": [
    "# Generate new numbering base on unique 'cell type'\n",
    "all_cell_type = adata.obs['nuc_mmc:class_name'].unique()\n",
    "list_cell_nb = range(0, len(all_cell_type))\n",
    "mapping_dict = dict(zip(all_cell_type,list_cell_nb))\n",
    "adata.obs['cell_type_newnum'] = adata.obs['nuc_mmc:class_name'].map(mapping_dict)\n",
    "mapping_dict"
   ]
  },
  {
   "cell_type": "code",
   "execution_count": null,
   "id": "e47bc92d-fafc-46ed-b3b7-1e9dc4f87ae2",
   "metadata": {},
   "outputs": [],
   "source": [
    "### Check clusters one by one to see if they are present in all sample and which would need subclustering\n",
    "\n",
    "cluster_to_use = 'cell_type_newnum'\n",
    "\n",
    "### Generate a color palette for the clusters - to make color stay consistent across samples\n",
    "adata.obs[cluster_to_use] = adata.obs[cluster_to_use].astype(str)\n",
    "\n",
    "# Create a palette with a unique color for each cluster\n",
    "num_clusters = len(adata.obs[cluster_to_use].astype(int).unique())\n",
    "palette = sns.color_palette(\"tab20b\", n_colors=num_clusters +1)\n",
    "\n",
    "# Map each 'leiden' value to a color\n",
    "adata.obs['leiden_colors'] = adata.obs[cluster_to_use].astype(int).apply(lambda x: palette[x])\n",
    "\n",
    "# Map all cells\n",
    "fig, axs = plt.subplots(3,2,figsize=(14, 12))\n",
    "axs = axs.flatten()\n",
    "clusters_plot = {\"19\":'black', ### For VLMC\n",
    "    # '0': 'lightcoral',\"1\": 'forestgreen', '2':'red', \"3\":'purple', \"4\":\"yellow\"\n",
    "    # '5': 'lightcoral',\"6\": 'forestgreen', 7:'red', \"8\":'purple', \"9\":\"yellow\"\n",
    "    # '10': 'lightcoral',\"11\": 'forestgreen', '12':'red', \"13\":'purple', \"15\":\"yellow\", \"14\": \"blue\"\n",
    "    # '16': 'lightcoral',\"17\": 'forestgreen', '18':'red', \"19\":'purple', \"20\":\"yellow\"\n",
    "      # '21': 'lightcoral',\"22\": 'forestgreen', '23':'red', \"\":'purple', \"\":\"yellow\",\n",
    "    # '24': 'lightcoral',\"25\": 'forestgreen', '26':'red', \"27\":'purple', \"28\":\"yellow\"\n",
    "    # '29': 'lightcoral',\"30\": 'forestgreen', '31':'red', \"32\":'purple', \"33\":\"yellow\"\n",
    "    # '34': 'lightcoral',\"35\": 'forestgreen', '36':'red', \"37\":'purple', \"38\":\"yellow\", \"39\": \"blue\"\n",
    "    # '2': 'lightcoral',\"6\": 'forestgreen', '13':'red', \"19\":'purple', \"\":\"yellow\"\n",
    "    # '35': 'lightcoral',\"20\": 'forestgreen', '':'red', \"\":'purple', \"\":\"yellow\"\n",
    "                }\n",
    "\n",
    "for idx, sample in enumerate(samples_ids):\n",
    "    adata_sel = adata[(adata.obs['sample'] == sample)]\n",
    "    for cluster_id in adata_sel.obs[cluster_to_use].unique():\n",
    "        cluster_data = adata_sel.obs[adata_sel.obs[cluster_to_use] == cluster_id]\n",
    "        colors = clusters_plot[cluster_id] if cluster_id in clusters_plot else \"none\" ### for selected clusters in cluster_plot\n",
    "        # colors= cluster_data['leiden_colors'].unique()[0] ### uncomment for all clusters\n",
    "        axs[idx].scatter(cluster_data['x_centroid'], cluster_data['y_centroid'], color=colors, s=0.25, label=cluster_id)\n",
    "        axs[idx].set_title(f\"Sample {sample}\")"
   ]
  },
  {
   "cell_type": "code",
   "execution_count": null,
   "id": "210e9b89-b73c-4d29-98e5-033d2e68163c",
   "metadata": {
    "scrolled": true
   },
   "outputs": [],
   "source": [
    "# Generate new numbering base on unique 'cell type'\n",
    "all_cell_type = adata.obs['mmc:class_name'].unique()\n",
    "list_cell_nb = range(0, len(all_cell_type))\n",
    "mapping_dict = dict(zip(all_cell_type,list_cell_nb))\n",
    "adata.obs['cell_type_newnum2'] = adata.obs['mmc:class_name'].map(mapping_dict)\n",
    "mapping_dict"
   ]
  },
  {
   "cell_type": "code",
   "execution_count": null,
   "id": "abc8b1dd-fdd8-42d6-8f9a-62d36d990f99",
   "metadata": {},
   "outputs": [],
   "source": [
    "### Check clusters one by one to see if they are present in all sample and which would need subclustering\n",
    "\n",
    "cluster_to_use = 'cell_type_newnum2'\n",
    "\n",
    "### Generate a color palette for the clusters - to make color stay consistent across samples\n",
    "adata.obs[cluster_to_use] = adata.obs[cluster_to_use].astype(str)\n",
    "\n",
    "# Create a palette with a unique color for each cluster\n",
    "num_clusters = len(adata.obs[cluster_to_use].astype(int).unique())\n",
    "palette = sns.color_palette(\"tab20b\", n_colors=num_clusters +1)\n",
    "\n",
    "# Map each 'leiden' value to a color\n",
    "adata.obs['leiden_colors'] = adata.obs[cluster_to_use].astype(int).apply(lambda x: palette[x])\n",
    "\n",
    "# Map all cells\n",
    "fig, axs = plt.subplots(3,2,figsize=(14, 12))\n",
    "axs = axs.flatten()\n",
    "clusters_plot = {\"18\":'black', ### For VLMC\n",
    "    # '0': 'lightcoral',\"1\": 'forestgreen', #'2':'red', \"3\":'purple', \"4\":\"yellow\"\n",
    "    # '5': 'lightcoral',\"6\": 'forestgreen', 7:'red', \"8\":'purple', \"9\":\"yellow\"\n",
    "    # '10': 'lightcoral',\"11\": 'forestgreen', '12':'red', \"13\":'purple', \"15\":\"yellow\", \"14\": \"blue\"\n",
    "    # '16': 'lightcoral',\"17\": 'forestgreen', '18':'red', \"19\":'purple', \"20\":\"yellow\"\n",
    "      # '21': 'lightcoral',\"22\": 'forestgreen', '23':'red', \"\":'purple', \"\":\"yellow\",\n",
    "    # '24': 'lightcoral',\"25\": 'forestgreen', '26':'red', \"27\":'purple', \"28\":\"yellow\"\n",
    "    # '29': 'lightcoral',\"30\": 'forestgreen', '31':'red', \"32\":'purple', \"33\":\"yellow\"\n",
    "    # '34': 'lightcoral',\"35\": 'forestgreen', '36':'red', \"37\":'purple', \"38\":\"yellow\", \"39\": \"blue\"\n",
    "    # '2': 'lightcoral',\"6\": 'forestgreen', '13':'red', \"19\":'purple', \"\":\"yellow\"\n",
    "    # '35': 'lightcoral',\"20\": 'forestgreen', '':'red', \"\":'purple', \"\":\"yellow\"\n",
    "                }\n",
    "\n",
    "for idx, sample in enumerate(samples_ids):\n",
    "    adata_sel = adata[(adata.obs['sample'] == sample)]\n",
    "    for cluster_id in adata_sel.obs[cluster_to_use].unique():\n",
    "        cluster_data = adata_sel.obs[adata_sel.obs[cluster_to_use] == cluster_id]\n",
    "        colors = clusters_plot[cluster_id] if cluster_id in clusters_plot else \"none\" ### for selected clusters in cluster_plot\n",
    "        # colors= cluster_data['leiden_colors'].unique()[0] ### uncomment for all clusters\n",
    "        axs[idx].scatter(cluster_data['x_centroid'], cluster_data['y_centroid'], color=colors, s=0.25, label=cluster_id)\n",
    "        axs[idx].set_title(f\"Sample {sample}\")"
   ]
  },
  {
   "cell_type": "code",
   "execution_count": null,
   "id": "5515ec19-a0ec-4091-8765-19368efaa930",
   "metadata": {},
   "outputs": [],
   "source": [
    "adata.obs.groupby('mmc:subclass_name')['mmc:subclass_name'].count().sort_values()"
   ]
  },
  {
   "cell_type": "code",
   "execution_count": null,
   "id": "e8191603-7e33-4197-af4d-998269895695",
   "metadata": {},
   "outputs": [],
   "source": [
    "adata.obs.groupby('nuc_mmc:subclass_name')['nuc_mmc:subclass_name'].count().sort_values()"
   ]
  },
  {
   "cell_type": "code",
   "execution_count": null,
   "id": "a742ae15-f8cc-42f5-8ca8-3909b2fb8c92",
   "metadata": {},
   "outputs": [],
   "source": [
    "# Obtain cluster-specific differentially expressed genes\n",
    "# cluster_to_use = 'cell_type_newnum'\n",
    "cluster_to_use = 'nuc_mmc:class_name'\n",
    "adata.obs[cluster_to_use] = adata.obs[cluster_to_use].astype(str)\n",
    "sc.tl.rank_genes_groups(adata, groupby=cluster_to_use, method=\"wilcoxon\", tie_correct = True)\n",
    "sc.pl.rank_genes_groups_dotplot(adata, groupby=cluster_to_use, standard_scale=\"var\", n_genes=2)"
   ]
  },
  {
   "cell_type": "code",
   "execution_count": null,
   "id": "4979184a",
   "metadata": {},
   "outputs": [],
   "source": [
    "adata2"
   ]
  },
  {
   "cell_type": "code",
   "execution_count": null,
   "id": "ea4a3be5",
   "metadata": {},
   "outputs": [],
   "source": [
    "test_ = 'nucleus_count'\n",
    "adata2.obs[test_].median(),adata2.obs[test_].mean(),adata2.obs[test_].min(),adata2.obs[test_].max()"
   ]
  },
  {
   "cell_type": "code",
   "execution_count": null,
   "id": "f9bef976",
   "metadata": {},
   "outputs": [],
   "source": [
    "adata.obs[adata.obs['nucleus_count'] == 4]"
   ]
  },
  {
   "cell_type": "markdown",
   "id": "ff79accf",
   "metadata": {},
   "source": [
    "# Archive def functions"
   ]
  },
  {
   "cell_type": "code",
   "execution_count": null,
   "id": "837dcb43",
   "metadata": {},
   "outputs": [],
   "source": [
    "# df['ZT'] = df['sample'].map(lambda name: name.split('-')[-1])\n",
    "plt.scatter(x=df['ZT'].unique(), y=df[df['cell_type_final'] == 'SCH Gaba'].groupby('ZT')['Dbp'].mean())\n",
    "plt.tick_params(axis = 'x', rotation = 90)"
   ]
  },
  {
   "cell_type": "code",
   "execution_count": null,
   "id": "bb8ede64",
   "metadata": {},
   "outputs": [],
   "source": [
    "### Automatic subclustering\n",
    "mapping_dict_all = dict(zip(adata.obs['cell_id'], adata.obs['cell_type_auto']))\n",
    "clusters_numbers = 'cell_type_newnum_auto'\n",
    "# clusters_numbers = 'cell_type_newnum_auto_sub'\n",
    "all_types = adata.obs[clusters_numbers].unique() ### Subcluster all clusters\n",
    "# all_types = ['20'] ### only subcluster the selected clusters (might need to be between comas (as string)) --- Comment to run all clusters\n",
    "\n",
    "for cluster_to_sub in (all_types):\n",
    "    print(f'Subclustering of cluster {cluster_to_sub} / {len(all_types)-1}')\n",
    "    adata_subcluster = adata_filter[adata_filter.obs[clusters_numbers] == cluster_to_sub]\n",
    "    sc.pp.pca(adata_subcluster)\n",
    "    sc.pp.neighbors(adata_subcluster)\n",
    "    sc.tl.umap(adata_subcluster)\n",
    "    sc.tl.leiden(adata_subcluster, resolution = 0.1)\n",
    "\n",
    "    clustering_method = 'leiden'\n",
    "    n = len(adata_subcluster.obs[clustering_method].unique())\n",
    "    print(f'Results: {n} clusters')\n",
    "\n",
    "    # adata_subcluster.obs['new_cluster'] = 0\n",
    "    adata_subcluster.obs['new_cluster2'] = adata_subcluster.obs[clustering_method].astype(\"str\")\n",
    "    adata_subcluster.obs['new_cluster_class2'] = adata_subcluster.obs[clustering_method].astype(\"str\")\n",
    "\n",
    "    cont_tab = pd.crosstab(adata_subcluster.obs[clustering_method], adata_subcluster.obs['mmc:subclass_name'], normalize=\"index\")\n",
    "    max_col_dict = cont_tab.T.idxmax(axis=0).to_dict()\n",
    "\n",
    "    adata_subcluster.obs['cell_type_auto'] = adata_subcluster.obs['new_cluster2'].map(max_col_dict)\n",
    "\n",
    "    # Create a dictionary to map old values to new values\n",
    "    mapping_dict = dict(zip(adata_subcluster.obs['cell_id'], adata_subcluster.obs['cell_type_auto']))\n",
    "\n",
    "    mapping_dict_all.update(mapping_dict)\n",
    "\n",
    "# Use .map() function to rename cell contents in 'col1' based on mapping dictionary\n",
    "adata.obs['cell_type_auto_sub'] = adata.obs['cell_id'].map(mapping_dict_all)\n",
    "\n",
    "all_cell_type = adata.obs['cell_type_auto_sub'].unique()\n",
    "list_cell_nb = range(0, len(all_cell_type))\n",
    "mapping_dict = dict(zip(all_cell_type,list_cell_nb))\n",
    "adata.obs['cell_type_newnum_auto_sub'] = adata.obs['cell_type_auto_sub'].map(mapping_dict)"
   ]
  },
  {
   "cell_type": "code",
   "execution_count": null,
   "id": "ed8d8bf2",
   "metadata": {},
   "outputs": [],
   "source": [
    "def auto_subclustering(adata_to_sub, all_types = 'all', Clusters_to_use = 'cell_type_newnum_auto', resolution = 0.1, ):\n",
    "    ### Filters out rare class name\n",
    "    adata_filter = adata_to_sub\n",
    "    \n",
    "    ### Automatic subclustering\n",
    "    if Clusters_to_use == 'cell_type_newnum_auto':\n",
    "        mapping_dict_all = dict(zip(adata.obs['cell_id'], adata.obs['cell_type_auto']))\n",
    "    elif Clusters_to_use == 'cell_type_newnum_auto_sub':\n",
    "        mapping_dict_all = dict(zip(adata.obs['cell_id'], adata.obs['cell_type_auto_sub']))\n",
    "    \n",
    "    clusters_numbers = Clusters_to_use\n",
    "    \n",
    "    if all_types == 'all':\n",
    "        all_types = adata.obs[clusters_numbers].unique() ### Subcluster all clusters\n",
    "    current_ = 0\n",
    "    for cluster_to_sub in (all_types):\n",
    "        total_cluster = str(len(all_types))\n",
    "        current_ += 1\n",
    "        print(f'Subclustering of cluster {cluster_to_sub} ({current_} / {total_cluster})')\n",
    "        adata_subcluster = adata_filter[adata_filter.obs[clusters_numbers] == cluster_to_sub]\n",
    "        sc.pp.pca(adata_subcluster)\n",
    "        sc.pp.neighbors(adata_subcluster)\n",
    "        sc.tl.umap(adata_subcluster)\n",
    "        sc.tl.leiden(adata_subcluster, resolution = 0.1)\n",
    "\n",
    "        clustering_method = 'leiden'\n",
    "        n = len(adata_subcluster.obs[clustering_method].unique())\n",
    "        print(f'Results: {n} clusters')\n",
    "\n",
    "        # adata_subcluster.obs['new_cluster'] = 0\n",
    "        adata_subcluster.obs['new_cluster2'] = adata_subcluster.obs[clustering_method].astype(\"str\")\n",
    "        adata_subcluster.obs['new_cluster_class2'] = adata_subcluster.obs[clustering_method].astype(\"str\")\n",
    "\n",
    "        cont_tab = pd.crosstab(adata_subcluster.obs[clustering_method], adata_subcluster.obs['mmc:subclass_name'], normalize=\"index\")\n",
    "        max_col_dict = cont_tab.T.idxmax(axis=0).to_dict()\n",
    "\n",
    "        adata_subcluster.obs['cell_type_auto'] = adata_subcluster.obs['new_cluster2'].map(max_col_dict)\n",
    "\n",
    "        # Create a dictionary to map old values to new values\n",
    "        mapping_dict = dict(zip(adata_subcluster.obs['cell_id'], adata_subcluster.obs['cell_type_auto']))\n",
    "\n",
    "        mapping_dict_all.update(mapping_dict)\n",
    "\n",
    "    # Use .map() function to rename cell contents in 'col1' based on mapping dictionary\n",
    "    adata.obs['cell_type_auto_sub'] = adata.obs['cell_id'].map(mapping_dict_all)\n",
    "\n",
    "    all_cell_type = adata.obs['cell_type_auto_sub'].unique()\n",
    "    list_cell_nb = range(0, len(all_cell_type))\n",
    "    mapping_dict = dict(zip(all_cell_type,list_cell_nb))\n",
    "    adata.obs['cell_type_newnum_auto_sub'] = adata.obs['cell_type_auto_sub'].map(mapping_dict)"
   ]
  },
  {
   "cell_type": "code",
   "execution_count": null,
   "id": "3e9d6d7a",
   "metadata": {},
   "outputs": [],
   "source": [
    "\n",
    "def cluster_table(adata_to_use = adata, Clusters_to_use = 'cell_type_newnum_auto_sub', sort_order = 'Cell Count', sort_ascend = False):\n",
    "\n",
    "    Clusters_to_use = 'cell_type_newnum_auto_sub'\n",
    "    # Clusters_to_use = 'cell_type_newnum_auto'\n",
    "    # Clusters_to_use = 'cell_type_newnum_final'\n",
    "    adata_to_use.obs[Clusters_to_use] = adata_to_use.obs[Clusters_to_use].astype(int)\n",
    "\n",
    "    if Clusters_to_use == 'cell_type_newnum_auto_sub':\n",
    "        Clusters_to_use_cells = 'cell_type_auto_sub'\n",
    "    elif Clusters_to_use == 'cell_type_newnum_auto':\n",
    "        Clusters_to_use_cells = 'cell_type_auto'\n",
    "    elif Clusters_to_use == 'cell_type_newnum_final':\n",
    "        Clusters_to_use_cells = 'cell_type_final'\n",
    "\n",
    "\n",
    "    cont_tab_sub = pd.crosstab(adata_to_use.obs[Clusters_to_use],adata_to_use.obs['mmc:subclass_name'], normalize=\"index\")\n",
    "    cont_tab_sub = cont_tab_sub.loc[:, cont_tab_sub.sum(axis=0) > 0.05]\n",
    "\n",
    "    cont_tab = pd.crosstab(adata_to_use.obs[Clusters_to_use], adata_to_use.obs['mmc:class_name'], normalize=\"index\")\n",
    "    cont_tab = cont_tab.loc[:, cont_tab.sum(axis=0) > 0.1] \n",
    "\n",
    "    all_cluster = adata_to_use.obs[Clusters_to_use].unique().astype(int)\n",
    "    cluster_df = []\n",
    "    max_corr = []\n",
    "    celltype_ = []\n",
    "    cellclass_ = []\n",
    "    count_celltype = []\n",
    "    per_celltype = []\n",
    "    total_cells = len(adata_to_use)\n",
    "\n",
    "    for all in all_cluster:\n",
    "        # print(all)\n",
    "        coor_temp = cont_tab_sub.T[all].sort_values(ascending = False)[0]\n",
    "        max_corr.append(coor_temp)\n",
    "        celltype_temp = cont_tab_sub.T[all].sort_values(ascending = False).index[0]\n",
    "        celltype_.append(celltype_temp)\n",
    "        cellclass_temp = cont_tab.T[all].sort_values(ascending = False).index[0]\n",
    "        cellclass_.append(cellclass_temp)\n",
    "        count_temp = adata_to_use.obs[adata_to_use.obs[Clusters_to_use] == all].groupby(Clusters_to_use)[\"cell_id\"].count().values[0]\n",
    "        count_celltype.append(count_temp)\n",
    "        perc_temp = count_temp / total_cells * 100\n",
    "        per_celltype.append(perc_temp)\n",
    "\n",
    "    pd.set_option('display.max_rows', 250)\n",
    "\n",
    "    d ={\"Correlation\":max_corr,\"Celltype\":celltype_,\"Cell Class\":cellclass_, \"Cell Count\":count_celltype, \"Percentage\": per_celltype}\n",
    "    cluster_df = pd.DataFrame(data = d)\n",
    "\n",
    "    if sort_order != 'None':\n",
    "        cluster_df = cluster_df.sort_values(by=sort_order, ascending=sort_ascend)\n",
    "\n",
    "    return cluster_df"
   ]
  },
  {
   "cell_type": "code",
   "execution_count": null,
   "id": "47b2f099",
   "metadata": {},
   "outputs": [],
   "source": [
    "adata2.obs[adata2.obs['cell_type_final']=='VMH Glut'].groupby('sample')['cell_id'].count()"
   ]
  },
  {
   "cell_type": "code",
   "execution_count": null,
   "id": "bbadc2da",
   "metadata": {},
   "outputs": [],
   "source": [
    "dfs[59].sort_values(by='logfoldchanges')"
   ]
  },
  {
   "cell_type": "code",
   "execution_count": null,
   "id": "e5447838",
   "metadata": {},
   "outputs": [],
   "source": [
    "for d in range(0, len(dfs)):\n",
    "    dat = dfs[d]\n",
    "    dat = dat[dat['group'] == 'APP'].sort_values(by = 'logfoldchanges')\n",
    "    x1 = range(0,len(dat))\n",
    "    plt.scatter(x=x1, y =dat['logfoldchanges'], s =3, label = all_celltype[d])"
   ]
  },
  {
   "cell_type": "code",
   "execution_count": null,
   "id": "2bb56f4f",
   "metadata": {},
   "outputs": [],
   "source": [
    "del dfs[59]"
   ]
  },
  {
   "cell_type": "code",
   "execution_count": null,
   "id": "c5598dff",
   "metadata": {},
   "outputs": [],
   "source": [
    "### Only Keep APP values (mirror of WT)\n",
    "for d in range(0,len(dfs)):\n",
    "    dfs[d] = dfs[d][dfs[d]['group']=='APP']"
   ]
  },
  {
   "cell_type": "code",
   "execution_count": null,
   "id": "1dfb3fe6",
   "metadata": {},
   "outputs": [],
   "source": [
    "all_logfold = pd.DataFrame()\n",
    "for d in range(0, len(dfs)):\n",
    "    dat = dfs[d]\n",
    "    log_pos = dat[dat['logfoldchanges']>0]['logfoldchanges'].count()\n",
    "    log_neg = -1 * dat[dat['logfoldchanges']<0]['logfoldchanges'].count()\n",
    "    temp = pd.DataFrame({'Celltype' : [all_celltype[d]],\n",
    "                            'Positive':[log_pos],\n",
    "                            'Negative':[log_neg]})\n",
    "    all_logfold= all_logfold.append(temp, ignore_index = True)\n",
    "all_logfold=all_logfold.sort_values(by='Positive',ascending = False )\n"
   ]
  },
  {
   "cell_type": "code",
   "execution_count": null,
   "id": "85166886",
   "metadata": {},
   "outputs": [],
   "source": []
  },
  {
   "cell_type": "code",
   "execution_count": null,
   "id": "b725c995",
   "metadata": {},
   "outputs": [],
   "source": [
    "all_class = all_logfold['Cellclass'].unique()\n",
    "\n",
    "fig, ax = plt.subplots(1, 1, figsize=(5,5), sharey=True)\n",
    "plt.style.use('classic')\n",
    "# for cla_ in range(0,len(all_class)):\n",
    "\n",
    "temp_df = all_logfold[all_logfold['Cellclass']==all_class[2]]\n",
    "temp_df.plot.bar(x='Celltype', y='Positive',\n",
    "                  ax=ax,\n",
    "                    color = 'darkorange', alpha = 0.7)\n",
    "temp_df.plot.bar(x='Celltype', y='Negative',\n",
    "                  ax=ax,\n",
    "                color = 'darkgreen', alpha = 0.7)\n",
    "ax.grid(False)\n",
    "ax.axhline(y=0, color  = 'black')\n",
    "# ax[0].set_xticklabels(g.get_xticklabels(), rotation=90)\n",
    "\n",
    "# plt.savefig(f'plot/{name_dir}/logchange_G.svg')"
   ]
  },
  {
   "cell_type": "code",
   "execution_count": null,
   "id": "388999fe",
   "metadata": {},
   "outputs": [],
   "source": [
    "class_dict = {\n",
    "'CA1 ProS Glut':'Neuron',\n",
    "'Tanycyte':'Epithelial',\n",
    "'MM Glut':'Neuron',\n",
    "'CA2 FC IG Glut':'Neuron',\n",
    "'SUB ProS Glut':'Neuron',\n",
    "'ZI Gaba':'Neuron',\n",
    "'VMH Glut':'Neuron',\n",
    "'PVT Glut':'Neuron',\n",
    "'CA3 Glut':'Neuron',\n",
    "'HY Glut':'Neuron',\n",
    "'SN Dopa':'Neuron',\n",
    "'PRT Gaba':'Neuron',\n",
    "'ARH GABA':'Neuron',\n",
    "'SC Gaba':'Neuron',\n",
    "'LA Glut':'Neuron',\n",
    "'L23 RSP Glut':'Neuron',\n",
    "'SC Glut':'Neuron',\n",
    "'MH Glut':'Neuron',\n",
    "'RT ZI GABA':'Neuron',\n",
    "'PF Glut':'Neuron',\n",
    "'LGv Gaba':'Neuron',\n",
    "'DG Glut':'Neuron',\n",
    "'TH Glut':'Neuron',\n",
    "'LH Glut':'Neuron',\n",
    "'Pvalb Gaba':'Neuron',\n",
    "'MB Glut':'Neuron',\n",
    "'APN Glut':'Neuron',\n",
    "'L23 CTX Glut':'Neuron',\n",
    "'Vip Gaba':'Neuron',\n",
    "'MEA Glut':'Neuron',\n",
    "'Endothelial':'Epithelial',\n",
    "'AV Glut':'Neuron',\n",
    "'Lamp5 Gaba':'Neuron',\n",
    "'CHOR':'Epithelial',\n",
    "'HY GABA':'Neuron',\n",
    "'SN Gaba':'Neuron',\n",
    "'L4 CTX Glut':'Neuron',\n",
    "'Sst Gaba':'Neuron',\n",
    "'Microglia':'Glia',\n",
    "'L6b CTX Glut':'Neuron',\n",
    "'Pericyte':'Epithelial',\n",
    "'L23 PIR ENTl Glut':'Neuron',\n",
    "'Astro TE':'Glia',\n",
    "'L6 CTX Glut':'Neuron',\n",
    "'L5 CTX Glut':'Neuron',\n",
    "'SCH Gaba':'Neuron',\n",
    "'STRv PAL Gaba':'Neuron',\n",
    "'Ependymal':'Epithelial',\n",
    "'OPC':'Glia',\n",
    "'NLOT Glut':'Neuron',\n",
    "'PAG Glut':'Neuron',\n",
    "'MEA Gaba':'Neuron',\n",
    "'Oligodendrocyte':'Glia',\n",
    "'Pineal Glut':'Neuron',\n",
    "'LHA Glut':'Neuron',\n",
    "'Astro NT':'Glia',\n",
    "'BST Glut':'Neuron',\n",
    "'VLMC':'Epithelial',\n",
    "'LSX Gaba':'Neuron',\n",
    "'STR D1D2 Gaba':'Neuron',\n",
    "'BST Gaba':'Neuron',\n",
    "'STR Gaba':'Neuron',\n",
    "      }\n",
    "\n",
    "all_logfold['Cellclass'] = all_logfold['Celltype'].map(class_dict)"
   ]
  },
  {
   "cell_type": "code",
   "execution_count": null,
   "id": "421a2c07",
   "metadata": {},
   "outputs": [],
   "source": [
    "adata.obs[adata.obs['sample']=='circa2-ZT21'].groupby('cell_type_final')['cell_id'].count()"
   ]
  },
  {
   "cell_type": "markdown",
   "id": "2108ebbb",
   "metadata": {},
   "source": [
    "### Gene expression plot"
   ]
  },
  {
   "cell_type": "code",
   "execution_count": null,
   "id": "93510b3c",
   "metadata": {},
   "outputs": [],
   "source": [
    "import pandas as pd\n",
    "import matplotlib.pyplot as plt\n",
    "import numpy as np\n",
    "\n",
    "df = pd.read_parquet('../notebook/csv/circa/circa_norm_combined.parquet')\n",
    "\n",
    "df = df[df['run']=='circa4']\n"
   ]
  },
  {
   "cell_type": "code",
   "execution_count": null,
   "id": "a715dd4e",
   "metadata": {},
   "outputs": [],
   "source": [
    "gene_df = df.iloc[:, :5006]\n",
    "d = gene_df.groupby(df['cell_type_final']).mean()\n",
    "\n",
    "d['overzero'] = (d>=0.005).sum(axis=1)\n",
    "\n",
    "# valid_cells = [\"ABC\", \"AHN RCH LHA Glut\", \"AMY Gaba\", \"AMY Glut\", \"Astro TE\", \"CA1 ProS Glut\",\n",
    "#   \"CA2 FC IG Glut\", \"CA3 Glut\", \"Choroid\", \"CLA EPd CTX Glut\", \"DG Glut\", \"Endothelial\",\n",
    "#   \"Ependymal\", \"L2 3 IT CTX Glut\", \"L2 3 IT PIR ENTl Glut\", \"L2 3 IT RSP Glut\",\n",
    "#   \"L4 5 IT CTX Glut\", \"L4 RSP ACA Glut\", \"L5 ET CTX Glut\", \"L5 NP CTX Glut\",\n",
    "#   \"L6 CT CTX Glut\", \"L6 IT CTX Glut\", \"L6b CTX Glut\", \"Lamp5 Gaba\", \"LH Glut\", \"MH Glut\",\n",
    "#   \"Microglia\", \"OB STR CTX Inh IMN\", \"Oligodendrocyte\", \"OPC\", \"Pericyte\", \"Pvalb Gaba\",\n",
    "#   \"RT ZI Gaba\", \"Sst Gaba\", \"STR D1D2 Gaba\", \"STR PAL Gaba\", \"TH Glut\", \"Vip Gaba\", \n",
    "#   \"VLMC\", \"VMH Glut\"]\n",
    "\n",
    "# cycling = np.array([443,124,922,847,1428,826,271,498,321,674,853,1207,492,1694,1521,301,1752,267,917,455,1130,289,605,453,223,302,1002,169,1445,\n",
    "          #  793,674,875,367,788,1141,536,1160,492,548,990])\n",
    "\n",
    "valid_cells = [\"ABC\", \"AHN RCH LHA Glut\", \"AMY Glut\", \"Astro TE\", \"Choroid\",\n",
    "      \"CLA EPd CTX Glut\", \"Endothelial\", \"Ependymal\", \"L2 3 IT PIR ENTl Glut\", \"L4 5 IT CTX Glut\",\n",
    "      \"L5 ET CTX Glut\", \"L5 NP CTX Glut\", \"L6 CT CTX Glut\", \"L6 IT CTX Glut\", \"L6b CTX Glut\",\n",
    "      \"Lamp5 Gaba\", \"Microglia\", \"OB STR CTX Inh IMN\", \"Oligodendrocyte\", \"OPC\",\n",
    "      \"PAL STR Gaba Chol\", \"Pericyte\", \"Pvalb Gaba\", \"PVH SO PVa Glut\", \"RT ZI Gaba\", \"SCH Gaba\",\n",
    "      \"Sst Gaba\", \"STR D1D2 Gaba\", \"STR PAL Gaba\", \"TH Glut\", \"TRS BAC Glut\", \"Vip Gaba\", \"VLMC\"]\n",
    "\n",
    "cycling = [362,673,318,934,519,261,846,544,427,742,266,195,588,1122,244,155,486,311,736,380,159,555,302,182,288,337,257,859,278,405,101,186,458,]\n",
    "\n",
    "\n",
    "\n",
    "d = d.filter(valid_cells, axis=0)\n",
    "\n",
    "celltype = np.array(d.index) \n",
    "g_expressed = np.array(d['overzero'])\n",
    "len(g_expressed), len(celltype),len(cycling)\n",
    "\n",
    "df_cycle = pd.DataFrame(data={\"Celltype\": celltype,\"Expressed\": g_expressed - cycling,\"Cycling\": np.array(cycling)})\n",
    "\n"
   ]
  },
  {
   "cell_type": "code",
   "execution_count": null,
   "id": "ca909e5c",
   "metadata": {},
   "outputs": [],
   "source": [
    "celltype = df_cycle['Celltype']\n",
    "\n",
    "genes = {\n",
    "    \"Expressed\": df_cycle['Expressed'],\n",
    "    \"Cycling\": df_cycle['Cycling'],\n",
    "}\n",
    "width = 0.75\n",
    "\n",
    "fig, ax = plt.subplots(figsize=(10,4))\n",
    "bottom = np.zeros(len(celltype))\n",
    "\n",
    "for boolean, genes in genes.items():\n",
    "    p = ax.bar(celltype, genes, width, label=boolean, bottom=bottom)\n",
    "    bottom += genes\n",
    "\n",
    "ax.tick_params(axis = 'x', rotation=90,\n",
    "                top=True, labeltop=True,\n",
    "                bottom = False, labelbottom=False\n",
    "                )\n",
    "ax.set_ylabel('# gene')\n",
    "ax.legend(bbox_to_anchor=(1.1, 1.0), loc=\"upper left\")\n",
    "\n",
    "# fig.savefig('Gallery/Cycling_genes_order_circa4.svg')"
   ]
  },
  {
   "cell_type": "markdown",
   "id": "0366dcfa",
   "metadata": {},
   "source": [
    "### Circascore plot"
   ]
  },
  {
   "cell_type": "code",
   "execution_count": null,
   "id": "e6aca768",
   "metadata": {},
   "outputs": [],
   "source": [
    "import pandas as pd\n",
    "import matplotlib.pyplot as plt\n",
    "import numpy as np\n",
    "\n",
    "df = pd.read_parquet('../notebook/csv/circa/circa_norm_combined.parquet')\n",
    "\n",
    "df = df[df['run']=='circa2']\n",
    "df2 = df[df['run']=='circa4']"
   ]
  },
  {
   "cell_type": "code",
   "execution_count": null,
   "id": "81e481fc",
   "metadata": {},
   "outputs": [],
   "source": [
    "import numpy as np\n",
    "\n",
    "gene_df = df['circascore'].astype(int)\n",
    "d = gene_df.groupby(df['cell_type_final']).mean()\n",
    "e = gene_df.groupby(df['cell_type_final']).std()\n",
    "g = pd.DataFrame({\"Average\": d, \"Error\":e}, index = d.index)\n",
    "\n",
    "valid_cells = [\"ABC\", \"AHN RCH LHA Glut\", \"AMY Gaba\", \"AMY Glut\", \"Astro TE\", \"CA1 ProS Glut\",\n",
    "  \"CA2 FC IG Glut\", \"CA3 Glut\", \"Choroid\", \"CLA EPd CTX Glut\", \"DG Glut\", \"Endothelial\",\n",
    "  \"Ependymal\", \"L2 3 IT CTX Glut\", \"L2 3 IT PIR ENTl Glut\", \"L2 3 IT RSP Glut\",\n",
    "  \"L4 5 IT CTX Glut\", \"L4 RSP ACA Glut\", \"L5 ET CTX Glut\", \"L5 NP CTX Glut\",\n",
    "  \"L6 CT CTX Glut\", \"L6 IT CTX Glut\", \"L6b CTX Glut\", \"Lamp5 Gaba\", \"LH Glut\", \"MH Glut\",\n",
    "  \"Microglia\", \"OB STR CTX Inh IMN\", \"Oligodendrocyte\", \"OPC\", \"Pericyte\", \"Pvalb Gaba\",\n",
    "  \"RT ZI Gaba\", \"Sst Gaba\", \"STR D1D2 Gaba\", \"STR PAL Gaba\", \"TH Glut\", \"Vip Gaba\", \n",
    "  \"VLMC\", \"VMH Glut\"]\n",
    "cycling = np.array([443,124,922,847,1428,826,271,498,321,674,853,1207,492,1694,1521,301,1752,267,917,455,1130,289,605,453,223,302,1002,169,1445,\n",
    "           793,674,875,367,788,1141,536,1160,492,548,990])\n",
    "\n",
    "g = g.filter(valid_cells, axis=0)\n",
    "g['Cycling'] = cycling\n",
    "\n",
    "g.sort_values('Average', ascending = False, inplace=True)\n"
   ]
  },
  {
   "cell_type": "code",
   "execution_count": null,
   "id": "6796b247",
   "metadata": {},
   "outputs": [],
   "source": [
    "plt.scatter(x=g['Average'], y=g['Cycling'])\n",
    "plt.xlim(left=0)\n",
    "plt.ylim(bottom=0)\n",
    "\n",
    "from scipy import stats\n",
    "stat_ = round(stats.pearsonr(x=g['Average'], y = g['Cycling'])[0],3)\n",
    "\n",
    "plt.title(f'SCC = {stat_}')\n",
    "plt.xlabel('Average circascore')\n",
    "plt.ylabel('Nb of cycling genes')"
   ]
  },
  {
   "cell_type": "code",
   "execution_count": null,
   "id": "853b269e",
   "metadata": {},
   "outputs": [],
   "source": [
    "plt.figure(figsize=(10,4))\n",
    "plt.bar(x=g.index, height=g['Average'])\n",
    "plt.errorbar(x=g.index, y=g['Average'], yerr=g['Error'], fmt=\"none\", color=\"black\")\n",
    "plt.xticks(rotation=90)\n",
    "plt.ylabel('Average circascore')\n",
    "plt.show()"
   ]
  },
  {
   "cell_type": "code",
   "execution_count": null,
   "id": "8ee83bb1",
   "metadata": {},
   "outputs": [],
   "source": [
    "import seaborn as sns\n",
    "sns.histplot(gene_df,\n",
    "             stat = 'proportion',\n",
    "             binwidth=1)"
   ]
  },
  {
   "cell_type": "code",
   "execution_count": null,
   "id": "876d7f04",
   "metadata": {},
   "outputs": [],
   "source": [
    "unique_celltypeC2 = set(adata.obs[(adata.obs['run']=='circa2') & (adata.obs['cell_type_final'].value_counts() > 100)]['cell_type_final'].unique())\n",
    "unique_celltypeC4 = set(adata.obs[adata.obs['run']=='circa4']['cell_type_final'].unique())\n",
    "\n",
    "common_celltypes = unique_celltypeC2.intersection(unique_celltypeC4)\n",
    "print(len(common_celltypes),common_celltypes)"
   ]
  },
  {
   "cell_type": "code",
   "execution_count": null,
   "id": "56098d28",
   "metadata": {},
   "outputs": [],
   "source": [
    "celltypes = adata.obs[adata.obs['run']=='circa2']['cell_type_final'].unique()\n",
    "cellC2 = set([cell for cell in celltypes if adata.obs[(adata.obs['run']=='circa2') & (adata.obs['cell_type_final']== cell)]['cell_type_final'].count() > 100])\n",
    "\n",
    "celltypes4 = adata.obs[adata.obs['run']=='circa4']['cell_type_final'].unique()\n",
    "cellC4 = set([cell for cell in celltypes4 if adata.obs[(adata.obs['run']=='circa4') & (adata.obs['cell_type_final']== cell)]['cell_type_final'].count() > 100])"
   ]
  },
  {
   "cell_type": "code",
   "execution_count": null,
   "id": "e8f7f296",
   "metadata": {},
   "outputs": [],
   "source": [
    "common_celltypes = cellC4.intersection(cellC2)\n",
    "print(len(common_celltypes),common_celltypes)"
   ]
  },
  {
   "cell_type": "code",
   "execution_count": null,
   "id": "ceb7807a",
   "metadata": {},
   "outputs": [],
   "source": [
    "x1 = adata.obs[(adata.obs['run'] == 'circa2') & (adata.obs['circascore']==0)]['cell_type_final'].value_counts().sort_index()\n",
    "x2 = adata.obs['cell_type_final'].value_counts().sort_index()\n",
    "x3 = x1 / x2 * 100\n",
    "x3 = x3.filter(valid_cells, axis = 0)\n",
    "x3.sort_values(inplace=True, ascending = False)\n",
    "\n",
    "plt.figure(figsize=(10,4))\n",
    "plt.bar(x=x3.index, height=x3)\n",
    "plt.tick_params(rotation = 90)\n",
    "plt.ylabel('% of cells without clock genes')\n",
    "plt.ylim(0,20)\n",
    "plt.xlim(-0.5,40)"
   ]
  },
  {
   "cell_type": "code",
   "execution_count": null,
   "id": "9ba7d013",
   "metadata": {},
   "outputs": [],
   "source": [
    "adata.obs['cell_class'].unique()"
   ]
  },
  {
   "cell_type": "code",
   "execution_count": null,
   "id": "f9ac8226",
   "metadata": {},
   "outputs": [],
   "source": [
    "fig, axs = plt.subplots(1,3, figsize = (15,5))\n",
    "axs = axs.flatten()\n",
    "\n",
    "for x,class_cell in enumerate(adata.obs['cell_class'].unique()):\n",
    "    for cell in adata.obs[adata.obs['cell_class']==class_cell]['cell_type_final'].unique():\n",
    "        x1= adata.obs[adata.obs['cell_type_final']==cell]['circascore'].value_counts().sort_index()\n",
    "        x1 = x1 / adata.obs[adata.obs['cell_type_final']==cell]['cell_id'].count() * 100\n",
    "        axs[x].plot(x1, label = cell)\n",
    "        axs[x].legend(bbox_to_anchor=(1.0, 1.0), loc=\"lower center\")"
   ]
  },
  {
   "cell_type": "code",
   "execution_count": null,
   "id": "968d822b",
   "metadata": {},
   "outputs": [],
   "source": [
    "region_ = \"CTX\"\n",
    "cell = 'Sst Gaba'\n",
    "x1= adata.obs[(adata.obs['region_automap_name']==region_) & (adata.obs['cell_type_final']==cell) & (adata.obs['cell_class']==\"Neuronal\")]['circascore'].value_counts().sort_index()"
   ]
  },
  {
   "cell_type": "code",
   "execution_count": null,
   "id": "ac12e8d0",
   "metadata": {},
   "outputs": [],
   "source": []
  },
  {
   "cell_type": "code",
   "execution_count": null,
   "id": "3f78d5ce",
   "metadata": {},
   "outputs": [],
   "source": [
    "x1.max()"
   ]
  },
  {
   "cell_type": "code",
   "execution_count": null,
   "id": "ed93d1ed",
   "metadata": {},
   "outputs": [],
   "source": [
    "fig, axs = plt.subplots(4,4, figsize = (15,15))\n",
    "axs = axs.flatten()\n",
    "\n",
    "for x,region_ in enumerate(adata.obs['region_automap_name'].unique()):\n",
    "    x3 = [0]\n",
    "    for cell in adata.obs[(adata.obs['region_automap_name']==region_) & (adata.obs['cell_class']==\"Neuronal\")]['cell_type_final'].unique():\n",
    "        x1= adata.obs[(adata.obs['region_automap_name']==region_) & (adata.obs['cell_type_final']==cell) & (adata.obs['cell_class']==\"Neuronal\")]['circascore'].value_counts().sort_index()\n",
    "        x2 = adata.obs[(adata.obs['region_automap_name']==region_) & (adata.obs['cell_type_final']==cell) & (adata.obs['cell_class']==\"Neuronal\")]['cell_id'].count()\n",
    "        if x2.sum() > 100:\n",
    "            x1 = x1 / adata.obs[(adata.obs['region_automap_name']==region_) & (adata.obs['cell_class']==\"Neuronal\")]['cell_id'].count() * 100\n",
    "            x1_max = x1.max()\n",
    "            x3.insert(0, x1_max)\n",
    "            axs[x].plot(x1, label = f'{cell}_{x1.idxmax()}')\n",
    "            # axs[x].legend(loc=\"best\")\n",
    "    axs[x].set_title(region_)\n",
    "    axs[x].set_xlim(0,11)\n",
    "    axs[x].set_ylim(0,max(x3)*1.25)\n"
   ]
  },
  {
   "cell_type": "code",
   "execution_count": null,
   "id": "233c95db",
   "metadata": {},
   "outputs": [],
   "source": [
    "fig, axs = plt.subplots(4,4, figsize = (15,15))\n",
    "axs = axs.flatten()\n",
    "\n",
    "color_dict = {'Astro TE': 'black',\n",
    "              'Oligodendrocyte':'red',\n",
    "              'Microglia':\"green\",\n",
    "              'OPC':'blue'}\n",
    "\n",
    "for x,region_ in enumerate(adata.obs['region_automap_name'].unique()):\n",
    "    x3 = [0]\n",
    "    for cell in adata.obs[(adata.obs['region_automap_name']==region_) & (adata.obs['cell_class']==\"Glial\")]['cell_type_final'].unique():\n",
    "        x1= adata.obs[(adata.obs['region_automap_name']==region_) & (adata.obs['cell_type_final']==cell) & (adata.obs['cell_class']==\"Glial\")]['circascore'].value_counts().sort_index()\n",
    "        x2 = adata.obs[(adata.obs['region_automap_name']==region_) & (adata.obs['cell_type_final']==cell) & (adata.obs['cell_class']==\"Glial\")]['cell_id'].count()\n",
    "        if x2.sum() > 100:\n",
    "            x1 = x1 / adata.obs[(adata.obs['region_automap_name']==region_) & (adata.obs['cell_class']==\"Glial\")]['cell_id'].count() * 100\n",
    "            x1_max = x1.max()\n",
    "            x3.insert(0, x1_max)\n",
    "            axs[x].plot(x1, c = color_dict[cell], label = f'{cell}_{x1.idxmax()}')\n",
    "            axs[x].legend(loc=\"best\")\n",
    "    axs[x].set_title(region_)\n",
    "    axs[x].set_xlim(0,11)\n",
    "    axs[x].set_ylim(0,max(x3)*1.25)\n"
   ]
  },
  {
   "cell_type": "code",
   "execution_count": null,
   "id": "cb9e8b82",
   "metadata": {},
   "outputs": [],
   "source": [
    "fig, axs = plt.subplots(4,4, figsize = (15,15))\n",
    "axs = axs.flatten()\n",
    "\n",
    "for x,region_ in enumerate(adata.obs['region_automap_name'].unique()):\n",
    "    # for cell in adata.obs[adata.obs['region_automap_name']==region_]['cell_type_final'].unique():\n",
    "        x1= adata.obs[(adata.obs['region_automap_name'] == region_) & (adata.obs['cell_type_final']=='OPC')]['circascore'].value_counts().sort_index()\n",
    "        x1 = x1 / adata.obs[(adata.obs['region_automap_name'] == region_) & (adata.obs['cell_type_final']=='Pericyte')]['cell_id'].count() * 100\n",
    "        axs[x].plot(x1, label = region_)\n",
    "        axs[x].legend(bbox_to_anchor=(1.0, 1.0), loc=\"best\")\n",
    "        axs[x].set_xlim(0,11)\n",
    "        axs[x].set_ylim(0,50)"
   ]
  },
  {
   "cell_type": "code",
   "execution_count": null,
   "id": "074894b4",
   "metadata": {},
   "outputs": [],
   "source": [
    "df = pd.read_parquet('../notebook/csv/circa/circa_norm_combined.parquet')"
   ]
  },
  {
   "cell_type": "code",
   "execution_count": null,
   "id": "86223dce",
   "metadata": {},
   "outputs": [],
   "source": [
    "import matplotlib.pyplot as plt\n",
    "\n",
    "x = df[df['cell_type_final']=='STR D1D2 Gaba'].groupby('sample')['Ndn'].mean()\n",
    "\n",
    "plt.scatter(x = x.index, y=x)\n",
    "plt.tick_params(rotation=90)\n",
    "plt.vlines(x=(5.5,11.5), ymin=0,ymax=0.5)\n",
    "plt.xlim(5.5,)\n",
    "plt.title('Ndn expression in \\'STR D1D2 Gaba\\'')\n",
    "plt.ylabel('Normalized expression')"
   ]
  },
  {
   "cell_type": "code",
   "execution_count": null,
   "id": "ed631da1",
   "metadata": {},
   "outputs": [],
   "source": [
    "x1 = df[df['Clock'] > 0].groupby('cell_type_final')['Clock'].count().sort_index() / df.groupby('cell_type_final')['Clock'].count().sort_index()\n",
    "x2 = df[df['Npas2'] > 0].groupby('cell_type_final')['Npas2'].count().sort_index() / df.groupby('cell_type_final')['Npas2'].count().sort_index()"
   ]
  },
  {
   "cell_type": "code",
   "execution_count": null,
   "id": "5f3350a5",
   "metadata": {},
   "outputs": [],
   "source": [
    "x1.max(),x2.max()"
   ]
  },
  {
   "cell_type": "code",
   "execution_count": null,
   "id": "50576f49",
   "metadata": {},
   "outputs": [],
   "source": [
    "x_2 = x1.index\n",
    "d = {\"Clock\": x1.values,\n",
    "     \"Npas2\": x2.values\n",
    "     }\n",
    "\n",
    "df = pd.DataFrame(data=d, index = x_2)\n",
    "df = df.sort_values(by = 'Clock', ascending=False, ignore_index=True)\n",
    "\n",
    "\n",
    "plt.figure(figsize=(15,5), layout='constrained')\n",
    "\n",
    "for x_, d_ in enumerate(df.columns):\n",
    "    plt.bar(x=x_2, height=df[d_], label = d_, alpha=0.5)\n",
    "plt.legend(loc = 'best')\n",
    "plt.ylabel('Portion of cells expressing')\n",
    "plt.tick_params(axis = \"x\", rotation=90)"
   ]
  },
  {
   "cell_type": "code",
   "execution_count": null,
   "id": "279126d9",
   "metadata": {},
   "outputs": [],
   "source": []
  }
 ],
 "metadata": {
  "kernelspec": {
   "display_name": "Python 3",
   "language": "python",
   "name": "python3"
  },
  "language_info": {
   "codemirror_mode": {
    "name": "ipython",
    "version": 3
   },
   "file_extension": ".py",
   "mimetype": "text/x-python",
   "name": "python",
   "nbconvert_exporter": "python",
   "pygments_lexer": "ipython3",
   "version": "3.11.3"
  }
 },
 "nbformat": 4,
 "nbformat_minor": 5
}
