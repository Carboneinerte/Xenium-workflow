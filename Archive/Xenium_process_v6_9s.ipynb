{
 "cells": [
  {
   "cell_type": "markdown",
   "id": "24baff37-3f56-48f6-bf72-e6e2bbeb9d99",
   "metadata": {},
   "source": [
    "# Current version : 6.10.a (2024-11-13)"
   ]
  },
  {
   "cell_type": "markdown",
   "id": "79286a2e-6fc1-4948-a7c0-2e0c26d36216",
   "metadata": {},
   "source": [
    "# Libraries and directory (always run)"
   ]
  },
  {
   "cell_type": "code",
   "execution_count": null,
   "id": "8e770a84-80dc-4707-bfb5-41a990702672",
   "metadata": {},
   "outputs": [],
   "source": [
    "### import necessary libraries\n",
    "import anndata as ad\n",
    "import anndata\n",
    "import csv\n",
    "from datetime import datetime\n",
    "import geojson\n",
    "import geopandas as gpd\n",
    "from IPython.display import display\n",
    "import matplotlib as mpl\n",
    "from matplotlib import animation\n",
    "import matplotlib.gridspec as gridspec\n",
    "from matplotlib.lines import Line2D\n",
    "from matplotlib.patches import Patch\n",
    "import matplotlib.pyplot as plt\n",
    "from mpl_toolkits.axes_grid1 import make_axes_locatable\n",
    "import math\n",
    "import networkx as nx\n",
    "import numpy as np\n",
    "import os\n",
    "import pandas as pd\n",
    "import pickle\n",
    "import random\n",
    "import re\n",
    "import seaborn as sns\n",
    "import scanpy as sc\n",
    "import scanpy.external as sce\n",
    "from scipy import stats\n",
    "from scipy.interpolate import CubicSpline\n",
    "from scipy.io import mmread\n",
    "from scipy.optimize import curve_fit\n",
    "import scipy.sparse as sparse\n",
    "from scipy.stats import pearsonr, pointbiserialr\n",
    "from shapely.geometry import Polygon, mapping, MultiPolygon\n",
    "from shapely.ops import unary_union\n",
    "from skimage import measure\n",
    "from sklearn.cluster import KMeans\n",
    "from sklearn.metrics import adjusted_rand_score\n",
    "from sklearn.neighbors import NearestNeighbors\n",
    "from sklearn.neighbors import KNeighborsClassifier\n",
    "import warnings\n",
    "\n",
    "warnings.filterwarnings(\"ignore\") \n",
    "sc.logging.print_header()\n",
    "sc.set_figure_params(facecolor=\"white\", figsize=(8, 8))\n",
    "sc.settings.verbosity = 1 # errors (0), warnings (1), info (2), hints (3)\n",
    "plt.rcParams[\"font.family\"] = \"Arial\"\n",
    "sns.set_style(\"white\")\n",
    "\n",
    "# Note that BANKSY itself is deterministic, here the seeds affect the umap clusters and leiden partition\n",
    "seed = 1234\n",
    "np.random.seed(seed)\n",
    "random.seed(seed)\n",
    "\n",
    "start_time = datetime.now()\n",
    "\n",
    "def print_with_elapsed_time(message):\n",
    "    elapsed_time = datetime.now() - start_time\n",
    "    elapsed_seconds = elapsed_time.total_seconds()\n",
    "    print(f\"[{elapsed_seconds:.2f} seconds] {message}\")"
   ]
  },
  {
   "cell_type": "code",
   "execution_count": null,
   "id": "9d96ac02-b486-4bad-a849-e3eccd2d1517",
   "metadata": {},
   "outputs": [],
   "source": [
    "print(f\"geopandas version: {gpd.__version__}\")\n",
    "print(f\"pandas version: {pd.__version__}\")\n",
    "print(f\"scanpy version: {sc.__version__}\")"
   ]
  },
  {
   "cell_type": "code",
   "execution_count": null,
   "id": "333b9efd-0b38-49f4-b65d-169891eb9c34",
   "metadata": {},
   "outputs": [],
   "source": [
    "### Directory where the data is stored\n",
    "\n",
    "# dir = \"/mnt/d/Xenium\" #Ubuntu\n",
    "# dir = \"/media/volume/data/spatial/hugo/data\" #Ubuntu\n",
    "dir = \"/media/volume/data/spatial/hugo/data/k5\" #Ubuntu\n",
    "dir = '/media/volume/volume_spatial/hugo/data/test'\n",
    "\n",
    "\n",
    "# dir_notebook = '/mnt/d/Jupyter_notebook/Xenium_jupyter_notebook'\n",
    "# dir_notebook = '/media/volume/data/spatial/hugo/notebook'\n",
    "dir_notebook = '/media/volume/volume_spatial/hugo/notebook'\n"
   ]
  },
  {
   "cell_type": "code",
   "execution_count": null,
   "id": "09a51ac7-3c97-4bdb-b6bb-3e579b0556b5",
   "metadata": {},
   "outputs": [],
   "source": [
    "# # # # ### HC ###\n",
    "\n",
    "# # # # ### make a list of samples and their ids to make the cell names unique\n",
    "# # # # #samples = [\"2505-1__20240404__003359\", \"2505-2__20240404__003359\", \"2670-1__20240404__003359\", \"3159-1__20240321__212855\", \"3160-1__20240321__212855\", \"3160-2__20240321__212855\"]\n",
    "# # # # #samples_ids = [\"2505-1\", \"2505-2\", \"2670-1\", \"3159-1\", \"3160-1\", \"3160-2\"]\n",
    "# # # # #name_dir = 'run1-2'\n",
    "\n",
    "# # # # # ### Run 1 resegmented\n",
    "# # # # samples = [\"2505-1_subsampled\", \"2505-2_subsampled\", \"2670-1_subsampled\", \n",
    "# # # #    \"3159-1_subsampled\"\n",
    "# # # #     , \"3160-1_subsampled\", \"3160-2_subsampled\"]\n",
    "# # # # samples_ids = [\"2505-1\", \"2505-2\", \"2670-1\", \n",
    "# # # #               \"3159-1\", \"3160-1\", \"3160-2\"       ]\n",
    "# # # # name_dir = 'run1-resegment'\n",
    "\n",
    "# # # # # # #Run 3\n",
    "# # # # # samples = [\"3159-2__20240530__205547\", \"3159-3__20240530__205547\", \"3159-4__20240530__205547\", \"3161-1__20240530__205547\", \"3161-2__20240530__205547\", \"3161-3__20240530__205547\"]\n",
    "# # # # # samples_ids = [\"3159-2\", \"3159-3\", \"3159-4\", \"3161-1\", \"3161-2\", \"3161-3\"]\n",
    "# # # # # name_dir = 'run3-all'\n",
    "\n",
    "# # # # # Run 3 Habenula\n",
    "# # # samples = [\"3159-2__20240530__205547\", \"3161-1__20240530__205547\"]\n",
    "# # # samples_ids = [\"3159-2\", \"3161-1\"]\n",
    "# # # name_dir = 'run3-Habenula'\n",
    "\n",
    "# # # # # # # Run 3 LGN\n",
    "# # # # samples = [\"3159-3__20240530__205547\", \"3161-2__20240530__205547\"]\n",
    "# # # # samples_ids = [\"3159-3\",\"3161-2\"]\n",
    "# # # # name_dir = 'run3-LGN'\n",
    "\n",
    "# # # # # #Run 3 SC\n",
    "# # # samples = [\"3159-4__20240530__205547\",\"3161-3__20240530__205547\"]\n",
    "# # # samples_ids = [\"3159-4\", \"3161-3\"]\n",
    "# # # name_dir = 'run3-SC'\n",
    "\n",
    "# # # # # samples = [\"Xenium_Prime_Mouse_Brain_Coronal_FF_outs\"]\n",
    "# # # # # samples_ids = ['Xenium_Prime']\n",
    "# # # # # name_dir = 'test-prime'\n",
    "\n",
    "# # # # # # circa1\n",
    "# # samples = ['circa1_ZT1','circa1_ZT5','circa1_ZT9','circa1_ZT13','circa1_ZT17','circa1_ZT21']\n",
    "# # samples_ids = ['circa1-ZT1','circa1-ZT5','circa1-ZT9','circa1-ZT13','circa1-ZT17','circa1-ZT21',]\n",
    "# # name_dir = 'circa1'\n",
    "\n",
    "# # # ### circa2_\n",
    "# samples = ['circa2-ZT01','circa2-ZT05','circa2-ZT09','circa2-ZT13','circa2-ZT17','circa2-ZT21']\n",
    "# samples_ids = ['circa2-ZT01','circa2-ZT05','circa2-ZT09','circa2-ZT13','circa2-ZT17','circa2-ZT21',]\n",
    "# name_dir = 'circa2'\n",
    "\n",
    "# # # # # run1 - nuclei\n",
    "# # # # # samples = ['3161-1','3159-2']\n",
    "# # # # # samples_ids = ['3161-1','3159-2']\n",
    "# # # # # name_dir = 'run3'\n",
    "\n",
    "# # # # # # ### ALL SAMPLES\n",
    "# samples = [\"2505-1__20240404__003359\", \"2505-2__20240404__003359\", \"2670-1__20240404__003359\", \"3159-1__20240321__212855\",\n",
    "#            \"3160-1__20240321__212855\", \"3160-2__20240321__212855\",\"3159-2__20240530__205547\", \"3161-1__20240530__205547\",\n",
    "#           \"3159-3__20240530__205547\", \"3161-2__20240530__205547\",\"3159-4__20240530__205547\",\"3161-3__20240530__205547\"]\n",
    "\n",
    "# samples_ids = [\"2505-1\", \"2505-2\", \"2670-1\", \"3159-1\",\n",
    "#                \"3160-1\", \"3160-2\",\"3159-2\", \"3161-1\",\n",
    "#               \"3159-3\",\"3161-2\",\"3159-4\", \"3161-3\"\n",
    "#               ]\n",
    "# name_dir = 'all-samples'\n",
    "\n",
    "# samples = [\"CONTROLS\",\"GCA\"]\n",
    "# samples_ids = [\"CONTROLS\",\"GCA\"]\n",
    "# name_dir = \"Human-arteries\"\n",
    "\n",
    "samples = [\"Region1\"\n",
    "        #    ,\"Region2\",\"Region3\"\n",
    "           ]\n",
    "samples_ids = [\"Region1\"\n",
    "            #    ,\"Region2\",\"Region3\"\n",
    "               ]\n",
    "name_dir = \"MB_test\"\n"
   ]
  },
  {
   "cell_type": "markdown",
   "id": "4ce6ea78-93d2-48be-8b06-bab8f3dea046",
   "metadata": {},
   "source": [
    "# Data pre-processing"
   ]
  },
  {
   "cell_type": "markdown",
   "id": "6e1e18d6-8191-416f-b1b4-cfc829039268",
   "metadata": {},
   "source": [
    "## Import data from Xenium output"
   ]
  },
  {
   "cell_type": "code",
   "execution_count": null,
   "id": "577136b7-911f-45c8-ae96-43475feaf32d",
   "metadata": {
    "scrolled": true
   },
   "outputs": [],
   "source": [
    "### create a scanpy objects for each sample and create a unique cell name for each cell\n",
    "adatas = []\n",
    "for sample, sample_id in zip(samples, samples_ids):\n",
    "    adata = sc.read_10x_h5(f\"{dir}/{sample}/cell_feature_matrix.h5\")\n",
    "    df = pd.read_csv(f\"{dir}/{sample}/cells.csv.gz\")\n",
    "    df.set_index(adata.obs_names, inplace=True)\n",
    "    adata.obs = df.copy()\n",
    "    adata.obsm[\"spatial\"] = adata.obs[[\"x_centroid\", \"y_centroid\"]].copy().to_numpy()\n",
    "    adata.layers[\"counts\"] = adata.X.copy()\n",
    "    # sc.pp.calculate_qc_metrics(adata,  percent_top=(10, 20, 50, 150), inplace=True)\n",
    "    # sc.pp.filter_cells(adata, max_counts=1000) ## Possible filter to remove cells with too many transcripts\n",
    "    sc.pp.filter_cells(adata, min_counts=40) ## Filter cells with less than 40 transcripts\n",
    "    sc.pp.filter_genes(adata, min_cells=5) ## Filter genes expressed in less than 5 cells\n",
    "    adata.obs_names = [f\"{sample_id}_{cell_id}\" for cell_id in adata.obs_names]\n",
    "    adata.obs['cell_id'] = adata.obs_names\n",
    "    adatas.append(adata)\n",
    "    # adata.write(f\"{dir_notebook}/h5ad/{name_dir}/{name_dir}_{sample_id}_forMMC.h5ad\")\n",
    "    print(f\"Sample {sample} done\")\n",
    "print(f\"Read all {len(samples)} samples\")\n",
    "\n",
    "### merge all the anndata objects into a single object\n",
    "adata = adatas[0].concatenate(adatas[1:], index_unique=None)\n",
    "\n",
    "### Add a sample column to the metadata\n",
    "adata.obs['sample'] = adata.obs_names.map(lambda name: name.split('_')[0])\n",
    "# samples = adata.obs['sample'].unique()\n",
    "\n",
    "del df, adatas"
   ]
  },
  {
   "cell_type": "code",
   "execution_count": null,
   "id": "ed46de59-cdb8-4650-bf4e-8064a661d126",
   "metadata": {},
   "outputs": [],
   "source": [
    "## Add a sample column to the metadata\n",
    "adata.obs['sample'] = adata.obs_names.map(lambda name: name.split('_')[0])\n",
    "samples = adata.obs['sample'].unique()"
   ]
  },
  {
   "cell_type": "code",
   "execution_count": null,
   "id": "1728115e-c139-406c-9c36-7498e00b1351",
   "metadata": {},
   "outputs": [],
   "source": [
    "### Save h5df file for MMC processing\n",
    "if not os.path.exists(f\"{dir_notebook}/h5ad/{name_dir}/\"):\n",
    "   os.makedirs(f\"{dir_notebook}/h5ad/{name_dir}/\")\n",
    "# adata = adata[adata.obs['sample']=='circa2_ZT1']\n",
    "adata.write(f\"{dir_notebook}/h5ad/{name_dir}/{name_dir}_forMMC.h5ad\")\n",
    "# minimal.write(f\"{dir_notebook}/h5ad/{name_dir}/{name_dir}_forMMC.h5ad\")"
   ]
  },
  {
   "cell_type": "code",
   "execution_count": null,
   "id": "539b15d2-9553-45c1-ba3b-e1c5e80c3c2e",
   "metadata": {},
   "outputs": [],
   "source": [
    "# csv1 = pd.read_csv('/media/volume/data/spatial/hugo/notebook/Correlation_Mapping/circa1_ZT1_CorrelationMapping.csv', comment = '#')\n",
    "# csv2 = pd.read_csv('/media/volume/data/spatial/hugo/notebook/Correlation_Mapping/circa1_ZT59_CorrelationMapping.csv', comment = '#')\n",
    "# csv3 = pd.read_csv('/media/volume/data/spatial/hugo/notebook/Correlation_Mapping/circa1_ZTdark_CorrelationMapping.csv', comment = '#')\n",
    "# # csv4 = pd.read_csv('Correlation_Mapping/circa2-ZT13_CorrelationMapping.csv', comment = '#')\n",
    "# csv5 = pd.read_csv('Correlation_Mapping/circa2-ZT17_CorrelationMapping.csv', comment = '#')\n",
    "# csv6 = pd.read_csv('Correlation_Mapping/circa2-ZT21_CorrelationMapping.csv', comment = '#')\n",
    "# corr = pd.concat([csv1, csv2, csv3#, csv4, csv5, csv6\n",
    "#                   ], ignore_index=True)\n",
    "\n",
    "HC3_MMC = pd.read_csv(f\"{dir_notebook}/Correlation_Mapping/{name_dir}_CorrelationMapping.csv\",comment = \"#\")\n",
    "# HC3_MMC = corr\n",
    "HC3_MMC.index = HC3_MMC['cell_id']\n",
    "HC3_MMC.index.name = None\n",
    "HC3_MMC.columns = [f\"mmc:{i}\" for i in HC3_MMC.columns]\n",
    "mmc_dict_class = dict(zip(HC3_MMC['mmc:cell_id'], HC3_MMC['mmc:class_name']))\n",
    "mmc_dict_classcoef = dict(zip(HC3_MMC['mmc:cell_id'], HC3_MMC['mmc:class_correlation_coefficient']))\n",
    "mmc_dict_subclass = dict(zip(HC3_MMC['mmc:cell_id'], HC3_MMC['mmc:subclass_name']))\n",
    "mmc_dict_supertype = dict(zip(HC3_MMC['mmc:cell_id'], HC3_MMC['mmc:supertype_name']))\n",
    "\n",
    "adata.obs['mmc:class_name'] = adata.obs['cell_id'].map(mmc_dict_class)\n",
    "adata.obs['mmc:class_correlation_coefficient'] = adata.obs['cell_id'].map(mmc_dict_classcoef)\n",
    "adata.obs['mmc:subclass_name'] = adata.obs['cell_id'].map(mmc_dict_subclass)\n",
    "adata.obs['mmc:supertype_name'] = adata.obs['cell_id'].map(mmc_dict_supertype)"
   ]
  },
  {
   "cell_type": "code",
   "execution_count": null,
   "id": "a282660a-1fb6-4726-a4d9-93df7a265a3c",
   "metadata": {
    "scrolled": true
   },
   "outputs": [],
   "source": [
    "\n",
    "if not os.path.exists(f\"h5ad/{name_dir}/\"):\n",
    "   os.makedirs(f\"h5ad/{name_dir}/\")\n",
    "adata.write(f\"h5ad/{name_dir}/{name_dir}_MMC.h5ad.gz\", compression='gzip')"
   ]
  },
  {
   "cell_type": "code",
   "execution_count": null,
   "id": "e7dab523",
   "metadata": {},
   "outputs": [],
   "source": [
    "adata = sc.read_h5ad(f\"h5ad/{name_dir}/{name_dir}_MMC.h5ad.gz\")"
   ]
  },
  {
   "cell_type": "markdown",
   "id": "70630955-c2c2-45f5-ac7e-5ee251757838",
   "metadata": {},
   "source": [
    "## Compute quality metrics"
   ]
  },
  {
   "cell_type": "code",
   "execution_count": null,
   "id": "c6c30815-18c5-430a-a9e8-6ecdf10f3b2c",
   "metadata": {},
   "outputs": [],
   "source": [
    "sc.pp.calculate_qc_metrics(adata,  percent_top=(10, 20, 50, 150), inplace=True)"
   ]
  },
  {
   "cell_type": "code",
   "execution_count": null,
   "id": "fb7d597c-5dc3-4ae1-9af0-bcc403a28949",
   "metadata": {
    "scrolled": true
   },
   "outputs": [],
   "source": [
    "cprobes = (adata.obs[\"control_probe_counts\"].sum() / adata.obs[\"total_counts\"].sum() * 100)\n",
    "cwords = (adata.obs[\"control_codeword_counts\"].sum() / adata.obs[\"total_counts\"].sum() * 100)\n",
    "print(f\"Negative DNA probe count % : {cprobes}\")\n",
    "print(f\"Negative decoding count % : {cwords}\")"
   ]
  },
  {
   "cell_type": "code",
   "execution_count": null,
   "id": "3697af8b-b24c-4cf1-8287-b09bd2161f93",
   "metadata": {
    "scrolled": true
   },
   "outputs": [],
   "source": [
    "fig, axs = plt.subplots(1, 4, figsize=(15, 3))\n",
    "\n",
    "axs[0].set_title(\"Total transcripts per cell\")\n",
    "sns.histplot(adata.obs[\"total_counts\"],kde=True,ax=axs[0])\n",
    "\n",
    "axs[1].set_title(\"Unique transcripts per cell\")\n",
    "sns.histplot(adata.obs[\"n_genes_by_counts\"],kde=True,ax=axs[1])\n",
    "\n",
    "axs[2].set_title(\"Area of segmented cells\")\n",
    "sns.histplot(adata.obs[\"cell_area\"], kde=True, ax=axs[2])\n",
    "\n",
    "axs[3].set_title(\"Nucleus ratio\")\n",
    "sns.histplot(adata.obs[\"nucleus_area\"] / adata.obs[\"cell_area\"], kde=True,ax=axs[3])\n",
    "\n",
    "if not os.path.exists(f\"{dir_notebook}/plot/{name_dir}/\"):\n",
    "   os.makedirs(f\"{dir_notebook}/plot/{name_dir}/\")\n",
    "plt.savefig(f\"{dir_notebook}/plot/{name_dir}/{name_dir}_quality-metrics.svg\")"
   ]
  },
  {
   "cell_type": "markdown",
   "id": "17b93527-326f-4392-9421-393fd773714e",
   "metadata": {},
   "source": [
    "## Normalize"
   ]
  },
  {
   "cell_type": "code",
   "execution_count": null,
   "id": "8903607b-782b-41fc-8a7d-170745a0955a",
   "metadata": {},
   "outputs": [],
   "source": [
    "### Normalize, log1p, scale, PCA, and UMAP\n",
    "start_time = datetime.now()\n",
    "print_with_elapsed_time(f\"Start\")\n",
    "adata.layers[\"counts\"] = adata.X.copy()\n",
    "sc.pp.normalize_total(adata, inplace=True)\n",
    "print_with_elapsed_time(f\"Normalize done\")\n",
    "sc.pp.log1p(adata)\n",
    "print_with_elapsed_time(f\"log1p done\")\n",
    "sc.pp.pca(adata)\n",
    "sc.pp.neighbors(adata)\n",
    "sc.tl.umap(adata)"
   ]
  },
  {
   "cell_type": "code",
   "execution_count": null,
   "id": "d66ba246",
   "metadata": {},
   "outputs": [],
   "source": [
    "sc.tl.leiden(adata, resolution = 0.4)"
   ]
  },
  {
   "cell_type": "code",
   "execution_count": null,
   "id": "44190d67-f02d-4b8b-9c11-6df5d298fa28",
   "metadata": {},
   "outputs": [],
   "source": [
    "if not os.path.exists(f\"h5ad/{name_dir}/\"):\n",
    "   os.makedirs(f\"h5ad/{name_dir}/\")\n",
    "adata.write(f\"h5ad/{name_dir}/{name_dir}_MMC_norm.h5ad.gz\", compression='gzip')"
   ]
  },
  {
   "cell_type": "code",
   "execution_count": null,
   "id": "2b3780dc-5ad8-46bc-b312-d6118cfbe03f",
   "metadata": {},
   "outputs": [],
   "source": [
    "adata = sc.read_h5ad(f\"h5ad/{name_dir}/{name_dir}_MMC_norm.h5ad.gz\")\n",
    "# adata = sc.read_h5ad(f\"{dir_notebook}/h5ad/{name_dir}/sagittal_females_MMC_norm.h5ad\")\n",
    "# adata = sc.read_h5ad(f\"{dir_notebook}/h5ad/{name_dir}/sagittal_males_MMC_norm.h5ad\")"
   ]
  },
  {
   "cell_type": "code",
   "execution_count": null,
   "id": "e33e0cdd-2e3e-4148-bef4-bf2979c384f3",
   "metadata": {},
   "outputs": [],
   "source": [
    "# # #### Rename misplaced 2505-1 cells\n",
    "# to_rename = pd.read_csv(f\"/mnt/d/Xenium/to_change_for_2505-1_cells_stats_2670-1_resegment.csv\")\n",
    "\n",
    "# # # Create a dictionary to map old values to new values\n",
    "# mapping_dict = dict(zip(to_rename['old_name'], to_rename['new_name']))\n",
    "\n",
    "# # # Use .map() function to rename cell contents in 'col1' based on mapping dictionary\n",
    "# adata.obs['cell_id'] = adata.obs['cell_id'].apply(lambda x: mapping_dict[x] if x in mapping_dict else x)\n",
    "\n",
    "# adata.obs['sample'] = adata.obs['cell_id'].apply(lambda name: name.split('_')[0])"
   ]
  },
  {
   "cell_type": "code",
   "execution_count": null,
   "id": "1e26bb46-7f1c-4911-b292-76e396abd0e0",
   "metadata": {},
   "outputs": [],
   "source": [
    "adata.obs_names = adata.obs['cell_id']"
   ]
  },
  {
   "cell_type": "code",
   "execution_count": null,
   "id": "d1628749-c4b6-4e26-af43-b27e340908f7",
   "metadata": {},
   "outputs": [],
   "source": [
    "adata.shape"
   ]
  },
  {
   "cell_type": "code",
   "execution_count": null,
   "id": "011cef20-5734-41f4-8ee5-ed1b208c770c",
   "metadata": {
    "scrolled": true
   },
   "outputs": [],
   "source": [
    "# Create a normalised datamatrix for saving to disk as a csv file - rows are cells, columns are genes\n",
    "df = pd.DataFrame(data=adata.X.toarray(), index=adata.obs_names, columns=adata.var_names)\n",
    "df.shape\n",
    "\n",
    "### Extract normalized expression and clusters for individual cells\n",
    "if not os.path.exists(f\"{dir_notebook}/csv/{name_dir}/\"):\n",
    "   os.makedirs(f\"{dir_notebook}/csv/{name_dir}/\")\n",
    "df.to_csv(f\"{dir_notebook}/csv/{name_dir}/{name_dir}_normalized_counts.csv.gz\",\n",
    "         compression={'method': 'gzip'})\n",
    "adata.obs.to_csv(f\"{dir_notebook}/csv/{name_dir}/{name_dir}_MMC_norm.csv\")"
   ]
  },
  {
   "cell_type": "code",
   "execution_count": null,
   "id": "35df3f77",
   "metadata": {},
   "outputs": [],
   "source": [
    "adata.var"
   ]
  },
  {
   "cell_type": "code",
   "execution_count": null,
   "id": "b92bba68-f171-4bac-8289-d0cf0c1162f4",
   "metadata": {},
   "outputs": [],
   "source": [
    "# adata.obs.loc[\n",
    "#     (adata.obs['sample'] == '2505-1') & \n",
    "#     (adata.obs['y_centroid'] < 325) & \n",
    "#     (adata.obs['x_centroid'] < 5600), \n",
    "#     'y_centroid'\n",
    "# ] += 5800"
   ]
  },
  {
   "cell_type": "markdown",
   "id": "cf21a7d1-0af0-49f5-a1dc-e952a74419ea",
   "metadata": {},
   "source": [
    "# Banksy"
   ]
  },
  {
   "cell_type": "markdown",
   "id": "cd2e6391-4dc7-467b-a623-e2f1760e2441",
   "metadata": {},
   "source": [
    "## Pre-processing"
   ]
  },
  {
   "cell_type": "code",
   "execution_count": null,
   "id": "b8ecb3f9",
   "metadata": {},
   "outputs": [],
   "source": [
    "from banksy_utils.load_data import load_adata, display_adata ### is it useful?\n",
    "from banksy_utils.plot_utils import plot_qc_hist, plot_cell_positions\n",
    "from banksy_utils.filter_utils import normalize_total, filter_hvg, print_max_min\n",
    "from banksy.main import median_dist_to_nearest_neighbour\n",
    "from banksy.initialize_banksy import initialize_banksy\n",
    "from banksy.embed_banksy import generate_banksy_matrix\n",
    "from banksy.main import concatenate_all"
   ]
  },
  {
   "cell_type": "code",
   "execution_count": null,
   "id": "7e277b45",
   "metadata": {},
   "outputs": [],
   "source": [
    "adata, adata_allgenes = filter_hvg(\n",
    "    adata,\n",
    "    n_top_genes=2000,\n",
    "    flavor=\"seurat\"\n",
    ")\n",
    "\n"
   ]
  },
  {
   "cell_type": "code",
   "execution_count": null,
   "id": "81ebfdac",
   "metadata": {},
   "outputs": [],
   "source": [
    "adata.obs['sample']"
   ]
  },
  {
   "cell_type": "code",
   "execution_count": null,
   "id": "826324d2-3019-4809-8ae6-0e901823af70",
   "metadata": {},
   "outputs": [],
   "source": [
    "from banksy_utils.load_data import load_adata, display_adata ### is it useful?\n",
    "from banksy_utils.plot_utils import plot_qc_hist, plot_cell_positions\n",
    "from banksy_utils.filter_utils import normalize_total, filter_hvg, print_max_min\n",
    "from banksy.main import median_dist_to_nearest_neighbour\n",
    "from banksy.initialize_banksy import initialize_banksy\n",
    "from banksy.embed_banksy import generate_banksy_matrix\n",
    "from banksy.main import concatenate_all\n",
    "\n",
    "samples_banksy = adata.obs['sample'].unique()\n",
    "\n",
    "adatas = []\n",
    "norm = []\n",
    "\n",
    "for sample_to_run in samples_banksy:\n",
    "    ### Choose the sample to work with\n",
    "    sample_for_banksy = sample_to_run\n",
    "    ###\n",
    "    adata_banksy = adata[adata.obs['sample'] == sample_for_banksy]\n",
    "    \n",
    "    file_path = os.path.join(\"Banksy_py\", \"data\", \"slide_seq\", \"v1\")\n",
    "    \n",
    "    raw_y = adata_banksy.obs['y_centroid']\n",
    "    raw_x = adata_banksy.obs['x_centroid']\n",
    "    \n",
    "    # Keys to specify coordinate indexes in the anndata Object\n",
    "    coord_keys = ('xcoord', 'ycoord', 'coord_xy')\n",
    "    \n",
    "    adata_banksy.obsm[\"coord_xy\"] = adata_banksy.obs[[\"x_centroid\", \"y_centroid\"]].copy().to_numpy()\n",
    "    adata_banksy.obs['ycoord'] = raw_y\n",
    "    adata_banksy.obs['xcoord'] = raw_x\n",
    "    #display_adata(adata)\n",
    "    \n",
    "    # Visualize cell positions in the puck\n",
    "    plot_cell_positions(adata_banksy,\n",
    "                raw_x,\n",
    "                raw_y,\n",
    "                coord_keys=coord_keys,\n",
    "                fig_size = (12,12))\n",
    "    \n",
    "    # set params\n",
    "    # ==========\n",
    "    plot_graph_weights = True\n",
    "    k_geom = 15 # only for fixed type\n",
    "    max_m = 1 # azumithal transform up to kth order\n",
    "    nbr_weight_decay = \"scaled_gaussian\" # can also be \"reciprocal\", \"uniform\" or \"ranked\"\n",
    "    \n",
    "    # Find median distance to closest neighbours, the median distance will be `sigma`\n",
    "    nbrs = median_dist_to_nearest_neighbour(adata_banksy, key = coord_keys[2])\n",
    "    \n",
    "    ###  Generate spatial weights from distance\n",
    "    banksy_dict = initialize_banksy(\n",
    "        adata_banksy,\n",
    "        coord_keys,\n",
    "        k_geom,\n",
    "        nbr_weight_decay=nbr_weight_decay,\n",
    "        max_m=max_m,\n",
    "        plt_edge_hist=False,\n",
    "        plt_nbr_weights=False,\n",
    "        plt_agf_angles=False, # takes long time to plot\n",
    "        plt_theta=False,\n",
    "    )\n",
    "    \n",
    "    ### Generate Banksy Matrix\n",
    "    # The following are the main hyperparameters for BANKSY\n",
    "    resolutions = [0.7] # clustering resolution for UMAP\n",
    "    pca_dims = [20] # Dimensionality in which PCA reduces to\n",
    "    lambda_list = [0.2] # list of lambda parameters\n",
    "    \n",
    "    banksy_dict, banksy_matrix = generate_banksy_matrix(adata_banksy, banksy_dict, lambda_list, max_m)\n",
    "    \n",
    "    ### Append Non-spatial results to the banksy_dict for comparsion\n",
    "    banksy_dict[\"nonspatial\"] = {\n",
    "        # Here we simply append the nonspatial matrix (adata.X) to obtain the nonspatial clustering results\n",
    "        0.0: {\"adata\": concatenate_all([adata_banksy.X], 0, adata=adata_banksy), }\n",
    "    }\n",
    "    \n",
    "    # print(banksy_dict['nonspatial'][0.0]['adata'])\n",
    "\n",
    "    adata_sample = banksy_dict['scaled_gaussian'][0.2]['adata']\n",
    "    adatas.append(adata_sample)\n",
    "\n",
    "    norm_ = banksy_dict['scaled_gaussian']['norm_counts_concatenated']\n",
    "    norm = sparse.vstack((norm, norm_))\n",
    "\n",
    "adata = adatas[0].concatenate(adatas[1:], index_unique=None)\n",
    "\n",
    "banksy_dict['scaled_gaussian'][0.2]['adata'] = adata\n",
    "banksy_dict['scaled_gaussian']['norm_counts_concatenated'] = norm\n",
    "\n",
    "del adata, norm, norm_, adata_sample\n",
    "import gc\n",
    "gc.collect()\n",
    "\n",
    "print('dict done, start saving')\n",
    "\n",
    "if not os.path.exists(f\"dict\"):\n",
    "   os.makedirs(f\"dict\")\n",
    "\n",
    "with open(f'dict/banksy_dict_{name_dir}.pkl', 'wb') as f: \n",
    "    pickle.dump(banksy_dict, f)"
   ]
  },
  {
   "cell_type": "code",
   "execution_count": null,
   "id": "2fda9cc7",
   "metadata": {},
   "outputs": [],
   "source": [
    "import gc\n",
    "gc.collect()"
   ]
  },
  {
   "cell_type": "code",
   "execution_count": null,
   "id": "2f18e51c-0666-4dd5-bc01-244b7b637b84",
   "metadata": {
    "scrolled": true
   },
   "outputs": [],
   "source": [
    "### Reduce dimensions of each data matrix\n",
    "from banksy_utils.umap_pca import pca_umap\n",
    "resolutions = [0.7] # clustering resolution for UMAP\n",
    "pca_dims = [20] # Dimensionality in which PCA reduces to\n",
    "lambda_list = [0.2] # list of lambda parameters\n",
    "\n",
    "start_time = datetime.now()\n",
    "print_with_elapsed_time(f\"Start\")\n",
    "pca_umap(banksy_dict,\n",
    "         pca_dims = pca_dims,\n",
    "         add_umap = True,\n",
    "         plt_remaining_var = False,\n",
    "         )\n",
    "print_with_elapsed_time(f\"End\")"
   ]
  },
  {
   "cell_type": "code",
   "execution_count": null,
   "id": "dc6c1bea",
   "metadata": {},
   "outputs": [],
   "source": [
    "if not os.path.exists(f\"dict\"):\n",
    "   os.makedirs(f\"dict\")\n",
    "\n",
    "with open(f'dict/banksy_dict_{name_dir}_dimred.pkl', 'wb') as f: \n",
    "    pickle.dump(banksy_dict, f)"
   ]
  },
  {
   "cell_type": "code",
   "execution_count": null,
   "id": "73957143",
   "metadata": {},
   "outputs": [],
   "source": [
    "with open(f'dict/banksy_dict_{name_dir}_dimred.pkl', 'rb') as f:\n",
    "    banksy_dict = pickle.load(f)"
   ]
  },
  {
   "cell_type": "markdown",
   "id": "7f23f023-2478-4504-a016-4bbc3cc6aca0",
   "metadata": {},
   "source": [
    "## Clustering (might take a while)"
   ]
  },
  {
   "cell_type": "code",
   "execution_count": null,
   "id": "d8de2fec-21ba-4828-b0bc-038904888952",
   "metadata": {
    "scrolled": true
   },
   "outputs": [],
   "source": [
    "### Cluster cells using a partition algorithm\n",
    "from banksy.cluster_methods import run_Leiden_partition\n",
    "start_time = datetime.now()\n",
    "print_with_elapsed_time(f\"Start\")\n",
    "\n",
    "results_df, max_num_labels = run_Leiden_partition(\n",
    "    banksy_dict,\n",
    "    resolutions,\n",
    "    num_nn = 50,\n",
    "    num_iterations = -1,\n",
    "    partition_seed = seed,\n",
    "    match_labels = False,\n",
    ")\n",
    "print_with_elapsed_time(f\"End\")"
   ]
  },
  {
   "cell_type": "code",
   "execution_count": null,
   "id": "73cc8756",
   "metadata": {},
   "outputs": [],
   "source": [
    "import numpy\n",
    "max_num_labels = numpy.load(f'dict/max_num_labels.npy')\n",
    "\n",
    "with open(f'dict/banksy_dict_{name_dir}_results_df.pkl', 'rb') as f:\n",
    "    results_df = pickle.load(f)\n",
    "\n",
    "with open(f'dict/banksy_dict_{name_dir}_dimred.pkl', 'rb') as f:\n",
    "    banksy_dict = pickle.load(f)"
   ]
  },
  {
   "cell_type": "code",
   "execution_count": null,
   "id": "c5652462",
   "metadata": {},
   "outputs": [],
   "source": [
    "coord_keys = ('xcoord', 'ycoord', 'coord_xy')\n",
    "file_path = os.path.join(\"Banksy_py\", \"data\", \"slide_seq\", \"v1\")\n",
    "c_map =  'tab20b' # specify color map\n",
    "weights_graph =  banksy_dict['scaled_gaussian']['weights'][0]\n",
    "\n",
    "for params_name in results_df.index:\n",
    "\n",
    "    label_index = 'labels'\n",
    "\n",
    "    labels = results_df.loc[params_name, label_index]\n",
    "    adata_temp = results_df.loc[params_name, \"adata\"]\n",
    "    num_pcs = results_df.loc[params_name, 'num_pcs']\n",
    "\n",
    "    pc_temp = adata_temp.obsm[f\"reduced_pc_{num_pcs}\"]\n",
    "    umap_temp = adata_temp.obsm[f\"reduced_pc_{num_pcs}_umap\"]\n",
    "\n",
    "    label_name = f\"labels_{params_name}\"\n",
    "    adata_temp.obs[label_name] = np.char.mod('%d', labels.dense)\n",
    "    adata_temp.obs[label_name] = adata_temp.obs[label_name].astype('category')\n",
    "\n",
    "    adata_temp.obsm[coord_keys[2]] = np.vstack(\n",
    "        (adata_temp.obs[coord_keys[0]].values,\n",
    "            adata_temp.obs[coord_keys[1]].values)\n",
    "    ).T"
   ]
  },
  {
   "cell_type": "code",
   "execution_count": null,
   "id": "7be82b4f-d0ef-47ca-ab95-ef6a05abe705",
   "metadata": {
    "scrolled": true
   },
   "outputs": [],
   "source": [
    "### Visualize the clustering results from BANKSY, including the clusters from the Umap embeddings\n",
    "### Need to figure a way to save the figures with different names everytime. Probably to look into plot_results\n",
    "from banksy.plot_banksy import plot_results\n",
    "\n",
    "coord_keys = ('xcoord', 'ycoord', 'coord_xy')\n",
    "file_path = os.path.join(\"Banksy_py\", \"data\", \"slide_seq\", \"v1\")\n",
    "c_map =  'tab20b' # specify color map\n",
    "weights_graph =  banksy_dict['scaled_gaussian']['weights'][0]\n",
    "\n",
    "# plot_results(\n",
    "#     results_df,\n",
    "#     weights_graph,\n",
    "#     c_map,\n",
    "#     match_labels = False,\n",
    "#     coord_keys = coord_keys,\n",
    "#     max_num_labels  =  max_num_labels, \n",
    "#     save_path = os.path.join(file_path, 'tmp_png'),\n",
    "#     save_fig = False, # save the spatial map of all clusters\n",
    "#     save_seperate_fig = False, # save the figure of all clusters plotted seperately\n",
    "# )"
   ]
  },
  {
   "cell_type": "code",
   "execution_count": null,
   "id": "f4fec768-16a8-461d-9141-f461adf63bc0",
   "metadata": {
    "scrolled": true
   },
   "outputs": [],
   "source": [
    "### save the results into two adata file (spatial and non-spatial)\n",
    "\n",
    "from banksy_utils.cluster_utils import pad_clusters, create_spatial_nonspatial_adata, refine_cell_types\n",
    "\n",
    "# Here we manually assign clusters to their identity using a dictionary\n",
    "cluster2annotation_spatial = {}\n",
    "pad_clusters(cluster2annotation_spatial, list(range(max_num_labels)))\n",
    "cluster2annotation_nonspatial = {}\n",
    "print(cluster2annotation_spatial,\"\\n\", cluster2annotation_nonspatial)\n",
    "\n",
    "lambda_list = [0.2] # list of lambda parameters\n",
    "pca_dims = [20] # Dimensionality in which PCA reduces to\n",
    "resolutions = [0.7]\n",
    "\n",
    "# save annotations in two different anndata objects (adata_spatial and adata_nonspatial)\n",
    "adata_spatial, adata_nonspatial = create_spatial_nonspatial_adata(results_df,\n",
    "                                    pca_dims,\n",
    "                                    lambda_list, \n",
    "                                    resolutions,\n",
    "                                    cluster2annotation_spatial,\n",
    "                                    cluster2annotation_nonspatial\n",
    "                                                                 )"
   ]
  },
  {
   "cell_type": "markdown",
   "id": "bd05e5df-bbd5-4e3d-a1fb-fee08a73a470",
   "metadata": {},
   "source": [
    "## Initial annotation"
   ]
  },
  {
   "cell_type": "code",
   "execution_count": null,
   "id": "7f6f3157-741c-4937-a993-0ca23ac03b60",
   "metadata": {},
   "outputs": [],
   "source": [
    "### Correlation map of subclusters\n",
    "cont_tab = pd.crosstab(adata_spatial.obs['labels_scaled_gaussian_pc20_nc0.20_r0.70'], adata_spatial.obs['mmc:class_name'], normalize=\"index\")\n",
    "cont_tab = cont_tab.loc[:, cont_tab.sum(axis=0) > 0.1] \n",
    "plt.figure(figsize=(20, 15))\n",
    "sns.heatmap(cont_tab.T, annot=True, cmap=\"YlGnBu\", fmt=\".1f\", cbar = False)"
   ]
  },
  {
   "cell_type": "code",
   "execution_count": null,
   "id": "b82b67e7-070c-4b30-9dd4-8db00e8e0dbc",
   "metadata": {},
   "outputs": [],
   "source": [
    "### Correlation map of subclusters\n",
    "cont_tab = pd.crosstab(adata_spatial.obs['labels_scaled_gaussian_pc20_nc0.20_r0.70'], adata_spatial.obs['mmc:subclass_name'], normalize=\"index\")\n",
    "cont_tab = cont_tab.loc[:, cont_tab.sum(axis=0) > 0.05] \n",
    "\n",
    "plt.figure(figsize=(20, 60))\n",
    "sns.heatmap(cont_tab.T, annot=True, cmap=\"YlGnBu\", fmt=\".1f\", cbar = False)"
   ]
  },
  {
   "cell_type": "code",
   "execution_count": null,
   "id": "b0f3e214-3bd9-4d3a-bcc0-f0d88811e21c",
   "metadata": {},
   "outputs": [],
   "source": [
    "from banksy_utils.cluster_utils import pad_clusters, create_spatial_nonspatial_adata,  refine_cell_types\n",
    "\n",
    "# Here we manually assign clusters to their identity using a dictionary\n",
    "cluster2annotation_spatial = { \n",
    "    \"0\": \"CNU HYa GABA\", #\n",
    "    \"1\": \"L4 5 6 CTX\", #\n",
    "    \"2\": \"L6 CTX\", #\n",
    "    \"3\": \"STR D1D2\", #\n",
    "    \"4\": \"Endo\", #\n",
    "    \"5\": \"Oligo\", #\n",
    "    \"6\": \"Astro\", #\n",
    "    \"7\": \"Oligo\", #\n",
    "    \"8\": \"L2 3\", #\n",
    "    \"9\": \"Microglia\", #\n",
    "    \"10\": \"Astro Endo\", #\n",
    "    \"11\": \"Oligo\", #\n",
    "    \"12\": \"Astro\", #\n",
    "    \"13\": \"interneurons GABA\", #\n",
    "    \"14\": \"STR D1D2\", #\n",
    "    \"15\": \"Oligo\", #\n",
    "    \"16\": \"OPC\", #\n",
    "    \"17\": \"Ependymal\", #\n",
    "    \"18\": \"LSX\", #\n",
    "    \"19\": \"Peri\", #\n",
    "    \"20\": \"Astro\", #\n",
    "    \"21\": \"TRS BAC\", #\n",
    "    \"22\": \"Chor\", #\n",
    "    \"23\": \"SCH\", #\n",
    "    \"24\": \"\", #\n",
    "    \"25\": \"\", #\n",
    "    \"26\": \"\", #\n",
    "    \"27\": \"L5 ET CTX\", #\n",
    "    \"28\": \"Chor\", #\n",
    "    \"29\": \"SCH\", #\n",
    "    \"30\": \"L6 CT CTX\", #\n",
    "    \"31\": \"STR D1D2 Microglia\", #\n",
    "    \"32\": \"STR D1D2 OPC\", #\n",
    "    \"33\": \"STRv\", #\n",
    "    \"34\": \"L5 NP CTX\", #\n",
    "    \"35\": \"NLOT\", #\n",
    "    \"36\": \"PAL STR\", #\n",
    "    \"37\": \"AV\", #\n",
    "    \"38\": \"g\", #\n",
    "    \"39\": \"h\", #\n",
    "    \"40\": \"i\", #\n",
    "    \"41\": \"j\", #\n",
    "    \"42\": \"k\", #\n",
    "    \"43\": \"l\", #\n",
    "    \"44\": \"m\", #\n",
    "    \"45\": \"n\", #\n",
    "    \"46\": \"o\", #\n",
    "    \"47\": \"p\", #\n",
    "    \"48\": \"q\", #\n",
    "    \"49\": \"r\", #\n",
    "    \"50\": \"s\", #\n",
    "    \"51\": \"t\", #\n",
    "    \"52\": \"u\", #\n",
    "    \"53\": \"v\", #\n",
    "    \"54\": \"w\", #\n",
    "    \"55\": \"x\", #\n",
    "    \"56\": \"y\", #\n",
    "    \"57\": \"z\", #\n",
    "}\n",
    "\n",
    "# \n",
    "\n",
    "pad_clusters(cluster2annotation_spatial, list(range(max_num_labels)))\n",
    "\n",
    "adata_spatial, adata_nonspatial = create_spatial_nonspatial_adata(results_df,\n",
    "                                    pca_dims,\n",
    "                                    lambda_list, \n",
    "                                    resolutions,\n",
    "                                    cluster2annotation_spatial,\n",
    "                                    cluster2annotation_nonspatial\n",
    "                                                                 )"
   ]
  },
  {
   "cell_type": "code",
   "execution_count": null,
   "id": "b561d8d1-4691-4301-af20-c1262be02557",
   "metadata": {},
   "outputs": [],
   "source": [
    "adata_spatial.obs.index.name = None"
   ]
  },
  {
   "cell_type": "code",
   "execution_count": null,
   "id": "0059776a-7652-401d-a28e-09dbe469a482",
   "metadata": {},
   "outputs": [],
   "source": [
    "# adata_spatial.write(f\"{dir_notebook}/h5ad/{name_dir}/{name_dir}_{sample_for_banksy}_Banksy.h5ad.gz\", compression='gzip')"
   ]
  },
  {
   "cell_type": "markdown",
   "id": "5becf38a",
   "metadata": {},
   "source": [
    "### Automatic initial annotation"
   ]
  },
  {
   "cell_type": "code",
   "execution_count": null,
   "id": "73514502",
   "metadata": {},
   "outputs": [],
   "source": [
    "adata_spatial = adata"
   ]
  },
  {
   "cell_type": "code",
   "execution_count": null,
   "id": "53185019",
   "metadata": {},
   "outputs": [],
   "source": [
    "### Automatic initial annotation\n",
    "\n",
    "cont_tab = pd.crosstab(adata_spatial.obs['labels_scaled_gaussian_pc20_nc0.20_r0.70'], adata_spatial.obs['mmc:subclass_name'], normalize=\"index\")\n",
    "cont_tab_class = pd.crosstab(adata_spatial.obs['labels_scaled_gaussian_pc20_nc0.20_r0.70'], adata_spatial.obs['mmc:class_name'], normalize=\"index\")\n",
    "max_col_dict = cont_tab.T.idxmax(axis=0).to_dict()\n",
    "max_col_dict_class = cont_tab_class.T.idxmax(axis=0).to_dict()\n",
    "adata_spatial.obs['cell_type_auto'] = adata_spatial.obs['labels_scaled_gaussian_pc20_nc0.20_r0.70'].map(max_col_dict)\n",
    "adata_spatial.obs['cell_class_auto'] = adata_spatial.obs['labels_scaled_gaussian_pc20_nc0.20_r0.70'].map(max_col_dict_class)\n",
    "\n",
    "all_cell_type = adata_spatial.obs['cell_type_auto'].unique()\n",
    "list_cell_nb = range(0, len(all_cell_type))\n",
    "mapping_dict = dict(zip(all_cell_type,list_cell_nb))\n",
    "adata_spatial.obs['cell_type_newnum_auto'] = adata_spatial.obs['cell_type_auto'].map(mapping_dict)\n",
    "\n",
    "all_class_type = adata_spatial.obs['cell_class_auto'].unique()\n",
    "list_cell_nb = range(0, len(all_class_type))\n",
    "mapping_dict = dict(zip(all_class_type,list_cell_nb))\n",
    "adata_spatial.obs['cell_class_newnum_auto'] = adata_spatial.obs['cell_class_auto'].map(mapping_dict)\n",
    "\n",
    "mapping_dict"
   ]
  },
  {
   "cell_type": "markdown",
   "id": "b9eec4ef",
   "metadata": {},
   "source": [
    "### File save"
   ]
  },
  {
   "cell_type": "code",
   "execution_count": null,
   "id": "6e958e7b-8436-4384-b5bb-d4f29fb176af",
   "metadata": {
    "scrolled": true
   },
   "outputs": [],
   "source": [
    "if 'leiden_colors' in adata_spatial.obs:\n",
    "    adata_spatial.obs = adata_spatial.obs.drop(columns=['leiden_colors'])\n",
    "\n",
    "adata_spatial.write(f\"{dir_notebook}/h5ad/{name_dir}/{name_dir}_Banksy_combined.h5ad.gz\", compression='gzip')"
   ]
  },
  {
   "cell_type": "code",
   "execution_count": null,
   "id": "692b42ce-3be2-4f36-bdbf-e3bd49a17e4d",
   "metadata": {},
   "outputs": [],
   "source": [
    "adata_spatial"
   ]
  },
  {
   "cell_type": "code",
   "execution_count": null,
   "id": "0d5fde2d-3a3c-4f6d-999a-7b51611eb081",
   "metadata": {},
   "outputs": [],
   "source": [
    "adata_spatial = sc.read_h5ad(f\"{dir_notebook}/h5ad/{name_dir}/{name_dir}_Banksy_combined.h5ad.gz\")"
   ]
  },
  {
   "cell_type": "code",
   "execution_count": null,
   "id": "b3eed619",
   "metadata": {},
   "outputs": [],
   "source": [
    "adata_spatial.obs['sample'].unique()"
   ]
  },
  {
   "cell_type": "code",
   "execution_count": null,
   "id": "cbaa9eb9",
   "metadata": {},
   "outputs": [],
   "source": [
    "list_cluster = adata.obs['labels_scaled_gaussian_pc20_nc0.20_r0.70'].unique()"
   ]
  },
  {
   "cell_type": "markdown",
   "id": "01309f4f-9c40-4b93-8b65-821899c361b8",
   "metadata": {},
   "source": [
    "# Post-Banksy"
   ]
  },
  {
   "cell_type": "markdown",
   "id": "21e562fa-fd3e-4c18-b040-c4aea6542d6e",
   "metadata": {},
   "source": [
    "## Cluster check"
   ]
  },
  {
   "cell_type": "code",
   "execution_count": null,
   "id": "5f345a55-b188-482a-9366-8434ef31d4bc",
   "metadata": {},
   "outputs": [],
   "source": [
    "adata = sc.read_h5ad(f\"{dir_notebook}/h5ad/{name_dir}/{name_dir}_Banksy_combined.h5ad.gz\")"
   ]
  },
  {
   "cell_type": "code",
   "execution_count": null,
   "id": "105e7978-41f7-4a4a-97a9-900fbd1b081f",
   "metadata": {},
   "outputs": [],
   "source": [
    "# Generate new numbering base on unique 'cell type'\n",
    "# all_cell_type = adata.obs['cell type'].unique()\n",
    "# list_cell_nb = range(0, len(all_cell_type))\n",
    "# mapping_dict = dict(zip(all_cell_type,list_cell_nb))\n",
    "# adata.obs['cell_type_newnum'] = adata.obs['cell type'].map(mapping_dict)\n",
    "# mapping_dict\n",
    "\n",
    "# all_cell_type = adata.obs['cell_type_auto'].unique()\n",
    "# list_cell_nb = range(0, len(all_cell_type))\n",
    "# mapping_dict = dict(zip(all_cell_type,list_cell_nb))\n",
    "# adata.obs['cell_type_newnum_auto'] = adata.obs['cell_type_auto'].map(mapping_dict)\n",
    "# mapping_dict\n",
    "\n",
    "all_cell_type = adata.obs['cell_type_final'].unique()\n",
    "list_cell_nb = range(0, len(all_cell_type))\n",
    "mapping_dict = dict(zip(all_cell_type,list_cell_nb))\n",
    "adata.obs['cell_type_newnum_final'] = adata.obs['cell_type_final'].map(mapping_dict)\n",
    "mapping_dict"
   ]
  },
  {
   "cell_type": "code",
   "execution_count": null,
   "id": "95600405-89fc-4572-9987-abaa5f51be2d",
   "metadata": {
    "scrolled": true
   },
   "outputs": [],
   "source": [
    "# adata.obs.groupby('cell type')['cell type'].count()\n",
    "adata.obs.groupby('cell_type_final')['cell_type_final'].count().sort_values()"
   ]
  },
  {
   "cell_type": "code",
   "execution_count": null,
   "id": "16092dd5-0748-494c-8b89-8e5e5930922d",
   "metadata": {},
   "outputs": [],
   "source": [
    "### Check clusters one by one to see if they are present in all sample and which would need subclustering\n",
    "\n",
    "# cluster_to_use = 'cell_type_newnum_auto'\n",
    "# cluster_to_use = 'cell_type_newnum_auto_sub'\n",
    "cluster_to_use = 'cell_type_newnum_final'\n",
    "\n",
    "### Generate a color palette for the clusters - to make color stay consistent across samples\n",
    "adata.obs[cluster_to_use] = adata.obs[cluster_to_use].astype(str)\n",
    "\n",
    "# Create a palette with a unique color for each cluster\n",
    "num_clusters = len(adata.obs[cluster_to_use].astype(int).unique())\n",
    "palette = sns.color_palette(\"tab20b\", n_colors=num_clusters +1)\n",
    "\n",
    "# Map each 'leiden' value to a color\n",
    "adata.obs['leiden_colors'] = adata.obs[cluster_to_use].astype(int).apply(lambda x: palette[x])\n",
    "\n",
    "# Map all cells\n",
    "fig, axs = plt.subplots(4,3,figsize=(21, 18))\n",
    "axs = axs.flatten()\n",
    "clusters_plot = {\"\":'black', ### For VLMC\n",
    "    # '0': 'lightcoral', \"1\" : 'forestgreen', '2':'red', \"3\":'purple', \"4\":\"yellow\",\n",
    "    # '5': 'lightcoral', \"6\" : 'forestgreen', \"7\":'red', \"8\":'purple', \"9\":\"yellow\"\n",
    "    # '10': 'lightcoral',\"11\": 'forestgreen', '12':'red', \"13\":'purple', \"14\":\"yellow\", \"15\": \"blue\",\n",
    "    # '16': 'lightcoral',\"17\": 'forestgreen', '18':'red', \"19\":'purple', \"20\":\"yellow\"\n",
    "    # '21': 'lightcoral',\"22\": 'forestgreen', '23':'red', \"\":'purple', \"\":\"yellow\",\n",
    "    # '24': 'lightcoral',\"25\": 'forestgreen', '26':'red', \"27\":'purple', \"28\":\"yellow\",\n",
    "    # '29': 'lightcoral',\"30\": 'forestgreen', '31':'red', \"32\":'purple', \"33\":\"yellow\",\n",
    "    # '34': 'lightcoral',\"35\": 'forestgreen', '36':'red', \"37\":'purple', \"38\":\"yellow\", \"39\": \"blue\",\n",
    "    # '40': 'lightcoral',\"41\": 'forestgreen', '42':'red', \"43\":'purple', \"44\":\"yellow\", \"45\": \"blue\",\n",
    "    # '46': 'lightcoral',\"47\": 'forestgreen', '48':'red', \"49\":'purple', \"50\":\"orange\", \"51\": \"blue\",\n",
    "    # '52': 'lightcoral',\"53\": 'forestgreen', '54':'red', \"55\":'purple', \"56\":\"yellow\", \"57\": \"blue\",\n",
    "    # '58': 'lightcoral',\"59\": 'forestgreen', '60':'red', \"61\":'purple', \"62\":\"yellow\", \"63\": \"blue\",\n",
    "    # '64': 'lightcoral',\"65\": 'forestgreen', '66':'red', \"67\":'purple', \"68\":\"yellow\", \"69\": \"blue\",\n",
    "    # '70': 'lightcoral',\"71\": 'forestgreen', '72':'red', \"73\":'purple', \"74\":\"yellow\", \"75\": \"blue\",\n",
    "    # '76': 'lightcoral',\"77\": 'forestgreen', '78':'red', \"79\":'purple', \"80\":\"yellow\", \"81\": \"blue\",\n",
    "    # '82': 'lightcoral',\"83\": 'forestgreen', '84':'red', \"85\":'purple', \"86\":\"orange\", \"87\": \"blue\",\n",
    "    # '88': 'lightcoral',\"89\": 'forestgreen', '90':'red', \"91\":'purple', \"92\":\"yellow\", \"93\": \"blue\",\n",
    "    # '94': 'lightcoral',\"95\": 'forestgreen', '96':'red', \"97\":'purple', \"98\":\"yellow\", \"99\": \"blue\",\n",
    "    # '100':'lightcoral',\"101\": 'forestgreen', '102':'red', \"103\":'purple', \"104\":\"yellow\", \"105\": \"blue\",\n",
    "\n",
    "\n",
    "    '': 'lightcoral',\"\": 'forestgreen', '18':'red', \"\":'purple', \"\":\"orange\",'':'blue',\n",
    "    # '59': 'lightcoral',\"60\": 'forestgreen', '64':'red', \"65\":'purple', \"61\":\"yellow\",\n",
    "}\n",
    "\n",
    "for idx, sample in enumerate(samples_ids):\n",
    "    adata_sel = adata[(adata.obs['sample'] == sample)]\n",
    "    for cluster_id in adata_sel.obs[cluster_to_use].unique():\n",
    "        cluster_data = adata_sel.obs[adata_sel.obs[cluster_to_use] == cluster_id]\n",
    "        colors = clusters_plot[cluster_id] if cluster_id in clusters_plot else \"none\" ### for selected clusters in cluster_plot\n",
    "        # colors = cluster_data['leiden_colors'].unique()[0] ### uncomment for all clusters\n",
    "        axs[idx].scatter(cluster_data['x_centroid'], cluster_data['y_centroid'], color=colors, s=0.1, label=cluster_id)\n",
    "        axs[idx].set_title(f\"Sample {sample}\")\n",
    "\n",
    "del adata_sel"
   ]
  },
  {
   "cell_type": "code",
   "execution_count": null,
   "id": "dfe7492b-b2ad-4e7b-b2de-6e1d2ad02d5e",
   "metadata": {},
   "outputs": [],
   "source": [
    "from matplotlib.pyplot import rc_context\n",
    "with rc_context({\"figure.figsize\": (10, 10)}):\n",
    "    sc.pl.umap(\n",
    "        adata,\n",
    "        color=\"cell_type_auto\",\n",
    "        add_outline=True,\n",
    "        legend_loc=\"on data\",\n",
    "        legend_fontsize=12,\n",
    "        legend_fontoutline=2,\n",
    "        frameon=False,\n",
    "        title=\"clustering of cells\",\n",
    "        palette=\"tab20\",\n",
    "    )"
   ]
  },
  {
   "cell_type": "code",
   "execution_count": null,
   "id": "2ad5e3d8-b70c-4b85-b97d-7dd87cd29b72",
   "metadata": {},
   "outputs": [],
   "source": [
    "# To rename a cell type in case of typo or mistakes (easier than re-running)\n",
    "rename_subclass = {\n",
    "\"L2 3 IT CTX\" : 'L2 3 CTX',          \n",
    "'L2 3 IT ENT': 'L2 3 CTX',          \n",
    "'L2 3 IT PIR ENTI' : 'L2 3 CTX',\n",
    "'L4 5 IT CTX' : 'L4 5 CTX',\n",
    "'L5 ET CTX': 'L5 CTX',\n",
    "'L5 IT CTX' : 'L5 CTX',            \n",
    "'L5 NP CTX' : 'L5 CTX',            \n",
    "'L6 CT CTX' : 'L6 CTX',           \n",
    "'L6 IT CTX' : 'L6 CTX',          \n",
    "}\n",
    "                  \n",
    "adata.obs['cell type'] = adata.obs['cell type'].apply(lambda x: rename_subclass[x] if x in rename_subclass else x)\n",
    "adata.obs['cell type'].unique()"
   ]
  },
  {
   "cell_type": "code",
   "execution_count": null,
   "id": "1a79c369-8a8a-490b-b37a-59eaf91828bd",
   "metadata": {},
   "outputs": [],
   "source": [
    "# To rename a cell type in case of typo or mistakes (easier than re-running)\n",
    "rename_subclass = {'L4/5 IT CTX': 'L4 5 IT CTX',\n",
    "                   'L2/3 IT CTX': 'L2 3 IT CTX',\n",
    "                   'CA1-ProS':  'CA1 ProS',\n",
    "                   'STN-PSTN': 'STN PSTN',\n",
    "                   'SUB-ProS': 'SUB ProS',\n",
    "                   'L2/3 IT RSP': 'L2 3 IT RSP',\n",
    "                   'L2/3 UT RSP': 'L2 3 IT RSP',\n",
    "                   'L2/3 IT ENT': 'L2 3 IT ENT',\n",
    "                   'L5/6 IT TPE-ENT': 'L5 6 IT TPE ENT',\n",
    "                   'CLA-EPd-CTX': 'CLA EPd CTX',\n",
    "                   'STR D1/D2': 'STR D1D2 GABA',\n",
    "                   'STR D1/D2 GABA': 'STR D1D2 GABA',\n",
    "                   'L2/3 IT PIR-ENTI': 'L2 3 IT PIR ENTI',\n",
    "                   'L2/3 PIR-ENTI': 'L2 3 IT PIR ENTI',\n",
    "                   'L2 3 IT PIR-ENTI': 'L2 3 IT PIR ENTI',\n",
    "                   'Pvalb-Sst GABA': 'interneurons GABA',\n",
    "                   'L4/5 IT CTX': 'L4 5 IT CTX',\n",
    "                   'MEA-BST GABA': 'MEA BST GABA',\n",
    "                   'TRS-BAC Glut': 'TRS BAC Glut',\n",
    "                   'STR-PAL GABA': 'STR PAL GABA',\n",
    "                   'PAL-STR GABA-Chol': 'PAL STR GABA Chol',\n",
    "                   'RT-ZI Glut': 'RT ZI Glut',\n",
    "                   'CLA-EPd-CTX Glut':  'CLA EPd CTX Glut',\n",
    "                   'RT-ZI': 'RT ZI',\n",
    "                   'CA1-ProS': 'CA1 ProS',\n",
    "                   'Chor':'CHOR',\n",
    "                   'L2/3 IT':  'L2 3 IT',\n",
    "                   'L2/3 IT CTX': 'L2 3 IT CTX',\n",
    "                   'Pvalb-Sst': 'interneurons GABA',\n",
    "                   'IT EP-CLA': 'IT EP CLA',\n",
    "                   'L4 RSP-ACA': 'L4 RSP ACA',\n",
    "                   'Sub-ProS': 'SUB ProS',\n",
    "                   'Interneurons GABA':'interneurons GABA',\n",
    "\n",
    "                   \n",
    "                   \n",
    "                  }\n",
    "adata.obs['cell type'] = adata.obs['cell type'].apply(lambda x: rename_subclass[x] if x in rename_subclass else x)\n",
    "adata.obs['cell type'].unique()"
   ]
  },
  {
   "cell_type": "code",
   "execution_count": null,
   "id": "8a63a678-00ee-4467-b9f2-83194518d321",
   "metadata": {},
   "outputs": [],
   "source": [
    "adata.obsm['X_pca'] = adata.obsm['reduced_pc_20']\n",
    "adata.obsm['X_umap'] = adata.obsm['reduced_pc_20_umap']"
   ]
  },
  {
   "cell_type": "code",
   "execution_count": null,
   "id": "fc7e1af7-78af-4eb2-b29c-5f56a2c27d2f",
   "metadata": {
    "scrolled": true
   },
   "outputs": [],
   "source": [
    "if 'leiden_colors' in adata.obs:\n",
    "    adata.obs = adata.obs.drop(columns=['leiden_colors'])\n",
    "\n",
    "# adata.write(f\"{dir_notebook}/h5ad/{name_dir}/{name_dir}_MMC_Banksy_clusters.h5ad.gz\", compression='gzip')\n",
    "adata.write(f\"{dir_notebook}/h5ad/{name_dir}/{name_dir}_MMC_Banksy_clusters_combined.h5ad.gz\", compression='gzip')"
   ]
  },
  {
   "cell_type": "code",
   "execution_count": null,
   "id": "4e3f3e10-f1c4-4864-a41c-79737e8e9c9c",
   "metadata": {},
   "outputs": [],
   "source": [
    "adata = sc.read_h5ad(f\"{dir_notebook}/h5ad/{name_dir}/{name_dir}_MMC_Banksy_clusters.h5ad.gz\")"
   ]
  },
  {
   "cell_type": "markdown",
   "id": "a46eeab9-f22c-418a-99ea-5c91751c88b2",
   "metadata": {},
   "source": [
    "## Subclustering"
   ]
  },
  {
   "cell_type": "code",
   "execution_count": null,
   "id": "b6bf0bb3-6d7e-4f47-9664-1c7c239bba9a",
   "metadata": {},
   "outputs": [],
   "source": [
    "adata.obsm['X_pca'] = adata.obsm['reduced_pc_20']"
   ]
  },
  {
   "cell_type": "code",
   "execution_count": null,
   "id": "da5d8f4d-0653-42d7-a39d-4de92c848366",
   "metadata": {},
   "outputs": [],
   "source": [
    "# adata.obs.groupby('cell type')['cell type'].count()\n",
    "adata.obs.groupby('cell_type_auto')['cell_type_auto'].count().sort_values()"
   ]
  },
  {
   "cell_type": "markdown",
   "id": "966ec177",
   "metadata": {},
   "source": [
    "### Automatic subclustering"
   ]
  },
  {
   "cell_type": "code",
   "execution_count": null,
   "id": "da120e5d",
   "metadata": {},
   "outputs": [],
   "source": [
    "from subclustering_Xe import auto_subclustering2\n",
    "\n",
    "auto_subclustering2(adata_to_sub = adata, ###\n",
    "                    all_types =  'all', ### 'all' or ['0','1'] for selected number of clusters\n",
    "                    Clusters_to_use = 'cell_type_newnum_auto',\n",
    "                    resolution = 0.1)"
   ]
  },
  {
   "cell_type": "code",
   "execution_count": null,
   "id": "8f85b6ce",
   "metadata": {},
   "outputs": [],
   "source": [
    "adata.obs['cell_type_newnum_final'].nunique()"
   ]
  },
  {
   "cell_type": "code",
   "execution_count": null,
   "id": "0fe2d157",
   "metadata": {},
   "outputs": [],
   "source": [
    "from subclustering_Xe import cluster_table\n",
    "\n",
    "cont_tab, cont_tab_sub, cluster_df = cluster_table(adata_to_use = adata,\n",
    "                                                   Clusters_to_use = 'cell_type_newnum_final',\n",
    "                                                   sort_order='Cell Count',\n",
    "                                                   sort_ascend = False\n",
    "                                                   )\n",
    "\n",
    "cluster_df"
   ]
  },
  {
   "cell_type": "code",
   "execution_count": null,
   "id": "cc3494d8",
   "metadata": {},
   "outputs": [],
   "source": [
    "tst_dict = cont_tab_sub.T.idxmax(axis=0).to_dict()\n",
    "# tst_dict = dict(zip(cluster_df.index, cluster_df['Celltype']))\n",
    "tst_dict"
   ]
  },
  {
   "cell_type": "markdown",
   "id": "c1ed97b2",
   "metadata": {},
   "source": [
    "#### Final clusters"
   ]
  },
  {
   "cell_type": "code",
   "execution_count": null,
   "id": "54d1f391",
   "metadata": {},
   "outputs": [],
   "source": [
    "# Final clusters\n",
    "rename_subclass = {\n",
    " \"3\": 'VLMC',\n",
    " \"12\": 'Ependymal',\n",
    " \"4\": 'Endothelial',\n",
    " \"5\": 'Tanycyte',\n",
    " \"6\": 'Oligodendrocyte',\n",
    " \"8\": 'Astro-NT',\n",
    " \"10\": 'Microglia',\n",
    " \"11\": 'OPC',\n",
    " \"29\": 'CHOR',\n",
    " \"74\": 'Undefined',\n",
    " \"36\": 'Pericyte',\n",
    " \"77\": 'Ependymal',\n",
    " \"16\": 'Astro-TE',\n",
    " \"53\": 'SCH Gaba',\n",
    " \"76\": 'SUB ProS Glut',\n",
    " \"69\": 'SUB ProS Glut',\n",
    " \"50\": 'CA2 FC IG Glut',\n",
    " \"43\": 'CA3 Glut',\n",
    " \"44\": 'DG Glut',\n",
    " \"49\": 'DG Glut',\n",
    " \"45\": 'CA1 ProS Glut',\n",
    " \"18\": 'Lamp5 Gaba',\n",
    " \"24\": 'Pvalb Gaba',\n",
    " \"25\": 'Vip Gaba',\n",
    " \"26\": 'Sst Gaba',\n",
    " \"80\": 'MM Glut',\n",
    " \"78\": 'MM Glut',\n",
    " \"38\": 'MH Glut',\n",
    " \"39\": 'LH Glut',\n",
    " \"54\": 'NLOT Glut',\n",
    " \"75\": 'LSX Gaba',\n",
    " \"59\": 'LSX Gaba',\n",
    " \"66\": 'LSX Gaba',\n",
    " \"55\": 'LSX Gaba',\n",
    " \"56\": 'LSX Gaba',\n",
    " \"31\": 'L6b CTX Glut',\n",
    " \"58\": 'L6b CTX Glut',\n",
    " \"37\": 'L6b CTX Glut',\n",
    " \"32\": 'L6 CTX Glut',\n",
    " \"33\": 'L6 CTX Glut',\n",
    " \"41\": 'L6 CTX Glut',\n",
    " \"79\": 'L23 RSP Glut',\n",
    " \"27\": 'L23 CTX Glut',\n",
    " \"22\": 'L23 PIR ENTl Glut',\n",
    " \"46\": 'L23 RSP Glut',\n",
    " \"47\": 'L4 CTX Glut',\n",
    " \"23\": 'L4 CTX Glut',\n",
    " \"40\": 'L5 CTX Glut',\n",
    " \"42\": 'L5 CTX Glut',\n",
    " \"28\": 'L5 CTX Glut',\n",
    " \"62\": 'STR D1D2 Gaba',\n",
    " \"30\": 'STR D1D2 Gaba',\n",
    " \"65\": 'STR D1D2 Gaba',\n",
    " \"51\": 'STR Gaba',\n",
    " \"64\": 'STR Gaba',\n",
    " \"63\": 'STR Gaba',\n",
    " \"48\": 'STR Gaba',\n",
    " \"19\": 'STRv PAL Gaba',\n",
    " \"34\": 'STRv PAL Gaba',\n",
    " \"15\": 'LA Glut',\n",
    " \"35\": 'MEA Glut',\n",
    " \"17\": 'MEA Glut',\n",
    " \"1\": '001 BST Gaba',\n",
    " \"2\": 'HY GABA',\n",
    " \"68\": 'BST Glut',\n",
    " \"7\": '119 SI-MA-LPO-LHA Skor1 Glut',\n",
    " \"21\": 'HY Glut',\n",
    " \"52\": 'HY Glut',\n",
    " \"20\": 'RT-ZI Gaba',\n",
    " \"0\": 'VMH Glut',\n",
    " \"14\": 'LHA Glut',\n",
    " \"67\": 'LHA Glut',\n",
    " \"70\": 'AD Glut',\n",
    " \"61\": 'AV Glut',\n",
    " \"60\": 'PVT Glut',\n",
    " \"9\": 'TH Glut',\n",
    " \"71\": 'SN Gaba',\n",
    " \"57\": 'SC Gaba',\n",
    " \"73\": 'SN Dopa',\n",
    " \"13\": 'PF Glut', \n",
    " \"72\": 'Pineal Glut',\n",
    "}\n",
    "\n",
    "adata.obs['cell_type_final'] = adata.obs['cell_type_newnum_auto_sub'].apply(lambda x: rename_subclass[x] if x in rename_subclass else x)\n",
    "adata.obs['cell_type_final'].unique()\n",
    "\n",
    "all_cell_type = adata.obs['cell_type_final'].unique()\n",
    "list_cell_nb = range(0, len(all_cell_type))\n",
    "mapping_dict = dict(zip(all_cell_type,list_cell_nb))\n",
    "adata.obs['cell_type_newnum_final'] = adata.obs['cell_type_final'].map(mapping_dict)\n",
    "mapping_dict"
   ]
  },
  {
   "cell_type": "code",
   "execution_count": null,
   "id": "a68f8e58",
   "metadata": {},
   "outputs": [],
   "source": [
    "rename_subclass"
   ]
  },
  {
   "cell_type": "code",
   "execution_count": null,
   "id": "25c5ba42",
   "metadata": {},
   "outputs": [],
   "source": [
    "### To rename only some cell types\n",
    "rename_subclass = dict(zip(adata.obs['cell_type_newnum_final'],adata.obs['cell_type_final']))\n",
    "rename_subclass_temp = {\n",
    "17:'Astro TE',\n",
    "9:'Astro NT',\n",
    "23:'RT ZI GABA',\n",
    "}\n",
    "rename_subclass.update(rename_subclass_temp)\n",
    "adata.obs['cell_type_final'] = adata.obs['cell_type_newnum_final'].apply(lambda x: rename_subclass[x] if x in rename_subclass else x)\n",
    "adata.obs['cell_type_final'].unique()\n",
    "\n",
    "all_cell_type = adata.obs['cell_type_final'].unique()\n",
    "list_cell_nb = range(0, len(all_cell_type))\n",
    "mapping_dict = dict(zip(all_cell_type,list_cell_nb))\n",
    "adata.obs['cell_type_newnum_final'] = adata.obs['cell_type_final'].map(mapping_dict)\n",
    "mapping_dict"
   ]
  },
  {
   "cell_type": "code",
   "execution_count": null,
   "id": "6fd6bb87-a429-468e-9f52-4184009deda3",
   "metadata": {},
   "outputs": [],
   "source": [
    "### Correlation map\n",
    "# Clusters_to_use = 'cell_type_newnum_auto_sub'\n",
    "# cont_tab = pd.crosstab(adata_filter.obs[Clusters_to_use], adata_filter.obs['mmc:class_name'], normalize=\"index\")\n",
    "# cont_tab = cont_tab.loc[:, cont_tab.sum(axis=0) > 0.1] \n",
    "plt.figure(figsize=(40, 20))\n",
    "sns.heatmap(cont_tab.T, annot=True, cmap=\"YlGnBu\", fmt=\".1f\", cbar = False)"
   ]
  },
  {
   "cell_type": "code",
   "execution_count": null,
   "id": "6fb470eb-8a55-4526-b197-f7558f59268a",
   "metadata": {},
   "outputs": [],
   "source": [
    "### Correlation map\n",
    "# cont_tab_sub = pd.crosstab(adata_filter.obs[Clusters_to_use],adata_filter.obs['mmc:subclass_name'], normalize=\"index\")\n",
    "# cont_tab_sub = cont_tab_sub.loc[:, cont_tab_sub.sum(axis=0) > 0.05] \n",
    "plt.figure(figsize=(40, 50))\n",
    "sns.heatmap(cont_tab_sub.T, annot=True, cmap=\"YlGnBu\", fmt=\".1f\", cbar = False)"
   ]
  },
  {
   "cell_type": "code",
   "execution_count": null,
   "id": "e10c92e1",
   "metadata": {},
   "outputs": [],
   "source": [
    "cont_tab_sub.T[2].sort_values(ascending=False).head(15)"
   ]
  },
  {
   "cell_type": "markdown",
   "id": "dbbd3662",
   "metadata": {},
   "source": [
    "### Manual subclustering"
   ]
  },
  {
   "cell_type": "code",
   "execution_count": null,
   "id": "e5dc18a9",
   "metadata": {},
   "outputs": [],
   "source": [
    "### Filters out rare class name\n",
    "# Clusters_to_use = 'cell_type_newnum_auto'\n",
    "Clusters_to_use = 'cell_type_newnum_final'\n",
    "# Clusters_to_use = 'cell_type_newnum'\n",
    "\n",
    "adata_filter = adata"
   ]
  },
  {
   "cell_type": "code",
   "execution_count": null,
   "id": "ed293678",
   "metadata": {},
   "outputs": [],
   "source": [
    "### Correlation map\n",
    "cont_tab = pd.crosstab(adata_filter.obs[Clusters_to_use], adata_filter.obs['mmc:subclass_name'], normalize=\"index\")\n",
    "cont_tab = cont_tab.loc[:, cont_tab.sum(axis=0) > 0.1] \n",
    "plt.figure(figsize=(40, 20))\n",
    "sns.heatmap(cont_tab.T, annot=True, cmap=\"YlGnBu\", fmt=\".1f\", cbar = False)"
   ]
  },
  {
   "cell_type": "code",
   "execution_count": null,
   "id": "3a2c3608-8bc0-4148-8be7-a940dfbd296d",
   "metadata": {},
   "outputs": [],
   "source": [
    "### Select a cluster to subcluster\n",
    "cluster_to_sub = \"18\"\n",
    "\n",
    "adata_subcluster = adata_filter[adata_filter.obs[Clusters_to_use] == cluster_to_sub]\n",
    "adata_subcluster.obs[Clusters_to_use].sample() , adata_subcluster.shape"
   ]
  },
  {
   "cell_type": "code",
   "execution_count": null,
   "id": "d9666f0a-c95f-4772-8d33-5bcb3259aad5",
   "metadata": {},
   "outputs": [],
   "source": [
    "sc.pp.pca(adata_subcluster)\n",
    "sc.pp.neighbors(adata_subcluster)\n",
    "sc.tl.umap(adata_subcluster)"
   ]
  },
  {
   "cell_type": "code",
   "execution_count": null,
   "id": "0841bf08-59e9-4486-83fa-8508f76d3acf",
   "metadata": {},
   "outputs": [],
   "source": [
    "# extract pca coordinates\n",
    "X_pca = adata_subcluster.obsm['X_pca'] \n",
    "\n",
    "### Kmeans clustering\n",
    "### You can choose the number of clusters by uncommenting n_clusters option\n",
    "# kmeans = KMeans(#n_clusters=4,\n",
    "#                 random_state=0).fit(X_pca) \n",
    "# adata_subcluster.obs['kmeans'] = kmeans.labels_.astype(str)\n",
    "\n",
    "sc.tl.leiden(adata_subcluster, resolution = 0.1)"
   ]
  },
  {
   "cell_type": "code",
   "execution_count": null,
   "id": "62622541-9494-45aa-82be-6a7887346870",
   "metadata": {},
   "outputs": [],
   "source": [
    "clustering_method = 'leiden'"
   ]
  },
  {
   "cell_type": "code",
   "execution_count": null,
   "id": "45922a92-b755-4745-9aa6-1799f82b6424",
   "metadata": {},
   "outputs": [],
   "source": [
    "from matplotlib.pyplot import rc_context\n",
    "with rc_context({\"figure.figsize\": (5, 5)}):\n",
    "    sc.pl.umap(\n",
    "        adata_subcluster,\n",
    "        color=clustering_method,\n",
    "        add_outline=False,\n",
    "        legend_loc=\"on data\",\n",
    "        legend_fontsize=12,\n",
    "        legend_fontoutline=2,\n",
    "        frameon=False,\n",
    "        palette=\"tab20\",\n",
    "    )\n",
    "sc.pl.pca(adata_subcluster,\n",
    "         color=clustering_method,\n",
    "         palette=\"tab20\",\n",
    "         )"
   ]
  },
  {
   "cell_type": "code",
   "execution_count": null,
   "id": "86b03a3a-5346-4d85-b206-a0ed93309946",
   "metadata": {},
   "outputs": [],
   "source": [
    "### Number of cells per clusters\n",
    "max_clust = len(adata_subcluster.obs[clustering_method].unique())\n",
    "for i in range(0, max_clust):\n",
    "    count = adata_subcluster.obs[clustering_method].value_counts().iloc[i]\n",
    "    print(f\"Cluster {i} : {count} cells\")\n",
    "\n",
    "# adata_subcluster.obs['leiden'].sample(10)"
   ]
  },
  {
   "cell_type": "code",
   "execution_count": null,
   "id": "a3634b56-4cec-4398-8a94-6a8ddd06b148",
   "metadata": {},
   "outputs": [],
   "source": [
    "### Correlation map of subclusters\n",
    "cont_tab = pd.crosstab(adata_subcluster.obs[clustering_method], adata_subcluster.obs['mmc:class_name'], normalize=\"index\")\n",
    "plt.figure(figsize=(10, 10))\n",
    "sns.heatmap(cont_tab.T, annot=True, cmap=\"YlGnBu\", fmt=\".1f\", cbar=False)"
   ]
  },
  {
   "cell_type": "code",
   "execution_count": null,
   "id": "1a9e8949-1d5c-4ad3-a6b3-2993649e1919",
   "metadata": {},
   "outputs": [],
   "source": [
    "### Correlation map of subclusters\n",
    "cont_tab = pd.crosstab(adata_subcluster.obs[clustering_method], adata_subcluster.obs['mmc:subclass_name'], normalize=\"index\")\n",
    "cont_tab = cont_tab.loc[:, cont_tab.sum(axis=0) > 0.05]\n",
    "plt.figure(figsize=(10, 15))\n",
    "sns.heatmap(cont_tab.T, annot=True, cmap=\"YlGnBu\", fmt=\".1f\", cbar=False)"
   ]
  },
  {
   "cell_type": "code",
   "execution_count": null,
   "id": "27592ef7-9af6-4af6-80e6-253462435e85",
   "metadata": {},
   "outputs": [],
   "source": [
    "# adata_subcluster.obs[clustering_method] = adata_subcluster.obs[clustering_method].astype(str)\n",
    "# # sc.tl.dendrogram(adata_subcluster, groupby = cluster_to_use, n_pcs=None, use_rep=None, var_names=None, use_raw=None, cor_method='pearson', linkage_method='complete', optimal_ordering=False, key_added=None)\n",
    "# sc.tl.rank_genes_groups(adata_subcluster, groupby=clustering_method, method=\"wilcoxon\", tie_correct = True, dendrogram = False)\n",
    "# sc.pl.rank_genes_groups_dotplot(adata_subcluster, groupby=clustering_method, standard_scale=\"var\", n_genes=2, dendrogram = False)"
   ]
  },
  {
   "cell_type": "code",
   "execution_count": null,
   "id": "fc3505e2-67c7-4816-94a1-e3d73982d649",
   "metadata": {},
   "outputs": [],
   "source": [
    "### Generate a color palette for the clusters - to make color stay consistent across samples\n",
    "adata_subcluster.obs[clustering_method] = adata_subcluster.obs[clustering_method].astype(int)\n",
    "\n",
    "# Create a palette with a unique color for each cluster\n",
    "num_clusters = len(adata_subcluster.obs[clustering_method].unique())\n",
    "palette = sns.color_palette(\"tab20\", n_colors=num_clusters)\n",
    "\n",
    "# Map each 'leiden' value to a color\n",
    "adata_subcluster.obs['kmeans_colors'] = adata_subcluster.obs[clustering_method].apply(lambda x: palette[x])\n",
    "\n",
    "# Mapping of clusters\n",
    "fig, axs = plt.subplots(3,4,figsize=(20, 20))\n",
    "axs = axs.flatten()\n",
    "clusters_plot = {\n",
    "    0: 'orchid', 1: 'forestgreen', 2: 'black', 3:'red', \n",
    "    4:'cyan', 5:'blue', 6:'darkorange', 7:'coral',\n",
    "    8:'forestgreen', 9: 'coral',10:'red', 11:'cyan',\n",
    "    12:'blue',13:'darkorange',14:'black'\n",
    "    # 4:'red',0:'black'\n",
    "}\n",
    "\n",
    "for idx, sample in enumerate(samples_ids):\n",
    "    adata_sel = adata_subcluster[(adata_subcluster.obs['sample'] == sample)]\n",
    "    for cluster_id in adata_sel.obs[clustering_method].unique():\n",
    "        cluster_data = adata_sel.obs[adata_sel.obs[clustering_method] == cluster_id]\n",
    "        colors = clusters_plot[cluster_id] if cluster_id in clusters_plot else \"none\"\n",
    "        # colors= cluster_data['kmeans_colors'].unique()[0]\n",
    "        axs[idx].scatter(cluster_data['x_centroid'], cluster_data['y_centroid'], color=colors, s=2, label=cluster_id)\n",
    "        axs[idx].set_title(f\"Sample {sample}\")"
   ]
  },
  {
   "cell_type": "code",
   "execution_count": null,
   "id": "da1be5c6-02eb-4045-8663-1dd448d007e2",
   "metadata": {},
   "outputs": [],
   "source": [
    "adata_subcluster.obs['new_cluster'] = clustering_method\n",
    "adata_subcluster.obs['new_cluster2'] = adata_subcluster.obs[Clusters_to_use].astype(\"str\") + '.' + adata_subcluster.obs[clustering_method].astype(\"str\")\n",
    "adata_subcluster.obs[['cell_id','new_cluster2']].sample(2)"
   ]
  },
  {
   "cell_type": "code",
   "execution_count": null,
   "id": "00c0cd6f-81ad-45fb-a585-2735057a9794",
   "metadata": {
    "scrolled": true
   },
   "outputs": [],
   "source": [
    "# Use this dictionnary to rename ['cell type'] with the new appropriate cell type for the subcluster. Follow the format. One subcluster at the time.\n",
    "rename_subclass = {\n",
    " f'{cluster_to_sub}.0':'MB Glut',\n",
    "f'{cluster_to_sub}.1':'LHA Glut',\n",
    "f'{cluster_to_sub}.2':'APN Glut',\n",
    "f'{cluster_to_sub}.3':'SC Glut',\n",
    "f'{cluster_to_sub}.4':'MM Glut',\n",
    "f'{cluster_to_sub}.5':'MB Glut',\n",
    "f'{cluster_to_sub}.6':'HY Glut',\n",
    "f'{cluster_to_sub}.7':'SC Glut',\n",
    "f'{cluster_to_sub}.8' :'PAG Glut',\n",
    "f'{cluster_to_sub}.9' :'MM Glut',\n",
    "f'{cluster_to_sub}.10':'SN Dopa',\n",
    "f'{cluster_to_sub}.11':'PAG Glut',\n",
    "f'{cluster_to_sub}.12':'PAG Glut',\n",
    "f'{cluster_to_sub}.13':'',\n",
    "f'{cluster_to_sub}.14':'',\n",
    "f'{cluster_to_sub}.15':'',\n",
    "f'{cluster_to_sub}.16':'',\n",
    "f'{cluster_to_sub}.17':'',\n",
    "}\n",
    "\n",
    "adata_subcluster.obs['cell_type_final'] = adata_subcluster.obs['new_cluster2'].map(rename_subclass)\n",
    "\n",
    "# Create a dictionary to map old values to new values\n",
    "mapping_dict = dict(zip(adata_subcluster.obs['cell_id'], adata_subcluster.obs['cell_type_final']))\n",
    "\n",
    "# Use .map() function to rename cell contents in 'col1' based on mapping dictionary\n",
    "adata.obs['cell_type_final'] = adata.obs.apply(lambda x: mapping_dict[x['cell_id']] if x['cell_id'] in mapping_dict else x['cell_type_final'],axis = 1)"
   ]
  },
  {
   "cell_type": "code",
   "execution_count": null,
   "id": "1be6da98-679b-49f8-8fa1-52f3f161bac1",
   "metadata": {},
   "outputs": [],
   "source": [
    "adata.obs['cell type'].sample(5)\n"
   ]
  },
  {
   "cell_type": "code",
   "execution_count": null,
   "id": "80577fc8-aa2b-442a-b65d-37c5b32f7f98",
   "metadata": {},
   "outputs": [],
   "source": [
    "adata = adata[adata.obs['cell type'] != 'Undefined']"
   ]
  },
  {
   "cell_type": "markdown",
   "id": "7f35369f-de1e-4c08-999b-5b29be5a345f",
   "metadata": {},
   "source": [
    "<font size=\"6\"><span style=\"color:red\">From here, go back to process the other cluster if needed </span></font>"
   ]
  },
  {
   "cell_type": "markdown",
   "id": "16632460-f069-47a4-8c15-85868caf525a",
   "metadata": {},
   "source": [
    "## File Save (and load)"
   ]
  },
  {
   "cell_type": "code",
   "execution_count": null,
   "id": "00c94d4f-da74-4548-93d8-0b9261fb3967",
   "metadata": {
    "editable": true,
    "scrolled": true,
    "slideshow": {
     "slide_type": ""
    },
    "tags": []
   },
   "outputs": [],
   "source": [
    "all_cell_type = adata.obs['cell_type_final'].unique()\n",
    "list_cell_nb = range(0, len(all_cell_type))\n",
    "mapping_dict = dict(zip(all_cell_type,list_cell_nb))\n",
    "adata.obs['cell_type_newnum_final'] = adata.obs['cell_type_final'].map(mapping_dict)\n",
    "mapping_dict"
   ]
  },
  {
   "cell_type": "code",
   "execution_count": null,
   "id": "3758be3f",
   "metadata": {},
   "outputs": [],
   "source": [
    "# adata.obs.groupby('cell_type_final')['cell_type_final'].count().sort_values()\n",
    "adata.obs.groupby('cell_type_final')['cell_type_final'].count()"
   ]
  },
  {
   "cell_type": "code",
   "execution_count": null,
   "id": "82f0c9d1-5cb3-4971-9aa0-4b8207e832aa",
   "metadata": {},
   "outputs": [],
   "source": [
    "if 'leiden_colors' in adata.obs:\n",
    "    adata.obs = adata.obs.drop(columns=['leiden_colors'])\n",
    "    # adata.obs = adata.obs.drop(columns=['cell_class_auto_sub'])\n",
    "\n",
    "\n",
    "adata.write(f\"{dir_notebook}/h5ad/{name_dir}/{name_dir}_MMC_Banksy_annotated_combined.h5ad.gz\", compression='gzip')\n",
    "adata.obs.to_csv(f\"{dir_notebook}/csv/{name_dir}/{name_dir}_MMC_Banksy_annotated_combined.csv.gz\", compression='gzip')"
   ]
  },
  {
   "cell_type": "code",
   "execution_count": null,
   "id": "b1f81ea5-34e2-4a3a-9029-53111ae6758b",
   "metadata": {},
   "outputs": [],
   "source": [
    "adata = sc.read_h5ad(f\"{dir_notebook}/h5ad/{name_dir}/{name_dir}_MMC_Banksy_annotated_combined.h5ad.gz\")"
   ]
  },
  {
   "cell_type": "code",
   "execution_count": null,
   "id": "be1141a2",
   "metadata": {},
   "outputs": [],
   "source": [
    "adata.obs.keys()"
   ]
  },
  {
   "cell_type": "markdown",
   "id": "f00220b6-c3ca-40a7-8eb3-caac5a591e4a",
   "metadata": {},
   "source": [
    "# Automap"
   ]
  },
  {
   "cell_type": "markdown",
   "id": "86be95b5-3bd1-4aed-a1cb-6a560ed53161",
   "metadata": {},
   "source": [
    "## Data pre-processing"
   ]
  },
  {
   "cell_type": "code",
   "execution_count": null,
   "id": "1c030709-cdd5-434c-856b-dc248b92007b",
   "metadata": {},
   "outputs": [],
   "source": [
    "# testdf = pd.read_csv('Xenium-data-coordinates-CTX.csv')\n",
    "testdf = pd.read_csv(f'{dir_notebook}/csv/{name_dir}/{name_dir}_MMC_Banksy_annotated_combined.csv.gz')\n",
    "testdf.shape\n",
    "\n",
    "testdf = testdf.filter(['cell_id','sample','x_centroid','y_centroid','cell_type_final','cell_type_newnum_final'], axis=1)\n",
    "### Only keep necessary columns"
   ]
  },
  {
   "cell_type": "code",
   "execution_count": null,
   "id": "ac85041d",
   "metadata": {},
   "outputs": [],
   "source": [
    "testdf.sample()"
   ]
  },
  {
   "cell_type": "code",
   "execution_count": null,
   "id": "909c46dd-296f-430d-ae64-852e1474dad9",
   "metadata": {},
   "outputs": [],
   "source": [
    "testdf['cell_type_final'].unique()"
   ]
  },
  {
   "cell_type": "code",
   "execution_count": null,
   "id": "f98a39f3-a0ba-4a1b-b853-0255285d71b5",
   "metadata": {},
   "outputs": [],
   "source": [
    "# Simplify names for mapping\n",
    "rename_subclass = {\n",
    "'Oligo':'Undefined',\n",
    "'Oligodendrocyte':'Undefined',\n",
    "'Astro':'Undefined',\n",
    "'Astro TE':'Undefined',\n",
    "'Astro NT':'Undefined',\n",
    "'Endo':'Undefined',\n",
    "'Endothelial':'Undefined',\n",
    "'OPC':'Undefined',\n",
    "'Pericyte':'Undefined',\n",
    "'Tanycyte':'Ependymal',\n",
    "'Microglia':'Undefined', \n",
    "'Undefined':'Undefined',\n",
    "'CHOR':'Undefined',\n",
    "'HPF CR':'Undefined',\n",
    "\n",
    "'HY GABA':'HY',\n",
    "'HY Glut':'HY',\n",
    "'RT ZI GABA':'HY',\n",
    "'RT ZI':'HY',\n",
    "'SO Glut':'HY',\n",
    "'AHN Glut':'HY',\n",
    "'AHN':'HY',\n",
    "'LHA Glut':'HY',\n",
    "'PVH Glut':'HY',\n",
    "'HY GABA': 'HY',\n",
    "'HY Glut':'HY',\n",
    "'Mix HY' : 'HY',\n",
    "'VMH Glut':'VMH',\n",
    "\n",
    "'AMY GABA':'AMY',\n",
    "'AMY Glut':'AMY',\n",
    "\n",
    "'TH Glut':'TH',\n",
    "'PVT Glut': 'TH',\n",
    "'PVT':'TH',\n",
    "'AD':'TH',\n",
    "\n",
    "'MB GABA':'MB',\n",
    "'MB DOPA':'MB',\n",
    "'MB Dopa':'MB',\n",
    "'MB Glut':'MB',\n",
    "\n",
    "'L4 5 IT CTX':'CTX',\n",
    "'L5 IT CTX':'CTX',\n",
    "'L2 3 IT PIR ENTI':'CTX',\n",
    "'L5 6 IT TPE ENT':'CTX',\n",
    "'L2 3 IT CTX':'CTX', \n",
    "'L5 ET CTX':'CTX',\n",
    "'L2 3 IT':'CTX',\n",
    "'L6 IT CTX':'CTX',\n",
    "'L6 CT CTX':'CTX',\n",
    "'L5 NP CTX':'CTX',\n",
    "'L4 RSP ACA':'CTX',\n",
    "'L4 5 IT Glut':'CTX',\n",
    "'L2 3 4 5 IT CTX':'CTX',\n",
    "'L2 3 IT RSP':'CTX',\n",
    "'L5 CTX' : 'CTX',\n",
    "'L6 CTX' : 'CTX',\n",
    "'L2 3 CTX': 'CTX',\n",
    "'L4 5 CTX': 'CTX',\n",
    "'L6b CTX':'CTX',\n",
    "'L6b CTX':'CTX',\n",
    "'L2 3 IT PIT ENTI':'CTX',\n",
    "'Mix Cortex':'CTX',\n",
    "'NP':'CTX',\n",
    "'CLA EPd CTX Glut':'CTX',\n",
    "'IT EP CLA':'CTX',\n",
    "'CLA':'CTX',\n",
    "'CLA EP':'CTX',\n",
    "'interneurons GABA':'Undefined',\n",
    "'interneurons':'Undefined',\n",
    "\n",
    "'Pvalb Gaba':'Undefined',\n",
    "'Vip Gaba':'Undefined',\n",
    "'Sst Gaba':'Undefined',\n",
    "'Lamp5 Gaba':'Undefined',\n",
    "\n",
    "'SCG Gaba':'SCH',\n",
    "'NLOT Glut':'NLOT',\n",
    "\n",
    "'STR D1D2 GABA':'STR',\n",
    "'STR GABA':'STR',\n",
    "'STR D1D2':'STR',\n",
    "'STRv' : 'STR',\n",
    "'GPe GABA' : 'GPe',\n",
    "'STRv GABA':'STRv',\n",
    "'BST GABA':'BST',\n",
    "'GP GABA':'PAL',\n",
    "    \n",
    "'TRS BAC Glut':'TRS',\n",
    "\n",
    "'LSX GABA':'LSX',\n",
    "\n",
    "'NP SUB':'HIPP',\n",
    "'CA1 ProS':'HIPP',\n",
    "'CA3':'HIPP',\n",
    "'DG':'HIPP',\n",
    "'DG Glut':'HIPP',\n",
    "'SUB ProS':'HIPP',\n",
    "'NP SUB Glut':'HIPP',\n",
    "'CA1 ProS Glut':'HIPP',\n",
    "'CA3 Glut':'HIPP',\n",
    "'DG Glut':'HIPP',\n",
    "'CA2 FC IG Glut':'HIPP',\n",
    "'SUB ProS Glut':'HIPP',\n",
    "\n",
    "'ARH GABA':'ARH',\n",
    "'PF Glut': 'MB',\n",
    "'LA Glut': 'AMY',\n",
    "'MEA Glut':'AMY', \n",
    "'ZI Gaba':'HY', \n",
    "'STRv PAL Gaba':'STRv', \n",
    "'L23 PIR ENTl Glut':'CTX',\n",
    "'L4 CTX Glut':'CTX',\n",
    "'L23 CTX Glut':'CTX',\n",
    "'L5 CTX Glut':'CTX',\n",
    "'STR D1D2 Gaba':'STR',\n",
    "'L6b CTX Glut':'CTX',\n",
    "'L6 CTX Glut':'CTX',\n",
    "'MEA Gaba':'AMY',\n",
    "'MH Glut':'MH', \n",
    "'LH Glut':'LH',\n",
    "'L23 RSP Glut':'CTX',\n",
    "'STR Gaba':'STR',\n",
    "'BST Gaba':'BST', \n",
    "'SC Glut':'SC',\n",
    "'MM Glut':'MM', \n",
    "'SCH Gaba':'SCH',\n",
    "'LSX Gaba':'LSX',\n",
    "'SC Gaba':'MB',\n",
    "'LGv Gaba':'MB',\n",
    "'APN Glut':'TH',\n",
    "'AV Glut':'HY',\n",
    "'PRT Gaba':'MB',\n",
    "'BST Glut':'BST',\n",
    "'AD Glut':'HY',\n",
    "'SN Gaba':'MB',\n",
    "'Pineal Glut':'MB',\n",
    "'SN Dopa':'MB',\n",
    "'PAG Glut':'MB',\n",
    "'STRv':'STR',\n",
    "'BST':'HY',\n",
    "\n",
    "'ARH Glut': 'ARH',\n",
    "'L2 3 IT PIR ENTl Glut':'CTX',\n",
    "'AMY Gaba':'AMY',\n",
    "'CLA EPd Glut':'CTX',\n",
    "'PAL STR Gaba':'STRv',\n",
    "'L6 IT CTX Glut':'CTX',\n",
    "'L2345 IT CTX Glut':'CTX',\n",
    "'L6 CT CTX Glut':'CTX',\n",
    "'L2 3 IT RSP Glut':'CTX',\n",
    "'L4 RSP ACA Glut':'CTX',\n",
    "'OB CR Glut':'HIPP',\n",
    "\n",
    "\n",
    "}\n",
    "testdf['cell_type_final'] = testdf['cell_type_final'].apply(lambda x: rename_subclass[x] if x in rename_subclass else x)\n",
    "testdf = testdf[testdf['cell_type_final'] != 'Undefined']\n",
    "testdf = testdf[testdf['cell_type_final'] != 'undefined']\n",
    "testdf['cell_type_final'].unique()"
   ]
  },
  {
   "cell_type": "code",
   "execution_count": null,
   "id": "8ec906d0-8f8f-4d1e-9775-612016b6d668",
   "metadata": {
    "editable": true,
    "slideshow": {
     "slide_type": ""
    },
    "tags": []
   },
   "outputs": [],
   "source": [
    "sample_ids = testdf['sample'].unique()\n",
    "sample_ids"
   ]
  },
  {
   "cell_type": "code",
   "execution_count": null,
   "id": "1b087b84",
   "metadata": {},
   "outputs": [],
   "source": [
    "from automap import knn_mst_clustering\n",
    "from automap import assign_chunk_labels\n",
    "from automap import fill_any_chunks,fill_empty_chunks\n",
    "from automap import grid_to_geojson_with_scaling\n",
    "import json\n",
    "\n",
    "\n",
    "count = 0\n",
    "for sample_to_map in sample_ids:\n",
    "\n",
    "    count +=1\n",
    "    print(f'{datetime.now()}: automap of {sample_to_map} ({count}/{len(samples_ids)})')\n",
    "\n",
    "    df = testdf[testdf['sample']==sample_to_map]\n",
    "    all_cell_type = df['cell_type_final'].unique()\n",
    "    list_cell_nb = range(0, len(all_cell_type))\n",
    "    mapping_dict = dict(zip(all_cell_type,list_cell_nb))\n",
    "    df['cell_type_newnum_final'] = df['cell_type_final'].map(mapping_dict)\n",
    "\n",
    "    # Multiply centroid coordinates by 10 to convert to pixel coordinates\n",
    "    df['x_pixel'] = df['x_centroid'] * 10\n",
    "    df['y_pixel'] = df['y_centroid'] * 10\n",
    "\n",
    "    ### Generate a color palette for the clusters - to make color stay consistent across samples\n",
    "    df['cell_type_newnum_final'] = df['cell_type_newnum_final'].astype(str)\n",
    "\n",
    "    ### Establish neighbors classifiers\n",
    "\n",
    "    K = 10\n",
    "    X = df[['x_pixel', 'y_pixel']].values\n",
    "    y = df['cell_type_newnum_final'].astype(int).values\n",
    "    knn = KNeighborsClassifier(n_neighbors=K)\n",
    "    knn.fit(X, y)\n",
    "    df['knn_celltype'] = knn.predict(X)\n",
    "\n",
    "    data = df\n",
    "    valid_celltypes = data['knn_celltype'].value_counts()[data['knn_celltype'].value_counts() > 100].index\n",
    "    data = data[data['knn_celltype'].isin(valid_celltypes)]\n",
    "    unique_cell_types = sorted(data['knn_celltype'].unique())\n",
    "\n",
    "    for cell_type in unique_cell_types:\n",
    "        print(f\"Processing cell type {cell_type}...\")\n",
    "        knn_mst_clustering(data, cell_type=cell_type, k=10)\n",
    "\n",
    "    # Save the updated dataframe with cluster labels\n",
    "    # data.to_csv('Xenium-data-coordinates-CTX-labeled.csv', index=False)\n",
    "    print(\"Data with cluster labels saved.\")\n",
    "\n",
    "    data['knn_celltype'].value_counts()\n",
    "    data['cluster_label'].isna().sum()\n",
    "\n",
    "    # Get the value counts of each category\n",
    "    value_counts = data['cluster_label'].value_counts()\n",
    "\n",
    "    # Create a mapping based on the rank of value counts\n",
    "    mapping_drg = {label: idx for idx, label in enumerate(value_counts.index, 1)}\n",
    "\n",
    "    # Map the categorical strings to numbers based on the value counts\n",
    "    data['cluster_label_numeric'] = data['cluster_label'].map(mapping_drg)\n",
    "    data['cluster_label_numeric'].unique()\n",
    "    data = data.dropna(subset=['cluster_label_numeric'])\n",
    "    data['cluster_label_numeric'].isna().sum()\n",
    "\n",
    "    ### Pixelize section and assign label\n",
    "    chunk_size = 400  # Example chunk size\n",
    "    threshold = 0.5  # Example threshold\n",
    "    grid, x_bins, y_bins = assign_chunk_labels(data, chunk_size, threshold)\n",
    "\n",
    "\n",
    "    filled_grid, x_bins, y_bins = fill_empty_chunks(grid, x_bins, y_bins, 4)\n",
    "    filled_grid, x_bins, y_bins = fill_empty_chunks(filled_grid, x_bins, y_bins, 3)\n",
    "    filled_grid, x_bins, y_bins = fill_empty_chunks(filled_grid, x_bins, y_bins, 4)\n",
    "    filled_grid, x_bins, y_bins = fill_empty_chunks(filled_grid, x_bins, y_bins, 3)\n",
    "    filled_grid, x_bins, y_bins = fill_any_chunks(filled_grid, x_bins, y_bins,4)\n",
    "    filled_grid, x_bins, y_bins = fill_empty_chunks(filled_grid, x_bins, y_bins, 3)\n",
    "    filled_grid, x_bins, y_bins = fill_empty_chunks(filled_grid, x_bins, y_bins, 2)\n",
    "    filled_grid, x_bins, y_bins = fill_empty_chunks(filled_grid, x_bins, y_bins, 2)\n",
    "    filled_grid, x_bins, y_bins = fill_empty_chunks(filled_grid, x_bins, y_bins, 3)\n",
    "    filled_grid, x_bins, y_bins = fill_any_chunks(filled_grid, x_bins, y_bins,4)\n",
    "    filled_grid, x_bins, y_bins = fill_any_chunks(filled_grid, x_bins, y_bins,3)\n",
    "    filled_grid, x_bins, y_bins = fill_any_chunks(filled_grid, x_bins, y_bins,3)\n",
    "\n",
    "    # Create the mapping as before\n",
    "    mapping = data.groupby('knn_celltype')['cell_type_final'].agg(lambda x: x.value_counts().idxmax()).to_dict()\n",
    "\n",
    "    # Create a new column 'knn_celltype_label' using the mapping\n",
    "    data['knn_celltype_label'] = data['knn_celltype'].map(mapping)\n",
    "    data['cell_type_newnum_final'] = data['cell_type_newnum_final'].astype(int)\n",
    "\n",
    "    # Display the dataframe to verify\n",
    "    display(data[['knn_celltype', 'knn_celltype_label']].sample(3))\n",
    "\n",
    "    ### Export geojson\n",
    "    value_counts = data[['knn_celltype', 'cell_type_final']].value_counts()\n",
    "    value_counts_df = value_counts.reset_index(name='count')\n",
    "    most_common_pairs = value_counts_df.groupby('knn_celltype').apply(lambda x: x.nlargest(1, 'count'))\n",
    "    celltype_to_newnum = most_common_pairs.set_index('knn_celltype')['cell_type_final'].to_dict()\n",
    "    celltype_to_newnum = {key + 1: value for key, value in celltype_to_newnum.items()}\n",
    "\n",
    "    geojson_data = grid_to_geojson_with_scaling(filled_grid, x_bins, y_bins, celltype_to_newnum, scale_factor=10)\n",
    "\n",
    "    # Save the GeoJSON to a file\n",
    "    with open(f'{dir_notebook}/coordinates/Region_prediction/Xenium-data-coordinates-filtered_{sample_to_map}.geojson', 'w') as f:\n",
    "        json.dump(geojson_data, f, indent=2)\n",
    "\n",
    "\n",
    "print(f'{datetime.now()}: automap done')\n",
    "\n",
    "\n"
   ]
  },
  {
   "cell_type": "code",
   "execution_count": null,
   "id": "3019ec2e",
   "metadata": {},
   "outputs": [],
   "source": [
    "\n",
    "print(f'{datetime.now()}: automap done')\n"
   ]
  },
  {
   "cell_type": "code",
   "execution_count": null,
   "id": "f46eb175-3c38-4378-b2e2-aa478c4954b5",
   "metadata": {},
   "outputs": [],
   "source": [
    "# ### Choose sample to map here:\n",
    "# sample_to_map = sample_ids[0]\n",
    "# sample_to_map"
   ]
  },
  {
   "cell_type": "code",
   "execution_count": null,
   "id": "b46e34e2-7732-46a8-ba3d-9e547b5001f7",
   "metadata": {},
   "outputs": [],
   "source": [
    "# df = testdf[testdf['sample']==sample_to_map]"
   ]
  },
  {
   "cell_type": "code",
   "execution_count": null,
   "id": "39f0dec6-4306-4e18-8105-0279c724af58",
   "metadata": {},
   "outputs": [],
   "source": [
    "# all_cell_type = df['cell_type_final'].unique()\n",
    "# list_cell_nb = range(0, len(all_cell_type))\n",
    "# mapping_dict = dict(zip(all_cell_type,list_cell_nb))\n",
    "# df['cell_type_newnum_final'] = df['cell_type_final'].map(mapping_dict)\n",
    "# mapping_dict"
   ]
  },
  {
   "cell_type": "code",
   "execution_count": null,
   "id": "66782819-af9a-4b69-8aee-d067c61bffa4",
   "metadata": {},
   "outputs": [],
   "source": [
    "# # Multiply centroid coordinates by 10 to convert to pixel coordinates\n",
    "# df['x_pixel'] = df['x_centroid'] * 10\n",
    "# df['y_pixel'] = df['y_centroid'] * 10\n",
    "\n",
    "# ### Generate a color palette for the clusters - to make color stay consistent across samples\n",
    "# df['cell_type_newnum_final'] = df['cell_type_newnum_final'].astype(str)\n",
    "\n",
    "# # Create a palette with a unique color for each cluster\n",
    "# num_clusters = len(df['cell_type_newnum_final'].astype(int).unique())\n",
    "# palette = sns.color_palette(\"tab20\", n_colors=num_clusters)\n",
    "\n",
    "# # Map each 'leiden' value to a color\n",
    "# df['leiden_colors'] = df['cell_type_newnum_final'].astype(int).apply(lambda x: palette[x])\n",
    "\n",
    "# cell_type_unique = df['cell_type_final'].unique()\n",
    "# fig, ax = plt.subplots(figsize=(15, 10))\n",
    "# for idx, celltype in enumerate(cell_type_unique):\n",
    "#     adata_sel = df[(df['cell_type_final'] == celltype)]\n",
    "#     scat = ax.scatter(adata_sel['x_pixel'].values, adata_sel['y_pixel'].values, c=adata_sel['leiden_colors'], s = 1, label = celltype)\n",
    "\n",
    "# plt.legend(markerscale=5, scatterpoints=100, bbox_to_anchor=(1.02, 1), loc='upper left', borderaxespad=0)\n",
    "\n",
    "# # Set plot labels and title\n",
    "# plt.title('Xenium Spatial Transcriptomics - Cells Colored by Cell Type')"
   ]
  },
  {
   "cell_type": "markdown",
   "id": "96fe428c-b89c-4172-9309-ef6a2f0d236b",
   "metadata": {},
   "source": [
    "### Establish neighbors classifiers"
   ]
  },
  {
   "cell_type": "code",
   "execution_count": null,
   "id": "8ea9099f-d612-4639-9c38-e0b69cad9e96",
   "metadata": {},
   "outputs": [],
   "source": [
    "# K = 10\n",
    "\n",
    "# X = df[['x_pixel', 'y_pixel']].values\n",
    "# y = df['cell_type_newnum_final'].astype(int).values\n",
    "# knn = KNeighborsClassifier(n_neighbors=K)\n",
    "# knn.fit(X, y)\n",
    "# df['knn_celltype'] = knn.predict(X)\n",
    "\n",
    "# plt.figure(figsize=(16, 10))\n",
    "# plt.scatter(df['x_pixel'], df['y_pixel'], c=df['knn_celltype'],\n",
    "#             cmap='tab20', s=5, alpha=0.6)\n",
    "\n",
    "# plt.title('Xenium Spatial Transcriptomics - Cells Colored by KNNCell Type')"
   ]
  },
  {
   "cell_type": "code",
   "execution_count": null,
   "id": "b5f94f0d-a288-4d94-9f73-7fda09f276d4",
   "metadata": {},
   "outputs": [],
   "source": [
    "# from automap import knn_mst_clustering\n",
    "# # from automap import *\n",
    "\n",
    "# data = df\n",
    "# valid_celltypes = data['knn_celltype'].value_counts()[data['knn_celltype'].value_counts() > 100].index\n",
    "# data = data[data['knn_celltype'].isin(valid_celltypes)]\n",
    "# unique_cell_types = sorted(data['knn_celltype'].unique())\n",
    "\n",
    "# for cell_type in unique_cell_types:\n",
    "#     print(f\"Processing cell type {cell_type}...\")\n",
    "#     knn_mst_clustering(data, cell_type=cell_type, k=10)\n",
    "\n",
    "# # Save the updated dataframe with cluster labels\n",
    "# # data.to_csv('Xenium-data-coordinates-CTX-labeled.csv', index=False)\n",
    "# print(\"Data with cluster labels saved.\")"
   ]
  },
  {
   "cell_type": "code",
   "execution_count": null,
   "id": "ab631c3b-7c0e-4c18-be76-3cb7d8f74de5",
   "metadata": {},
   "outputs": [],
   "source": [
    "# data['knn_celltype'].value_counts()\n",
    "# data['cluster_label'].isna().sum()\n",
    "\n",
    "# # Get the value counts of each category\n",
    "# value_counts = data['cluster_label'].value_counts()\n",
    "\n",
    "# # Create a mapping based on the rank of value counts\n",
    "# mapping_drg = {label: idx for idx, label in enumerate(value_counts.index, 1)}\n",
    "\n",
    "# # Map the categorical strings to numbers based on the value counts\n",
    "# data['cluster_label_numeric'] = data['cluster_label'].map(mapping_drg)\n",
    "# data['cluster_label_numeric'].unique()\n",
    "# data = data.dropna(subset=['cluster_label_numeric'])\n",
    "# data['cluster_label_numeric'].isna().sum()"
   ]
  },
  {
   "cell_type": "markdown",
   "id": "e945cc8d-3498-4de6-93a6-0198de3b3abe",
   "metadata": {},
   "source": [
    "### Pixelize section and assign label"
   ]
  },
  {
   "cell_type": "code",
   "execution_count": null,
   "id": "7793b05c-2b25-40fe-860e-4cc0e771e484",
   "metadata": {},
   "outputs": [],
   "source": [
    "# from automap import assign_chunk_labels\n",
    "\n",
    "# chunk_size = 400  # Example chunk size\n",
    "# threshold = 0.5  # Example threshold\n",
    "# grid, x_bins, y_bins = assign_chunk_labels(data, chunk_size, threshold)\n",
    "\n",
    "# # Plot the grid array as an image\n",
    "# plt.figure(figsize=(16, 10))\n",
    "# plt.imshow(grid, origin='lower', cmap='tab20', extent=[x_bins[0], x_bins[-1], y_bins[0], y_bins[-1]])\n",
    "# plt.title('Contiguous Regions Colored by Cell Type')"
   ]
  },
  {
   "cell_type": "code",
   "execution_count": null,
   "id": "079c7fab-0f69-409e-be2f-f2a79e7c2b90",
   "metadata": {},
   "outputs": [],
   "source": [
    "# from automap import fill_any_chunks,fill_empty_chunks\n",
    "\n",
    "# filled_grid, x_bins, y_bins = fill_empty_chunks(grid, x_bins, y_bins, 4)\n",
    "# filled_grid, x_bins, y_bins = fill_empty_chunks(filled_grid, x_bins, y_bins, 3)\n",
    "# filled_grid, x_bins, y_bins = fill_empty_chunks(filled_grid, x_bins, y_bins, 4)\n",
    "# filled_grid, x_bins, y_bins = fill_empty_chunks(filled_grid, x_bins, y_bins, 3)\n",
    "# filled_grid, x_bins, y_bins = fill_any_chunks(filled_grid, x_bins, y_bins,4)\n",
    "# filled_grid, x_bins, y_bins = fill_empty_chunks(filled_grid, x_bins, y_bins, 3)\n",
    "# filled_grid, x_bins, y_bins = fill_empty_chunks(filled_grid, x_bins, y_bins, 2)\n",
    "# filled_grid, x_bins, y_bins = fill_empty_chunks(filled_grid, x_bins, y_bins, 2)\n",
    "# filled_grid, x_bins, y_bins = fill_empty_chunks(filled_grid, x_bins, y_bins, 3)\n",
    "# filled_grid, x_bins, y_bins = fill_any_chunks(filled_grid, x_bins, y_bins,4)\n",
    "# filled_grid, x_bins, y_bins = fill_any_chunks(filled_grid, x_bins, y_bins,3)\n",
    "# filled_grid, x_bins, y_bins = fill_any_chunks(filled_grid, x_bins, y_bins,3)\n",
    "\n",
    "# # Plot the grid array as an image\n",
    "# plt.figure(figsize=(16, 10))\n",
    "# plt.imshow(filled_grid, origin='lower', cmap='tab20', extent=[x_bins[0], x_bins[-1], y_bins[0], y_bins[-1]])\n",
    "# plt.title('Contiguous Regions Colored by Cell Type')"
   ]
  },
  {
   "cell_type": "code",
   "execution_count": null,
   "id": "92404cf7-3582-4584-bb69-99708cbc4ca1",
   "metadata": {},
   "outputs": [],
   "source": [
    "# # Create the mapping as before\n",
    "# mapping = data.groupby('knn_celltype')['cell_type_final'].agg(lambda x: x.value_counts().idxmax()).to_dict()\n",
    "\n",
    "# # Create a new column 'knn_celltype_label' using the mapping\n",
    "# data['knn_celltype_label'] = data['knn_celltype'].map(mapping)\n",
    "# data['cell_type_newnum_final'] = data['cell_type_newnum_final'].astype(int)\n",
    "\n",
    "# # Display the dataframe to verify\n",
    "# display(data[['knn_celltype', 'knn_celltype_label']].head())"
   ]
  },
  {
   "cell_type": "code",
   "execution_count": null,
   "id": "85d8027e-9421-41b0-b0c0-0ab9dc54f64b",
   "metadata": {},
   "outputs": [],
   "source": [
    "# from automap import smooth_boundary, plot_cells_and_chunks\n",
    "\n",
    "# plot_cells_and_chunks(data, filled_grid, x_bins, y_bins)\n",
    "# # plot_cells_and_chunks(df, filled_grid, x_bins, y_bins)"
   ]
  },
  {
   "cell_type": "markdown",
   "id": "b65d0cc2-0362-4a34-a9af-dd6df5c54608",
   "metadata": {},
   "source": [
    "### Export as GeoJson"
   ]
  },
  {
   "cell_type": "code",
   "execution_count": null,
   "id": "d126dfcc-a1a0-452d-9a6a-d2e5e8eae220",
   "metadata": {},
   "outputs": [],
   "source": [
    "# from automap import grid_to_geojson_with_scaling\n",
    "# import json\n",
    "\n",
    "# value_counts = data[['knn_celltype', 'cell_type_final']].value_counts()\n",
    "# value_counts_df = value_counts.reset_index(name='count')\n",
    "# most_common_pairs = value_counts_df.groupby('knn_celltype').apply(lambda x: x.nlargest(1, 'count'))\n",
    "# celltype_to_newnum = most_common_pairs.set_index('knn_celltype')['cell_type_final'].to_dict()\n",
    "# celltype_to_newnum = {key + 1: value for key, value in celltype_to_newnum.items()}\n",
    "\n",
    "# geojson_data = grid_to_geojson_with_scaling(filled_grid, x_bins, y_bins, celltype_to_newnum, scale_factor=10)\n",
    "\n",
    "# # Save the GeoJSON to a file\n",
    "# with open(f'{dir_notebook}/coordinates/Region_prediction/Xenium-data-coordinates-filtered_{sample_to_map}.geojson', 'w') as f:\n",
    "#     json.dump(geojson_data, f, indent=2)"
   ]
  },
  {
   "cell_type": "markdown",
   "id": "ab1cfeaf-7357-43d2-818c-ee22acf45c85",
   "metadata": {},
   "source": [
    "<font size=\"6\"><span style=\"color:red\">From here, go back to process the other automap </span></font>"
   ]
  },
  {
   "cell_type": "markdown",
   "id": "1f5c26e9-aee7-4667-9dc0-14474d9c0e6c",
   "metadata": {},
   "source": [
    "## Match cells with automatically generated regions"
   ]
  },
  {
   "cell_type": "markdown",
   "id": "455750c9-11ca-4731-926d-263ff9ddfed1",
   "metadata": {},
   "source": [
    "### Data pre-processing"
   ]
  },
  {
   "cell_type": "code",
   "execution_count": null,
   "id": "294472f6-78b9-480f-90ab-ab131d3abcef",
   "metadata": {},
   "outputs": [],
   "source": [
    "adata = sc.read_h5ad(f\"{dir_notebook}/h5ad/{name_dir}/{name_dir}_MMC_Banksy_annotated_combined.h5ad.gz\")"
   ]
  },
  {
   "cell_type": "code",
   "execution_count": null,
   "id": "a4a428bc-e9e3-4c28-9c93-e5927a1a1225",
   "metadata": {},
   "outputs": [],
   "source": [
    "samples_ids = adata.obs['sample'].unique()\n",
    "samples_ids"
   ]
  },
  {
   "cell_type": "code",
   "execution_count": null,
   "id": "95888228",
   "metadata": {},
   "outputs": [],
   "source": [
    "count = 0\n",
    "combine_dict = {}\n",
    "\n",
    "for sample_to_map in samples_ids:\n",
    "    count += 1\n",
    "    print(f'{datetime.now()}: mapping of {sample_to_map} ({count}/{len(samples_ids)})')\n",
    "    geojson  = gpd.read_file(f'{dir_notebook}/coordinates/Region_prediction/Xenium-data-coordinates-filtered_{sample_to_map}.geojson')\n",
    "    geojson['geometry'][1]\n",
    "    adata_sub = adata[adata.obs['sample'] == sample_to_map]\n",
    "\n",
    "    ### Cell mapping\n",
    "    centroid_gdp = gpd.GeoDataFrame(adata_sub.obs, geometry=gpd.points_from_xy(adata_sub.obs.x_centroid, adata_sub.obs.y_centroid))\n",
    "    centroid_gdp.index.name = None\n",
    "    centroid_gdp.crs = 'EPSG:4326'\n",
    "    matched_cells = gpd.sjoin(centroid_gdp, geojson, predicate='within', how='left')\n",
    "\n",
    "    mapping_dict_reg = dict(zip(matched_cells['cell_id'], matched_cells['cell_type_newnum_final_right']))\n",
    "    adata_sub.obs['region_automap'] = adata_sub.obs['cell_id'].map(mapping_dict_reg)\n",
    "\n",
    "    all_cell_type = adata_sub.obs['region_automap'].unique()\n",
    "    list_cell_nb = range(0, len(all_cell_type))\n",
    "    mapping_dict = dict(zip(all_cell_type,list_cell_nb))\n",
    "    adata_sub.obs['region_automap_newnum'] = adata_sub.obs['region_automap'].map(mapping_dict)\n",
    "\n",
    "    mapping_dict_reg = dict(zip(adata_sub.obs['cell_id'], adata_sub.obs['region_automap']))\n",
    "    combine_dict.update(mapping_dict_reg)\n",
    "    \n",
    "print(f'{datetime.now()}: dict done')\n",
    "adata.obs['region_automap_name'] = adata.obs['cell_id'].map(combine_dict)\n",
    "\n",
    "if 'leiden_colors' in adata.obs:\n",
    "    adata.obs = adata.obs.drop(columns=['leiden_colors'])\n",
    "\n",
    "adata.write(f\"{dir_notebook}/h5ad/{name_dir}/{name_dir}_MMC_Banksy_annotated_automap.h5ad.gz\", compression = 'gzip')\n",
    "\n",
    "adata.obs.to_csv(f\"{dir_notebook}/csv/{name_dir}/{name_dir}_MMC_Banksy_annotated_automap.csv.gz\",\n",
    "         compression={'method': 'gzip'})\n"
   ]
  },
  {
   "cell_type": "code",
   "execution_count": null,
   "id": "58936851",
   "metadata": {},
   "outputs": [],
   "source": [
    "adata.obs['region_automap_name'].unique()"
   ]
  },
  {
   "cell_type": "code",
   "execution_count": null,
   "id": "99af7396-9430-486c-8aa4-ce60db7a47d4",
   "metadata": {},
   "outputs": [],
   "source": [
    "# # Change number between [] to go from one sample to another. Start with 0\n",
    "# sample_to_map = samples_ids[5]\n",
    "# sample_to_map"
   ]
  },
  {
   "cell_type": "code",
   "execution_count": null,
   "id": "c6c5a108-9805-41ed-aee3-e7d3eab64693",
   "metadata": {},
   "outputs": [],
   "source": [
    "# geojson  = gpd.read_file(f'{dir_notebook}/coordinates/Region_prediction/Xenium-data-coordinates-filtered_{sample_to_map}.geojson')"
   ]
  },
  {
   "cell_type": "code",
   "execution_count": null,
   "id": "87e209d3-5644-4fce-8171-37b8fce38c60",
   "metadata": {},
   "outputs": [],
   "source": [
    "# geojson"
   ]
  },
  {
   "cell_type": "code",
   "execution_count": null,
   "id": "b022f969-eb5c-4eb8-b745-d7f27cdf18d2",
   "metadata": {},
   "outputs": [],
   "source": [
    "# geojson['geometry'][1]"
   ]
  },
  {
   "cell_type": "code",
   "execution_count": null,
   "id": "de1dbb74-99f2-42b3-b6a6-7ea5428390ff",
   "metadata": {},
   "outputs": [],
   "source": [
    "# adata_sub = adata[adata.obs['sample'] == sample_to_map]"
   ]
  },
  {
   "cell_type": "markdown",
   "id": "ee37014f-a007-465a-91ed-8ec9379ca648",
   "metadata": {},
   "source": [
    "### Cell mapping"
   ]
  },
  {
   "cell_type": "code",
   "execution_count": null,
   "id": "89ba53ba-3192-46a4-af22-fb3ae43aa3c7",
   "metadata": {},
   "outputs": [],
   "source": [
    "# #Region mapping\n",
    "\n",
    "# centroid_gdp = gpd.GeoDataFrame(adata_sub.obs, geometry=gpd.points_from_xy(adata_sub.obs.x_centroid, adata_sub.obs.y_centroid))\n",
    "# centroid_gdp.index.name = None\n",
    "# centroid_gdp.crs = 'EPSG:4326'\n",
    "# matched_cells = gpd.sjoin(centroid_gdp, geojson, predicate='within', how='left')\n"
   ]
  },
  {
   "cell_type": "code",
   "execution_count": null,
   "id": "90a0ee01-c38e-435d-afc4-68f162913539",
   "metadata": {},
   "outputs": [],
   "source": [
    "# mapping_dict_reg = dict(zip(matched_cells['cell_id'], matched_cells['cell_type_newnum_right']))\n",
    "# adata_sub.obs['region_automap'] = adata_sub.obs['cell_id'].map(mapping_dict_reg)\n",
    "\n",
    "# all_cell_type = adata_sub.obs['region_automap'].unique()\n",
    "# list_cell_nb = range(0, len(all_cell_type))\n",
    "# mapping_dict = dict(zip(all_cell_type,list_cell_nb))\n",
    "# adata_sub.obs['region_automap_newnum'] = adata_sub.obs['region_automap'].map(mapping_dict)\n",
    "# mapping_dict"
   ]
  },
  {
   "cell_type": "markdown",
   "id": "d775dcaa-8f67-4684-94b8-6ef5803bdb7a",
   "metadata": {},
   "source": [
    "### Create dictionnary and combine it with other samples"
   ]
  },
  {
   "cell_type": "code",
   "execution_count": null,
   "id": "9d7b7c1b-69a9-41e2-8c47-3f5adf35dd1b",
   "metadata": {},
   "outputs": [],
   "source": [
    "mapping_dict_reg = dict(zip(adata_sub.obs['cell_id'], adata_sub.obs['region_automap']))"
   ]
  },
  {
   "cell_type": "code",
   "execution_count": null,
   "id": "61191f23-306b-4075-b6be-0d0eb9ac3ab1",
   "metadata": {},
   "outputs": [],
   "source": [
    "# if 'combine_dict' in locals():\n",
    "#     combine_dict.update(mapping_dict_reg)\n",
    "# else:\n",
    "#     combine_dict = {}\n",
    "#     combine_dict.update(mapping_dict_reg)"
   ]
  },
  {
   "cell_type": "markdown",
   "id": "daf490a5-5469-49eb-bd49-5e9a088380e7",
   "metadata": {},
   "source": [
    "<font size=\"6\"><span style=\"color:red\">From here, go back to process the other annotations </span></font>"
   ]
  },
  {
   "cell_type": "markdown",
   "id": "5f43ca3a-db1c-4133-a4aa-ef28a50abdc9",
   "metadata": {},
   "source": [
    "### Apply combined dictionnary"
   ]
  },
  {
   "cell_type": "code",
   "execution_count": null,
   "id": "773e2cb0-9558-4c7a-b8bc-87cb8835df19",
   "metadata": {},
   "outputs": [],
   "source": [
    "# ### Only run when you are done with all samples automap annotations\n",
    "\n",
    "# adata.obs['region_automap_name'] = adata.obs['cell_id'].map(combine_dict)"
   ]
  },
  {
   "cell_type": "markdown",
   "id": "4f57102f-5145-4eab-8633-bd497821b97e",
   "metadata": {},
   "source": [
    "## Output"
   ]
  },
  {
   "cell_type": "code",
   "execution_count": null,
   "id": "fe69fce6-ec13-4432-a932-8e035856c887",
   "metadata": {
    "scrolled": true
   },
   "outputs": [],
   "source": [
    "if 'leiden_colors' in adata.obs:\n",
    "    adata.obs = adata.obs.drop(columns=['leiden_colors'])\n",
    "\n",
    "adata.write(f\"{dir_notebook}/h5ad/{name_dir}/{name_dir}_MMC_Banksy_annotated_automap.h5ad.gz\", compression = 'gzip')\n",
    "\n",
    "adata.obs.to_csv(f\"{dir_notebook}/csv/{name_dir}/{name_dir}_MMC_Banksy_annotated_automap.csv.gz\",\n",
    "         compression={'method': 'gzip'})"
   ]
  },
  {
   "cell_type": "code",
   "execution_count": null,
   "id": "c7cbc23b-f079-4bae-84f2-37fd03616edd",
   "metadata": {},
   "outputs": [],
   "source": [
    "adata = sc.read_h5ad(f\"{dir_notebook}/h5ad/{name_dir}/{name_dir}_MMC_Banksy_annotated_automap.h5ad.gz\")"
   ]
  },
  {
   "cell_type": "code",
   "execution_count": null,
   "id": "e1928a4f-d8f3-45e0-9d61-15dab1e4aa39",
   "metadata": {},
   "outputs": [],
   "source": [
    "adata.obs[['x_centroid','y_centroid']].sample(5)"
   ]
  },
  {
   "cell_type": "markdown",
   "id": "70d500e9-d5fb-42ce-a114-eb3261770af5",
   "metadata": {},
   "source": [
    "# Manual Map"
   ]
  },
  {
   "cell_type": "code",
   "execution_count": null,
   "id": "afc05ff4-49c1-419e-82ac-5fda866400c4",
   "metadata": {},
   "outputs": [],
   "source": [
    "adata = sc.read_h5ad(f\"{dir_notebook}/h5ad/{name_dir}/{name_dir}_MMC_Banksy_annotated_automap.h5ad.gz\") \n",
    "# adata = sc.read_h5ad(f\"{dir_notebook}/h5ad/{name_dir}/{name_dir}_final.h5ad.gz\") "
   ]
  },
  {
   "cell_type": "code",
   "execution_count": null,
   "id": "0621188c-c2c3-4cc2-bcd5-2f21d888e9c7",
   "metadata": {},
   "outputs": [],
   "source": [
    "sample_ids = adata.obs['sample'].unique()\n",
    "sample_ids"
   ]
  },
  {
   "cell_type": "code",
   "execution_count": null,
   "id": "930f0607-f35e-4bb7-9aee-66c70fbfcfb3",
   "metadata": {},
   "outputs": [],
   "source": [
    "### Choose sample to map here:\n",
    "sample_to_map = sample_ids[0]\n",
    "sample_to_map\n",
    "BR_df = pd.read_csv(f\"coordinates/XE_selection/{sample_to_map}-RL.csv\",comment = '#')"
   ]
  },
  {
   "cell_type": "code",
   "execution_count": null,
   "id": "66b319b7",
   "metadata": {},
   "outputs": [],
   "source": [
    "for sample_to_map in sample_ids:\n",
    "    BR_df = pd.read_csv(f\"coordinates/XE_selection/{sample_to_map}-RL.csv\",comment = '#')\n",
    "    # Group the dataframe by the \"Selection\" column\n",
    "    grouped = BR_df.groupby('Selection')\n",
    "\n",
    "    # List to hold GeoJSON features\n",
    "    features = []\n",
    "\n",
    "    for name, group in grouped:\n",
    "        # Create a list of coordinates for each region\n",
    "        coordinates = [(x, y) for x, y in zip(group['X'], group['Y'])]\n",
    "        if coordinates[0] != coordinates[-1]:\n",
    "            coordinates.append(coordinates[0])\n",
    "        \n",
    "        # Create a GeoJSON polygon for the region\n",
    "        polygon = geojson.Polygon([coordinates])\n",
    "        feature = geojson.Feature(geometry=polygon, properties={\"region\": name})\n",
    "        features.append(feature)\n",
    "\n",
    "    # Create a GeoJSON FeatureCollection\n",
    "    feature_collection = geojson.FeatureCollection(features)\n",
    "\n",
    "    # Save the GeoJSON FeatureCollection to a file\n",
    "    with open(f'coordinates/{sample_to_map}_regions_manual.geojson', 'w') as f:\n",
    "        geojson.dump(feature_collection, f)\n",
    "\n",
    "    print(f\"GeoJSON {sample_to_map} saved\")"
   ]
  },
  {
   "cell_type": "code",
   "execution_count": null,
   "id": "188b9212-98c2-44dc-9b4b-ed96bb78aaaf",
   "metadata": {},
   "outputs": [],
   "source": [
    "for sample_to_map in sample_ids:\n",
    "    regions_df = gpd.read_file(f'coordinates/{sample_to_map}_regions_manual.geojson')\n",
    "    #Region mapping\n",
    "    adata_region_sub = adata[adata.obs['sample']== sample_to_map]\n",
    "\n",
    "    centroid_gdp = gpd.GeoDataFrame(adata_region_sub.obs, geometry=gpd.points_from_xy(adata_region_sub.obs.x_centroid, adata_region_sub.obs.y_centroid))\n",
    "    centroid_gdp.index.name = None\n",
    "    centroid_gdp.crs = 'EPSG:4326'\n",
    "    matched_cells = gpd.sjoin(centroid_gdp, regions_df, predicate='within', how='left')\n",
    "    mapping_dict_reg = dict(zip(matched_cells['cell_id'], matched_cells['region']))\n",
    "    adata_region_sub.obs['region_manual'] = adata_region_sub.obs['cell_id'].map(mapping_dict_reg)\n",
    "\n",
    "    all_cell_type = adata_region_sub.obs['region_manual'].unique()\n",
    "    list_cell_nb = range(0, len(all_cell_type))\n",
    "    mapping_dict = dict(zip(all_cell_type,list_cell_nb))\n",
    "    adata_region_sub.obs['region_manual_newnum'] = adata_region_sub.obs['region_manual'].map(mapping_dict)\n",
    "    mapping_dict_reg = dict(zip(adata_region_sub.obs['cell_id'], adata_region_sub.obs['region_manual']))\n",
    "\n",
    "    if 'combine_dict_region' not in locals():\n",
    "        combine_dict_region = {}\n",
    "        combine_dict_region.update(mapping_dict_reg)   \n",
    "    else:\n",
    "        combine_dict_region.update(mapping_dict_reg)\n"
   ]
  },
  {
   "cell_type": "markdown",
   "id": "0d9d2afd-96ba-4b94-bc84-49dcb948ca06",
   "metadata": {},
   "source": [
    "<font size=\"6\"><span style=\"color:red\">From here, go back to process the other samples </span></font>"
   ]
  },
  {
   "cell_type": "markdown",
   "id": "e5f6cb47-6dc4-4616-b87e-cdc7a6c34bef",
   "metadata": {},
   "source": [
    "## Apply combined dictionnary"
   ]
  },
  {
   "cell_type": "code",
   "execution_count": null,
   "id": "43fdefbc-f0d8-4558-a315-95b8109cdb4a",
   "metadata": {},
   "outputs": [],
   "source": [
    "### Only run when you are done with all samples automap annotations\n",
    "adata.obs['region_manual_name'] = adata.obs['cell_id'].map(combine_dict_region)"
   ]
  },
  {
   "cell_type": "code",
   "execution_count": null,
   "id": "3a68c5d5-6f67-497e-b0b0-f9d03f726b68",
   "metadata": {},
   "outputs": [],
   "source": [
    "adata.obs['region_manual_name'].value_counts()"
   ]
  },
  {
   "cell_type": "markdown",
   "id": "859b07be-fa24-4f1b-a9a4-a4667ac19a82",
   "metadata": {},
   "source": [
    "# Final Output"
   ]
  },
  {
   "cell_type": "code",
   "execution_count": null,
   "id": "f4ce2d7b-7c8e-499e-b795-b69f82cab57f",
   "metadata": {
    "scrolled": true
   },
   "outputs": [],
   "source": [
    "if 'leiden_colors' in adata.obs:\n",
    "    adata.obs = adata.obs.drop(columns=['leiden_colors'])\n",
    "\n",
    "adata.write(f\"{dir_notebook}/h5ad/{name_dir}/{name_dir}_MMC_Banksy_annotated_automap.h5ad.gz\", compression = 'gzip')\n",
    "\n",
    "adata.obs.to_csv(f\"{dir_notebook}/csv/{name_dir}/{name_dir}_MMC_Banksy_annotated_automap.csv.gz\",\n",
    "         compression={'method': 'gzip'})"
   ]
  },
  {
   "cell_type": "code",
   "execution_count": null,
   "id": "960c5cf0-90d4-4aac-85bf-2340afd31ee3",
   "metadata": {},
   "outputs": [],
   "source": [
    "adata = sc.read_h5ad(f\"{dir_notebook}/h5ad/{name_dir}/{name_dir}_MMC_Banksy_annotated_automap.h5ad.gz\")"
   ]
  },
  {
   "cell_type": "code",
   "execution_count": null,
   "id": "d77e1875",
   "metadata": {},
   "outputs": [],
   "source": [
    "adata = sc.read_h5ad(f\"{dir_notebook}/h5ad/{name_dir}/{name_dir}_final.h5ad.gz\")"
   ]
  },
  {
   "cell_type": "markdown",
   "id": "17c7d514-7290-4be2-ad7b-399a9fde76eb",
   "metadata": {},
   "source": [
    "# Data visualization"
   ]
  },
  {
   "cell_type": "markdown",
   "id": "242af4fb-4b24-4b33-9d5f-620b6c62624a",
   "metadata": {},
   "source": [
    "## UMAP"
   ]
  },
  {
   "cell_type": "code",
   "execution_count": null,
   "id": "b8613db8-3ed3-457f-8b1c-1da5df3edfdb",
   "metadata": {},
   "outputs": [],
   "source": [
    "### Choose one cluster to work with\n",
    "cluster_to_use = 'leiden'\n",
    "# cluster_to_use = 'cell_type_newnum'\n",
    "# cluster_to_use = 'cell_type_newnum_auto'\n",
    "# cluster_to_use = 'cell_type_newnum_auto_sub'\n",
    "# cluster_to_use = 'cell_type_newnum_final'\n",
    "# cluster_to_use = 'labels_scaled_gaussian_pc20_nc0.20_r0.70'"
   ]
  },
  {
   "cell_type": "code",
   "execution_count": null,
   "id": "800fa6eb-8062-47c6-9d14-144a750184b9",
   "metadata": {},
   "outputs": [],
   "source": [
    "adata.obsm['umap'] = adata.obsm['reduced_pc_20_umap']\n",
    "adata.obsm['pca'] = adata.obsm['reduced_pc_20']"
   ]
  },
  {
   "cell_type": "code",
   "execution_count": null,
   "id": "6905c044-9ddb-491b-abf0-64b951528ee3",
   "metadata": {},
   "outputs": [],
   "source": [
    "### Generate a color palette for the clusters - to make color stay consistent across samples\n",
    "adata.obs[cluster_to_use] = adata.obs[cluster_to_use].astype(str)\n",
    "\n",
    "# Create a palette with a unique color for each cluster\n",
    "num_clusters = len(adata.obs[cluster_to_use].astype(int).unique())\n",
    "palette = sns.color_palette(\"tab20b\", n_colors=num_clusters)\n",
    "\n",
    "# Map each 'leiden' value to a color\n",
    "adata.obs['leiden_colors'] = adata.obs[cluster_to_use].astype(int).apply(lambda x: palette[x])"
   ]
  },
  {
   "cell_type": "code",
   "execution_count": null,
   "id": "e2c14398-bdea-46b7-be15-c25ce263bb71",
   "metadata": {},
   "outputs": [],
   "source": [
    "### Let's make UMAP plot. We will also add the cluster centroids to the plot\n",
    "adata.obs['umap-1'] = adata.obsm['umap'][:, 0]\n",
    "adata.obs['umap-2'] = adata.obsm['umap'][:, 1]\n",
    "# cluster_centroids = adata.obs.groupby(cluster_to_use)[['umap-1', 'umap-2']].median()\n",
    "adata.obs['umap-3'] = adata.obsm['reduced_pc_20_umap'][:, 0]\n",
    "adata.obs['umap-4'] = adata.obsm['reduced_pc_20_umap'][:, 1]\n",
    "# cluster_centroids = adata.obs.groupby(cluster_to_use)[['umap-1', 'umap-2']].median()"
   ]
  },
  {
   "cell_type": "code",
   "execution_count": null,
   "id": "90c99252-185b-4c75-85a7-484a1065d2c6",
   "metadata": {},
   "outputs": [],
   "source": [
    "## Draw UMAP\n",
    "# a = int(len(samples) / 2)\n",
    "# b = 2\n",
    "\n",
    "fig, axs = plt.subplots(4,3\n",
    "                        #, figsize=(20,20)\n",
    "                        )\n",
    "axs = axs.flatten()\n",
    "\n",
    "def plot_umap(adata, color_column, ax, title=None):\n",
    "    scatter = ax.scatter(adata.obs['umap-3'], adata.obs['umap-4'], c=adata.obs[color_column], s=0.1, alpha=0.8)\n",
    "    ax.set_title(title)\n",
    "    ax.axis('off')\n",
    "\n",
    "for i, sample in enumerate(samples_ids):\n",
    "    sample_data = adata[adata.obs['sample'] == sample]\n",
    "    plot_umap(sample_data, 'leiden_colors', axs[i], title=f\"UMAP for {sample}\")\n",
    "    cluster_centroids = sample_data.obs.groupby(cluster_to_use)[['umap-3', 'umap-4']].median()\n",
    "    \n",
    "    for cluster_id, centroid in cluster_centroids.iterrows():\n",
    "        axs[i].text(centroid['umap-3'], centroid['umap-4'], str(cluster_id), color='black', fontsize=12, ha = 'center')\n",
    "\n",
    "\n",
    "# plt.savefig(f\"/mnt/d/Jupyter_notebook/Xenium_jupyter_notebook/plot/{name_dir}/{name_dir}_UMAP_{cluster_to_use}.png\")\n",
    "del sample_data"
   ]
  },
  {
   "cell_type": "code",
   "execution_count": null,
   "id": "69e38a48-652c-4d0a-95f2-a2a18b407be6",
   "metadata": {},
   "outputs": [],
   "source": [
    "cell_type_unique = adata.obs['cell_type_newnum_final'].unique()\n",
    "cluster_centroids = adata.obs.groupby('cell_type_newnum_final')[['umap-3', 'umap-4']].median()\n",
    "\n",
    "### Generate a color palette for the clusters - to make color stay consistent across samples\n",
    "adata.obs[cluster_to_use] = adata.obs[cluster_to_use].astype(str)\n",
    "\n",
    "# Create a palette with a unique color for each cluster\n",
    "num_clusters = len(adata.obs[cluster_to_use].astype(int).unique())\n",
    "palette = sns.color_palette(\"tab20b\", n_colors=num_clusters)\n",
    "\n",
    "# Map each 'leiden' value to a color\n",
    "adata.obs['leiden_colors'] = adata.obs[cluster_to_use].astype(int).apply(lambda x: palette[x])\n",
    "\n",
    "fig, ax = plt.subplots(figsize=(15, 10))\n",
    "for idx, celltype in enumerate(cell_type_unique):\n",
    "    adata_sel = adata[(adata.obs['cell_type_newnum_final'] == celltype)]\n",
    "    celltype_name = adata_sel.obs['cell_type_final'].unique()[0]\n",
    "    # celltype = celltype.astype(str)\n",
    "    celltype_combine = str(celltype) + '_' + celltype_name\n",
    "    scat = ax.scatter(adata_sel.obs['umap-3'].values, adata_sel.obs['umap-4'].values, c=adata_sel.obs['leiden_colors'], s = 0.01, label = celltype_combine)\n",
    "for cluster_id, centroid in cluster_centroids.iterrows():\n",
    "    ax.text(centroid['umap-3'], centroid['umap-4'], str(cluster_id), color='black', fontsize=12, ha = 'center')\n",
    "\n",
    "plt.legend(markerscale=20, scatterpoints=1000, bbox_to_anchor=(1.02, 1), loc='upper left', borderaxespad=0)\n",
    "\n",
    "# plt.savefig(f\"/mnt/d/Jupyter_notebook/Xenium_jupyter_notebook/plot/{name_dir}/{name_dir}_UMAP_all.png\")\n",
    "del adata_sel"
   ]
  },
  {
   "cell_type": "code",
   "execution_count": null,
   "id": "95b3622f-48e7-4c6e-9941-9c6953325c92",
   "metadata": {},
   "outputs": [],
   "source": [
    "sc.pl.umap(adata, color=[\"Pvalb\"], vmin = 0)"
   ]
  },
  {
   "cell_type": "code",
   "execution_count": null,
   "id": "6bc63049-2d60-4063-998a-20edec18b193",
   "metadata": {},
   "outputs": [],
   "source": [
    "### Generate a color palette for the clusters - to make color stay consistent across samples\n",
    "adata.obs['sample'] = adata.obs['sample'].astype(str)\n",
    "dict_sample = {\"3161-1\": 0,\n",
    "              \"3159-2\":1,\n",
    "              \"2505-1\":0,\n",
    "              \"2505-2\":1,\n",
    "              \"2670-1\":4,\n",
    "              \"3160-1\":3,\n",
    "              \"3160-2\":2,\n",
    "              \"3159-1\":5\n",
    "              \n",
    "              \n",
    "              }\n",
    "adata.obs['sample_id'] = adata.obs['sample'].map(dict_sample) \n",
    "\n",
    "# Create a palette with a unique color for each cluster\n",
    "num_clusters = len(adata.obs['sample_id'].astype(int).unique())\n",
    "palette = sns.color_palette(\"tab20\", n_colors=num_clusters)\n",
    "\n",
    "# Map each 'leiden' value to a color\n",
    "adata.obs['leiden_colors'] = adata.obs['sample_id'].astype(int).apply(lambda x: palette[x])\n",
    "\n",
    "cell_type_unique = adata.obs['sample_id'].unique()\n",
    "cluster_centroids = adata.obs.groupby('sample_id')[['umap-3', 'umap-4']].median()\n",
    "\n",
    "fig, ax = plt.subplots(figsize=(15, 10))\n",
    "\n",
    "for idx, celltype in enumerate(cell_type_unique):\n",
    "    adata_sel = adata[(adata.obs['sample_id'] == celltype)]\n",
    "    scat = ax.scatter(adata_sel.obs['umap-3'].values, adata_sel.obs['umap-4'].values, c=adata_sel.obs['leiden_colors'], s = 0.05, label = celltype)\n",
    "for cluster_id, centroid in cluster_centroids.iterrows():\n",
    "    ax.text(centroid['umap-3'], centroid['umap-4'], str(cluster_id), color='black', fontsize=12, ha = 'center')\n",
    "\n",
    "plt.legend(markerscale=20, scatterpoints=1000, bbox_to_anchor=(1.02, 1), loc='upper left', borderaxespad=0)\n",
    "\n",
    "# plt.savefig(f\"/mnt/d/Jupyter_notebook/Xenium_jupyter_notebook/plot/{name_dir}/{name_dir}_UMAP_all.png\")"
   ]
  },
  {
   "cell_type": "markdown",
   "id": "382f34d7-fd5d-4aa4-ac27-12eae64351d4",
   "metadata": {},
   "source": [
    "## Quick look at the data"
   ]
  },
  {
   "cell_type": "code",
   "execution_count": null,
   "id": "324db06c-6a32-41dc-95db-8dc04af72c70",
   "metadata": {},
   "outputs": [],
   "source": [
    "### Choose one cluster to work with\n",
    "cluster_to_use = 'cell_type_newnum_final'\n",
    "# cluster_to_use = 'cell_type_newnum_auto_sub'\n",
    "# cluster_to_use = 'cell_type_newnum_auto'\n",
    "# cluster_to_use = 'cell_class_newnum_auto'\n",
    "# cluster_to_use = 'L04_newnum'\n",
    "# cluster_to_use = 'region_automap_num'\n",
    "cluster_to_use = 'leiden'"
   ]
  },
  {
   "cell_type": "code",
   "execution_count": null,
   "id": "fb173465-34a9-4eaa-bcaa-750e1f7716f1",
   "metadata": {},
   "outputs": [],
   "source": [
    "adata.obs['x_centroid'].astype('float')\n",
    "adata.obs['y_centroid'].astype('float')\n",
    "\n",
    "if cluster_to_use == 'cell_type_newnum_auto_sub':\n",
    "    label_to_use = 'cell_type_auto_sub'\n",
    "elif cluster_to_use == 'cell_type_newnum_auto':\n",
    "    label_to_use = 'cell_type_auto'\n",
    "elif cluster_to_use == 'cell_type_newnum_final':\n",
    "    label_to_use = 'cell_type_final'\n",
    "elif cluster_to_use == 'region_automap_num':\n",
    "    label_to_use = 'region_automap_name'\n",
    "else:\n",
    "    label_to_use = 'leiden'\n",
    "\n",
    "### Generate a color palette for the clusters - to make color stay consistent across samples\n",
    "adata.obs[cluster_to_use] = adata.obs[cluster_to_use].astype(str)\n",
    "\n",
    "# Create a palette with a unique color for each cluster\n",
    "num_clusters = len(adata.obs[cluster_to_use].astype(int).unique())\n",
    "palette = sns.color_palette(\"tab20b\", n_colors=num_clusters +1)\n",
    "\n",
    "# Map each 'leiden' value to a color\n",
    "adata.obs['leiden_colors'] = adata.obs[cluster_to_use].astype(int).apply(lambda x: palette[x])\n",
    "\n",
    "# Map all cells\n",
    "fig, axs = plt.subplots(1,3,figsize=(40,10))\n",
    "axs = axs.flatten()# Mapping of clusters\n",
    "# colors = adata.uns['leiden_colors']\n",
    "# needed_list = [str(i) for i in range(0, len(adata.obs['leiden0.4'].unique()))]\n",
    "\n",
    "clusters_plot = {\"2\":\"black\",\n",
    "                 \"47\": 'magenta',\"6\": 'blue', \"44\": 'green', \"61\":'red', \"\":'pink',\"\":'black', \"\":\"darkgreen\"\n",
    "                }\n",
    "\n",
    "samples_ids = adata.obs['sample'].unique()\n",
    "for idx, sample in enumerate(samples_ids):\n",
    "    adata_sel = adata[(adata.obs['sample'] == sample)]\n",
    "    for cluster_id in adata_sel.obs[cluster_to_use].unique():\n",
    "        cluster_data = adata_sel.obs[adata_sel.obs[cluster_to_use] == cluster_id]\n",
    "        colors = clusters_plot[cluster_id] if cluster_id in clusters_plot else \"none\" ### for selected clusters in cluster_plot\n",
    "        colors= cluster_data['leiden_colors'].unique()[0] ### for all clusters\n",
    "        axs[idx].scatter(cluster_data['x_centroid'], cluster_data['y_centroid'], color=colors, s=0.1, label=cluster_data[label_to_use].unique()[0])\n",
    "        axs[idx].set_title(f\"Sample {sample}\")\n",
    "        \n",
    "\n",
    "plt.legend(markerscale=50, scatterpoints=100, bbox_to_anchor=(1.02, 1), loc='upper left', borderaxespad=0)\n",
    "# plt.savefig(f\"plot/{name_dir}/{name_dir}_map_{cluster_to_use}_2.png\")"
   ]
  },
  {
   "cell_type": "code",
   "execution_count": null,
   "id": "77f9367b",
   "metadata": {},
   "outputs": [],
   "source": [
    "### Plot gene expression\n",
    "\n",
    "import seaborn as sns\n",
    "import matplotlib.pyplot as plt\n",
    "sns.set_theme(style=\"white\")\n",
    "\n",
    "gene_ = 'CD68'\n",
    "adata_temp = adata\n",
    "df_dict = dict(zip(df.index, df[gene_]))\n",
    "adata_temp.obs[gene_] = adata_temp.obs['cell_id'].map(df_dict)\n",
    "\n",
    "### to crop\n",
    "adata_temp = adata_temp[(adata_temp.obs['x_centroid'] > 4000) & (adata_temp.obs['x_centroid'] < 6000)\n",
    "                            & (adata_temp.obs['y_centroid'] > 4000) & (adata_temp.obs['y_centroid'] < 5000)]\n",
    "\n",
    "# f, ax = plt.subplots(figsize=(15, 10))\n",
    "\n",
    "fig, axs = plt.subplots(3,2#,figsize=(15, 15)\n",
    "                        )\n",
    "axs = axs.flatten()# Mapping of clusters\n",
    "\n",
    "for idx, sample in enumerate(samples_ids):\n",
    "    adata_graph = adata_temp[adata_temp.obs['sample'] == sample]\n",
    "    \n",
    "    sns.scatterplot(x='x_centroid', y='y_centroid',\n",
    "                s=2, legend= False,\n",
    "                palette='viridis',\n",
    "                hue=gene_,\n",
    "                data=adata_graph.obs, ax=axs[idx]).set(title=f\"{sample} - {gene_}\", xlabel = None, ylabel = None, xticklabels = [],yticklabels = [])\n",
    "\n",
    "# Create the colorbar\n",
    "norm = mpl.colors.Normalize(vmin=adata_temp.obs[gene_].min(),vmax=adata_temp.obs[gene_].max())\n",
    "sm = mpl.cm.ScalarMappable(cmap='viridis', norm=norm)\n",
    "sm.set_array([])\n",
    "cbar = fig.colorbar(sm, ax=axs[-1], aspect=40, shrink=0.8)  # Adjust aspect/shrink\n",
    "\n",
    "del adata_temp, adata_graph\n"
   ]
  },
  {
   "cell_type": "code",
   "execution_count": null,
   "id": "1a8f5ac7-9367-46bd-ac8c-474cbd0cd836",
   "metadata": {},
   "outputs": [],
   "source": [
    "import math\n",
    "# to_use = 'total_transcript' ### Run1\n",
    "to_use = 'transcript_counts' ### Run3\n",
    "samples = adata.obs['sample'].unique()\n",
    "\n",
    "### Map log transcript counts \n",
    "adata_sel = adata[(adata.obs['sample'] == samples[1])]\n",
    "adata_sel.obs[to_use] = adata_sel.obs[to_use].astype(float)\n",
    "adata_sel.obs['log_transcript_counts'] = adata_sel.obs[to_use].apply(lambda x: math.log10(x))\n",
    "\n",
    "fig, ax = plt.subplots(figsize=(15,15))\n",
    "transcript_counts_unique = adata_sel.obs['log_transcript_counts'].unique()\n",
    "cmap = plt.cm.jet\n",
    "for cluster_id in transcript_counts_unique:\n",
    "    cluster_data = adata_sel.obs[adata_sel.obs['log_transcript_counts'] == cluster_id]\n",
    "    colors = cmap((cluster_id - transcript_counts_unique.min()) / (transcript_counts_unique.max() - transcript_counts_unique.min()))\n",
    "    plt.scatter(cluster_data['x_centroid'], cluster_data['y_centroid'], color=colors, s=1, label=cluster_id)\n",
    "plt.xlabel('x_centroid')\n",
    "plt.ylabel('y_centroid')\n",
    "plt.title('Map of transcript counts (log)')\n",
    "\n",
    "# Add colorbar\n",
    "sm = plt.cm.ScalarMappable(cmap=cmap)\n",
    "sm.set_array(transcript_counts_unique)\n",
    "divider = make_axes_locatable(ax)\n",
    "cbar_ax = divider.append_axes('right', size='1.5%', pad=0.05)\n",
    "plt.colorbar(sm, cax=cbar_ax, label='Transcript Counts')\n",
    "plt.ylabel('Transcript counts (log)')\n",
    "\n",
    "# plt.savefig(f\"/mnt/d/Jupyter_notebook/Xenium_jupyter_notebook/plot/{name_dir}/{name_dir}_logtranscounts.png\")"
   ]
  },
  {
   "cell_type": "code",
   "execution_count": null,
   "id": "66589592-6d82-4fbe-a5a0-4959f3e69f32",
   "metadata": {},
   "outputs": [],
   "source": [
    "# to_use = 'n_genes' ### Run1\n",
    "to_use = 'n_genes_by_counts' ### Run3\n",
    "samples = adata.obs['sample'].unique()\n",
    "\n",
    "### Map log n_genes_by_counts \n",
    "adata_sel = adata[(adata.obs['sample'] == samples[1])]\n",
    "adata_sel.obs[to_use] = adata_sel.obs[to_use].astype(float)\n",
    "adata_sel.obs['log_n_genes_by_counts'] = adata_sel.obs[to_use].apply(lambda x: math.log10(x))\n",
    "\n",
    "fig, ax = plt.subplots(figsize=(15,15))\n",
    "transcript_counts_unique = adata_sel.obs['n_genes_by_counts'].unique()\n",
    "cmap = plt.cm.jet\n",
    "for cluster_id in transcript_counts_unique:\n",
    "    cluster_data = adata_sel.obs[adata_sel.obs['n_genes_by_counts'] == cluster_id]\n",
    "    colors = cmap((cluster_id - transcript_counts_unique.min()) / (transcript_counts_unique.max() - transcript_counts_unique.min()))\n",
    "    plt.scatter(cluster_data['x_centroid'], cluster_data['y_centroid'], color=colors, s=1, label=cluster_id)\n",
    "plt.xlabel('x_centroid')\n",
    "plt.ylabel('y_centroid')\n",
    "plt.title('Map of Nb of gene per cell')\n",
    "\n",
    "# Add colorbar\n",
    "sm = plt.cm.ScalarMappable(cmap=cmap)\n",
    "sm.set_array(transcript_counts_unique)\n",
    "divider = make_axes_locatable(ax)\n",
    "cbar_ax = divider.append_axes('right', size='1.5%', pad=0.05)\n",
    "plt.colorbar(sm, cax=cbar_ax)\n",
    "plt.ylabel('Nb of gene per cell')\n",
    "\n",
    "# plt.savefig(f\"/mnt/d/Jupyter_notebook/Xenium_jupyter_notebook/plot/{name_dir}/{name_dir}_nbgenes.png\")"
   ]
  },
  {
   "cell_type": "code",
   "execution_count": null,
   "id": "e0748863-e81b-4254-a758-388b71087d90",
   "metadata": {},
   "outputs": [],
   "source": [
    "### Map mmc:cluster_correlation_coefficient\n",
    "adata_sel = adata[(adata.obs['sample'] == samples[0])]\n",
    "\n",
    "fig, ax = plt.subplots(figsize=(10,6))\n",
    "transcript_counts_unique = adata_sel.obs['mmc:class_correlation_coefficient'].unique()\n",
    "cmap = plt.cm.jet\n",
    "for cluster_id in transcript_counts_unique:\n",
    "    cluster_data = adata_sel.obs[adata_sel.obs['mmc:class_correlation_coefficient'] == cluster_id]\n",
    "    colors = cmap((cluster_id - transcript_counts_unique.min()) / (transcript_counts_unique.max() - transcript_counts_unique.min()))\n",
    "    plt.scatter(cluster_data['x_centroid'], cluster_data['y_centroid'], color=colors, s=0.5, label=cluster_id)\n",
    "plt.xlabel('x_centroid')\n",
    "plt.ylabel('y_centroid')\n",
    "plt.title('Map of mmc:class_correlation_coefficient')\n",
    "\n",
    "# Add colorbar\n",
    "sm = plt.cm.ScalarMappable(cmap=cmap)\n",
    "sm.set_array(transcript_counts_unique)\n",
    "divider = make_axes_locatable(ax)\n",
    "cbar_ax = divider.append_axes('right', size='5%', pad=0.05)\n",
    "plt.colorbar(sm, cax=cbar_ax, label='correlation_coefficient')\n",
    "\n",
    "# plt.savefig(f\"/mnt/d/Jupyter_notebook/Xenium_jupyter_notebook/plot/{name_dir}/{name_dir}_mmccoef.png\")"
   ]
  },
  {
   "cell_type": "markdown",
   "id": "36d2c3a8-23a4-4b60-8a9a-a05b14629c95",
   "metadata": {},
   "source": [
    "# Analysis"
   ]
  },
  {
   "cell_type": "markdown",
   "id": "b7b85cb0-2f9c-4f1f-8bdf-53915a509a9d",
   "metadata": {},
   "source": [
    "## Data Import (always run)"
   ]
  },
  {
   "cell_type": "code",
   "execution_count": null,
   "id": "c5512ff1-205f-4bc0-8fb5-8147c96eeeef",
   "metadata": {},
   "outputs": [],
   "source": [
    "adata = sc.read_h5ad(f\"h5ad/{name_dir}/{name_dir}_MMC_Banksy_annotated_automap.h5ad.gz\")"
   ]
  },
  {
   "cell_type": "code",
   "execution_count": null,
   "id": "9066d6fb-3141-42e1-b2e6-8101a53bd16a",
   "metadata": {},
   "outputs": [],
   "source": [
    "adata2 = sc.read_h5ad(f\"{dir_notebook}/h5ad/{name_dir}/{name_dir}_MMC_norm.h5ad.gz\")"
   ]
  },
  {
   "cell_type": "code",
   "execution_count": null,
   "id": "ceab8525",
   "metadata": {},
   "outputs": [],
   "source": [
    "type(adata.X),type(adata2.X),type(adata_subcluster.X)"
   ]
  },
  {
   "cell_type": "code",
   "execution_count": null,
   "id": "809e6b5a-b1c7-40da-a5c0-96d985e1b1cd",
   "metadata": {},
   "outputs": [],
   "source": [
    "# adata2.obs['cell_type_newnum'] = adata.obs['cell_type_newnum']\n",
    "# adata2.obs['cell type'] = adata.obs['cell type']\n",
    "adata2.obs['cell_type_newnum_auto'] = adata.obs['cell_type_newnum_auto']\n",
    "adata2.obs['cell_type_auto'] = adata.obs['cell_type_auto']\n",
    "adata2.obs['cell_type_newnum_auto_sub'] = adata.obs['cell_type_newnum_auto_sub']\n",
    "adata2.obs['cell_type_auto_sub'] = adata.obs['cell_type_auto_sub']\n",
    "adata2.obs['cell_type_newnum_final'] = adata.obs['cell_type_newnum_final']\n",
    "adata2.obs['cell_type_final'] = adata.obs['cell_type_final']\n",
    "adata2.obs['region_automap'] = adata.obs['region_automap_name']\n",
    "# adata2.obs['region_manual'] = adata.obs['region_manual_name']"
   ]
  },
  {
   "cell_type": "code",
   "execution_count": null,
   "id": "77b455e7-6bec-4ae4-ad4a-f87e4f8cd452",
   "metadata": {},
   "outputs": [],
   "source": [
    "# HC only\n",
    "adata2.obs['Genotype'] = 0\n",
    "adata2.obs['ZT'] = 0\n",
    "\n",
    "geno_dict = {'3159-1':'WT','2670-1':'WT','3159-2':'WT','3159-3':'WT','3159-4':'WT','2505-1':'APP','2505-2':'APP','3160-1':'APP',\n",
    "             '3160-2':'APP','3161-1':'APP','3161-2':'APP','3161-3':'APP',\n",
    "}\n",
    "ZT_dict = {\n",
    "    '3159-1':'ZT17','2670-1':'ZT5','3159-2':'ZT17','3159-3':'ZT17','3159-4':'ZT17','2505-1':'ZT5','2505-2':'ZT5',\n",
    "'3160-1':'ZT17','3160-2':'ZT17','3161-1':'ZT17','3161-2':'ZT17','3161-3':'ZT17',\n",
    "}\n",
    "\n",
    "adata2.obs['Genotype'] = adata2.obs['sample'].map(geno_dict)\n",
    "adata2.obs['ZT'] = adata2.obs['sample'].map(ZT_dict)"
   ]
  },
  {
   "cell_type": "code",
   "execution_count": null,
   "id": "f66f1f31-39bd-4fbf-9ef3-86ab0191783f",
   "metadata": {},
   "outputs": [],
   "source": [
    "sc.pl.highest_expr_genes(adata2, n_top=30, show=None, save=None, ax=None, gene_symbols=None, log=False)"
   ]
  },
  {
   "cell_type": "code",
   "execution_count": null,
   "id": "b1b56ec7-07d2-48df-8420-9ea659133c75",
   "metadata": {},
   "outputs": [],
   "source": [
    "adata2_WT=adata2[adata2.obs['Genotype']== 'WT']\n",
    "adata2_APP=adata2[adata2.obs['Genotype']== 'APP']\n",
    "\n",
    "sc.pl.highest_expr_genes(adata2_WT, n_top=30, show=None, save=None, ax=None, gene_symbols=None, log=False)\n",
    "sc.pl.highest_expr_genes(adata2_APP, n_top=30, show=None, save=None, ax=None, gene_symbols=None, log=False)"
   ]
  },
  {
   "cell_type": "markdown",
   "id": "9bd00d67-4bf3-41e9-844f-20a9fcc23f3c",
   "metadata": {},
   "source": [
    "## Find marker genes for each cluster"
   ]
  },
  {
   "cell_type": "code",
   "execution_count": null,
   "id": "76a4207e-d24c-4fdd-a389-8c6e3edde506",
   "metadata": {},
   "outputs": [],
   "source": [
    "# Obtain cluster-specific differentially expressed genes\n",
    "# cluster_to_use = 'cell_type_newnum'\n",
    "# cluster_to_use = 'cell type'\n",
    "# cluster_to_use = 'cell_type_auto'\n",
    "# cluster_to_use = 'cell_type_auto_sub'\n",
    "cluster_to_use = 'sample'\n",
    "sc.pp.normalize_total(adata2, inplace=True)\n",
    "sc.pp.log1p(adata2)\n",
    "adata2.obs[cluster_to_use] = adata2.obs[cluster_to_use].astype(str)\n",
    "sc.tl.rank_genes_groups(adata2, groupby=cluster_to_use, method=\"wilcoxon\", tie_correct = True)\n"
   ]
  },
  {
   "cell_type": "code",
   "execution_count": null,
   "id": "52c9b347",
   "metadata": {},
   "outputs": [],
   "source": [
    "sc.pl.rank_genes_groups_dotplot(adata2, groupby=cluster_to_use, standard_scale=\"var\", n_genes=5, dendrogram = False)"
   ]
  },
  {
   "cell_type": "code",
   "execution_count": null,
   "id": "f87b749e-4705-48cd-8f20-5bfeb1608cc3",
   "metadata": {},
   "outputs": [],
   "source": [
    "sc.pl.rank_genes_groups_dotplot(\n",
    "    adata2,\n",
    "    n_genes=1,\n",
    "    values_to_plot=\"logfoldchanges\", cmap='bwr',\n",
    "    vmin=-4,\n",
    "    vmax=4,\n",
    ")"
   ]
  },
  {
   "cell_type": "code",
   "execution_count": null,
   "id": "0937a4c1-e430-4063-9866-58b5aea07156",
   "metadata": {
    "scrolled": true
   },
   "outputs": [],
   "source": [
    "dat = pd.DataFrame()\n",
    "for i in range(0, len(adata.obs[cluster_to_use].unique())):\n",
    "    print(f\"Cluster {i}\")\n",
    "    dat1 = sc.get.rank_genes_groups_df(adata, group=str(i))\n",
    "    dat1['group'] = i\n",
    "    dat = pd.concat([dat, dat1])\n",
    "\n",
    "dat.to_csv(\"marker_genes_0-4_run1.csv\")"
   ]
  },
  {
   "cell_type": "code",
   "execution_count": null,
   "id": "363d4ecf-770e-4404-a6e0-9f99b76592c5",
   "metadata": {},
   "outputs": [],
   "source": [
    "marker_genes = [\n",
    "# 10X annotations\n",
    "# \"Acsbg1\",\"Aqp4\",\"Cdh20\",\"Clmn\",\"Gfap\",\"Gli3\",\"Id2\",\"Mapk4\",\"Ntsr2\",\"Pde7b\",\"Rfx4\",\"Rorb\",\"Slc39a12\", #Astrocytes\n",
    "# \"Arhgap12\",\"Fibcd1\",\"Sipa1l3\",\"Wfs1\", #CA1-ProS\n",
    "# \"2010300C02Rik\",\"Arhgef28\",\"Bcl11b\",\"Bhlhe22\",\"Cabp7\",\"Cpne4\",\"Igfbp4\",\"Necab2\",\"Prdm8\",\"Strip2\",\"Syndig1\", #CA2\n",
    "# \"Cpne6\",\"Epha4\",\"Hat1\",\"Neurod6\",\"Npy2r\",\"Nrp2\",\"Shisa6\", #CA3\n",
    "# \"Cdh9\",\"Orai2\",\"Prox1\",\"Rasl10a\",\"Tanc1\", #DG\n",
    "# \"Acvrl1\",\"Adgrl4\",\"Car4\",\"Cd93\",\"Cldn5\",\"Cobll1\",\"Emcn\",\"Fgd5\",\"Fn1\",\"Kdr\",\"Ly6a\",\"Mecom\",\"Nostrin\",\"Paqr5\",\"Pecam1\",\"Pglyrp1\",\"Slfn5\",\"Sox17\",\"Zfp366\", #Endothelial\n",
    "#\"Arhgap25\",\"Cd300c2\",\"Cd53\",\"Cd68\",\"Ikzf1\",\"Laptm5\",\"Siglech\",\"Sla\",\"Spi1\",\"Trem2\",#Microglia\n",
    "# 'Gjc3','Gpr17','Opalin','Sema3d','Sema6a','Sox10','Zfp536', #Oligodendrocytes\n",
    "# 'Acta2','Ano1','Arhgap6','Carmn','Cspg4','Fos','Gucy1a1','Inpp4b','Nr2f2','Pip5k1b','Plekha2','Pln','Sncg','Sntb1', # Pericytes\n",
    "# 'Aldh1a2','Col1a1','Col6a1','Cyp1b1','Dcn','Fmod','Gjb2','Igf2','Pdgfra','Ror1',\"Slc13a4\",\"Spp1\", #VLMC\n",
    "# \"Chat\",\"Crh\",\"Igf1\",'Penk','Pthlh','Sorcs3','Thsd7a','Vip', #Vip interneurons\n",
    "\n",
    "'Arntl','Clock','Cry1','Cry2','Nr1d1',\"Per1\",'Per2','Per3','Rora','Rorb', ## Clock genes\n",
    "# 'Gfap','Trem2','Cd44','Spp1','Cd68','Igf1','Spi1','Cd300c2','Cd53','Laptm5','Ikzf1','Arhgap25','Opalin','Prox1','Cbln1','Sema3a','Paqr5','Spag16',\n",
    "# \"Vip\", \"Pkib\", \"Tmem255a\", \"Arhgap6\", \"Chodl\", #SCN rank genes analysis\n",
    "# 'Strip2',\"Shisa6\",\"Chodl\", 'Fos','Sdk2', 'Cdh6','Cobll1','Tanc1'\n",
    "# 'Dner','Gad1','Rasgrf2','Vat1l','Pde7b','Igfbp5','Rorb','Rims3','Tmem255a','Cdh13','Gad2','Rab3b','Parm1','Tle4','Fhod3','Rmst','Vip','Nr2f2','Arhgap6',\n",
    "# 'Laptm5','Kctd12','Siglech','Trem2','Cd53','Cd68','Cd300c2','Ikzf1','Spi1','Acsbg1','Gfap','Dpy19l1','Unc13c','Arhgap25','Meis2','Dner','Arhgap12','Igfbp5','Ntsr2',\n",
    "# \"Gfap\",\"Rbp4\",\"Trem2\",\"Th\",\"Laptm5\",\"Syt17\",\"Opn3\",\"Spp1\",\"Cd44\",\"Cd53\",\"Igf1\",\"Gjb2\",\n",
    "# \"Vip\",\"Prss35\",\"Cd68\",\"Cplx3\",\"Siglech\",\"Ikzf1\",\"Cd300c2\",\"Dcn\",\"Spi1\",\"Pkib\",\"Fos\",\"Angpt1\",\n",
    "# \"Igfbp5\",\"Chrm2\",\"Rspo2\",\"Arhgap25\",\"Sst\",\n",
    "# 'Ntsr2'    \n",
    "]\n"
   ]
  },
  {
   "cell_type": "code",
   "execution_count": null,
   "id": "995dd0c4-d85c-4265-88df-beed20d97c5b",
   "metadata": {},
   "outputs": [],
   "source": [
    "ax = sc.pl.stacked_violin(adata2,\n",
    "                         marker_genes,\n",
    "                         groupby='cell_type_final',\n",
    "                         dendrogram=False,\n",
    "                         log=False,\n",
    "                         )"
   ]
  },
  {
   "cell_type": "code",
   "execution_count": null,
   "id": "57628d6c-9ba1-4020-839c-5df8cb6f55d5",
   "metadata": {},
   "outputs": [],
   "source": [
    "sc.pl.violin(adata2, marker_genes, groupby='Genotype', order = ['WT','APP'],\n",
    "             jitter = 0.45,\n",
    "             # log = True,\n",
    "             # stripplot = False,\n",
    "            )"
   ]
  },
  {
   "cell_type": "markdown",
   "id": "ee0ba0ce-5450-486d-9ef2-3c0b6d8725ff",
   "metadata": {},
   "source": [
    "## Subset (a)dataset for one cell type"
   ]
  },
  {
   "cell_type": "code",
   "execution_count": null,
   "id": "81a7c742",
   "metadata": {},
   "outputs": [],
   "source": [
    "adata2.obs.groupby('cell_type_final')['cell_id'].count()"
   ]
  },
  {
   "cell_type": "code",
   "execution_count": null,
   "id": "57d4f9c8-49f3-4417-b041-f82800b70015",
   "metadata": {
    "scrolled": true
   },
   "outputs": [],
   "source": [
    "celltype_to_subset = \"SCH Gaba\"\n",
    "adata_microglia = adata2[adata2.obs['cell_type_final'] == celltype_to_subset]"
   ]
  },
  {
   "cell_type": "code",
   "execution_count": null,
   "id": "f204fde1-56b9-4c24-ba30-f4b063aa5d66",
   "metadata": {},
   "outputs": [],
   "source": [
    "adata_microglia.obs['sample']#,adata_microglia.obs['Genotype']"
   ]
  },
  {
   "cell_type": "code",
   "execution_count": null,
   "id": "5a3e31ee-4302-4cc2-a81c-c208729619c7",
   "metadata": {},
   "outputs": [],
   "source": [
    "marker_genes = [\n",
    "# 10X annotations\n",
    "# \"Acsbg1\",\"Aqp4\",\"Cdh20\",\"Clmn\",\"Gfap\",\"Gli3\",\"Id2\",\"Mapk4\",\"Ntsr2\",\"Pde7b\",\"Rfx4\",\"Rorb\",\"Slc39a12\", #Astrocytes\n",
    "# \"Arhgap12\",\"Fibcd1\",\"Sipa1l3\",\"Wfs1\", #CA1-ProS\n",
    "# \"2010300C02Rik\",\"Arhgef28\",\"Bcl11b\",\"Bhlhe22\",\"Cabp7\",\"Cpne4\",\"Igfbp4\",\"Necab2\",\"Prdm8\",\"Strip2\",\"Syndig1\", #CA2\n",
    "# \"Cpne6\",\"Epha4\",\"Hat1\",\"Neurod6\",\"Npy2r\",\"Nrp2\",\"Shisa6\", #CA3\n",
    "# \"Cdh9\",\"Orai2\",\"Prox1\",\"Rasl10a\",\"Tanc1\", #DG\n",
    "# \"Acvrl1\",\"Adgrl4\",\"Car4\",\"Cd93\",\"Cldn5\",\"Cobll1\",\"Emcn\",\"Fgd5\",\"Fn1\",\"Kdr\",\"Ly6a\",\"Mecom\",\"Nostrin\",\"Paqr5\",\"Pecam1\",\"Pglyrp1\",\"Slfn5\",\"Sox17\",\"Zfp366\", #Endothelial\n",
    "# \"Arhgap25\",\"Cd300c2\",\"Cd53\",\"Cd68\",\"Ikzf1\",\"Laptm5\",\"Siglech\",\"Sla\",\"Spi1\",\"Trem2\",#Microglia\n",
    "# 'Gjc3','Gpr17','Opalin','Sema3d','Sema6a','Sox10','Zfp536', #Oligodendrocytes\n",
    "# 'Acta2','Ano1','Arhgap6','Carmn','Cspg4','Fos','Gucy1a1','Inpp4b','Nr2f2','Pip5k1b','Plekha2','Pln','Sncg','Sntb1', # Pericytes\n",
    "# 'Aldh1a2','Col1a1','Col6a1','Cyp1b1','Dcn','Fmod','Gjb2','Igf2','Pdgfra','Ror1',\"Slc13a4\",\"Spp1\", #VLMC\n",
    "# \"Chat\",\"Crh\",\"Igf1\",'Penk','Pthlh','Sorcs3','Thsd7a','Vip', #Vip interneurons\n",
    "\n",
    "'Arntl','Clock','Cry1','Cry2','Nr1d1',\"Per1\",'Per2','Per3','Rora','Rorb', ## Clock genes\n",
    "\n",
    "# \"Vip\", \"Pkib\", \"Tmem255a\", \"Arhgap6\", \"Chodl\", #SCN rank genes analysis\n",
    "# 'Strip2',\"Shisa6\",\"Chodl\", 'Fos','Sdk2', 'Cdh6','Cobll1','Tanc1'\n",
    "# 'Dner','Gad1','Rasgrf2','Vat1l','Pde7b','Igfbp5','Rorb','Rims3','Tmem255a','Cdh13','Gad2','Rab3b','Parm1','Tle4','Fhod3','Rmst','Vip','Nr2f2','Arhgap6',\n",
    "# 'Laptm5','Kctd12','Siglech','Trem2','Cd53','Cd68','Cd300c2','Ikzf1','Spi1','Acsbg1','Gfap','Dpy19l1','Unc13c','Arhgap25','Meis2','Dner','Arhgap12','Igfbp5','Ntsr2',\n",
    "# \"Gfap\",\"Rbp4\",\"Trem2\",\"Th\",\"Laptm5\",\"Syt17\",\"Opn3\",\"Spp1\",\"Cd44\",\"Cd53\",\"Igf1\",\"Gjb2\",\n",
    "# \"Vip\",\"Prss35\",\"Cd68\",\"Cplx3\",\"Siglech\",\"Ikzf1\",\"Cd300c2\",\"Dcn\",\"Spi1\",\"Pkib\",\"Fos\",\"Angpt1\",\n",
    "# \"Igfbp5\",\"Chrm2\",\"Rspo2\",\"Arhgap25\",\"Sst\",\n",
    "# 'Ntsr2'    \n",
    "]"
   ]
  },
  {
   "cell_type": "code",
   "execution_count": null,
   "id": "68008ef8-7904-48de-9235-15da00d057ed",
   "metadata": {},
   "outputs": [],
   "source": [
    "sc.pl.stacked_violin(adata_microglia, marker_genes, groupby='sample', dendrogram=False,)"
   ]
  },
  {
   "cell_type": "code",
   "execution_count": null,
   "id": "08ea7afe-9817-45bd-a72b-c0d25472b8ee",
   "metadata": {},
   "outputs": [],
   "source": [
    "sc.pl.violin(adata_microglia, marker_genes, groupby='Genotype', order = ['WT','APP'],\n",
    "             #log = True,\n",
    "             # stripplot = False,\n",
    "            )"
   ]
  },
  {
   "cell_type": "code",
   "execution_count": null,
   "id": "be4c2d4a-bc30-48b4-8ee5-0ace60e9f220",
   "metadata": {},
   "outputs": [],
   "source": [
    "sc.tl.rank_genes_groups(adata_microglia, groupby='Genotype', method=\"wilcoxon\", tie_correct = True, reference = 'WT')\n",
    "dat1 = sc.get.rank_genes_groups_df(adata_microglia, group='WT')\n",
    "\n",
    "# dat.to_csv(\"marker_genes_0-4_run1.csv\")"
   ]
  },
  {
   "cell_type": "code",
   "execution_count": null,
   "id": "40faa92a-ce4d-4cbd-ae9a-0417adcdd2e4",
   "metadata": {},
   "outputs": [],
   "source": [
    "dat1.head(10)"
   ]
  },
  {
   "cell_type": "code",
   "execution_count": null,
   "id": "940cd6b4-a206-421c-81fb-34beb733026e",
   "metadata": {},
   "outputs": [],
   "source": [
    "sc.pl.highest_expr_genes(adata_microglia, n_top=30, show=None, save=None, ax=None, gene_symbols=None, log=False)"
   ]
  },
  {
   "cell_type": "code",
   "execution_count": null,
   "id": "4c4d9c24-5757-4bb9-88a7-d65411202683",
   "metadata": {
    "scrolled": true
   },
   "outputs": [],
   "source": [
    "adata_microglia_WT=adata_microglia[adata_microglia.obs['Genotype']== 'WT']\n",
    "adata_microglia_APP=adata_microglia[adata_microglia.obs['Genotype']== 'APP']\n",
    "\n",
    "sc.pl.highest_expr_genes(adata_microglia_WT, n_top=30, show=None, save=None, ax=None, gene_symbols=None, log=False)\n",
    "sc.pl.highest_expr_genes(adata_microglia_APP, n_top=30, show=None, save=None, ax=None, gene_symbols=None, log=False)"
   ]
  },
  {
   "cell_type": "markdown",
   "id": "7fb78da9-702a-4ece-b4a8-f8510b0c0ec9",
   "metadata": {},
   "source": [
    "### Subcluster the subset"
   ]
  },
  {
   "cell_type": "code",
   "execution_count": null,
   "id": "86efaec3-34f7-4828-a67d-23e2b7c63cc7",
   "metadata": {},
   "outputs": [],
   "source": [
    "# extract pca coordinates\n",
    "# X_pca = adata_microglia.obsm['X_pca'] \n",
    "\n",
    "sc.pp.pca(adata_microglia)\n",
    "sc.pp.neighbors(adata_microglia)\n",
    "sc.tl.umap(adata_microglia)\n",
    "\n",
    "### Kmeans clustering\n",
    "# ### You can choose the number of clusters by uncommenting n_clusters option\n",
    "# kmeans = KMeans(#n_clusters=2,\n",
    "#                 random_state=0).fit(X_pca) \n",
    "# adata_microglia.obs['kmeans'] = kmeans.labels_.astype(str)\n",
    "\n",
    "sc.tl.leiden(adata_microglia, resolution = 0.2)"
   ]
  },
  {
   "cell_type": "code",
   "execution_count": null,
   "id": "22bdaa42-9d46-48b2-8067-2540715239b7",
   "metadata": {},
   "outputs": [],
   "source": [
    "# adata.obs.groupby('cell type')[['nucleus_area','cell_area','total_counts','n_genes_by_counts']].max().sort_values(by = 'cell_area')"
   ]
  },
  {
   "cell_type": "code",
   "execution_count": null,
   "id": "775aa571-4ae9-4d3b-89e8-fb2d6da943d7",
   "metadata": {},
   "outputs": [],
   "source": [
    "### Choose one cluster to work with\n",
    "#cluster_to_use = 'leiden0.4_classname'\n",
    "# cluster_to_use = 'kmeans'\n",
    "cluster_to_use = 'leiden'\n",
    "# cluster_to_use = 'L04_newnum'"
   ]
  },
  {
   "cell_type": "code",
   "execution_count": null,
   "id": "e5565fad-b45c-4634-bc2e-6fdd6d00e11b",
   "metadata": {},
   "outputs": [],
   "source": [
    "### Number of cells per clusters\n",
    "max_clust = len(adata_microglia.obs[cluster_to_use].unique())\n",
    "for i in range(0, max_clust):\n",
    "    count = adata_microglia.obs[cluster_to_use].value_counts().iloc[i]\n",
    "    print(f\"Cluster {i} : {count} cells\")"
   ]
  },
  {
   "cell_type": "code",
   "execution_count": null,
   "id": "38b28773-20d0-4042-9359-2cdc800bdc01",
   "metadata": {},
   "outputs": [],
   "source": [
    "### Generate a color palette for the clusters - to make color stay consistent across samples\n",
    "adata_microglia.obs[cluster_to_use] = adata_microglia.obs[cluster_to_use].astype(str)\n",
    "\n",
    "# Create a palette with a unique color for each cluster\n",
    "num_clusters = len(adata_microglia.obs[cluster_to_use].astype(int).unique())\n",
    "palette = sns.color_palette(\"tab20\", n_colors=num_clusters)\n",
    "\n",
    "# Map each 'leiden' value to a color\n",
    "adata_microglia.obs['leiden_colors'] = adata_microglia.obs[cluster_to_use].astype(int).apply(lambda x: palette[x])"
   ]
  },
  {
   "cell_type": "code",
   "execution_count": null,
   "id": "3f09fd10-2fd0-4490-8345-c3e091a40eb1",
   "metadata": {},
   "outputs": [],
   "source": [
    "### Let's make UMAP plot. We will also add the cluster centroids to the plot\n",
    "adata_microglia.obs['umap-1'] = adata_microglia.obsm['X_umap'][:, 0]\n",
    "adata_microglia.obs['umap-2'] = adata_microglia.obsm['X_umap'][:, 1]\n",
    "cluster_centroids = adata_microglia.obs.groupby(cluster_to_use)[['umap-1', 'umap-2']].median()"
   ]
  },
  {
   "cell_type": "code",
   "execution_count": null,
   "id": "c9413b6b-bda5-4a2f-82ec-5e458328dfe7",
   "metadata": {},
   "outputs": [],
   "source": [
    "## Draw UMAP\n",
    "fig, axs = plt.subplots(2,4,figsize=(30, 15))\n",
    "axs = axs.flatten()\n",
    "\n",
    "def plot_umap(adata_microglia, color_column, ax, title=None):\n",
    "    scatter = ax.scatter(adata_microglia.obsm['X_umap'][:, 0], adata_microglia.obsm['X_umap'][:, 1], c=adata_microglia.obs[color_column], s=2, alpha=0.8)\n",
    "    ax.set_title(title)\n",
    "    ax.axis('off')\n",
    "\n",
    "for i, sample in enumerate(samples_ids):\n",
    "    sample_data = adata_microglia[adata_microglia.obs['sample'] == sample]\n",
    "    plot_umap(sample_data, 'leiden_colors', axs[i], title=f\"UMAP for {sample}\")\n",
    "    \n",
    "    for cluster_id, centroid in cluster_centroids.iterrows():\n",
    "        axs[i].text(centroid['umap-1'], centroid['umap-2'], str(cluster_id), color='black', fontsize=9)\n",
    "\n",
    "# plt.savefig(f\"/mnt/d/Jupyter_notebook/Xenium_jupyter_notebook/plot/{name_dir}/{name_dir}_UMAP_{cluster_to_use}.svg\")"
   ]
  },
  {
   "cell_type": "code",
   "execution_count": null,
   "id": "249a6e9f-c810-4e6d-b331-e62b0ceaf167",
   "metadata": {},
   "outputs": [],
   "source": [
    "samples_ids = adata_microglia.obs['sample'].unique()"
   ]
  },
  {
   "cell_type": "code",
   "execution_count": null,
   "id": "f19c0ff8-83ac-4d38-9834-c115a9a08eac",
   "metadata": {},
   "outputs": [],
   "source": [
    "# Map all cells\n",
    "fig, axs = plt.subplots(2,4,figsize=(30, 15))\n",
    "axs = axs.flatten()\n",
    "clusters_plot = {\"1\": 'magenta',\"0\": 'cyan', \"2\": 'green', \"\":'red', \"\":'orange',\"7\":'black',\"\":\"purple\"\n",
    "                }\n",
    "\n",
    "for idx, sample in enumerate(samples_ids):\n",
    "    adata_sel = adata_microglia[(adata_microglia.obs['sample'] == sample)]\n",
    "    for cluster_id in adata_sel.obs[cluster_to_use].unique():\n",
    "        cluster_data = adata_sel.obs[adata_sel.obs[cluster_to_use] == cluster_id]\n",
    "        colors = clusters_plot[cluster_id] if cluster_id in clusters_plot else \"none\" ### for selected clusters in cluster_plot\n",
    "        # colors= cluster_data['leiden_colors'].unique()[0] ### for all clusters\n",
    "        axs[idx].scatter(cluster_data['x_centroid'].astype('float'), cluster_data['y_centroid'].astype('float'), color=colors, s=10, label=cluster_id)\n",
    "        axs[idx].set_title(f\"Sample {sample}\")\n",
    "        # axs[idx].set_ylim(400,1300)\n",
    "        # axs[idx].set_xlim(4100,5600)\n",
    "\n"
   ]
  },
  {
   "cell_type": "code",
   "execution_count": null,
   "id": "f3e9d025-34e9-4463-b0d6-39bada9c4873",
   "metadata": {
    "scrolled": true
   },
   "outputs": [],
   "source": [
    "### Correlation map of subclusters\n",
    "cont_tab = pd.crosstab(adata_microglia.obs[cluster_to_use], adata_microglia.obs['mmc:subclass_name'], normalize=\"index\")\n",
    "plt.figure(figsize=(20, 10))\n",
    "sns.heatmap(cont_tab, annot=True, cmap=\"YlGnBu\", fmt=\".1f\")"
   ]
  },
  {
   "cell_type": "code",
   "execution_count": null,
   "id": "23ec57e7-55c5-4580-bb9e-204c046ac979",
   "metadata": {
    "scrolled": true
   },
   "outputs": [],
   "source": [
    "# Obtain cluster-specific differentially expressed genes\n",
    "# cluster_to_use = 'leid'\n",
    "# cluster_to_use = 'Genotype'\n",
    "adata_microglia.obs[cluster_to_use] = adata_microglia.obs[cluster_to_use].astype(str)\n",
    "# sc.tl.dendrogram(adata_microglia, groupby = cluster_to_use, n_pcs=None, use_rep=None, var_names=None, use_raw=None, cor_method='pearson', linkage_method='complete', optimal_ordering=False, key_added=None)\n",
    "sc.tl.rank_genes_groups(adata_microglia, groupby=cluster_to_use, method=\"wilcoxon\")\n",
    "sc.pl.rank_genes_groups_dotplot(adata_microglia, groupby=cluster_to_use, standard_scale=\"var\", n_genes=5)\n",
    "\n",
    "sc.pl.rank_genes_groups_dotplot(\n",
    "    adata_microglia,\n",
    "    n_genes=5,\n",
    "    values_to_plot=\"logfoldchanges\", cmap='bwr',\n",
    "    vmin=-4,\n",
    "    vmax=4,\n",
    ")"
   ]
  },
  {
   "cell_type": "code",
   "execution_count": null,
   "id": "f62204d7-c319-4aaf-800e-bc792103e760",
   "metadata": {
    "scrolled": true
   },
   "outputs": [],
   "source": [
    "sc.pl.rank_genes_groups_violin(adata_microglia, groups=adata_microglia.obs[cluster_to_use], n_genes=1)"
   ]
  },
  {
   "cell_type": "code",
   "execution_count": null,
   "id": "a800354f-5fcd-41e9-93ee-4b718f0d7104",
   "metadata": {},
   "outputs": [],
   "source": [
    "marker_genes = ['Gfap', \"Igf1\", \"Gng12\", \"Cd68\", \"Igfbp5\", \"Siglech\", \"Ikzf1\", \"Kctd12\", \"Cd300c2\", \"Spi1\"]"
   ]
  },
  {
   "cell_type": "code",
   "execution_count": null,
   "id": "0b2153eb-8c78-4a55-85b5-07498d61f52b",
   "metadata": {},
   "outputs": [],
   "source": [
    "ax = sc.pl.stacked_violin(adata_microglia, var_names = marker_genes , groupby='kmeans', dendrogram=True)"
   ]
  },
  {
   "cell_type": "code",
   "execution_count": null,
   "id": "095b7d62-c957-4bf3-8f48-b15ed942a2e1",
   "metadata": {},
   "outputs": [],
   "source": [
    "# Obtain cluster-specific differentially expressed genes\n",
    "# cluster_to_use = 'kmeans'\n",
    "cluster_to_use = 'Genotype'\n",
    "adata_microglia.obs[cluster_to_use] = adata_microglia.obs[cluster_to_use].astype(str)\n",
    "# sc.tl.dendrogram(adata_microglia, groupby = cluster_to_use, n_pcs=None, use_rep=None, var_names=None, use_raw=None, cor_method='pearson', linkage_method='complete', optimal_ordering=False, key_added=None)\n",
    "sc.tl.rank_genes_groups(adata_microglia, groupby=cluster_to_use, method=\"wilcoxon\", tie_correct = True)\n",
    "sc.pl.rank_genes_groups_dotplot(adata_microglia, groupby=cluster_to_use, standard_scale=\"var\", n_genes=5)\n",
    "\n",
    "sc.pl.rank_genes_groups_dotplot(\n",
    "    adata_microglia,\n",
    "    n_genes=5,\n",
    "    values_to_plot=\"logfoldchanges\", cmap='bwr',\n",
    "    # vmin=-4,\n",
    "    # vmax=4,\n",
    ")"
   ]
  },
  {
   "cell_type": "code",
   "execution_count": null,
   "id": "8f7fe532-aa8e-4c41-8434-cdac7a08aa44",
   "metadata": {},
   "outputs": [],
   "source": [
    "### Extract gene expression per cluster + log fold change + p-value\n",
    "cluster_to_use = 'Genotype'\n",
    "\n",
    "adata_microglia.obs[cluster_to_use] = adata_microglia.obs[cluster_to_use].astype(str)\n",
    "#sc.tl.dendrogram(adata, groupby = 'L04_newnum_subclassname')\n",
    "sc.tl.rank_genes_groups(adata_microglia, groupby=cluster_to_use, method=\"wilcoxon\", tie_correct = True, pts = True)\n",
    "\n",
    "sc.pl.rank_genes_groups_dotplot(adata_microglia, groupby=cluster_to_use, standard_scale=\"var\", n_genes=5)\n",
    "\n",
    "dat = pd.DataFrame()\n",
    "for i in adata2.obs[cluster_to_use].unique():\n",
    "    print(f\"Cluster {i}\")\n",
    "    dat1 = sc.get.rank_genes_groups_df(adata_microglia, group=i)\n",
    "    dat1['group'] = i\n",
    "    dat = pd.concat([dat, dat1])\n",
    "\n",
    "### Extract not-normalized expression and clusters for individual cells\n",
    "if not os.path.exists(f\"{dir_notebook}/csv/{name_dir}/\"):\n",
    "   os.makedirs(f\"{dir_notebook}/csv/{name_dir}/\")\n",
    "dat.to_csv(f\"{dir_notebook}/csv/{name_dir}/{name_dir}_clusters_foldchange_{celltype_to_subset}.csv\")"
   ]
  },
  {
   "cell_type": "code",
   "execution_count": null,
   "id": "e1029654-dd6a-4cfd-aba9-6cbbe3535e35",
   "metadata": {},
   "outputs": [],
   "source": [
    "dat"
   ]
  },
  {
   "cell_type": "code",
   "execution_count": null,
   "id": "dc9a378f-7009-43b8-9dee-ba287d062a38",
   "metadata": {},
   "outputs": [],
   "source": [
    "celltype_to_subset = \"SCH\"\n",
    "adata_region_cell = adata2[adata2.obs['cell type'] == celltype_to_subset]"
   ]
  },
  {
   "cell_type": "markdown",
   "id": "52b673d5-f2cd-47f2-8307-77cdae36d28c",
   "metadata": {},
   "source": [
    "## Subset one region"
   ]
  },
  {
   "cell_type": "code",
   "execution_count": null,
   "id": "c00abeb6-a8bc-4785-86b4-57197a96d144",
   "metadata": {},
   "outputs": [],
   "source": [
    "adata2.obs['region_automap'].unique()"
   ]
  },
  {
   "cell_type": "code",
   "execution_count": null,
   "id": "f449cf77-03bd-4b2c-a8d9-c97b7bac8317",
   "metadata": {},
   "outputs": [],
   "source": [
    "region_to_subset = \"SCH\"\n",
    "adata_region = adata2[adata2.obs['region_automap'] == region_to_subset]"
   ]
  },
  {
   "cell_type": "code",
   "execution_count": null,
   "id": "d2cd0619-d004-4935-91f4-711fb4c92c75",
   "metadata": {
    "scrolled": true
   },
   "outputs": [],
   "source": [
    "adata_region.obs[adata_region.obs['cell_type_final']== 'SCH Gaba'].groupby('mmc:subclass_name')['cell_id'].nunique()"
   ]
  },
  {
   "cell_type": "code",
   "execution_count": null,
   "id": "be2ea7e8-3add-4537-a4c7-c862809c8f27",
   "metadata": {},
   "outputs": [],
   "source": [
    "adata_region.obs[adata_region.obs['cell_type_final']=='SCH']['cell_type_newnum_final'].head()"
   ]
  },
  {
   "cell_type": "code",
   "execution_count": null,
   "id": "7b1c2d8d-e623-4954-a39b-e7787b50e0c0",
   "metadata": {},
   "outputs": [],
   "source": [
    "# Generate new numbering base on unique 'cell type'\n",
    "all_cell_type = adata_region.obs['cell type'].unique()\n",
    "list_cell_nb = range(0, len(all_cell_type))\n",
    "mapping_dict = dict(zip(all_cell_type,list_cell_nb))\n",
    "adata_region.obs['cell_type_newnum'] = adata_region.obs['cell type'].map(mapping_dict)\n",
    "# mapping_dict\n",
    "\n",
    "### Generate a color palette for the clusters - to make color stay consistent across samples\n",
    "adata_region.obs['cell_type_newnum'] = adata_region.obs['cell_type_newnum'].astype(int)\n",
    "\n",
    "# Create a palette with a unique color for each cluster\n",
    "num_clusters = len(adata_region.obs['cell_type_newnum'].unique())\n",
    "palette = sns.color_palette(\"bright\", n_colors=num_clusters)\n",
    "\n",
    "# Map each 'leiden' value to a color\n",
    "adata_region.obs['kmeans_colors'] = adata_region.obs['cell_type_newnum'].apply(lambda x: palette[x])\n",
    "\n",
    "# Mapping of clusters\n",
    "fig, axs = plt.subplots(3,2,figsize=(15, 18))\n",
    "axs = axs.flatten()\n",
    "clusters_plot = { 1: 'lightcoral', 11:'black',4:'red',\n",
    "    # 0: 'orchid', 1: 'forestgreen',2: 'coral', 4:'orange',\n",
    "    # 3:'red', 5:'blue',6:'cyan',7:'black'\n",
    "    # 4:'red',0:'black'\n",
    "}\n",
    "\n",
    "for idx, sample in enumerate(samples_ids):\n",
    "    adata_sel = adata_region[(adata_region.obs['sample'] == sample)]\n",
    "    for cluster_id in adata_sel.obs['cell_type_newnum'].unique():\n",
    "        cluster_data = adata_sel.obs[adata_sel.obs['cell_type_newnum'] == cluster_id]\n",
    "        if len(cluster_data) >= 0:\n",
    "            colors = clusters_plot[cluster_id] if cluster_id in clusters_plot else \"none\"\n",
    "            colors= cluster_data['kmeans_colors'].unique()[0]\n",
    "            axs[idx].scatter(cluster_data['x_centroid'], cluster_data['y_centroid'], color=colors, s=15, label=cluster_data['cell type'].unique()[0])\n",
    "            axs[idx].set_title(f\"Sample {sample}\")\n",
    "\n",
    "plt.legend(markerscale=1, scatterpoints=1000, bbox_to_anchor=(1.02, 1), loc='upper left', borderaxespad=0)\n"
   ]
  },
  {
   "cell_type": "code",
   "execution_count": null,
   "id": "3856762c-292d-4ed7-87fe-b8bc07fc3260",
   "metadata": {},
   "outputs": [],
   "source": [
    "# len(adata_region)/1000\n",
    "# adata_region_notunique.obs.groupby('cell type')['cell_id'].nunique()\n",
    "# list_to_exclude"
   ]
  },
  {
   "cell_type": "code",
   "execution_count": null,
   "id": "c0b93994-da19-4332-8872-84f61845dbac",
   "metadata": {},
   "outputs": [],
   "source": [
    "list_to_exclude  = adata_region.obs.groupby('cell type')['cell_id'].nunique() >= 10\n",
    "list_to_exclude.values\n",
    "dict_exclude = dict(zip(list_to_exclude.index, list_to_exclude.values))\n",
    "dict_exclude\n",
    "\n",
    "adata_region.obs['exclude'] = adata_region.obs['cell type'].map(dict_exclude)\n",
    "\n",
    "adata_region_notunique = adata_region[adata_region.obs['exclude'] != False]\n",
    "\n",
    "adata_region_notunique.obs.groupby('cell type')['cell_id'].nunique()\n",
    "\n",
    "sc.tl.dendrogram(adata_region_notunique, groupby = 'cell type', n_pcs=None, use_rep=None, var_names=None, use_raw=None, cor_method='pearson', linkage_method='complete', optimal_ordering=False, key_added=None)\n",
    "sc.tl.rank_genes_groups(adata_region_notunique, groupby='cell type', method=\"wilcoxon\", tie_correct = True)\n",
    "sc.pl.rank_genes_groups_dotplot(adata_region_notunique, groupby='cell type', standard_scale=\"var\", n_genes=5)"
   ]
  },
  {
   "cell_type": "code",
   "execution_count": null,
   "id": "62c448cf-5f8c-4a45-ae5d-4c1ff00ede96",
   "metadata": {},
   "outputs": [],
   "source": [
    "sc.pl.rank_genes_groups_dotplot(\n",
    "    adata_region_notunique,\n",
    "    n_genes=5,\n",
    "    values_to_plot=\"logfoldchanges\", cmap='bwr',\n",
    "    # vmin=-4,\n",
    "    # vmax=4,\n",
    ")"
   ]
  },
  {
   "cell_type": "code",
   "execution_count": null,
   "id": "b519a424-7678-4284-8450-43431b5e9334",
   "metadata": {},
   "outputs": [],
   "source": [
    "### Extract gene expression per cluster + log fold change + p-value\n",
    "cluster_to_use = 'Genotype'\n",
    "\n",
    "adata_region.obs[cluster_to_use] = adata_region.obs[cluster_to_use].astype(str)\n",
    "#sc.tl.dendrogram(adata, groupby = 'L04_newnum_subclassname')\n",
    "sc.tl.rank_genes_groups(adata_region, groupby=cluster_to_use, method=\"wilcoxon\", tie_correct = True, pts = True)\n",
    "\n",
    "sc.pl.rank_genes_groups_dotplot(adata_region, groupby=cluster_to_use, standard_scale=\"var\", n_genes=5)\n",
    "\n",
    "dat = pd.DataFrame()\n",
    "for i in adata_region.obs[cluster_to_use].unique():\n",
    "    print(f\"Cluster {i}\")\n",
    "    dat1 = sc.get.rank_genes_groups_df(adata_region, group=i)\n",
    "    dat1['group'] = i\n",
    "    dat = pd.concat([dat, dat1])\n",
    "\n",
    "### Extract not-normalized expression and clusters for individual cells\n",
    "if not os.path.exists(f\"{dir_notebook}/csv/{name_dir}/\"):\n",
    "   os.makedirs(f\"{dir_notebook}/csv/{name_dir}/\")\n",
    "dat.to_csv(f\"{dir_notebook}/csv/{name_dir}/{name_dir}_clusters_foldchange_{region_to_subset}-region.csv\")"
   ]
  },
  {
   "cell_type": "code",
   "execution_count": null,
   "id": "4110a66e-72b5-4cc6-9155-e1c4532cd487",
   "metadata": {},
   "outputs": [],
   "source": [
    "celltype_to_subset = \"Astro\"\n",
    "adata_region_cell = adata_region[adata_region.obs['cell type'] == celltype_to_subset]"
   ]
  },
  {
   "cell_type": "code",
   "execution_count": null,
   "id": "7141eaf0-b59e-43e5-89f1-964c662d36f4",
   "metadata": {},
   "outputs": [],
   "source": [
    "### Extract gene expression per cluster + log fold change + p-value\n",
    "cluster_to_use = 'Genotype'\n",
    "\n",
    "adata_region_cell.obs[cluster_to_use] = adata_region_cell.obs[cluster_to_use].astype(str)\n",
    "#sc.tl.dendrogram(adata, groupby = 'L04_newnum_subclassname')\n",
    "sc.tl.rank_genes_groups(adata_region_cell, groupby=cluster_to_use, method=\"wilcoxon\", tie_correct = True, pts = True)\n",
    "\n",
    "sc.pl.rank_genes_groups_dotplot(adata_region_cell, groupby=cluster_to_use, standard_scale=\"var\", n_genes=5)\n",
    "\n",
    "dat = pd.DataFrame()\n",
    "for i in adata_region_cell.obs[cluster_to_use].unique():\n",
    "    print(f\"Cluster {i}\")\n",
    "    dat1 = sc.get.rank_genes_groups_df(adata_region_cell, group=i)\n",
    "    dat1['group'] = i\n",
    "    dat = pd.concat([dat, dat1])\n",
    "\n",
    "### Extract not-normalized expression and clusters for individual cells\n",
    "if not os.path.exists(f\"{dir_notebook}/csv/{name_dir}/\"):\n",
    "   os.makedirs(f\"{dir_notebook}/csv/{name_dir}/\")\n",
    "dat.to_csv(f\"{dir_notebook}/csv/{name_dir}/{name_dir}_clusters_foldchange_{region_to_subset}-region-{celltype_to_subset}-cell.csv\")"
   ]
  },
  {
   "cell_type": "markdown",
   "id": "6e9bbd33-87de-45a5-9457-89fdcab80549",
   "metadata": {},
   "source": [
    "# Output files"
   ]
  },
  {
   "cell_type": "markdown",
   "id": "c3452ed1-7797-4bd7-86cd-d214d1bff363",
   "metadata": {},
   "source": [
    "## Extract foldchange, pvalue for celltypes"
   ]
  },
  {
   "cell_type": "code",
   "execution_count": null,
   "id": "c749084d-e231-401b-9f6e-386406098071",
   "metadata": {},
   "outputs": [],
   "source": [
    "adata = sc.read_h5ad(f\"{dir_notebook}/h5ad/{name_dir}/{name_dir}_MMC_Banksy_annotated_automap.h5ad.gz\")"
   ]
  },
  {
   "cell_type": "code",
   "execution_count": null,
   "id": "aa69f144-dbc9-4f17-9bd6-666788438006",
   "metadata": {},
   "outputs": [],
   "source": [
    "adata2 = sc.read_h5ad(f\"{dir_notebook}/h5ad/{name_dir}/{name_dir}_MMC_norm.h5ad.gz\")"
   ]
  },
  {
   "cell_type": "code",
   "execution_count": null,
   "id": "036b59f1-83e3-4efe-9df3-4947056a6da6",
   "metadata": {},
   "outputs": [],
   "source": [
    "mapping_dict_region = dict(zip(adata.obs['cell_id'], adata.obs['region_automap_name']))\n",
    "mapping_dict_celltype = dict(zip(adata.obs['cell_id'], adata.obs['cell_type_final']))\n",
    "mapping_dict_celltype_num = dict(zip(adata.obs['cell_id'], adata.obs['cell_type_newnum_final']))\n",
    "# mapping_dict_manos = dict(zip(adata.obs['cell_id'], adata.obs['sample']))\n",
    "\n",
    "adata2.obs['cell_type_newnum_final'] = adata2.obs['cell_id'].map(mapping_dict_celltype_num)\n",
    "adata2.obs['cell_type_final'] = adata2.obs['cell_id'].map(mapping_dict_celltype)\n",
    "adata2.obs['region_automap'] = adata2.obs['cell_id'].map(mapping_dict_region)\n",
    "# adata2.obs['region_manual'] = adata.obs['region_manual_name']\n",
    "\n",
    "all_celltype = np.array(adata2.obs['cell_type_final'].unique())"
   ]
  },
  {
   "cell_type": "code",
   "execution_count": null,
   "id": "7064753e-a24d-4225-9e7f-dbba32aaaaaa",
   "metadata": {},
   "outputs": [],
   "source": [
    "# HC only\n",
    "adata2.obs['Genotype'] = 0\n",
    "adata2.obs['ZT'] = 0\n",
    "\n",
    "geno_dict = {'3159-1':'WT','2670-1':'WT','3159-2':'WT','3159-3':'WT','3159-4':'WT','2505-1':'APP','2505-2':'APP','3160-1':'APP',\n",
    "             '3160-2':'APP','3161-1':'APP','3161-2':'APP','3161-3':'APP',\n",
    "}\n",
    "ZT_dict = {\n",
    "    '3159-1':'ZT17','2670-1':'ZT5','3159-2':'ZT17','3159-3':'ZT17','3159-4':'ZT17','2505-1':'ZT5','2505-2':'ZT5',\n",
    "'3160-1':'ZT17','3160-2':'ZT17','3161-1':'ZT17','3161-2':'ZT17','3161-3':'ZT17',\n",
    "}\n",
    "\n",
    "adata2.obs['Genotype'] = adata2.obs['sample'].map(geno_dict)\n",
    "adata2.obs['ZT'] = adata2.obs['sample'].map(ZT_dict)"
   ]
  },
  {
   "cell_type": "code",
   "execution_count": null,
   "id": "2ac2a068",
   "metadata": {},
   "outputs": [],
   "source": [
    "all_celltype = np.array(adata2.obs['cell_type_final'].unique())"
   ]
  },
  {
   "cell_type": "code",
   "execution_count": null,
   "id": "75699778",
   "metadata": {},
   "outputs": [],
   "source": [
    "all_samples = adata2.obs['sample'].unique()"
   ]
  },
  {
   "cell_type": "code",
   "execution_count": null,
   "id": "b795ed41",
   "metadata": {},
   "outputs": [],
   "source": [
    "all_copy = all_celltype\n",
    "for item_ in all_celltype[:]:\n",
    "    adata_microglia = adata2[adata2.obs['cell_type_final'] == item_]\n",
    "    \n",
    "    a = len(adata_microglia.obs[adata_microglia.obs['sample'] == all_samples[0]]) > 2\n",
    "    b = len(adata_microglia.obs[adata_microglia.obs['sample'] == all_samples[1]]) > 2\n",
    "    c = len(adata_microglia.obs[adata_microglia.obs['sample'] == all_samples[2]]) > 2\n",
    "    d = len(adata_microglia.obs[adata_microglia.obs['sample'] == all_samples[3]]) > 2\n",
    "    e = len(adata_microglia.obs[adata_microglia.obs['sample'] == all_samples[4]]) > 2\n",
    "    f = len(adata_microglia.obs[adata_microglia.obs['sample'] == all_samples[5]]) > 2\n",
    "    g = len(adata_microglia.obs[adata_microglia.obs['sample'] == all_samples[6]]) > 2\n",
    "    h = len(adata_microglia.obs[adata_microglia.obs['sample'] == all_samples[7]]) > 2\n",
    "    i = len(adata_microglia.obs[adata_microglia.obs['sample'] == all_samples[8]]) > 2\n",
    "    j = len(adata_microglia.obs[adata_microglia.obs['sample'] == all_samples[9]]) > 2\n",
    "    k = len(adata_microglia.obs[adata_microglia.obs['sample'] == all_samples[10]]) > 2\n",
    "    l = len(adata_microglia.obs[adata_microglia.obs['sample'] == all_samples[11]]) > 2\n",
    "\n",
    "    if not(a & b & c & d & e & f & g & h & i & j & k ):\n",
    "        all_copy = np.delete(all_copy, np.where(all_copy == item_))        \n",
    "\n",
    "all_celltype = all_copy"
   ]
  },
  {
   "cell_type": "code",
   "execution_count": null,
   "id": "265c2f38",
   "metadata": {},
   "outputs": [],
   "source": [
    "sc.pp.normalize_total(adata2, inplace=True)\n",
    "sc.pp.log1p(adata2)"
   ]
  },
  {
   "cell_type": "code",
   "execution_count": null,
   "id": "77be27a3",
   "metadata": {},
   "outputs": [],
   "source": [
    "region_to_ext = 'MH Glut'\n",
    "\n",
    "adata_subset_region = adata_subset[adata_subset.obs['region']==region_to_ext]\n",
    "\n",
    "all_celltype = np.array(adata_subset_region.obs['cell_type_final'].unique())\n",
    "\n",
    "### Remove celltype not present in all group ---- to run until stops returning error\n",
    "for i in range(0, len(all_celltype)):\n",
    "    adata_microglia = adata2[adata2.obs['cell_type_final'] == all_celltype[i]]\n",
    "    if ((len(adata_microglia.obs[adata_microglia.obs['Genotype'] == 'WT']) > 1) & (len(adata_microglia.obs[adata_microglia.obs['Genotype'] == 'APP']) > 1)):\n",
    "        print('a')\n",
    "    else:\n",
    "        all_celltype = np.delete(all_celltype, [i])"
   ]
  },
  {
   "cell_type": "code",
   "execution_count": null,
   "id": "3b7db7b1",
   "metadata": {},
   "outputs": [],
   "source": [
    "all_celltype = np.delete(all_celltype, np.where(all_celltype == 'AD Glut'))\n",
    "all_celltype"
   ]
  },
  {
   "cell_type": "code",
   "execution_count": null,
   "id": "9da21212",
   "metadata": {},
   "outputs": [],
   "source": [
    "adata2.obs[adata2.obs['cell_type_final'] == \"AD Glut\"]['sample'].unique()\n"
   ]
  },
  {
   "cell_type": "code",
   "execution_count": null,
   "id": "69731820-3267-4ef5-aec4-15fb9a0acf6a",
   "metadata": {},
   "outputs": [],
   "source": [
    "dfs = []\n",
    "\n",
    "a_ = 0\n",
    "strerhyt = '-'\n",
    "strenbis = ' '\n",
    "\n",
    "for cell_type_to_extract in all_celltype:\n",
    "    adata_microglia = adata2[adata2.obs['cell_type_final'] == cell_type_to_extract]\n",
    "    \n",
    "    ### Extract gene expression per cluster + log fold change + p-value\n",
    "    cluster_to_use = 'Genotype'\n",
    "    clust_uniq = adata2.obs[cluster_to_use].unique()\n",
    "    dat = pd.DataFrame()\n",
    "\n",
    "    if (len(adata_microglia[adata_microglia.obs[cluster_to_use] == clust_uniq[0]]) < 2) or (len(adata_microglia[adata_microglia.obs[cluster_to_use] == clust_uniq[1]]) < 2):\n",
    "        dat['nothing'] = ['to see here']\n",
    "        dfs.append(dat)\n",
    "        a_ +=1\n",
    "        print(f'[{a_ * strerhyt}{(len(all_celltype) - a_)*strenbis}] Cluster {a_} / {len(all_celltype)}')\n",
    "        continue\n",
    "\n",
    "    adata_microglia.obs[cluster_to_use] = adata_microglia.obs[cluster_to_use].astype(str)\n",
    "    #sc.tl.dendrogram(adata, groupby = 'L04_newnum_subclassname')\n",
    "    sc.tl.rank_genes_groups(adata_microglia, groupby=cluster_to_use, method=\"wilcoxon\", tie_correct = True, pts = True)\n",
    "    \n",
    "    # sc.pl.rank_genes_groups_dotplot(adata_microglia, groupby=cluster_to_use, standard_scale=\"var\", n_genes=5)\n",
    "    \n",
    "    for i in adata2.obs[cluster_to_use].unique():\n",
    "        # print(f\"Cluster {cell_type_to_extract}_{i}\")\n",
    "        dat1 = sc.get.rank_genes_groups_df(adata_microglia, group=i)\n",
    "        dat1['group'] = i\n",
    "        dat = pd.concat([dat, dat1])\n",
    "\n",
    "    dat = dat[ ### Choose filters here\n",
    "    (dat['pct_nz_group'] > 0.15) & #Percentage of cell expressing the gene\n",
    "    (dat['pvals_adj']<= 0.05) & # adjusted p-value\n",
    "    (abs(dat['logfoldchanges']) > 0.26) # logfoldchange\n",
    "    ]\n",
    "    a_ +=1\n",
    "    print(f'[{a_ * strerhyt}{(len(all_celltype) - a_)*strenbis}] Cluster {a_} / {len(all_celltype)}')\n",
    "\n",
    "    dfs.append(dat)\n",
    "else:\n",
    "    print('Extraction done')\n",
    "\n",
    "\n",
    "### Extract normalized expression and clusters for individual cells\n",
    "# if not os.path.exists(f\"{dir_notebook}/csv/{name_dir}/foldchange\"):\n",
    "#    os.makedirs(f\"{dir_notebook}/csv/{name_dir}/foldchange\")\n",
    "# dat.to_csv(f\"{dir_notebook}/csv/{name_dir}/foldchange/{name_dir}_clusters_foldchange_{cell_type_to_extract}.csv\")"
   ]
  },
  {
   "cell_type": "code",
   "execution_count": null,
   "id": "52edbb05-2f75-4351-9424-c8c67066a9c2",
   "metadata": {},
   "outputs": [],
   "source": [
    "import xlsxwriter\n",
    "writer = pd.ExcelWriter(f'csv/{name_dir}/all_celltypes_df_comb_bis.xlsx', engine='xlsxwriter')\n",
    "for j in range(0,len(dfs)):\n",
    "    dfs[j].to_excel(writer, sheet_name=all_celltype[j], index=False)\n",
    "\n",
    "writer.close()"
   ]
  },
  {
   "cell_type": "markdown",
   "id": "96e3d049-37a3-4ac4-b30c-89af10023c2b",
   "metadata": {},
   "source": [
    "## Normalized gene counts with cell type and automap regions"
   ]
  },
  {
   "cell_type": "code",
   "execution_count": null,
   "id": "bea858eb-9f4d-42e8-899c-e9609e853808",
   "metadata": {},
   "outputs": [],
   "source": [
    "# adata = sc.read_h5ad(f\"{dir_notebook}/h5ad/{name_dir}/{name_dir}_MMC_Banksy_annotated_automap.h5ad.gz\")\n",
    "adata_norm = sc.read_h5ad(f\"{dir_notebook}/h5ad/{name_dir}/{name_dir}_MMC_norm.h5ad.gz\")\n"
   ]
  },
  {
   "cell_type": "code",
   "execution_count": null,
   "id": "cca91f42-70a3-4fd8-9f5b-a69ea84567a7",
   "metadata": {},
   "outputs": [],
   "source": [
    "len(adata_norm), len(adata)"
   ]
  },
  {
   "cell_type": "code",
   "execution_count": null,
   "id": "6f3f67b5",
   "metadata": {},
   "outputs": [],
   "source": [
    "adata.obs.sample(2)"
   ]
  },
  {
   "cell_type": "code",
   "execution_count": null,
   "id": "92da0d07",
   "metadata": {},
   "outputs": [],
   "source": [
    "adata.obs['region_manual_name'].value_counts()"
   ]
  },
  {
   "cell_type": "code",
   "execution_count": null,
   "id": "ffe7a035-59f1-42f1-a67e-9eaf88daf2c2",
   "metadata": {},
   "outputs": [],
   "source": [
    "# adata_norm = adata2\n",
    "df = pd.DataFrame(data=adata_norm.X.toarray(), index=adata_norm.obs_names, columns=adata_norm.var_names)\n",
    "df['cell_id'] = df.index\n",
    "\n",
    "# # # Create a dictionary to map old values to new values\n",
    "mapping_dict_region = dict(zip(adata.obs['cell_id'], adata.obs['region_automap_name']))\n",
    "mapping_dict_region_manos = dict(zip(adata.obs['cell_id'], adata.obs['region_manual_name']))\n",
    "mapping_dict_celltype = dict(zip(adata.obs['cell_id'], adata.obs['cell_type_final']))\n",
    "mapping_dict_manos = dict(zip(adata.obs['cell_id'], adata.obs['sample']))\n",
    "# mapping_dict_geno = dict(zip(adata.obs['cell_id'], adata.obs['Genotype']))\n",
    "\n",
    "# # # Use .map() function to rename cell contents in 'col1' based on mapping dictionary\n",
    "df['region_automap'] = df['cell_id'].map(mapping_dict_region)\n",
    "df['region_manual_map'] = df['cell_id'].map(mapping_dict_region_manos)\n",
    "df['cell_type_final'] = df['cell_id'].map(mapping_dict_celltype)\n",
    "\n",
    "df['sample'] = df['cell_id'].map(mapping_dict_manos)\n",
    "# df['Genotype'] = df['cell_id'].map(mapping_dict_geno)\n",
    "df.dropna(subset=['cell_type_final'], inplace=True)"
   ]
  },
  {
   "cell_type": "code",
   "execution_count": null,
   "id": "3169bab5",
   "metadata": {},
   "outputs": [],
   "source": [
    "df.sample(2)"
   ]
  },
  {
   "cell_type": "code",
   "execution_count": null,
   "id": "d34c1bf3-37dd-44f2-b9bb-c48a68a25cb9",
   "metadata": {},
   "outputs": [],
   "source": [
    "### Save all normalized count + metadata as a single file\n",
    "\n",
    "# df.to_csv(f\"{dir_notebook}/csv/{name_dir}/{name_dir}_norm_combined.csv.gz\",\n",
    "#             compression={'method': 'gzip'}\n",
    "#          )\n",
    "\n",
    "df.to_parquet(f\"{dir_notebook}/csv/{name_dir}/{name_dir}_norm_combined_regions.parquet\")"
   ]
  },
  {
   "cell_type": "code",
   "execution_count": null,
   "id": "8c8fe933",
   "metadata": {},
   "outputs": [],
   "source": [
    "### Extract normalized gene count for each samples separately (for a subset of markers genes, uncomment filter)\n",
    "\n",
    "markers_genes = ['cell_id','Arntl',\"Ciart\",\"Clock\",\"Cry1\",\"Cry2\",\"Dbp\",\"Hlf\",\n",
    "                \"Nfil3\",\"Npas2\",\"Nr1d1\",\"Per1\",\"Per2\",\"Per3\",\"Rora\",\n",
    "                \"Rorb\",\"Rorc\"]\n",
    "\n",
    "count = 0\n",
    "for sample_idd in samples_ids:\n",
    "    count += 1\n",
    "    print(f'{count}/{len(samples_ids)}')\n",
    "    df_temp = df[df['sample'] == sample_idd]\n",
    "    # df_temp = df_temp.filter(markers_genes, axis=1)\n",
    "\n",
    "    # df['region_automap'] = df['cell_id'].map(mapping_dict_region)\n",
    "    df_temp['cell_type_final'] = df_temp['cell_id'].map(mapping_dict_celltype)\n",
    "    df_temp['sample'] = df_temp['cell_id'].map(mapping_dict_manos)\n",
    "    \n",
    "    df_temp.to_csv(f\"{dir_notebook}/csv/{name_dir}/{name_dir}_norm_combined_{sample_idd}_allgenes.csv.gz\",\n",
    "            compression={'method': 'gzip'})\n",
    "\n"
   ]
  },
  {
   "cell_type": "code",
   "execution_count": null,
   "id": "ea58de90",
   "metadata": {},
   "outputs": [],
   "source": [
    "### Extract percentage of cells expressing a set of genes in all celltypes\n",
    "\n",
    "markers_genes = ['Arntl',\"Ciart\",\"Clock\",\"Cry1\",\"Cry2\",\"Dbp\",\"Hlf\",\n",
    "                \"Nfil3\",\"Npas2\",\"Nr1d1\",\"Per1\",\"Per2\",\"Per3\",\"Rora\",\n",
    "                \"Rorb\",\"Rorc\"]\n",
    "\n",
    "all_celltype = df['cell_type_final'].unique()\n",
    "all_celltype = np.append(all_celltype, 'All')\n",
    "\n",
    "count = 0\n",
    "prct_all = pd.DataFrame([], index=markers_genes)\n",
    "\n",
    "for celltype_ in all_celltype:\n",
    "    count += 1\n",
    "    print(f'{count}/{len(all_celltype)}')\n",
    "\n",
    "    if celltype_ != 'All':\n",
    "        df_temp = df[df['cell_type_final'] == celltype_]\n",
    "        df_temp2 = df_temp.filter(markers_genes, axis=1)\n",
    "    else:\n",
    "        df_temp2 = df.filter(markers_genes, axis=1)\n",
    "\n",
    "    temp_pct = []\n",
    "    for gene_ in markers_genes:\n",
    "        abt = len(df_temp2[df_temp2[gene_] > 0]) / len(df_temp2)\n",
    "        temp_pct.append(abt)\n",
    "    \n",
    "    prct_all[celltype_]= pd.DataFrame(temp_pct, index=markers_genes)\n",
    "\n",
    "prct_all.to_csv(f'csv/{name_dir}/{name_dir}_CG_percentage.csv')"
   ]
  },
  {
   "cell_type": "code",
   "execution_count": null,
   "id": "b3623f4a",
   "metadata": {},
   "outputs": [],
   "source": [
    "all_region"
   ]
  },
  {
   "cell_type": "code",
   "execution_count": null,
   "id": "68763fcd",
   "metadata": {},
   "outputs": [],
   "source": [
    "### Extract percentage of cells expressing a set of genes in all regions\n",
    "\n",
    "markers_genes = ['Arntl',\"Ciart\",\"Clock\",\"Cry1\",\"Cry2\",\"Dbp\",\"Hlf\",\n",
    "                \"Nfil3\",\"Npas2\",\"Nr1d1\",\"Per1\",\"Per2\",\"Per3\",\"Rora\",\n",
    "                \"Rorb\",\"Rorc\"]\n",
    "\n",
    "all_region = df['region_automap'].unique()\n",
    "all_region = np.append(all_region, 'All')\n",
    "\n",
    "count = 0\n",
    "prct_all = pd.DataFrame([], index=markers_genes)\n",
    "\n",
    "for celltype_ in all_region:\n",
    "    count += 1\n",
    "    print(f'{count}/{len(all_region)}')\n",
    "\n",
    "    if celltype_ != 'All':\n",
    "        df_temp = df[df['region_automap'] == celltype_]\n",
    "        df_temp2 = df_temp.filter(markers_genes, axis=1)\n",
    "    else:\n",
    "        df_temp2 = df.filter(markers_genes, axis=1)\n",
    "\n",
    "    temp_pct = []\n",
    "    for gene_ in markers_genes:\n",
    "        if len(df_temp2) !=0:\n",
    "            abt = len(df_temp2[df_temp2[gene_] > 0]) / len(df_temp2)\n",
    "        else:\n",
    "            abt = 0\n",
    "        temp_pct.append(abt)\n",
    "    \n",
    "    prct_all[celltype_]= pd.DataFrame(temp_pct, index=markers_genes)\n",
    "\n",
    "prct_all.to_csv(f'csv/{name_dir}/{name_dir}_CG_regions_percentage.csv')"
   ]
  },
  {
   "cell_type": "code",
   "execution_count": null,
   "id": "8f346eb4",
   "metadata": {},
   "outputs": [],
   "source": [
    "celltype_ = adata.obs['cell_type_final'].unique()\n",
    "# celltype_ = adata.obs['cell_type_final'].unique()[0:1]\n",
    "gene_dfs = []\n",
    "# df2 = df\n",
    "marker_genes = adata_norm.var.index\n",
    "genes_df = pd.DataFrame()\n",
    "sample_list = pd.DataFrame(adata.obs['sample'].unique())\n",
    "\n",
    "for celltype in celltype_:\n",
    "    df2 = df[df['cell_type_final'] == celltype]\n",
    "    genes_df = pd.DataFrame()\n",
    "    for gene_ in marker_genes:\n",
    "        temp = df2.groupby('sample')[gene_].mean()\n",
    "        temp_df = pd.DataFrame(temp)\n",
    "        genes_df = pd.concat([genes_df, temp_df], axis = 1)\n",
    "    gene_dfs.append(genes_df)\n",
    "\n",
    "\n",
    "import xlsxwriter\n",
    "writer = pd.ExcelWriter(f'csv/{name_dir}/{name_dir}_gene_dfs.xlsx', engine='xlsxwriter')\n",
    "for j in range(0,len(gene_dfs)):\n",
    "    gene_dfs[j].to_excel(writer, sheet_name=celltype_[j], index=False)\n",
    "\n",
    "writer.close()"
   ]
  },
  {
   "cell_type": "code",
   "execution_count": null,
   "id": "70c59295",
   "metadata": {},
   "outputs": [],
   "source": [
    "adata.obs.sample()"
   ]
  },
  {
   "cell_type": "code",
   "execution_count": null,
   "id": "6485d2f2-f3dc-416b-86d6-8dd98b566da1",
   "metadata": {},
   "outputs": [],
   "source": [
    "gene_ = 'Gfap'\n",
    "\n",
    "y1 = df[df['Genotype'] == 'WT'][gene_].sort_values()#.cumsum()\n",
    "y3 = y1[y1>0]\n",
    "x1 = range(0,len(y1))\n",
    "x3 = range(0,len(y3))\n",
    "y2 = df[df['Genotype'] == 'APP'][gene_].sort_values()#.cumsum()\n",
    "y4 = y2[y2>0]\n",
    "x2 = range(0,len(y2))\n",
    "x4 = range(0,len(y4))\n",
    "plt.scatter(x1, y1,c='blue')\n",
    "plt.scatter(x2,y2,c='red')\n",
    "plt.scatter(x4,y4,c='red')\n",
    "#plt.title(gene_)\n",
    "plt.ylabel('')\n",
    "plt.xlabel('# cells')\n",
    "# plt.xscale()\n",
    "# plt.yscale(\"log\")\n",
    "\n",
    "plt.show()"
   ]
  },
  {
   "cell_type": "code",
   "execution_count": null,
   "id": "90f6a129",
   "metadata": {},
   "outputs": [],
   "source": [
    "\n",
    "# sns.histplot(y1, stat = 'percent', label = 'WT', kde=True, color = 'blue')\n",
    "sns.histplot(y3, stat = 'percent',  kde=True, color = 'darkblue')\n",
    "sns.histplot(y4, stat = 'percent',  kde=True, color = 'darkred')\n",
    "# sns.histplot(y2, stat = 'percent', label = 'APP', kde=True, color = 'red')\n",
    "plt.xlim(0.05,)\n",
    "plt.ylim(0,5)\n",
    "plt.title = gene_"
   ]
  },
  {
   "cell_type": "code",
   "execution_count": null,
   "id": "7f7ab5f2",
   "metadata": {},
   "outputs": [],
   "source": [
    "import numpy as np\n",
    "import matplotlib.pyplot as plt\n",
    "\n",
    "# Example: Assume x and y are the data points\n",
    "x = x3\n",
    "y = y3\n",
    "\n",
    "# Fit a smooth polynomial (e.g., degree 5)\n",
    "coeffs = np.polyfit(x, y, deg=3)\n",
    "smooth_function = np.poly1d(coeffs)\n",
    "\n",
    "# Compute derivatives\n",
    "first_derivative = np.polyder(smooth_function)\n",
    "second_derivative = np.polyder(first_derivative)\n",
    "\n",
    "# Find stationary points (where first derivative is zero)\n",
    "x_vals = np.linspace(min(x), max(x), len(x3))\n",
    "first_derivative_values = first_derivative(x_vals)\n",
    "\n",
    "# x_vals_sec = np.linspace(min(x), max(x), len(x3))\n",
    "# sec_derivative_values = second_derivative(x_vals_sec)\n",
    "\n",
    "\n",
    "# # Identify points where first derivative is approximately zero\n",
    "# stationary_points = x_vals_sec[np.isclose(sec_derivative_values, 0, atol=1e-5)]\n",
    "\n",
    "# Identify points where first derivative is approximately zero\n",
    "stationary_points = x_vals_sec[np.isclose(first_derivative_values, 0, atol=1e-5)]\n",
    "\n",
    "# Classify stationary points using the second derivative\n",
    "stationary_types = []\n",
    "for point in stationary_points:\n",
    "    second_derivative_value = second_derivative(point)\n",
    "    if second_derivative_value > 0:\n",
    "        stationary_types.append(\"Minimum\")\n",
    "    elif second_derivative_value < 0:\n",
    "        stationary_types.append(\"Maximum\")\n",
    "    else:\n",
    "        stationary_types.append(\"Saddle Point\")\n",
    "\n",
    "# Plot the results\n",
    "plt.plot(x, y, label=\"Original Curve\")\n",
    "plt.scatter(stationary_points, smooth_function(stationary_points), color='red', label=\"Stationary Points\")\n",
    "plt.legend()\n",
    "plt.show()\n",
    "\n",
    "# Print the stationary points and their classification\n",
    "# for i, point in enumerate(stationary_points):\n",
    "#     print(f\"Stationary Point at x = {point:.2f}: {stationary_types[i]}\")"
   ]
  },
  {
   "cell_type": "code",
   "execution_count": null,
   "id": "5147b3d2",
   "metadata": {},
   "outputs": [],
   "source": [
    "# plt.scatter(x = range(len(first_derivative_values)), y=first_derivative_values)\n",
    "plt.scatter(x = range(len(sec_derivative_values)), y=sec_derivative_values)"
   ]
  },
  {
   "cell_type": "code",
   "execution_count": null,
   "id": "8d496e58",
   "metadata": {},
   "outputs": [],
   "source": [
    "plt.scatter(x=x3, y=y3)"
   ]
  },
  {
   "cell_type": "code",
   "execution_count": null,
   "id": "ca338072",
   "metadata": {},
   "outputs": [],
   "source": [
    "xdata=x3\n",
    "ydata=y3\n",
    "\n",
    "def func(x, a, b, c):\n",
    "\n",
    "    return a * np.exp(b * x) + c\n",
    "\n",
    "popt, pcov = curve_fit(func, xdata, ydata)\n",
    "\n",
    "plt.scatter(x=x3,y=y3)\n",
    "plt.plot(xdata, func(xdata, *popt), 'r-',)"
   ]
  },
  {
   "cell_type": "markdown",
   "id": "ae48a22d-45c1-4465-9ca0-9efb8d894d58",
   "metadata": {},
   "source": [
    "## Extract score, FC, p-value for each genes, compared to other clusters"
   ]
  },
  {
   "cell_type": "code",
   "execution_count": null,
   "id": "53459f90-6dd1-4ff1-8534-26e9cbf5e011",
   "metadata": {
    "scrolled": true
   },
   "outputs": [],
   "source": [
    "### Extract gene expression per cluster + log fold change + p-value\n",
    "\n",
    "cluster_to_use = 'sample'\n",
    "\n",
    "adata2.obs[cluster_to_use] = adata2.obs[cluster_to_use].astype(str)\n",
    "#sc.tl.dendrogram(adata, groupby = 'L04_newnum_subclassname')\n",
    "sc.tl.rank_genes_groups(adata2, groupby=cluster_to_use, method=\"wilcoxon\", tie_correct = True)\n",
    "\n",
    "# sc.pl.rank_genes_groups_dotplot(adata2, groupby=cluster_to_use, standard_scale=\"var\", n_genes=5)\n",
    "\n",
    "dat = pd.DataFrame()\n",
    "for i in adata2.obs[cluster_to_use].unique():\n",
    "    print(f\"Cluster {i}\")\n",
    "    dat1 = sc.get.rank_genes_groups_df(adata2, group=str(i))\n",
    "    dat1['group'] = i\n",
    "    dat = pd.concat([dat, dat1])\n",
    "\n",
    "### Extract not-normalized expression and clusters for individual cells\n",
    "if not os.path.exists(f\"{dir_notebook}/csv/{name_dir}/\"):\n",
    "   os.makedirs(f\"{dir_notebook}/csv/{name_dir}/\")\n",
    "dat.to_csv(f\"{dir_notebook}/csv/{name_dir}/{name_dir}_clusters_foldchange_allbrain.csv\")"
   ]
  },
  {
   "cell_type": "markdown",
   "id": "7fd7c581-a154-4a32-b88b-2ea285b0b02a",
   "metadata": {},
   "source": [
    "## Reimport and merge 'cell type' if h5ad was not saved correcty"
   ]
  },
  {
   "cell_type": "code",
   "execution_count": null,
   "id": "d0368b90-1298-4eb7-9e06-0aebb75b163c",
   "metadata": {},
   "outputs": [],
   "source": [
    "df = pd.read_csv(f\"{dir_notebook}/csv/{name_dir}/{name_dir}_MMC_Banksy_annotated.csv\")\n",
    "adata=sc.read_h5ad(f\"{dir_notebook}/h5ad/{name_dir}/{name_dir}_MMC_Banksy_clusters.h5ad\")\n",
    "\n",
    "df_dict = dict(zip(df['cell_id'],df['cell type']))\n",
    "\n",
    "adata.obs['cell type'] = adata.obs.apply(lambda x: df_dict[x['cell_id']] if x['cell_id'] in df_dict else x['cell type'],axis = 1)\n",
    "\n",
    "all_cell_type = adata.obs['cell type'].unique()\n",
    "list_cell_nb = range(0, len(all_cell_type))\n",
    "mapping_dict = dict(zip(all_cell_type,list_cell_nb))\n",
    "adata.obs['cell_type_newnum'] = adata.obs['cell type'].map(mapping_dict)\n",
    "# mapping_dict"
   ]
  },
  {
   "cell_type": "markdown",
   "id": "e71c96cd-212f-4bc6-9bb3-9a3e552f5c07",
   "metadata": {},
   "source": [
    "# Test zone"
   ]
  },
  {
   "cell_type": "markdown",
   "id": "14684818-818a-4334-ba5c-f58f06ec8fb2",
   "metadata": {},
   "source": [
    "## Outliers and highly variable genes detection"
   ]
  },
  {
   "cell_type": "markdown",
   "id": "3886a65f-61b3-4d2a-9ce3-ab375eb79771",
   "metadata": {
    "jp-MarkdownHeadingCollapsed": true
   },
   "source": [
    "### Outliers"
   ]
  },
  {
   "cell_type": "code",
   "execution_count": null,
   "id": "306bad63-56a1-46eb-9c05-abc3b45e5ce9",
   "metadata": {},
   "outputs": [],
   "source": [
    "# from scipy.stats import median_abs_deviation\n",
    "\n",
    "# def is_outlier(adata, metric: str, nmads: int):\n",
    "#     M = adata.obs[metric]\n",
    "#     outlier = (M < np.median(M) - nmads * median_abs_deviation(M)) | (\n",
    "#         M > np.median(M) + nmads * median_abs_deviation(M)\n",
    "#     )\n",
    "#     return outlier"
   ]
  },
  {
   "cell_type": "code",
   "execution_count": null,
   "id": "0407c74f-7a13-41fc-b7b0-89bf01f29c37",
   "metadata": {},
   "outputs": [],
   "source": [
    "# np.median(adata.obs[\"log1p_total_counts\"]) - 5 * median_abs_deviation(adata.obs[\"log1p_total_counts\"])"
   ]
  },
  {
   "cell_type": "code",
   "execution_count": null,
   "id": "852cdb47-df88-4834-8844-adf895a8dbb1",
   "metadata": {},
   "outputs": [],
   "source": [
    "# np.median(adata.obs[\"log1p_n_genes_by_counts\"]) - 5 * median_abs_deviation(adata.obs[\"log1p_n_genes_by_counts\"])"
   ]
  },
  {
   "cell_type": "code",
   "execution_count": null,
   "id": "50f66e35-7921-4e9d-8ec5-2bf1f49a035e",
   "metadata": {},
   "outputs": [],
   "source": [
    "# adata.obs[\"outlier\"] = (\n",
    "#     is_outlier(adata, \"log1p_total_counts\", 5)\n",
    "#     | is_outlier(adata, \"log1p_n_genes_by_counts\", 5)\n",
    "#     | is_outlier(adata, \"pct_counts_in_top_20_genes\", 5)\n",
    "# )"
   ]
  },
  {
   "cell_type": "code",
   "execution_count": null,
   "id": "664e3670-c45d-4652-b0c8-cb8923c3ec8a",
   "metadata": {},
   "outputs": [],
   "source": [
    "# adata.obs[adata.obs['outlier'] == True][['log1p_total_counts',\"log1p_n_genes_by_counts\",\"pct_counts_in_top_20_genes\",'outlier']].sample(12)"
   ]
  },
  {
   "cell_type": "code",
   "execution_count": null,
   "id": "a5648889-7f75-4bd0-9f5c-733d4def5c56",
   "metadata": {},
   "outputs": [],
   "source": [
    "# pd.set_option(\"display.max_row\", None)\n",
    "# adata.obs[adata.obs['outlier'] == True].groupby('mmc:subclass_name')['cell_id'].nunique()"
   ]
  },
  {
   "cell_type": "code",
   "execution_count": null,
   "id": "6dae1164-6af3-493c-b8dd-e1a44d23681f",
   "metadata": {},
   "outputs": [],
   "source": [
    "# adata.obs[adata.obs['outlier'] == True].shape"
   ]
  },
  {
   "cell_type": "code",
   "execution_count": null,
   "id": "f1d755f7-f72a-4343-99f3-3600c956fadc",
   "metadata": {},
   "outputs": [],
   "source": [
    "# adata.obs[adata.obs['mmc:subclass_name'] == \"334 Microglia NN\"]['cell_id'].nunique()"
   ]
  },
  {
   "cell_type": "markdown",
   "id": "a835fa72-aa40-467a-8d27-e8ca4d9b5442",
   "metadata": {},
   "source": [
    "### Highly variable genes"
   ]
  },
  {
   "cell_type": "code",
   "execution_count": null,
   "id": "df23727c-74e1-4b69-bd32-d2f0bc58d78e",
   "metadata": {},
   "outputs": [],
   "source": [
    "# sc.pp.highly_variable_genes(adata)"
   ]
  },
  {
   "cell_type": "code",
   "execution_count": null,
   "id": "2da6d0a3-47fc-4be6-88ce-0b038dc5c2c4",
   "metadata": {},
   "outputs": [],
   "source": [
    "# adata.var[adata.var['highly_variable']==True]."
   ]
  },
  {
   "cell_type": "markdown",
   "id": "5a246ef5-d4c0-4629-b2e4-e2162eafbd9d",
   "metadata": {},
   "source": [
    "## Match cells with manually drawn regions (cell id)"
   ]
  },
  {
   "cell_type": "code",
   "execution_count": null,
   "id": "b97fae91-221d-4fbb-bb64-1de36c6f8af8",
   "metadata": {},
   "outputs": [],
   "source": [
    "adata = sc.read_h5ad(f\"{dir_notebook}/h5ad/{name_dir}/{name_dir}_MMC_Banksy_annotated_automap.h5ad.gz\")"
   ]
  },
  {
   "cell_type": "code",
   "execution_count": null,
   "id": "58b7483c-9a5b-4628-b949-2b9b3f811f74",
   "metadata": {},
   "outputs": [],
   "source": [
    "hipp_df = pd.read_csv(f'{dir_notebook}/coordinates/Hipp_run3.csv')"
   ]
  },
  {
   "cell_type": "code",
   "execution_count": null,
   "id": "7dbc3b08-61dc-4555-bf75-a00ff6d8b17e",
   "metadata": {},
   "outputs": [],
   "source": [
    "hipp_df.head(2)"
   ]
  },
  {
   "cell_type": "code",
   "execution_count": null,
   "id": "17df8c8b-4794-4cd1-b8f6-23983ac0db50",
   "metadata": {},
   "outputs": [],
   "source": [
    "# Create a dictionary to map old values to new values\n",
    "mapping_dict = dict(zip(hipp_df['cell_id'], hipp_df['region']))\n",
    "\n",
    "# Use .map() function to rename cell contents in 'col1' based on mapping dictionary\n",
    "adata.obs['region_manos'] = adata.obs['cell_id'].apply(lambda x: mapping_dict[x] if x in mapping_dict else np.nan)"
   ]
  },
  {
   "cell_type": "code",
   "execution_count": null,
   "id": "11362be7-ea72-4b75-b309-7774b9910274",
   "metadata": {},
   "outputs": [],
   "source": [
    "adata.obs.loc[\n",
    "    (adata.obs['region_manos'] == 'Hipp_manos') &\n",
    "    (adata.obs['region_automap_name'] == 'HIPP'), 'test'] = \"_granular\"\n",
    "adata.obs.loc[\n",
    "    (adata.obs['region_manos'] == 'Hipp_manos') &\n",
    "    (adata.obs['region_automap_name'].isnull()), 'test'] = \"_molecular\"\n",
    "adata.obs.loc[\n",
    "    (adata.obs['region_manos'].isnull()) &\n",
    "    (adata.obs['region_automap_name'] == 'HIPP'), 'test'] = \"_granular\""
   ]
  },
  {
   "cell_type": "code",
   "execution_count": null,
   "id": "a79b8083-d7da-41ca-b12c-af99a6350834",
   "metadata": {
    "scrolled": true
   },
   "outputs": [],
   "source": [
    "adata.obs.sample(50)"
   ]
  },
  {
   "cell_type": "code",
   "execution_count": null,
   "id": "afce0309-e374-4708-a47b-1362822db172",
   "metadata": {},
   "outputs": [],
   "source": [
    "# Create a dictionary to map old values to new values\n",
    "mapping_dict = dict(zip(adata.obs[adata.obs['test'] != \"0\"]['cell_id'], adata.obs[adata.obs['test'] != \"0\"]['test']))\n",
    "\n",
    "# Use .map() function to rename cell contents in 'col1' based on mapping dictionary\n",
    "adata.obs[adata.obs['test'].notnull()]['region_automap_name'] = adata.obs['cell_id'].apply(lambda x: mapping_dict[x] if x in mapping_dict else x)"
   ]
  },
  {
   "cell_type": "code",
   "execution_count": null,
   "id": "c0a9ee02-2f48-4b5e-8d7f-c531791226a5",
   "metadata": {},
   "outputs": [],
   "source": [
    "all_region_type = adata.obs['region_automap_name'].unique()\n",
    "list_region_nb = range(0, len(all_region_type))\n",
    "mapping_dict = dict(zip(all_region_type,list_region_nb))\n",
    "adata.obs['region_newnum'] = adata.obs['region_automap_name'].map(mapping_dict)\n",
    "# mapping_dict"
   ]
  },
  {
   "cell_type": "code",
   "execution_count": null,
   "id": "88af7fcd-4994-441f-be24-1faae29f1d16",
   "metadata": {},
   "outputs": [],
   "source": [
    "adata.write(f\"{dir_notebook}/h5ad/{name_dir}/{name_dir}_MMC_Banksy_annotated_automap.h5ad.gz\", compression = 'gzip')"
   ]
  },
  {
   "cell_type": "markdown",
   "id": "c02a8d03-339f-4ace-82a8-6db93ee45580",
   "metadata": {},
   "source": [
    "## Plaques"
   ]
  },
  {
   "cell_type": "markdown",
   "id": "8ee2d1f7-c41f-4ae3-8b11-52f240575faf",
   "metadata": {},
   "source": [
    "See Untitled.ipynd (temporary name, hopefully)"
   ]
  },
  {
   "cell_type": "code",
   "execution_count": null,
   "id": "702815aa-92b9-4f8b-857e-3928f36640eb",
   "metadata": {},
   "outputs": [],
   "source": [
    "# adata = sc.read_h5ad(f\"{dir_notebook}/h5ad/run1-resegment/run1-resegment_MMC_Banksy_annotated_automap.h5ad.gz\")\n",
    "# adata2 = sc.read_h5ad(f\"{dir_notebook}/h5ad/run3-Habenula/run3-Habenula_MMC_Banksy_annotated_automap.h5ad.gz\")\n",
    "# adata3 = sc.read_h5ad(f\"{dir_notebook}/h5ad/run3-LGN/run3-LGN_MMC_Banksy_annotated_automap.h5ad.gz\")\n",
    "# adata4 = sc.read_h5ad(f\"{dir_notebook}/h5ad/run3-SC/run3-SC_MMC_Banksy_annotated_automap.h5ad.gz\")"
   ]
  },
  {
   "cell_type": "code",
   "execution_count": null,
   "id": "84db1b8f-0656-4ee8-b283-c8f23f62eff6",
   "metadata": {},
   "outputs": [],
   "source": [
    "adata"
   ]
  },
  {
   "cell_type": "code",
   "execution_count": null,
   "id": "a5773c40-5397-4088-9a41-af77398095b0",
   "metadata": {},
   "outputs": [],
   "source": [
    "adata.obs.rename({\"n_couts\":'total_counts',})"
   ]
  },
  {
   "cell_type": "code",
   "execution_count": null,
   "id": "aefb7a8a-4cea-4c07-ab4e-aeda57fb4dd7",
   "metadata": {},
   "outputs": [],
   "source": [
    "adata.obs = adata.obs.filter(['cell_id','total_counts','n_genes','cell_area', ], axis=1)\n",
    "adata2.obs = adata2.obs.filter(['cell_id','total_counts','n_genes','cell_area'], axis=1)\n",
    "adata3.obs = adata3.obs.filter(['cell_id','total_counts','n_genes','cell_area'], axis=1)\n",
    "adata4.obs = adata4.obs.filter(['cell_id','total_counts','n_genes','cell_area'], axis=1)"
   ]
  },
  {
   "cell_type": "code",
   "execution_count": null,
   "id": "3c949474-08da-49e6-bbb4-91156e1e5906",
   "metadata": {},
   "outputs": [],
   "source": [
    "adatas = adata.concatenate(adata2, adata3, adata4)"
   ]
  },
  {
   "cell_type": "code",
   "execution_count": null,
   "id": "8cd5398c-9cee-49c3-9a5d-73da06a12283",
   "metadata": {},
   "outputs": [],
   "source": [
    "adatas"
   ]
  },
  {
   "cell_type": "code",
   "execution_count": null,
   "id": "34418dcb-61fb-4671-b4be-26e3608d19e9",
   "metadata": {},
   "outputs": [],
   "source": [
    "fig, axs = plt.subplots(1, 3, figsize=(15, 3))\n",
    "plt.subplots_adjust(wspace=0.3)\n",
    "\n",
    "axs[0].set_title(\"Total transcripts per cell\")\n",
    "sns.histplot(adata.obs[\"total_counts\"],kde=False,ax=axs[0], stat = \"count\")\n",
    "\n",
    "axs[1].set_title(\"Unique transcripts per cell\")\n",
    "sns.histplot(adata.obs[\"n_genes\"],kde=False,ax=axs[1])\n",
    "\n",
    "axs[2].set_title(\"Area of segmented cells\")\n",
    "sns.histplot(adata.obs[\"cell_area\"], kde=False, ax=axs[2])\n",
    "\n",
    "# axs[3].set_title(\"Nucleus ratio\")\n",
    "# sns.histplot(adata.obs[\"nucleus_area\"] / adata.obs[\"cell_area\"], kde=False,ax=axs[3])\n",
    "\n",
    "# if not os.path.exists(f\"{dir_notebook}/plot/{name_dir}/\"):\n",
    "#    os.makedirs(f\"{dir_notebook}/plot/{name_dir}/\")\n",
    "plt.savefig(f\"alldata_quality-metrics.svg\")"
   ]
  },
  {
   "cell_type": "code",
   "execution_count": null,
   "id": "db2791a0-378c-47d0-90ae-bbb7c9ac3956",
   "metadata": {},
   "outputs": [],
   "source": [
    "adatas.obs['cell_area'].median(),adatas.obs['cell_area'].mean(),adatas.obs['cell_area'].min(),adatas.obs['cell_area'].max()"
   ]
  },
  {
   "cell_type": "code",
   "execution_count": null,
   "id": "7058637d-ee12-4ab4-b74a-08a2eebb2c70",
   "metadata": {},
   "outputs": [],
   "source": [
    "adatas.obs['total_counts'].sum()"
   ]
  },
  {
   "cell_type": "code",
   "execution_count": null,
   "id": "fb077578-9daa-4c2f-9a86-4d947dbf8b22",
   "metadata": {
    "scrolled": true
   },
   "outputs": [],
   "source": [
    "adata.var"
   ]
  },
  {
   "cell_type": "code",
   "execution_count": null,
   "id": "ae2fd287-318d-4724-bd8a-c0898af991aa",
   "metadata": {},
   "outputs": [],
   "source": [
    "def celltype_heatmap(adata, colors, figsize=(8, 8)):\n",
    "    # Rank gene group based on celltype\n",
    "    sc.tl.rank_genes_groups(\n",
    "        adata,\n",
    "        groupby=\"cell type\",\n",
    "        use_raw=False,\n",
    "        method=\"wilcoxon\",\n",
    "        corr_method=\"bonferroni\",\n",
    "    )\n",
    "    \n",
    "    # Create dendrorgam\n",
    "    sc.tl.dendrogram(\n",
    "        adata,\n",
    "        groupby=\"cell type\",\n",
    "        use_raw=False,\n",
    "        cor_method=\"pearson\"\n",
    "    )\n",
    "    \n",
    "    # Run sc.pl.rank_genes_groups_heatmap once to create adata.uns[\"celltype_colors\"] object\n",
    "    sc.pl.rank_genes_groups_heatmap(\n",
    "        adata,\n",
    "        show_gene_labels=False,\n",
    "        use_raw=False,\n",
    "        show=False\n",
    "    )\n",
    "    plt.close()\n",
    "\n",
    "    # Relabel celltype colors\n",
    "    adata.uns[\"celltype_colors\"] = colors\n",
    "    \n",
    "    # Plot heatmap with dendrogram\n",
    "    sc.pl.rank_genes_groups_heatmap(\n",
    "        adata,\n",
    "        show_gene_labels=True,\n",
    "        use_raw=False,\n",
    "        cmap=\"inferno\",\n",
    "        standard_scale=\"var\",\n",
    "        figsize=figsize\n",
    "    )"
   ]
  },
  {
   "cell_type": "code",
   "execution_count": null,
   "id": "20f0d3b6-5ce7-457a-993d-2a5ac625228c",
   "metadata": {},
   "outputs": [],
   "source": [
    "celltype_heatmap(adata,adata.obs['leiden_colors'])"
   ]
  },
  {
   "cell_type": "code",
   "execution_count": null,
   "id": "a469d760-0864-4d7d-a697-53464d4880aa",
   "metadata": {},
   "outputs": [],
   "source": [
    "palette"
   ]
  },
  {
   "cell_type": "code",
   "execution_count": null,
   "id": "e2b644de-a76c-4a29-9447-649e6f734135",
   "metadata": {},
   "outputs": [],
   "source": [
    "adata.obs[adata.obs['cell type']=='SO Glut']['mmc:subclass_name']"
   ]
  },
  {
   "cell_type": "markdown",
   "id": "df80f322-2061-4eb0-aebd-ea6b0027e659",
   "metadata": {},
   "source": [
    "## Concatenate MMC and h5ad"
   ]
  },
  {
   "cell_type": "code",
   "execution_count": null,
   "id": "8839075a-0e89-4658-a0ae-7d0367121549",
   "metadata": {
    "scrolled": true
   },
   "outputs": [],
   "source": [
    "csv1 = pd.read_csv('Correlation_Mapping/nuclei_3159-2_CorrelationMapping.csv', comment = '#')\n",
    "csv2 = pd.read_csv('Correlation_Mapping/nuclei_3161-1_CorrelationMapping.csv', comment =  '#')\n",
    "# csv3 = pd.read_csv('Correlation_Mapping/run3-LGN_CorrelationMapping.csv', comment =  '#')\n",
    "# csv4 = pd.read_csv('Correlation_Mapping/run3-SC_CorrelationMapping.csv', comment =  '#')\n",
    "corr = pd.concat([csv1, csv2,\n",
    "                  #csv3, csv4\n",
    "                 ], ignore_index=True)"
   ]
  },
  {
   "cell_type": "code",
   "execution_count": null,
   "id": "9bdadfaf-c9a4-41db-ade2-7b1cb22fefc4",
   "metadata": {},
   "outputs": [],
   "source": [
    "adata = sc.read_h5ad(f\"{dir_notebook}/h5ad/run3/nuclei_3161-1_forMMC.h5ad\")\n",
    "adata.obs = adata.obs.loc[:, adata.obs.columns.intersection(['cell_id','transcript_counts','x_centroid','y_centroid','sample'])]\n",
    "adata.obs_names = [f\"3161-1_{cell_id}\" for cell_id in adata.obs_names]\n",
    "adata.obs['cell_id'] = adata.obs_names\n",
    "\n",
    "adata2 = sc.read_h5ad(f\"{dir_notebook}/h5ad/run3/nuclei_3159-2_forMMC.h5ad\")\n",
    "adata2.obs = adata2.obs.loc[:, adata2.obs.columns.intersection(['cell_id','transcript_counts','x_centroid','y_centroid','sample'])]\n",
    "adata2.obs_names = [f\"3159-2_{cell_id}\" for cell_id in adata2.obs_names]\n",
    "adata2.obs['cell_id'] = adata2.obs_names\n",
    "\n",
    "# adata3 = sc.read_h5ad(f\"{dir_notebook}/h5ad/run3-LGN/run3-LGN_forMMC.h5ad\")\n",
    "# adata3.obs = adata3.obs.loc[:, adata3.obs.columns.intersection(['cell_id','transcript_counts','x_centroid','y_centroid','sample'])]\n",
    "\n",
    "# adata4 = sc.read_h5ad(f\"{dir_notebook}/h5ad/run1-resegment/run1-resegment_forMMC.h5ad\")\n",
    "# adata4.obs['transcript_counts'] = adata4.obs['total_transcript']\n",
    "# adata4.obs = adata4.obs.loc[:, adata4.obs.columns.intersection(['cell_id','transcript_counts','x_centroid','y_centroid','sample'])]\n",
    "\n",
    "adata_all = adata.concatenate([adata2,\n",
    "                              # adata3,adata4\n",
    "                              ], index_unique=None)\n",
    "adata_all.var = adata_all.var.loc[:, adata_all.var.columns.intersection(['gene_ids','feature_types','genome'])]\n",
    "adata_all.obs.index.name = None"
   ]
  },
  {
   "cell_type": "code",
   "execution_count": null,
   "id": "f2be527c-13e8-48b4-b207-b53227ff88df",
   "metadata": {},
   "outputs": [],
   "source": [
    "# HC3_MMC = corr\n",
    "HC3_MMC = pd.read_csv('Correlation_Mapping/nuclei_run3_CorrelationMapping.csv', comment = '#')\n",
    "HC3_MMC.index = HC3_MMC['cell_id']\n",
    "HC3_MMC.index.name = None\n",
    "HC3_MMC.columns = [f\"mmc:{i}\" for i in HC3_MMC.columns]\n",
    "mmc_dict_class = dict(zip(HC3_MMC['mmc:cell_id'], HC3_MMC['mmc:class_name']))\n",
    "mmc_dict_classcoef = dict(zip(HC3_MMC['mmc:cell_id'], HC3_MMC['mmc:class_correlation_coefficient']))\n",
    "mmc_dict_subclass = dict(zip(HC3_MMC['mmc:cell_id'], HC3_MMC['mmc:subclass_name']))\n",
    "mmc_dict_supertype = dict(zip(HC3_MMC['mmc:cell_id'], HC3_MMC['mmc:supertype_name']))\n",
    "\n",
    "adata_all.obs['mmc:class_name'] = adata_all.obs['cell_id'].map(mmc_dict_class)\n",
    "adata_all.obs['mmc:class_correlation_coefficient'] = adata_all.obs['cell_id'].map(mmc_dict_classcoef)\n",
    "adata_all.obs['mmc:subclass_name'] = adata_all.obs['cell_id'].map(mmc_dict_subclass)\n",
    "adata_all.obs['mmc:supertype_name'] = adata_all.obs['cell_id'].map(mmc_dict_supertype)"
   ]
  },
  {
   "cell_type": "code",
   "execution_count": null,
   "id": "5d02842d-a834-42c1-aaa5-eb5b69af4f78",
   "metadata": {},
   "outputs": [],
   "source": [
    "adata2.obs"
   ]
  },
  {
   "cell_type": "code",
   "execution_count": null,
   "id": "cc5a9772-9d43-4242-bb18-396e9712d57e",
   "metadata": {},
   "outputs": [],
   "source": [
    "adata_all.write_h5ad(f'h5ad/run1/nuclei.h5ad.gz', compression = 'gzip')"
   ]
  },
  {
   "cell_type": "code",
   "execution_count": null,
   "id": "089e4f61-3f2c-4d48-b65b-f8da945796bc",
   "metadata": {},
   "outputs": [],
   "source": [
    "adata = adata_all"
   ]
  },
  {
   "cell_type": "code",
   "execution_count": null,
   "id": "4f239c31-7efe-459e-8eff-e7c8370f3ba1",
   "metadata": {},
   "outputs": [],
   "source": [
    "adata2.obs['cell_id'] = adata2.obs_names"
   ]
  },
  {
   "cell_type": "code",
   "execution_count": null,
   "id": "06168398-09cc-4a93-a497-7574c30b9d4c",
   "metadata": {},
   "outputs": [],
   "source": [
    "adata_all.write_h5ad(f\"{dir_notebook}/h5ad/run3/nuclei_run3_forMMC.h5ad\")"
   ]
  },
  {
   "cell_type": "code",
   "execution_count": null,
   "id": "54de9060-1fed-446e-9cf3-46e9dbe9ac72",
   "metadata": {},
   "outputs": [],
   "source": [
    "plt.scatter(adata2.obs['x_centroid'],adata2.obs['y_centroid'], s= 0.05)"
   ]
  },
  {
   "cell_type": "code",
   "execution_count": null,
   "id": "451cc223-6596-4c4f-9595-dcdbcab4cbc0",
   "metadata": {},
   "outputs": [],
   "source": [
    "HC3_MMC"
   ]
  },
  {
   "cell_type": "code",
   "execution_count": null,
   "id": "0a48e85a-63c2-463a-8b67-e83f8a3fa34d",
   "metadata": {},
   "outputs": [],
   "source": []
  },
  {
   "cell_type": "markdown",
   "id": "111d2ed5-c6d5-406b-9e7b-69e1dc11ea9c",
   "metadata": {},
   "source": [
    "# Test graphs"
   ]
  },
  {
   "cell_type": "code",
   "execution_count": null,
   "id": "4ef6a2f4-b4f3-4f0c-b41c-b698eeda2395",
   "metadata": {},
   "outputs": [],
   "source": [
    "adata.uns"
   ]
  },
  {
   "cell_type": "code",
   "execution_count": null,
   "id": "bf1a420c-e146-4ba7-a1cf-97db2a345316",
   "metadata": {},
   "outputs": [],
   "source": [
    "import squidpy as sq\n",
    "adata_s1 = adata[adata.obs['sample']=='3159-2']\n",
    "sq.pl.spatial_scatter(adata_s1,\n",
    "                     spatial_key = \"coord_xy\",\n",
    "                     color = ['Gfap'],\n",
    "                     shape = \"circle\",\n",
    "                     size=2,\n",
    "                     img = False)"
   ]
  },
  {
   "cell_type": "code",
   "execution_count": null,
   "id": "83302ef5-979f-4388-a7a8-0e6151494bf8",
   "metadata": {},
   "outputs": [],
   "source": [
    "import spatialdata as sd"
   ]
  },
  {
   "cell_type": "code",
   "execution_count": null,
   "id": "2c9a63d5-f704-4d5c-9896-b3ae9e2c7f2c",
   "metadata": {},
   "outputs": [],
   "source": [
    "adata_s1.pl.render_shapes(\"cell_circles\",color ='Gfap',)"
   ]
  },
  {
   "cell_type": "code",
   "execution_count": null,
   "id": "4ccfe97c-1fb3-4cd0-af80-ac6ef28be3a5",
   "metadata": {},
   "outputs": [],
   "source": []
  },
  {
   "cell_type": "code",
   "execution_count": null,
   "id": "0f374355-564b-45b4-9609-bf3d03d11cff",
   "metadata": {},
   "outputs": [],
   "source": []
  },
  {
   "cell_type": "code",
   "execution_count": null,
   "id": "45e180ed-1d48-4359-8a8c-ac005f371533",
   "metadata": {},
   "outputs": [],
   "source": [
    "adata.obs['nuc_mmc:subclass_name'].unique()"
   ]
  },
  {
   "cell_type": "code",
   "execution_count": null,
   "id": "bb384f5c-1c93-4fbe-931d-3d513e9731b2",
   "metadata": {},
   "outputs": [],
   "source": [
    "### Correlation map\n",
    "cont_tab = pd.crosstab(adata.obs['nuc_mmc:class_name'], adata.obs['mmc:class_name'], normalize=\"index\")\n",
    "plt.figure(figsize=(300, 15))\n",
    "sns.heatmap(cont_tab, annot=True, cmap=\"YlGnBu\", fmt=\".1f\")"
   ]
  },
  {
   "cell_type": "code",
   "execution_count": null,
   "id": "2f8e77a6-1722-4f82-8128-f6c0f3dc1fd4",
   "metadata": {},
   "outputs": [],
   "source": [
    "# Generate new numbering base on unique 'cell type'\n",
    "all_cell_type = adata.obs['nuc_mmc:class_name'].unique()\n",
    "list_cell_nb = range(0, len(all_cell_type))\n",
    "mapping_dict = dict(zip(all_cell_type,list_cell_nb))\n",
    "adata.obs['cell_type_newnum'] = adata.obs['nuc_mmc:class_name'].map(mapping_dict)\n",
    "mapping_dict"
   ]
  },
  {
   "cell_type": "code",
   "execution_count": null,
   "id": "e47bc92d-fafc-46ed-b3b7-1e9dc4f87ae2",
   "metadata": {},
   "outputs": [],
   "source": [
    "### Check clusters one by one to see if they are present in all sample and which would need subclustering\n",
    "\n",
    "cluster_to_use = 'cell_type_newnum'\n",
    "\n",
    "### Generate a color palette for the clusters - to make color stay consistent across samples\n",
    "adata.obs[cluster_to_use] = adata.obs[cluster_to_use].astype(str)\n",
    "\n",
    "# Create a palette with a unique color for each cluster\n",
    "num_clusters = len(adata.obs[cluster_to_use].astype(int).unique())\n",
    "palette = sns.color_palette(\"tab20b\", n_colors=num_clusters +1)\n",
    "\n",
    "# Map each 'leiden' value to a color\n",
    "adata.obs['leiden_colors'] = adata.obs[cluster_to_use].astype(int).apply(lambda x: palette[x])\n",
    "\n",
    "# Map all cells\n",
    "fig, axs = plt.subplots(3,2,figsize=(14, 12))\n",
    "axs = axs.flatten()\n",
    "clusters_plot = {\"19\":'black', ### For VLMC\n",
    "    # '0': 'lightcoral',\"1\": 'forestgreen', '2':'red', \"3\":'purple', \"4\":\"yellow\"\n",
    "    # '5': 'lightcoral',\"6\": 'forestgreen', 7:'red', \"8\":'purple', \"9\":\"yellow\"\n",
    "    # '10': 'lightcoral',\"11\": 'forestgreen', '12':'red', \"13\":'purple', \"15\":\"yellow\", \"14\": \"blue\"\n",
    "    # '16': 'lightcoral',\"17\": 'forestgreen', '18':'red', \"19\":'purple', \"20\":\"yellow\"\n",
    "      # '21': 'lightcoral',\"22\": 'forestgreen', '23':'red', \"\":'purple', \"\":\"yellow\",\n",
    "    # '24': 'lightcoral',\"25\": 'forestgreen', '26':'red', \"27\":'purple', \"28\":\"yellow\"\n",
    "    # '29': 'lightcoral',\"30\": 'forestgreen', '31':'red', \"32\":'purple', \"33\":\"yellow\"\n",
    "    # '34': 'lightcoral',\"35\": 'forestgreen', '36':'red', \"37\":'purple', \"38\":\"yellow\", \"39\": \"blue\"\n",
    "    # '2': 'lightcoral',\"6\": 'forestgreen', '13':'red', \"19\":'purple', \"\":\"yellow\"\n",
    "    # '35': 'lightcoral',\"20\": 'forestgreen', '':'red', \"\":'purple', \"\":\"yellow\"\n",
    "                }\n",
    "\n",
    "for idx, sample in enumerate(samples_ids):\n",
    "    adata_sel = adata[(adata.obs['sample'] == sample)]\n",
    "    for cluster_id in adata_sel.obs[cluster_to_use].unique():\n",
    "        cluster_data = adata_sel.obs[adata_sel.obs[cluster_to_use] == cluster_id]\n",
    "        colors = clusters_plot[cluster_id] if cluster_id in clusters_plot else \"none\" ### for selected clusters in cluster_plot\n",
    "        # colors= cluster_data['leiden_colors'].unique()[0] ### uncomment for all clusters\n",
    "        axs[idx].scatter(cluster_data['x_centroid'], cluster_data['y_centroid'], color=colors, s=0.25, label=cluster_id)\n",
    "        axs[idx].set_title(f\"Sample {sample}\")"
   ]
  },
  {
   "cell_type": "code",
   "execution_count": null,
   "id": "210e9b89-b73c-4d29-98e5-033d2e68163c",
   "metadata": {
    "scrolled": true
   },
   "outputs": [],
   "source": [
    "# Generate new numbering base on unique 'cell type'\n",
    "all_cell_type = adata.obs['mmc:class_name'].unique()\n",
    "list_cell_nb = range(0, len(all_cell_type))\n",
    "mapping_dict = dict(zip(all_cell_type,list_cell_nb))\n",
    "adata.obs['cell_type_newnum2'] = adata.obs['mmc:class_name'].map(mapping_dict)\n",
    "mapping_dict"
   ]
  },
  {
   "cell_type": "code",
   "execution_count": null,
   "id": "abc8b1dd-fdd8-42d6-8f9a-62d36d990f99",
   "metadata": {},
   "outputs": [],
   "source": [
    "### Check clusters one by one to see if they are present in all sample and which would need subclustering\n",
    "\n",
    "cluster_to_use = 'cell_type_newnum2'\n",
    "\n",
    "### Generate a color palette for the clusters - to make color stay consistent across samples\n",
    "adata.obs[cluster_to_use] = adata.obs[cluster_to_use].astype(str)\n",
    "\n",
    "# Create a palette with a unique color for each cluster\n",
    "num_clusters = len(adata.obs[cluster_to_use].astype(int).unique())\n",
    "palette = sns.color_palette(\"tab20b\", n_colors=num_clusters +1)\n",
    "\n",
    "# Map each 'leiden' value to a color\n",
    "adata.obs['leiden_colors'] = adata.obs[cluster_to_use].astype(int).apply(lambda x: palette[x])\n",
    "\n",
    "# Map all cells\n",
    "fig, axs = plt.subplots(3,2,figsize=(14, 12))\n",
    "axs = axs.flatten()\n",
    "clusters_plot = {\"18\":'black', ### For VLMC\n",
    "    # '0': 'lightcoral',\"1\": 'forestgreen', #'2':'red', \"3\":'purple', \"4\":\"yellow\"\n",
    "    # '5': 'lightcoral',\"6\": 'forestgreen', 7:'red', \"8\":'purple', \"9\":\"yellow\"\n",
    "    # '10': 'lightcoral',\"11\": 'forestgreen', '12':'red', \"13\":'purple', \"15\":\"yellow\", \"14\": \"blue\"\n",
    "    # '16': 'lightcoral',\"17\": 'forestgreen', '18':'red', \"19\":'purple', \"20\":\"yellow\"\n",
    "      # '21': 'lightcoral',\"22\": 'forestgreen', '23':'red', \"\":'purple', \"\":\"yellow\",\n",
    "    # '24': 'lightcoral',\"25\": 'forestgreen', '26':'red', \"27\":'purple', \"28\":\"yellow\"\n",
    "    # '29': 'lightcoral',\"30\": 'forestgreen', '31':'red', \"32\":'purple', \"33\":\"yellow\"\n",
    "    # '34': 'lightcoral',\"35\": 'forestgreen', '36':'red', \"37\":'purple', \"38\":\"yellow\", \"39\": \"blue\"\n",
    "    # '2': 'lightcoral',\"6\": 'forestgreen', '13':'red', \"19\":'purple', \"\":\"yellow\"\n",
    "    # '35': 'lightcoral',\"20\": 'forestgreen', '':'red', \"\":'purple', \"\":\"yellow\"\n",
    "                }\n",
    "\n",
    "for idx, sample in enumerate(samples_ids):\n",
    "    adata_sel = adata[(adata.obs['sample'] == sample)]\n",
    "    for cluster_id in adata_sel.obs[cluster_to_use].unique():\n",
    "        cluster_data = adata_sel.obs[adata_sel.obs[cluster_to_use] == cluster_id]\n",
    "        colors = clusters_plot[cluster_id] if cluster_id in clusters_plot else \"none\" ### for selected clusters in cluster_plot\n",
    "        # colors= cluster_data['leiden_colors'].unique()[0] ### uncomment for all clusters\n",
    "        axs[idx].scatter(cluster_data['x_centroid'], cluster_data['y_centroid'], color=colors, s=0.25, label=cluster_id)\n",
    "        axs[idx].set_title(f\"Sample {sample}\")"
   ]
  },
  {
   "cell_type": "code",
   "execution_count": null,
   "id": "5515ec19-a0ec-4091-8765-19368efaa930",
   "metadata": {},
   "outputs": [],
   "source": [
    "adata.obs.groupby('mmc:subclass_name')['mmc:subclass_name'].count().sort_values()"
   ]
  },
  {
   "cell_type": "code",
   "execution_count": null,
   "id": "e8191603-7e33-4197-af4d-998269895695",
   "metadata": {},
   "outputs": [],
   "source": [
    "adata.obs.groupby('nuc_mmc:subclass_name')['nuc_mmc:subclass_name'].count().sort_values()"
   ]
  },
  {
   "cell_type": "code",
   "execution_count": null,
   "id": "a742ae15-f8cc-42f5-8ca8-3909b2fb8c92",
   "metadata": {},
   "outputs": [],
   "source": [
    "# Obtain cluster-specific differentially expressed genes\n",
    "# cluster_to_use = 'cell_type_newnum'\n",
    "cluster_to_use = 'nuc_mmc:class_name'\n",
    "adata.obs[cluster_to_use] = adata.obs[cluster_to_use].astype(str)\n",
    "sc.tl.rank_genes_groups(adata, groupby=cluster_to_use, method=\"wilcoxon\", tie_correct = True)\n",
    "sc.pl.rank_genes_groups_dotplot(adata, groupby=cluster_to_use, standard_scale=\"var\", n_genes=2)"
   ]
  },
  {
   "cell_type": "code",
   "execution_count": null,
   "id": "4979184a",
   "metadata": {},
   "outputs": [],
   "source": [
    "adata2"
   ]
  },
  {
   "cell_type": "code",
   "execution_count": null,
   "id": "ea4a3be5",
   "metadata": {},
   "outputs": [],
   "source": [
    "test_ = 'nucleus_count'\n",
    "adata2.obs[test_].median(),adata2.obs[test_].mean(),adata2.obs[test_].min(),adata2.obs[test_].max()"
   ]
  },
  {
   "cell_type": "code",
   "execution_count": null,
   "id": "f9bef976",
   "metadata": {},
   "outputs": [],
   "source": [
    "adata.obs[adata.obs['nucleus_count'] == 4]"
   ]
  },
  {
   "cell_type": "markdown",
   "id": "ff79accf",
   "metadata": {},
   "source": [
    "# Archive def functions"
   ]
  },
  {
   "cell_type": "code",
   "execution_count": null,
   "id": "837dcb43",
   "metadata": {},
   "outputs": [],
   "source": [
    "adata.obs"
   ]
  },
  {
   "cell_type": "code",
   "execution_count": null,
   "id": "bb8ede64",
   "metadata": {},
   "outputs": [],
   "source": [
    "### Automatic subclustering\n",
    "mapping_dict_all = dict(zip(adata.obs['cell_id'], adata.obs['cell_type_auto']))\n",
    "clusters_numbers = 'cell_type_newnum_auto'\n",
    "# clusters_numbers = 'cell_type_newnum_auto_sub'\n",
    "all_types = adata.obs[clusters_numbers].unique() ### Subcluster all clusters\n",
    "# all_types = ['20'] ### only subcluster the selected clusters (might need to be between comas (as string)) --- Comment to run all clusters\n",
    "\n",
    "for cluster_to_sub in (all_types):\n",
    "    print(f'Subclustering of cluster {cluster_to_sub} / {len(all_types)-1}')\n",
    "    adata_subcluster = adata_filter[adata_filter.obs[clusters_numbers] == cluster_to_sub]\n",
    "    sc.pp.pca(adata_subcluster)\n",
    "    sc.pp.neighbors(adata_subcluster)\n",
    "    sc.tl.umap(adata_subcluster)\n",
    "    sc.tl.leiden(adata_subcluster, resolution = 0.1)\n",
    "\n",
    "    clustering_method = 'leiden'\n",
    "    n = len(adata_subcluster.obs[clustering_method].unique())\n",
    "    print(f'Results: {n} clusters')\n",
    "\n",
    "    # adata_subcluster.obs['new_cluster'] = 0\n",
    "    adata_subcluster.obs['new_cluster2'] = adata_subcluster.obs[clustering_method].astype(\"str\")\n",
    "    adata_subcluster.obs['new_cluster_class2'] = adata_subcluster.obs[clustering_method].astype(\"str\")\n",
    "\n",
    "    cont_tab = pd.crosstab(adata_subcluster.obs[clustering_method], adata_subcluster.obs['mmc:subclass_name'], normalize=\"index\")\n",
    "    max_col_dict = cont_tab.T.idxmax(axis=0).to_dict()\n",
    "\n",
    "    adata_subcluster.obs['cell_type_auto'] = adata_subcluster.obs['new_cluster2'].map(max_col_dict)\n",
    "\n",
    "    # Create a dictionary to map old values to new values\n",
    "    mapping_dict = dict(zip(adata_subcluster.obs['cell_id'], adata_subcluster.obs['cell_type_auto']))\n",
    "\n",
    "    mapping_dict_all.update(mapping_dict)\n",
    "\n",
    "# Use .map() function to rename cell contents in 'col1' based on mapping dictionary\n",
    "adata.obs['cell_type_auto_sub'] = adata.obs['cell_id'].map(mapping_dict_all)\n",
    "\n",
    "all_cell_type = adata.obs['cell_type_auto_sub'].unique()\n",
    "list_cell_nb = range(0, len(all_cell_type))\n",
    "mapping_dict = dict(zip(all_cell_type,list_cell_nb))\n",
    "adata.obs['cell_type_newnum_auto_sub'] = adata.obs['cell_type_auto_sub'].map(mapping_dict)"
   ]
  },
  {
   "cell_type": "code",
   "execution_count": null,
   "id": "ed8d8bf2",
   "metadata": {},
   "outputs": [],
   "source": [
    "def auto_subclustering(adata_to_sub, all_types = 'all', Clusters_to_use = 'cell_type_newnum_auto', resolution = 0.1, ):\n",
    "    ### Filters out rare class name\n",
    "    adata_filter = adata_to_sub\n",
    "    \n",
    "    ### Automatic subclustering\n",
    "    if Clusters_to_use == 'cell_type_newnum_auto':\n",
    "        mapping_dict_all = dict(zip(adata.obs['cell_id'], adata.obs['cell_type_auto']))\n",
    "    elif Clusters_to_use == 'cell_type_newnum_auto_sub':\n",
    "        mapping_dict_all = dict(zip(adata.obs['cell_id'], adata.obs['cell_type_auto_sub']))\n",
    "    \n",
    "    clusters_numbers = Clusters_to_use\n",
    "    \n",
    "    if all_types == 'all':\n",
    "        all_types = adata.obs[clusters_numbers].unique() ### Subcluster all clusters\n",
    "    current_ = 0\n",
    "    for cluster_to_sub in (all_types):\n",
    "        total_cluster = str(len(all_types))\n",
    "        current_ += 1\n",
    "        print(f'Subclustering of cluster {cluster_to_sub} ({current_} / {total_cluster})')\n",
    "        adata_subcluster = adata_filter[adata_filter.obs[clusters_numbers] == cluster_to_sub]\n",
    "        sc.pp.pca(adata_subcluster)\n",
    "        sc.pp.neighbors(adata_subcluster)\n",
    "        sc.tl.umap(adata_subcluster)\n",
    "        sc.tl.leiden(adata_subcluster, resolution = 0.1)\n",
    "\n",
    "        clustering_method = 'leiden'\n",
    "        n = len(adata_subcluster.obs[clustering_method].unique())\n",
    "        print(f'Results: {n} clusters')\n",
    "\n",
    "        # adata_subcluster.obs['new_cluster'] = 0\n",
    "        adata_subcluster.obs['new_cluster2'] = adata_subcluster.obs[clustering_method].astype(\"str\")\n",
    "        adata_subcluster.obs['new_cluster_class2'] = adata_subcluster.obs[clustering_method].astype(\"str\")\n",
    "\n",
    "        cont_tab = pd.crosstab(adata_subcluster.obs[clustering_method], adata_subcluster.obs['mmc:subclass_name'], normalize=\"index\")\n",
    "        max_col_dict = cont_tab.T.idxmax(axis=0).to_dict()\n",
    "\n",
    "        adata_subcluster.obs['cell_type_auto'] = adata_subcluster.obs['new_cluster2'].map(max_col_dict)\n",
    "\n",
    "        # Create a dictionary to map old values to new values\n",
    "        mapping_dict = dict(zip(adata_subcluster.obs['cell_id'], adata_subcluster.obs['cell_type_auto']))\n",
    "\n",
    "        mapping_dict_all.update(mapping_dict)\n",
    "\n",
    "    # Use .map() function to rename cell contents in 'col1' based on mapping dictionary\n",
    "    adata.obs['cell_type_auto_sub'] = adata.obs['cell_id'].map(mapping_dict_all)\n",
    "\n",
    "    all_cell_type = adata.obs['cell_type_auto_sub'].unique()\n",
    "    list_cell_nb = range(0, len(all_cell_type))\n",
    "    mapping_dict = dict(zip(all_cell_type,list_cell_nb))\n",
    "    adata.obs['cell_type_newnum_auto_sub'] = adata.obs['cell_type_auto_sub'].map(mapping_dict)"
   ]
  },
  {
   "cell_type": "code",
   "execution_count": null,
   "id": "3e9d6d7a",
   "metadata": {},
   "outputs": [],
   "source": [
    "\n",
    "def cluster_table(adata_to_use = adata, Clusters_to_use = 'cell_type_newnum_auto_sub', sort_order = 'Cell Count', sort_ascend = False):\n",
    "\n",
    "    Clusters_to_use = 'cell_type_newnum_auto_sub'\n",
    "    # Clusters_to_use = 'cell_type_newnum_auto'\n",
    "    # Clusters_to_use = 'cell_type_newnum_final'\n",
    "    adata_to_use.obs[Clusters_to_use] = adata_to_use.obs[Clusters_to_use].astype(int)\n",
    "\n",
    "    if Clusters_to_use == 'cell_type_newnum_auto_sub':\n",
    "        Clusters_to_use_cells = 'cell_type_auto_sub'\n",
    "    elif Clusters_to_use == 'cell_type_newnum_auto':\n",
    "        Clusters_to_use_cells = 'cell_type_auto'\n",
    "    elif Clusters_to_use == 'cell_type_newnum_final':\n",
    "        Clusters_to_use_cells = 'cell_type_final'\n",
    "\n",
    "\n",
    "    cont_tab_sub = pd.crosstab(adata_to_use.obs[Clusters_to_use],adata_to_use.obs['mmc:subclass_name'], normalize=\"index\")\n",
    "    cont_tab_sub = cont_tab_sub.loc[:, cont_tab_sub.sum(axis=0) > 0.05]\n",
    "\n",
    "    cont_tab = pd.crosstab(adata_to_use.obs[Clusters_to_use], adata_to_use.obs['mmc:class_name'], normalize=\"index\")\n",
    "    cont_tab = cont_tab.loc[:, cont_tab.sum(axis=0) > 0.1] \n",
    "\n",
    "    all_cluster = adata_to_use.obs[Clusters_to_use].unique().astype(int)\n",
    "    cluster_df = []\n",
    "    max_corr = []\n",
    "    celltype_ = []\n",
    "    cellclass_ = []\n",
    "    count_celltype = []\n",
    "    per_celltype = []\n",
    "    total_cells = len(adata_to_use)\n",
    "\n",
    "    for all in all_cluster:\n",
    "        # print(all)\n",
    "        coor_temp = cont_tab_sub.T[all].sort_values(ascending = False)[0]\n",
    "        max_corr.append(coor_temp)\n",
    "        celltype_temp = cont_tab_sub.T[all].sort_values(ascending = False).index[0]\n",
    "        celltype_.append(celltype_temp)\n",
    "        cellclass_temp = cont_tab.T[all].sort_values(ascending = False).index[0]\n",
    "        cellclass_.append(cellclass_temp)\n",
    "        count_temp = adata_to_use.obs[adata_to_use.obs[Clusters_to_use] == all].groupby(Clusters_to_use)[\"cell_id\"].count().values[0]\n",
    "        count_celltype.append(count_temp)\n",
    "        perc_temp = count_temp / total_cells * 100\n",
    "        per_celltype.append(perc_temp)\n",
    "\n",
    "    pd.set_option('display.max_rows', 250)\n",
    "\n",
    "    d ={\"Correlation\":max_corr,\"Celltype\":celltype_,\"Cell Class\":cellclass_, \"Cell Count\":count_celltype, \"Percentage\": per_celltype}\n",
    "    cluster_df = pd.DataFrame(data = d)\n",
    "\n",
    "    if sort_order != 'None':\n",
    "        cluster_df = cluster_df.sort_values(by=sort_order, ascending=sort_ascend)\n",
    "\n",
    "    return cluster_df"
   ]
  },
  {
   "cell_type": "code",
   "execution_count": null,
   "id": "47b2f099",
   "metadata": {},
   "outputs": [],
   "source": [
    "adata2.obs[adata2.obs['cell_type_final']=='VMH Glut'].groupby('sample')['cell_id'].count()"
   ]
  },
  {
   "cell_type": "code",
   "execution_count": null,
   "id": "bbadc2da",
   "metadata": {},
   "outputs": [],
   "source": [
    "dfs[59].sort_values(by='logfoldchanges')"
   ]
  },
  {
   "cell_type": "code",
   "execution_count": null,
   "id": "e5447838",
   "metadata": {},
   "outputs": [],
   "source": [
    "for d in range(0, len(dfs)):\n",
    "    dat = dfs[d]\n",
    "    dat = dat[dat['group'] == 'APP'].sort_values(by = 'logfoldchanges')\n",
    "    x1 = range(0,len(dat))\n",
    "    plt.scatter(x=x1, y =dat['logfoldchanges'], s =3, label = all_celltype[d])"
   ]
  },
  {
   "cell_type": "code",
   "execution_count": null,
   "id": "2bb56f4f",
   "metadata": {},
   "outputs": [],
   "source": [
    "del dfs[59]"
   ]
  },
  {
   "cell_type": "code",
   "execution_count": null,
   "id": "c5598dff",
   "metadata": {},
   "outputs": [],
   "source": [
    "### Only Keep APP values (mirror of WT)\n",
    "for d in range(0,len(dfs)):\n",
    "    dfs[d] = dfs[d][dfs[d]['group']=='APP']"
   ]
  },
  {
   "cell_type": "code",
   "execution_count": null,
   "id": "1dfb3fe6",
   "metadata": {},
   "outputs": [],
   "source": [
    "all_logfold = pd.DataFrame()\n",
    "for d in range(0, len(dfs)):\n",
    "    dat = dfs[d]\n",
    "    log_pos = dat[dat['logfoldchanges']>0]['logfoldchanges'].count()\n",
    "    log_neg = -1 * dat[dat['logfoldchanges']<0]['logfoldchanges'].count()\n",
    "    temp = pd.DataFrame({'Celltype' : [all_celltype[d]],\n",
    "                            'Positive':[log_pos],\n",
    "                            'Negative':[log_neg]})\n",
    "    all_logfold= all_logfold.append(temp, ignore_index = True)\n",
    "all_logfold=all_logfold.sort_values(by='Positive',ascending = False )\n"
   ]
  },
  {
   "cell_type": "code",
   "execution_count": null,
   "id": "85166886",
   "metadata": {},
   "outputs": [],
   "source": []
  },
  {
   "cell_type": "code",
   "execution_count": null,
   "id": "b725c995",
   "metadata": {},
   "outputs": [],
   "source": [
    "all_class = all_logfold['Cellclass'].unique()\n",
    "\n",
    "fig, ax = plt.subplots(1, 1, figsize=(5,5), sharey=True)\n",
    "plt.style.use('classic')\n",
    "# for cla_ in range(0,len(all_class)):\n",
    "\n",
    "temp_df = all_logfold[all_logfold['Cellclass']==all_class[2]]\n",
    "temp_df.plot.bar(x='Celltype', y='Positive',\n",
    "                  ax=ax,\n",
    "                    color = 'darkorange', alpha = 0.7)\n",
    "temp_df.plot.bar(x='Celltype', y='Negative',\n",
    "                  ax=ax,\n",
    "                color = 'darkgreen', alpha = 0.7)\n",
    "ax.grid(False)\n",
    "ax.axhline(y=0, color  = 'black')\n",
    "# ax[0].set_xticklabels(g.get_xticklabels(), rotation=90)\n",
    "\n",
    "# plt.savefig(f'plot/{name_dir}/logchange_G.svg')"
   ]
  },
  {
   "cell_type": "code",
   "execution_count": null,
   "id": "388999fe",
   "metadata": {},
   "outputs": [],
   "source": [
    "class_dict = {\n",
    "'CA1 ProS Glut':'Neuron',\n",
    "'Tanycyte':'Epithelial',\n",
    "'MM Glut':'Neuron',\n",
    "'CA2 FC IG Glut':'Neuron',\n",
    "'SUB ProS Glut':'Neuron',\n",
    "'ZI Gaba':'Neuron',\n",
    "'VMH Glut':'Neuron',\n",
    "'PVT Glut':'Neuron',\n",
    "'CA3 Glut':'Neuron',\n",
    "'HY Glut':'Neuron',\n",
    "'SN Dopa':'Neuron',\n",
    "'PRT Gaba':'Neuron',\n",
    "'ARH GABA':'Neuron',\n",
    "'SC Gaba':'Neuron',\n",
    "'LA Glut':'Neuron',\n",
    "'L23 RSP Glut':'Neuron',\n",
    "'SC Glut':'Neuron',\n",
    "'MH Glut':'Neuron',\n",
    "'RT ZI GABA':'Neuron',\n",
    "'PF Glut':'Neuron',\n",
    "'LGv Gaba':'Neuron',\n",
    "'DG Glut':'Neuron',\n",
    "'TH Glut':'Neuron',\n",
    "'LH Glut':'Neuron',\n",
    "'Pvalb Gaba':'Neuron',\n",
    "'MB Glut':'Neuron',\n",
    "'APN Glut':'Neuron',\n",
    "'L23 CTX Glut':'Neuron',\n",
    "'Vip Gaba':'Neuron',\n",
    "'MEA Glut':'Neuron',\n",
    "'Endothelial':'Epithelial',\n",
    "'AV Glut':'Neuron',\n",
    "'Lamp5 Gaba':'Neuron',\n",
    "'CHOR':'Epithelial',\n",
    "'HY GABA':'Neuron',\n",
    "'SN Gaba':'Neuron',\n",
    "'L4 CTX Glut':'Neuron',\n",
    "'Sst Gaba':'Neuron',\n",
    "'Microglia':'Glia',\n",
    "'L6b CTX Glut':'Neuron',\n",
    "'Pericyte':'Epithelial',\n",
    "'L23 PIR ENTl Glut':'Neuron',\n",
    "'Astro TE':'Glia',\n",
    "'L6 CTX Glut':'Neuron',\n",
    "'L5 CTX Glut':'Neuron',\n",
    "'SCH Gaba':'Neuron',\n",
    "'STRv PAL Gaba':'Neuron',\n",
    "'Ependymal':'Epithelial',\n",
    "'OPC':'Glia',\n",
    "'NLOT Glut':'Neuron',\n",
    "'PAG Glut':'Neuron',\n",
    "'MEA Gaba':'Neuron',\n",
    "'Oligodendrocyte':'Glia',\n",
    "'Pineal Glut':'Neuron',\n",
    "'LHA Glut':'Neuron',\n",
    "'Astro NT':'Glia',\n",
    "'BST Glut':'Neuron',\n",
    "'VLMC':'Epithelial',\n",
    "'LSX Gaba':'Neuron',\n",
    "'STR D1D2 Gaba':'Neuron',\n",
    "'BST Gaba':'Neuron',\n",
    "'STR Gaba':'Neuron',\n",
    "      }\n",
    "\n",
    "all_logfold['Cellclass'] = all_logfold['Celltype'].map(class_dict)"
   ]
  },
  {
   "cell_type": "code",
   "execution_count": null,
   "id": "421a2c07",
   "metadata": {},
   "outputs": [],
   "source": [
    "adata.obs[adata.obs['sample']=='circa2-ZT21'].groupby('cell_type_final')['cell_id'].count()"
   ]
  }
 ],
 "metadata": {
  "kernelspec": {
   "display_name": "jupnot",
   "language": "python",
   "name": "python3"
  },
  "language_info": {
   "codemirror_mode": {
    "name": "ipython",
    "version": 3
   },
   "file_extension": ".py",
   "mimetype": "text/x-python",
   "name": "python",
   "nbconvert_exporter": "python",
   "pygments_lexer": "ipython3",
   "version": "3.10.12"
  }
 },
 "nbformat": 4,
 "nbformat_minor": 5
}
