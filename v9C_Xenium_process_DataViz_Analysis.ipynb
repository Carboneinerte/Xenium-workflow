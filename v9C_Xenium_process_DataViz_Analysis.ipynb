{
 "cells": [
  {
   "cell_type": "markdown",
   "id": "24baff37-3f56-48f6-bf72-e6e2bbeb9d99",
   "metadata": {},
   "source": [
    "# Current version : 6.10.a (2024-11-13)"
   ]
  },
  {
   "cell_type": "markdown",
   "id": "79286a2e-6fc1-4948-a7c0-2e0c26d36216",
   "metadata": {},
   "source": [
    "# Libraries and directory (always run)"
   ]
  },
  {
   "cell_type": "code",
   "execution_count": null,
   "id": "8e770a84-80dc-4707-bfb5-41a990702672",
   "metadata": {},
   "outputs": [],
   "source": [
    "### import necessary libraries\n",
    "from datetime import datetime\n",
    "# import geopandas as gpd\n",
    "# from IPython.display import display\n",
    "import matplotlib as mpl\n",
    "import matplotlib.pyplot as plt\n",
    "from mpl_toolkits.axes_grid1 import make_axes_locatable\n",
    "import math\n",
    "import numpy as np\n",
    "import os\n",
    "import pandas as pd\n",
    "import seaborn as sns\n",
    "import scanpy as sc\n",
    "import random\n",
    "from sklearn.cluster import KMeans\n",
    "# from sklearn.metrics import adjusted_rand_score\n",
    "# from sklearn.neighbors import NearestNeighbors\n",
    "# from sklearn.neighbors import KNeighborsClassifier\n",
    "import warnings\n",
    "\n",
    "warnings.filterwarnings(\"ignore\") \n",
    "sc.logging.print_header()\n",
    "sc.set_figure_params(facecolor=\"white\", figsize=(8, 8))\n",
    "sc.settings.verbosity = 1 # errors (0), warnings (1), info (2), hints (3)\n",
    "plt.rcParams[\"font.family\"] = \"Arial\"\n",
    "sns.set_style(\"white\")\n",
    "\n",
    "start_time = datetime.now()\n",
    "\n",
    "def print_with_elapsed_time(message):\n",
    "    elapsed_time = datetime.now() - start_time\n",
    "    elapsed_seconds = elapsed_time.total_seconds()\n",
    "    print(f\"[{elapsed_seconds:.2f} seconds] {message}\")"
   ]
  },
  {
   "cell_type": "code",
   "execution_count": null,
   "id": "9d96ac02-b486-4bad-a849-e3eccd2d1517",
   "metadata": {},
   "outputs": [],
   "source": [
    "# print(f\"geopandas version: {gpd.__version__}\")\n",
    "print(f\"pandas version: {pd.__version__}\")\n",
    "print(f\"scanpy version: {sc.__version__}\")\n",
    "# print(f\"plt version: {plt.__version__}\")"
   ]
  },
  {
   "cell_type": "code",
   "execution_count": null,
   "id": "333b9efd-0b38-49f4-b65d-169891eb9c34",
   "metadata": {},
   "outputs": [],
   "source": [
    "### Directory where the data is stored\n",
    "\n",
    "# dir = \"/mnt/d/Xenium\" #Ubuntu\n",
    "# dir = \"/media/volume/data/spatial/hugo/data\" #Ubuntu\n",
    "# dir = \"/media/volume/data/spatial/hugo/data/k5\" #Ubuntu\n",
    "# dir = \"D:\\\\Xenium\"\n",
    "\n",
    "# dir_notebook = '/mnt/d/Jupyter_notebook/Xenium_jupyter_notebook'\n",
    "dir_notebook = '/media/volume/volume_spatial/hugo/notebook'\n",
    "# dir_notebook = 'D:\\\\Jupyter_notebook/Xenium_jupyter_notebook'\n"
   ]
  },
  {
   "cell_type": "code",
   "execution_count": null,
   "id": "09a51ac7-3c97-4bdb-b6bb-3e579b0556b5",
   "metadata": {},
   "outputs": [],
   "source": [
    "# # # ### HC ###\n",
    "\n",
    "# # # # # circa1\n",
    "# samples = ['circa1_ZT1','circa1_ZT5','circa1_ZT9','circa1_ZT13','circa1_ZT17','circa1_ZT21']\n",
    "# samples_ids = ['circa1-ZT1','circa1-ZT5','circa1-ZT9','circa1-ZT13','circa1-ZT17','circa1-ZT21',]\n",
    "# name_dir = 'circa1'\n",
    "\n",
    "# # ### circa2_\n",
    "# samples = ['circa2_ZT1','circa2_ZT5','circa2_ZT9','circa2_ZT13','circa2_ZT17','circa2_ZT21']\n",
    "# samples_ids = ['circa2-ZT01','circa2-ZT05','circa2-ZT09','circa2-ZT13','circa2-ZT17','circa2-ZT21',]\n",
    "# name_dir = 'circa2'\n",
    "\n",
    "# # # # # ### ALL SAMPLES Run1-3\n",
    "# samples = [\"2505-1__20240404__003359\", \"2505-2__20240404__003359\", \"2670-1__20240404__003359\", \"3159-1__20240321__212855\",\n",
    "#            \"3160-1__20240321__212855\", \"3160-2__20240321__212855\",\"3159-2__20240530__205547\", \"3161-1__20240530__205547\",\n",
    "#           \"3159-3__20240530__205547\", \"3161-2__20240530__205547\",\"3159-4__20240530__205547\",\"3161-3__20240530__205547\"]\n",
    "\n",
    "# samples_ids = [\"2505-1\", \"2505-2\", \"2670-1\", \"3159-1\",\n",
    "#                \"3160-1\", \"3160-2\",\"3159-2\", \"3161-1\",\n",
    "#               \"3159-3\",\"3161-2\",\"3159-4\", \"3161-3\"\n",
    "#               ]\n",
    "# name_dir = 'all-samples'\n",
    "\n",
    "# # ### circa4-Salk\n",
    "# # samples = ['circa4-Salk-ZT01',\n",
    "# #            'circa4-Salk-ZT05','circa4-Salk-ZT09','circa4-Salk-ZT13','circa4-Salk-ZT17',\n",
    "# #            'circa4-Salk-ZT21',]\n",
    "# # samples_ids = ['circa4-Salk-ZT01',\n",
    "# #                'circa4-Salk-ZT05','circa4-Salk-ZT09','circa4-Salk-ZT13','circa4-Salk-ZT17',\n",
    "# #                'circa4-Salk-ZT21',]\n",
    "# # name_dir = 'circa4-Salk'\n",
    "\n",
    "\n",
    "# ## circa4-IGM\n",
    "# samples_ids = ['circa4-IGM-ZT01','circa4-IGM-ZT05','circa4-IGM-ZT09'\n",
    "#                    ,'circa4-IGM-ZT13','circa4-IGM-ZT17','circa4-IGM-ZT21',\n",
    "#                    ]\n",
    "# samples = ['circa4-IGM-ZT01','circa4-IGM-ZT05','circa4-IGM-ZT09'\n",
    "#                    ,'circa4-IGM-ZT13','circa4-IGM-ZT17','circa4-IGM-ZT21',\n",
    "#                    ]\n",
    "# name_dir = 'circa4-IGM'\n",
    "\n",
    "\n",
    "### All 5k\n",
    "# samples_ids = ['circa2-ZT01','circa2-ZT05','circa2-ZT09','circa2-ZT13','circa2-ZT17','circa2-ZT21',\n",
    "#             'circa4-IGM-ZT01','circa4-IGM-ZT05','circa4-IGM-ZT09',\n",
    "#             'circa4-IGM-ZT13','circa4-IGM-ZT17','circa4-IGM-ZT21',\n",
    "#             'circa4-Salk-ZT01','circa4-Salk-ZT05','circa4-Salk-ZT09',\n",
    "#             'circa4-Salk-ZT13','circa4-Salk-ZT17','circa4-Salk-ZT21',\n",
    "#                 ]\n",
    "# samples = ['circa2-ZT01','circa2-ZT05','circa2-ZT09','circa2-ZT13','circa2-ZT17','circa2-ZT21',\n",
    "#             'circa4-IGM-ZT01','circa4-IGM-ZT05','circa4-IGM-ZT09',\n",
    "#             'circa4-IGM-ZT13','circa4-IGM-ZT17','circa4-IGM-ZT21',\n",
    "#             'circa4-Salk-ZT01','circa4-Salk-ZT05','circa4-Salk-ZT09',\n",
    "#             'circa4-Salk-ZT13','circa4-Salk-ZT17','circa4-Salk-ZT21',\n",
    "#                ]\n",
    "# name_dir = 'circa'\n"
   ]
  },
  {
   "cell_type": "markdown",
   "id": "c1a4452f",
   "metadata": {},
   "source": [
    "# Data import"
   ]
  },
  {
   "cell_type": "code",
   "execution_count": null,
   "id": "960c5cf0-90d4-4aac-85bf-2340afd31ee3",
   "metadata": {},
   "outputs": [],
   "source": [
    "# adata = sc.read_h5ad(f\"{dir_notebook}/h5ad/{name_dir}/{name_dir}_MMC_Banksy_annotated_combined.h5ad.gz\")\n",
    "# adata = sc.read_h5ad(f\"{dir_notebook}/h5ad/{name_dir}/{name_dir}_MMC_Banksy_annotated_automap.h5ad.gz\")\n",
    "\n",
    "# adata = sc.read_h5ad(f\"{dir_notebook}/h5ad/{name_dir}/{name_dir}_MMC_Banksy_annotated_combined.h5ad.gz\")\n",
    "\n",
    "adata = sc.read_h5ad(f\"{dir_notebook}/h5ad/{name_dir}/{name_dir}_final.h5ad.gz\")"
   ]
  },
  {
   "cell_type": "code",
   "execution_count": null,
   "id": "960c5cf0-90d4-4aac-85bf-2340afd31ee3",
   "metadata": {},
   "outputs": [],
   "source": [
    "# adata = sc.read_h5ad(f\"{dir_notebook}/h5ad/{name_dir}/{name_dir}_MMC_Banksy_annotated_combined.h5ad.gz\")\n",
    "adata = sc.read_h5ad(f\"{dir_notebook}/h5ad/{name_dir}/{name_dir}_MMC_Banksy_annotated_automap.h5ad.gz\")\n",
    "\n",
    "# adata = sc.read_h5ad(f\"{dir_notebook}/h5ad/{name_dir}/{name_dir}_MMC_Banksy_annotated_combined.h5ad.gz\")\n",
    "\n",
    "# adata = sc.read_h5ad(f\"{dir_notebook}/h5ad/{name_dir}/{name_dir}_final.h5ad.gz\")"
   ]
  },
  {
   "cell_type": "code",
   "execution_count": null,
   "id": "85dad1e8",
   "metadata": {},
   "outputs": [],
   "source": [
    "adata.write_h5ad(f\"{dir_notebook}/h5ad/{name_dir}/{name_dir}_final.h5ad.gz\")"
   ]
  },
  {
   "cell_type": "code",
   "execution_count": null,
   "id": "c0c22af1",
   "metadata": {},
   "outputs": [],
   "source": [
    "adata.obs.groupby('cell_type_final')['circascore'].mean().sort_values()"
   ]
  },
  {
   "cell_type": "code",
   "execution_count": null,
   "id": "d01a210e",
   "metadata": {},
   "outputs": [],
   "source": [
    "plt.boxplot(x=adata.obs['circascore'])"
   ]
  },
  {
   "cell_type": "code",
   "execution_count": null,
   "id": "a6cafbd0",
   "metadata": {},
   "outputs": [],
   "source": [
    "# adata2 = adata[adata.obs['cell_type_final'] == 'Microglia']\n",
    "cont_tab = pd.crosstab(adata.obs['region_automap_name'], adata.obs['circascore'], normalize=\"columns\")"
   ]
  },
  {
   "cell_type": "code",
   "execution_count": null,
   "id": "aa498374",
   "metadata": {},
   "outputs": [],
   "source": [
    "# plt.figure(figsize=(20,20))\n",
    "sns.heatmap(cont_tab, annot=True, cmap=\"YlGnBu\", fmt=\".1f\")"
   ]
  },
  {
   "cell_type": "code",
   "execution_count": null,
   "id": "937cff07",
   "metadata": {},
   "outputs": [],
   "source": [
    "adata.obs['region_automap_name'].value_counts()"
   ]
  },
  {
   "cell_type": "markdown",
   "id": "17c7d514-7290-4be2-ad7b-399a9fde76eb",
   "metadata": {},
   "source": [
    "# Visualization"
   ]
  },
  {
   "cell_type": "markdown",
   "id": "242af4fb-4b24-4b33-9d5f-620b6c62624a",
   "metadata": {},
   "source": [
    "## UMAP"
   ]
  },
  {
   "cell_type": "code",
   "execution_count": null,
   "id": "94a27764",
   "metadata": {},
   "outputs": [],
   "source": [
    "adata.obs[adata.obs['cell_type_final']=='L6 CT CTX Glut']['mmc:class_name'].unique()"
   ]
  },
  {
   "cell_type": "code",
   "execution_count": null,
   "id": "3621a2e4",
   "metadata": {},
   "outputs": [],
   "source": [
    "if 'reduced_pc_20_umap' not in adata.obsm.keys():\n",
    "    adata.obsm['reduced_pc_20_umap'] = adata.obsm['X_umap']"
   ]
  },
  {
   "cell_type": "code",
   "execution_count": null,
   "id": "e65f6626",
   "metadata": {},
   "outputs": [],
   "source": [
    "from module.dataviz_analysis import umap_plot_indi_multi\n",
    "\n",
    "umap_plot_indi_multi(adata,\n",
    "                     cluster_to_use = \"cell_type_newnum_final\",\n",
    "                     individual_plot = False,\n",
    "                     save_plot = True,\n",
    "                     cmap_ = 'tab20',\n",
    "                     )"
   ]
  },
  {
   "cell_type": "code",
   "execution_count": null,
   "id": "95b3622f-48e7-4c6e-9941-9c6953325c92",
   "metadata": {},
   "outputs": [],
   "source": [
    "### UMAP plot with gene expression as color scale\n",
    " \n",
    "sc.pl.umap(adata, color=[\"Vip\"], vmin = 0)"
   ]
  },
  {
   "cell_type": "markdown",
   "id": "5cce57b2",
   "metadata": {},
   "source": [
    "#### 3D Umap ###TODO: confirm it works"
   ]
  },
  {
   "cell_type": "code",
   "execution_count": null,
   "id": "c9d71a63",
   "metadata": {},
   "outputs": [],
   "source": [
    "start_time = datetime.now()\n",
    "sc.tl.umap(adata, min_dist= 1, n_components=3)\n",
    "print_with_elapsed_time(f\"umap done\")\n",
    "sc.pl.umap(adata, projection='3d')"
   ]
  },
  {
   "cell_type": "code",
   "execution_count": null,
   "id": "a92aa21a",
   "metadata": {},
   "outputs": [],
   "source": [
    "import matplotlib.pyplot as plt\n",
    "import numpy as np\n",
    "\n",
    "adata.obs['umap-1'] = adata.obsm['X_umap'][:, 0]\n",
    "adata.obs['umap-2'] = adata.obsm['X_umap'][:, 1]\n",
    "adata.obs['umap-3'] = adata.obsm['X_umap'][:, 2]\n",
    "\n",
    "fig = plt.figure(figsize=(20,20))\n",
    "ax = fig.add_subplot(projection='3d')\n",
    "\n",
    "\n",
    "ax.scatter(adata.obs['umap-1'], adata.obs['umap-2'], adata.obs['umap-3'], c = adata.obs['leiden_colors'], s=0.5, label=adata.obs['cell_type_final'])\n",
    "\n",
    "ax.legend()\n",
    "ax.set_xlabel('X Label')\n",
    "ax.set_ylabel('Y Label')\n",
    "ax.set_zlabel('Z Label')\n"
   ]
  },
  {
   "cell_type": "code",
   "execution_count": null,
   "id": "21ec527e",
   "metadata": {},
   "outputs": [],
   "source": [
    "cluster_centroids = adata.obs.groupby(cluster_to_use)[['umap-1', 'umap-2','umap3']].median()"
   ]
  },
  {
   "cell_type": "code",
   "execution_count": null,
   "id": "1d1bfee0",
   "metadata": {},
   "outputs": [],
   "source": [
    "import matplotlib.pyplot as plt\n",
    "import numpy as np\n",
    "\n",
    "adata.obs['umap-1'] = adata.obsm['X_umap'][:, 0]\n",
    "adata.obs['umap-2'] = adata.obsm['X_umap'][:, 1]\n",
    "adata.obs['umap-3'] = adata.obsm['X_umap'][:, 2]\n",
    "\n",
    "cluster_centroids = adata.obs.groupby('cell_type_newnum_final')[['umap-1', 'umap-2','umap-3']].median()\n",
    "\n",
    "cell_type_unique = adata.obs['cell_type_final'].unique()\n",
    "\n",
    "fig, ax = plt.subplots(figsize=(15, 10))\n",
    "ax = fig.add_subplot(projection='3d')\n",
    "\n",
    "for idx, celltype in enumerate(cell_type_unique):\n",
    "    adata_sel = adata[(adata.obs[cluster_to_use] == celltype)]\n",
    "    ratio_ = int(len(adata_sel.obs['cell_id']) / 100)\n",
    "    adata_sel = adata_sel[0:ratio_]\n",
    "    celltype_combine = str(idx) +'_' + str(celltype)\n",
    "    ax.scatter(adata_sel.obs['umap-1'], adata_sel.obs['umap-2'], adata_sel.obs['umap-3'], s=3, c=adata_sel.obs['leiden_colors'], label = celltype_combine)\n",
    "for cluster_id, centroid in cluster_centroids.iterrows():\n",
    "    ax.text(centroid['umap-1'], centroid['umap-2'], centroid['umap-3'], str(cluster_id), color='red', fontsize=20, ha = 'center')\n",
    "\n",
    "plt.legend(markerscale=5, scatterpoints=10, bbox_to_anchor=(1.02, 1), loc='upper left', borderaxespad=0)\n",
    "\n",
    "# if save_plot == True:\n",
    "#     plt.savefig(f\"plot/{name_dir}/{name_dir}_UMAP_all.png\")\n",
    "\n",
    "\n",
    "\n",
    "# fig = plt.figure(figsize=(20,20))\n",
    "# ax = fig.add_subplot(projection='3d')\n",
    "\n",
    "# ax.scatter(adata.obs['umap-1'], adata.obs['umap-2'], adata.obs['umap-3'], c = adata.obs['leiden_colors'], s=0.5, label=adata.obs['cell_type_final'])\n",
    "# ax.legend()\n",
    "# ax.set_xlabel('X Label')\n",
    "# ax.set_ylabel('Y Label')\n",
    "# ax.set_zlabel('Z Label')"
   ]
  },
  {
   "cell_type": "markdown",
   "id": "382f34d7-fd5d-4aa4-ac27-12eae64351d4",
   "metadata": {},
   "source": [
    "## Cluster plot"
   ]
  },
  {
   "cell_type": "code",
   "execution_count": null,
   "id": "ce310ea7",
   "metadata": {},
   "outputs": [],
   "source": [
    "adata.obs.columns"
   ]
  },
  {
   "cell_type": "code",
   "execution_count": null,
   "id": "a097d91d",
   "metadata": {},
   "outputs": [],
   "source": [
    "from module.dataviz_analysis import cluster_plot\n",
    "\n",
    "cluster_plot(adata,\n",
    "             cluster_to_use = 'cell_type_newnum_final',\n",
    "             cluster_to_map = 'all',\n",
    "             cmap_ = 'tab20',\n",
    "             save_plot = False,\n",
    "            )"
   ]
  },
  {
   "cell_type": "markdown",
   "id": "6f1920f0",
   "metadata": {},
   "source": [
    "## Polygon plots"
   ]
  },
  {
   "cell_type": "markdown",
   "id": "6981a441",
   "metadata": {},
   "source": [
    "### Data prep"
   ]
  },
  {
   "cell_type": "code",
   "execution_count": null,
   "id": "7e373cd6",
   "metadata": {},
   "outputs": [],
   "source": [
    "def polygonplot_dataprep(adata_main, sample_to_plot, cluster_to_use = 'cell_type_newnum_final', cmap_ = 'tab20b'):\n",
    "\n",
    "    ### Generate a color palette for the clusters - to make color stay consistent across samples\n",
    "    num_clusters = len(adata_main.obs[cluster_to_use].astype(int).unique())\n",
    "    palette = sns.color_palette(cmap_, n_colors=num_clusters)\n",
    "    adata_main.obs['leiden_colors'] = adata_main.obs[cluster_to_use].astype(int).apply(lambda x: palette[x])\n",
    "\n",
    "    all_samples = np.array(adata_main.obs['sample'].unique())\n",
    "    sample_position = np.where(all_samples == sample_to_plot)\n",
    "    sample_position = sample_position[0][0]\n",
    "\n",
    "    adata_plot = adata_main[adata_main.obs['sample']==all_samples[sample_position]]\n",
    "    \n",
    "    cells_geo = gpd.read_file(f'{dir_notebook}/coordinates/polygons/{all_samples[sample_position]}_cells.geojson')\n",
    "    cells_geo['centroid'] = cells_geo['geometry'].centroid\n",
    "    cells_geo['x_coor'] = cells_geo['centroid'].x\n",
    "    cells_geo['y_coor'] = cells_geo['centroid'].y\n",
    "\n",
    "    if 'objectType' in cells_geo.columns:\n",
    "        cells_geo = cells_geo[cells_geo['objectType']=='cell']\n",
    "\n",
    "\n",
    "    # cluster_dict_region = dict(zip(adata_main.obs['cell_id'], adata_main.obs['region_manual_name']))\n",
    "    cluster_dict_region_a = dict(zip(adata_main.obs['cell_id'], adata_main.obs['region_automap_name']))\n",
    "    cluster_dict_leiden = dict(zip(adata_main.obs['cell_id'], adata_main.obs['leiden_colors']))\n",
    "    # cluster_dict = dict(zip(adata_main.obs['cell_id'], adata_main.obs['cell_type_newnum_final']))\n",
    "    cluster_dict_type = dict(zip(adata_main.obs['cell_id'], adata_main.obs['cell_type_final']))\n",
    "\n",
    "    if 'circascore' in adata_main.obs.columns:\n",
    "        cluster_dict_circascore = dict(zip(adata_main.obs['cell_id'], adata_main.obs['circascore']))\n",
    "        cells_geo['circascore'] = cells_geo['cell'].map(cluster_dict_circascore)\n",
    "\n",
    "    cells_geo['leiden_colors'] = cells_geo['cell'].map(cluster_dict_leiden)\n",
    "    cells_geo['cell type'] = cells_geo['cell'].map(cluster_dict_type)\n",
    "    # cells_geo['region_manual_name'] = cells_geo['cell'].map(cluster_dict_region)\n",
    "    cells_geo['region_automap_name'] = cells_geo['cell'].map(cluster_dict_region_a)\n",
    "    cells_geo = cells_geo.dropna(subset=['region_automap_name'])\n",
    "\n",
    "    df = pd.DataFrame(data=adata_plot.X.toarray(), index=adata_plot.obs_names, columns=adata_plot.var_names)\n",
    "    df['cell_id'] = df.index\n",
    "    mapping_dict_region = dict(zip(adata_plot.obs['cell_id'], adata_plot.obs['region_automap_name']))\n",
    "    mapping_dict_celltype = dict(zip(adata_plot.obs['cell_id'], adata_plot.obs['cell_type_final']))\n",
    "    mapping_dict_manos = dict(zip(adata_plot.obs['cell_id'], adata_plot.obs['sample']))\n",
    "\n",
    "    # # # Use .map() function to rename cell contents in 'col1' based on mapping dictionary\n",
    "    df['region_automap'] = df['cell_id'].map(mapping_dict_region)\n",
    "    df['cell_type_final'] = df['cell_id'].map(mapping_dict_celltype)\n",
    "    df['sample'] = df['cell_id'].map(mapping_dict_manos)\n",
    "    df.dropna(subset=['cell_type_final'], inplace=True)\n",
    "\n",
    "    return df, cells_geo, cluster_to_use"
   ]
  },
  {
   "cell_type": "code",
   "execution_count": null,
   "id": "e3842703",
   "metadata": {},
   "outputs": [],
   "source": [
    "#####################################################################################################################\n",
    "### This section requires that the cells polygons were extracted and saved as GEOjson (see Polygon_plot2.ipynb)######\n",
    "#####################################################################################################################\n",
    "\n",
    "import geopandas as gpd\n",
    "# from module.dataviz_analysis import polygonplot_dataprep\n",
    "\n",
    "df, cells_geo, cluster_to_use = polygonplot_dataprep(adata,\n",
    "                                    sample_to_plot='circa2-ZT01',\n",
    "                                    cluster_to_use = 'cell_type_newnum_final',\n",
    "                                    cmap_ = 'tab20',\n",
    "                                    )"
   ]
  },
  {
   "cell_type": "code",
   "execution_count": null,
   "id": "018519ad",
   "metadata": {},
   "outputs": [],
   "source": [
    "df.head(2)"
   ]
  },
  {
   "cell_type": "code",
   "execution_count": null,
   "id": "18b52d76",
   "metadata": {},
   "outputs": [],
   "source": [
    "cells_geo.head(2)"
   ]
  },
  {
   "cell_type": "markdown",
   "id": "a36546e0",
   "metadata": {},
   "source": [
    "### Celltype + genes as symbols"
   ]
  },
  {
   "cell_type": "code",
   "execution_count": null,
   "id": "da38e500",
   "metadata": {},
   "outputs": [],
   "source": [
    "from module.dataviz_analysis import polygonplot_plot\n",
    "import pytz\n",
    "\n",
    "polygonplot_plot(df, cells_geo,\n",
    "                cluster_to_use = 'cell type',\n",
    "                gene_ = 'Gad1', # example = 'Gfap'\n",
    "                # region_only = \"HIPP\", # example : 'SCH' ### Priority 1\n",
    "                # region_ = 'STR', # example : 'SCH' ### Priority 2\n",
    "                # coord_ = None, # example : [1000,2000,2000,3000] ### Priority 3\n",
    "                coord_ = [5500,6000,4600,5200],\n",
    "                save_plot = False)\n"
   ]
  },
  {
   "cell_type": "code",
   "execution_count": null,
   "id": "61751aed",
   "metadata": {},
   "outputs": [],
   "source": [
    "cells_geo['region_automap_name'].unique()"
   ]
  },
  {
   "cell_type": "code",
   "execution_count": null,
   "id": "6aa7529f",
   "metadata": {},
   "outputs": [],
   "source": [
    "import matplotlib.colors\n",
    "\n",
    "region_ = 'STR'\n",
    "xmin = cells_geo[cells_geo['region_automap_name']== region_]['x_coor'].min()\n",
    "xmax = cells_geo[cells_geo['region_automap_name']== region_]['x_coor'].max()\n",
    "ymin = cells_geo[cells_geo['region_automap_name']== region_]['y_coor'].min()\n",
    "ymax = cells_geo[cells_geo['region_automap_name']== region_]['y_coor'].max()\n",
    "\n",
    "cells_geo_crop = cells_geo[(cells_geo['x_coor'] >= xmin) & (cells_geo['x_coor'] <= xmax)  \n",
    "                            & (cells_geo['y_coor'] >= ymin) & (cells_geo['y_coor'] <= ymax)]\n",
    "\n",
    "\n",
    "fig, ax = plt.subplots(\n",
    "    figsize=(20,20)\n",
    ")   \n",
    "\n",
    "\n",
    "cmap = plt.cm.rainbow\n",
    "norm = matplotlib.colors.Normalize(vmin=0, vmax=11)\n",
    "\n",
    "cells_geo_crop.plot( ax=ax,\n",
    "                color = cmap(norm(cells_geo_crop.circascore.values)),\n",
    "                alpha=1,\n",
    "                aspect=1,\n",
    "                zorder=1,\n",
    "                # edgecolor = cells_geo_crop['circascore'],\n",
    "                )\n",
    "\n",
    "sm = plt.cm.ScalarMappable(cmap=cmap, norm=norm)\n",
    "fig.colorbar(sm)"
   ]
  },
  {
   "cell_type": "markdown",
   "id": "36cc87da",
   "metadata": {},
   "source": [
    "### Gene expression as color gradient"
   ]
  },
  {
   "cell_type": "code",
   "execution_count": null,
   "id": "511304eb",
   "metadata": {},
   "outputs": [],
   "source": [
    "from module.dataviz_analysis import polygonplot_plot_gradient\n",
    "\n",
    "polygonplot_plot_gradient(df, cells_geo,\n",
    "                          gene_ = 'Per1', ## Required\n",
    "                          region_ = 'HIPP',\n",
    "                          region_only = None,\n",
    "                          coord_ = [2000,4000,2000,4000],\n",
    "                          cmap_ = 'brg',\n",
    "                          save_plot = False)\n"
   ]
  },
  {
   "cell_type": "markdown",
   "id": "e2ecdb4d",
   "metadata": {},
   "source": [
    "## Other plots"
   ]
  },
  {
   "cell_type": "code",
   "execution_count": null,
   "id": "77f9367b",
   "metadata": {},
   "outputs": [],
   "source": [
    "### Plot gene expression\n",
    "\n",
    "import seaborn as sns\n",
    "import matplotlib.pyplot as plt\n",
    "sns.set_theme(style=\"white\")\n",
    "\n",
    "gene_ = 'Chat'\n",
    "adata_temp = adata\n",
    "df_dict = dict(zip(df.index, df[gene_]))\n",
    "adata_temp.obs[gene_] = adata_temp.obs['cell_id'].map(df_dict)\n",
    "\n",
    "### to crop\n",
    "adata_temp = adata_temp[(adata_temp.obs['x_centroid'] > 4000) & (adata_temp.obs['x_centroid'] < 6000)\n",
    "                            & (adata_temp.obs['y_centroid'] > 4000) & (adata_temp.obs['y_centroid'] < 5000)]\n",
    "\n",
    "# f, ax = plt.subplots(figsize=(15, 10))\n",
    "\n",
    "fig, axs = plt.subplots(3,2#,figsize=(15, 15)\n",
    "                        )\n",
    "axs = axs.flatten()# Mapping of clusters\n",
    "\n",
    "for idx, sample in enumerate(samples_ids):\n",
    "    adata_graph = adata_temp[adata_temp.obs['sample'] == sample]\n",
    "    \n",
    "    sns.scatterplot(x='x_centroid', y='y_centroid',\n",
    "                s=2, legend= False,\n",
    "                palette='viridis',\n",
    "                hue=gene_,\n",
    "                data=adata_graph.obs, ax=axs[idx]).set(title=f\"{sample} - {gene_}\", xlabel = None, ylabel = None, xticklabels = [],yticklabels = [])\n",
    "\n",
    "# Create the colorbar\n",
    "norm = mpl.colors.Normalize(vmin=adata_temp.obs[gene_].min(),vmax=adata_temp.obs[gene_].max())\n",
    "sm = mpl.cm.ScalarMappable(cmap='viridis', norm=norm)\n",
    "sm.set_array([])\n",
    "cbar = fig.colorbar(sm, ax=axs[-1], aspect=40, shrink=0.8)  # Adjust aspect/shrink\n",
    "\n",
    "del adata_temp, adata_graph\n"
   ]
  },
  {
   "cell_type": "markdown",
   "id": "a2fcc2de",
   "metadata": {},
   "source": [
    "### Gene expression accross samples"
   ]
  },
  {
   "cell_type": "code",
   "execution_count": null,
   "id": "b953ac1b",
   "metadata": {},
   "outputs": [],
   "source": [
    "### Gene expression accross samples\n",
    "if 'df' not in global():\n",
    "    df = pd.DataFrame(data=adata.X.toarray(), index=adata.obs_names, columns=adata.var_names)\n",
    "    df['cell_id'] = df.index\n",
    "\n",
    "dict_ = dict(zip(adata.obs['cell_id'],adata.obs['sample']))\n",
    "df['sample'] = df['cell_id'].map(dict_)\n",
    "\n",
    "gene = 'Vip'\n",
    "x = df.groupby('sample')[gene].mean()\n",
    "\n",
    "plt.scatter(x = x.index, y=x)\n",
    "plt.tick_params(rotation=90)\n",
    "plt.ylim(0,)\n",
    "plt.title(f'Ndn expression of {gene}')\n",
    "plt.ylabel('Normalized expression')"
   ]
  },
  {
   "cell_type": "code",
   "execution_count": null,
   "id": "1a8f5ac7-9367-46bd-ac8c-474cbd0cd836",
   "metadata": {},
   "outputs": [],
   "source": [
    "# to_use = 'total_transcript' ### Run1\n",
    "to_use = 'transcript_counts' ### Run3\n",
    "samples = adata.obs['sample'].unique()\n",
    "\n",
    "### Map log transcript counts \n",
    "adata_sel = adata[(adata.obs['sample'] == samples[0])]\n",
    "adata_sel.obs[to_use] = adata_sel.obs[to_use].astype(float)\n",
    "adata_sel.obs['log_transcript_counts'] = adata_sel.obs[to_use].apply(lambda x: math.log10(x))\n",
    "\n",
    "fig, ax = plt.subplots(figsize=(10,6))\n",
    "transcript_counts_unique = adata_sel.obs['log_transcript_counts'].unique()\n",
    "cmap = plt.cm.jet\n",
    "for cluster_id in transcript_counts_unique:\n",
    "    cluster_data = adata_sel.obs[adata_sel.obs['log_transcript_counts'] == cluster_id]\n",
    "    colors = cmap((cluster_id - transcript_counts_unique.min()) / (transcript_counts_unique.max() - transcript_counts_unique.min()))\n",
    "    plt.scatter(cluster_data['x_centroid'], cluster_data['y_centroid'], color=colors, s=1, label=cluster_id)\n",
    "plt.xlabel('x_centroid')\n",
    "plt.ylabel('y_centroid')\n",
    "plt.title('Map of transcript counts (log)')\n",
    "\n",
    "# Add colorbar\n",
    "sm = plt.cm.ScalarMappable(cmap=cmap)\n",
    "sm.set_array(transcript_counts_unique)\n",
    "divider = make_axes_locatable(ax)\n",
    "cbar_ax = divider.append_axes('right', size='1.5%', pad=0.05)\n",
    "plt.colorbar(sm, cax=cbar_ax, label='Transcript Counts')\n",
    "plt.ylabel('Transcript counts (log)')\n",
    "\n",
    "# plt.savefig(f\"/mnt/d/Jupyter_notebook/Xenium_jupyter_notebook/plot/{name_dir}/{name_dir}_logtranscounts.png\")"
   ]
  },
  {
   "cell_type": "code",
   "execution_count": null,
   "id": "66589592-6d82-4fbe-a5a0-4959f3e69f32",
   "metadata": {},
   "outputs": [],
   "source": [
    "# to_use = 'n_genes' ### Run1\n",
    "to_use = 'n_genes_by_counts' ### Run3\n",
    "samples = adata.obs['sample'].unique()\n",
    "\n",
    "### Map log n_genes_by_counts \n",
    "adata_sel = adata[(adata.obs['sample'] == samples[0])]\n",
    "adata_sel.obs[to_use] = adata_sel.obs[to_use].astype(float)\n",
    "adata_sel.obs['log_n_genes_by_counts'] = adata_sel.obs[to_use].apply(lambda x: math.log10(x))\n",
    "\n",
    "fig, ax = plt.subplots(figsize=(10,6))\n",
    "transcript_counts_unique = adata_sel.obs['n_genes_by_counts'].unique()\n",
    "cmap = plt.cm.jet\n",
    "for cluster_id in transcript_counts_unique:\n",
    "    cluster_data = adata_sel.obs[adata_sel.obs['n_genes_by_counts'] == cluster_id]\n",
    "    colors = cmap((cluster_id - transcript_counts_unique.min()) / (transcript_counts_unique.max() - transcript_counts_unique.min()))\n",
    "    plt.scatter(cluster_data['x_centroid'], cluster_data['y_centroid'], color=colors, s=1, label=cluster_id)\n",
    "plt.xlabel('x_centroid')\n",
    "plt.ylabel('y_centroid')\n",
    "plt.title('Map of Nb of gene per cell')\n",
    "\n",
    "# Add colorbar\n",
    "sm = plt.cm.ScalarMappable(cmap=cmap)\n",
    "sm.set_array(transcript_counts_unique)\n",
    "divider = make_axes_locatable(ax)\n",
    "cbar_ax = divider.append_axes('right', size='1.5%', pad=0.05)\n",
    "plt.colorbar(sm, cax=cbar_ax)\n",
    "plt.ylabel('Nb of gene per cell')\n",
    "\n",
    "# plt.savefig(f\"/mnt/d/Jupyter_notebook/Xenium_jupyter_notebook/plot/{name_dir}/{name_dir}_nbgenes.png\")"
   ]
  },
  {
   "cell_type": "code",
   "execution_count": null,
   "id": "e0748863-e81b-4254-a758-388b71087d90",
   "metadata": {},
   "outputs": [],
   "source": [
    "### Map mmc:cluster_correlation_coefficient\n",
    "adata_sel = adata[(adata.obs['sample'] == samples[0])]\n",
    "\n",
    "fig, ax = plt.subplots(figsize=(10,6))\n",
    "transcript_counts_unique = adata_sel.obs['mmc:class_correlation_coefficient'].unique()\n",
    "cmap = plt.cm.jet\n",
    "for cluster_id in transcript_counts_unique:\n",
    "    cluster_data = adata_sel.obs[adata_sel.obs['mmc:class_correlation_coefficient'] == cluster_id]\n",
    "    colors = cmap((cluster_id - transcript_counts_unique.min()) / (transcript_counts_unique.max() - transcript_counts_unique.min()))\n",
    "    plt.scatter(cluster_data['x_centroid'], cluster_data['y_centroid'], color=colors, s=0.5, label=cluster_id)\n",
    "plt.xlabel('x_centroid')\n",
    "plt.ylabel('y_centroid')\n",
    "plt.title('Map of mmc:class_correlation_coefficient')\n",
    "\n",
    "# Add colorbar\n",
    "sm = plt.cm.ScalarMappable(cmap=cmap)\n",
    "sm.set_array(transcript_counts_unique)\n",
    "divider = make_axes_locatable(ax)\n",
    "cbar_ax = divider.append_axes('right', size='5%', pad=0.05)\n",
    "plt.colorbar(sm, cax=cbar_ax, label='correlation_coefficient')\n",
    "\n",
    "# plt.savefig(f\"/mnt/d/Jupyter_notebook/Xenium_jupyter_notebook/plot/{name_dir}/{name_dir}_mmccoef.png\")"
   ]
  },
  {
   "cell_type": "markdown",
   "id": "bea2a122",
   "metadata": {},
   "source": [
    "## Gene expression plots"
   ]
  },
  {
   "cell_type": "markdown",
   "id": "9a8eb2cf",
   "metadata": {},
   "source": [
    "### Define marker genes"
   ]
  },
  {
   "cell_type": "code",
   "execution_count": null,
   "id": "363d4ecf-770e-4404-a6e0-9f99b76592c5",
   "metadata": {},
   "outputs": [],
   "source": [
    "marker_genes = [\n",
    "# 10X annotations\n",
    "# \"Acsbg1\",\"Aqp4\",\"Cdh20\",\"Clmn\",\"Gfap\",\"Gli3\",\"Id2\",\"Mapk4\",\"Ntsr2\",\"Pde7b\",\"Rfx4\",\"Rorb\",\"Slc39a12\", #Astrocytes\n",
    "# \"Arhgap12\",\"Fibcd1\",\"Sipa1l3\",\"Wfs1\", #CA1-ProS\n",
    "# \"2010300C02Rik\",\"Arhgef28\",\"Bcl11b\",\"Bhlhe22\",\"Cabp7\",\"Cpne4\",\"Igfbp4\",\"Necab2\",\"Prdm8\",\"Strip2\",\"Syndig1\", #CA2\n",
    "# \"Cpne6\",\"Epha4\",\"Hat1\",\"Neurod6\",\"Npy2r\",\"Nrp2\",\"Shisa6\", #CA3\n",
    "# \"Cdh9\",\"Orai2\",\"Prox1\",\"Rasl10a\",\"Tanc1\", #DG\n",
    "# \"Acvrl1\",\"Adgrl4\",\"Car4\",\"Cd93\",\"Cldn5\",\"Cobll1\",\"Emcn\",\"Fgd5\",\"Fn1\",\"Kdr\",\"Ly6a\",\"Mecom\",\"Nostrin\",\"Paqr5\",\"Pecam1\",\"Pglyrp1\",\"Slfn5\",\"Sox17\",\"Zfp366\", #Endothelial\n",
    "# \"Arhgap25\",\"Cd300c2\",\"Cd53\",\"Cd68\",\"Ikzf1\",\"Laptm5\",\"Siglech\",\"Sla\",\"Spi1\",\"Trem2\",#Microglia\n",
    "# 'Gjc3','Gpr17','Opalin','Sema3d','Sema6a','Sox10','Zfp536', #Oligodendrocytes\n",
    "# 'Acta2','Ano1','Arhgap6','Carmn','Cspg4','Fos','Gucy1a1','Inpp4b','Nr2f2','Pip5k1b','Plekha2','Pln','Sncg','Sntb1', # Pericytes\n",
    "# 'Aldh1a2','Col1a1','Col6a1','Cyp1b1','Dcn','Fmod','Gjb2','Igf2','Pdgfra','Ror1',\"Slc13a4\",\"Spp1\", #VLMC\n",
    "# \"Chat\",\"Crh\",\"Igf1\",'Penk','Pthlh','Sorcs3','Thsd7a','Vip', #Vip interneurons\n",
    "\n",
    "# 'Arntl','Clock','Cry1','Cry2','Nr1d1',\"Per1\",'Per2','Per3','Rora','Rorb', ## Clock genes\n",
    "# 'Gfap','Trem2','Cd44','Spp1','Cd68','Igf1','Spi1','Cd300c2','Cd53','Laptm5','Ikzf1','Arhgap25','Opalin','Prox1','Cbln1','Sema3a','Paqr5','Spag16',\n",
    "# \"Vip\", \"Pkib\", \"Tmem255a\", \"Arhgap6\", \"Chodl\", #SCN rank genes analysis\n",
    "'Strip2',\"Shisa6\",\"Chodl\", 'Fos','Sdk2', 'Cdh6','Cobll1','Tanc1'\n",
    "# 'Dner','Gad1','Rasgrf2','Vat1l','Pde7b','Igfbp5','Rorb','Rims3','Tmem255a','Cdh13','Gad2','Rab3b','Parm1','Tle4','Fhod3','Rmst','Vip','Nr2f2','Arhgap6',\n",
    "# 'Laptm5','Kctd12','Siglech','Trem2','Cd53','Cd68','Cd300c2','Ikzf1','Spi1','Acsbg1','Gfap','Dpy19l1','Unc13c','Arhgap25','Meis2','Dner','Arhgap12','Igfbp5','Ntsr2',\n",
    "# \"Gfap\",\"Rbp4\",\"Trem2\",\"Th\",\"Laptm5\",\"Syt17\",\"Opn3\",\"Spp1\",\"Cd44\",\"Cd53\",\"Igf1\",\"Gjb2\",\n",
    "# \"Vip\",\"Prss35\",\"Cd68\",\"Cplx3\",\"Siglech\",\"Ikzf1\",\"Cd300c2\",\"Dcn\",\"Spi1\",\"Pkib\",\"Fos\",\"Angpt1\",\n",
    "# \"Igfbp5\",\"Chrm2\",\"Rspo2\",\"Arhgap25\",\"Sst\",\n",
    "# 'Ntsr2'    \n",
    "]\n"
   ]
  },
  {
   "cell_type": "markdown",
   "id": "a3b6219c",
   "metadata": {},
   "source": [
    "### Stacked violin plots"
   ]
  },
  {
   "cell_type": "code",
   "execution_count": null,
   "id": "dea9e130",
   "metadata": {},
   "outputs": [],
   "source": [
    "ax = sc.pl.stacked_violin(adata, ### Can be more useful on subset of the data, otherwise \"zero values\" greatly change the graph\n",
    "                         marker_genes, ### marker_genes or individual genes (ex: \"Dner\")\n",
    "                         groupby='Genotype',\n",
    "                         dendrogram=False,\n",
    "                         log=False,\n",
    "                         )"
   ]
  },
  {
   "cell_type": "markdown",
   "id": "2d8dc402",
   "metadata": {},
   "source": [
    "### Violin plot for individual genes with individual data point (1 graph/gene)"
   ]
  },
  {
   "cell_type": "code",
   "execution_count": null,
   "id": "16ce18a6",
   "metadata": {},
   "outputs": [],
   "source": [
    "sc.pl.violin(adata, marker_genes, groupby='Genotype', order = ['WT','APP'],\n",
    "             jitter = 0.45,\n",
    "             # log = True,\n",
    "             # stripplot = False,\n",
    "            )"
   ]
  },
  {
   "cell_type": "markdown",
   "id": "36d2c3a8-23a4-4b60-8a9a-a05b14629c95",
   "metadata": {},
   "source": [
    "# Analysis"
   ]
  },
  {
   "cell_type": "markdown",
   "id": "be5d8308",
   "metadata": {},
   "source": [
    "## Highest expressed genes"
   ]
  },
  {
   "cell_type": "code",
   "execution_count": null,
   "id": "c5512ff1-205f-4bc0-8fb5-8147c96eeeef",
   "metadata": {},
   "outputs": [],
   "source": [
    "adata = sc.read_h5ad(f\"{dir_notebook}/h5ad/{name_dir}/{name_dir}_MMC_Banksy_annotated_automap.h5ad.gz\")\n",
    "# adata = sc.read_h5ad(f\"{dir_notebook}/h5ad/{name_dir}/{name_dir}_final.h5ad.gz\")\n",
    "\n",
    "# if 'leiden_colors' in adata.obs:\n",
    "#     adata.obs = adata.obs.drop(columns=['leiden_colors'])\n",
    "# adata.write_h5ad(f\"{dir_notebook}/h5ad/{name_dir}/{name_dir}_MMC_Banksy_annotated_automap.h5ad.gz\")"
   ]
  },
  {
   "cell_type": "code",
   "execution_count": null,
   "id": "f66f1f31-39bd-4fbf-9ef3-86ab0191783f",
   "metadata": {},
   "outputs": [],
   "source": [
    "sc.pl.highest_expr_genes(adata, n_top=30, show=None, save=None, ax=None, gene_symbols=None, log=False)"
   ]
  },
  {
   "cell_type": "code",
   "execution_count": null,
   "id": "b1b56ec7-07d2-48df-8420-9ea659133c75",
   "metadata": {},
   "outputs": [],
   "source": [
    "adata2_WT=adata[adata.obs['Genotype']== 'WT']\n",
    "adata2_APP=adata[adata.obs['Genotype']== 'APP']\n",
    "\n",
    "sc.pl.highest_expr_genes(adata2_WT, n_top=30, show=None, save=None, ax=None, gene_symbols=None, log=False)\n",
    "sc.pl.highest_expr_genes(adata2_APP, n_top=30, show=None, save=None, ax=None, gene_symbols=None, log=False)"
   ]
  },
  {
   "cell_type": "markdown",
   "id": "9bd00d67-4bf3-41e9-844f-20a9fcc23f3c",
   "metadata": {},
   "source": [
    "## Find marker genes for each cluster"
   ]
  },
  {
   "cell_type": "code",
   "execution_count": null,
   "id": "d244eea5",
   "metadata": {},
   "outputs": [],
   "source": [
    "adata2 = adata[adata.obs['run'] == 'circa2']"
   ]
  },
  {
   "cell_type": "code",
   "execution_count": null,
   "id": "93235ab7",
   "metadata": {},
   "outputs": [],
   "source": [
    "### Filter out all cell_type with less than 100 cells accross run\n",
    "filter_ = adata2.obs['cell_type_final'].value_counts()\n",
    "filter_ = filter_[filter_.values >= 100]\n",
    "filter_ = filter_.index\n",
    "adata2 = adata2[adata2.obs['cell_type_final'].isin(filter_)]"
   ]
  },
  {
   "cell_type": "code",
   "execution_count": null,
   "id": "76a4207e-d24c-4fdd-a389-8c6e3edde506",
   "metadata": {},
   "outputs": [],
   "source": [
    "# Obtain cluster-specific differentially expressed genes\n",
    "\n",
    "# cluster_to_use = 'cell_type_newnum'\n",
    "# cluster_to_use = 'cell type'\n",
    "# cluster_to_use = 'cell_type_auto'\n",
    "# cluster_to_use = 'cell_type_auto_sub'\n",
    "cluster_to_use = 'cell_type_final'\n",
    "# cluster_to_use = 'Genotype'\n",
    "\n",
    "# sc.pp.normalize_total(adata, inplace=True)\n",
    "# sc.pp.log1p(adata)\n",
    "adata2.obs[cluster_to_use] = adata2.obs[cluster_to_use].astype(str)\n",
    "sc.tl.rank_genes_groups(adata2, groupby=cluster_to_use, method=\"wilcoxon\", tie_correct = True)\n",
    "sc.tl.dendrogram(adata2, groupby = cluster_to_use, n_pcs=None,\n",
    "                 use_rep=None, var_names=None, use_raw=None,\n",
    "                 cor_method='pearson', linkage_method='complete',\n",
    "                 optimal_ordering=True, key_added=None)\n",
    "\n"
   ]
  },
  {
   "cell_type": "markdown",
   "id": "7febbf1e",
   "metadata": {},
   "source": [
    "### Hierarchical clustering"
   ]
  },
  {
   "cell_type": "code",
   "execution_count": null,
   "id": "68650407",
   "metadata": {},
   "outputs": [],
   "source": [
    "from matplotlib import rcParams\n",
    "FIGSIZE = (15, 3)\n",
    "rcParams[\"figure.figsize\"] = FIGSIZE\n",
    "sc.pl.dendrogram(adata2, groupby='cell_type_final')"
   ]
  },
  {
   "cell_type": "code",
   "execution_count": null,
   "id": "52c9b347",
   "metadata": {},
   "outputs": [],
   "source": [
    "sc.pl.rank_genes_groups_dotplot(adata, groupby=cluster_to_use, standard_scale=\"var\", n_genes=5, dendrogram = True)"
   ]
  },
  {
   "cell_type": "code",
   "execution_count": null,
   "id": "f87b749e-4705-48cd-8f20-5bfeb1608cc3",
   "metadata": {},
   "outputs": [],
   "source": [
    "sc.pl.rank_genes_groups_dotplot(adata2,\n",
    "                                n_genes=5,\n",
    "                                values_to_plot=\"logfoldchanges\", cmap='bwr',\n",
    "                                # vmin=-4,\n",
    "                                # vmax=4,\n",
    "                                )"
   ]
  },
  {
   "cell_type": "code",
   "execution_count": null,
   "id": "0937a4c1-e430-4063-9866-58b5aea07156",
   "metadata": {
    "scrolled": true
   },
   "outputs": [],
   "source": [
    "### Extract all cluster compared to all others in a single sheet\n",
    "\n",
    "dat = pd.DataFrame()\n",
    "for i in range(0, len(adata.obs[cluster_to_use].unique())):\n",
    "    print(f\"Cluster {i}\")\n",
    "    dat1 = sc.get.rank_genes_groups_df(adata, group=str(i))\n",
    "    dat1['group'] = i\n",
    "    dat = pd.concat([dat, dat1])\n",
    "\n",
    "dat.to_csv(f\"csv/{name_dir}/{name_dir}_{cluster_to_use}_markergenes.csv\")"
   ]
  },
  {
   "cell_type": "code",
   "execution_count": null,
   "id": "9ff26229",
   "metadata": {},
   "outputs": [],
   "source": [
    "### Compare two groups gene expression (whole section)\n",
    "section_ = 'C3'\n",
    "adata_temp = adata2[adata2.obs['section']==section_]\n",
    "sc.tl.rank_genes_groups(adata_temp, groupby=cluster_to_use, method=\"wilcoxon\", tie_correct = True, pts = True)\n",
    "dat1 = sc.get.rank_genes_groups_df(adata_temp, group='APP')\n",
    "dat1['group'] = 'APP'\n",
    "\n",
    "dat1 = dat1[ ### Choose filters here\n",
    "# (dat1['pct_nz_group'] > 0.15) & #Percentage of cell expressing the gene\n",
    "(dat1['pvals_adj']<= 0.05) & # adjusted p-value\n",
    "(abs(dat1['logfoldchanges']) > 0.26) # logfoldchange\n",
    "]\n",
    "\n",
    "dat1.to_csv(f\"csv/{name_dir}/foldchange/{name_dir}_{section_}_whole_section_filter.csv\")"
   ]
  },
  {
   "cell_type": "markdown",
   "id": "ee0ba0ce-5450-486d-9ef2-3c0b6d8725ff",
   "metadata": {},
   "source": [
    "## Subset (a)dataset for one cell type"
   ]
  },
  {
   "cell_type": "code",
   "execution_count": null,
   "id": "81a7c742",
   "metadata": {},
   "outputs": [],
   "source": [
    "adata2.obs['cell_type_final'].value_counts()"
   ]
  },
  {
   "cell_type": "code",
   "execution_count": null,
   "id": "57d4f9c8-49f3-4417-b041-f82800b70015",
   "metadata": {
    "scrolled": true
   },
   "outputs": [],
   "source": [
    "adata2 = adata\n",
    "celltype_to_subset = \"SCH Gaba\"\n",
    "adata_microglia = adata2[adata2.obs['cell_type_final'] == celltype_to_subset]"
   ]
  },
  {
   "cell_type": "code",
   "execution_count": null,
   "id": "249a6e9f-c810-4e6d-b331-e62b0ceaf167",
   "metadata": {},
   "outputs": [],
   "source": [
    "samples_ids_sub = adata_microglia.obs['sample'].unique()"
   ]
  },
  {
   "cell_type": "code",
   "execution_count": null,
   "id": "68008ef8-7904-48de-9235-15da00d057ed",
   "metadata": {},
   "outputs": [],
   "source": [
    "sc.pl.stacked_violin(adata_microglia, marker_genes, groupby='Genotype', dendrogram=False,)"
   ]
  },
  {
   "cell_type": "code",
   "execution_count": null,
   "id": "08ea7afe-9817-45bd-a72b-c0d25472b8ee",
   "metadata": {},
   "outputs": [],
   "source": [
    "sc.pl.violin(adata_microglia, marker_genes, groupby='Genotype', order = ['WT','APP'],\n",
    "             #log = True,\n",
    "             # stripplot = False,\n",
    "            )"
   ]
  },
  {
   "cell_type": "code",
   "execution_count": null,
   "id": "12f3ac0f",
   "metadata": {},
   "outputs": [],
   "source": [
    "sc.pp.normalize_total(adata_microglia, inplace=True)\n",
    "sc.pp.log1p(adata_microglia)"
   ]
  },
  {
   "cell_type": "code",
   "execution_count": null,
   "id": "a46b272e",
   "metadata": {},
   "outputs": [],
   "source": [
    "adata_microglia.obs['Genotype'].unique()"
   ]
  },
  {
   "cell_type": "code",
   "execution_count": null,
   "id": "be4c2d4a-bc30-48b4-8ee5-0ace60e9f220",
   "metadata": {},
   "outputs": [],
   "source": [
    "sc.tl.rank_genes_groups(adata_microglia, groupby='Genotype', method=\"wilcoxon\", tie_correct = True, corr_method=\"benjamini-hochberg\", pts = True)\n",
    "dat1 = sc.get.rank_genes_groups_df(adata_microglia, group = 'APP')\n",
    "\n",
    "# dat.to_csv(\"marker_genes_0-4_run1.csv\")"
   ]
  },
  {
   "cell_type": "code",
   "execution_count": null,
   "id": "40faa92a-ce4d-4cbd-ae9a-0417adcdd2e4",
   "metadata": {},
   "outputs": [],
   "source": [
    "dat1 =  dat1.sort_values(by='logfoldchanges', ascending=False)\n",
    "# dat1 = dat1[(dat1['pct_nz_group'] > 0.15)]\n",
    "dat1"
   ]
  },
  {
   "cell_type": "code",
   "execution_count": null,
   "id": "7c6054af",
   "metadata": {},
   "outputs": [],
   "source": [
    "dat1_filter = dat1[(~dat1['logfoldchanges'].between(-0.26,0.26))\n",
    "                   & (dat1['pvals_adj'] <= 0.05)\n",
    "                    & (dat1['pct_nz_group'] > 0.15)\n",
    "                      ]\n",
    "dat1_filter.reset_index(inplace=True)\n",
    "dat1_filter.to_csv('data/SCN_fold_change.csv', index=False)"
   ]
  },
  {
   "cell_type": "markdown",
   "id": "3b07b2f3",
   "metadata": {},
   "source": [
    "### Volcano plot"
   ]
  },
  {
   "cell_type": "code",
   "execution_count": null,
   "id": "b3f99130",
   "metadata": {},
   "outputs": [],
   "source": [
    "# dat1_filter = dat1[(~dat1['logfoldchanges'].between(-0.26,0.26)) & (dat1['pvals_adj'] <= 0.05) ]\n",
    "# dat1_filter = dat1_filter.reset_index\n",
    "# create sub pandas with genes over threshold\n",
    "# plot after initial scatter with alpha = 1\n",
    "# add text for each postion\n",
    "\n",
    "\n",
    "plt.vlines(x=(-0.26,0.26), ymin=10e-24, ymax=1, color = \"black\", linestyles='dashed')\n",
    "plt.hlines(y=0.05, xmin=-1, xmax=1, color = \"black\", linestyles='dashed')\n",
    "plt.scatter(x=dat1['logfoldchanges'], y = dat1['pvals_adj'], alpha= 0.75, color = \"grey\", edgecolors=None)\n",
    "plt.scatter(x= dat1_filter['logfoldchanges'], y=dat1_filter['pvals_adj'], alpha=1, color = 'red')\n",
    "for idx, gene in enumerate(dat1_filter['names']):\n",
    "    plt.text(dat1_filter['logfoldchanges'][idx], dat1_filter['pvals_adj'][idx], str(gene), color = 'black', fontsize = 12, ha= 'center')\n",
    "plt.yscale('log')\n",
    "plt.gca().invert_yaxis()\n",
    "plt.xlabel('Log2 Foldchange')\n",
    "plt.ylabel('Adjusted p-value')\n",
    "plt.savefig('Gallery/volcano_plot_SCN.svg')"
   ]
  },
  {
   "cell_type": "code",
   "execution_count": null,
   "id": "4ea11d6f",
   "metadata": {},
   "outputs": [],
   "source": [
    "sc.pl.rank_genes_groups_dotplot(adata_microglia,\n",
    "                                n_genes=5,\n",
    "                                values_to_plot=\"logfoldchanges\", cmap='bwr',\n",
    "                                # vmin=-4,\n",
    "                                # vmax=4,\n",
    "                                )"
   ]
  },
  {
   "cell_type": "code",
   "execution_count": null,
   "id": "940cd6b4-a206-421c-81fb-34beb733026e",
   "metadata": {},
   "outputs": [],
   "source": [
    "sc.pl.highest_expr_genes(adata_microglia, n_top=30, show=None, save=None, ax=None, gene_symbols=None, log=False)"
   ]
  },
  {
   "cell_type": "code",
   "execution_count": null,
   "id": "4c4d9c24-5757-4bb9-88a7-d65411202683",
   "metadata": {
    "scrolled": true
   },
   "outputs": [],
   "source": [
    "adata_microglia_WT=adata_microglia[adata_microglia.obs['Genotype']== 'WT']\n",
    "adata_microglia_APP=adata_microglia[adata_microglia.obs['Genotype']== 'APP']\n",
    "\n",
    "sc.pl.highest_expr_genes(adata_microglia_WT, n_top=30, show=None, save=None, ax=None, gene_symbols=None, log=False)\n",
    "sc.pl.highest_expr_genes(adata_microglia_APP, n_top=30, show=None, save=None, ax=None, gene_symbols=None, log=False)"
   ]
  },
  {
   "cell_type": "markdown",
   "id": "7fb78da9-702a-4ece-b4a8-f8510b0c0ec9",
   "metadata": {},
   "source": [
    "### Subcluster the subset"
   ]
  },
  {
   "cell_type": "code",
   "execution_count": null,
   "id": "86efaec3-34f7-4828-a67d-23e2b7c63cc7",
   "metadata": {},
   "outputs": [],
   "source": [
    "# extract pca coordinates\n",
    "X_pca = adata_microglia.obsm['X_pca'] \n",
    "\n",
    "sc.pp.pca(adata_microglia)\n",
    "sc.pp.neighbors(adata_microglia)\n",
    "sc.tl.umap(adata_microglia)\n",
    "\n",
    "### Kmeans clustering\n",
    "### You can choose the number of clusters by uncommenting n_clusters option\n",
    "kmeans = KMeans(#n_clusters=2,\n",
    "                random_state=0).fit(X_pca) \n",
    "adata_microglia.obs['kmeans'] = kmeans.labels_.astype(str)\n",
    "\n",
    "sc.tl.leiden(adata_microglia, resolution = 0.2)"
   ]
  },
  {
   "cell_type": "code",
   "execution_count": null,
   "id": "775aa571-4ae9-4d3b-89e8-fb2d6da943d7",
   "metadata": {},
   "outputs": [],
   "source": [
    "### Choose one cluster to work with\n",
    "#cluster_to_use = 'leiden0.4_classname'\n",
    "# cluster_to_use = 'kmeans'\n",
    "cluster_to_use = 'leiden'\n",
    "# cluster_to_use = 'L04_newnum'"
   ]
  },
  {
   "cell_type": "code",
   "execution_count": null,
   "id": "e5565fad-b45c-4634-bc2e-6fdd6d00e11b",
   "metadata": {},
   "outputs": [],
   "source": [
    "### Number of cells per clusters\n",
    "max_clust = len(adata_microglia.obs[cluster_to_use].unique())\n",
    "for i in range(0, max_clust):\n",
    "    count = adata_microglia.obs[cluster_to_use].value_counts().iloc[i]\n",
    "    print(f\"Cluster {i} : {count} cells\")"
   ]
  },
  {
   "cell_type": "code",
   "execution_count": null,
   "id": "38b28773-20d0-4042-9359-2cdc800bdc01",
   "metadata": {},
   "outputs": [],
   "source": [
    "### Generate a color palette for the clusters - to make color stay consistent across samples\n",
    "adata_microglia.obs[cluster_to_use] = adata_microglia.obs[cluster_to_use].astype(str)\n",
    "\n",
    "# Create a palette with a unique color for each cluster\n",
    "num_clusters = len(adata_microglia.obs[cluster_to_use].astype(int).unique())\n",
    "palette = sns.color_palette(\"hls\", n_colors=num_clusters)\n",
    "\n",
    "# Map each 'leiden' value to a color\n",
    "adata_microglia.obs['leiden_colors'] = adata_microglia.obs[cluster_to_use].astype(int).apply(lambda x: palette[x])"
   ]
  },
  {
   "cell_type": "code",
   "execution_count": null,
   "id": "3f09fd10-2fd0-4490-8345-c3e091a40eb1",
   "metadata": {},
   "outputs": [],
   "source": [
    "### Let's make UMAP plot. We will also add the cluster centroids to the plot\n",
    "adata_microglia.obs['umap-1'] = adata_microglia.obsm['X_umap'][:, 0]\n",
    "adata_microglia.obs['umap-2'] = adata_microglia.obsm['X_umap'][:, 1]\n",
    "cluster_centroids = adata_microglia.obs.groupby(cluster_to_use)[['umap-1', 'umap-2']].median()"
   ]
  },
  {
   "cell_type": "code",
   "execution_count": null,
   "id": "fe243164",
   "metadata": {},
   "outputs": [],
   "source": [
    "from dataviz_analysis import umap_plot_indi_multi\n",
    "samples_ids = samples_ids\n",
    "umap_plot_indi_multi(adata_microglia,\n",
    "                     cluster_to_use = \"leiden\",\n",
    "                     individual_plot = True,\n",
    "                     save_plot = False,\n",
    "                     cmap_ = 'hls',\n",
    "                     )"
   ]
  },
  {
   "cell_type": "code",
   "execution_count": null,
   "id": "532bb515",
   "metadata": {},
   "outputs": [],
   "source": [
    "samples_ids_sub"
   ]
  },
  {
   "cell_type": "code",
   "execution_count": null,
   "id": "f19c0ff8-83ac-4d38-9834-c115a9a08eac",
   "metadata": {},
   "outputs": [],
   "source": [
    "# Map all cells\n",
    "fig, axs = plt.subplots(3,4,figsize=(30, 15))\n",
    "axs = axs.flatten()\n",
    "clusters_plot = {0: 'magenta',1: 'cyan',2: 'green', \"\":'red', \"\":'orange',\"7\":'black',\"\":\"purple\"\n",
    "                }\n",
    "\n",
    "for idx, sample in enumerate(samples_ids_sub):\n",
    "    adata_sel = adata_microglia[(adata_microglia.obs['sample'] == sample)]\n",
    "    for cluster_id in adata_sel.obs[cluster_to_use].unique():\n",
    "        cluster_data = adata_sel.obs[adata_sel.obs[cluster_to_use] == cluster_id]\n",
    "        colors = clusters_plot[cluster_id] if cluster_id in clusters_plot else \"none\" ### for selected clusters in cluster_plot\n",
    "        colors= cluster_data['leiden_colors'].unique()[0] ### for all clusters\n",
    "        axs[idx].scatter(cluster_data['x_centroid'].astype('float'), cluster_data['y_centroid'].astype('float'), color=colors, s=10, label=cluster_id)\n",
    "        axs[idx].set_title(f\"Sample {sample}\")\n",
    "        # axs[idx].set_ylim(400,1300)\n",
    "        # axs[idx].set_xlim(4100,5600)\n",
    "\n"
   ]
  },
  {
   "cell_type": "code",
   "execution_count": null,
   "id": "bb0148b6",
   "metadata": {},
   "outputs": [],
   "source": [
    "from dataviz_analysis import cluster_plot\n",
    "\n",
    "cluster_plot(adata_microglia,\n",
    "             cluster_to_use = 'cell_type_final',\n",
    "             cluster_to_map = 'all',\n",
    "             cmap_ = 'hls',\n",
    "             save_plot = False,\n",
    "            )"
   ]
  },
  {
   "cell_type": "code",
   "execution_count": null,
   "id": "f3e9d025-34e9-4463-b0d6-39bada9c4873",
   "metadata": {
    "scrolled": true
   },
   "outputs": [],
   "source": [
    "### Correlation map of subclusters\n",
    "cont_tab = pd.crosstab(adata_microglia.obs[cluster_to_use], adata_microglia.obs['mmc:supertype_name'], normalize=\"index\")\n",
    "plt.figure(figsize=(120, 10))\n",
    "sns.heatmap(cont_tab, annot=True, cmap=\"YlGnBu\", fmt=\".1f\")"
   ]
  },
  {
   "cell_type": "code",
   "execution_count": null,
   "id": "f3e9d025-34e9-4463-b0d6-39bada9c4873",
   "metadata": {
    "scrolled": true
   },
   "outputs": [],
   "source": [
    "# Obtain cluster-specific differentially expressed genes\n",
    "cluster_to_use = 'leiden'\n",
    "# cluster_to_use = 'Genotype'\n",
    "adata_microglia.obs[cluster_to_use] = adata_microglia.obs[cluster_to_use].astype(str)\n",
    "# sc.tl.dendrogram(adata_microglia, groupby = cluster_to_use, n_pcs=None, use_rep=None, var_names=None, use_raw=None, cor_method='pearson', linkage_method='complete', optimal_ordering=False, key_added=None)\n",
    "sc.tl.rank_genes_groups(adata_microglia, groupby=cluster_to_use, method=\"wilcoxon\")\n",
    "sc.pl.rank_genes_groups_dotplot(adata_microglia, groupby=cluster_to_use, standard_scale=\"var\", n_genes=5)\n",
    "\n",
    "sc.pl.rank_genes_groups_dotplot(\n",
    "    adata_microglia,\n",
    "    n_genes=5,\n",
    "    values_to_plot=\"logfoldchanges\", cmap='bwr',\n",
    "    vmin=-4,\n",
    "    vmax=4,\n",
    ")"
   ]
  },
  {
   "cell_type": "code",
   "execution_count": null,
   "id": "f62204d7-c319-4aaf-800e-bc792103e760",
   "metadata": {
    "scrolled": true
   },
   "outputs": [],
   "source": [
    "sc.pl.rank_genes_groups_violin(adata_microglia, groups=adata_microglia.obs[cluster_to_use], n_genes=1)"
   ]
  },
  {
   "cell_type": "code",
   "execution_count": null,
   "id": "0b2153eb-8c78-4a55-85b5-07498d61f52b",
   "metadata": {},
   "outputs": [],
   "source": [
    "ax = sc.pl.stacked_violin(adata_microglia, var_names = marker_genes , groupby='kmeans', dendrogram=True)"
   ]
  },
  {
   "cell_type": "code",
   "execution_count": null,
   "id": "095b7d62-c957-4bf3-8f48-b15ed942a2e1",
   "metadata": {},
   "outputs": [],
   "source": [
    "# Obtain cluster-specific differentially expressed genes\n",
    "# cluster_to_use = 'kmeans'\n",
    "cluster_to_use = 'Genotype'\n",
    "adata_microglia.obs[cluster_to_use] = adata_microglia.obs[cluster_to_use].astype(str)\n",
    "# sc.tl.dendrogram(adata_microglia, groupby = cluster_to_use, n_pcs=None, use_rep=None, var_names=None, use_raw=None, cor_method='pearson', linkage_method='complete', optimal_ordering=False, key_added=None)\n",
    "sc.tl.rank_genes_groups(adata_microglia, groupby=cluster_to_use, method=\"wilcoxon\", tie_correct = True)\n",
    "sc.pl.rank_genes_groups_dotplot(adata_microglia, groupby=cluster_to_use, standard_scale=\"var\", n_genes=5)\n",
    "\n",
    "sc.pl.rank_genes_groups_dotplot(\n",
    "    adata_microglia,\n",
    "    n_genes=5,\n",
    "    values_to_plot=\"logfoldchanges\", cmap='bwr',\n",
    "    # vmin=-4,\n",
    "    # vmax=4,\n",
    ")"
   ]
  },
  {
   "cell_type": "code",
   "execution_count": null,
   "id": "8f7fe532-aa8e-4c41-8434-cdac7a08aa44",
   "metadata": {},
   "outputs": [],
   "source": [
    "### Extract gene expression per cluster + log fold change + p-value\n",
    "cluster_to_use = 'Genotype'\n",
    "\n",
    "adata_microglia.obs[cluster_to_use] = adata_microglia.obs[cluster_to_use].astype(str)\n",
    "#sc.tl.dendrogram(adata, groupby = 'L04_newnum_subclassname')\n",
    "sc.tl.rank_genes_groups(adata_microglia, groupby=cluster_to_use, method=\"wilcoxon\", tie_correct = True, pts = True)\n",
    "\n",
    "sc.pl.rank_genes_groups_dotplot(adata_microglia, groupby=cluster_to_use, standard_scale=\"var\", n_genes=5)\n",
    "\n",
    "dat = pd.DataFrame()\n",
    "for i in adata2.obs[cluster_to_use].unique():\n",
    "    print(f\"Cluster {i}\")\n",
    "    dat1 = sc.get.rank_genes_groups_df(adata_microglia, group=i)\n",
    "    dat1['group'] = i\n",
    "    dat = pd.concat([dat, dat1])\n",
    "\n",
    "### Extract not-normalized expression and clusters for individual cells\n",
    "if not os.path.exists(f\"{dir_notebook}/csv/{name_dir}/\"):\n",
    "   os.makedirs(f\"{dir_notebook}/csv/{name_dir}/\")\n",
    "dat.to_csv(f\"{dir_notebook}/csv/{name_dir}/{name_dir}_clusters_foldchange_{celltype_to_subset}.csv\")"
   ]
  },
  {
   "cell_type": "code",
   "execution_count": null,
   "id": "e1029654-dd6a-4cfd-aba9-6cbbe3535e35",
   "metadata": {},
   "outputs": [],
   "source": [
    "dfs = []\n",
    "\n",
    "a_ = 0\n",
    "strerhyt = '-'\n",
    "strenbis = ' '\n",
    "\n",
    "all_celltype = adata_microglia.obs['leiden'].unique()\n",
    "\n",
    "for cell_type_to_extract in all_celltype:\n",
    "    adata_microglia_temp = adata_microglia[adata_microglia.obs['leiden'] == cell_type_to_extract]\n",
    "    \n",
    "    ### Extract gene expression per cluster + log fold change + p-value\n",
    "    cluster_to_use = 'Genotype'\n",
    "    clust_uniq = adata_microglia_temp.obs[cluster_to_use].unique()\n",
    "    dat = pd.DataFrame()\n",
    "\n",
    "    if (len(adata_microglia_temp[adata_microglia_temp.obs[cluster_to_use] == clust_uniq[0]]) < 2) or (len(adata_microglia_temp[adata_microglia_temp.obs[cluster_to_use] == clust_uniq[1]]) < 2):\n",
    "        dat['nothing'] = ['to see here']\n",
    "        dfs.append(dat)\n",
    "        a_ +=1\n",
    "        print(f'[{a_ * strerhyt}{(len(all_celltype) - a_)*strenbis}] Cluster {a_} / {len(all_celltype)}')\n",
    "        continue\n",
    "\n",
    "    adata_microglia_temp.obs[cluster_to_use] = adata_microglia_temp.obs[cluster_to_use].astype(str)\n",
    "    #sc.tl.dendrogram(adata, groupby = 'L04_newnum_subclassname')\n",
    "    sc.tl.rank_genes_groups(adata_microglia_temp, groupby=cluster_to_use, method=\"wilcoxon\", tie_correct = True, pts = True)\n",
    "    \n",
    "    # sc.pl.rank_genes_groups_dotplot(adata_microglia, groupby=cluster_to_use, standard_scale=\"var\", n_genes=5)\n",
    "    \n",
    "    for i in adata_microglia_temp.obs[cluster_to_use].unique():\n",
    "        # print(f\"Cluster {cell_type_to_extract}_{i}\")\n",
    "        dat1 = sc.get.rank_genes_groups_df(adata_microglia_temp, group=i)\n",
    "        dat1['group'] = i\n",
    "        dat = pd.concat([dat, dat1])\n",
    "\n",
    "    dat = dat[ ### Choose filters here\n",
    "    (dat['pct_nz_group'] > 0.15) & #Percentage of cell expressing the gene\n",
    "    (dat['pvals_adj']<= 0.05) & # adjusted p-value\n",
    "    (abs(dat['logfoldchanges']) > 0.26) # logfoldchange\n",
    "    ]\n",
    "    a_ +=1\n",
    "    print(f'[{a_ * strerhyt}{(len(all_celltype) - a_)*strenbis}] Cluster {a_} / {len(all_celltype)}')\n",
    "\n",
    "    dfs.append(dat)\n",
    "else:\n",
    "    print('Extraction done')\n",
    "\n",
    "\n",
    "import xlsxwriter\n",
    "writer = pd.ExcelWriter(f'csv/{name_dir}/{celltype_to_subset}_subclusters_df_comb.xlsx', engine='xlsxwriter')\n",
    "for j in range(0,len(dfs)):\n",
    "    dfs[j].to_excel(writer, sheet_name=all_celltype[j], index=False)\n",
    "\n",
    "writer.close()"
   ]
  },
  {
   "cell_type": "code",
   "execution_count": null,
   "id": "dc9a378f-7009-43b8-9dee-ba287d062a38",
   "metadata": {},
   "outputs": [],
   "source": [
    "celltype_to_subset = \"SCH\"\n",
    "adata_region_cell = adata2[adata2.obs['cell type'] == celltype_to_subset]"
   ]
  },
  {
   "cell_type": "markdown",
   "id": "52b673d5-f2cd-47f2-8307-77cdae36d28c",
   "metadata": {},
   "source": [
    "## Subset one region"
   ]
  },
  {
   "cell_type": "code",
   "execution_count": null,
   "id": "c00abeb6-a8bc-4785-86b4-57197a96d144",
   "metadata": {},
   "outputs": [],
   "source": [
    "adata2.obs['region_automap'].unique()"
   ]
  },
  {
   "cell_type": "code",
   "execution_count": null,
   "id": "f449cf77-03bd-4b2c-a8d9-c97b7bac8317",
   "metadata": {},
   "outputs": [],
   "source": [
    "region_to_subset = \"SCH\"\n",
    "adata_region = adata2[adata2.obs['region_automap'] == region_to_subset]"
   ]
  },
  {
   "cell_type": "code",
   "execution_count": null,
   "id": "d2cd0619-d004-4935-91f4-711fb4c92c75",
   "metadata": {
    "scrolled": true
   },
   "outputs": [],
   "source": [
    "adata_region.obs[adata_region.obs['cell type']== 'HY GABA'].groupby('mmc:subclass_name')['cell_id'].nunique()"
   ]
  },
  {
   "cell_type": "code",
   "execution_count": null,
   "id": "be2ea7e8-3add-4537-a4c7-c862809c8f27",
   "metadata": {},
   "outputs": [],
   "source": [
    "adata_region.obs[adata_region.obs['cell type']=='Astro']['cell_type_newnum'].head()"
   ]
  },
  {
   "cell_type": "code",
   "execution_count": null,
   "id": "7b1c2d8d-e623-4954-a39b-e7787b50e0c0",
   "metadata": {},
   "outputs": [],
   "source": [
    "# Generate new numbering base on unique 'cell type'\n",
    "all_cell_type = adata_region.obs['cell type'].unique()\n",
    "list_cell_nb = range(0, len(all_cell_type))\n",
    "mapping_dict = dict(zip(all_cell_type,list_cell_nb))\n",
    "adata_region.obs['cell_type_newnum'] = adata_region.obs['cell type'].map(mapping_dict)\n",
    "# mapping_dict\n",
    "\n",
    "### Generate a color palette for the clusters - to make color stay consistent across samples\n",
    "adata_region.obs['cell_type_newnum'] = adata_region.obs['cell_type_newnum'].astype(int)\n",
    "\n",
    "# Create a palette with a unique color for each cluster\n",
    "num_clusters = len(adata_region.obs['cell_type_newnum'].unique())\n",
    "palette = sns.color_palette(\"bright\", n_colors=num_clusters)\n",
    "\n",
    "# Map each 'leiden' value to a color\n",
    "adata_region.obs['kmeans_colors'] = adata_region.obs['cell_type_newnum'].apply(lambda x: palette[x])\n",
    "\n",
    "# Mapping of clusters\n",
    "fig, axs = plt.subplots(3,2,figsize=(15, 18))\n",
    "axs = axs.flatten()\n",
    "clusters_plot = { 1: 'lightcoral', 11:'black',4:'red',\n",
    "    # 0: 'orchid', 1: 'forestgreen',2: 'coral', 4:'orange',\n",
    "    # 3:'red', 5:'blue',6:'cyan',7:'black'\n",
    "    # 4:'red',0:'black'\n",
    "}\n",
    "\n",
    "for idx, sample in enumerate(samples_ids):\n",
    "    adata_sel = adata_region[(adata_region.obs['sample'] == sample)]\n",
    "    for cluster_id in adata_sel.obs['cell_type_newnum'].unique():\n",
    "        cluster_data = adata_sel.obs[adata_sel.obs['cell_type_newnum'] == cluster_id]\n",
    "        if len(cluster_data) >= 0:\n",
    "            colors = clusters_plot[cluster_id] if cluster_id in clusters_plot else \"none\"\n",
    "            colors= cluster_data['kmeans_colors'].unique()[0]\n",
    "            axs[idx].scatter(cluster_data['x_centroid'], cluster_data['y_centroid'], color=colors, s=15, label=cluster_data['cell type'].unique()[0])\n",
    "            axs[idx].set_title(f\"Sample {sample}\")\n",
    "\n",
    "plt.legend(markerscale=1, scatterpoints=1000, bbox_to_anchor=(1.02, 1), loc='upper left', borderaxespad=0)\n"
   ]
  },
  {
   "cell_type": "code",
   "execution_count": null,
   "id": "3856762c-292d-4ed7-87fe-b8bc07fc3260",
   "metadata": {},
   "outputs": [],
   "source": [
    "# len(adata_region)/1000\n",
    "# adata_region_notunique.obs.groupby('cell type')['cell_id'].nunique()\n",
    "# list_to_exclude"
   ]
  },
  {
   "cell_type": "code",
   "execution_count": null,
   "id": "c0b93994-da19-4332-8872-84f61845dbac",
   "metadata": {},
   "outputs": [],
   "source": [
    "list_to_exclude  = adata_region.obs.groupby('cell type')['cell_id'].nunique() >= 10\n",
    "list_to_exclude.values\n",
    "dict_exclude = dict(zip(list_to_exclude.index, list_to_exclude.values))\n",
    "dict_exclude\n",
    "\n",
    "adata_region.obs['exclude'] = adata_region.obs['cell type'].map(dict_exclude)\n",
    "\n",
    "adata_region_notunique = adata_region[adata_region.obs['exclude'] != False]\n",
    "\n",
    "adata_region_notunique.obs.groupby('cell type')['cell_id'].nunique()\n",
    "\n",
    "sc.tl.dendrogram(adata_region_notunique, groupby = 'cell type', n_pcs=None, use_rep=None, var_names=None, use_raw=None, cor_method='pearson', linkage_method='complete', optimal_ordering=False, key_added=None)\n",
    "sc.tl.rank_genes_groups(adata_region_notunique, groupby='cell type', method=\"wilcoxon\", tie_correct = True)\n",
    "sc.pl.rank_genes_groups_dotplot(adata_region_notunique, groupby='cell type', standard_scale=\"var\", n_genes=5)"
   ]
  },
  {
   "cell_type": "code",
   "execution_count": null,
   "id": "62c448cf-5f8c-4a45-ae5d-4c1ff00ede96",
   "metadata": {},
   "outputs": [],
   "source": [
    "sc.pl.rank_genes_groups_dotplot(\n",
    "    adata_region_notunique,\n",
    "    n_genes=5,\n",
    "    values_to_plot=\"logfoldchanges\", cmap='bwr',\n",
    "    # vmin=-4,\n",
    "    # vmax=4,\n",
    ")"
   ]
  },
  {
   "cell_type": "code",
   "execution_count": null,
   "id": "b519a424-7678-4284-8450-43431b5e9334",
   "metadata": {},
   "outputs": [],
   "source": [
    "### Extract gene expression per cluster + log fold change + p-value\n",
    "cluster_to_use = 'Genotype'\n",
    "\n",
    "adata_region.obs[cluster_to_use] = adata_region.obs[cluster_to_use].astype(str)\n",
    "#sc.tl.dendrogram(adata, groupby = 'L04_newnum_subclassname')\n",
    "sc.tl.rank_genes_groups(adata_region, groupby=cluster_to_use, method=\"wilcoxon\", tie_correct = True, pts = True)\n",
    "\n",
    "sc.pl.rank_genes_groups_dotplot(adata_region, groupby=cluster_to_use, standard_scale=\"var\", n_genes=5)\n",
    "\n",
    "dat = pd.DataFrame()\n",
    "for i in adata_region.obs[cluster_to_use].unique():\n",
    "    print(f\"Cluster {i}\")\n",
    "    dat1 = sc.get.rank_genes_groups_df(adata_region, group=i)\n",
    "    dat1['group'] = i\n",
    "    dat = pd.concat([dat, dat1])\n",
    "\n",
    "### Extract not-normalized expression and clusters for individual cells\n",
    "if not os.path.exists(f\"{dir_notebook}/csv/{name_dir}/\"):\n",
    "   os.makedirs(f\"{dir_notebook}/csv/{name_dir}/\")\n",
    "dat.to_csv(f\"{dir_notebook}/csv/{name_dir}/{name_dir}_clusters_foldchange_{region_to_subset}-region.csv\")"
   ]
  },
  {
   "cell_type": "code",
   "execution_count": null,
   "id": "4110a66e-72b5-4cc6-9155-e1c4532cd487",
   "metadata": {},
   "outputs": [],
   "source": [
    "celltype_to_subset = \"Astro\"\n",
    "adata_region_cell = adata_region[adata_region.obs['cell type'] == celltype_to_subset]"
   ]
  },
  {
   "cell_type": "code",
   "execution_count": null,
   "id": "7141eaf0-b59e-43e5-89f1-964c662d36f4",
   "metadata": {},
   "outputs": [],
   "source": [
    "### Extract gene expression per cluster + log fold change + p-value\n",
    "cluster_to_use = 'Genotype'\n",
    "\n",
    "adata_region_cell.obs[cluster_to_use] = adata_region_cell.obs[cluster_to_use].astype(str)\n",
    "#sc.tl.dendrogram(adata, groupby = 'L04_newnum_subclassname')\n",
    "sc.tl.rank_genes_groups(adata_region_cell, groupby=cluster_to_use, method=\"wilcoxon\", tie_correct = True, pts = True)\n",
    "\n",
    "sc.pl.rank_genes_groups_dotplot(adata_region_cell, groupby=cluster_to_use, standard_scale=\"var\", n_genes=5)\n",
    "\n",
    "dat = pd.DataFrame()\n",
    "for i in adata_region_cell.obs[cluster_to_use].unique():\n",
    "    print(f\"Cluster {i}\")\n",
    "    dat1 = sc.get.rank_genes_groups_df(adata_region_cell, group=i)\n",
    "    dat1['group'] = i\n",
    "    dat = pd.concat([dat, dat1])\n",
    "\n",
    "### Extract not-normalized expression and clusters for individual cells\n",
    "if not os.path.exists(f\"{dir_notebook}/csv/{name_dir}/\"):\n",
    "   os.makedirs(f\"{dir_notebook}/csv/{name_dir}/\")\n",
    "dat.to_csv(f\"{dir_notebook}/csv/{name_dir}/{name_dir}_clusters_foldchange_{region_to_subset}-region-{celltype_to_subset}-cell.csv\")"
   ]
  },
  {
   "cell_type": "markdown",
   "id": "6e9bbd33-87de-45a5-9457-89fdcab80549",
   "metadata": {},
   "source": [
    "# Output files"
   ]
  },
  {
   "cell_type": "markdown",
   "id": "c3452ed1-7797-4bd7-86cd-d214d1bff363",
   "metadata": {},
   "source": [
    "## Extract foldchange, pvalue, etc."
   ]
  },
  {
   "cell_type": "code",
   "execution_count": null,
   "id": "c749084d-e231-401b-9f6e-386406098071",
   "metadata": {},
   "outputs": [],
   "source": [
    "adata = sc.read_h5ad(f\"{dir_notebook}/h5ad/{name_dir}/{name_dir}_final.h5ad.gz\")"
   ]
  },
  {
   "cell_type": "code",
   "execution_count": null,
   "id": "aa69f144-dbc9-4f17-9bd6-666788438006",
   "metadata": {},
   "outputs": [],
   "source": [
    "adata2 = sc.read_h5ad(f\"{dir_notebook}/h5ad/{name_dir}/{name_dir}_MMC_norm.h5ad.gz\")"
   ]
  },
  {
   "cell_type": "code",
   "execution_count": null,
   "id": "036b59f1-83e3-4efe-9df3-4947056a6da6",
   "metadata": {},
   "outputs": [],
   "source": [
    "adata2.obs['cell_type_newnum_final'] = adata.obs['cell_type_newnum_final']\n",
    "adata2.obs['cell_type_final'] = adata.obs['cell_type_final']\n",
    "adata2.obs['region_automap_name'] = adata.obs['region_automap_name']\n",
    "# adata2.obs['region_automap_num'] = adata.obs['region_automap_num']\n",
    "# adata2.obs['region_manual'] = adata.obs['region_manual_name']\n",
    "\n",
    "adata2.obsm['reduced_pc_20_umap'] = adata.obsm['reduced_pc_20_umap']\n",
    "\n",
    "all_celltype = np.array(adata2.obs['cell_type_final'].unique())"
   ]
  },
  {
   "cell_type": "code",
   "execution_count": null,
   "id": "9c60abf7",
   "metadata": {},
   "outputs": [],
   "source": [
    "adata2.write(f\"{dir_notebook}/h5ad/{name_dir}/{name_dir}_final.h5ad.gz\", compression='gzip')"
   ]
  },
  {
   "cell_type": "code",
   "execution_count": null,
   "id": "7064753e-a24d-4225-9e7f-dbba32aaaaaa",
   "metadata": {},
   "outputs": [],
   "source": [
    "# HC only\n",
    "adata2.obs['Genotype'] = 0\n",
    "adata2.obs['ZT'] = 0\n",
    "\n",
    "geno_dict = {'3159-1':'WT','2670-1':'WT','3159-2':'WT','3159-3':'WT','3159-4':'WT','2505-1':'APP','2505-2':'APP','3160-1':'APP',\n",
    "             '3160-2':'APP','3161-1':'APP','3161-2':'APP','3161-3':'APP',\n",
    "}\n",
    "ZT_dict = {\n",
    "    '3159-1':'ZT17','2670-1':'ZT5','3159-2':'ZT17','3159-3':'ZT17','3159-4':'ZT17','2505-1':'ZT5','2505-2':'ZT5',\n",
    "'3160-1':'ZT17','3160-2':'ZT17','3161-1':'ZT17','3161-2':'ZT17','3161-3':'ZT17',\n",
    "}\n",
    "\n",
    "adata2.obs['Genotype'] = adata2.obs['sample'].map(geno_dict)\n",
    "adata2.obs['ZT'] = adata2.obs['sample'].map(ZT_dict)"
   ]
  },
  {
   "cell_type": "code",
   "execution_count": null,
   "id": "265c2f38",
   "metadata": {},
   "outputs": [],
   "source": [
    "sc.pp.normalize_total(adata2, inplace=True)\n",
    "sc.pp.log1p(adata2)"
   ]
  },
  {
   "cell_type": "code",
   "execution_count": null,
   "id": "f0291215",
   "metadata": {},
   "outputs": [],
   "source": [
    "gene_names = np.array(adata.var_names)\n",
    "gene_names = sorted(gene_names)\n",
    "# print(gene_names)"
   ]
  },
  {
   "cell_type": "markdown",
   "id": "4fc48596",
   "metadata": {},
   "source": [
    "### Extract DEG whole brain"
   ]
  },
  {
   "cell_type": "code",
   "execution_count": null,
   "id": "b9b8a0e5",
   "metadata": {},
   "outputs": [],
   "source": [
    "sc.tl.rank_genes_groups(adata, groupby='Genotype', method=\"wilcoxon\", tie_correct = True, pts = True)\n",
    "\n",
    "for i in adata.obs[cluster_to_use].unique():\n",
    "    # print(f\"Cluster {cell_type_to_extract}_{i}\")\n",
    "    dat = sc.get.rank_genes_groups_df(adata_microglia, group=\"APP\")\n",
    "\n",
    "\n",
    "# # ### Extract normalized expression and clusters for individual cells\n",
    "# # if not os.path.exists(f\"{dir_notebook}/csv/{name_dir}/foldchange\"):\n",
    "# #    os.makedirs(f\"{dir_notebook}/csv/{name_dir}/foldchange\")\n",
    "# dat.to_csv(f\"csv/{name_dir}/foldchange/{name_dir}_foldchange_wholesection.csv\")"
   ]
  },
  {
   "cell_type": "markdown",
   "id": "0ecfffe0",
   "metadata": {},
   "source": [
    "### Extract DEG celltypes by celltypes"
   ]
  },
  {
   "cell_type": "code",
   "execution_count": null,
   "id": "2ac2a068",
   "metadata": {},
   "outputs": [],
   "source": [
    "all_celltype = np.array(adata.obs['cell_type_final'].unique())"
   ]
  },
  {
   "cell_type": "code",
   "execution_count": null,
   "id": "69731820-3267-4ef5-aec4-15fb9a0acf6a",
   "metadata": {},
   "outputs": [],
   "source": [
    "import progressbar\n",
    "\n",
    "dfs = []\n",
    "filters_ = True\n",
    "filters_dic = {'percentage_pop': 0.15,\n",
    "               'pval_adj' : 0.05,\n",
    "               'logfoldchanges' : 0.26}\n",
    "\n",
    "a_ = 0\n",
    "bar = progressbar.ProgressBar(maxval=len(all_celltype), \\\n",
    "    widgets=[progressbar.Bar('=', '[', ']'), ' ', progressbar.Percentage()])\n",
    "bar.start()\n",
    "\n",
    "for cell_type_to_extract in all_celltype:\n",
    "    adata_microglia = adata[adata.obs['cell_type_final'] == cell_type_to_extract]\n",
    "    \n",
    "    ### Extract gene expression per cluster + log fold change + p-value\n",
    "    cluster_to_use = 'Genotype'\n",
    "    clust_uniq = adata.obs[cluster_to_use].unique()\n",
    "    dat = pd.DataFrame()\n",
    "\n",
    "    if (len(adata_microglia[adata_microglia.obs[cluster_to_use] == clust_uniq[0]]) < 2) or (len(adata_microglia[adata_microglia.obs[cluster_to_use] == clust_uniq[1]]) < 2):\n",
    "        dat['nothing'] = ['to see here']\n",
    "        dfs.append(dat)\n",
    "        # a_ +=1\n",
    "        continue\n",
    "\n",
    "    adata_microglia.obs[cluster_to_use] = adata_microglia.obs[cluster_to_use].astype(str)\n",
    "    #sc.tl.dendrogram(adata, groupby = 'L04_newnum_subclassname')\n",
    "    sc.tl.rank_genes_groups(adata_microglia, groupby=cluster_to_use, method=\"wilcoxon\", tie_correct = True, pts = True)\n",
    "    \n",
    "    # sc.pl.rank_genes_groups_dotplot(adata_microglia, groupby=cluster_to_use, standard_scale=\"var\", n_genes=5)\n",
    "    \n",
    "    for i in adata.obs[cluster_to_use].unique():\n",
    "        # print(f\"Cluster {cell_type_to_extract}_{i}\")\n",
    "        dat1 = sc.get.rank_genes_groups_df(adata_microglia, group=i)\n",
    "        dat1['group'] = i\n",
    "        dat = pd.concat([dat, dat1])\n",
    "\n",
    "    if filters_ == True:\n",
    "        dat = dat[ ### Choose filters here\n",
    "        (dat['pct_nz_group'] > filters_dic['percentage_pop']) & #Percentage of cell expressing the gene\n",
    "        (dat['pvals_adj']<= filters_dic['pval_adj']) & # adjusted p-value\n",
    "        (abs(dat['logfoldchanges']) > filters_dic['logfoldchanges']) # logfoldchange\n",
    "        ]\n",
    "\n",
    "    a_ +=1\n",
    "    bar.update(a_+1)\n",
    "\n",
    "    dfs.append(dat)\n",
    "else:\n",
    "    print('Extraction done')\n",
    "\n",
    "bar.finish()\n",
    "\n",
    "writer = pd.ExcelWriter(f'{dir_notebook}/csv/{name_dir}/all_celltypes_df_comb_nothres.xlsx', engine='xlsxwriter')\n",
    "for j in range(0,len(dfs)):\n",
    "    dfs[j].to_excel(writer, sheet_name=all_celltype[j], index=False)\n",
    "\n",
    "writer.close()"
   ]
  },
  {
   "cell_type": "code",
   "execution_count": null,
   "id": "7ab70cbc",
   "metadata": {},
   "outputs": [],
   "source": [
    "all_regions = np.array(['VMH', 'VLMC', 'HY', 'ARH', 'Ependymal', 'TH', 'MB', 'AMY',\n",
    "       'STR', 'CTX', 'MH', 'LH', 'HIPP', 'NLOT', 'LSX', 'SCH', 'MM', 'SC'])"
   ]
  },
  {
   "cell_type": "code",
   "execution_count": null,
   "id": "84493a96",
   "metadata": {},
   "outputs": [],
   "source": [
    "dfs = []\n",
    "# all_regions = np.array(adata2.obs['region_automap'].unique())\n",
    "# all_regions = all_regions[np.logical_not(np.isnan(all_regions))]\n",
    "\n",
    "filters_ = True\n",
    "filters_dic = {'percentage_pop': 0.15,\n",
    "               'pval_adj' : 0.05,\n",
    "               'logfoldchanges' : 0.26}\n",
    "\n",
    "a_ = 0\n",
    "bar = progressbar.ProgressBar(maxval=len(all_regions), \\\n",
    "    widgets=[progressbar.Bar('=', '[', ']'), ' ', progressbar.Percentage()])\n",
    "bar.start()\n",
    "\n",
    "\n",
    "for region_to_extract in all_regions:\n",
    "    adata_microglia = adata2[adata2.obs['region_automap_name'] == region_to_extract]\n",
    "    \n",
    "    ### Extract gene expression per cluster + log fold change + p-value\n",
    "    cluster_to_use = 'Genotype'\n",
    "    clust_uniq = adata2.obs[cluster_to_use].unique()\n",
    "    dat = pd.DataFrame()\n",
    "\n",
    "    if (len(adata_microglia[adata_microglia.obs[cluster_to_use] == clust_uniq[0]]) < 2) or (len(adata_microglia[adata_microglia.obs[cluster_to_use] == clust_uniq[1]]) < 2):\n",
    "        dat['nothing'] = ['to see here']\n",
    "        dfs.append(dat)\n",
    "        # a_ +=1\n",
    "        continue\n",
    "\n",
    "    adata_microglia.obs[cluster_to_use] = adata_microglia.obs[cluster_to_use].astype(str)\n",
    "    sc.tl.rank_genes_groups(adata_microglia, groupby=cluster_to_use, method=\"wilcoxon\", tie_correct = True, pts = True)\n",
    "    \n",
    "   \n",
    "    for i in adata2.obs[cluster_to_use].unique():\n",
    "        # print(f\"Cluster {cell_type_to_extract}_{i}\")\n",
    "        dat1 = sc.get.rank_genes_groups_df(adata_microglia, group=i)\n",
    "        dat1['group'] = i\n",
    "        dat = pd.concat([dat, dat1])\n",
    "\n",
    "    if filters_ == True:\n",
    "        dat = dat[ ### Choose filters here\n",
    "        (dat['pct_nz_group'] > filters_dic['percentage_pop']) & #Percentage of cell expressing the gene\n",
    "        (dat['pvals_adj']<= filters_dic['pval_adj']) & # adjusted p-value\n",
    "        (abs(dat['logfoldchanges']) > filters_dic['logfoldchanges']) # logfoldchange\n",
    "        ]\n",
    "\n",
    "    a_ +=1\n",
    "    bar.update(a_+1)\n",
    "\n",
    "    dfs.append(dat)\n",
    "else:\n",
    "    print('Extraction done')\n",
    "\n",
    "\n",
    "import xlsxwriter\n",
    "writer = pd.ExcelWriter(f'csv/{name_dir}/all_regions_df_comb.xlsx', engine='xlsxwriter')\n",
    "for j in range(0,len(dfs)):\n",
    "    dfs[j].to_excel(writer, sheet_name=all_regions[j], index=False)\n",
    "\n",
    "writer.close()"
   ]
  },
  {
   "cell_type": "markdown",
   "id": "044fe84b",
   "metadata": {},
   "source": [
    "### Extract DEG per celltypes and regions"
   ]
  },
  {
   "cell_type": "code",
   "execution_count": null,
   "id": "46a019f3",
   "metadata": {},
   "outputs": [],
   "source": [
    "all_regions = np.array(adata.obs['region_automap'].unique())"
   ]
  },
  {
   "cell_type": "code",
   "execution_count": null,
   "id": "029b63ba",
   "metadata": {},
   "outputs": [],
   "source": [
    "all_celltype = np.array(adata.obs['cell_type_final'].unique())\n",
    "all_celltype"
   ]
  },
  {
   "cell_type": "code",
   "execution_count": null,
   "id": "52edbb05-2f75-4351-9424-c8c67066a9c2",
   "metadata": {},
   "outputs": [],
   "source": [
    "\n",
    "\n",
    "for region_to_extract in all_regions:\n",
    "    \n",
    "    cluster_to_use = 'Genotype'\n",
    "    clust_uniq = adata.obs[cluster_to_use].unique()\n",
    "    \n",
    "    adata3 = adata[adata.obs['region_automap'] == region_to_extract]\n",
    "\n",
    "    \n",
    "    if (len(adata3[adata3.obs[cluster_to_use] == clust_uniq[0]]) < 2) or (len(adata3[adata3.obs[cluster_to_use] == clust_uniq[1]]) < 2):\n",
    "        continue\n",
    "\n",
    "    dfs = []\n",
    "    a_ = 0\n",
    "    strerhyt = '-'\n",
    "    strenbis = ' '\n",
    "    all_celltype = np.array(adata3.obs['cell_type_final'].unique())\n",
    "    print(f'Starting region : {region_to_extract}')\n",
    "    for cell_type_to_extract in all_celltype:\n",
    "        adata_microglia = adata3[adata3.obs['cell_type_final'] == cell_type_to_extract]\n",
    "        \n",
    "        ### Extract gene expression per cluster + log fold change + p-value\n",
    "        \n",
    "        \n",
    "        dat = pd.DataFrame()\n",
    "\n",
    "        if (len(adata_microglia[adata_microglia.obs[cluster_to_use] == clust_uniq[0]]) < 2) or (len(adata_microglia[adata_microglia.obs[cluster_to_use] == clust_uniq[1]]) < 2):\n",
    "            dat['nothing'] = ['to see here']\n",
    "            dfs.append(dat)\n",
    "            a_ +=1\n",
    "            print(f'[{a_ * strerhyt}{(len(all_celltype) - a_)*strenbis}] Cluster {a_} / {len(all_celltype)}')\n",
    "            continue\n",
    "\n",
    "        adata_microglia.obs[cluster_to_use] = adata_microglia.obs[cluster_to_use].astype(str)\n",
    "        sc.tl.rank_genes_groups(adata_microglia, groupby=cluster_to_use, method=\"wilcoxon\", tie_correct = True, pts = True)\n",
    "        \n",
    "        for i in adata3.obs[cluster_to_use].unique():\n",
    "            # print(f\"Cluster {cell_type_to_extract}_{i}\")\n",
    "            dat1 = sc.get.rank_genes_groups_df(adata_microglia, group=i)\n",
    "            dat1['group'] = i\n",
    "            dat = pd.concat([dat, dat1])\n",
    "\n",
    "        dat = dat[ ### Choose filters here\n",
    "        (dat['pct_nz_group'] > 0.15) & #Percentage of cell expressing the gene\n",
    "        (dat['pvals_adj']<= 0.05) & # adjusted p-value\n",
    "        (abs(dat['logfoldchanges']) > 0.26) # logfoldchange\n",
    "        ]\n",
    "        a_ +=1\n",
    "        print(f'[{a_ * strerhyt}{(len(all_celltype) - a_)*strenbis}] Cluster {a_} / {len(all_celltype)}')\n",
    "\n",
    "        dfs.append(dat)\n",
    "    else:\n",
    "        print('Extraction done')\n",
    "\n",
    "\n",
    "    \n",
    "    writer = pd.ExcelWriter(f'csv/{name_dir}/foldchange/regions/{region_to_extract}_all_celltypes_df_comb.xlsx', engine='xlsxwriter')\n",
    "    for j in range(0,len(dfs)):\n",
    "        dfs[j].to_excel(writer, sheet_name=all_celltype[j], index=False)\n",
    "\n",
    "    writer.close()"
   ]
  },
  {
   "cell_type": "markdown",
   "id": "96e3d049-37a3-4ac4-b30c-89af10023c2b",
   "metadata": {},
   "source": [
    "## Normalized gene counts with all annotations"
   ]
  },
  {
   "cell_type": "code",
   "execution_count": null,
   "metadata": {},
   "outputs": [],
   "source": [
    "df = pd.DataFrame(data=adata.X.toarray(), index=adata.obs_names, columns=adata.var_names)\n",
    "\n",
    "from module.xenium_preprocessing import add_annotations\n",
    "df = add_annotations(adata,df)"
   ]
  },
  {
   "cell_type": "code",
   "execution_count": null,
   "metadata": {},
   "outputs": [],
   "source": [
    "df = pd.DataFrame(data=adata.X.toarray(), index=adata.obs_names, columns=adata.var_names)\n",
    "\n",
    "from module.xenium_preprocessing import add_annotations\n",
    "df = add_annotations(adata,df)"
   ]
  },
  {
   "cell_type": "code",
   "execution_count": null,
   "metadata": {},
   "outputs": [],
   "source": [
    "run_ = 'circa2'\n",
    "\n",
    "if run_ == 'circa2':\n",
    "    df_ = df[df['run']=='circa2']\n",
    "    celltypes_ = df_['cell_type_final'].unique()\n",
    "elif run_ == 'circa4':\n",
    "    df_ = df[df['run']=='circa4']\n",
    "    celltypes_ = df_['cell_type_final'].unique()\n",
    "else:\n",
    "    print('Wrong run info')\n",
    "\n",
    "\n",
    "marker_genes = adata.var.index ### Extract all genes. If you want a selected list, use genes_list() (module.misc)\n",
    "\n",
    "\n",
    "import progressbar\n",
    "bar = progressbar.ProgressBar(maxval=len(df_), \\\n",
    "    widgets=[progressbar.Bar('=', '[', ']'), ' ', progressbar.Percentage()])\n",
    "bar.start()\n",
    "tracker_=0\n",
    "\n",
    "gene_dfs = []\n",
    "\n",
    "genes_df = pd.DataFrame()\n",
    "sample_list = pd.DataFrame(adata.obs['sample'].unique())\n",
    "\n",
    "for celltype in celltype_:\n",
    "    df2 = df_[df_['cell_type_final'] == celltype]\n",
    "    genes_df = pd.DataFrame()\n",
    "    for gene_ in marker_genes:\n",
    "        temp = df2.groupby('ZT')[gene_].mean()\n",
    "        temp_df = pd.DataFrame(temp)\n",
    "        genes_df = pd.concat([genes_df, temp_df], axis = 1)\n",
    "    tracker_ +=1\n",
    "    bar.update(tracker_)\n",
    "    gene_dfs.append(genes_df)\n",
    "\n",
    "import xlsxwriter\n",
    "writer = pd.ExcelWriter(f'csv/{name_dir}/{name_dir}4_gene_dfs.xlsx', engine='xlsxwriter')\n",
    "for j in range(0,len(gene_dfs)):\n",
    "    gene_dfs[j].to_excel(writer, sheet_name=celltype_[j], index=True)\n",
    "writer.close()\n"
   ]
  },
  {
   "cell_type": "code",
   "execution_count": null,
   "metadata": {},
   "outputs": [],
   "source": [
    "run_ = 'circa2'\n",
    "\n",
    "if run_ == 'circa2':\n",
    "    df_ = df[df['run']=='circa2']\n",
    "    celltypes_ = df_['cell_type_final'].unique()\n",
    "elif run_ == 'circa4':\n",
    "    df_ = df[df['run']=='circa4']\n",
    "    celltypes_ = df_['cell_type_final'].unique()\n",
    "else:\n",
    "    print('Wrong run info')\n",
    "\n",
    "\n",
    "marker_genes = adata.var.index ### Extract all genes. If you want a selected list, use genes_list() (module.misc)\n",
    "\n",
    "\n",
    "import progressbar\n",
    "bar = progressbar.ProgressBar(maxval=len(df_), \\\n",
    "    widgets=[progressbar.Bar('=', '[', ']'), ' ', progressbar.Percentage()])\n",
    "bar.start()\n",
    "tracker_=0\n",
    "\n",
    "gene_dfs = []\n",
    "\n",
    "genes_df = pd.DataFrame()\n",
    "sample_list = pd.DataFrame(adata.obs['sample'].unique())\n",
    "\n",
    "for celltype in celltype_:\n",
    "    df2 = df_[df_['cell_type_final'] == celltype]\n",
    "    genes_df = pd.DataFrame()\n",
    "    for gene_ in marker_genes:\n",
    "        temp = df2.groupby('ZT')[gene_].mean()\n",
    "        temp_df = pd.DataFrame(temp)\n",
    "        genes_df = pd.concat([genes_df, temp_df], axis = 1)\n",
    "    tracker_ +=1\n",
    "    bar.update(tracker_)\n",
    "    gene_dfs.append(genes_df)\n",
    "\n",
    "import xlsxwriter\n",
    "writer = pd.ExcelWriter(f'csv/{name_dir}/{name_dir}4_gene_dfs.xlsx', engine='xlsxwriter')\n",
    "for j in range(0,len(gene_dfs)):\n",
    "    gene_dfs[j].to_excel(writer, sheet_name=celltype_[j], index=True)\n",
    "writer.close()\n"
   ]
  },
  {
   "cell_type": "code",
   "execution_count": null,
   "metadata": {},
   "outputs": [],
   "source": []
  },
  {
   "cell_type": "code",
   "execution_count": null,
   "id": "bea858eb-9f4d-42e8-899c-e9609e853808",
   "metadata": {},
   "outputs": [],
   "source": [
    "# adata = sc.read_h5ad(f\"{dir_notebook}/h5ad/{name_dir}/{name_dir}_MMC_Banksy_annotated_automap.h5ad.gz\")\n",
    "adata_norm = sc.read_h5ad(f\"{dir_notebook}/h5ad/{name_dir}/{name_dir}_MMC_norm.h5ad.gz\")\n"
   ]
  },
  {
   "cell_type": "code",
   "execution_count": null,
   "id": "cca91f42-70a3-4fd8-9f5b-a69ea84567a7",
   "metadata": {},
   "outputs": [],
   "source": [
    "len(adata_norm), len(adata)"
   ]
  },
  {
   "cell_type": "code",
   "execution_count": null,
   "id": "6f3f67b5",
   "metadata": {},
   "outputs": [],
   "source": [
    "adata.obs.head()"
   ]
  },
  {
   "cell_type": "code",
   "execution_count": null,
   "id": "ae0f2606-c21f-45f4-a407-35dff0caf66c",
   "metadata": {},
   "outputs": [],
   "source": [
    "# adata_norm = adata2\n",
    "df = pd.DataFrame(data=adata.X.toarray(), index=adata.obs_names, columns=adata.var_names)\n",
    "df['cell_id'] = df.index\n",
    "\n",
    "from module.xenium_preprocessing import add_annotations\n",
    "\n",
    "df = add_annotations(adata, df)"
   ]
  },
  {
   "cell_type": "code",
   "execution_count": null,
   "id": "d34c1bf3-37dd-44f2-b9bb-c48a68a25cb9",
   "metadata": {},
   "outputs": [],
   "source": [
    "df.to_parquet(f\"{dir_notebook}/csv/{name_dir}/{name_dir}_norm_combined.parquet\")"
   ]
  },
  {
   "cell_type": "code",
   "execution_count": null,
   "id": "f043b551",
   "metadata": {},
   "outputs": [],
   "source": [
    "df = pd.read_parquet(f\"{dir_notebook}/csv/{name_dir}/{name_dir}_norm_combined.parquet\")"
   ]
  },
  {
   "cell_type": "code",
   "execution_count": null,
   "id": "8f346eb4",
   "metadata": {},
   "outputs": [],
   "source": [
    "celltype_ = adata.obs['cell_type_final'].unique()\n",
    "# celltype_ = adata.obs['cell_type_final'].unique()[0:1]\n",
    "gene_dfs = []\n",
    "# df2 = df\n",
    "marker_genes = adata_norm.var.index\n",
    "genes_df = pd.DataFrame()\n",
    "sample_list = pd.DataFrame(adata.obs['sample'].unique())\n",
    "\n",
    "for celltype in celltype_:\n",
    "    df2 = df[df['cell_type_final'] == celltype]\n",
    "    genes_df = pd.DataFrame()\n",
    "    for gene_ in marker_genes:\n",
    "        temp = df2.groupby('sample')[gene_].mean()\n",
    "        temp_df = pd.DataFrame(temp)\n",
    "        genes_df = pd.concat([genes_df, temp_df], axis = 1)\n",
    "    gene_dfs.append(genes_df)\n",
    "\n",
    "\n",
    "import xlsxwriter\n",
    "writer = pd.ExcelWriter(f'csv/{name_dir}/{name_dir}_gene_dfs.xlsx', engine='xlsxwriter')\n",
    "for j in range(0,len(gene_dfs)):\n",
    "    gene_dfs[j].to_excel(writer, sheet_name=celltype_[j], index=False)\n",
    "\n",
    "writer.close()"
   ]
  },
  {
   "cell_type": "markdown",
   "id": "ae48a22d-45c1-4465-9ca0-9efb8d894d58",
   "metadata": {},
   "source": [
    "## Extract score, FC, p-value for each genes, compared to other clusters"
   ]
  },
  {
   "cell_type": "code",
   "execution_count": null,
   "id": "53459f90-6dd1-4ff1-8534-26e9cbf5e011",
   "metadata": {
    "scrolled": true
   },
   "outputs": [],
   "source": [
    "### Extract gene expression per cluster + log fold change + p-value\n",
    "\n",
    "cluster_to_use = 'sample'\n",
    "# cluster_to_use = 'Genotype'\n",
    "\n",
    "adata2.obs[cluster_to_use] = adata2.obs[cluster_to_use].astype(str)\n",
    "#sc.tl.dendrogram(adata, groupby = 'L04_newnum_subclassname')\n",
    "sc.tl.rank_genes_groups(adata2, groupby=cluster_to_use, method=\"wilcoxon\", tie_correct = True)\n",
    "\n",
    "# sc.pl.rank_genes_groups_dotplot(adata2, groupby=cluster_to_use, standard_scale=\"var\", n_genes=5)\n",
    "a_ = 0\n",
    "bar = progressbar.ProgressBar(maxval=len(all_celltype), \\\n",
    "    widgets=[progressbar.Bar('=', '[', ']'), ' ', progressbar.Percentage()])\n",
    "bar.start()\n",
    "\n",
    "dat = pd.DataFrame()\n",
    "for i in adata2.obs[cluster_to_use].unique():\n",
    "    print(f\"Cluster {i}\")\n",
    "    dat1 = sc.get.rank_genes_groups_df(adata2, group=str(i))\n",
    "    dat1['group'] = i\n",
    "    dat = pd.concat([dat, dat1])\n",
    "    a_ +=1\n",
    "    bar.update(a_+1)\n",
    "\n",
    "bar.finish()\n",
    "\n",
    "### Extract not-normalized expression and clusters for individual cells\n",
    "if not os.path.exists(f\"{dir_notebook}/csv/{name_dir}/\"):\n",
    "   os.makedirs(f\"{dir_notebook}/csv/{name_dir}/\")\n",
    "dat.to_csv(f\"{dir_notebook}/csv/{name_dir}/{name_dir}_clusters_foldchange_allbrain.csv\")"
   ]
  },
  {
   "cell_type": "code",
   "execution_count": null,
   "id": "b63e441f",
   "metadata": {},
   "outputs": [],
   "source": [
    "dict_type = dict(zip(adata.obs['cell_type_final'],adata.obs['cell_type_final']))"
   ]
  },
  {
   "cell_type": "code",
   "execution_count": null,
   "id": "f7e76659",
   "metadata": {},
   "outputs": [],
   "source": [
    "all_cell_type = adata.obs['cell_class'].unique()\n",
    "list_cell_nb = range(0, len(all_cell_type))\n",
    "mapping_dict = dict(zip(all_cell_type,list_cell_nb))\n",
    "adata.obs['cell_class_newnum'] = adata.obs['cell_class'].map(mapping_dict)\n",
    "mapping_dict"
   ]
  },
  {
   "cell_type": "code",
   "execution_count": null,
   "id": "26fdeb83",
   "metadata": {},
   "outputs": [],
   "source": [
    "mapping_dict = {\n",
    "    'VMH': 'VMH',\n",
    " 'VLMC': 'VLMC',\n",
    " 'HY': 'HY',\n",
    " 'ARH': 'ARH',\n",
    " 'Ependymal': 'Ependymal',\n",
    " 'TH': 'TH',\n",
    " 'MB': 'MB',\n",
    " 'AMY': 'AMY',\n",
    " 'STR': 'STR',\n",
    " 'CTX': 'CTX',\n",
    " 'MH': 'MH',\n",
    " 'LH': 'LH',\n",
    " 'HIPP': 'HIPP',\n",
    " 'NLOT': 'NLOT',\n",
    " 'LSX': 'LSX',\n",
    " 'SCH': 'SCH',\n",
    " 'MM': 'MM',\n",
    " 'SC': 'SC'\n",
    " }\n",
    "adata.obs['region_automap_name2'] = adata.obs['region_automap_name'].apply(lambda x: mapping_dict[x] if x in mapping_dict else \"WM\")"
   ]
  },
  {
   "cell_type": "markdown",
   "id": "ff7637a3",
   "metadata": {},
   "source": [
    "## Extract cell population comparison"
   ]
  },
  {
   "cell_type": "code",
   "execution_count": null,
   "id": "5e871275",
   "metadata": {},
   "outputs": [],
   "source": [
    "adata_region = adata[adata.obs['region_automap_name'] == 'SCH']"
   ]
  },
  {
   "cell_type": "code",
   "execution_count": null,
   "id": "6ed354d6",
   "metadata": {},
   "outputs": [],
   "source": [
    "# adata_region.obs.groupby('Genotype', as_index=False)['cell_type_final'].value_counts(normalize=False)\n",
    "df_t = adata_region.obs.groupby('sample', as_index=False)[['Genotype','cell_type_final']].value_counts(normalize=False)\n",
    "adata_region.obs.value_counts(['Genotype','cell_type_final',], normalize=False)\n"
   ]
  },
  {
   "cell_type": "code",
   "execution_count": null,
   "id": "2e1965b2",
   "metadata": {},
   "outputs": [],
   "source": [
    "df_t.to_csv(f'csv/{name_dir}/{name_dir}_SCH_cellpop.csv')"
   ]
  },
  {
   "cell_type": "markdown",
   "id": "df299811",
   "metadata": {},
   "source": [
    "### Not sure what it is for... to recheck later"
   ]
  },
  {
   "cell_type": "code",
   "execution_count": null,
   "id": "46214e6c",
   "metadata": {},
   "outputs": [],
   "source": [
    "test = df.groupby('run')['Cry1'].mean()\n",
    "df['Per2'][0] == int(df['Per2'][0])"
   ]
  },
  {
   "cell_type": "code",
   "execution_count": null,
   "id": "9758bfa6",
   "metadata": {},
   "outputs": [],
   "source": [
    "df2=df[df['run']=='circa2']\n",
    "test2 = df2.groupby('run')['Cry1'].mean()\n",
    "test_df2 = pd.DataFrame(test2)\n",
    "\n",
    "for gene in df2.columns:\n",
    "    if df2[gene][0] == int(df2[gene][0]):\n",
    "        temp = df2.groupby('sample')[gene].mean()\n",
    "        test_df2[gene] = temp"
   ]
  },
  {
   "cell_type": "code",
   "execution_count": null,
   "id": "f665e0ee",
   "metadata": {},
   "outputs": [],
   "source": [
    "import pandas as pd\n",
    "test_df = pd.DataFrame(test)\n",
    "test_df"
   ]
  },
  {
   "cell_type": "code",
   "execution_count": null,
   "id": "bcff6a14",
   "metadata": {},
   "outputs": [],
   "source": [
    "for gene in df.columns:\n",
    "    if df[gene][0] == int(df[gene][0]):\n",
    "        temp = df.groupby('run')[gene].mean()\n",
    "        test_df[gene] = temp"
   ]
  },
  {
   "cell_type": "code",
   "execution_count": null,
   "id": "e6e8929e",
   "metadata": {},
   "outputs": [],
   "source": [
    "adata.obs['run']"
   ]
  },
  {
   "cell_type": "code",
   "execution_count": null,
   "id": "6dd86f36",
   "metadata": {},
   "outputs": [],
   "source": [
    "test_df_T = test_df.T\n",
    "test_df_T['diff'] = test_df_T['circa4'] / test_df_T['circa2'] * 100\n",
    "test_df_T"
   ]
  },
  {
   "cell_type": "code",
   "execution_count": null,
   "id": "8184af2a",
   "metadata": {},
   "outputs": [],
   "source": []
  },
  {
   "cell_type": "code",
   "execution_count": null,
   "id": "ad054996",
   "metadata": {},
   "outputs": [],
   "source": [
    "df2_T = df2.T\n",
    "df2_melt = df2_T.melt()\n",
    "df2_melt"
   ]
  },
  {
   "cell_type": "code",
   "execution_count": null,
   "id": "516d13c2",
   "metadata": {},
   "outputs": [],
   "source": [
    "sns.kdeplot(df2_melt, hue='sample', x='value')"
   ]
  },
  {
   "cell_type": "code",
   "execution_count": null,
   "id": "9129f4be",
   "metadata": {},
   "outputs": [],
   "source": [
    "sns.histplot(test_df_T['circa2'], kde = True)\n",
    "sns.histplot(test_df_T['circa4'])"
   ]
  },
  {
   "cell_type": "code",
   "execution_count": null,
   "id": "53747f74",
   "metadata": {},
   "outputs": [],
   "source": [
    "sns.histplot(test_df_T['diff'], density = True, bins = 100)\n",
    "plt.yscale('log')"
   ]
  },
  {
   "cell_type": "code",
   "execution_count": null,
   "id": "8d0e0c6c",
   "metadata": {},
   "outputs": [],
   "source": [
    "df.columns"
   ]
  },
  {
   "cell_type": "code",
   "execution_count": null,
   "id": "ca3ef395",
   "metadata": {},
   "outputs": [],
   "source": [
    "df[df['cell_type_final']=='MH Glut'].groupby('sample')['cell_type_final'].value_counts()"
   ]
  },
  {
   "cell_type": "code",
   "execution_count": null,
   "id": "4b96e1a7",
   "metadata": {},
   "outputs": [],
   "source": [
    "adata.obsm['X_pca'].shape"
   ]
  },
  {
   "cell_type": "code",
   "execution_count": null,
   "id": "88abe2c2",
   "metadata": {},
   "outputs": [],
   "source": [
    "dict_co = {'circa2':'red',\n",
    "           'circa4':\"blue\"}\n",
    "\n",
    "adata.obs['color'] = adata.obs['run'].map(dict_co)\n",
    "\n",
    "plt.figure(figsize=(20,20))\n",
    "plt.scatter(x= adata.obsm['X_umap'][:,0], y=adata.obsm['X_umap'][:,1], s=0.01, c=adata.obs['color'], alpha =0.5)"
   ]
  },
  {
   "cell_type": "code",
   "execution_count": null,
   "id": "9ada42a1",
   "metadata": {},
   "outputs": [],
   "source": [
    "test = df[df['cell_type_final']=='STR'].groupby('sample')['Gad1'].mean()\n",
    "plt.bar(x=test.index, height = test.values)\n",
    "plt.tick_params(axis = 'x', rotation = 90)"
   ]
  },
  {
   "cell_type": "code",
   "execution_count": null,
   "id": "04c37fca",
   "metadata": {},
   "outputs": [],
   "source": [
    "plt.hist(adata.obs['circascore'], bins=12, density = True)"
   ]
  },
  {
   "cell_type": "code",
   "execution_count": null,
   "id": "9f81347d",
   "metadata": {},
   "outputs": [],
   "source": [
    "### Correlation map\n",
    "# cont_tab = pd.crosstab(adata.obs['circascore'], adata.obs['cell_type_final'], normalize=\"index\")\n",
    "# cont_tab = cont_tab.loc[:, cont_tab.sum(axis=0) > 0.1] \n",
    "plt.figure(figsize=(20  , 20))\n",
    "sns.heatmap(cont_tab.T, annot=True, cmap=\"YlGnBu\", fmt=\".2f\", cbar = False)"
   ]
  },
  {
   "cell_type": "code",
   "execution_count": null,
   "id": "f74f750a",
   "metadata": {},
   "outputs": [],
   "source": [
    "adata.obs['region_automap_name'].value_counts()"
   ]
  },
  {
   "cell_type": "code",
   "execution_count": null,
   "id": "f054b512",
   "metadata": {},
   "outputs": [],
   "source": [
    "region = gpd.read_file(f'coordinates/Region_prediction/Xenium-data-coordinates-filtered_circa2-ZT01.geojson')"
   ]
  },
  {
   "cell_type": "code",
   "execution_count": null,
   "id": "27c08b57",
   "metadata": {},
   "outputs": [],
   "source": [
    "region['area']=region.area"
   ]
  },
  {
   "cell_type": "code",
   "execution_count": null,
   "id": "ab1bbee5",
   "metadata": {},
   "outputs": [],
   "source": [
    "region[['cell_type_newnum_final','area']]"
   ]
  },
  {
   "cell_type": "code",
   "execution_count": null,
   "id": "3c04b594",
   "metadata": {},
   "outputs": [],
   "source": [
    "adata.obs[adata.obs['region_automap_name']=='WM']"
   ]
  },
  {
   "cell_type": "markdown",
   "id": "1fba59d1",
   "metadata": {},
   "source": [
    "# Test Spaco (opti color)"
   ]
  },
  {
   "cell_type": "code",
   "execution_count": null,
   "id": "a40704b5",
   "metadata": {},
   "outputs": [],
   "source": [
    "import spaco"
   ]
  },
  {
   "cell_type": "code",
   "execution_count": null,
   "id": "c00ad2f4",
   "metadata": {},
   "outputs": [],
   "source": [
    "adata2"
   ]
  },
  {
   "cell_type": "code",
   "execution_count": null,
   "id": "c238f4fe",
   "metadata": {},
   "outputs": [],
   "source": [
    "adata2 = adata[adata.obs['sample']==\"3159-1\"].copy()\n",
    "adata2.obsm['spatial']=adata2.obsm['coord_xy'].copy()"
   ]
  },
  {
   "cell_type": "code",
   "execution_count": null,
   "id": "baf8e52c",
   "metadata": {},
   "outputs": [],
   "source": [
    "sc.set_figure_params(figsize=(10,15), facecolor=\"white\", dpi_save=300)\n",
    "sc.pl.spatial(adata2, color=\"region_automap_name\", spot_size=15, palette = \"tab20\")\n",
    "\n",
    "palette_default = adata2.uns['region_automap_name_colors'].copy()\n",
    "sns.palplot(palette_default)"
   ]
  },
  {
   "cell_type": "code",
   "execution_count": null,
   "id": "0a7d21fe",
   "metadata": {},
   "outputs": [],
   "source": [
    "# Get optimized color-cluster assignment with Spaco\n",
    "color_mapping = spaco.colorize(\n",
    "    cell_coordinates=adata2.obsm['spatial'],\n",
    "    cell_labels=adata2.obs['region_automap_name'],\n",
    "    colorblind_type=\"none\",\n",
    "    radius=0.05, # radius is related to the physical scaling of .obsm['spatial']\n",
    "    n_neighbors=30,\n",
    "    palette=palette_default, # if `palette` is specified, the `colorize` function only refines the assignment.\n",
    ")\n",
    "\n",
    "color_mapping"
   ]
  },
  {
   "cell_type": "code",
   "execution_count": null,
   "id": "aa997687",
   "metadata": {},
   "outputs": [],
   "source": [
    "# Get visualization with optimized color assignment\n",
    "color_mapping = {k: color_mapping[k] for k in adata2.obs['region_automap_name'].cat.categories}\n",
    "\n",
    "# Set new colors for adata\n",
    "palette_spaco = list(color_mapping.values())\n",
    "\n",
    "# Spaco colorization\n",
    "sc.pl.spatial(adata2, color=\"region_automap_name\", spot_size=15, palette=palette_spaco)\n",
    "sns.palplot(palette_spaco)"
   ]
  },
  {
   "cell_type": "code",
   "execution_count": null,
   "id": "c2c7fa8a",
   "metadata": {},
   "outputs": [],
   "source": [
    "pd.set_option('display.max_rows', 250)"
   ]
  },
  {
   "cell_type": "code",
   "execution_count": null,
   "id": "354059cf",
   "metadata": {},
   "outputs": [],
   "source": [
    "df.to_parquet(f\"{dir_notebook}/csv/{name_dir}/{name_dir}_final.parquet\")"
   ]
  },
  {
   "cell_type": "code",
   "execution_count": null,
   "metadata": {},
   "outputs": [],
   "source": []
  },
  {
   "cell_type": "code",
   "execution_count": null,
   "id": "9f0f7b46",
   "metadata": {},
   "outputs": [],
   "source": [
    "df = pd.DataFrame(data=adata.X.toarray(), index=adata.obs_names, columns=adata.var_names)\n",
    "\n",
    "from module.xenium_preprocessing import add_annotations\n",
    "df = add_annotations(adata,df)"
   ]
  },
  {
   "cell_type": "code",
   "execution_count": null,
   "metadata": {},
   "outputs": [],
   "source": []
  },
  {
   "cell_type": "code",
   "execution_count": null,
   "metadata": {},
   "outputs": [],
   "source": []
  },
  {
   "cell_type": "code",
   "execution_count": null,
   "metadata": {},
   "outputs": [],
   "source": []
  },
  {
   "cell_type": "code",
   "execution_count": null,
   "metadata": {},
   "outputs": [],
   "source": []
  },
  {
   "cell_type": "code",
   "execution_count": null,
   "metadata": {},
   "outputs": [],
   "source": []
  },
  {
   "cell_type": "code",
   "execution_count": null,
   "metadata": {},
   "outputs": [],
   "source": []
  },
  {
   "cell_type": "code",
   "execution_count": null,
   "metadata": {},
   "outputs": [],
   "source": []
  },
  {
   "cell_type": "code",
   "execution_count": null,
   "metadata": {},
   "outputs": [],
   "source": []
  },
  {
   "cell_type": "code",
   "execution_count": null,
   "metadata": {},
   "outputs": [],
   "source": []
  },
  {
   "cell_type": "code",
   "execution_count": null,
   "metadata": {},
   "outputs": [],
   "source": []
  },
  {
   "cell_type": "code",
   "execution_count": null,
   "metadata": {},
   "outputs": [],
   "source": []
  },
  {
   "cell_type": "code",
   "execution_count": null,
   "metadata": {},
   "outputs": [],
   "source": []
  },
  {
   "cell_type": "code",
   "execution_count": null,
   "metadata": {},
   "outputs": [],
   "source": []
  },
  {
   "cell_type": "code",
   "execution_count": null,
   "metadata": {},
   "outputs": [],
   "source": []
  },
  {
   "cell_type": "code",
   "execution_count": null,
   "metadata": {},
   "outputs": [],
   "source": []
  },
  {
   "cell_type": "code",
   "execution_count": null,
   "metadata": {},
   "outputs": [],
   "source": []
  },
  {
   "cell_type": "code",
   "execution_count": null,
   "metadata": {},
   "outputs": [],
   "source": []
  },
  {
   "cell_type": "code",
   "execution_count": null,
   "metadata": {},
   "outputs": [],
   "source": []
  },
  {
   "cell_type": "code",
   "execution_count": null,
   "metadata": {},
   "outputs": [],
   "source": []
  },
  {
   "cell_type": "code",
   "execution_count": null,
   "metadata": {},
   "outputs": [],
   "source": []
  },
  {
   "cell_type": "code",
   "execution_count": null,
   "metadata": {},
   "outputs": [],
   "source": []
  },
  {
   "cell_type": "code",
   "execution_count": null,
   "metadata": {},
   "outputs": [],
   "source": []
  },
  {
   "cell_type": "code",
   "execution_count": null,
   "id": "9d220043",
   "metadata": {},
   "outputs": [],
   "source": [
    "run_ = 'circa2'\n",
    "\n",
    "if run_ == 'circa2':\n",
    "    df_ = df[df['run']=='circa2']\n",
    "    celltypes_ = df_['cell_type_final'].unique()\n",
    "elif run_ == 'circa4':\n",
    "    df_ = df[df['run']=='circa4']\n",
    "    celltypes_ = df_['cell_type_final'].unique()\n",
    "else:\n",
    "    print('Wrong run info')\n",
    "\n",
    "\n",
    "marker_genes = adata.var.index ### Extract all genes. If you want a selected list, use genes_list() (module.misc)\n",
    "\n",
    "\n",
    "import progressbar\n",
    "bar = progressbar.ProgressBar(maxval=len(df_), \\\n",
    "    widgets=[progressbar.Bar('=', '[', ']'), ' ', progressbar.Percentage()])\n",
    "bar.start()\n",
    "tracker_=0\n",
    "\n",
    "gene_dfs = []\n",
    "\n",
    "genes_df = pd.DataFrame()\n",
    "sample_list = pd.DataFrame(adata.obs['sample'].unique())\n",
    "\n",
    "for celltype in celltype_:\n",
    "    df2 = df_[df_['cell_type_final'] == celltype]\n",
    "    genes_df = pd.DataFrame()\n",
    "    for gene_ in marker_genes:\n",
    "        temp = df2.groupby('ZT')[gene_].mean()\n",
    "        temp_df = pd.DataFrame(temp)\n",
    "        genes_df = pd.concat([genes_df, temp_df], axis = 1)\n",
    "    tracker_ +=1\n",
    "    bar.update(tracker_)\n",
    "    gene_dfs.append(genes_df)\n",
    "\n",
    "import xlsxwriter\n",
    "writer = pd.ExcelWriter(f'csv/{name_dir}/{name_dir}4_gene_dfs.xlsx', engine='xlsxwriter')\n",
    "for j in range(0,len(gene_dfs)):\n",
    "    gene_dfs[j].to_excel(writer, sheet_name=celltype_[j], index=True)\n",
    "writer.close()\n"
   ]
  }
 ],
 "metadata": {
  "kernelspec": {
   "display_name": "Python 3",
   "language": "python",
   "name": "python3"
  },
  "language_info": {
   "codemirror_mode": {
    "name": "ipython",
    "version": 3
   },
   "file_extension": ".py",
   "mimetype": "text/x-python",
   "name": "python",
   "nbconvert_exporter": "python",
   "pygments_lexer": "ipython3",
   "version": "3.11.3"
  }
 },
 "nbformat": 4,
 "nbformat_minor": 5
}
