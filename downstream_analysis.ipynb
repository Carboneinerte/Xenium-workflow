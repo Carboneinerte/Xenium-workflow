{
 "cells": [
  {
   "cell_type": "code",
   "execution_count": null,
   "id": "a47190a8",
   "metadata": {},
   "outputs": [],
   "source": [
    "import pandas as pd"
   ]
  },
  {
   "cell_type": "code",
   "execution_count": null,
   "id": "59492abc",
   "metadata": {},
   "outputs": [],
   "source": [
    "df_circa2 = pd.read_excel('data/cyc_analysis_nonzero_circa2.xlsx', sheet_name = 'sig_cyl_gene')\n",
    "df_circa4 = pd.read_excel('data/cyc_analysis_nonzero_circa4.xlsx', sheet_name = 'sig_cyl_gene')"
   ]
  },
  {
   "cell_type": "code",
   "execution_count": null,
   "id": "21826b48",
   "metadata": {},
   "outputs": [],
   "source": [
    "circa4_gene = set(df_circa4['CycID'])\n",
    "circa2_gene = set(df_circa2['CycID'])"
   ]
  },
  {
   "cell_type": "code",
   "execution_count": null,
   "id": "8052b1b3",
   "metadata": {},
   "outputs": [],
   "source": [
    "common_genes = circa4_gene.intersection(circa2_gene)"
   ]
  },
  {
   "cell_type": "code",
   "execution_count": null,
   "id": "fd4ad158",
   "metadata": {},
   "outputs": [],
   "source": [
    "len(common_genes), len(circa4_gene),len(circa2_gene)"
   ]
  },
  {
   "cell_type": "code",
   "execution_count": null,
   "id": "5e16fbd5",
   "metadata": {},
   "outputs": [],
   "source": [
    "# library\n",
    "import matplotlib.pyplot as plt\n",
    "from matplotlib_venn import venn2\n",
    "\n",
    "# Use the venn2 function\n",
    "venn2(subsets = (1449, 846, 560), set_labels = ('IGM', 'Salk'))\n",
    "plt.show()\n"
   ]
  },
  {
   "cell_type": "markdown",
   "id": "1f1396c5",
   "metadata": {},
   "source": [
    "### Polar plot"
   ]
  },
  {
   "cell_type": "code",
   "execution_count": null,
   "id": "aed5ab68",
   "metadata": {},
   "outputs": [],
   "source": [
    "import pandas as pd\n",
    "import matplotlib.pyplot as plt\n",
    "import seaborn as sns\n",
    "import numpy as np\n",
    "\n",
    "# Sample structure: replace this with your real data\n",
    "# Each row = one observation of a gene at a specific phase\n",
    "data = pd.DataFrame({\n",
    "                    'Gene': ['Arntl', 'Clock', 'Cry1', 'Cry2','Npas2', 'Nr1d1', 'Per2', 'Per3','Rorc',\n",
    "                            'Arntl','Clock','Cry1','Nr1d1','Per1','Per2','Per3','Rorc'\n",
    "                            ],\n",
    "                    'Phase': [1.00, 8.38, 15.31, 12.89, 22.56, 8.96,15.30,13.06,16.54,\n",
    "                              1.00, 3.15, 16.75, 9.02, 11.92, 16.23, 14.17, 17.06\n",
    "                            ]\n",
    "                    })\n",
    "\n",
    "# Convert phase to radians for polar plot\n",
    "data['Radians'] = data['Phase'] / 24 * 2 * np.pi\n",
    "\n",
    "# Assign each gene a numeric ID for radial position (distance from center)\n",
    "gene_order = data['Gene'].unique()\n",
    "gene_to_radius = {gene: i for i, gene in enumerate(gene_order, start=1)}\n",
    "data['Radius'] = data['Gene'].map(gene_to_radius)\n",
    "\n",
    "# Color palette\n",
    "palette = sns.color_palette(\"hls\", len(gene_order))\n",
    "gene_colors = dict(zip(gene_order, palette))\n",
    "data['Color'] = data['Gene'].map(gene_colors)\n",
    "\n",
    "# Plot\n",
    "plt.figure(figsize=(6,6))\n",
    "ax = plt.subplot(111, polar=True)\n",
    "ax.set_theta_direction(-1)\n",
    "ax.set_theta_offset(np.pi / 2.0)\n",
    "ax.grid(True)\n",
    "\n",
    "# Scatter plot\n",
    "for gene in gene_order:\n",
    "    subset = data[data['Gene'] == gene]\n",
    "    ax.scatter(subset['Radians'], subset['Radius'], label=gene, color=gene_colors[gene], s=40)\n",
    "\n",
    "ax.set_yticks(range(1, len(gene_order) + 1))\n",
    "ax.set_yticklabels(gene_order)\n",
    "ax.set_ylim(0.5, len(gene_order) + 0.5)\n",
    "ax.set_xticks(np.linspace(0, 2 * np.pi, 6, endpoint=False))\n",
    "ax.set_xticklabels(['0', '4', '8', '12', '16', '20'])\n",
    "\n",
    "plt.title('Clock Genes Phase')\n",
    "ax.legend(bbox_to_anchor=(1.1, 1.0), loc=\"upper left\", title='Gene')\n",
    "\n",
    "plt.tight_layout()\n",
    "plt.show()"
   ]
  },
  {
   "cell_type": "markdown",
   "id": "fcffda67",
   "metadata": {},
   "source": [
    "### Cell type spe polar"
   ]
  },
  {
   "cell_type": "code",
   "execution_count": null,
   "id": "4e3e0814",
   "metadata": {},
   "outputs": [],
   "source": [
    "import pandas as pd\n",
    "df = pd.read_excel('data/circa2_cyc_siggene_analysis_celltype.xlsx', sheet_name=None)"
   ]
  },
  {
   "cell_type": "code",
   "execution_count": null,
   "id": "363d88e1",
   "metadata": {},
   "outputs": [],
   "source": [
    "clockgenelist=['Arntl', 'Clock', 'Cry1', 'Cry2', 'Npas2', 'Nr1d1', 'Per1', 'Per2', 'Per3', 'Rora', 'Rorb', 'Rorc']\n",
    "dataset = pd.DataFrame()\n",
    "for key in df.keys():\n",
    "    subdf = df[key].filter(['CycID', 'meta2d_phase'], axis=1)\n",
    "    subdf = subdf[subdf['CycID'].isin(clockgenelist)]\n",
    "    dataset = pd.concat([dataset, subdf])"
   ]
  },
  {
   "cell_type": "code",
   "execution_count": null,
   "id": "107d19c5",
   "metadata": {},
   "outputs": [],
   "source": [
    "all_celltype_CG = dict(zip(dataset['CycID'], dataset['meta2d_phase']))"
   ]
  },
  {
   "cell_type": "code",
   "execution_count": null,
   "id": "d862b31b",
   "metadata": {},
   "outputs": [],
   "source": [
    "import pandas as pd\n",
    "import matplotlib.pyplot as plt\n",
    "import seaborn as sns\n",
    "import numpy as np\n",
    "\n",
    "# Sample structure: replace this with your real data\n",
    "# Each row = one observation of a gene at a specific phase\n",
    "data = pd.DataFrame({\n",
    "                    'Gene': dataset['CycID'],\n",
    "                    'Phase': dataset['meta2d_phase']\n",
    "                    })\n",
    "data = data.sort_values('Gene')\n",
    "\n",
    "# Convert phase to radians for polar plot\n",
    "data['Radians'] = data['Phase'] / 24 * 2 * np.pi\n",
    "\n",
    "# Assign each gene a numeric ID for radial position (distance from center)\n",
    "gene_order = data['Gene'].unique()\n",
    "gene_to_radius = {gene: i for i, gene in enumerate(gene_order, start=1)}\n",
    "data['Radius'] = data['Gene'].map(gene_to_radius)\n",
    "\n",
    "# Color palette\n",
    "palette = sns.color_palette(\"hls\", len(gene_order))\n",
    "gene_colors = dict(zip(gene_order, palette))\n",
    "data['Color'] = data['Gene'].map(gene_colors)\n",
    "\n",
    "# Plot\n",
    "plt.figure(figsize=(6,6))\n",
    "ax = plt.subplot(111, polar=True)\n",
    "ax.set_theta_direction(-1)\n",
    "ax.set_theta_offset(np.pi / 2.0)\n",
    "ax.grid(True)\n",
    "\n",
    "# Scatter plot\n",
    "for gene in gene_order:\n",
    "    subset = data[data['Gene'] == gene]\n",
    "    ax.scatter(subset['Radians'], subset['Radius'], label=gene, color=gene_colors[gene], s=40)\n",
    "\n",
    "# # for gene in gene_order:\n",
    "# gene = 'Per1'\n",
    "# subset = data[data['Gene'] == gene]\n",
    "# ax.hist(subset['Radians'], subset['Radius'], label=gene, color=gene_colors[gene])  \n",
    "\n",
    "\n",
    "# ax.set_yticks(range(1, len(gene_order) + 1))\n",
    "# ax.set_yticklabels(gene_order)\n",
    "# ax.set_ylim(0.5, len(gene_order) + 0.5)\n",
    "ax.set_xticks(np.linspace(0, 2 * np.pi, 6, endpoint=False))\n",
    "ax.set_xticklabels(['0', '4', '8', '12', '16', '20'])\n",
    "\n",
    "plt.title('Clock Genes Phase')\n",
    "ax.legend(bbox_to_anchor=(1.1, 1.0), loc=\"upper left\")\n",
    "\n",
    "\n",
    "plt.tight_layout()\n",
    "plt.show()"
   ]
  },
  {
   "cell_type": "code",
   "execution_count": null,
   "id": "5e433289",
   "metadata": {},
   "outputs": [],
   "source": []
  },
  {
   "cell_type": "code",
   "execution_count": null,
   "id": "9bec2725",
   "metadata": {},
   "outputs": [],
   "source": [
    "import pandas as pd\n",
    "df_all = pd.read_excel('data/circa2_cyc_siggene_analysis_.xlsx', sheet_name=None)"
   ]
  },
  {
   "cell_type": "code",
   "execution_count": null,
   "id": "d0c1f835",
   "metadata": {},
   "outputs": [],
   "source": [
    "for idx, celltype in enumerate(df_all.keys()):\n",
    "\n",
    "    # Data preparation\n",
    "    df = pd.DataFrame(data=zip(df_all[celltype]['CycID'], df_all[celltype]['meta2d_phase']))\n",
    "    df.columns = ['Gene','Phase']\n",
    "    df['Radians'] = df['Phase'] / 24 * 2 * np.pi\n",
    "\n",
    "    # Plot\n",
    "    plt.figure(figsize=(6,6))\n",
    "    ax = plt.subplot(111, polar=True)\n",
    "    ax.set_theta_direction(-1)\n",
    "    ax.set_theta_offset(np.pi / 2.0)\n",
    "    ax.grid(True)\n",
    "\n",
    "    ax.hist(df['Radians'], bins = 24)\n",
    "\n",
    "    ax.set_xticks(np.linspace(0, 2 * np.pi, 6, endpoint=False))\n",
    "    ax.set_xticklabels(['0', '4', '8', '12', '16', '20'])\n",
    "\n",
    "    plt.title(f'Genes Phase in {celltype}')\n",
    "    plt.savefig(f'Gallery/circa2/polar_gene_{celltype}.svg')\n"
   ]
  },
  {
   "cell_type": "code",
   "execution_count": null,
   "id": "29a0f25c",
   "metadata": {},
   "outputs": [],
   "source": []
  },
  {
   "cell_type": "code",
   "execution_count": null,
   "id": "c50cc5a9",
   "metadata": {},
   "outputs": [],
   "source": []
  },
  {
   "cell_type": "code",
   "execution_count": null,
   "id": "9aea60f8",
   "metadata": {},
   "outputs": [],
   "source": [
    "import pandas as pd\n",
    "region = 'CTX'\n",
    "df_all = pd.read_excel(f'data/{region}_cyc_analysis.xlsx', sheet_name='sig_cyl_gene')\n",
    "\n",
    "# Data preparation\n",
    "df = pd.DataFrame(data=zip(df_all['CycID'], df_all['meta2d_phase']))\n",
    "df.columns = ['Gene','Phase']\n",
    "# df = df[df['Gene'].isin(mito_genes)]\n",
    "df['Radians'] = df['Phase'] / 24 * 2 * np.pi\n",
    "\n",
    "# Plot\n",
    "plt.figure(figsize=(6,6))\n",
    "ax = plt.subplot(111, polar=True)\n",
    "ax.set_theta_direction(-1)\n",
    "ax.set_theta_offset(np.pi / 2.0)\n",
    "ax.grid(True)\n",
    "\n",
    "ax.hist(df['Radians'], bins = 24,\n",
    "        #  color = 'green'\n",
    "         )\n",
    "\n",
    "ax.set_xticks(np.linspace(0, 2 * np.pi, 12, endpoint=False))\n",
    "ax.set_xticklabels(['0', '2', '4','6', '8', '10','12','14', '16','18', '20','22'])\n",
    "\n",
    "plt.title(f'Genes Phase in {region}')\n",
    "# plt.savefig(f'Gallery/circa2/polar_gene_{region}.svg')"
   ]
  },
  {
   "cell_type": "code",
   "execution_count": null,
   "id": "0dd6a062",
   "metadata": {},
   "outputs": [],
   "source": [
    "mito_genes = [\"Acacb\",\"Acod1\",\"Agxt2\",\"Aldh1l2\",\"Arg2\",\"Asb9\",\"Bbc3\",\"Coq8a\",\"Cps1\",\"Cyp24a1\",\"Ddit4\",\"Decr1\",\"Dhfr\",\"Diablo\",\n",
    "'Elac2','Etnppl','Fam210b','Fmc1','Gcat','Gldc','Glud1','Gstk1','Hadhb','Hspa9','Idh2',\"Isca1\",\"Lrpprc\",\"Mrm3\",\"Mtif2\",\"Mtus1\",\n",
    "\"Nadk2\",\"Nfu1\",'Nubpl','Ogdh','Phykpl','Pmaip1','Pnkd','Ppp3r2','Ppp6c','Prorp','Rab32','Rsad1','Selenoo','Star','Tdh','Tufm',\n",
    "\"Vwa8\",\"Acaa2\",\"Glyat\",\"Hibadh\",\"Abcb8\",\"Afg\",'Bdh1','Chchd3','Cox7a1','Cox8b','Cpt2','Cyp11a1','Cyp11b2','Cyp27a1',\n",
    "'Dhodh','Immt','Mcu','Mcub','Mcur1','Micu1','Mpc1','Mpc2',\"Mtfp1\",\"Ndufa12\",\"Ndufaf6\",\"Ndufs1\",\"Ndufs4\",'Ndufv2',\"Opa1\",\"Phb2\",\n",
    "\"Pisd\",'Sdha','Sdhb','Sdhc','Sfxn1','Slc25a20','Slc25a22','Slc25a28','Slc25a31','Slc25a51','Slc8b1',\"Smdt1\",\"Timm50\",\"Ucp1\",\n",
    "\"Ucp3\",\"Aifm1\",\"Coa7\",\"Cpox\",\"Cyct\",\"Micu2\",\"Htra2\",\"Aldh2\",'Sod2','Acss1','Ak4','Aldh4a1','Dglucy','Fdx1','Grpel1','Hadh',\n",
    "'Hspd1','Maip1','Mmut','Ndufa9','Otc','Pde12','Pdk1','Pdk4','Pitrm1','Ppif','Prodh','Sardh','Sirt4','Twnk','Cs','Echs1','Ivd',\n",
    "'Got2','Bcl2l1','Bcl2l2','Cyp27b1','Nrp1','Sfxn3','Timmdc1','Acsl1','Acsl4','Bak1','Bcl2','Cpt1c','Fundc1','Gdap1','Gk','Gpam',\n",
    "'Gpat2','Hk2','Letmd1','Maoa','Maob','Mavs','Mfn1','Mfn2','Miga1','Miga2','Mtch2','Mtx1','Pgam5','Rhot2','Rmdn3','Synj2bp',\n",
    "'Vdac2','Vps13a','Acsl6','Cpt1a','Hk1','Mtch1','Pink1','Bad','Sirt5','Polg','Bnip3']\n"
   ]
  },
  {
   "cell_type": "code",
   "execution_count": null,
   "id": "c15db0d4",
   "metadata": {},
   "outputs": [],
   "source": [
    "import pandas as pd\n",
    "region = 'non-zero'\n",
    "df_all = pd.read_excel(f'data/cyc_analysis_nonzero_circa4.xlsx', sheet_name='sig_cyl_gene')\n",
    "\n",
    "# Data preparation\n",
    "df = pd.DataFrame(data=zip(df_all['CycID'], df_all['meta2d_phase']))\n",
    "df.columns = ['Gene','Phase']\n",
    "# df = df[df['Gene'].isin(mito_genes)]\n",
    "df['Radians'] = df['Phase'] / 24 * 2 * np.pi\n",
    "\n",
    "# Plot\n",
    "plt.figure(figsize=(6,6))\n",
    "ax = plt.subplot(111, polar=True)\n",
    "ax.set_theta_direction(-1)\n",
    "ax.set_theta_offset(np.pi / 2.0)\n",
    "ax.grid(True)\n",
    "\n",
    "ax.hist(df['Radians'], bins = 24,\n",
    "        #  color = 'green'\n",
    "         )\n",
    "\n",
    "ax.set_xticks(np.linspace(0, 2 * np.pi, 12, endpoint=False))\n",
    "ax.set_xticklabels(['0', '2', '4','6', '8', '10','12','14', '16','18', '20','22'])\n",
    "\n",
    "plt.title(f'Genes Phase in {region}')\n",
    "# plt.savefig(f'Gallery/circa2/polar_gene_{region}.svg')"
   ]
  }
 ],
 "metadata": {
  "kernelspec": {
   "display_name": "jupnot",
   "language": "python",
   "name": "python3"
  },
  "language_info": {
   "codemirror_mode": {
    "name": "ipython",
    "version": 3
   },
   "file_extension": ".py",
   "mimetype": "text/x-python",
   "name": "python",
   "nbconvert_exporter": "python",
   "pygments_lexer": "ipython3",
   "version": "3.10.12"
  }
 },
 "nbformat": 4,
 "nbformat_minor": 5
}
