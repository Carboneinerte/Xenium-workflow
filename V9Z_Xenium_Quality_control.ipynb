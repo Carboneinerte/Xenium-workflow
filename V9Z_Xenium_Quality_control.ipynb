{
 "cells": [
  {
   "cell_type": "markdown",
   "metadata": {},
   "source": [
    "# Descriptive statistics"
   ]
  },
  {
   "cell_type": "code",
   "execution_count": null,
   "metadata": {},
   "outputs": [],
   "source": [
    "# samples_ids = ['circa2-ZT01','circa2-ZT05','circa2-ZT09','circa2-ZT13','circa2-ZT17','circa2-ZT21',]\n",
    "# samples_ids = ['circa1-ZT01','circa1-ZT05','circa1-ZT09','circa1-ZT13','circa1-ZT17','circa1-ZT21',]\n",
    "# run_name = 'circa1'\n",
    "# path_to_data = 'F:\\Xenium\\Hugo'\n",
    "\n",
    "# samples_ids = ['circa2-ZT01','circa2-ZT05','circa2-ZT09','circa2-ZT13','circa2-ZT17','circa2-ZT21',]\n",
    "# # samples_ids = ['circa1-ZT01','circa1-ZT05','circa1-ZT09','circa1-ZT13','circa1-ZT17','circa1-ZT21',]\n",
    "# run_name = 'circa2'\n",
    "# path_to_data = 'D:\\Xenium'\n",
    "\n",
    "# samples_ids = ['circa3-ZT01','circa3-ZT05','circa3-ZT09','circa3-ZT13','circa3-ZT17','circa3-ZT21',]\n",
    "# path_to_data = 'F:\\Xenium\\Hugo\\circa3'\n",
    "# run_name = 'circa3'\n",
    "\n",
    "# samples_ids_Salk = ['circa4-Salk-ZT01','circa4-Salk-ZT05','circa4-Salk-ZT09','circa4-Salk-ZT13','circa4-Salk-ZT17','circa4-Salk-ZT21',]\n",
    "# run_name = 'circa4-Salk'\n",
    "# path_to_data = 'D:\\Xenium'\n",
    "\n",
    "# samples_ids_IGM = ['circa4-IGM-ZT01','circa4-IGM-ZT05','circa4-IGM-ZT09'\n",
    "#                    ,'circa4-IGM-ZT13','circa4-IGM-ZT17','circa4-IGM-ZT21',\n",
    "#                    ]\n",
    "# run_name = 'circa4-IGM'\n",
    "\n",
    "samples_ids_coro = ['LvR_78_ML17__20240321__212855',\"LvR_82_MH17-B__20240321__21285\", \"LvR_88_FH17__20240404__003359\",\"LvR_95_FH17__20240404__003359\",\"LvR_106_MH17__20240321__212855\",\"LvR_107_FL17__20240404__003359\" ]\n",
    "path_to_data_coro = 'I:\\Xenium\\Laura\\coronal'\n",
    "\n",
    "# samples_ids_saggi = ['CTRL-68-1__20240517__205823', 'CTRL-94-1__20240517__205823', 'WFF-64-1__20240517__205823',\n",
    "#                      'WFF-64-2__20240517__205823', 'WFF-66-1__20240517__205823', 'WFF-66-2__20240517__205823']\n",
    "# path_to_data_saggi = 'I:\\Xenium\\Laura\\saggital'\n",
    "# run_name = 'Laura'\n",
    "\n",
    "# samples_ids = ['circa4-Salk-ZT01','circa4-IGM-ZT01','circa4-Salk-ZT05','circa4-IGM-ZT05','circa4-Salk-ZT09','circa4-IGM-ZT09',\n",
    "#                     'circa4-Salk-ZT13','circa4-IGM-ZT13','circa4-Salk-ZT17','circa4-IGM-ZT17','circa4-Salk-ZT21','circa4-IGM-ZT21',\n",
    "#                     ]\n",
    "# path_to_data_IGM = 'D:\\Xenium'\n",
    "# run_name = 'circa4'\n",
    "\n",
    "samples_ids = [\"2505-1\", \"2505-2\", \"2670-1\",\"3159-1\",\"3160-1\",\"3160-2\",\n",
    "               \"3159-2\",\"3159-3\",\"3159-4\",\"3161-1\",\"3161-2\", \"3161-3\"\n",
    "              ]\n",
    "run_name = 'brain-panel'\n",
    "path_to_data_1 = 'D:\\Xenium'\n",
    "\n",
    "samples_ids_run1 = [\"2505-1\", \"2505-2\", \"2670-1\",\"3159-1\",\"3160-1\",\"3160-2\"]\n",
    "samples_ids_run2 = [\"3159-2\",\"3159-3\",\"3159-4\",\"3161-1\",\"3161-2\", \"3161-3\"]\n",
    "run_name = 'brain-panel'\n",
    "\n",
    "\n",
    "# samples_ids_arteries_CTRL = [\"CTRL_1_feb\", \"CTRL_1_LJI\", \"CTRL_2_LJI\"]\n",
    "# samples_ids_arteries_GCA =  [\"GCA_1_feb\", \"GCA_1_LJI\", \"GCA_2_LJI\"]\n",
    "# run_name = 'arteries-core'\n",
    "\n",
    "\n",
    "samples_ids = ['FF_Mouse_Brain_MultiSection_1_outs', 'FF_Mouse_Brain_MultiSection_2_outs',\n",
    "             'FFPE_wildtype_13_4_months_outs', 'Xenium_V1_mouse_Colon_FF_outs']\n",
    "path_to_data = 'H:\\\\FF10x_brain'\n",
    "\n",
    "\n",
    "# path_to_data = 'D:\\Xenium'\n",
    "# path_to_data = 'H:\\\\arteries'\n",
    "path_to_plot = 'Gallery'\n",
    "\n",
    "import os\n",
    "\n",
    "if not os.path.exists(f\"{path_to_plot}/\"):\n",
    "   os.makedirs(f\"{path_to_plot}/\")"
   ]
  },
  {
   "cell_type": "code",
   "execution_count": null,
   "metadata": {},
   "outputs": [],
   "source": [
    "from module.quality_control import desc_metrics\n",
    "\n",
    "desc_metrics(samples_ids = samples_ids,\n",
    "             path_to_data = path_to_data,\n",
    "             run_name = run_name,\n",
    "             reference = False,\n",
    "             plot_average=False,\n",
    "             path_to_plot= path_to_plot,\n",
    "             save_plot=False)"
   ]
  },
  {
   "cell_type": "code",
   "execution_count": null,
   "metadata": {},
   "outputs": [],
   "source": [
    "from module.quality_control import desc_metrics_double\n",
    "\n",
    "desc_metrics_double(samples_ids_1 = samples_ids_run1,\n",
    "                    samples_ids_2= samples_ids_run2,\n",
    "             path_to_data_1 = path_to_data_1,\n",
    "             path_to_data_2= path_to_data_1,\n",
    "             run_name = run_name,\n",
    "             reference = False,\n",
    "             path_to_plot= path_to_plot,\n",
    "             save_plot=False)"
   ]
  },
  {
   "cell_type": "markdown",
   "metadata": {},
   "source": [
    "# MapMyCells Correlation coefficient"
   ]
  },
  {
   "cell_type": "code",
   "execution_count": null,
   "metadata": {},
   "outputs": [],
   "source": [
    "# sample_1 = ['circa2-ZT01','circa2-ZT21', 'march-test', 'MB_test', 'test-prime']\n",
    "# sample_1 = ['circa2-ZT01','february-test', 'march-test', 'circa4-Salk-ZT01']\n",
    "# sample_1 = ['circa2-ZT01','circa3-ZT01', 'march-test', 'circa1_ZT1', 'MB_test']\n",
    "# sample_1 = ['circa2-ZT01','circa2-ZT21','run1-resegment']\n",
    "# sample_1 = ['circa2-ZT01','february-test', 'march-test',\"run1-resegment\",\n",
    "#             'circa4-IGM-ZT01','circa4-IGM-ZT05','circa4-IGM-ZT09','circa4-IGM-ZT13','circa4-IGM-ZT17','circa4-IGM-ZT21',\n",
    "#             'circa4-Salk-ZT01','circa4-Salk-ZT05','circa4-Salk-ZT09','circa4-Salk-ZT13','circa4-Salk-ZT17','circa4-Salk-ZT21'\n",
    "            # ]\n",
    "# sample_1 = ['circa2-ZT01','run1-resegment', '3159-2','3159-3', '3159-4','3161-1','3161-2', '3161-3']\n",
    "# sample_1 = ['circa2-ZT01','circa4-IGM-ZT01','saggital']\n",
    "samples_ids = ['resegment', 'saggital']\n",
    "\n",
    "path_to_plot = 'Gallery'\n",
    "\n",
    "import os\n",
    "\n",
    "if not os.path.exists(f\"{path_to_plot}/\"):\n",
    "   os.makedirs(f\"{path_to_plot}/\")\n",
    "            "
   ]
  },
  {
   "cell_type": "code",
   "execution_count": null,
   "metadata": {},
   "outputs": [],
   "source": [
    "from module.quality_control import plot_mcc_density\n",
    "\n",
    "plot_mcc_density(sample_1 = samples_ids,\n",
    "                 path_to_plot= path_to_plot,\n",
    "                 save_plot = False,\n",
    "                 )"
   ]
  },
  {
   "cell_type": "code",
   "execution_count": null,
   "metadata": {},
   "outputs": [],
   "source": []
  },
  {
   "cell_type": "markdown",
   "metadata": {},
   "source": [
    "# Scatter plot and correlation (2 samples comparison)"
   ]
  },
  {
   "cell_type": "code",
   "execution_count": null,
   "metadata": {},
   "outputs": [],
   "source": [
    "import pandas as pd\n",
    "import matplotlib.pyplot as plt\n",
    "# dir_ = '../data'\n",
    "dir_ = 'D:\\\\Xenium'"
   ]
  },
  {
   "cell_type": "code",
   "execution_count": null,
   "metadata": {},
   "outputs": [],
   "source": [
    "sample_CTRL = \"3159-1\"\n",
    "\n",
    "transcript_count_CTRL = pd.read_parquet(f'{dir_}/{sample_CTRL}/transcripts.parquet',\n",
    "                                         columns=['feature_name'],\n",
    "                                         filters = [(\"qv\", \">=\", 20.0)]\n",
    "                                         )\n",
    "\n",
    "transcript_count_CTRL = transcript_count_CTRL[(~transcript_count_CTRL['feature_name'].str.contains('_'))]"
   ]
  },
  {
   "cell_type": "code",
   "execution_count": null,
   "metadata": {},
   "outputs": [],
   "source": [
    "sample_TEST = \"3159-2\"\n",
    "\n",
    "transcript_count_TEST = pd.read_parquet(f'{dir_}/{sample_TEST}/transcripts.parquet',\n",
    "                                        columns=['feature_name'],\n",
    "                                        filters = [(\"qv\", \">=\", 20.0)]\n",
    "                                        )\n",
    "\n",
    "transcript_count_TEST = transcript_count_TEST[(~transcript_count_TEST['feature_name'].str.contains('_'))]"
   ]
  },
  {
   "cell_type": "code",
   "execution_count": null,
   "metadata": {},
   "outputs": [],
   "source": [
    "transcript_count_CTRL = transcript_count_CTRL['feature_name'].value_counts()\n",
    "transcript_count_CTRL = transcript_count_CTRL.sort_index()\n",
    "transcript_count_TEST = transcript_count_TEST['feature_name'].value_counts()\n",
    "transcript_count_TEST = transcript_count_TEST.sort_index()"
   ]
  },
  {
   "cell_type": "code",
   "execution_count": null,
   "metadata": {},
   "outputs": [],
   "source": [
    "d = {'CTRL' : transcript_count_CTRL.values, 'TEST' : transcript_count_TEST.values}\n",
    "df = pd.DataFrame(data = d, index = transcript_count_TEST.index)\n",
    "df['Percent'] = df['CTRL'] / df['TEST']"
   ]
  },
  {
   "cell_type": "code",
   "execution_count": null,
   "metadata": {},
   "outputs": [],
   "source": [
    "df.sort_values(by='TEST').tail(10),df.sort_values(by='TEST').head(10)"
   ]
  },
  {
   "cell_type": "code",
   "execution_count": null,
   "metadata": {},
   "outputs": [],
   "source": [
    "plt.scatter(x=range(len(df['Percent'])), y = df['Percent'].sort_values())\n",
    "plt.hlines(y=1, xmin=0, xmax=len(df['Percent']))\n"
   ]
  },
  {
   "cell_type": "code",
   "execution_count": null,
   "metadata": {},
   "outputs": [],
   "source": [
    "from scipy import stats\n",
    "\n",
    "stat_ = stats.pearsonr(x=transcript_count_CTRL, y = transcript_count_TEST)\n",
    "\n",
    "import matplotlib.pyplot as plt\n",
    "\n",
    "max_x = max(transcript_count_CTRL)\n",
    "max_y = max(transcript_count_TEST)\n",
    "\n",
    "plt.scatter(x=transcript_count_CTRL, y = transcript_count_TEST, s=50, alpha = 0.50, color = 'grey', edgecolors='black')\n",
    "plt.xlabel(sample_CTRL)\n",
    "plt.ylabel(sample_TEST)\n",
    "plt.plot([0, max_x], [0, max_y], linestyle = 'dashed', color = 'black', alpha = 0.24)\n",
    "plt.title(f'Spearson correlation : {round(stat_[0],3)}')\n",
    "# plt.savefig(f'/media/volume/volume_spatial/hugo/notebook/plot/correlation_scatter/{sample_CTRL}_v_{sample_TEST}_scatter_correlation.svg')"
   ]
  },
  {
   "cell_type": "code",
   "execution_count": null,
   "metadata": {},
   "outputs": [],
   "source": [
    "### Check the difference of rank between genes\n",
    "\n",
    "CTRL_df = pd.DataFrame(transcript_count_CTRL)\n",
    "CTRL_df = CTRL_df.sort_values(by='count', ascending=False)\n",
    "CTRL_df['rank'] = range(len(CTRL_df))\n",
    "CTRL_df['rank'] +=1\n",
    "ctrl_dict = dict(zip(CTRL_df.index, CTRL_df['rank']))\n",
    "\n",
    "\n",
    "TEST_df = pd.DataFrame(transcript_count_TEST)\n",
    "TEST_df = TEST_df.sort_values(by='count', ascending=False)\n",
    "TEST_df['rank'] = range(len(TEST_df))\n",
    "TEST_df['rank'] +=1\n",
    "test_dict = dict(zip(TEST_df.index, TEST_df['rank']))"
   ]
  },
  {
   "cell_type": "code",
   "execution_count": null,
   "metadata": {},
   "outputs": [],
   "source": [
    "CTRL_genes = set(transcript_count_CTRL.index)\n",
    "TEST_genes = set(transcript_count_TEST.index)\n",
    "common_genes_list = list(CTRL_genes.intersection(TEST_genes))"
   ]
  },
  {
   "cell_type": "code",
   "execution_count": null,
   "metadata": {},
   "outputs": [],
   "source": [
    "temp_CTRL = []\n",
    "temp_TEST = []\n",
    "for gene in common_genes_list:\n",
    "    temp_CTRL.append(transcript_count_CTRL[gene])\n",
    "    temp_TEST.append(transcript_count_TEST[gene])"
   ]
  },
  {
   "cell_type": "code",
   "execution_count": null,
   "metadata": {},
   "outputs": [],
   "source": [
    "d = {'CTRL' : temp_CTRL, 'TEST' : temp_TEST}\n",
    "df = pd.DataFrame(data = d, index = common_genes_list)\n",
    "\n",
    "\n",
    "df['rank_CTRL'] = df.index.map(ctrl_dict)\n",
    "df['rank_TEST'] = df.index.map(test_dict)\n",
    "df['diff_rank'] = abs(df['rank_CTRL'] - df['rank_TEST'])\n",
    "\n",
    "df.sort_values(by='diff_rank').tail(10),df.sort_values(by='CTRL').tail(10)"
   ]
  },
  {
   "cell_type": "code",
   "execution_count": null,
   "metadata": {},
   "outputs": [],
   "source": [
    "plt.hist(df['diff_rank'], bins = 100)\n",
    "# plt.vlines(x=100, ymin=0, ymax=300, color = \"black\", label='100')\n",
    "plt.legend()\n",
    "plt.title(f'Distribution of gene rank difference ({sample_CTRL} vs {sample_TEST})')\n",
    "# df.sort_values(by='diff_rank')['diff_rank'].value_counts()"
   ]
  },
  {
   "cell_type": "markdown",
   "metadata": {},
   "source": [
    "# Multi-sample Transcript correlation (one reference)"
   ]
  },
  {
   "cell_type": "code",
   "execution_count": null,
   "metadata": {},
   "outputs": [],
   "source": [
    "### Use Matrix correlation for better multi-sample comparison ###"
   ]
  },
  {
   "cell_type": "code",
   "execution_count": null,
   "metadata": {},
   "outputs": [],
   "source": [
    "import pandas as pd"
   ]
  },
  {
   "cell_type": "code",
   "execution_count": null,
   "metadata": {},
   "outputs": [],
   "source": [
    "dir_notebook = '/media/volume/volume_spatial/hugo/notebook'\n",
    "\n",
    "# # ### circa2_\n",
    "samples = ['circa2-ZT01','circa2-ZT05','circa2-ZT09','circa2-ZT13','circa2-ZT17','circa2-ZT21']\n",
    "samples_ids = ['circa2_ZT01','circa2_ZT05','circa2_ZT09','circa2_ZT13','circa2_ZT17','circa2_ZT21',]\n",
    "name_dir = 'circa2'\n",
    "\n",
    "# samples = [\"S1_Region1\", \"S1_Region2\", \"S2_Region1\",\"S2_Region2\"]\n",
    "# samples_ids = [\"S1-Region1\", \"S1-Region2\", \"S2-Region1\",\"S2-Region2\"]\n",
    "# name_dir = \"last_test\"\n",
    "\n",
    "# dir_ = {'circa2-ZT01' : \"/media/volume/volume_spatial/hugo/data\",\n",
    "#         'circa2-ZT05' : \"/media/volume/volume_spatial/hugo/data\",\n",
    "#         'circa2-ZT09' : \"/media/volume/volume_spatial/hugo/data\",\n",
    "#         'circa2-ZT13' : \"/media/volume/volume_spatial/hugo/data\",\n",
    "#         'circa2-ZT17' : \"/media/volume/volume_spatial/hugo/data\",\n",
    "#         'circa2-ZT21' : \"/media/volume/volume_spatial/hugo/data\",\n",
    "#         \"S1_Region1\" : '/media/volume/volume_spatial/hugo/data',\n",
    "#         \"S1_Region2\" : '/media/volume/volume_spatial/hugo/data',\n",
    "#         \"S2_Region1\" : '/media/volume/volume_spatial/hugo/data',\n",
    "#         \"S2_Region2\" : '/media/volume/volume_spatial/hugo/data',\n",
    "#         \"3159-1\" : '/media/volume/volume_spatial/hugo/data',\n",
    "#         \"3160-1\" : '/media/volume/volume_spatial/hugo/data'\n",
    "#        }\n",
    "\n",
    "dir_ = \"/media/volume/volume_spatial/hugo/data\""
   ]
  },
  {
   "cell_type": "code",
   "execution_count": null,
   "metadata": {},
   "outputs": [],
   "source": [
    "# samples = ['circa2-ZT01','circa2-ZT05','circa2-ZT09','circa2-ZT13','circa2-ZT17','circa2-ZT21']\n",
    "# samples_ids = ['circa2_ZT01','circa2_ZT05','circa2_ZT09','circa2_ZT13','circa2_ZT17','circa2_ZT21',]\n",
    "\n",
    "samples = ['3159-2', \"3160-1\", \"3159-1\", \"3161-1\",]\n",
    "samples_ids = ['3159-2', \"3160-1\", \"3159-1\", \"3161-1\",]\n",
    "dir_ = 'D:\\\\Xenium'\n",
    "\n",
    "# samples_ids = ['circa4-Salk-ZT01','circa4-Salk-ZT05','circa4-Salk-ZT09',\n",
    "#                'circa4-Salk-ZT13','circa4-Salk-ZT17','circa4-Salk-ZT21',\n",
    "#                'circa4-IGM-ZT01','circa4-IGM-ZT05','circa4-IGM-ZT09',\n",
    "#                'circa4-IGM-ZT13','circa4-IGM-ZT17','circa4-IGM-ZT21',]\n",
    "\n",
    "# samples = ['circa4-Salk-ZT01','circa4-Salk-ZT05','circa4-Salk-ZT09',\n",
    "#                'circa4-Salk-ZT13','circa4-Salk-ZT17','circa4-Salk-ZT21',\n",
    "#                'circa4-IGM-ZT01','circa4-IGM-ZT05','circa4-IGM-ZT09',\n",
    "#                'circa4-IGM-ZT13','circa4-IGM-ZT17','circa4-IGM-ZT21',]\n",
    "\n",
    "\n",
    "\n",
    "def top_genes_():\n",
    "    list_ = []\n",
    "    for sample, sample_id in zip(samples, samples_ids):\n",
    "        transcript_count = pd.read_parquet(f'{dir_}/{sample}/transcripts.parquet')\n",
    "\n",
    "        transcript_count = transcript_count[(~transcript_count['feature_name'].str.contains('_'))\n",
    "                                            & (transcript_count['qv']>=20)\n",
    "                                            ]\n",
    "        transcript_count = transcript_count['feature_name'].value_counts()\n",
    "        transcript_count = transcript_count.sort_index()\n",
    "        list_.append(transcript_count)\n",
    "\n",
    "    return list_\n",
    "\n",
    "def top_genes_assigned():\n",
    "    list_ = []\n",
    "    for sample, sample_id in zip(samples, samples_ids):\n",
    "        transcript_count = pd.read_parquet(f'{dir_}/{sample}/transcripts.parquet')\n",
    "\n",
    "        transcript_count = transcript_count[(~transcript_count['feature_name'].str.contains('_'))\n",
    "                                            & (transcript_count['qv']>=20)\n",
    "                                            & (transcript_count['cell_id'] != 'UNASSIGNED')\n",
    "                                            ]\n",
    "        transcript_count = transcript_count['feature_name'].value_counts()\n",
    "        transcript_count = transcript_count.sort_index()\n",
    "        list_.append(transcript_count)\n",
    "\n",
    "    return list_\n",
    "        "
   ]
  },
  {
   "cell_type": "code",
   "execution_count": null,
   "metadata": {},
   "outputs": [],
   "source": [
    "test = top_genes_()"
   ]
  },
  {
   "cell_type": "code",
   "execution_count": null,
   "metadata": {},
   "outputs": [],
   "source": [
    "from scipy import stats\n",
    "\n",
    "ref = 0\n",
    "\n",
    "def spearcor_(test_list):\n",
    "    nb_sample = len(test_list)\n",
    "    dict_list = {}\n",
    "    for n in range(0,nb_sample):\n",
    "        stat_ = stats.pearsonr(x=test_list[ref].sort_index(), y = test_list[n].sort_index())\n",
    "        dict_temp = {samples[n]:round(stat_[0],3)}\n",
    "        dict_list.update(dict_temp)\n",
    "\n",
    "    return dict_list"
   ]
  },
  {
   "cell_type": "code",
   "execution_count": null,
   "metadata": {},
   "outputs": [],
   "source": [
    "dict_list = spearcor_(test)"
   ]
  },
  {
   "cell_type": "code",
   "execution_count": null,
   "metadata": {},
   "outputs": [],
   "source": [
    "import matplotlib.pyplot as plt\n",
    "def plot_coor(dict_list, save_fig = False):\n",
    "    x = list(dict_list.keys())\n",
    "    y = list(dict_list.values())\n",
    "    low = min(y) - 0.05\n",
    "    high = max(y) + 0.05\n",
    "    plt.bar(x,y, color = \"lightblue\", edgecolor = 'black')\n",
    "    plt.ylim(low,high)\n",
    "    plt.hlines(y=1, xmin=-0.5,xmax=12.5, linestyles='dashed', colors = 'black')\n",
    "    plt.title(f'Spearman correlation of genes order compared to {samples_ids[ref]}')\n",
    "    plt.tick_params(axis = \"x\", rotation=90, pad = -90, direction = \"in\")\n",
    "    if save_fig:\n",
    "        plt.savefig(f'plot/spearman_correlation_ref_{samples_ids[ref]}.svg')"
   ]
  },
  {
   "cell_type": "code",
   "execution_count": null,
   "metadata": {},
   "outputs": [],
   "source": [
    "plot_coor(dict_list)"
   ]
  },
  {
   "cell_type": "markdown",
   "metadata": {},
   "source": [
    "# Matrix SCC multi-sample"
   ]
  },
  {
   "cell_type": "code",
   "execution_count": null,
   "metadata": {},
   "outputs": [],
   "source": [
    "# samples = samples_ids = ['circa2-ZT01','circa2-ZT05','circa2-ZT09',\n",
    "#                          'circa2-ZT13','circa2-ZT17','circa2-ZT21',\n",
    "#                          'circa4-Salk-ZT01','circa4-Salk-ZT05','circa4-Salk-ZT09',\n",
    "#                          'circa4-Salk-ZT13','circa4-Salk-ZT17','circa4-Salk-ZT21',\n",
    "#                          'circa4-IGM-ZT01','circa4-IGM-ZT05','circa4-IGM-ZT09',\n",
    "#                          'circa4-IGM-ZT13','circa4-IGM-ZT17','circa4-IGM-ZT21',\n",
    "#                          ]\n",
    "\n",
    "samples = samples_ids = ['3159-1', '2670-1', '3160-1','3160-2', '2505-1', '2505-2',\n",
    "                         '3159-2', '3159-3', '3159-4', '3161-1', '3161-2', '3161-3',]\n",
    "\n",
    "\n",
    "name_dir = 'circa2'\n",
    "dir_ = \"/media/volume/volume_spatial/hugo/data\"\n",
    "dir_ = 'D:\\\\Xenium'"
   ]
  },
  {
   "cell_type": "code",
   "execution_count": null,
   "metadata": {},
   "outputs": [],
   "source": [
    "import numpy as np\n",
    "import pandas as pd\n",
    "from scipy import stats\n",
    "\n",
    "d = {}\n",
    "\n",
    "for sample in samples:\n",
    "    d_temp = {sample : np.zeros(len(samples))}\n",
    "    d.update(d_temp)\n",
    "\n",
    "df = pd.DataFrame(d, index = samples)"
   ]
  },
  {
   "cell_type": "code",
   "execution_count": null,
   "metadata": {},
   "outputs": [],
   "source": [
    "def top_genes_():\n",
    "    list_ = []\n",
    "    for sample, sample_id in zip(samples, samples_ids):\n",
    "        transcript_count = pd.read_parquet(f'{dir_}/{sample}/transcripts.parquet', columns=['feature_name'], filters = [(\"qv\", \">=\", 20.0)])\n",
    "        transcript_count = transcript_count[(~transcript_count['feature_name'].str.contains('_')) \n",
    "                                            # & (transcript_count['qv']>=20) \n",
    "                                            # & (transcript_count['cell_id']!= \"UNASSIGNED\")\n",
    "                                            ]\n",
    "        transcript_count = transcript_count['feature_name'].value_counts()\n",
    "        transcript_count = transcript_count.sort_index()\n",
    "        # transcript_count = transcript_count.isin(clockgenelist)\n",
    "        list_.append(transcript_count)\n",
    "\n",
    "    return list_\n",
    "\n",
    "\n",
    "def spearcor_(test_list):\n",
    "    nb_sample = len(test_list)\n",
    "    dict_list = {}\n",
    "    for n in range(0,nb_sample):\n",
    "        stat_ = stats.pearsonr(x=test_list[ref].sort_index(), y = test_list[n].sort_index())\n",
    "        dict_temp = {samples[n]:round(stat_[0],3)}\n",
    "        dict_list.update(dict_temp)\n",
    "    return dict_list"
   ]
  },
  {
   "cell_type": "code",
   "execution_count": null,
   "metadata": {},
   "outputs": [],
   "source": [
    "test_list = top_genes_()"
   ]
  },
  {
   "cell_type": "code",
   "execution_count": null,
   "metadata": {},
   "outputs": [],
   "source": [
    "test_list[0]"
   ]
  },
  {
   "cell_type": "code",
   "execution_count": null,
   "metadata": {},
   "outputs": [],
   "source": [
    "correlation_matrix = pd.DataFrame(index=samples, columns=samples)\n",
    "\n",
    "for a, sample_ref in enumerate(samples):\n",
    "\n",
    "   for b, sample_test in enumerate(samples):\n",
    "      CTRL_genes = set(test_list[a].index)\n",
    "      TEST_genes = set(test_list[b].index)\n",
    "      common_genes_list = list(CTRL_genes.intersection(TEST_genes))\n",
    "      temp_CTRL = []\n",
    "      temp_TEST = []\n",
    "      for gene in common_genes_list:\n",
    "          temp_CTRL.append(test_list[a][gene])\n",
    "          temp_TEST.append(test_list[b][gene])\n",
    "      stat_ = stats.pearsonr(x=temp_CTRL, y = temp_TEST)\n",
    "      \n",
    "      df[sample_ref][sample_test] = round(stat_[0],3)\n",
    "\n",
    "     \n",
    "\n",
    "\n",
    "        "
   ]
  },
  {
   "cell_type": "code",
   "execution_count": null,
   "metadata": {},
   "outputs": [],
   "source": [
    "df.min().min()"
   ]
  },
  {
   "cell_type": "code",
   "execution_count": null,
   "metadata": {},
   "outputs": [],
   "source": [
    "import seaborn as sns\n",
    "import matplotlib.pyplot as plt\n",
    "\n",
    "\n",
    "# matrix = np.triu(df)\n",
    "# np.fill_diagonal(matrix, False)\n",
    "\n",
    "plt.figure(figsize=(8,8))\n",
    "sns.heatmap(df, annot=True, cmap=\"YlGnBu\", fmt=\".2f\", cbar = False,\n",
    "            #  mask = matrix\n",
    "            )\n",
    "plt.tick_params(axis='y',rotation= 0)\n",
    "\n",
    "# plt.savefig('Gallery/pearson_correlation_matrix_circa.svg')\n"
   ]
  }
 ],
 "metadata": {
  "kernelspec": {
   "display_name": "Python 3",
   "language": "python",
   "name": "python3"
  },
  "language_info": {
   "codemirror_mode": {
    "name": "ipython",
    "version": 3
   },
   "file_extension": ".py",
   "mimetype": "text/x-python",
   "name": "python",
   "nbconvert_exporter": "python",
   "pygments_lexer": "ipython3",
   "version": "3.11.3"
  }
 },
 "nbformat": 4,
 "nbformat_minor": 2
}
